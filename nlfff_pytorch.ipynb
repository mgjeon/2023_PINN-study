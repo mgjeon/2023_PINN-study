{
 "cells": [
  {
   "cell_type": "code",
   "execution_count": 1,
   "metadata": {},
   "outputs": [],
   "source": [
    "import os\n",
    "os.environ[\"CUDA_DEVICE_ORDER\"]=\"PCI_BUS_ID\"\n",
    "os.environ[\"CUDA_VISIBLE_DEVICES\"]= \"0\"\n",
    "\n",
    "import numpy as np\n",
    "b = np.load(\"b.npy\")\n",
    "\n",
    "height = 64\n",
    "spatial_norm = 32\n",
    "b_norm = 100"
   ]
  },
  {
   "cell_type": "code",
   "execution_count": 2,
   "metadata": {},
   "outputs": [],
   "source": [
    "b_bottom = b[:, :, 0, :]\n",
    "\n",
    "Nx, Ny, _ = b_bottom.shape\n",
    "Nz = height\n",
    "\n",
    "cube_shape = (Nx, Ny, Nz)\n",
    "\n",
    "def coords(xbounds, ybounds, zbounds):\n",
    "    return np.stack(np.mgrid[xbounds[0]:xbounds[1]+1, ybounds[0]:ybounds[1]+1, zbounds[0]:zbounds[1]+1], axis=-1).reshape(-1, 3)\n",
    "\n",
    "bottom_coords = coords((0, Nx-1), (0, Ny-1), (0, 0))\n",
    "bottom_values = b_bottom.reshape(-1, 3)\n",
    "\n",
    "# top_lateral_coords = [coords((0, Nx-1), (0, Ny-1), (Nz-1, Nz-1)),\n",
    "#                       coords((0, 0), (0, Ny-1), (0, Nz-1)),\n",
    "#                       coords((Nx-1, Nx-1), (0, Ny-1), (0, Nz-1)),\n",
    "#                       coords((0, Nx-1), (0, 0), (0, Nz-1)),\n",
    "#                       coords((0, Nx-1), (Ny-1, Ny-1), (0, Nz-1))]\n",
    "\n",
    "# top_lateral BC +- 1 normal!\n",
    "top_lateral_coords = [coords((0, Nx-1), (0, Ny-1), (Nz-2, Nz)),\n",
    "                      coords((-1, 1), (0, Ny-1), (0, Nz-1)),\n",
    "                      coords((Nx-2, Nx), (0, Ny-1), (0, Nz-1)),\n",
    "                      coords((0, Nx-1), (-1, 1), (0, Nz-1)),\n",
    "                      coords((0, Nx-1), (Ny-2, Ny), (0, Nz-1))]"
   ]
  },
  {
   "cell_type": "code",
   "execution_count": 3,
   "metadata": {},
   "outputs": [],
   "source": [
    "r_top_lateral = np.concatenate(top_lateral_coords)\n",
    "r_bottom = bottom_coords\n",
    "bz_bottom = bottom_values[:, 2]"
   ]
  },
  {
   "cell_type": "code",
   "execution_count": 4,
   "metadata": {},
   "outputs": [],
   "source": [
    "c = np.array([[0, 0, 1/np.sqrt(2*np.pi)]])\n",
    "denominator_vector = r_top_lateral[:, None] - r_bottom[None, :] + c[None, :]\n",
    "denominator = np.sqrt(np.sum(denominator_vector**2, -1))\n",
    "potential_numpy = (1/(2*np.pi))*np.sum((bz_bottom[None, :] / denominator), -1)"
   ]
  },
  {
   "cell_type": "code",
   "execution_count": 20,
   "metadata": {},
   "outputs": [
    {
     "name": "stderr",
     "output_type": "stream",
     "text": [
      "Potential Boundary:  42%|████▏     | 26/62 [00:00<00:00, 137.95it/s]"
     ]
    },
    {
     "name": "stdout",
     "output_type": "stream",
     "text": [
      "torch.Size([4096, 1])\n",
      "torch.Size([1, 1, 3])\n",
      "torch.Size([4096, 1])\n",
      "torch.Size([1, 1, 3])\n",
      "torch.Size([4096, 1])\n",
      "torch.Size([1, 1, 3])\n",
      "torch.Size([4096, 1])\n",
      "torch.Size([1, 1, 3])\n",
      "torch.Size([4096, 1])\n",
      "torch.Size([1, 1, 3])\n",
      "torch.Size([4096, 1])\n",
      "torch.Size([1, 1, 3])\n",
      "torch.Size([4096, 1])\n",
      "torch.Size([1, 1, 3])\n",
      "torch.Size([4096, 1])\n",
      "torch.Size([1, 1, 3])\n",
      "torch.Size([4096, 1])\n",
      "torch.Size([1, 1, 3])\n",
      "torch.Size([4096, 1])\n",
      "torch.Size([1, 1, 3])\n",
      "torch.Size([4096, 1])\n",
      "torch.Size([1, 1, 3])\n",
      "torch.Size([4096, 1])\n",
      "torch.Size([1, 1, 3])\n",
      "torch.Size([4096, 1])\n",
      "torch.Size([1, 1, 3])\n",
      "torch.Size([4096, 1])\n",
      "torch.Size([1, 1, 3])\n",
      "torch.Size([4096, 1])\n",
      "torch.Size([1, 1, 3])\n",
      "torch.Size([4096, 1])\n",
      "torch.Size([1, 1, 3])\n",
      "torch.Size([4096, 1])\n",
      "torch.Size([1, 1, 3])\n",
      "torch.Size([4096, 1])\n",
      "torch.Size([1, 1, 3])\n",
      "torch.Size([4096, 1])\n",
      "torch.Size([1, 1, 3])\n",
      "torch.Size([4096, 1])\n",
      "torch.Size([1, 1, 3])\n",
      "torch.Size([4096, 1])\n",
      "torch.Size([1, 1, 3])\n",
      "torch.Size([4096, 1])\n",
      "torch.Size([1, 1, 3])\n",
      "torch.Size([4096, 1])\n",
      "torch.Size([1, 1, 3])\n",
      "torch.Size([4096, 1])\n",
      "torch.Size([1, 1, 3])\n",
      "torch.Size([4096, 1])\n",
      "torch.Size([1, 1, 3])\n",
      "torch.Size([4096, 1])\n",
      "torch.Size([1, 1, 3])\n",
      "torch.Size([4096, 1])\n",
      "torch.Size([1, 1, 3])\n",
      "torch.Size([4096, 1])\n",
      "torch.Size([1, 1, 3])\n",
      "torch.Size([4096, 1])\n",
      "torch.Size([1, 1, 3])\n",
      "torch.Size([4096, 1])\n",
      "torch.Size([1, 1, 3])\n",
      "torch.Size([4096, 1])\n",
      "torch.Size([1, 1, 3])\n",
      "torch.Size([4096, 1])\n",
      "torch.Size([1, 1, 3])\n",
      "torch.Size([4096, 1])\n",
      "torch.Size([1, 1, 3])\n",
      "torch.Size([4096, 1])\n",
      "torch.Size([1, 1, 3])\n",
      "torch.Size([4096, 1])\n",
      "torch.Size([1, 1, 3])\n",
      "torch.Size([4096, 1])\n",
      "torch.Size([1, 1, 3])\n",
      "torch.Size([4096, 1])\n",
      "torch.Size([1, 1, 3])\n",
      "torch.Size([4096, 1])\n",
      "torch.Size([1, 1, 3])\n",
      "torch.Size([4096, 1])\n",
      "torch.Size([1, 1, 3])\n",
      "torch.Size([4096, 1])\n",
      "torch.Size([1, 1, 3])\n",
      "torch.Size([4096, 1])\n",
      "torch.Size([1, 1, 3])\n",
      "torch.Size([4096, 1])\n",
      "torch.Size([1, 1, 3])\n",
      "torch.Size([4096, 1])\n",
      "torch.Size([1, 1, 3])\n",
      "torch.Size([4096, 1])\n",
      "torch.Size([1, 1, 3])\n",
      "torch.Size([4096, 1])\n",
      "torch.Size([1, 1, 3])\n",
      "torch.Size([4096, 1])\n",
      "torch.Size([1, 1, 3])\n",
      "torch.Size([4096, 1])\n",
      "torch.Size([1, 1, 3])\n",
      "torch.Size([4096, 1])\n",
      "torch.Size([1, 1, 3])\n",
      "torch.Size([4096, 1])\n",
      "torch.Size([1, 1, 3])\n",
      "torch.Size([4096, 1])\n",
      "torch.Size([1, 1, 3])\n",
      "torch.Size([4096, 1])\n",
      "torch.Size([1, 1, 3])\n",
      "torch.Size([4096, 1])\n",
      "torch.Size([1, 1, 3])\n",
      "torch.Size([4096, 1])\n",
      "torch.Size([1, 1, 3])\n",
      "torch.Size([4096, 1])\n",
      "torch.Size([1, 1, 3])\n",
      "torch.Size([4096, 1])\n",
      "torch.Size([1, 1, 3])\n",
      "torch.Size([4096, 1])\n",
      "torch.Size([1, 1, 3])\n",
      "torch.Size([4096, 1])\n",
      "torch.Size([1, 1, 3])\n",
      "torch.Size([4096, 1])\n",
      "torch.Size([1, 1, 3])\n",
      "torch.Size([4096, 1])\n",
      "torch.Size([1, 1, 3])\n",
      "torch.Size([4096, 1])\n",
      "torch.Size([1, 1, 3])\n",
      "torch.Size([4096, 1])\n",
      "torch.Size([1, 1, 3])\n",
      "torch.Size([4096, 1])\n",
      "torch.Size([1, 1, 3])\n"
     ]
    },
    {
     "name": "stderr",
     "output_type": "stream",
     "text": [
      "Potential Boundary: 100%|██████████| 62/62 [00:00<00:00, 189.33it/s]\n"
     ]
    }
   ],
   "source": [
    "import torch\n",
    "from torch import nn\n",
    "from torch.utils.data import DataLoader, TensorDataset\n",
    "from tqdm import tqdm\n",
    "\n",
    "device = torch.device('cuda') if torch.cuda.is_available() else torch.device('cpu')\n",
    "\n",
    "class PotentialModel(nn.Module):\n",
    "\n",
    "    def __init__(self, b_n, r_p):\n",
    "        super().__init__()\n",
    "        self.register_buffer('b_n', b_n)\n",
    "        self.register_buffer('r_p', r_p)\n",
    "        c = np.array([[0, 0, 1/np.sqrt(2*np.pi)]])\n",
    "        c = torch.tensor(c, dtype=torch.float32)\n",
    "        self.register_buffer('c', c)\n",
    "\n",
    "    def forward(self, r):\n",
    "        v1 = self.b_n[:, None]\n",
    "        print(v1.shape)\n",
    "        v2 = 2 * np.pi * ((r[None, :] - self.r_p[:, None] + self.c[None]) ** 2).sum(-1) ** 0.5\n",
    "        potential = torch.sum(v1 / v2, dim=0)\n",
    "        return potential\n",
    "    \n",
    "with torch.no_grad():\n",
    "    b_n = torch.tensor(bz_bottom, dtype=torch.float32)\n",
    "    r_p = torch.tensor(r_bottom, dtype=torch.float32)\n",
    "    model = nn.DataParallel(PotentialModel(b_n, r_p)).to(device)\n",
    "\n",
    "    flat_coords = torch.tensor(r_top_lateral, dtype=torch.float32)\n",
    "\n",
    "    potential = []\n",
    "    for coord, in tqdm(DataLoader(TensorDataset(flat_coords), batch_size=1000, num_workers=2),\n",
    "                        desc='Potential Boundary'):\n",
    "        coord = coord.to(device)\n",
    "        p_batch = model(coord)\n",
    "        potential += [p_batch.cpu()]\n",
    "\n",
    "potential = torch.cat(potential).numpy()"
   ]
  },
  {
   "cell_type": "code",
   "execution_count": 16,
   "metadata": {},
   "outputs": [
    {
     "data": {
      "text/plain": [
       "tensor([7.3860, 7.3316, 7.2765,  ..., 7.3935, 7.3410, 7.2877])"
      ]
     },
     "execution_count": 16,
     "metadata": {},
     "output_type": "execute_result"
    }
   ],
   "source": [
    "torch.cat(potential)"
   ]
  },
  {
   "cell_type": "code",
   "execution_count": 6,
   "metadata": {},
   "outputs": [
    {
     "data": {
      "text/plain": [
       "array([7.38598259, 7.33160802, 7.27652588, 7.43107096, 7.37563895,\n",
       "       7.31950322, 7.47625497, 7.41972848, 7.36250503, 7.5215176 ])"
      ]
     },
     "execution_count": 6,
     "metadata": {},
     "output_type": "execute_result"
    }
   ],
   "source": [
    "potential_numpy[:10]"
   ]
  },
  {
   "cell_type": "code",
   "execution_count": 7,
   "metadata": {},
   "outputs": [
    {
     "data": {
      "text/plain": [
       "array([7.385983 , 7.331608 , 7.276526 , 7.431071 , 7.37564  , 7.319504 ,\n",
       "       7.4762526, 7.419729 , 7.362506 , 7.521517 ], dtype=float32)"
      ]
     },
     "execution_count": 7,
     "metadata": {},
     "output_type": "execute_result"
    }
   ],
   "source": [
    "potential[:10]"
   ]
  },
  {
   "cell_type": "code",
   "execution_count": 9,
   "metadata": {},
   "outputs": [
    {
     "name": "stderr",
     "output_type": "stream",
     "text": [
      "Potential Boundary: 100%|██████████| 1/1 [00:00<00:00,  1.85it/s]\n"
     ]
    }
   ],
   "source": [
    "import torch\n",
    "from torch import nn\n",
    "from torch.utils.data import DataLoader, TensorDataset\n",
    "from tqdm import tqdm\n",
    "class PotentialModel(nn.Module):\n",
    "\n",
    "    def __init__(self, b_n, r_p):\n",
    "        super().__init__()\n",
    "        self.register_buffer('b_n', b_n)\n",
    "        self.register_buffer('r_p', r_p)\n",
    "        c = np.array([[0, 0, 1/np.sqrt(2*np.pi)]])\n",
    "        c = torch.tensor(c, dtype=torch.float32)\n",
    "        self.register_buffer('c', c)\n",
    "\n",
    "    def forward(self, r):\n",
    "        v1 = self.b_n[None, :]\n",
    "        v2 = 2 * np.pi * ((r[:, None] - self.r_p[None, :] + self.c[None, :]) ** 2).sum(-1) ** 0.5\n",
    "        potential = torch.sum(v1 / v2, dim=0)\n",
    "        return potential\n",
    "    \n",
    "pf_batch_size = int(1024 * 512 ** 2 / np.prod(b_bottom.shape[:2]))\n",
    "device = torch.device('cuda') if torch.cuda.is_available() else torch.device('cpu')\n",
    "with torch.no_grad():\n",
    "    b_n = torch.tensor(bz_bottom, dtype=torch.float32)\n",
    "    r_p = torch.tensor(r_bottom, dtype=torch.float32)\n",
    "    model = nn.DataParallel(PotentialModel(b_n, r_p)).to(device)\n",
    "\n",
    "    flat_coords = torch.tensor(r_top_lateral, dtype=torch.float32, )\n",
    "\n",
    "    potential = []\n",
    "    for coord, in tqdm(DataLoader(TensorDataset(flat_coords), batch_size=pf_batch_size, num_workers=2),\n",
    "                        desc='Potential Boundary'):\n",
    "        coord = coord.to(device)\n",
    "        print(coord)\n",
    "        p_batch = model(coord)\n",
    "        print(p_batch)\n",
    "        potential += [p_batch.cpu()]\n",
    "\n",
    "potential = torch.cat(potential).numpy()"
   ]
  },
  {
   "cell_type": "code",
   "execution_count": 10,
   "metadata": {},
   "outputs": [
    {
     "data": {
      "text/plain": [
       "array([-385.80853, -406.6559 , -425.59357, -444.3722 , -462.82825,\n",
       "       -480.83823, -498.30423, -515.13776, -531.2613 , -546.61127],\n",
       "      dtype=float32)"
      ]
     },
     "execution_count": 10,
     "metadata": {},
     "output_type": "execute_result"
    }
   ],
   "source": [
    "potential[:10]"
   ]
  },
  {
   "cell_type": "code",
   "execution_count": null,
   "metadata": {},
   "outputs": [],
   "source": []
  }
 ],
 "metadata": {
  "kernelspec": {
   "display_name": "base",
   "language": "python",
   "name": "python3"
  },
  "language_info": {
   "codemirror_mode": {
    "name": "ipython",
    "version": 3
   },
   "file_extension": ".py",
   "mimetype": "text/x-python",
   "name": "python",
   "nbconvert_exporter": "python",
   "pygments_lexer": "ipython3",
   "version": "3.10.10"
  },
  "orig_nbformat": 4
 },
 "nbformat": 4,
 "nbformat_minor": 2
}
