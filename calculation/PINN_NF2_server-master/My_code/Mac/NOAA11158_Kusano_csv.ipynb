{
 "cells": [
  {
   "cell_type": "markdown",
   "id": "d017828e-4c16-4a8f-b4d2-61f5d2a6cc70",
   "metadata": {
    "tags": []
   },
   "source": [
    "# Import"
   ]
  },
  {
   "cell_type": "code",
   "execution_count": 50,
   "id": "7d3c68e3-9ebd-41f9-98c5-386959eaed0b",
   "metadata": {
    "tags": []
   },
   "outputs": [],
   "source": [
    "from datetime import datetime\n",
    "from pathlib import Path\n",
    "import netCDF4\n",
    "import numpy as np\n",
    "from tqdm import tqdm\n",
    "import pandas as pd"
   ]
  },
  {
   "cell_type": "code",
   "execution_count": 41,
   "id": "1a8546a1-1578-402f-a141-90aacd804467",
   "metadata": {
    "tags": []
   },
   "outputs": [],
   "source": [
    "def get_energy(filename, ncFormat):\n",
    "        nc=netCDF4.Dataset(filename,'r')\n",
    "\n",
    "        nc_x = nc.variables['x']\n",
    "        nc_y = nc.variables['y']\n",
    "        nc_z = nc.variables['z']\n",
    "        nc_bx = nc.variables['Bx']\n",
    "        nc_by = nc.variables['By']\n",
    "        nc_bz = nc.variables['Bz']\n",
    "        nc_bxp=nc.variables['Bx_pot']\n",
    "        nc_byp=nc.variables['By_pot']\n",
    "        nc_bzp=nc.variables['Bz_pot']\n",
    "        x = nc_x[:]\n",
    "        y = nc_y[:]\n",
    "        z = nc_z[:]\n",
    "        bx = nc_bx[:].transpose(2,1,0)\n",
    "        by = nc_by[:].transpose(2,1,0)\n",
    "        bz = nc_bz[:].transpose(2,1,0)\n",
    "        bx_pot=nc_bxp[:].transpose(2,1,0)\n",
    "        by_pot=nc_byp[:].transpose(2,1,0)\n",
    "        bz_pot=nc_bzp[:].transpose(2,1,0)\n",
    "\n",
    "        x = np.array(x)\n",
    "        y = np.array(y)\n",
    "        z = np.array(z)\n",
    "        bx = np.array(bx)\n",
    "        by = np.array(by)\n",
    "        bz = np.array(bz)\n",
    "        bx_pot = np.array(bx_pot)\n",
    "        by_pot = np.array(by_pot)\n",
    "        bz_pot = np.array(bz_pot)\n",
    "\n",
    "        # erg / cm^3\n",
    "        e = (bx**2 + by**2 + bz**2) / (8*np.pi)\n",
    "        energy_density = e.sum()\n",
    "        e_pot = (bx_pot**2 + by_pot**2 + bz_pot**2) / (8*np.pi)\n",
    "        energy_density_pot = e_pot.sum()\n",
    "\n",
    "    #     # 1 Mm = 1e8 cm\n",
    "        dx = (x[1]-x[0])\n",
    "        dy = (y[1]-y[0])\n",
    "        dz = (z[1]-z[0])\n",
    "\n",
    "    #     # cm^3\n",
    "    #     dV = dx*dy*dz\n",
    "\n",
    "    #     # Energy (10^33 erg)\n",
    "    #     energy = (energy_density*dV)/1e33\n",
    "\n",
    "        date = datetime.strptime(filename.name, ncFormat)\n",
    "        return date, energy_density, energy_density_pot, dx, dy, dz\n",
    "\n",
    "def Kusano_csv(ncfiles, ncFormat, csvFile):    \n",
    "    dates = []\n",
    "    # 1e33\n",
    "    energys = []\n",
    "    energys_pot = []\n",
    "    dxx = []\n",
    "    dyy = []\n",
    "    dzz = []\n",
    "\n",
    "    for ncf in tqdm(ncfiles):\n",
    "        date, energy, energy_pot, dx, dy, dz = get_energy(ncf, ncFormat)\n",
    "        dates.append(date)\n",
    "        energys.append(energy)\n",
    "        energys_pot.append(energy_pot)\n",
    "        dxx.append(dx)\n",
    "        dyy.append(dy)\n",
    "        dzz.append(dz)\n",
    "\n",
    "    df = pd.DataFrame({\"date\":dates, \"energy_density\":energys, \"energy_density_pot\":energys_pot, \"dx\":dxx, \"dy\":dyy, \"dz\":dzz})\n",
    "\n",
    "    df.to_csv(csvFile, index=False)"
   ]
  },
  {
   "cell_type": "markdown",
   "id": "99f83549-1c28-4115-abfc-66732188228c",
   "metadata": {},
   "source": [
    "# NOAA 11158"
   ]
  },
  {
   "cell_type": "code",
   "execution_count": 40,
   "id": "5a861fe8-e98b-461d-932c-eb223fc38d36",
   "metadata": {
    "tags": []
   },
   "outputs": [],
   "source": [
    "NAS = Path('/Volumes/drive/Research/SSWLAB/NF2/Kusano_DB/NOAA11158')\n",
    "ncfiles = [x for x in NAS.glob('**/*.nc')]\n",
    "ncfiles = sorted(ncfiles)\n",
    "\n",
    "ncFormat = '11158_%Y%m%d_%H%M%S.nc'\n",
    "csvFile = Path('/Volumes/drive/Research/SSWLAB/NF2') / 'NOAA11158_Kusano.csv'"
   ]
  },
  {
   "cell_type": "code",
   "execution_count": null,
   "id": "e309faf3-81fd-400e-a8ce-9e7f8fde5924",
   "metadata": {},
   "outputs": [],
   "source": [
    "Kusano_csv(ncfiles, ncFormat, csvFile)"
   ]
  }
 ],
 "metadata": {
  "kernelspec": {
   "display_name": "Python 3 (ipykernel)",
   "language": "python",
   "name": "python3"
  },
  "language_info": {
   "codemirror_mode": {
    "name": "ipython",
    "version": 3
   },
   "file_extension": ".py",
   "mimetype": "text/x-python",
   "name": "python",
   "nbconvert_exporter": "python",
   "pygments_lexer": "ipython3",
   "version": "3.10.9"
  },
  "vscode": {
   "interpreter": {
    "hash": "59f3145cc67fcda0343c2852f1f97113a2e6e98841e887156424448e7071ad54"
   }
  }
 },
 "nbformat": 4,
 "nbformat_minor": 5
}
