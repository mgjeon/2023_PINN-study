{
 "cells": [
  {
   "cell_type": "code",
   "execution_count": 1,
   "id": "85615f5f-6676-4df8-9800-3d0f2d775633",
   "metadata": {
    "tags": []
   },
   "outputs": [],
   "source": [
    "import torch\n",
    "import numpy as np\n",
    "from pathlib import Path\n",
    "from tqdm import tqdm\n",
    "from tvtk.api import tvtk, write_data\n",
    "from nf2.evaluation.unpack import load_cube"
   ]
  },
  {
   "cell_type": "code",
   "execution_count": 3,
   "id": "4cd55c43-09a5-4378-8ccf-cacc0abfedb2",
   "metadata": {
    "tags": []
   },
   "outputs": [],
   "source": [
    "GD = Path('/Users/mgjeon/Library/CloudStorage/GoogleDrive-A/My Drive/Notes/Work/PINN/')\n",
    "NAS = Path('/Volumes/drive/Research/SSWLAB/NF2')"
   ]
  },
  {
   "cell_type": "markdown",
   "id": "33b1df36-201c-4740-a738-041e0b803b97",
   "metadata": {},
   "source": [
    "# NOAA 11158"
   ]
  },
  {
   "cell_type": "code",
   "execution_count": 8,
   "id": "db1e731f-c043-459f-9e34-67476ea40822",
   "metadata": {
    "tags": []
   },
   "outputs": [],
   "source": [
    "nf2_file = GD / Path('ar_series_377_2011-02-12T00:00:00/base/20110215_000000_TAI/extrapolation_result.nf2')"
   ]
  },
  {
   "cell_type": "code",
   "execution_count": 9,
   "id": "b095d1d9-192e-41d6-b130-45dd939a1148",
   "metadata": {
    "tags": []
   },
   "outputs": [
    {
     "ename": "ModuleNotFoundError",
     "evalue": "No module named 'nf2'",
     "output_type": "error",
     "traceback": [
      "\u001b[0;31m---------------------------------------------------------------------------\u001b[0m",
      "\u001b[0;31mModuleNotFoundError\u001b[0m                       Traceback (most recent call last)",
      "Cell \u001b[0;32mIn[9], line 2\u001b[0m\n\u001b[1;32m      1\u001b[0m device \u001b[38;5;241m=\u001b[39m torch\u001b[38;5;241m.\u001b[39mdevice(\u001b[38;5;124m\"\u001b[39m\u001b[38;5;124mmps\u001b[39m\u001b[38;5;124m\"\u001b[39m) \u001b[38;5;28;01mif\u001b[39;00m torch\u001b[38;5;241m.\u001b[39mbackends\u001b[38;5;241m.\u001b[39mmps\u001b[38;5;241m.\u001b[39mis_available() \u001b[38;5;28;01melse\u001b[39;00m \u001b[38;5;124m\"\u001b[39m\u001b[38;5;124mcpu\u001b[39m\u001b[38;5;124m\"\u001b[39m\n\u001b[0;32m----> 2\u001b[0m state \u001b[38;5;241m=\u001b[39m \u001b[43mtorch\u001b[49m\u001b[38;5;241;43m.\u001b[39;49m\u001b[43mload\u001b[49m\u001b[43m(\u001b[49m\u001b[43mnf2_file\u001b[49m\u001b[43m,\u001b[49m\u001b[43m \u001b[49m\u001b[43mmap_location\u001b[49m\u001b[38;5;241;43m=\u001b[39;49m\u001b[43mdevice\u001b[49m\u001b[43m)\u001b[49m\n\u001b[1;32m      3\u001b[0m model \u001b[38;5;241m=\u001b[39m torch\u001b[38;5;241m.\u001b[39mnn\u001b[38;5;241m.\u001b[39mDataParallel(state[\u001b[38;5;124m'\u001b[39m\u001b[38;5;124mmodel\u001b[39m\u001b[38;5;124m'\u001b[39m])\n\u001b[1;32m      4\u001b[0m cube_shape \u001b[38;5;241m=\u001b[39m state[\u001b[38;5;124m'\u001b[39m\u001b[38;5;124mcube_shape\u001b[39m\u001b[38;5;124m'\u001b[39m]\n",
      "File \u001b[0;32m/opt/homebrew/Caskroom/mambaforge/base/lib/python3.10/site-packages/torch/serialization.py:789\u001b[0m, in \u001b[0;36mload\u001b[0;34m(f, map_location, pickle_module, weights_only, **pickle_load_args)\u001b[0m\n\u001b[1;32m    787\u001b[0m             \u001b[38;5;28;01mexcept\u001b[39;00m \u001b[38;5;167;01mRuntimeError\u001b[39;00m \u001b[38;5;28;01mas\u001b[39;00m e:\n\u001b[1;32m    788\u001b[0m                 \u001b[38;5;28;01mraise\u001b[39;00m pickle\u001b[38;5;241m.\u001b[39mUnpicklingError(UNSAFE_MESSAGE \u001b[38;5;241m+\u001b[39m \u001b[38;5;28mstr\u001b[39m(e)) \u001b[38;5;28;01mfrom\u001b[39;00m \u001b[38;5;28mNone\u001b[39m\n\u001b[0;32m--> 789\u001b[0m         \u001b[38;5;28;01mreturn\u001b[39;00m \u001b[43m_load\u001b[49m\u001b[43m(\u001b[49m\u001b[43mopened_zipfile\u001b[49m\u001b[43m,\u001b[49m\u001b[43m \u001b[49m\u001b[43mmap_location\u001b[49m\u001b[43m,\u001b[49m\u001b[43m \u001b[49m\u001b[43mpickle_module\u001b[49m\u001b[43m,\u001b[49m\u001b[43m \u001b[49m\u001b[38;5;241;43m*\u001b[39;49m\u001b[38;5;241;43m*\u001b[39;49m\u001b[43mpickle_load_args\u001b[49m\u001b[43m)\u001b[49m\n\u001b[1;32m    790\u001b[0m \u001b[38;5;28;01mif\u001b[39;00m weights_only:\n\u001b[1;32m    791\u001b[0m     \u001b[38;5;28;01mtry\u001b[39;00m:\n",
      "File \u001b[0;32m/opt/homebrew/Caskroom/mambaforge/base/lib/python3.10/site-packages/torch/serialization.py:1131\u001b[0m, in \u001b[0;36m_load\u001b[0;34m(zip_file, map_location, pickle_module, pickle_file, **pickle_load_args)\u001b[0m\n\u001b[1;32m   1129\u001b[0m unpickler \u001b[38;5;241m=\u001b[39m UnpicklerWrapper(data_file, \u001b[38;5;241m*\u001b[39m\u001b[38;5;241m*\u001b[39mpickle_load_args)\n\u001b[1;32m   1130\u001b[0m unpickler\u001b[38;5;241m.\u001b[39mpersistent_load \u001b[38;5;241m=\u001b[39m persistent_load\n\u001b[0;32m-> 1131\u001b[0m result \u001b[38;5;241m=\u001b[39m \u001b[43munpickler\u001b[49m\u001b[38;5;241;43m.\u001b[39;49m\u001b[43mload\u001b[49m\u001b[43m(\u001b[49m\u001b[43m)\u001b[49m\n\u001b[1;32m   1133\u001b[0m torch\u001b[38;5;241m.\u001b[39m_utils\u001b[38;5;241m.\u001b[39m_validate_loaded_sparse_tensors()\n\u001b[1;32m   1135\u001b[0m \u001b[38;5;28;01mreturn\u001b[39;00m result\n",
      "File \u001b[0;32m/opt/homebrew/Caskroom/mambaforge/base/lib/python3.10/site-packages/torch/serialization.py:1124\u001b[0m, in \u001b[0;36m_load.<locals>.UnpicklerWrapper.find_class\u001b[0;34m(self, mod_name, name)\u001b[0m\n\u001b[1;32m   1122\u001b[0m         \u001b[38;5;28;01mpass\u001b[39;00m\n\u001b[1;32m   1123\u001b[0m mod_name \u001b[38;5;241m=\u001b[39m load_module_mapping\u001b[38;5;241m.\u001b[39mget(mod_name, mod_name)\n\u001b[0;32m-> 1124\u001b[0m \u001b[38;5;28;01mreturn\u001b[39;00m \u001b[38;5;28;43msuper\u001b[39;49m\u001b[43m(\u001b[49m\u001b[43m)\u001b[49m\u001b[38;5;241;43m.\u001b[39;49m\u001b[43mfind_class\u001b[49m\u001b[43m(\u001b[49m\u001b[43mmod_name\u001b[49m\u001b[43m,\u001b[49m\u001b[43m \u001b[49m\u001b[43mname\u001b[49m\u001b[43m)\u001b[49m\n",
      "\u001b[0;31mModuleNotFoundError\u001b[0m: No module named 'nf2'"
     ]
    }
   ],
   "source": [
    "device = torch.device(\"mps\") if torch.backends.mps.is_available() else \"cpu\"\n",
    "state = torch.load(nf2_file, map_location=device)\n",
    "model = torch.nn.DataParallel(state['model'])\n",
    "cube_shape = state['cube_shape']\n",
    "z = cube_shape[2]\n",
    "coords = np.stack(np.mgrid[:cube_shape[0]:1, :cube_shape[1]:1, :z:1], -1)\n",
    "spatial_norm = 160\n",
    "coords = torch.tensor(coords / spatial_norm, dtype=torch.float32)\n",
    "coords_shape = coords.shape"
   ]
  },
  {
   "cell_type": "code",
   "execution_count": 41,
   "id": "c231d004-a442-49cb-99ad-189649d650ef",
   "metadata": {
    "tags": []
   },
   "outputs": [],
   "source": [
    "#state"
   ]
  },
  {
   "cell_type": "code",
   "execution_count": null,
   "id": "885b78f3-ed50-4bef-996b-848631a3a643",
   "metadata": {
    "tags": []
   },
   "outputs": [
    {
     "name": "stderr",
     "output_type": "stream",
     "text": [
      "100%|████████████████████████████████████████████████████████████████████████████████████████████████████████████████████| 8715/8715 [00:48<00:00, 180.66it/s]\n"
     ]
    }
   ],
   "source": [
    "cube = []\n",
    "batch_size = 1000\n",
    "coords = coords.view((-1, 3))\n",
    "it = range(int(np.ceil(coords.shape[0] / batch_size)))\n",
    "for k in tqdm(it):\n",
    "    coord = coords[k * batch_size: (k + 1) * batch_size]\n",
    "    coord = coord.to(device)\n",
    "    coord.requires_grad = True\n",
    "    cube += [model(coord).detach().cpu()]"
   ]
  },
  {
   "cell_type": "code",
   "execution_count": 16,
   "id": "feb2d188-c35e-4abc-aac0-32ab347483ba",
   "metadata": {
    "tags": []
   },
   "outputs": [],
   "source": [
    "cube = torch.cat(cube)\n",
    "cube = cube.view(*coords_shape).numpy()\n",
    "b_norm = 2500\n",
    "b = cube * b_norm"
   ]
  },
  {
   "cell_type": "code",
   "execution_count": 20,
   "id": "7cc3f9aa-8798-4234-985e-9e6c5848327b",
   "metadata": {
    "tags": []
   },
   "outputs": [],
   "source": [
    "vtk_path = str(NAS / 'NOAA11158/11158_20110215_000000_colab.vtk')"
   ]
  },
  {
   "cell_type": "code",
   "execution_count": 21,
   "id": "bef26f8f-75e5-43a4-98aa-f5ea746144bc",
   "metadata": {
    "tags": []
   },
   "outputs": [],
   "source": [
    "bin = 2\n",
    "Mm_per_pix = 360e-3 * bin\n",
    "# Unpack\n",
    "dim = b.shape[:-1]\n",
    "# Generate the grid\n",
    "pts = np.stack(np.mgrid[0:dim[0], 0:dim[1], 0:dim[2]], -1).astype(np.int64) * Mm_per_pix\n",
    "# reorder the points and vectors in agreement with VTK\n",
    "# requirement of x first, y next and z last.\n",
    "pts = pts.transpose(2, 1, 0, 3)\n",
    "pts = pts.reshape((-1, 3))\n",
    "vectors = b.transpose(2, 1, 0, 3)\n",
    "vectors = vectors.reshape((-1, 3))\n",
    "\n",
    "sg = tvtk.StructuredGrid(dimensions=dim, points=pts)\n",
    "sg.point_data.vectors = vectors\n",
    "sg.point_data.vectors.name = 'B'\n",
    "write_data(sg, vtk_path)"
   ]
  },
  {
   "cell_type": "markdown",
   "id": "7b6f0107-0529-49ac-8a5b-31fd02b4cbc3",
   "metadata": {},
   "source": [
    "# NOAA 12673"
   ]
  },
  {
   "cell_type": "code",
   "execution_count": 44,
   "id": "fd910512-e177-4b90-ae91-f533a83b34b4",
   "metadata": {
    "tags": []
   },
   "outputs": [],
   "source": [
    "nf2_file = NAS / Path('NF2_DB/author/example_7115.nf2')"
   ]
  },
  {
   "cell_type": "code",
   "execution_count": 45,
   "id": "cfe9ab88-3074-4b07-b582-afdf6723f9a4",
   "metadata": {
    "tags": []
   },
   "outputs": [],
   "source": [
    "device = torch.device(\"mps\") if torch.backends.mps.is_available() else \"cpu\"\n",
    "state = torch.load(nf2_file, map_location=device)\n",
    "model = torch.nn.DataParallel(state['model'])\n",
    "cube_shape = state['cube_shape']\n",
    "z = cube_shape[2]\n",
    "coords = np.stack(np.mgrid[:cube_shape[0]:1, :cube_shape[1]:1, :z:1], -1)\n",
    "spatial_norm = 160\n",
    "coords = torch.tensor(coords / spatial_norm, dtype=torch.float32)\n",
    "coords_shape = coords.shape"
   ]
  },
  {
   "cell_type": "code",
   "execution_count": 42,
   "id": "e3b3a5c1-483d-4d6e-ae7d-67ec87f992df",
   "metadata": {
    "tags": []
   },
   "outputs": [],
   "source": [
    "#state"
   ]
  },
  {
   "cell_type": "code",
   "execution_count": 46,
   "id": "4da72a66-02fe-472d-b87b-7e55fd1cff83",
   "metadata": {
    "tags": []
   },
   "outputs": [
    {
     "name": "stderr",
     "output_type": "stream",
     "text": [
      "100%|██████████████████████████████████████████████████████████████████████████████████████████████████████████████████| 12329/12329 [01:08<00:00, 180.01it/s]\n"
     ]
    }
   ],
   "source": [
    "cube = []\n",
    "batch_size = 1000\n",
    "coords = coords.view((-1, 3))\n",
    "it = range(int(np.ceil(coords.shape[0] / batch_size)))\n",
    "for k in tqdm(it):\n",
    "    coord = coords[k * batch_size: (k + 1) * batch_size]\n",
    "    coord = coord.to(device)\n",
    "    coord.requires_grad = True\n",
    "    cube += [model(coord).detach().cpu()]"
   ]
  },
  {
   "cell_type": "code",
   "execution_count": 47,
   "id": "563f3e48-10f0-4c3d-9153-e8e2851abb1e",
   "metadata": {
    "tags": []
   },
   "outputs": [],
   "source": [
    "cube = torch.cat(cube)\n",
    "cube = cube.view(*coords_shape).numpy()\n",
    "b_norm = 2500\n",
    "b = cube * b_norm"
   ]
  },
  {
   "cell_type": "code",
   "execution_count": 48,
   "id": "8f479baf-4fac-4294-a4e9-ff54fc923072",
   "metadata": {
    "tags": []
   },
   "outputs": [],
   "source": [
    "vtk_path = str(NAS / 'NOAA12673/12673_20170906_083600_author.vtk')"
   ]
  },
  {
   "cell_type": "code",
   "execution_count": 49,
   "id": "b81fa911-2f31-404a-85e6-065e57fbbcd0",
   "metadata": {
    "tags": []
   },
   "outputs": [],
   "source": [
    "bin = 2\n",
    "Mm_per_pix = 360e-3 * bin\n",
    "# Unpack\n",
    "dim = b.shape[:-1]\n",
    "# Generate the grid\n",
    "pts = np.stack(np.mgrid[0:dim[0], 0:dim[1], 0:dim[2]], -1).astype(np.int64) * Mm_per_pix\n",
    "# reorder the points and vectors in agreement with VTK\n",
    "# requirement of x first, y next and z last.\n",
    "pts = pts.transpose(2, 1, 0, 3)\n",
    "pts = pts.reshape((-1, 3))\n",
    "vectors = b.transpose(2, 1, 0, 3)\n",
    "vectors = vectors.reshape((-1, 3))\n",
    "\n",
    "sg = tvtk.StructuredGrid(dimensions=dim, points=pts)\n",
    "sg.point_data.vectors = vectors\n",
    "sg.point_data.vectors.name = 'B'\n",
    "write_data(sg, vtk_path)"
   ]
  },
  {
   "cell_type": "code",
   "execution_count": null,
   "id": "5b39adb4-e208-4429-adc7-27cf46c38f7a",
   "metadata": {},
   "outputs": [],
   "source": []
  }
 ],
 "metadata": {
  "kernelspec": {
   "display_name": "base",
   "language": "python",
   "name": "python3"
  },
  "language_info": {
   "codemirror_mode": {
    "name": "ipython",
    "version": 3
   },
   "file_extension": ".py",
   "mimetype": "text/x-python",
   "name": "python",
   "nbconvert_exporter": "python",
   "pygments_lexer": "ipython3",
   "version": "3.10.9"
  },
  "vscode": {
   "interpreter": {
    "hash": "59f3145cc67fcda0343c2852f1f97113a2e6e98841e887156424448e7071ad54"
   }
  }
 },
 "nbformat": 4,
 "nbformat_minor": 5
}
