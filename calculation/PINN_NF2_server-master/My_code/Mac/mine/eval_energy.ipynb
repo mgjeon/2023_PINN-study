{
 "cells": [
  {
   "cell_type": "markdown",
   "metadata": {},
   "source": [
    "# Import"
   ]
  },
  {
   "cell_type": "code",
   "execution_count": 2,
   "metadata": {
    "tags": []
   },
   "outputs": [],
   "source": [
    "# general imports\n",
    "import glob\n",
    "import os\n",
    "from datetime import datetime\n",
    "from dateutil.parser import parse\n",
    "import shutil\n",
    "\n",
    "# download\n",
    "import drms\n",
    "from urllib import request\n",
    "\n",
    "# data processing\n",
    "import numpy as np\n",
    "from astropy.nddata import block_reduce\n",
    "from sunpy.map import Map\n",
    "\n",
    "# deep learning\n",
    "import torch\n",
    "\n",
    "# NF2\n",
    "from nf2.train.trainer import NF2Trainer\n",
    "from nf2.data.download import download_HARP, find_HARP, donwload_ds\n",
    "from nf2.train.metric import *\n",
    "from nf2.evaluation.unpack import load_cube\n",
    "from nf2.evaluation.energy import get_free_mag_energy\n",
    "from nf2.data.loader import load_hmi_data\n",
    "from nf2.train.metric import energy\n",
    "\n",
    "# visualization\n",
    "from matplotlib import pyplot as plt"
   ]
  },
  {
   "cell_type": "code",
   "execution_count": 3,
   "metadata": {
    "tags": []
   },
   "outputs": [],
   "source": [
    "from pathlib import Path"
   ]
  },
  {
   "cell_type": "code",
   "execution_count": 4,
   "metadata": {
    "tags": []
   },
   "outputs": [],
   "source": [
    "pinnpath = Path('/Users/mgjeon/Library/CloudStorage/GoogleDrive-A/My Drive/Notes/Work/PINN/')\n",
    "basepath = pinnpath / Path('ar_series_377_2011-02-12T00:00:00/')\n",
    "energypath = basepath / Path('eval_energy')\n",
    "\n",
    "naspath = Path('/Volumes/drive/Research/SSWLAB/NF2') / Path('Workspace_mac/eval_energy')"
   ]
  },
  {
   "cell_type": "code",
   "execution_count": 13,
   "metadata": {},
   "outputs": [],
   "source": [
    "energy_files = [x for x in energypath.glob('**/*.npy')]\n",
    "energy_files = sorted(energy_files)\n",
    "energy_series_dates = [datetime.strptime(os.path.basename(f), '%Y%m%d_%H%M%S_TAI.npy') for f in energy_files]"
   ]
  },
  {
   "cell_type": "code",
   "execution_count": 14,
   "metadata": {},
   "outputs": [
    {
     "ename": "KeyboardInterrupt",
     "evalue": "",
     "output_type": "error",
     "traceback": [
      "\u001b[0;31m---------------------------------------------------------------------------\u001b[0m",
      "\u001b[0;31mKeyboardInterrupt\u001b[0m                         Traceback (most recent call last)",
      "Cell \u001b[0;32mIn[14], line 1\u001b[0m\n\u001b[0;32m----> 1\u001b[0m energy \u001b[39m=\u001b[39m np\u001b[39m.\u001b[39marray([np\u001b[39m.\u001b[39mload(f) \u001b[39mfor\u001b[39;00m f \u001b[39min\u001b[39;00m energy_files])\n",
      "Cell \u001b[0;32mIn[14], line 1\u001b[0m, in \u001b[0;36m<listcomp>\u001b[0;34m(.0)\u001b[0m\n\u001b[0;32m----> 1\u001b[0m energy \u001b[39m=\u001b[39m np\u001b[39m.\u001b[39marray([np\u001b[39m.\u001b[39;49mload(f) \u001b[39mfor\u001b[39;00m f \u001b[39min\u001b[39;00m energy_files])\n",
      "File \u001b[0;32m/opt/homebrew/Caskroom/mambaforge/base/lib/python3.10/site-packages/numpy/lib/npyio.py:412\u001b[0m, in \u001b[0;36mload\u001b[0;34m(file, mmap_mode, allow_pickle, fix_imports, encoding, max_header_size)\u001b[0m\n\u001b[1;32m    410\u001b[0m _ZIP_SUFFIX \u001b[39m=\u001b[39m \u001b[39mb\u001b[39m\u001b[39m'\u001b[39m\u001b[39mPK\u001b[39m\u001b[39m\\x05\u001b[39;00m\u001b[39m\\x06\u001b[39;00m\u001b[39m'\u001b[39m \u001b[39m# empty zip files start with this\u001b[39;00m\n\u001b[1;32m    411\u001b[0m N \u001b[39m=\u001b[39m \u001b[39mlen\u001b[39m(\u001b[39mformat\u001b[39m\u001b[39m.\u001b[39mMAGIC_PREFIX)\n\u001b[0;32m--> 412\u001b[0m magic \u001b[39m=\u001b[39m fid\u001b[39m.\u001b[39;49mread(N)\n\u001b[1;32m    413\u001b[0m \u001b[39m# If the file size is less than N, we need to make sure not\u001b[39;00m\n\u001b[1;32m    414\u001b[0m \u001b[39m# to seek past the beginning of the file\u001b[39;00m\n\u001b[1;32m    415\u001b[0m fid\u001b[39m.\u001b[39mseek(\u001b[39m-\u001b[39m\u001b[39mmin\u001b[39m(N, \u001b[39mlen\u001b[39m(magic)), \u001b[39m1\u001b[39m)  \u001b[39m# back-up\u001b[39;00m\n",
      "\u001b[0;31mKeyboardInterrupt\u001b[0m: "
     ]
    }
   ],
   "source": [
    "energy = np.array([np.load(f) for f in energy_files])"
   ]
  },
  {
   "cell_type": "code",
   "execution_count": null,
   "metadata": {},
   "outputs": [],
   "source": [
    "bin = 2\n",
    "cm_per_pixel = 360e5 * bin\n",
    "dV = cm_per_pixel**3\n",
    "energy = energy*dV"
   ]
  },
  {
   "cell_type": "code",
   "execution_count": 12,
   "metadata": {
    "tags": []
   },
   "outputs": [
    {
     "ename": "KeyboardInterrupt",
     "evalue": "",
     "output_type": "error",
     "traceback": [
      "\u001b[0;31m---------------------------------------------------------------------------\u001b[0m",
      "\u001b[0;31mKeyboardInterrupt\u001b[0m                         Traceback (most recent call last)",
      "Cell \u001b[0;32mIn[12], line 10\u001b[0m\n\u001b[1;32m      7\u001b[0m dV \u001b[39m=\u001b[39m cm_per_pixel\u001b[39m*\u001b[39m\u001b[39m*\u001b[39m\u001b[39m3\u001b[39m\n\u001b[1;32m      9\u001b[0m plt\u001b[39m.\u001b[39mfigure(figsize\u001b[39m=\u001b[39m(\u001b[39m9\u001b[39m, \u001b[39m3\u001b[39m))\n\u001b[0;32m---> 10\u001b[0m plt\u001b[39m.\u001b[39mplot(energy_series_dates, [np\u001b[39m.\u001b[39mload(f)\u001b[39m*\u001b[39mdV \u001b[39mfor\u001b[39;00m f \u001b[39min\u001b[39;00m energy_files])\n\u001b[1;32m     11\u001b[0m plt\u001b[39m.\u001b[39mtitle(\u001b[39m'\u001b[39m\u001b[39mAR 377\u001b[39m\u001b[39m'\u001b[39m)\n\u001b[1;32m     12\u001b[0m plt\u001b[39m.\u001b[39mylabel(\u001b[39m'\u001b[39m\u001b[39mtotal magnetic energy\u001b[39m\u001b[39m'\u001b[39m)\n",
      "Cell \u001b[0;32mIn[12], line 10\u001b[0m, in \u001b[0;36m<listcomp>\u001b[0;34m(.0)\u001b[0m\n\u001b[1;32m      7\u001b[0m dV \u001b[39m=\u001b[39m cm_per_pixel\u001b[39m*\u001b[39m\u001b[39m*\u001b[39m\u001b[39m3\u001b[39m\n\u001b[1;32m      9\u001b[0m plt\u001b[39m.\u001b[39mfigure(figsize\u001b[39m=\u001b[39m(\u001b[39m9\u001b[39m, \u001b[39m3\u001b[39m))\n\u001b[0;32m---> 10\u001b[0m plt\u001b[39m.\u001b[39mplot(energy_series_dates, [np\u001b[39m.\u001b[39;49mload(f)\u001b[39m*\u001b[39mdV \u001b[39mfor\u001b[39;00m f \u001b[39min\u001b[39;00m energy_files])\n\u001b[1;32m     11\u001b[0m plt\u001b[39m.\u001b[39mtitle(\u001b[39m'\u001b[39m\u001b[39mAR 377\u001b[39m\u001b[39m'\u001b[39m)\n\u001b[1;32m     12\u001b[0m plt\u001b[39m.\u001b[39mylabel(\u001b[39m'\u001b[39m\u001b[39mtotal magnetic energy\u001b[39m\u001b[39m'\u001b[39m)\n",
      "File \u001b[0;32m/opt/homebrew/Caskroom/mambaforge/base/lib/python3.10/site-packages/numpy/lib/npyio.py:412\u001b[0m, in \u001b[0;36mload\u001b[0;34m(file, mmap_mode, allow_pickle, fix_imports, encoding, max_header_size)\u001b[0m\n\u001b[1;32m    410\u001b[0m _ZIP_SUFFIX \u001b[39m=\u001b[39m \u001b[39mb\u001b[39m\u001b[39m'\u001b[39m\u001b[39mPK\u001b[39m\u001b[39m\\x05\u001b[39;00m\u001b[39m\\x06\u001b[39;00m\u001b[39m'\u001b[39m \u001b[39m# empty zip files start with this\u001b[39;00m\n\u001b[1;32m    411\u001b[0m N \u001b[39m=\u001b[39m \u001b[39mlen\u001b[39m(\u001b[39mformat\u001b[39m\u001b[39m.\u001b[39mMAGIC_PREFIX)\n\u001b[0;32m--> 412\u001b[0m magic \u001b[39m=\u001b[39m fid\u001b[39m.\u001b[39;49mread(N)\n\u001b[1;32m    413\u001b[0m \u001b[39m# If the file size is less than N, we need to make sure not\u001b[39;00m\n\u001b[1;32m    414\u001b[0m \u001b[39m# to seek past the beginning of the file\u001b[39;00m\n\u001b[1;32m    415\u001b[0m fid\u001b[39m.\u001b[39mseek(\u001b[39m-\u001b[39m\u001b[39mmin\u001b[39m(N, \u001b[39mlen\u001b[39m(magic)), \u001b[39m1\u001b[39m)  \u001b[39m# back-up\u001b[39;00m\n",
      "\u001b[0;31mKeyboardInterrupt\u001b[0m: "
     ]
    },
    {
     "data": {
      "text/plain": [
       "<Figure size 900x300 with 0 Axes>"
      ]
     },
     "metadata": {},
     "output_type": "display_data"
    }
   ],
   "source": [
    "\n",
    "\n",
    "\n",
    "plt.figure(figsize=(9, 3))\n",
    "plt.plot(energy_series_dates, [np.load(f)*dV for f in energy_files])\n",
    "plt.title('AR 377')\n",
    "plt.ylabel('total magnetic energy')\n",
    "figure_energy_path = Path('./energy.png')\n",
    "plt.savefig(figure_energy_path, dpi=300)\n",
    "plt.show()"
   ]
  },
  {
   "cell_type": "code",
   "execution_count": null,
   "metadata": {
    "tags": []
   },
   "outputs": [],
   "source": []
  },
  {
   "cell_type": "code",
   "execution_count": null,
   "metadata": {
    "tags": []
   },
   "outputs": [],
   "source": []
  },
  {
   "cell_type": "code",
   "execution_count": null,
   "metadata": {},
   "outputs": [],
   "source": []
  }
 ],
 "metadata": {
  "kernelspec": {
   "display_name": "Python 3 (ipykernel)",
   "language": "python",
   "name": "python3"
  },
  "language_info": {
   "codemirror_mode": {
    "name": "ipython",
    "version": 3
   },
   "file_extension": ".py",
   "mimetype": "text/x-python",
   "name": "python",
   "nbconvert_exporter": "python",
   "pygments_lexer": "ipython3",
   "version": "3.10.9"
  },
  "vscode": {
   "interpreter": {
    "hash": "59f3145cc67fcda0343c2852f1f97113a2e6e98841e887156424448e7071ad54"
   }
  }
 },
 "nbformat": 4,
 "nbformat_minor": 4
}
