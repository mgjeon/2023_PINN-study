{
 "cells": [
  {
   "cell_type": "code",
   "execution_count": 62,
   "id": "a323fea9-3a0a-42c3-96fd-c76eed81e8ac",
   "metadata": {
    "tags": []
   },
   "outputs": [],
   "source": [
    "import torch\n",
    "import numpy as np\n",
    "from torch import nn\n",
    "from tqdm import tqdm\n",
    "from pathlib import Path"
   ]
  },
  {
   "cell_type": "code",
   "execution_count": 29,
   "id": "632a3b11-c169-4af3-92a5-bbcbc85273e0",
   "metadata": {
    "tags": []
   },
   "outputs": [],
   "source": [
    "GD = Path('/Users/mgjeon/Library/CloudStorage/GoogleDrive-A/My Drive/Notes/Work/PINN/')"
   ]
  },
  {
   "cell_type": "code",
   "execution_count": 30,
   "id": "f91397a0-a39e-4a15-b706-eb65357b8fa5",
   "metadata": {
    "tags": []
   },
   "outputs": [],
   "source": [
    "nf2_file = GD / Path('ar_series_377_2011-02-12T00:00:00/base/20110212_000000_TAI/extrapolation_result.nf2')"
   ]
  },
  {
   "cell_type": "code",
   "execution_count": 71,
   "id": "bb4b4634-e56f-4aff-8f5c-92f43af6de8a",
   "metadata": {
    "tags": []
   },
   "outputs": [],
   "source": [
    "device = torch.device(\"mps\") if torch.backends.mps.is_available() else \"cpu\"\n",
    "state = torch.load(nf2_file, map_location=device)\n",
    "model = nn.DataParallel(state['model'])\n",
    "\n",
    "cube_shape = state['cube_shape']\n",
    "\n",
    "z = cube_shape[2]\n",
    "coords = np.stack(np.mgrid[:cube_shape[0]:1, :cube_shape[1]:1, :z:1], -1)\n",
    "\n",
    "spatial_norm = 160\n",
    "\n",
    "coords = torch.tensor(coords / spatial_norm, dtype=torch.float32)\n",
    "\n",
    "coords_shape = coords.shape"
   ]
  },
  {
   "cell_type": "code",
   "execution_count": 72,
   "id": "c4cf421d-3ca2-423d-8be4-df8fdb920ac4",
   "metadata": {
    "tags": []
   },
   "outputs": [
    {
     "name": "stderr",
     "output_type": "stream",
     "text": [
      "100%|████████████████████████████████████████████████████████████████████████████████████████████████████████████████████| 8715/8715 [00:52<00:00, 166.84it/s]\n"
     ]
    }
   ],
   "source": [
    "cube = []\n",
    "batch_size = 1000\n",
    "coords = coords.view((-1, 3))\n",
    "it = range(int(np.ceil(coords.shape[0] / batch_size)))\n",
    "for k in tqdm(it):\n",
    "    coord = coords[k * batch_size: (k + 1) * batch_size]\n",
    "    coord = coord.to(device)\n",
    "    coord.requires_grad = True\n",
    "    cube += [model(coord).detach().cpu()]"
   ]
  },
  {
   "cell_type": "code",
   "execution_count": 73,
   "id": "8eed53da-c2f6-4a65-afe4-f95bf94af0dc",
   "metadata": {
    "tags": []
   },
   "outputs": [],
   "source": [
    "cube = torch.cat(cube)\n",
    "cube = cube.view(*coords_shape).numpy()\n",
    "b_norm = 2500\n",
    "b = cube * b_norm"
   ]
  },
  {
   "cell_type": "code",
   "execution_count": 88,
   "id": "d0d7d57e-f928-4b74-9bbc-a164b499c83c",
   "metadata": {
    "tags": []
   },
   "outputs": [
    {
     "data": {
      "text/plain": [
       "208957420.0"
      ]
     },
     "execution_count": 88,
     "metadata": {},
     "output_type": "execute_result"
    }
   ],
   "source": [
    "E = ((b**2).sum(-1) / (8*np.pi)).sum()\n",
    "E"
   ]
  },
  {
   "cell_type": "code",
   "execution_count": 78,
   "id": "dc21790a-b332-4adc-b3d2-fee90e3443d7",
   "metadata": {
    "tags": []
   },
   "outputs": [],
   "source": [
    "npy_file = GD / Path('ar_series_377_2011-02-12T00:00:00/eval_energy/20110212_000000_TAI.npy')"
   ]
  },
  {
   "cell_type": "code",
   "execution_count": 89,
   "id": "cf00fd88-b0ea-44ef-b33b-ae499a5d536c",
   "metadata": {
    "tags": []
   },
   "outputs": [
    {
     "data": {
      "text/plain": [
       "208957520.0"
      ]
     },
     "execution_count": 89,
     "metadata": {},
     "output_type": "execute_result"
    }
   ],
   "source": [
    "E = float(np.load(npy_file))\n",
    "E"
   ]
  },
  {
   "cell_type": "code",
   "execution_count": null,
   "id": "a109dcee-b3d2-4f8d-83a9-91ab312d6386",
   "metadata": {},
   "outputs": [],
   "source": []
  }
 ],
 "metadata": {
  "kernelspec": {
   "display_name": "Python 3 (ipykernel)",
   "language": "python",
   "name": "python3"
  },
  "language_info": {
   "codemirror_mode": {
    "name": "ipython",
    "version": 3
   },
   "file_extension": ".py",
   "mimetype": "text/x-python",
   "name": "python",
   "nbconvert_exporter": "python",
   "pygments_lexer": "ipython3",
   "version": "3.10.9"
  }
 },
 "nbformat": 4,
 "nbformat_minor": 5
}
