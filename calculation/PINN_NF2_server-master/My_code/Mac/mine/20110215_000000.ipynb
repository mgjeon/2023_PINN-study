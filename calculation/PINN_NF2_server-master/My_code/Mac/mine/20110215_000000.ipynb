{
 "cells": [
  {
   "cell_type": "code",
   "execution_count": 1,
   "id": "47fe990d-3955-4b56-b5b3-b9df7ceac840",
   "metadata": {
    "tags": []
   },
   "outputs": [],
   "source": [
    "import torch"
   ]
  },
  {
   "cell_type": "code",
   "execution_count": 2,
   "id": "319dbd80-b316-4ed4-9d89-0c82535c478e",
   "metadata": {
    "tags": []
   },
   "outputs": [],
   "source": [
    "device = torch.device('mps') if torch.cuda.is_available() else torch.device('cpu')"
   ]
  },
  {
   "cell_type": "code",
   "execution_count": 3,
   "id": "1f007e70-017a-4f9d-a087-c0df49f3b1a1",
   "metadata": {
    "tags": []
   },
   "outputs": [],
   "source": [
    "nf2_path = '20110215_000000_TAI/extrapolation_result.nf2'"
   ]
  },
  {
   "cell_type": "code",
   "execution_count": 4,
   "id": "58f5075e-77d4-4a96-9ab8-b0e116664c65",
   "metadata": {
    "tags": []
   },
   "outputs": [],
   "source": [
    "state = torch.load(nf2_path, map_location=device)"
   ]
  },
  {
   "cell_type": "code",
   "execution_count": 5,
   "id": "2002cf13-fb81-4248-8ccc-89729f8971bc",
   "metadata": {
    "tags": []
   },
   "outputs": [
    {
     "name": "stdout",
     "output_type": "stream",
     "text": [
      "HARPNUM 377\n",
      "NOAA AR 11158\n",
      "2011-02-14T23:58:12.300\n",
      "2011.02.14_23:59:53.752_TAI\n",
      "2011.02.15_00:00:00.000_TAI\n",
      "[296, 184, 160]\n",
      "744 377\n"
     ]
    }
   ],
   "source": [
    "meta_info = state['meta_info']\n",
    "\n",
    "# Number\n",
    "print('HARPNUM', meta_info['harpnum'])\n",
    "print('NOAA AR', meta_info['noaa_ar'])\n",
    "\n",
    "# Observation\n",
    "print(meta_info['date-obs'])\n",
    "print(meta_info['t_obs'])\n",
    "print(meta_info['t_rec'])\n",
    "\n",
    "# shape\n",
    "print(state['cube_shape'])\n",
    "print(meta_info['naxis1'], meta_info['naxis2'])"
   ]
  },
  {
   "cell_type": "code",
   "execution_count": 6,
   "id": "699fa3a6-1a81-48ca-90be-8862c66d58ce",
   "metadata": {
    "tags": []
   },
   "outputs": [],
   "source": [
    "from nf2.evaluation.unpack import load_cube"
   ]
  },
  {
   "cell_type": "code",
   "execution_count": 8,
   "id": "e0ccac00-c157-42a1-9ac8-e321d96de04c",
   "metadata": {
    "tags": []
   },
   "outputs": [
    {
     "name": "stderr",
     "output_type": "stream",
     "text": [
      "100%|██████████████████████████████████████████████████████████████████████████████████████████████████████████████████████████████| 8715/8715 [00:39<00:00, 221.91it/s]\n"
     ]
    }
   ],
   "source": [
    "b = load_cube(nf2_path, device, progress=True, strides=1)"
   ]
  },
  {
   "cell_type": "code",
   "execution_count": 7,
   "id": "8d614319-700d-4c68-b787-7f6ece7502c4",
   "metadata": {
    "tags": []
   },
   "outputs": [],
   "source": [
    "import numpy as np"
   ]
  },
  {
   "cell_type": "code",
   "execution_count": 8,
   "id": "2a484349-9f50-4866-b289-a96f5a4cb182",
   "metadata": {
    "tags": []
   },
   "outputs": [],
   "source": [
    "npy_path = nf2_path.replace('.nf2', '.npy')"
   ]
  },
  {
   "cell_type": "code",
   "execution_count": 9,
   "id": "91ec6a59-3a9d-4816-a3cd-3fae6e856c53",
   "metadata": {
    "tags": []
   },
   "outputs": [
    {
     "ename": "NameError",
     "evalue": "name 'b' is not defined",
     "output_type": "error",
     "traceback": [
      "\u001b[0;31m---------------------------------------------------------------------------\u001b[0m",
      "\u001b[0;31mNameError\u001b[0m                                 Traceback (most recent call last)",
      "Cell \u001b[0;32mIn[9], line 1\u001b[0m\n\u001b[0;32m----> 1\u001b[0m np\u001b[38;5;241m.\u001b[39msave(npy_path, \u001b[43mb\u001b[49m)\n",
      "\u001b[0;31mNameError\u001b[0m: name 'b' is not defined"
     ]
    }
   ],
   "source": [
    "np.save(npy_path, b)"
   ]
  },
  {
   "cell_type": "code",
   "execution_count": 10,
   "id": "dd90c69f-9646-4684-b8e0-58bd176a8166",
   "metadata": {
    "tags": []
   },
   "outputs": [],
   "source": [
    "b = np.load(npy_path)"
   ]
  },
  {
   "cell_type": "code",
   "execution_count": 11,
   "id": "5cc71b6a-d00d-4775-877c-b8fad7114973",
   "metadata": {
    "tags": []
   },
   "outputs": [],
   "source": [
    "from nf2.evaluation.vtk import save_vtk"
   ]
  },
  {
   "cell_type": "code",
   "execution_count": 13,
   "id": "8774cd5f-b610-4b5b-8a32-867517da5565",
   "metadata": {
    "tags": []
   },
   "outputs": [],
   "source": [
    "vtk_path = nf2_path.replace('.nf2', '.vtk')"
   ]
  },
  {
   "cell_type": "code",
   "execution_count": 14,
   "id": "17bb0901-2ee2-4c06-9595-9ba7b7fe794c",
   "metadata": {
    "tags": []
   },
   "outputs": [],
   "source": [
    "save_vtk(b, vtk_path, 'B')"
   ]
  },
  {
   "cell_type": "code",
   "execution_count": 12,
   "id": "892b786c-efa0-4244-83b5-af0822675ca1",
   "metadata": {},
   "outputs": [],
   "source": [
    "import pandas as pd\n",
    "import datetime    "
   ]
  },
  {
   "cell_type": "code",
   "execution_count": 13,
   "id": "75a8f8d8-fe56-4c0f-b52f-3eeeb4b214e9",
   "metadata": {
    "tags": []
   },
   "outputs": [],
   "source": [
    "csvtable = pd.read_csv('/Users/mgjeon/Workspace/PINN_NF2/database/author/series_01.csv')"
   ]
  },
  {
   "cell_type": "code",
   "execution_count": 14,
   "id": "f9a58c54-752f-4de5-a653-1a052b50aad0",
   "metadata": {
    "tags": []
   },
   "outputs": [
    {
     "data": {
      "text/html": [
       "<div>\n",
       "<style scoped>\n",
       "    .dataframe tbody tr th:only-of-type {\n",
       "        vertical-align: middle;\n",
       "    }\n",
       "\n",
       "    .dataframe tbody tr th {\n",
       "        vertical-align: top;\n",
       "    }\n",
       "\n",
       "    .dataframe thead th {\n",
       "        text-align: right;\n",
       "    }\n",
       "</style>\n",
       "<table border=\"1\" class=\"dataframe\">\n",
       "  <thead>\n",
       "    <tr style=\"text-align: right;\">\n",
       "      <th></th>\n",
       "      <th>TIME (10^9 sec since 1-jan-1979 )</th>\n",
       "      <th>Ediv/E</th>\n",
       "      <th>|Emix|/Ejs</th>\n",
       "      <th>&lt;theta_J&gt;</th>\n",
       "      <th>&lt;|fi|&gt;</th>\n",
       "      <th>Cvec(B vs CurlA)</th>\n",
       "      <th>Cerg(B vs CurlA)</th>\n",
       "      <th>Cvec(B0 vs CurlA0)</th>\n",
       "      <th>Cerg(B0 vs CurlA0)</th>\n",
       "      <th>|phi| (10^22 Mx)</th>\n",
       "      <th>|Iz| (10^12 A)</th>\n",
       "      <th>E (10^33 erg)</th>\n",
       "      <th>E0 (10^33 erg)</th>\n",
       "      <th>Ef (10^33 erg)</th>\n",
       "      <th>Hv (10^42 Mx^2)</th>\n",
       "      <th>Hpj (10^42 Mx^2)</th>\n",
       "      <th>Hj (10^42 Mx^2)</th>\n",
       "      <th>Unnamed: 17</th>\n",
       "    </tr>\n",
       "  </thead>\n",
       "  <tbody>\n",
       "    <tr>\n",
       "      <th>0</th>\n",
       "      <td>1.013472</td>\n",
       "      <td>0.05549</td>\n",
       "      <td>0.9826</td>\n",
       "      <td>15.483</td>\n",
       "      <td>0.000714</td>\n",
       "      <td>0.985188</td>\n",
       "      <td>1.078758</td>\n",
       "      <td>0.985185</td>\n",
       "      <td>1.039779</td>\n",
       "      <td>0.726835</td>\n",
       "      <td>0.275747</td>\n",
       "      <td>0.064569</td>\n",
       "      <td>0.064284</td>\n",
       "      <td>0.000285</td>\n",
       "      <td>0.311238</td>\n",
       "      <td>0.300328</td>\n",
       "      <td>0.010910</td>\n",
       "      <td>NaN</td>\n",
       "    </tr>\n",
       "    <tr>\n",
       "      <th>1</th>\n",
       "      <td>1.013473</td>\n",
       "      <td>0.05055</td>\n",
       "      <td>0.8399</td>\n",
       "      <td>15.015</td>\n",
       "      <td>0.000589</td>\n",
       "      <td>0.992055</td>\n",
       "      <td>1.060853</td>\n",
       "      <td>0.992110</td>\n",
       "      <td>1.024793</td>\n",
       "      <td>0.725005</td>\n",
       "      <td>0.290246</td>\n",
       "      <td>0.065259</td>\n",
       "      <td>0.064455</td>\n",
       "      <td>0.000804</td>\n",
       "      <td>0.332079</td>\n",
       "      <td>0.316284</td>\n",
       "      <td>0.015795</td>\n",
       "      <td>NaN</td>\n",
       "    </tr>\n",
       "    <tr>\n",
       "      <th>2</th>\n",
       "      <td>1.013473</td>\n",
       "      <td>0.06212</td>\n",
       "      <td>0.8715</td>\n",
       "      <td>14.131</td>\n",
       "      <td>0.000601</td>\n",
       "      <td>0.998334</td>\n",
       "      <td>1.053642</td>\n",
       "      <td>0.998787</td>\n",
       "      <td>1.009439</td>\n",
       "      <td>0.730651</td>\n",
       "      <td>0.302144</td>\n",
       "      <td>0.066330</td>\n",
       "      <td>0.065504</td>\n",
       "      <td>0.000826</td>\n",
       "      <td>0.381203</td>\n",
       "      <td>0.360013</td>\n",
       "      <td>0.021189</td>\n",
       "      <td>NaN</td>\n",
       "    </tr>\n",
       "    <tr>\n",
       "      <th>3</th>\n",
       "      <td>1.013474</td>\n",
       "      <td>0.05992</td>\n",
       "      <td>0.7363</td>\n",
       "      <td>13.987</td>\n",
       "      <td>0.000553</td>\n",
       "      <td>0.989780</td>\n",
       "      <td>1.068712</td>\n",
       "      <td>0.989365</td>\n",
       "      <td>1.027584</td>\n",
       "      <td>0.731881</td>\n",
       "      <td>0.306833</td>\n",
       "      <td>0.066692</td>\n",
       "      <td>0.065078</td>\n",
       "      <td>0.001614</td>\n",
       "      <td>0.394997</td>\n",
       "      <td>0.367393</td>\n",
       "      <td>0.027604</td>\n",
       "      <td>NaN</td>\n",
       "    </tr>\n",
       "    <tr>\n",
       "      <th>4</th>\n",
       "      <td>1.013475</td>\n",
       "      <td>0.05891</td>\n",
       "      <td>0.7421</td>\n",
       "      <td>13.168</td>\n",
       "      <td>0.000632</td>\n",
       "      <td>0.983610</td>\n",
       "      <td>1.086428</td>\n",
       "      <td>0.982812</td>\n",
       "      <td>1.045001</td>\n",
       "      <td>0.728122</td>\n",
       "      <td>0.307893</td>\n",
       "      <td>0.066290</td>\n",
       "      <td>0.064759</td>\n",
       "      <td>0.001530</td>\n",
       "      <td>0.403561</td>\n",
       "      <td>0.375148</td>\n",
       "      <td>0.028412</td>\n",
       "      <td>NaN</td>\n",
       "    </tr>\n",
       "  </tbody>\n",
       "</table>\n",
       "</div>"
      ],
      "text/plain": [
       "   TIME (10^9 sec since 1-jan-1979 )   Ediv/E   |Emix|/Ejs   <theta_J>  \\\n",
       "0                           1.013472  0.05549       0.9826      15.483   \n",
       "1                           1.013473  0.05055       0.8399      15.015   \n",
       "2                           1.013473  0.06212       0.8715      14.131   \n",
       "3                           1.013474  0.05992       0.7363      13.987   \n",
       "4                           1.013475  0.05891       0.7421      13.168   \n",
       "\n",
       "     <|fi|>   Cvec(B vs CurlA)   Cerg(B vs CurlA)   Cvec(B0 vs CurlA0)  \\\n",
       "0  0.000714           0.985188           1.078758             0.985185   \n",
       "1  0.000589           0.992055           1.060853             0.992110   \n",
       "2  0.000601           0.998334           1.053642             0.998787   \n",
       "3  0.000553           0.989780           1.068712             0.989365   \n",
       "4  0.000632           0.983610           1.086428             0.982812   \n",
       "\n",
       "    Cerg(B0 vs CurlA0)   |phi| (10^22 Mx)   |Iz| (10^12 A)   E (10^33 erg)  \\\n",
       "0             1.039779           0.726835         0.275747        0.064569   \n",
       "1             1.024793           0.725005         0.290246        0.065259   \n",
       "2             1.009439           0.730651         0.302144        0.066330   \n",
       "3             1.027584           0.731881         0.306833        0.066692   \n",
       "4             1.045001           0.728122         0.307893        0.066290   \n",
       "\n",
       "    E0 (10^33 erg)   Ef (10^33 erg)   Hv (10^42 Mx^2)   Hpj (10^42 Mx^2)  \\\n",
       "0         0.064284         0.000285          0.311238           0.300328   \n",
       "1         0.064455         0.000804          0.332079           0.316284   \n",
       "2         0.065504         0.000826          0.381203           0.360013   \n",
       "3         0.065078         0.001614          0.394997           0.367393   \n",
       "4         0.064759         0.001530          0.403561           0.375148   \n",
       "\n",
       "    Hj (10^42 Mx^2)  Unnamed: 17  \n",
       "0          0.010910          NaN  \n",
       "1          0.015795          NaN  \n",
       "2          0.021189          NaN  \n",
       "3          0.027604          NaN  \n",
       "4          0.028412          NaN  "
      ]
     },
     "execution_count": 14,
     "metadata": {},
     "output_type": "execute_result"
    }
   ],
   "source": [
    "csvtable.head()"
   ]
  },
  {
   "cell_type": "code",
   "execution_count": 15,
   "id": "e22e2e71-cd93-48cb-a909-d4ab5761f73e",
   "metadata": {
    "tags": []
   },
   "outputs": [
    {
     "data": {
      "text/plain": [
       "Index(['TIME (10^9 sec since 1-jan-1979 )', ' Ediv/E', ' |Emix|/Ejs',\n",
       "       ' <theta_J>', ' <|fi|>', ' Cvec(B vs CurlA)', ' Cerg(B vs CurlA)',\n",
       "       ' Cvec(B0 vs CurlA0)', ' Cerg(B0 vs CurlA0)', ' |phi| (10^22 Mx)',\n",
       "       ' |Iz| (10^12 A)', ' E (10^33 erg)', ' E0 (10^33 erg)',\n",
       "       ' Ef (10^33 erg)', ' Hv (10^42 Mx^2)', ' Hpj (10^42 Mx^2)',\n",
       "       ' Hj (10^42 Mx^2)', 'Unnamed: 17'],\n",
       "      dtype='object')"
      ]
     },
     "execution_count": 15,
     "metadata": {},
     "output_type": "execute_result"
    }
   ],
   "source": [
    "csvtable.keys()"
   ]
  },
  {
   "cell_type": "code",
   "execution_count": 16,
   "id": "78897daa-c6dc-40ed-a39c-a850729586bf",
   "metadata": {
    "tags": []
   },
   "outputs": [],
   "source": [
    "csvtable['TIME (10^9 sec since 1-jan-1979 )'] = csvtable['TIME (10^9 sec since 1-jan-1979 )'].map(lambda x: datetime.datetime(1979, 1, 1) + datetime.timedelta(seconds=x*1e9))"
   ]
  },
  {
   "cell_type": "code",
   "execution_count": 17,
   "id": "3cc94e6f-3096-4724-a352-e3762a4d917f",
   "metadata": {
    "tags": []
   },
   "outputs": [
    {
     "data": {
      "text/html": [
       "<div>\n",
       "<style scoped>\n",
       "    .dataframe tbody tr th:only-of-type {\n",
       "        vertical-align: middle;\n",
       "    }\n",
       "\n",
       "    .dataframe tbody tr th {\n",
       "        vertical-align: top;\n",
       "    }\n",
       "\n",
       "    .dataframe thead th {\n",
       "        text-align: right;\n",
       "    }\n",
       "</style>\n",
       "<table border=\"1\" class=\"dataframe\">\n",
       "  <thead>\n",
       "    <tr style=\"text-align: right;\">\n",
       "      <th></th>\n",
       "      <th>TIME (10^9 sec since 1-jan-1979 )</th>\n",
       "      <th>Ediv/E</th>\n",
       "      <th>|Emix|/Ejs</th>\n",
       "      <th>&lt;theta_J&gt;</th>\n",
       "      <th>&lt;|fi|&gt;</th>\n",
       "      <th>Cvec(B vs CurlA)</th>\n",
       "      <th>Cerg(B vs CurlA)</th>\n",
       "      <th>Cvec(B0 vs CurlA0)</th>\n",
       "      <th>Cerg(B0 vs CurlA0)</th>\n",
       "      <th>|phi| (10^22 Mx)</th>\n",
       "      <th>|Iz| (10^12 A)</th>\n",
       "      <th>E (10^33 erg)</th>\n",
       "      <th>E0 (10^33 erg)</th>\n",
       "      <th>Ef (10^33 erg)</th>\n",
       "      <th>Hv (10^42 Mx^2)</th>\n",
       "      <th>Hpj (10^42 Mx^2)</th>\n",
       "      <th>Hj (10^42 Mx^2)</th>\n",
       "      <th>Unnamed: 17</th>\n",
       "    </tr>\n",
       "  </thead>\n",
       "  <tbody>\n",
       "    <tr>\n",
       "      <th>360</th>\n",
       "      <td>2011-02-14 23:58:20</td>\n",
       "      <td>0.04875</td>\n",
       "      <td>0.2235</td>\n",
       "      <td>7.5096</td>\n",
       "      <td>0.000270</td>\n",
       "      <td>0.998741</td>\n",
       "      <td>1.032652</td>\n",
       "      <td>0.998748</td>\n",
       "      <td>1.011900</td>\n",
       "      <td>2.777222</td>\n",
       "      <td>2.151170</td>\n",
       "      <td>0.969970</td>\n",
       "      <td>0.802275</td>\n",
       "      <td>0.167695</td>\n",
       "      <td>6.287326</td>\n",
       "      <td>5.294022</td>\n",
       "      <td>0.993305</td>\n",
       "      <td>NaN</td>\n",
       "    </tr>\n",
       "    <tr>\n",
       "      <th>361</th>\n",
       "      <td>2011-02-15 00:10:00</td>\n",
       "      <td>0.05306</td>\n",
       "      <td>0.2390</td>\n",
       "      <td>7.5463</td>\n",
       "      <td>0.000304</td>\n",
       "      <td>0.997966</td>\n",
       "      <td>1.036386</td>\n",
       "      <td>0.997849</td>\n",
       "      <td>1.012780</td>\n",
       "      <td>2.775169</td>\n",
       "      <td>2.148169</td>\n",
       "      <td>0.961620</td>\n",
       "      <td>0.795868</td>\n",
       "      <td>0.165752</td>\n",
       "      <td>6.073086</td>\n",
       "      <td>5.109203</td>\n",
       "      <td>0.963883</td>\n",
       "      <td>NaN</td>\n",
       "    </tr>\n",
       "    <tr>\n",
       "      <th>362</th>\n",
       "      <td>2011-02-15 00:23:20</td>\n",
       "      <td>0.04511</td>\n",
       "      <td>0.2027</td>\n",
       "      <td>7.3899</td>\n",
       "      <td>0.000278</td>\n",
       "      <td>0.999106</td>\n",
       "      <td>1.028955</td>\n",
       "      <td>0.999309</td>\n",
       "      <td>1.011580</td>\n",
       "      <td>2.791271</td>\n",
       "      <td>2.156251</td>\n",
       "      <td>0.979040</td>\n",
       "      <td>0.802198</td>\n",
       "      <td>0.176843</td>\n",
       "      <td>6.421376</td>\n",
       "      <td>5.391019</td>\n",
       "      <td>1.030358</td>\n",
       "      <td>NaN</td>\n",
       "    </tr>\n",
       "    <tr>\n",
       "      <th>363</th>\n",
       "      <td>2011-02-15 00:35:00</td>\n",
       "      <td>0.05108</td>\n",
       "      <td>0.2276</td>\n",
       "      <td>7.5443</td>\n",
       "      <td>0.000299</td>\n",
       "      <td>0.994106</td>\n",
       "      <td>1.038547</td>\n",
       "      <td>0.992868</td>\n",
       "      <td>1.017554</td>\n",
       "      <td>2.801060</td>\n",
       "      <td>2.159459</td>\n",
       "      <td>0.976441</td>\n",
       "      <td>0.804075</td>\n",
       "      <td>0.172366</td>\n",
       "      <td>6.009589</td>\n",
       "      <td>4.997638</td>\n",
       "      <td>1.011951</td>\n",
       "      <td>NaN</td>\n",
       "    </tr>\n",
       "    <tr>\n",
       "      <th>364</th>\n",
       "      <td>2011-02-15 00:46:40</td>\n",
       "      <td>0.05317</td>\n",
       "      <td>0.2347</td>\n",
       "      <td>7.6243</td>\n",
       "      <td>0.000303</td>\n",
       "      <td>0.942417</td>\n",
       "      <td>1.170494</td>\n",
       "      <td>0.932769</td>\n",
       "      <td>1.175758</td>\n",
       "      <td>2.774222</td>\n",
       "      <td>2.151859</td>\n",
       "      <td>0.963103</td>\n",
       "      <td>0.793128</td>\n",
       "      <td>0.169975</td>\n",
       "      <td>7.278496</td>\n",
       "      <td>6.303548</td>\n",
       "      <td>0.974948</td>\n",
       "      <td>NaN</td>\n",
       "    </tr>\n",
       "    <tr>\n",
       "      <th>...</th>\n",
       "      <td>...</td>\n",
       "      <td>...</td>\n",
       "      <td>...</td>\n",
       "      <td>...</td>\n",
       "      <td>...</td>\n",
       "      <td>...</td>\n",
       "      <td>...</td>\n",
       "      <td>...</td>\n",
       "      <td>...</td>\n",
       "      <td>...</td>\n",
       "      <td>...</td>\n",
       "      <td>...</td>\n",
       "      <td>...</td>\n",
       "      <td>...</td>\n",
       "      <td>...</td>\n",
       "      <td>...</td>\n",
       "      <td>...</td>\n",
       "      <td>...</td>\n",
       "    </tr>\n",
       "    <tr>\n",
       "      <th>596</th>\n",
       "      <td>2011-02-16 23:10:00</td>\n",
       "      <td>0.11740</td>\n",
       "      <td>0.5404</td>\n",
       "      <td>8.4057</td>\n",
       "      <td>0.000357</td>\n",
       "      <td>0.992331</td>\n",
       "      <td>1.082546</td>\n",
       "      <td>0.990387</td>\n",
       "      <td>1.021056</td>\n",
       "      <td>3.125030</td>\n",
       "      <td>2.059144</td>\n",
       "      <td>0.966184</td>\n",
       "      <td>0.862507</td>\n",
       "      <td>0.103678</td>\n",
       "      <td>7.154742</td>\n",
       "      <td>6.968663</td>\n",
       "      <td>0.186079</td>\n",
       "      <td>NaN</td>\n",
       "    </tr>\n",
       "    <tr>\n",
       "      <th>597</th>\n",
       "      <td>2011-02-16 23:23:20</td>\n",
       "      <td>0.13420</td>\n",
       "      <td>0.5958</td>\n",
       "      <td>8.5558</td>\n",
       "      <td>0.000369</td>\n",
       "      <td>0.986905</td>\n",
       "      <td>1.102547</td>\n",
       "      <td>0.985609</td>\n",
       "      <td>1.032935</td>\n",
       "      <td>3.134229</td>\n",
       "      <td>2.062431</td>\n",
       "      <td>0.965498</td>\n",
       "      <td>0.868929</td>\n",
       "      <td>0.096569</td>\n",
       "      <td>7.515962</td>\n",
       "      <td>7.337620</td>\n",
       "      <td>0.178342</td>\n",
       "      <td>NaN</td>\n",
       "    </tr>\n",
       "    <tr>\n",
       "      <th>598</th>\n",
       "      <td>2011-02-16 23:35:00</td>\n",
       "      <td>0.13950</td>\n",
       "      <td>0.6057</td>\n",
       "      <td>8.7140</td>\n",
       "      <td>0.000379</td>\n",
       "      <td>0.717703</td>\n",
       "      <td>2.015301</td>\n",
       "      <td>0.712582</td>\n",
       "      <td>2.044497</td>\n",
       "      <td>3.128514</td>\n",
       "      <td>2.085430</td>\n",
       "      <td>0.958422</td>\n",
       "      <td>0.862494</td>\n",
       "      <td>0.095928</td>\n",
       "      <td>8.551038</td>\n",
       "      <td>8.345994</td>\n",
       "      <td>0.205044</td>\n",
       "      <td>NaN</td>\n",
       "    </tr>\n",
       "    <tr>\n",
       "      <th>599</th>\n",
       "      <td>2011-02-16 23:46:40</td>\n",
       "      <td>0.13620</td>\n",
       "      <td>0.5870</td>\n",
       "      <td>8.4801</td>\n",
       "      <td>0.000381</td>\n",
       "      <td>0.987589</td>\n",
       "      <td>1.099634</td>\n",
       "      <td>0.987086</td>\n",
       "      <td>1.030978</td>\n",
       "      <td>3.143723</td>\n",
       "      <td>2.090933</td>\n",
       "      <td>0.967454</td>\n",
       "      <td>0.866219</td>\n",
       "      <td>0.101236</td>\n",
       "      <td>7.509053</td>\n",
       "      <td>7.265242</td>\n",
       "      <td>0.243812</td>\n",
       "      <td>NaN</td>\n",
       "    </tr>\n",
       "    <tr>\n",
       "      <th>600</th>\n",
       "      <td>2011-02-16 23:58:20</td>\n",
       "      <td>0.13440</td>\n",
       "      <td>0.5859</td>\n",
       "      <td>8.6065</td>\n",
       "      <td>0.000373</td>\n",
       "      <td>0.983948</td>\n",
       "      <td>1.109679</td>\n",
       "      <td>0.981829</td>\n",
       "      <td>1.041952</td>\n",
       "      <td>3.141892</td>\n",
       "      <td>2.086863</td>\n",
       "      <td>0.964206</td>\n",
       "      <td>0.864167</td>\n",
       "      <td>0.100038</td>\n",
       "      <td>7.782279</td>\n",
       "      <td>7.504650</td>\n",
       "      <td>0.277630</td>\n",
       "      <td>NaN</td>\n",
       "    </tr>\n",
       "  </tbody>\n",
       "</table>\n",
       "<p>241 rows × 18 columns</p>\n",
       "</div>"
      ],
      "text/plain": [
       "    TIME (10^9 sec since 1-jan-1979 )   Ediv/E   |Emix|/Ejs   <theta_J>  \\\n",
       "360               2011-02-14 23:58:20  0.04875       0.2235      7.5096   \n",
       "361               2011-02-15 00:10:00  0.05306       0.2390      7.5463   \n",
       "362               2011-02-15 00:23:20  0.04511       0.2027      7.3899   \n",
       "363               2011-02-15 00:35:00  0.05108       0.2276      7.5443   \n",
       "364               2011-02-15 00:46:40  0.05317       0.2347      7.6243   \n",
       "..                                ...      ...          ...         ...   \n",
       "596               2011-02-16 23:10:00  0.11740       0.5404      8.4057   \n",
       "597               2011-02-16 23:23:20  0.13420       0.5958      8.5558   \n",
       "598               2011-02-16 23:35:00  0.13950       0.6057      8.7140   \n",
       "599               2011-02-16 23:46:40  0.13620       0.5870      8.4801   \n",
       "600               2011-02-16 23:58:20  0.13440       0.5859      8.6065   \n",
       "\n",
       "       <|fi|>   Cvec(B vs CurlA)   Cerg(B vs CurlA)   Cvec(B0 vs CurlA0)  \\\n",
       "360  0.000270           0.998741           1.032652             0.998748   \n",
       "361  0.000304           0.997966           1.036386             0.997849   \n",
       "362  0.000278           0.999106           1.028955             0.999309   \n",
       "363  0.000299           0.994106           1.038547             0.992868   \n",
       "364  0.000303           0.942417           1.170494             0.932769   \n",
       "..        ...                ...                ...                  ...   \n",
       "596  0.000357           0.992331           1.082546             0.990387   \n",
       "597  0.000369           0.986905           1.102547             0.985609   \n",
       "598  0.000379           0.717703           2.015301             0.712582   \n",
       "599  0.000381           0.987589           1.099634             0.987086   \n",
       "600  0.000373           0.983948           1.109679             0.981829   \n",
       "\n",
       "      Cerg(B0 vs CurlA0)   |phi| (10^22 Mx)   |Iz| (10^12 A)   E (10^33 erg)  \\\n",
       "360             1.011900           2.777222         2.151170        0.969970   \n",
       "361             1.012780           2.775169         2.148169        0.961620   \n",
       "362             1.011580           2.791271         2.156251        0.979040   \n",
       "363             1.017554           2.801060         2.159459        0.976441   \n",
       "364             1.175758           2.774222         2.151859        0.963103   \n",
       "..                   ...                ...              ...             ...   \n",
       "596             1.021056           3.125030         2.059144        0.966184   \n",
       "597             1.032935           3.134229         2.062431        0.965498   \n",
       "598             2.044497           3.128514         2.085430        0.958422   \n",
       "599             1.030978           3.143723         2.090933        0.967454   \n",
       "600             1.041952           3.141892         2.086863        0.964206   \n",
       "\n",
       "      E0 (10^33 erg)   Ef (10^33 erg)   Hv (10^42 Mx^2)   Hpj (10^42 Mx^2)  \\\n",
       "360         0.802275         0.167695          6.287326           5.294022   \n",
       "361         0.795868         0.165752          6.073086           5.109203   \n",
       "362         0.802198         0.176843          6.421376           5.391019   \n",
       "363         0.804075         0.172366          6.009589           4.997638   \n",
       "364         0.793128         0.169975          7.278496           6.303548   \n",
       "..               ...              ...               ...                ...   \n",
       "596         0.862507         0.103678          7.154742           6.968663   \n",
       "597         0.868929         0.096569          7.515962           7.337620   \n",
       "598         0.862494         0.095928          8.551038           8.345994   \n",
       "599         0.866219         0.101236          7.509053           7.265242   \n",
       "600         0.864167         0.100038          7.782279           7.504650   \n",
       "\n",
       "      Hj (10^42 Mx^2)  Unnamed: 17  \n",
       "360          0.993305          NaN  \n",
       "361          0.963883          NaN  \n",
       "362          1.030358          NaN  \n",
       "363          1.011951          NaN  \n",
       "364          0.974948          NaN  \n",
       "..                ...          ...  \n",
       "596          0.186079          NaN  \n",
       "597          0.178342          NaN  \n",
       "598          0.205044          NaN  \n",
       "599          0.243812          NaN  \n",
       "600          0.277630          NaN  \n",
       "\n",
       "[241 rows x 18 columns]"
      ]
     },
     "execution_count": 17,
     "metadata": {},
     "output_type": "execute_result"
    }
   ],
   "source": [
    "csvtable[csvtable['TIME (10^9 sec since 1-jan-1979 )'] >= datetime.datetime(2011, 2, 14, 23, 55, 0)]"
   ]
  },
  {
   "cell_type": "code",
   "execution_count": 18,
   "id": "d0454864-00f9-40c1-820f-3d1c42f7cc0c",
   "metadata": {
    "tags": []
   },
   "outputs": [],
   "source": [
    "from nf2.evaluation.energy import get_free_mag_energy\n",
    "from nf2.train.metric import energy"
   ]
  },
  {
   "cell_type": "code",
   "execution_count": 19,
   "id": "5858850b-689a-4e6c-bb54-62678d3d36ed",
   "metadata": {
    "tags": []
   },
   "outputs": [],
   "source": [
    "me = energy(b)"
   ]
  },
  {
   "cell_type": "code",
   "execution_count": 20,
   "id": "63c89b8a-4801-41a1-8096-a595f2e08f11",
   "metadata": {
    "tags": []
   },
   "outputs": [
    {
     "data": {
      "text/plain": [
       "(296, 184, 160)"
      ]
     },
     "execution_count": 20,
     "metadata": {},
     "output_type": "execute_result"
    }
   ],
   "source": [
    "me.shape"
   ]
  },
  {
   "cell_type": "code",
   "execution_count": 1,
   "id": "6691f4bd",
   "metadata": {},
   "outputs": [],
   "source": [
    "# 0.969970"
   ]
  },
  {
   "cell_type": "code",
   "execution_count": 85,
   "id": "f676840b-9ecb-49e9-8703-968c28d8f758",
   "metadata": {
    "tags": []
   },
   "outputs": [
    {
     "ename": "NameError",
     "evalue": "name 'me' is not defined",
     "output_type": "error",
     "traceback": [
      "\u001b[0;31m---------------------------------------------------------------------------\u001b[0m",
      "\u001b[0;31mNameError\u001b[0m                                 Traceback (most recent call last)",
      "Cell \u001b[0;32mIn[85], line 3\u001b[0m\n\u001b[1;32m      1\u001b[0m cm_per_pixel \u001b[38;5;241m=\u001b[39m \u001b[38;5;241m360e5\u001b[39m \u001b[38;5;241m*\u001b[39m \u001b[38;5;241m2\u001b[39m\n\u001b[1;32m      2\u001b[0m dV \u001b[38;5;241m=\u001b[39m cm_per_pixel\u001b[38;5;241m*\u001b[39m\u001b[38;5;241m*\u001b[39m\u001b[38;5;241m3\u001b[39m\n\u001b[0;32m----> 3\u001b[0m E \u001b[38;5;241m=\u001b[39m \u001b[43mme\u001b[49m\u001b[38;5;241m.\u001b[39msum()\u001b[38;5;241m*\u001b[39mdV\n\u001b[1;32m      4\u001b[0m E\u001b[38;5;241m/\u001b[39m\u001b[38;5;241m1e33\u001b[39m\n",
      "\u001b[0;31mNameError\u001b[0m: name 'me' is not defined"
     ]
    }
   ],
   "source": [
    "cm_per_pixel = 360e5 * 2\n",
    "dV = cm_per_pixel**3\n",
    "E = me.sum()*dV\n",
    "E/1e33"
   ]
  },
  {
   "cell_type": "code",
   "execution_count": 39,
   "id": "d42af04a-000d-480d-b098-e33746e35682",
   "metadata": {
    "tags": []
   },
   "outputs": [
    {
     "data": {
      "text/plain": [
       "34552126.64473128"
      ]
     },
     "execution_count": 39,
     "metadata": {},
     "output_type": "execute_result"
    }
   ],
   "source": [
    "vv = 0.969970*1e33 / me.sum()\n",
    "k = vv**(1/3)\n",
    "k/2"
   ]
  },
  {
   "cell_type": "code",
   "execution_count": 1,
   "id": "2187ab60-6cdd-46e4-996e-28a06daf295d",
   "metadata": {
    "tags": []
   },
   "outputs": [],
   "source": [
    "from NLFFF.load_nlfff import nlfff"
   ]
  },
  {
   "cell_type": "code",
   "execution_count": 3,
   "id": "00b02be8-f922-476b-a56f-5b128ddf0a16",
   "metadata": {
    "tags": []
   },
   "outputs": [],
   "source": [
    "from pathlib import Path"
   ]
  },
  {
   "cell_type": "code",
   "execution_count": 5,
   "id": "abdf1ca8",
   "metadata": {
    "tags": []
   },
   "outputs": [],
   "source": [
    "naspath = Path('/Volumes/drive/Research/SSWLAB/NF2/Kusano_DB/NOAA11158')"
   ]
  },
  {
   "cell_type": "code",
   "execution_count": 6,
   "id": "683968c0-88d2-456b-b302-b7208314edaa",
   "metadata": {
    "tags": []
   },
   "outputs": [],
   "source": [
    "ncpath = naspath / '11158_20110215_000000.nc'"
   ]
  },
  {
   "cell_type": "code",
   "execution_count": 8,
   "id": "d6cd5eef-4100-4c08-aefe-0a5150900927",
   "metadata": {
    "tags": []
   },
   "outputs": [
    {
     "name": "stdout",
     "output_type": "stream",
     "text": [
      "x (westward)  unit: Mm\n",
      "y (northward)  unit: Mm\n",
      "z (out ot photosphere)  unit: Mm\n",
      "Bx (westward)  unit: G\n",
      "By (northward)  unit: G\n",
      "Bz (out of photosphere)  unit: G\n",
      "Bx_pot (westward)  unit: G\n",
      "By_pot (northward)  unit: G\n",
      "Bz_pot (out of photosphere)  unit: G\n"
     ]
    }
   ],
   "source": [
    "nlff = nlfff(ncpath)"
   ]
  },
  {
   "cell_type": "code",
   "execution_count": 11,
   "id": "33e01528-a1da-45e2-b0e4-3b05c18d5cdf",
   "metadata": {
    "tags": []
   },
   "outputs": [],
   "source": [
    "import numpy as np"
   ]
  },
  {
   "cell_type": "code",
   "execution_count": 66,
   "id": "ccb26816-7ddb-4a79-8bfb-33ed8f3feb90",
   "metadata": {
    "tags": []
   },
   "outputs": [],
   "source": [
    "b = np.stack((nlff.bx, nlff.by, nlff.bz), axis=-1)"
   ]
  },
  {
   "cell_type": "code",
   "execution_count": 67,
   "id": "49b7d99b-cae4-4c60-a2a7-eee330872309",
   "metadata": {
    "tags": []
   },
   "outputs": [
    {
     "data": {
      "text/plain": [
       "(513, 257, 257, 3)"
      ]
     },
     "execution_count": 67,
     "metadata": {},
     "output_type": "execute_result"
    }
   ],
   "source": [
    "b.shape"
   ]
  },
  {
   "cell_type": "code",
   "execution_count": 68,
   "id": "874705ab-b2f2-4a07-8aab-07f0318e58c2",
   "metadata": {
    "tags": []
   },
   "outputs": [],
   "source": [
    "nlfenergy = (b ** 2).sum(-1) / (8 * np.pi)"
   ]
  },
  {
   "cell_type": "code",
   "execution_count": 96,
   "id": "e0bf0d5b-0dbe-41b6-a2bf-bdad33939289",
   "metadata": {
    "tags": []
   },
   "outputs": [],
   "source": [
    "Mm_per_pixel = nlff.x[99] - nlff.x[98]\n",
    "# (cm/pixel) = (Mm/pixel)*(1e8cm/1Mm) = (Mm/pixel)*(1e8)\n",
    "cm_per_pixel = 2*Mm_per_pixel*1e8\n",
    "dV = cm_per_pixel**3"
   ]
  },
  {
   "cell_type": "code",
   "execution_count": 97,
   "id": "18983054-4e74-48e3-b11b-aea8065a098d",
   "metadata": {
    "tags": []
   },
   "outputs": [],
   "source": [
    "# 0.969970"
   ]
  },
  {
   "cell_type": "code",
   "execution_count": 98,
   "id": "ab1f88ba-2ebf-44be-a6ee-990ba74348ff",
   "metadata": {
    "tags": []
   },
   "outputs": [
    {
     "data": {
      "text/plain": [
       "1.384016660625922"
      ]
     },
     "execution_count": 98,
     "metadata": {},
     "output_type": "execute_result"
    }
   ],
   "source": [
    "EE = nlfenergy.sum()*dV\n",
    "EE/1e33"
   ]
  },
  {
   "cell_type": "code",
   "execution_count": 99,
   "id": "5050b7b3-d5e8-4fde-961b-b331e19d66ca",
   "metadata": {
    "tags": []
   },
   "outputs": [
    {
     "data": {
      "text/plain": [
       "1.384016660625922e+33"
      ]
     },
     "execution_count": 99,
     "metadata": {},
     "output_type": "execute_result"
    }
   ],
   "source": [
    "energy_density = (nlff.bx**2 + nlff.by**2 + nlff.bz**2) / (8 * np.pi)\n",
    "energy_density.sum()*dV"
   ]
  },
  {
   "cell_type": "code",
   "execution_count": 102,
   "id": "756461ec-9f70-48ab-b632-eea436e8a5c3",
   "metadata": {
    "tags": []
   },
   "outputs": [
    {
     "data": {
      "text/plain": [
       "106.56"
      ]
     },
     "execution_count": 102,
     "metadata": {},
     "output_type": "execute_result"
    }
   ],
   "source": [
    "296 * 0.36"
   ]
  },
  {
   "cell_type": "code",
   "execution_count": 103,
   "id": "3bab4b54-4c27-4ab5-99b7-501ce6792ef2",
   "metadata": {
    "tags": []
   },
   "outputs": [
    {
     "data": {
      "text/plain": [
       "143.85967007292112"
      ]
     },
     "execution_count": 103,
     "metadata": {},
     "output_type": "execute_result"
    }
   ],
   "source": [
    "513 * Mm_per_pixel"
   ]
  },
  {
   "cell_type": "code",
   "execution_count": null,
   "id": "ed69007f-7fce-4d99-b177-5f0322107e0b",
   "metadata": {},
   "outputs": [],
   "source": []
  }
 ],
 "metadata": {
  "kernelspec": {
   "display_name": "Python 3 (ipykernel)",
   "language": "python",
   "name": "python3"
  },
  "language_info": {
   "codemirror_mode": {
    "name": "ipython",
    "version": 3
   },
   "file_extension": ".py",
   "mimetype": "text/x-python",
   "name": "python",
   "nbconvert_exporter": "python",
   "pygments_lexer": "ipython3",
   "version": "3.10.9"
  },
  "vscode": {
   "interpreter": {
    "hash": "59f3145cc67fcda0343c2852f1f97113a2e6e98841e887156424448e7071ad54"
   }
  }
 },
 "nbformat": 4,
 "nbformat_minor": 5
}
