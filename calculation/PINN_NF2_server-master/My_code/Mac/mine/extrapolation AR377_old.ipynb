{
 "cells": [
  {
   "cell_type": "markdown",
   "metadata": {
    "id": "PUyTcoQyXRdt"
   },
   "source": [
    "# Drive Mount"
   ]
  },
  {
   "cell_type": "code",
   "execution_count": 1,
   "metadata": {
    "colab": {
     "base_uri": "https://localhost:8080/"
    },
    "executionInfo": {
     "elapsed": 49708,
     "status": "ok",
     "timestamp": 1677041936701,
     "user": {
      "displayName": "Reference First",
      "userId": "17582447588053749469"
     },
     "user_tz": -540
    },
    "id": "dIWQTV5DAzew",
    "outputId": "f559638c-2b07-4a88-ec68-6ca05d21f0f5"
   },
   "outputs": [
    {
     "name": "stdout",
     "output_type": "stream",
     "text": [
      "Mounted at /content/drive\n"
     ]
    }
   ],
   "source": [
    "from google.colab import drive\n",
    "drive.mount('/content/drive')"
   ]
  },
  {
   "cell_type": "code",
   "execution_count": 2,
   "metadata": {
    "colab": {
     "base_uri": "https://localhost:8080/"
    },
    "executionInfo": {
     "elapsed": 21,
     "status": "ok",
     "timestamp": 1677041936702,
     "user": {
      "displayName": "Reference First",
      "userId": "17582447588053749469"
     },
     "user_tz": -540
    },
    "id": "bANKxdCtBDBv",
    "outputId": "6dd3310c-4cf3-40fd-a469-b69490dbbcb2"
   },
   "outputs": [
    {
     "name": "stdout",
     "output_type": "stream",
     "text": [
      "/content/drive/.shortcut-targets-by-id/1kBpsdlzoY9Dl5Og9N1a-GxSNoIkIrQV4/PINN\n"
     ]
    }
   ],
   "source": [
    "%cd /content/drive/My Drive/PINN"
   ]
  },
  {
   "cell_type": "code",
   "execution_count": 3,
   "metadata": {
    "colab": {
     "base_uri": "https://localhost:8080/"
    },
    "executionInfo": {
     "elapsed": 3091,
     "status": "ok",
     "timestamp": 1677041939777,
     "user": {
      "displayName": "Reference First",
      "userId": "17582447588053749469"
     },
     "user_tz": -540
    },
    "id": "NuHqHn5-Rp_v",
    "outputId": "bd5630ce-5c16-41df-eaa3-8d0214381616"
   },
   "outputs": [
    {
     "name": "stdout",
     "output_type": "stream",
     "text": [
      "total 2286\n",
      "drwx------ 2 root root    4096 Feb  6 06:29  ar_377_2011-02-12T00:00:00\n",
      "drwx------ 2 root root    4096 Feb  6 01:28  AR_377_series\n",
      "drwx------ 2 root root    4096 Feb  6 08:03  ar_7115_2017-09-06T08:36:00\n",
      "drwx------ 2 root root    4096 Feb  6 07:56  AR_7115_series\n",
      "drwx------ 2 root root    4096 Feb  7 10:24  ar_series_377_2011-02-12T00:00:00\n",
      "drwx------ 2 root root    4096 Feb  7 23:25  ar_series_7115_2017-09-06T08:36:00\n",
      "-rw------- 1 root root   94373 Feb 15 14:22  B.png\n",
      "drwx------ 2 root root    4096 Feb 15 09:34  database\n",
      "-rw------- 1 root root  482616 Feb 22 04:58 'extrapolation AR377.ipynb'\n",
      "-rw------- 1 root root  123929 Feb  8 04:50 'extrapolation AR7115.ipynb'\n",
      "-rw------- 1 root root   72789 Feb  8 11:12  hmi_cropped_binning.png\n",
      "-rw------- 1 root root   75924 Feb  8 11:12  hmi_cropped.png\n",
      "-rw------- 1 root root   63855 Feb  8 11:12  hmi_original.png\n",
      "-rw------- 1 root root 1395900 Feb 16 02:57  Untitled0.ipynb\n"
     ]
    }
   ],
   "source": [
    "!ls -l"
   ]
  },
  {
   "cell_type": "markdown",
   "metadata": {
    "id": "vGdTQSN6GA6z"
   },
   "source": [
    "# Import"
   ]
  },
  {
   "cell_type": "code",
   "execution_count": 4,
   "metadata": {
    "colab": {
     "base_uri": "https://localhost:8080/"
    },
    "executionInfo": {
     "elapsed": 16833,
     "status": "ok",
     "timestamp": 1677041956601,
     "user": {
      "displayName": "Reference First",
      "userId": "17582447588053749469"
     },
     "user_tz": -540
    },
    "id": "l5_9wsH1cmsh",
    "outputId": "b5c51083-6339-4ae7-8ad5-79f780221697"
   },
   "outputs": [
    {
     "name": "stdout",
     "output_type": "stream",
     "text": [
      "Looking in indexes: https://pypi.org/simple, https://us-python.pkg.dev/colab-wheels/public/simple/\n",
      "Collecting git+https://github.com/RobertJaro/NF2.git\n",
      "  Cloning https://github.com/RobertJaro/NF2.git to /tmp/pip-req-build-rm5ami06\n",
      "  Running command git clone --filter=blob:none --quiet https://github.com/RobertJaro/NF2.git /tmp/pip-req-build-rm5ami06\n",
      "  Resolved https://github.com/RobertJaro/NF2.git to commit cbd3e684d2040d258213cdb9b0372ca177ac5f3a\n",
      "  Preparing metadata (setup.py) ... \u001b[?25l\u001b[?25hdone\n",
      "Requirement already satisfied: torch>=1.8 in /usr/local/lib/python3.8/dist-packages (from nf2==0.2) (1.13.1+cu116)\n",
      "Collecting sunpy>=3.0\n",
      "  Downloading sunpy-4.1.3-cp38-abi3-manylinux_2_17_x86_64.manylinux2014_x86_64.whl (3.3 MB)\n",
      "\u001b[2K     \u001b[90m━━━━━━━━━━━━━━━━━━━━━━━━━━━━━━━━━━━━━━━━\u001b[0m \u001b[32m3.3/3.3 MB\u001b[0m \u001b[31m28.5 MB/s\u001b[0m eta \u001b[36m0:00:00\u001b[0m\n",
      "\u001b[?25hRequirement already satisfied: scikit-image in /usr/local/lib/python3.8/dist-packages (from nf2==0.2) (0.18.3)\n",
      "Requirement already satisfied: scikit-learn in /usr/local/lib/python3.8/dist-packages (from nf2==0.2) (1.0.2)\n",
      "Requirement already satisfied: tqdm in /usr/local/lib/python3.8/dist-packages (from nf2==0.2) (4.64.1)\n",
      "Requirement already satisfied: numpy in /usr/local/lib/python3.8/dist-packages (from nf2==0.2) (1.21.6)\n",
      "Requirement already satisfied: matplotlib in /usr/local/lib/python3.8/dist-packages (from nf2==0.2) (3.2.2)\n",
      "Requirement already satisfied: astropy in /usr/local/lib/python3.8/dist-packages (from nf2==0.2) (4.3.1)\n",
      "Collecting drms\n",
      "  Downloading drms-0.6.3-py3-none-any.whl (35 kB)\n",
      "Collecting parfive[ftp]>=1.2.0\n",
      "  Downloading parfive-2.0.2-py3-none-any.whl (26 kB)\n",
      "Requirement already satisfied: packaging>=19.0 in /usr/local/lib/python3.8/dist-packages (from sunpy>=3.0->nf2==0.2) (23.0)\n",
      "Requirement already satisfied: pyerfa>=1.7.3 in /usr/local/lib/python3.8/dist-packages (from astropy->nf2==0.2) (2.0.0.1)\n",
      "Requirement already satisfied: typing-extensions in /usr/local/lib/python3.8/dist-packages (from torch>=1.8->nf2==0.2) (4.5.0)\n",
      "Requirement already satisfied: pandas in /usr/local/lib/python3.8/dist-packages (from drms->nf2==0.2) (1.3.5)\n",
      "Requirement already satisfied: kiwisolver>=1.0.1 in /usr/local/lib/python3.8/dist-packages (from matplotlib->nf2==0.2) (1.4.4)\n",
      "Requirement already satisfied: pyparsing!=2.0.4,!=2.1.2,!=2.1.6,>=2.0.1 in /usr/local/lib/python3.8/dist-packages (from matplotlib->nf2==0.2) (3.0.9)\n",
      "Requirement already satisfied: cycler>=0.10 in /usr/local/lib/python3.8/dist-packages (from matplotlib->nf2==0.2) (0.11.0)\n",
      "Requirement already satisfied: python-dateutil>=2.1 in /usr/local/lib/python3.8/dist-packages (from matplotlib->nf2==0.2) (2.8.2)\n",
      "Requirement already satisfied: networkx>=2.0 in /usr/local/lib/python3.8/dist-packages (from scikit-image->nf2==0.2) (3.0)\n",
      "Requirement already satisfied: scipy>=1.0.1 in /usr/local/lib/python3.8/dist-packages (from scikit-image->nf2==0.2) (1.7.3)\n",
      "Requirement already satisfied: imageio>=2.3.0 in /usr/local/lib/python3.8/dist-packages (from scikit-image->nf2==0.2) (2.9.0)\n",
      "Requirement already satisfied: PyWavelets>=1.1.1 in /usr/local/lib/python3.8/dist-packages (from scikit-image->nf2==0.2) (1.4.1)\n",
      "Requirement already satisfied: pillow!=7.1.0,!=7.1.1,>=4.3.0 in /usr/local/lib/python3.8/dist-packages (from scikit-image->nf2==0.2) (7.1.2)\n",
      "Requirement already satisfied: tifffile>=2019.7.26 in /usr/local/lib/python3.8/dist-packages (from scikit-image->nf2==0.2) (2023.2.3)\n",
      "Requirement already satisfied: threadpoolctl>=2.0.0 in /usr/local/lib/python3.8/dist-packages (from scikit-learn->nf2==0.2) (3.1.0)\n",
      "Requirement already satisfied: joblib>=0.11 in /usr/local/lib/python3.8/dist-packages (from scikit-learn->nf2==0.2) (1.2.0)\n",
      "Requirement already satisfied: aiohttp in /usr/local/lib/python3.8/dist-packages (from parfive[ftp]>=1.2.0->sunpy>=3.0->nf2==0.2) (3.8.4)\n",
      "Collecting aioftp>=0.17.1\n",
      "  Downloading aioftp-0.21.4-py3-none-any.whl (37 kB)\n",
      "Requirement already satisfied: six>=1.5 in /usr/local/lib/python3.8/dist-packages (from python-dateutil>=2.1->matplotlib->nf2==0.2) (1.15.0)\n",
      "Requirement already satisfied: pytz>=2017.3 in /usr/local/lib/python3.8/dist-packages (from pandas->drms->nf2==0.2) (2022.7.1)\n",
      "Requirement already satisfied: async-timeout<5.0,>=4.0.0a3 in /usr/local/lib/python3.8/dist-packages (from aiohttp->parfive[ftp]>=1.2.0->sunpy>=3.0->nf2==0.2) (4.0.2)\n",
      "Requirement already satisfied: yarl<2.0,>=1.0 in /usr/local/lib/python3.8/dist-packages (from aiohttp->parfive[ftp]>=1.2.0->sunpy>=3.0->nf2==0.2) (1.8.2)\n",
      "Requirement already satisfied: multidict<7.0,>=4.5 in /usr/local/lib/python3.8/dist-packages (from aiohttp->parfive[ftp]>=1.2.0->sunpy>=3.0->nf2==0.2) (6.0.4)\n",
      "Requirement already satisfied: aiosignal>=1.1.2 in /usr/local/lib/python3.8/dist-packages (from aiohttp->parfive[ftp]>=1.2.0->sunpy>=3.0->nf2==0.2) (1.3.1)\n",
      "Requirement already satisfied: frozenlist>=1.1.1 in /usr/local/lib/python3.8/dist-packages (from aiohttp->parfive[ftp]>=1.2.0->sunpy>=3.0->nf2==0.2) (1.3.3)\n",
      "Requirement already satisfied: charset-normalizer<4.0,>=2.0 in /usr/local/lib/python3.8/dist-packages (from aiohttp->parfive[ftp]>=1.2.0->sunpy>=3.0->nf2==0.2) (3.0.1)\n",
      "Requirement already satisfied: attrs>=17.3.0 in /usr/local/lib/python3.8/dist-packages (from aiohttp->parfive[ftp]>=1.2.0->sunpy>=3.0->nf2==0.2) (22.2.0)\n",
      "Requirement already satisfied: idna>=2.0 in /usr/local/lib/python3.8/dist-packages (from yarl<2.0,>=1.0->aiohttp->parfive[ftp]>=1.2.0->sunpy>=3.0->nf2==0.2) (2.10)\n",
      "Building wheels for collected packages: nf2\n",
      "  Building wheel for nf2 (setup.py) ... \u001b[?25l\u001b[?25hdone\n",
      "  Created wheel for nf2: filename=nf2-0.2-py3-none-any.whl size=39371 sha256=ecd5b2b20439393f2ff4b88a023f5aab2d54b433f434768efc2f75c34a143d82\n",
      "  Stored in directory: /tmp/pip-ephem-wheel-cache-4fou70ze/wheels/34/af/f0/ece70a6af02514037626fa92a4eadbbba8f19e7ea134186066\n",
      "Successfully built nf2\n",
      "Installing collected packages: aioftp, parfive, drms, sunpy, nf2\n",
      "Successfully installed aioftp-0.21.4 drms-0.6.3 nf2-0.2 parfive-2.0.2 sunpy-4.1.3\n"
     ]
    }
   ],
   "source": [
    "!pip install git+https://github.com/RobertJaro/NF2.git"
   ]
  },
  {
   "cell_type": "code",
   "execution_count": 5,
   "metadata": {
    "executionInfo": {
     "elapsed": 6765,
     "status": "ok",
     "timestamp": 1677041963349,
     "user": {
      "displayName": "Reference First",
      "userId": "17582447588053749469"
     },
     "user_tz": -540
    },
    "id": "X1fOxaJS5xH6"
   },
   "outputs": [],
   "source": [
    "# general imports\n",
    "import glob\n",
    "import os\n",
    "from datetime import datetime\n",
    "from dateutil.parser import parse\n",
    "import shutil\n",
    "\n",
    "# download\n",
    "import drms\n",
    "from urllib import request\n",
    "\n",
    "# data processing\n",
    "import numpy as np\n",
    "from astropy.nddata import block_reduce\n",
    "from sunpy.map import Map\n",
    "\n",
    "# deep learning\n",
    "import torch\n",
    "\n",
    "# NF2\n",
    "from nf2.train.trainer import NF2Trainer\n",
    "from nf2.data.download import download_HARP, find_HARP, donwload_ds\n",
    "from nf2.train.metric import *\n",
    "from nf2.evaluation.unpack import load_cube\n",
    "from nf2.evaluation.energy import get_free_mag_energy\n",
    "from nf2.data.loader import load_hmi_data\n",
    "from nf2.train.metric import energy\n",
    "\n",
    "# visualization\n",
    "from matplotlib import pyplot as plt"
   ]
  },
  {
   "cell_type": "code",
   "execution_count": 6,
   "metadata": {
    "colab": {
     "base_uri": "https://localhost:8080/"
    },
    "executionInfo": {
     "elapsed": 2208,
     "status": "ok",
     "timestamp": 1677041965552,
     "user": {
      "displayName": "Reference First",
      "userId": "17582447588053749469"
     },
     "user_tz": -540
    },
    "id": "3m99OmjiZYDw",
    "outputId": "ddaacd85-8edc-4a39-fa78-3d5d4cb818c5"
   },
   "outputs": [
    {
     "name": "stdout",
     "output_type": "stream",
     "text": [
      "377\n"
     ]
    }
   ],
   "source": [
    "jsoc_email = 'mgjeon@khu.ac.kr'\n",
    "client = drms.Client(email=jsoc_email, verbose=True)\n",
    "\n",
    "noaa_nums = [11158]\n",
    "year = 2011\n",
    "month = 2\n",
    "day = 12\n",
    "hour = 0\n",
    "minute = 0\n",
    "\n",
    "date = datetime(year, month, day, hour, minute)\n",
    "\n",
    "sharp_nr = find_HARP(date, noaa_nums, client)\n",
    "print(sharp_nr)\n",
    "download_dir = 'AR_377'"
   ]
  },
  {
   "cell_type": "code",
   "execution_count": 7,
   "metadata": {
    "executionInfo": {
     "elapsed": 13,
     "status": "ok",
     "timestamp": 1677041965553,
     "user": {
      "displayName": "Reference First",
      "userId": "17582447588053749469"
     },
     "user_tz": -540
    },
    "id": "e9NiLsw7aX3X"
   },
   "outputs": [],
   "source": [
    "bin = 2\n",
    "spatial_norm = 160 \n",
    "height = 160 \n",
    "b_norm = 2500  \n",
    "d_slice = [66, 658, 9, 377] # crop\n",
    "\n",
    "dim = 256\n",
    "\n",
    "lambda_div = 0.1 \n",
    "lambda_ff = 0.1 \n",
    "iterations = 10e4 \n",
    "iterations = int(iterations)\n",
    "decay_iterations = 5e4 \n",
    "decay_iterations = int(decay_iterations)\n",
    "batch_size = 1e4 \n",
    "batch_size = int(batch_size)\n",
    "log_interval = 1e4 \n",
    "log_interval = int(log_interval)\n",
    "validation_interval = 1e4 \n",
    "validation_interval = int(validation_interval)\n",
    "potential = True"
   ]
  },
  {
   "cell_type": "code",
   "execution_count": 8,
   "metadata": {
    "executionInfo": {
     "elapsed": 12,
     "status": "ok",
     "timestamp": 1677041965553,
     "user": {
      "displayName": "Reference First",
      "userId": "17582447588053749469"
     },
     "user_tz": -540
    },
    "id": "0xyHKPJPaSiu"
   },
   "outputs": [],
   "source": [
    "base_path = './ar_%d_%s' % (sharp_nr, date.isoformat('T'))\n",
    "series_base_path = './ar_series_%d_%s' % (sharp_nr, date.isoformat('T'))\n",
    "series_download_dir = './AR_377_series'\n",
    "bpp = os.path.join(series_base_path, 'base')"
   ]
  },
  {
   "cell_type": "code",
   "execution_count": 9,
   "metadata": {
    "executionInfo": {
     "elapsed": 12,
     "status": "ok",
     "timestamp": 1677041965554,
     "user": {
      "displayName": "Reference First",
      "userId": "17582447588053749469"
     },
     "user_tz": -540
    },
    "id": "XiwWVspVYkDf"
   },
   "outputs": [],
   "source": [
    "os.makedirs(base_path, exist_ok=True)\n",
    "os.makedirs(series_base_path, exist_ok=True)\n",
    "os.makedirs(bpp, exist_ok=True)\n",
    "os.makedirs(series_download_dir, exist_ok=True)"
   ]
  },
  {
   "cell_type": "code",
   "execution_count": 10,
   "metadata": {
    "executionInfo": {
     "elapsed": 11,
     "status": "ok",
     "timestamp": 1677041965554,
     "user": {
      "displayName": "Reference First",
      "userId": "17582447588053749469"
     },
     "user_tz": -540
    },
    "id": "-BdkD5qai_XH"
   },
   "outputs": [],
   "source": [
    "duration = '120h'"
   ]
  },
  {
   "cell_type": "markdown",
   "metadata": {
    "id": "nP_NcfVqyShC"
   },
   "source": [
    "# Download HMI FITS"
   ]
  },
  {
   "cell_type": "code",
   "execution_count": null,
   "metadata": {
    "colab": {
     "base_uri": "https://localhost:8080/",
     "height": 1000
    },
    "executionInfo": {
     "elapsed": 9749342,
     "status": "ok",
     "timestamp": 1675656687365,
     "user": {
      "displayName": "Reference Fifth",
      "userId": "17601108931134811463"
     },
     "user_tz": -540
    },
    "id": "KxTKFnvGVZ_Z",
    "outputId": "9cc25013-d931-4d83-e379-c15f64a39494"
   },
   "outputs": [
    {
     "name": "stdout",
     "output_type": "stream",
     "text": [
      "\u001b[1;30;43mStreaming output truncated to the last 5000 lines.\u001b[0m\n",
      "Downloading file 2351 of 3600...\n",
      "    record: hmi.sharp_cea_720s[377][2011.02.15_06:12:00_TAI]\n",
      "  filename: hmi.sharp_cea_720s.377.20110215_061200_TAI.Bt_err.fits\n",
      "  -> AR_377_series/hmi.sharp_cea_720s.377.20110215_061200_TAI.Bt_err.fits\n",
      "Downloading file 2352 of 3600...\n",
      "    record: hmi.sharp_cea_720s[377][2011.02.15_06:12:00_TAI]\n",
      "  filename: hmi.sharp_cea_720s.377.20110215_061200_TAI.Br_err.fits\n",
      "  -> AR_377_series/hmi.sharp_cea_720s.377.20110215_061200_TAI.Br_err.fits\n",
      "Downloading file 2353 of 3600...\n",
      "    record: hmi.sharp_cea_720s[377][2011.02.15_06:24:00_TAI]\n",
      "  filename: hmi.sharp_cea_720s.377.20110215_062400_TAI.Bp.fits\n",
      "  -> AR_377_series/hmi.sharp_cea_720s.377.20110215_062400_TAI.Bp.fits\n",
      "Downloading file 2354 of 3600...\n",
      "    record: hmi.sharp_cea_720s[377][2011.02.15_06:24:00_TAI]\n",
      "  filename: hmi.sharp_cea_720s.377.20110215_062400_TAI.Bt.fits\n",
      "  -> AR_377_series/hmi.sharp_cea_720s.377.20110215_062400_TAI.Bt.fits\n",
      "Downloading file 2355 of 3600...\n",
      "    record: hmi.sharp_cea_720s[377][2011.02.15_06:24:00_TAI]\n",
      "  filename: hmi.sharp_cea_720s.377.20110215_062400_TAI.Br.fits\n",
      "  -> AR_377_series/hmi.sharp_cea_720s.377.20110215_062400_TAI.Br.fits\n",
      "Downloading file 2356 of 3600...\n",
      "    record: hmi.sharp_cea_720s[377][2011.02.15_06:24:00_TAI]\n",
      "  filename: hmi.sharp_cea_720s.377.20110215_062400_TAI.Bp_err.fits\n",
      "  -> AR_377_series/hmi.sharp_cea_720s.377.20110215_062400_TAI.Bp_err.fits\n",
      "Downloading file 2357 of 3600...\n",
      "    record: hmi.sharp_cea_720s[377][2011.02.15_06:24:00_TAI]\n",
      "  filename: hmi.sharp_cea_720s.377.20110215_062400_TAI.Bt_err.fits\n",
      "  -> AR_377_series/hmi.sharp_cea_720s.377.20110215_062400_TAI.Bt_err.fits\n",
      "Downloading file 2358 of 3600...\n",
      "    record: hmi.sharp_cea_720s[377][2011.02.15_06:24:00_TAI]\n",
      "  filename: hmi.sharp_cea_720s.377.20110215_062400_TAI.Br_err.fits\n",
      "  -> AR_377_series/hmi.sharp_cea_720s.377.20110215_062400_TAI.Br_err.fits\n",
      "Downloading file 2359 of 3600...\n",
      "    record: hmi.sharp_cea_720s[377][2011.02.15_06:36:00_TAI]\n",
      "  filename: hmi.sharp_cea_720s.377.20110215_063600_TAI.Bp.fits\n",
      "  -> AR_377_series/hmi.sharp_cea_720s.377.20110215_063600_TAI.Bp.fits\n",
      "Downloading file 2360 of 3600...\n",
      "    record: hmi.sharp_cea_720s[377][2011.02.15_06:36:00_TAI]\n",
      "  filename: hmi.sharp_cea_720s.377.20110215_063600_TAI.Bt.fits\n",
      "  -> AR_377_series/hmi.sharp_cea_720s.377.20110215_063600_TAI.Bt.fits\n",
      "Downloading file 2361 of 3600...\n",
      "    record: hmi.sharp_cea_720s[377][2011.02.15_06:36:00_TAI]\n",
      "  filename: hmi.sharp_cea_720s.377.20110215_063600_TAI.Br.fits\n",
      "  -> AR_377_series/hmi.sharp_cea_720s.377.20110215_063600_TAI.Br.fits\n",
      "Downloading file 2362 of 3600...\n",
      "    record: hmi.sharp_cea_720s[377][2011.02.15_06:36:00_TAI]\n",
      "  filename: hmi.sharp_cea_720s.377.20110215_063600_TAI.Bp_err.fits\n",
      "  -> AR_377_series/hmi.sharp_cea_720s.377.20110215_063600_TAI.Bp_err.fits\n",
      "Downloading file 2363 of 3600...\n",
      "    record: hmi.sharp_cea_720s[377][2011.02.15_06:36:00_TAI]\n",
      "  filename: hmi.sharp_cea_720s.377.20110215_063600_TAI.Bt_err.fits\n",
      "  -> AR_377_series/hmi.sharp_cea_720s.377.20110215_063600_TAI.Bt_err.fits\n",
      "Downloading file 2364 of 3600...\n",
      "    record: hmi.sharp_cea_720s[377][2011.02.15_06:36:00_TAI]\n",
      "  filename: hmi.sharp_cea_720s.377.20110215_063600_TAI.Br_err.fits\n",
      "  -> AR_377_series/hmi.sharp_cea_720s.377.20110215_063600_TAI.Br_err.fits\n",
      "Downloading file 2365 of 3600...\n",
      "    record: hmi.sharp_cea_720s[377][2011.02.15_06:48:00_TAI]\n",
      "  filename: hmi.sharp_cea_720s.377.20110215_064800_TAI.Bp.fits\n",
      "  -> AR_377_series/hmi.sharp_cea_720s.377.20110215_064800_TAI.Bp.fits\n",
      "Downloading file 2366 of 3600...\n",
      "    record: hmi.sharp_cea_720s[377][2011.02.15_06:48:00_TAI]\n",
      "  filename: hmi.sharp_cea_720s.377.20110215_064800_TAI.Bt.fits\n",
      "  -> AR_377_series/hmi.sharp_cea_720s.377.20110215_064800_TAI.Bt.fits\n",
      "Downloading file 2367 of 3600...\n",
      "    record: hmi.sharp_cea_720s[377][2011.02.15_06:48:00_TAI]\n",
      "  filename: hmi.sharp_cea_720s.377.20110215_064800_TAI.Br.fits\n",
      "  -> AR_377_series/hmi.sharp_cea_720s.377.20110215_064800_TAI.Br.fits\n",
      "Downloading file 2368 of 3600...\n",
      "    record: hmi.sharp_cea_720s[377][2011.02.15_06:48:00_TAI]\n",
      "  filename: hmi.sharp_cea_720s.377.20110215_064800_TAI.Bp_err.fits\n",
      "  -> AR_377_series/hmi.sharp_cea_720s.377.20110215_064800_TAI.Bp_err.fits\n",
      "Downloading file 2369 of 3600...\n",
      "    record: hmi.sharp_cea_720s[377][2011.02.15_06:48:00_TAI]\n",
      "  filename: hmi.sharp_cea_720s.377.20110215_064800_TAI.Bt_err.fits\n",
      "  -> AR_377_series/hmi.sharp_cea_720s.377.20110215_064800_TAI.Bt_err.fits\n",
      "Downloading file 2370 of 3600...\n",
      "    record: hmi.sharp_cea_720s[377][2011.02.15_06:48:00_TAI]\n",
      "  filename: hmi.sharp_cea_720s.377.20110215_064800_TAI.Br_err.fits\n",
      "  -> AR_377_series/hmi.sharp_cea_720s.377.20110215_064800_TAI.Br_err.fits\n",
      "Downloading file 2371 of 3600...\n",
      "    record: hmi.sharp_cea_720s[377][2011.02.15_07:00:00_TAI]\n",
      "  filename: hmi.sharp_cea_720s.377.20110215_070000_TAI.Bp.fits\n",
      "  -> AR_377_series/hmi.sharp_cea_720s.377.20110215_070000_TAI.Bp.fits\n",
      "Downloading file 2372 of 3600...\n",
      "    record: hmi.sharp_cea_720s[377][2011.02.15_07:00:00_TAI]\n",
      "  filename: hmi.sharp_cea_720s.377.20110215_070000_TAI.Bt.fits\n",
      "  -> AR_377_series/hmi.sharp_cea_720s.377.20110215_070000_TAI.Bt.fits\n",
      "Downloading file 2373 of 3600...\n",
      "    record: hmi.sharp_cea_720s[377][2011.02.15_07:00:00_TAI]\n",
      "  filename: hmi.sharp_cea_720s.377.20110215_070000_TAI.Br.fits\n",
      "  -> AR_377_series/hmi.sharp_cea_720s.377.20110215_070000_TAI.Br.fits\n",
      "Downloading file 2374 of 3600...\n",
      "    record: hmi.sharp_cea_720s[377][2011.02.15_07:00:00_TAI]\n",
      "  filename: hmi.sharp_cea_720s.377.20110215_070000_TAI.Bp_err.fits\n",
      "  -> AR_377_series/hmi.sharp_cea_720s.377.20110215_070000_TAI.Bp_err.fits\n",
      "Downloading file 2375 of 3600...\n",
      "    record: hmi.sharp_cea_720s[377][2011.02.15_07:00:00_TAI]\n",
      "  filename: hmi.sharp_cea_720s.377.20110215_070000_TAI.Bt_err.fits\n",
      "  -> AR_377_series/hmi.sharp_cea_720s.377.20110215_070000_TAI.Bt_err.fits\n",
      "Downloading file 2376 of 3600...\n",
      "    record: hmi.sharp_cea_720s[377][2011.02.15_07:00:00_TAI]\n",
      "  filename: hmi.sharp_cea_720s.377.20110215_070000_TAI.Br_err.fits\n",
      "  -> AR_377_series/hmi.sharp_cea_720s.377.20110215_070000_TAI.Br_err.fits\n",
      "Downloading file 2377 of 3600...\n",
      "    record: hmi.sharp_cea_720s[377][2011.02.15_07:12:00_TAI]\n",
      "  filename: hmi.sharp_cea_720s.377.20110215_071200_TAI.Bp.fits\n",
      "  -> AR_377_series/hmi.sharp_cea_720s.377.20110215_071200_TAI.Bp.fits\n",
      "Downloading file 2378 of 3600...\n",
      "    record: hmi.sharp_cea_720s[377][2011.02.15_07:12:00_TAI]\n",
      "  filename: hmi.sharp_cea_720s.377.20110215_071200_TAI.Bt.fits\n",
      "  -> AR_377_series/hmi.sharp_cea_720s.377.20110215_071200_TAI.Bt.fits\n",
      "Downloading file 2379 of 3600...\n",
      "    record: hmi.sharp_cea_720s[377][2011.02.15_07:12:00_TAI]\n",
      "  filename: hmi.sharp_cea_720s.377.20110215_071200_TAI.Br.fits\n",
      "  -> AR_377_series/hmi.sharp_cea_720s.377.20110215_071200_TAI.Br.fits\n",
      "Downloading file 2380 of 3600...\n",
      "    record: hmi.sharp_cea_720s[377][2011.02.15_07:12:00_TAI]\n",
      "  filename: hmi.sharp_cea_720s.377.20110215_071200_TAI.Bp_err.fits\n",
      "  -> AR_377_series/hmi.sharp_cea_720s.377.20110215_071200_TAI.Bp_err.fits\n",
      "Downloading file 2381 of 3600...\n",
      "    record: hmi.sharp_cea_720s[377][2011.02.15_07:12:00_TAI]\n",
      "  filename: hmi.sharp_cea_720s.377.20110215_071200_TAI.Bt_err.fits\n",
      "  -> AR_377_series/hmi.sharp_cea_720s.377.20110215_071200_TAI.Bt_err.fits\n",
      "Downloading file 2382 of 3600...\n",
      "    record: hmi.sharp_cea_720s[377][2011.02.15_07:12:00_TAI]\n",
      "  filename: hmi.sharp_cea_720s.377.20110215_071200_TAI.Br_err.fits\n",
      "  -> AR_377_series/hmi.sharp_cea_720s.377.20110215_071200_TAI.Br_err.fits\n",
      "Downloading file 2383 of 3600...\n",
      "    record: hmi.sharp_cea_720s[377][2011.02.15_07:24:00_TAI]\n",
      "  filename: hmi.sharp_cea_720s.377.20110215_072400_TAI.Bp.fits\n",
      "  -> AR_377_series/hmi.sharp_cea_720s.377.20110215_072400_TAI.Bp.fits\n",
      "Downloading file 2384 of 3600...\n",
      "    record: hmi.sharp_cea_720s[377][2011.02.15_07:24:00_TAI]\n",
      "  filename: hmi.sharp_cea_720s.377.20110215_072400_TAI.Bt.fits\n",
      "  -> AR_377_series/hmi.sharp_cea_720s.377.20110215_072400_TAI.Bt.fits\n",
      "Downloading file 2385 of 3600...\n",
      "    record: hmi.sharp_cea_720s[377][2011.02.15_07:24:00_TAI]\n",
      "  filename: hmi.sharp_cea_720s.377.20110215_072400_TAI.Br.fits\n",
      "  -> AR_377_series/hmi.sharp_cea_720s.377.20110215_072400_TAI.Br.fits\n",
      "Downloading file 2386 of 3600...\n",
      "    record: hmi.sharp_cea_720s[377][2011.02.15_07:24:00_TAI]\n",
      "  filename: hmi.sharp_cea_720s.377.20110215_072400_TAI.Bp_err.fits\n",
      "  -> AR_377_series/hmi.sharp_cea_720s.377.20110215_072400_TAI.Bp_err.fits\n",
      "Downloading file 2387 of 3600...\n",
      "    record: hmi.sharp_cea_720s[377][2011.02.15_07:24:00_TAI]\n",
      "  filename: hmi.sharp_cea_720s.377.20110215_072400_TAI.Bt_err.fits\n",
      "  -> AR_377_series/hmi.sharp_cea_720s.377.20110215_072400_TAI.Bt_err.fits\n",
      "Downloading file 2388 of 3600...\n",
      "    record: hmi.sharp_cea_720s[377][2011.02.15_07:24:00_TAI]\n",
      "  filename: hmi.sharp_cea_720s.377.20110215_072400_TAI.Br_err.fits\n",
      "  -> AR_377_series/hmi.sharp_cea_720s.377.20110215_072400_TAI.Br_err.fits\n",
      "Downloading file 2389 of 3600...\n",
      "    record: hmi.sharp_cea_720s[377][2011.02.15_07:36:00_TAI]\n",
      "  filename: hmi.sharp_cea_720s.377.20110215_073600_TAI.Bp.fits\n",
      "  -> AR_377_series/hmi.sharp_cea_720s.377.20110215_073600_TAI.Bp.fits\n",
      "Downloading file 2390 of 3600...\n",
      "    record: hmi.sharp_cea_720s[377][2011.02.15_07:36:00_TAI]\n",
      "  filename: hmi.sharp_cea_720s.377.20110215_073600_TAI.Bt.fits\n",
      "  -> AR_377_series/hmi.sharp_cea_720s.377.20110215_073600_TAI.Bt.fits\n",
      "Downloading file 2391 of 3600...\n",
      "    record: hmi.sharp_cea_720s[377][2011.02.15_07:36:00_TAI]\n",
      "  filename: hmi.sharp_cea_720s.377.20110215_073600_TAI.Br.fits\n",
      "  -> AR_377_series/hmi.sharp_cea_720s.377.20110215_073600_TAI.Br.fits\n",
      "Downloading file 2392 of 3600...\n",
      "    record: hmi.sharp_cea_720s[377][2011.02.15_07:36:00_TAI]\n",
      "  filename: hmi.sharp_cea_720s.377.20110215_073600_TAI.Bp_err.fits\n",
      "  -> AR_377_series/hmi.sharp_cea_720s.377.20110215_073600_TAI.Bp_err.fits\n",
      "Downloading file 2393 of 3600...\n",
      "    record: hmi.sharp_cea_720s[377][2011.02.15_07:36:00_TAI]\n",
      "  filename: hmi.sharp_cea_720s.377.20110215_073600_TAI.Bt_err.fits\n",
      "  -> AR_377_series/hmi.sharp_cea_720s.377.20110215_073600_TAI.Bt_err.fits\n",
      "Downloading file 2394 of 3600...\n",
      "    record: hmi.sharp_cea_720s[377][2011.02.15_07:36:00_TAI]\n",
      "  filename: hmi.sharp_cea_720s.377.20110215_073600_TAI.Br_err.fits\n",
      "  -> AR_377_series/hmi.sharp_cea_720s.377.20110215_073600_TAI.Br_err.fits\n",
      "Downloading file 2395 of 3600...\n",
      "    record: hmi.sharp_cea_720s[377][2011.02.15_07:48:00_TAI]\n",
      "  filename: hmi.sharp_cea_720s.377.20110215_074800_TAI.Bp.fits\n",
      "  -> AR_377_series/hmi.sharp_cea_720s.377.20110215_074800_TAI.Bp.fits\n",
      "Downloading file 2396 of 3600...\n",
      "    record: hmi.sharp_cea_720s[377][2011.02.15_07:48:00_TAI]\n",
      "  filename: hmi.sharp_cea_720s.377.20110215_074800_TAI.Bt.fits\n",
      "  -> AR_377_series/hmi.sharp_cea_720s.377.20110215_074800_TAI.Bt.fits\n",
      "Downloading file 2397 of 3600...\n",
      "    record: hmi.sharp_cea_720s[377][2011.02.15_07:48:00_TAI]\n",
      "  filename: hmi.sharp_cea_720s.377.20110215_074800_TAI.Br.fits\n",
      "  -> AR_377_series/hmi.sharp_cea_720s.377.20110215_074800_TAI.Br.fits\n",
      "Downloading file 2398 of 3600...\n",
      "    record: hmi.sharp_cea_720s[377][2011.02.15_07:48:00_TAI]\n",
      "  filename: hmi.sharp_cea_720s.377.20110215_074800_TAI.Bp_err.fits\n",
      "  -> AR_377_series/hmi.sharp_cea_720s.377.20110215_074800_TAI.Bp_err.fits\n",
      "Downloading file 2399 of 3600...\n",
      "    record: hmi.sharp_cea_720s[377][2011.02.15_07:48:00_TAI]\n",
      "  filename: hmi.sharp_cea_720s.377.20110215_074800_TAI.Bt_err.fits\n",
      "  -> AR_377_series/hmi.sharp_cea_720s.377.20110215_074800_TAI.Bt_err.fits\n",
      "Downloading file 2400 of 3600...\n",
      "    record: hmi.sharp_cea_720s[377][2011.02.15_07:48:00_TAI]\n",
      "  filename: hmi.sharp_cea_720s.377.20110215_074800_TAI.Br_err.fits\n",
      "  -> AR_377_series/hmi.sharp_cea_720s.377.20110215_074800_TAI.Br_err.fits\n",
      "Downloading file 2401 of 3600...\n",
      "    record: hmi.sharp_cea_720s[377][2011.02.15_08:00:00_TAI]\n",
      "  filename: hmi.sharp_cea_720s.377.20110215_080000_TAI.Bp.fits\n",
      "  -> AR_377_series/hmi.sharp_cea_720s.377.20110215_080000_TAI.Bp.fits\n",
      "Downloading file 2402 of 3600...\n",
      "    record: hmi.sharp_cea_720s[377][2011.02.15_08:00:00_TAI]\n",
      "  filename: hmi.sharp_cea_720s.377.20110215_080000_TAI.Bt.fits\n",
      "  -> AR_377_series/hmi.sharp_cea_720s.377.20110215_080000_TAI.Bt.fits\n",
      "Downloading file 2403 of 3600...\n",
      "    record: hmi.sharp_cea_720s[377][2011.02.15_08:00:00_TAI]\n",
      "  filename: hmi.sharp_cea_720s.377.20110215_080000_TAI.Br.fits\n",
      "  -> AR_377_series/hmi.sharp_cea_720s.377.20110215_080000_TAI.Br.fits\n",
      "Downloading file 2404 of 3600...\n",
      "    record: hmi.sharp_cea_720s[377][2011.02.15_08:00:00_TAI]\n",
      "  filename: hmi.sharp_cea_720s.377.20110215_080000_TAI.Bp_err.fits\n",
      "  -> AR_377_series/hmi.sharp_cea_720s.377.20110215_080000_TAI.Bp_err.fits\n",
      "Downloading file 2405 of 3600...\n",
      "    record: hmi.sharp_cea_720s[377][2011.02.15_08:00:00_TAI]\n",
      "  filename: hmi.sharp_cea_720s.377.20110215_080000_TAI.Bt_err.fits\n",
      "  -> AR_377_series/hmi.sharp_cea_720s.377.20110215_080000_TAI.Bt_err.fits\n",
      "Downloading file 2406 of 3600...\n",
      "    record: hmi.sharp_cea_720s[377][2011.02.15_08:00:00_TAI]\n",
      "  filename: hmi.sharp_cea_720s.377.20110215_080000_TAI.Br_err.fits\n",
      "  -> AR_377_series/hmi.sharp_cea_720s.377.20110215_080000_TAI.Br_err.fits\n",
      "Downloading file 2407 of 3600...\n",
      "    record: hmi.sharp_cea_720s[377][2011.02.15_08:12:00_TAI]\n",
      "  filename: hmi.sharp_cea_720s.377.20110215_081200_TAI.Bp.fits\n",
      "  -> AR_377_series/hmi.sharp_cea_720s.377.20110215_081200_TAI.Bp.fits\n",
      "Downloading file 2408 of 3600...\n",
      "    record: hmi.sharp_cea_720s[377][2011.02.15_08:12:00_TAI]\n",
      "  filename: hmi.sharp_cea_720s.377.20110215_081200_TAI.Bt.fits\n",
      "  -> AR_377_series/hmi.sharp_cea_720s.377.20110215_081200_TAI.Bt.fits\n",
      "Downloading file 2409 of 3600...\n",
      "    record: hmi.sharp_cea_720s[377][2011.02.15_08:12:00_TAI]\n",
      "  filename: hmi.sharp_cea_720s.377.20110215_081200_TAI.Br.fits\n",
      "  -> AR_377_series/hmi.sharp_cea_720s.377.20110215_081200_TAI.Br.fits\n",
      "Downloading file 2410 of 3600...\n",
      "    record: hmi.sharp_cea_720s[377][2011.02.15_08:12:00_TAI]\n",
      "  filename: hmi.sharp_cea_720s.377.20110215_081200_TAI.Bp_err.fits\n",
      "  -> AR_377_series/hmi.sharp_cea_720s.377.20110215_081200_TAI.Bp_err.fits\n",
      "Downloading file 2411 of 3600...\n",
      "    record: hmi.sharp_cea_720s[377][2011.02.15_08:12:00_TAI]\n",
      "  filename: hmi.sharp_cea_720s.377.20110215_081200_TAI.Bt_err.fits\n",
      "  -> AR_377_series/hmi.sharp_cea_720s.377.20110215_081200_TAI.Bt_err.fits\n",
      "Downloading file 2412 of 3600...\n",
      "    record: hmi.sharp_cea_720s[377][2011.02.15_08:12:00_TAI]\n",
      "  filename: hmi.sharp_cea_720s.377.20110215_081200_TAI.Br_err.fits\n",
      "  -> AR_377_series/hmi.sharp_cea_720s.377.20110215_081200_TAI.Br_err.fits\n",
      "Downloading file 2413 of 3600...\n",
      "    record: hmi.sharp_cea_720s[377][2011.02.15_08:24:00_TAI]\n",
      "  filename: hmi.sharp_cea_720s.377.20110215_082400_TAI.Bp.fits\n",
      "  -> AR_377_series/hmi.sharp_cea_720s.377.20110215_082400_TAI.Bp.fits\n",
      "Downloading file 2414 of 3600...\n",
      "    record: hmi.sharp_cea_720s[377][2011.02.15_08:24:00_TAI]\n",
      "  filename: hmi.sharp_cea_720s.377.20110215_082400_TAI.Bt.fits\n",
      "  -> AR_377_series/hmi.sharp_cea_720s.377.20110215_082400_TAI.Bt.fits\n",
      "Downloading file 2415 of 3600...\n",
      "    record: hmi.sharp_cea_720s[377][2011.02.15_08:24:00_TAI]\n",
      "  filename: hmi.sharp_cea_720s.377.20110215_082400_TAI.Br.fits\n",
      "  -> AR_377_series/hmi.sharp_cea_720s.377.20110215_082400_TAI.Br.fits\n",
      "Downloading file 2416 of 3600...\n",
      "    record: hmi.sharp_cea_720s[377][2011.02.15_08:24:00_TAI]\n",
      "  filename: hmi.sharp_cea_720s.377.20110215_082400_TAI.Bp_err.fits\n",
      "  -> AR_377_series/hmi.sharp_cea_720s.377.20110215_082400_TAI.Bp_err.fits\n",
      "Downloading file 2417 of 3600...\n",
      "    record: hmi.sharp_cea_720s[377][2011.02.15_08:24:00_TAI]\n",
      "  filename: hmi.sharp_cea_720s.377.20110215_082400_TAI.Bt_err.fits\n",
      "  -> AR_377_series/hmi.sharp_cea_720s.377.20110215_082400_TAI.Bt_err.fits\n",
      "Downloading file 2418 of 3600...\n",
      "    record: hmi.sharp_cea_720s[377][2011.02.15_08:24:00_TAI]\n",
      "  filename: hmi.sharp_cea_720s.377.20110215_082400_TAI.Br_err.fits\n",
      "  -> AR_377_series/hmi.sharp_cea_720s.377.20110215_082400_TAI.Br_err.fits\n",
      "Downloading file 2419 of 3600...\n",
      "    record: hmi.sharp_cea_720s[377][2011.02.15_08:36:00_TAI]\n",
      "  filename: hmi.sharp_cea_720s.377.20110215_083600_TAI.Bp.fits\n",
      "  -> AR_377_series/hmi.sharp_cea_720s.377.20110215_083600_TAI.Bp.fits\n",
      "Downloading file 2420 of 3600...\n",
      "    record: hmi.sharp_cea_720s[377][2011.02.15_08:36:00_TAI]\n",
      "  filename: hmi.sharp_cea_720s.377.20110215_083600_TAI.Bt.fits\n",
      "  -> AR_377_series/hmi.sharp_cea_720s.377.20110215_083600_TAI.Bt.fits\n",
      "Downloading file 2421 of 3600...\n",
      "    record: hmi.sharp_cea_720s[377][2011.02.15_08:36:00_TAI]\n",
      "  filename: hmi.sharp_cea_720s.377.20110215_083600_TAI.Br.fits\n",
      "  -> AR_377_series/hmi.sharp_cea_720s.377.20110215_083600_TAI.Br.fits\n",
      "Downloading file 2422 of 3600...\n",
      "    record: hmi.sharp_cea_720s[377][2011.02.15_08:36:00_TAI]\n",
      "  filename: hmi.sharp_cea_720s.377.20110215_083600_TAI.Bp_err.fits\n",
      "  -> AR_377_series/hmi.sharp_cea_720s.377.20110215_083600_TAI.Bp_err.fits\n",
      "Downloading file 2423 of 3600...\n",
      "    record: hmi.sharp_cea_720s[377][2011.02.15_08:36:00_TAI]\n",
      "  filename: hmi.sharp_cea_720s.377.20110215_083600_TAI.Bt_err.fits\n",
      "  -> AR_377_series/hmi.sharp_cea_720s.377.20110215_083600_TAI.Bt_err.fits\n",
      "Downloading file 2424 of 3600...\n",
      "    record: hmi.sharp_cea_720s[377][2011.02.15_08:36:00_TAI]\n",
      "  filename: hmi.sharp_cea_720s.377.20110215_083600_TAI.Br_err.fits\n",
      "  -> AR_377_series/hmi.sharp_cea_720s.377.20110215_083600_TAI.Br_err.fits\n",
      "Downloading file 2425 of 3600...\n",
      "    record: hmi.sharp_cea_720s[377][2011.02.15_08:48:00_TAI]\n",
      "  filename: hmi.sharp_cea_720s.377.20110215_084800_TAI.Bp.fits\n",
      "  -> AR_377_series/hmi.sharp_cea_720s.377.20110215_084800_TAI.Bp.fits\n",
      "Downloading file 2426 of 3600...\n",
      "    record: hmi.sharp_cea_720s[377][2011.02.15_08:48:00_TAI]\n",
      "  filename: hmi.sharp_cea_720s.377.20110215_084800_TAI.Bt.fits\n",
      "  -> AR_377_series/hmi.sharp_cea_720s.377.20110215_084800_TAI.Bt.fits\n",
      "Downloading file 2427 of 3600...\n",
      "    record: hmi.sharp_cea_720s[377][2011.02.15_08:48:00_TAI]\n",
      "  filename: hmi.sharp_cea_720s.377.20110215_084800_TAI.Br.fits\n",
      "  -> AR_377_series/hmi.sharp_cea_720s.377.20110215_084800_TAI.Br.fits\n",
      "Downloading file 2428 of 3600...\n",
      "    record: hmi.sharp_cea_720s[377][2011.02.15_08:48:00_TAI]\n",
      "  filename: hmi.sharp_cea_720s.377.20110215_084800_TAI.Bp_err.fits\n",
      "  -> AR_377_series/hmi.sharp_cea_720s.377.20110215_084800_TAI.Bp_err.fits\n",
      "Downloading file 2429 of 3600...\n",
      "    record: hmi.sharp_cea_720s[377][2011.02.15_08:48:00_TAI]\n",
      "  filename: hmi.sharp_cea_720s.377.20110215_084800_TAI.Bt_err.fits\n",
      "  -> AR_377_series/hmi.sharp_cea_720s.377.20110215_084800_TAI.Bt_err.fits\n",
      "Downloading file 2430 of 3600...\n",
      "    record: hmi.sharp_cea_720s[377][2011.02.15_08:48:00_TAI]\n",
      "  filename: hmi.sharp_cea_720s.377.20110215_084800_TAI.Br_err.fits\n",
      "  -> AR_377_series/hmi.sharp_cea_720s.377.20110215_084800_TAI.Br_err.fits\n",
      "Downloading file 2431 of 3600...\n",
      "    record: hmi.sharp_cea_720s[377][2011.02.15_09:00:00_TAI]\n",
      "  filename: hmi.sharp_cea_720s.377.20110215_090000_TAI.Bp.fits\n",
      "  -> AR_377_series/hmi.sharp_cea_720s.377.20110215_090000_TAI.Bp.fits\n",
      "Downloading file 2432 of 3600...\n",
      "    record: hmi.sharp_cea_720s[377][2011.02.15_09:00:00_TAI]\n",
      "  filename: hmi.sharp_cea_720s.377.20110215_090000_TAI.Bt.fits\n",
      "  -> AR_377_series/hmi.sharp_cea_720s.377.20110215_090000_TAI.Bt.fits\n",
      "Downloading file 2433 of 3600...\n",
      "    record: hmi.sharp_cea_720s[377][2011.02.15_09:00:00_TAI]\n",
      "  filename: hmi.sharp_cea_720s.377.20110215_090000_TAI.Br.fits\n",
      "  -> AR_377_series/hmi.sharp_cea_720s.377.20110215_090000_TAI.Br.fits\n",
      "Downloading file 2434 of 3600...\n",
      "    record: hmi.sharp_cea_720s[377][2011.02.15_09:00:00_TAI]\n",
      "  filename: hmi.sharp_cea_720s.377.20110215_090000_TAI.Bp_err.fits\n",
      "  -> AR_377_series/hmi.sharp_cea_720s.377.20110215_090000_TAI.Bp_err.fits\n",
      "Downloading file 2435 of 3600...\n",
      "    record: hmi.sharp_cea_720s[377][2011.02.15_09:00:00_TAI]\n",
      "  filename: hmi.sharp_cea_720s.377.20110215_090000_TAI.Bt_err.fits\n",
      "  -> AR_377_series/hmi.sharp_cea_720s.377.20110215_090000_TAI.Bt_err.fits\n",
      "Downloading file 2436 of 3600...\n",
      "    record: hmi.sharp_cea_720s[377][2011.02.15_09:00:00_TAI]\n",
      "  filename: hmi.sharp_cea_720s.377.20110215_090000_TAI.Br_err.fits\n",
      "  -> AR_377_series/hmi.sharp_cea_720s.377.20110215_090000_TAI.Br_err.fits\n",
      "Downloading file 2437 of 3600...\n",
      "    record: hmi.sharp_cea_720s[377][2011.02.15_09:12:00_TAI]\n",
      "  filename: hmi.sharp_cea_720s.377.20110215_091200_TAI.Bp.fits\n",
      "  -> AR_377_series/hmi.sharp_cea_720s.377.20110215_091200_TAI.Bp.fits\n",
      "Downloading file 2438 of 3600...\n",
      "    record: hmi.sharp_cea_720s[377][2011.02.15_09:12:00_TAI]\n",
      "  filename: hmi.sharp_cea_720s.377.20110215_091200_TAI.Bt.fits\n",
      "  -> AR_377_series/hmi.sharp_cea_720s.377.20110215_091200_TAI.Bt.fits\n",
      "Downloading file 2439 of 3600...\n",
      "    record: hmi.sharp_cea_720s[377][2011.02.15_09:12:00_TAI]\n",
      "  filename: hmi.sharp_cea_720s.377.20110215_091200_TAI.Br.fits\n",
      "  -> AR_377_series/hmi.sharp_cea_720s.377.20110215_091200_TAI.Br.fits\n",
      "Downloading file 2440 of 3600...\n",
      "    record: hmi.sharp_cea_720s[377][2011.02.15_09:12:00_TAI]\n",
      "  filename: hmi.sharp_cea_720s.377.20110215_091200_TAI.Bp_err.fits\n",
      "  -> AR_377_series/hmi.sharp_cea_720s.377.20110215_091200_TAI.Bp_err.fits\n",
      "Downloading file 2441 of 3600...\n",
      "    record: hmi.sharp_cea_720s[377][2011.02.15_09:12:00_TAI]\n",
      "  filename: hmi.sharp_cea_720s.377.20110215_091200_TAI.Bt_err.fits\n",
      "  -> AR_377_series/hmi.sharp_cea_720s.377.20110215_091200_TAI.Bt_err.fits\n",
      "Downloading file 2442 of 3600...\n",
      "    record: hmi.sharp_cea_720s[377][2011.02.15_09:12:00_TAI]\n",
      "  filename: hmi.sharp_cea_720s.377.20110215_091200_TAI.Br_err.fits\n",
      "  -> AR_377_series/hmi.sharp_cea_720s.377.20110215_091200_TAI.Br_err.fits\n",
      "Downloading file 2443 of 3600...\n",
      "    record: hmi.sharp_cea_720s[377][2011.02.15_09:24:00_TAI]\n",
      "  filename: hmi.sharp_cea_720s.377.20110215_092400_TAI.Bp.fits\n",
      "  -> AR_377_series/hmi.sharp_cea_720s.377.20110215_092400_TAI.Bp.fits\n",
      "Downloading file 2444 of 3600...\n",
      "    record: hmi.sharp_cea_720s[377][2011.02.15_09:24:00_TAI]\n",
      "  filename: hmi.sharp_cea_720s.377.20110215_092400_TAI.Bt.fits\n",
      "  -> AR_377_series/hmi.sharp_cea_720s.377.20110215_092400_TAI.Bt.fits\n",
      "Downloading file 2445 of 3600...\n",
      "    record: hmi.sharp_cea_720s[377][2011.02.15_09:24:00_TAI]\n",
      "  filename: hmi.sharp_cea_720s.377.20110215_092400_TAI.Br.fits\n",
      "  -> AR_377_series/hmi.sharp_cea_720s.377.20110215_092400_TAI.Br.fits\n",
      "Downloading file 2446 of 3600...\n",
      "    record: hmi.sharp_cea_720s[377][2011.02.15_09:24:00_TAI]\n",
      "  filename: hmi.sharp_cea_720s.377.20110215_092400_TAI.Bp_err.fits\n",
      "  -> AR_377_series/hmi.sharp_cea_720s.377.20110215_092400_TAI.Bp_err.fits\n",
      "Downloading file 2447 of 3600...\n",
      "    record: hmi.sharp_cea_720s[377][2011.02.15_09:24:00_TAI]\n",
      "  filename: hmi.sharp_cea_720s.377.20110215_092400_TAI.Bt_err.fits\n",
      "  -> AR_377_series/hmi.sharp_cea_720s.377.20110215_092400_TAI.Bt_err.fits\n",
      "Downloading file 2448 of 3600...\n",
      "    record: hmi.sharp_cea_720s[377][2011.02.15_09:24:00_TAI]\n",
      "  filename: hmi.sharp_cea_720s.377.20110215_092400_TAI.Br_err.fits\n",
      "  -> AR_377_series/hmi.sharp_cea_720s.377.20110215_092400_TAI.Br_err.fits\n",
      "Downloading file 2449 of 3600...\n",
      "    record: hmi.sharp_cea_720s[377][2011.02.15_09:36:00_TAI]\n",
      "  filename: hmi.sharp_cea_720s.377.20110215_093600_TAI.Bp.fits\n",
      "  -> AR_377_series/hmi.sharp_cea_720s.377.20110215_093600_TAI.Bp.fits\n",
      "Downloading file 2450 of 3600...\n",
      "    record: hmi.sharp_cea_720s[377][2011.02.15_09:36:00_TAI]\n",
      "  filename: hmi.sharp_cea_720s.377.20110215_093600_TAI.Bt.fits\n",
      "  -> AR_377_series/hmi.sharp_cea_720s.377.20110215_093600_TAI.Bt.fits\n",
      "Downloading file 2451 of 3600...\n",
      "    record: hmi.sharp_cea_720s[377][2011.02.15_09:36:00_TAI]\n",
      "  filename: hmi.sharp_cea_720s.377.20110215_093600_TAI.Br.fits\n",
      "  -> AR_377_series/hmi.sharp_cea_720s.377.20110215_093600_TAI.Br.fits\n",
      "Downloading file 2452 of 3600...\n",
      "    record: hmi.sharp_cea_720s[377][2011.02.15_09:36:00_TAI]\n",
      "  filename: hmi.sharp_cea_720s.377.20110215_093600_TAI.Bp_err.fits\n",
      "  -> AR_377_series/hmi.sharp_cea_720s.377.20110215_093600_TAI.Bp_err.fits\n",
      "Downloading file 2453 of 3600...\n",
      "    record: hmi.sharp_cea_720s[377][2011.02.15_09:36:00_TAI]\n",
      "  filename: hmi.sharp_cea_720s.377.20110215_093600_TAI.Bt_err.fits\n",
      "  -> AR_377_series/hmi.sharp_cea_720s.377.20110215_093600_TAI.Bt_err.fits\n",
      "Downloading file 2454 of 3600...\n",
      "    record: hmi.sharp_cea_720s[377][2011.02.15_09:36:00_TAI]\n",
      "  filename: hmi.sharp_cea_720s.377.20110215_093600_TAI.Br_err.fits\n",
      "  -> AR_377_series/hmi.sharp_cea_720s.377.20110215_093600_TAI.Br_err.fits\n",
      "Downloading file 2455 of 3600...\n",
      "    record: hmi.sharp_cea_720s[377][2011.02.15_09:48:00_TAI]\n",
      "  filename: hmi.sharp_cea_720s.377.20110215_094800_TAI.Bp.fits\n",
      "  -> AR_377_series/hmi.sharp_cea_720s.377.20110215_094800_TAI.Bp.fits\n",
      "Downloading file 2456 of 3600...\n",
      "    record: hmi.sharp_cea_720s[377][2011.02.15_09:48:00_TAI]\n",
      "  filename: hmi.sharp_cea_720s.377.20110215_094800_TAI.Bt.fits\n",
      "  -> AR_377_series/hmi.sharp_cea_720s.377.20110215_094800_TAI.Bt.fits\n",
      "Downloading file 2457 of 3600...\n",
      "    record: hmi.sharp_cea_720s[377][2011.02.15_09:48:00_TAI]\n",
      "  filename: hmi.sharp_cea_720s.377.20110215_094800_TAI.Br.fits\n",
      "  -> AR_377_series/hmi.sharp_cea_720s.377.20110215_094800_TAI.Br.fits\n",
      "Downloading file 2458 of 3600...\n",
      "    record: hmi.sharp_cea_720s[377][2011.02.15_09:48:00_TAI]\n",
      "  filename: hmi.sharp_cea_720s.377.20110215_094800_TAI.Bp_err.fits\n",
      "  -> AR_377_series/hmi.sharp_cea_720s.377.20110215_094800_TAI.Bp_err.fits\n",
      "Downloading file 2459 of 3600...\n",
      "    record: hmi.sharp_cea_720s[377][2011.02.15_09:48:00_TAI]\n",
      "  filename: hmi.sharp_cea_720s.377.20110215_094800_TAI.Bt_err.fits\n",
      "  -> AR_377_series/hmi.sharp_cea_720s.377.20110215_094800_TAI.Bt_err.fits\n",
      "Downloading file 2460 of 3600...\n",
      "    record: hmi.sharp_cea_720s[377][2011.02.15_09:48:00_TAI]\n",
      "  filename: hmi.sharp_cea_720s.377.20110215_094800_TAI.Br_err.fits\n",
      "  -> AR_377_series/hmi.sharp_cea_720s.377.20110215_094800_TAI.Br_err.fits\n",
      "Downloading file 2461 of 3600...\n",
      "    record: hmi.sharp_cea_720s[377][2011.02.15_10:00:00_TAI]\n",
      "  filename: hmi.sharp_cea_720s.377.20110215_100000_TAI.Bp.fits\n",
      "  -> AR_377_series/hmi.sharp_cea_720s.377.20110215_100000_TAI.Bp.fits\n",
      "Downloading file 2462 of 3600...\n",
      "    record: hmi.sharp_cea_720s[377][2011.02.15_10:00:00_TAI]\n",
      "  filename: hmi.sharp_cea_720s.377.20110215_100000_TAI.Bt.fits\n",
      "  -> AR_377_series/hmi.sharp_cea_720s.377.20110215_100000_TAI.Bt.fits\n",
      "Downloading file 2463 of 3600...\n",
      "    record: hmi.sharp_cea_720s[377][2011.02.15_10:00:00_TAI]\n",
      "  filename: hmi.sharp_cea_720s.377.20110215_100000_TAI.Br.fits\n",
      "  -> AR_377_series/hmi.sharp_cea_720s.377.20110215_100000_TAI.Br.fits\n",
      "Downloading file 2464 of 3600...\n",
      "    record: hmi.sharp_cea_720s[377][2011.02.15_10:00:00_TAI]\n",
      "  filename: hmi.sharp_cea_720s.377.20110215_100000_TAI.Bp_err.fits\n",
      "  -> AR_377_series/hmi.sharp_cea_720s.377.20110215_100000_TAI.Bp_err.fits\n",
      "Downloading file 2465 of 3600...\n",
      "    record: hmi.sharp_cea_720s[377][2011.02.15_10:00:00_TAI]\n",
      "  filename: hmi.sharp_cea_720s.377.20110215_100000_TAI.Bt_err.fits\n",
      "  -> AR_377_series/hmi.sharp_cea_720s.377.20110215_100000_TAI.Bt_err.fits\n",
      "Downloading file 2466 of 3600...\n",
      "    record: hmi.sharp_cea_720s[377][2011.02.15_10:00:00_TAI]\n",
      "  filename: hmi.sharp_cea_720s.377.20110215_100000_TAI.Br_err.fits\n",
      "  -> AR_377_series/hmi.sharp_cea_720s.377.20110215_100000_TAI.Br_err.fits\n",
      "Downloading file 2467 of 3600...\n",
      "    record: hmi.sharp_cea_720s[377][2011.02.15_10:12:00_TAI]\n",
      "  filename: hmi.sharp_cea_720s.377.20110215_101200_TAI.Bp.fits\n",
      "  -> AR_377_series/hmi.sharp_cea_720s.377.20110215_101200_TAI.Bp.fits\n",
      "Downloading file 2468 of 3600...\n",
      "    record: hmi.sharp_cea_720s[377][2011.02.15_10:12:00_TAI]\n",
      "  filename: hmi.sharp_cea_720s.377.20110215_101200_TAI.Bt.fits\n",
      "  -> AR_377_series/hmi.sharp_cea_720s.377.20110215_101200_TAI.Bt.fits\n",
      "Downloading file 2469 of 3600...\n",
      "    record: hmi.sharp_cea_720s[377][2011.02.15_10:12:00_TAI]\n",
      "  filename: hmi.sharp_cea_720s.377.20110215_101200_TAI.Br.fits\n",
      "  -> AR_377_series/hmi.sharp_cea_720s.377.20110215_101200_TAI.Br.fits\n",
      "Downloading file 2470 of 3600...\n",
      "    record: hmi.sharp_cea_720s[377][2011.02.15_10:12:00_TAI]\n",
      "  filename: hmi.sharp_cea_720s.377.20110215_101200_TAI.Bp_err.fits\n",
      "  -> AR_377_series/hmi.sharp_cea_720s.377.20110215_101200_TAI.Bp_err.fits\n",
      "Downloading file 2471 of 3600...\n",
      "    record: hmi.sharp_cea_720s[377][2011.02.15_10:12:00_TAI]\n",
      "  filename: hmi.sharp_cea_720s.377.20110215_101200_TAI.Bt_err.fits\n",
      "  -> AR_377_series/hmi.sharp_cea_720s.377.20110215_101200_TAI.Bt_err.fits\n",
      "Downloading file 2472 of 3600...\n",
      "    record: hmi.sharp_cea_720s[377][2011.02.15_10:12:00_TAI]\n",
      "  filename: hmi.sharp_cea_720s.377.20110215_101200_TAI.Br_err.fits\n",
      "  -> AR_377_series/hmi.sharp_cea_720s.377.20110215_101200_TAI.Br_err.fits\n",
      "Downloading file 2473 of 3600...\n",
      "    record: hmi.sharp_cea_720s[377][2011.02.15_10:24:00_TAI]\n",
      "  filename: hmi.sharp_cea_720s.377.20110215_102400_TAI.Bp.fits\n",
      "  -> AR_377_series/hmi.sharp_cea_720s.377.20110215_102400_TAI.Bp.fits\n",
      "Downloading file 2474 of 3600...\n",
      "    record: hmi.sharp_cea_720s[377][2011.02.15_10:24:00_TAI]\n",
      "  filename: hmi.sharp_cea_720s.377.20110215_102400_TAI.Bt.fits\n",
      "  -> AR_377_series/hmi.sharp_cea_720s.377.20110215_102400_TAI.Bt.fits\n",
      "Downloading file 2475 of 3600...\n",
      "    record: hmi.sharp_cea_720s[377][2011.02.15_10:24:00_TAI]\n",
      "  filename: hmi.sharp_cea_720s.377.20110215_102400_TAI.Br.fits\n",
      "  -> AR_377_series/hmi.sharp_cea_720s.377.20110215_102400_TAI.Br.fits\n",
      "Downloading file 2476 of 3600...\n",
      "    record: hmi.sharp_cea_720s[377][2011.02.15_10:24:00_TAI]\n",
      "  filename: hmi.sharp_cea_720s.377.20110215_102400_TAI.Bp_err.fits\n",
      "  -> AR_377_series/hmi.sharp_cea_720s.377.20110215_102400_TAI.Bp_err.fits\n",
      "Downloading file 2477 of 3600...\n",
      "    record: hmi.sharp_cea_720s[377][2011.02.15_10:24:00_TAI]\n",
      "  filename: hmi.sharp_cea_720s.377.20110215_102400_TAI.Bt_err.fits\n",
      "  -> AR_377_series/hmi.sharp_cea_720s.377.20110215_102400_TAI.Bt_err.fits\n",
      "Downloading file 2478 of 3600...\n",
      "    record: hmi.sharp_cea_720s[377][2011.02.15_10:24:00_TAI]\n",
      "  filename: hmi.sharp_cea_720s.377.20110215_102400_TAI.Br_err.fits\n",
      "  -> AR_377_series/hmi.sharp_cea_720s.377.20110215_102400_TAI.Br_err.fits\n",
      "Downloading file 2479 of 3600...\n",
      "    record: hmi.sharp_cea_720s[377][2011.02.15_10:36:00_TAI]\n",
      "  filename: hmi.sharp_cea_720s.377.20110215_103600_TAI.Bp.fits\n",
      "  -> AR_377_series/hmi.sharp_cea_720s.377.20110215_103600_TAI.Bp.fits\n",
      "Downloading file 2480 of 3600...\n",
      "    record: hmi.sharp_cea_720s[377][2011.02.15_10:36:00_TAI]\n",
      "  filename: hmi.sharp_cea_720s.377.20110215_103600_TAI.Bt.fits\n",
      "  -> AR_377_series/hmi.sharp_cea_720s.377.20110215_103600_TAI.Bt.fits\n",
      "Downloading file 2481 of 3600...\n",
      "    record: hmi.sharp_cea_720s[377][2011.02.15_10:36:00_TAI]\n",
      "  filename: hmi.sharp_cea_720s.377.20110215_103600_TAI.Br.fits\n",
      "  -> AR_377_series/hmi.sharp_cea_720s.377.20110215_103600_TAI.Br.fits\n",
      "Downloading file 2482 of 3600...\n",
      "    record: hmi.sharp_cea_720s[377][2011.02.15_10:36:00_TAI]\n",
      "  filename: hmi.sharp_cea_720s.377.20110215_103600_TAI.Bp_err.fits\n",
      "  -> AR_377_series/hmi.sharp_cea_720s.377.20110215_103600_TAI.Bp_err.fits\n",
      "Downloading file 2483 of 3600...\n",
      "    record: hmi.sharp_cea_720s[377][2011.02.15_10:36:00_TAI]\n",
      "  filename: hmi.sharp_cea_720s.377.20110215_103600_TAI.Bt_err.fits\n",
      "  -> AR_377_series/hmi.sharp_cea_720s.377.20110215_103600_TAI.Bt_err.fits\n",
      "Downloading file 2484 of 3600...\n",
      "    record: hmi.sharp_cea_720s[377][2011.02.15_10:36:00_TAI]\n",
      "  filename: hmi.sharp_cea_720s.377.20110215_103600_TAI.Br_err.fits\n",
      "  -> AR_377_series/hmi.sharp_cea_720s.377.20110215_103600_TAI.Br_err.fits\n",
      "Downloading file 2485 of 3600...\n",
      "    record: hmi.sharp_cea_720s[377][2011.02.15_10:48:00_TAI]\n",
      "  filename: hmi.sharp_cea_720s.377.20110215_104800_TAI.Bp.fits\n",
      "  -> AR_377_series/hmi.sharp_cea_720s.377.20110215_104800_TAI.Bp.fits\n",
      "Downloading file 2486 of 3600...\n",
      "    record: hmi.sharp_cea_720s[377][2011.02.15_10:48:00_TAI]\n",
      "  filename: hmi.sharp_cea_720s.377.20110215_104800_TAI.Bt.fits\n",
      "  -> AR_377_series/hmi.sharp_cea_720s.377.20110215_104800_TAI.Bt.fits\n",
      "Downloading file 2487 of 3600...\n",
      "    record: hmi.sharp_cea_720s[377][2011.02.15_10:48:00_TAI]\n",
      "  filename: hmi.sharp_cea_720s.377.20110215_104800_TAI.Br.fits\n",
      "  -> AR_377_series/hmi.sharp_cea_720s.377.20110215_104800_TAI.Br.fits\n",
      "Downloading file 2488 of 3600...\n",
      "    record: hmi.sharp_cea_720s[377][2011.02.15_10:48:00_TAI]\n",
      "  filename: hmi.sharp_cea_720s.377.20110215_104800_TAI.Bp_err.fits\n",
      "  -> AR_377_series/hmi.sharp_cea_720s.377.20110215_104800_TAI.Bp_err.fits\n",
      "Downloading file 2489 of 3600...\n",
      "    record: hmi.sharp_cea_720s[377][2011.02.15_10:48:00_TAI]\n",
      "  filename: hmi.sharp_cea_720s.377.20110215_104800_TAI.Bt_err.fits\n",
      "  -> AR_377_series/hmi.sharp_cea_720s.377.20110215_104800_TAI.Bt_err.fits\n",
      "Downloading file 2490 of 3600...\n",
      "    record: hmi.sharp_cea_720s[377][2011.02.15_10:48:00_TAI]\n",
      "  filename: hmi.sharp_cea_720s.377.20110215_104800_TAI.Br_err.fits\n",
      "  -> AR_377_series/hmi.sharp_cea_720s.377.20110215_104800_TAI.Br_err.fits\n",
      "Downloading file 2491 of 3600...\n",
      "    record: hmi.sharp_cea_720s[377][2011.02.15_11:00:00_TAI]\n",
      "  filename: hmi.sharp_cea_720s.377.20110215_110000_TAI.Bp.fits\n",
      "  -> AR_377_series/hmi.sharp_cea_720s.377.20110215_110000_TAI.Bp.fits\n",
      "Downloading file 2492 of 3600...\n",
      "    record: hmi.sharp_cea_720s[377][2011.02.15_11:00:00_TAI]\n",
      "  filename: hmi.sharp_cea_720s.377.20110215_110000_TAI.Bt.fits\n",
      "  -> AR_377_series/hmi.sharp_cea_720s.377.20110215_110000_TAI.Bt.fits\n",
      "Downloading file 2493 of 3600...\n",
      "    record: hmi.sharp_cea_720s[377][2011.02.15_11:00:00_TAI]\n",
      "  filename: hmi.sharp_cea_720s.377.20110215_110000_TAI.Br.fits\n",
      "  -> AR_377_series/hmi.sharp_cea_720s.377.20110215_110000_TAI.Br.fits\n",
      "Downloading file 2494 of 3600...\n",
      "    record: hmi.sharp_cea_720s[377][2011.02.15_11:00:00_TAI]\n",
      "  filename: hmi.sharp_cea_720s.377.20110215_110000_TAI.Bp_err.fits\n",
      "  -> AR_377_series/hmi.sharp_cea_720s.377.20110215_110000_TAI.Bp_err.fits\n",
      "Downloading file 2495 of 3600...\n",
      "    record: hmi.sharp_cea_720s[377][2011.02.15_11:00:00_TAI]\n",
      "  filename: hmi.sharp_cea_720s.377.20110215_110000_TAI.Bt_err.fits\n",
      "  -> AR_377_series/hmi.sharp_cea_720s.377.20110215_110000_TAI.Bt_err.fits\n",
      "Downloading file 2496 of 3600...\n",
      "    record: hmi.sharp_cea_720s[377][2011.02.15_11:00:00_TAI]\n",
      "  filename: hmi.sharp_cea_720s.377.20110215_110000_TAI.Br_err.fits\n",
      "  -> AR_377_series/hmi.sharp_cea_720s.377.20110215_110000_TAI.Br_err.fits\n",
      "Downloading file 2497 of 3600...\n",
      "    record: hmi.sharp_cea_720s[377][2011.02.15_11:12:00_TAI]\n",
      "  filename: hmi.sharp_cea_720s.377.20110215_111200_TAI.Bp.fits\n",
      "  -> AR_377_series/hmi.sharp_cea_720s.377.20110215_111200_TAI.Bp.fits\n",
      "Downloading file 2498 of 3600...\n",
      "    record: hmi.sharp_cea_720s[377][2011.02.15_11:12:00_TAI]\n",
      "  filename: hmi.sharp_cea_720s.377.20110215_111200_TAI.Bt.fits\n",
      "  -> AR_377_series/hmi.sharp_cea_720s.377.20110215_111200_TAI.Bt.fits\n",
      "Downloading file 2499 of 3600...\n",
      "    record: hmi.sharp_cea_720s[377][2011.02.15_11:12:00_TAI]\n",
      "  filename: hmi.sharp_cea_720s.377.20110215_111200_TAI.Br.fits\n",
      "  -> AR_377_series/hmi.sharp_cea_720s.377.20110215_111200_TAI.Br.fits\n",
      "Downloading file 2500 of 3600...\n",
      "    record: hmi.sharp_cea_720s[377][2011.02.15_11:12:00_TAI]\n",
      "  filename: hmi.sharp_cea_720s.377.20110215_111200_TAI.Bp_err.fits\n",
      "  -> AR_377_series/hmi.sharp_cea_720s.377.20110215_111200_TAI.Bp_err.fits\n",
      "Downloading file 2501 of 3600...\n",
      "    record: hmi.sharp_cea_720s[377][2011.02.15_11:12:00_TAI]\n",
      "  filename: hmi.sharp_cea_720s.377.20110215_111200_TAI.Bt_err.fits\n",
      "  -> AR_377_series/hmi.sharp_cea_720s.377.20110215_111200_TAI.Bt_err.fits\n",
      "Downloading file 2502 of 3600...\n",
      "    record: hmi.sharp_cea_720s[377][2011.02.15_11:12:00_TAI]\n",
      "  filename: hmi.sharp_cea_720s.377.20110215_111200_TAI.Br_err.fits\n",
      "  -> AR_377_series/hmi.sharp_cea_720s.377.20110215_111200_TAI.Br_err.fits\n",
      "Downloading file 2503 of 3600...\n",
      "    record: hmi.sharp_cea_720s[377][2011.02.15_11:24:00_TAI]\n",
      "  filename: hmi.sharp_cea_720s.377.20110215_112400_TAI.Bp.fits\n",
      "  -> AR_377_series/hmi.sharp_cea_720s.377.20110215_112400_TAI.Bp.fits\n",
      "Downloading file 2504 of 3600...\n",
      "    record: hmi.sharp_cea_720s[377][2011.02.15_11:24:00_TAI]\n",
      "  filename: hmi.sharp_cea_720s.377.20110215_112400_TAI.Bt.fits\n",
      "  -> AR_377_series/hmi.sharp_cea_720s.377.20110215_112400_TAI.Bt.fits\n",
      "Downloading file 2505 of 3600...\n",
      "    record: hmi.sharp_cea_720s[377][2011.02.15_11:24:00_TAI]\n",
      "  filename: hmi.sharp_cea_720s.377.20110215_112400_TAI.Br.fits\n",
      "  -> AR_377_series/hmi.sharp_cea_720s.377.20110215_112400_TAI.Br.fits\n",
      "Downloading file 2506 of 3600...\n",
      "    record: hmi.sharp_cea_720s[377][2011.02.15_11:24:00_TAI]\n",
      "  filename: hmi.sharp_cea_720s.377.20110215_112400_TAI.Bp_err.fits\n",
      "  -> AR_377_series/hmi.sharp_cea_720s.377.20110215_112400_TAI.Bp_err.fits\n",
      "Downloading file 2507 of 3600...\n",
      "    record: hmi.sharp_cea_720s[377][2011.02.15_11:24:00_TAI]\n",
      "  filename: hmi.sharp_cea_720s.377.20110215_112400_TAI.Bt_err.fits\n",
      "  -> AR_377_series/hmi.sharp_cea_720s.377.20110215_112400_TAI.Bt_err.fits\n",
      "Downloading file 2508 of 3600...\n",
      "    record: hmi.sharp_cea_720s[377][2011.02.15_11:24:00_TAI]\n",
      "  filename: hmi.sharp_cea_720s.377.20110215_112400_TAI.Br_err.fits\n",
      "  -> AR_377_series/hmi.sharp_cea_720s.377.20110215_112400_TAI.Br_err.fits\n",
      "Downloading file 2509 of 3600...\n",
      "    record: hmi.sharp_cea_720s[377][2011.02.15_11:36:00_TAI]\n",
      "  filename: hmi.sharp_cea_720s.377.20110215_113600_TAI.Bp.fits\n",
      "  -> AR_377_series/hmi.sharp_cea_720s.377.20110215_113600_TAI.Bp.fits\n",
      "Downloading file 2510 of 3600...\n",
      "    record: hmi.sharp_cea_720s[377][2011.02.15_11:36:00_TAI]\n",
      "  filename: hmi.sharp_cea_720s.377.20110215_113600_TAI.Bt.fits\n",
      "  -> AR_377_series/hmi.sharp_cea_720s.377.20110215_113600_TAI.Bt.fits\n",
      "Downloading file 2511 of 3600...\n",
      "    record: hmi.sharp_cea_720s[377][2011.02.15_11:36:00_TAI]\n",
      "  filename: hmi.sharp_cea_720s.377.20110215_113600_TAI.Br.fits\n",
      "  -> AR_377_series/hmi.sharp_cea_720s.377.20110215_113600_TAI.Br.fits\n",
      "Downloading file 2512 of 3600...\n",
      "    record: hmi.sharp_cea_720s[377][2011.02.15_11:36:00_TAI]\n",
      "  filename: hmi.sharp_cea_720s.377.20110215_113600_TAI.Bp_err.fits\n",
      "  -> AR_377_series/hmi.sharp_cea_720s.377.20110215_113600_TAI.Bp_err.fits\n",
      "Downloading file 2513 of 3600...\n",
      "    record: hmi.sharp_cea_720s[377][2011.02.15_11:36:00_TAI]\n",
      "  filename: hmi.sharp_cea_720s.377.20110215_113600_TAI.Bt_err.fits\n",
      "  -> AR_377_series/hmi.sharp_cea_720s.377.20110215_113600_TAI.Bt_err.fits\n",
      "Downloading file 2514 of 3600...\n",
      "    record: hmi.sharp_cea_720s[377][2011.02.15_11:36:00_TAI]\n",
      "  filename: hmi.sharp_cea_720s.377.20110215_113600_TAI.Br_err.fits\n",
      "  -> AR_377_series/hmi.sharp_cea_720s.377.20110215_113600_TAI.Br_err.fits\n",
      "Downloading file 2515 of 3600...\n",
      "    record: hmi.sharp_cea_720s[377][2011.02.15_11:48:00_TAI]\n",
      "  filename: hmi.sharp_cea_720s.377.20110215_114800_TAI.Bp.fits\n",
      "  -> AR_377_series/hmi.sharp_cea_720s.377.20110215_114800_TAI.Bp.fits\n",
      "Downloading file 2516 of 3600...\n",
      "    record: hmi.sharp_cea_720s[377][2011.02.15_11:48:00_TAI]\n",
      "  filename: hmi.sharp_cea_720s.377.20110215_114800_TAI.Bt.fits\n",
      "  -> AR_377_series/hmi.sharp_cea_720s.377.20110215_114800_TAI.Bt.fits\n",
      "Downloading file 2517 of 3600...\n",
      "    record: hmi.sharp_cea_720s[377][2011.02.15_11:48:00_TAI]\n",
      "  filename: hmi.sharp_cea_720s.377.20110215_114800_TAI.Br.fits\n",
      "  -> AR_377_series/hmi.sharp_cea_720s.377.20110215_114800_TAI.Br.fits\n",
      "Downloading file 2518 of 3600...\n",
      "    record: hmi.sharp_cea_720s[377][2011.02.15_11:48:00_TAI]\n",
      "  filename: hmi.sharp_cea_720s.377.20110215_114800_TAI.Bp_err.fits\n",
      "  -> AR_377_series/hmi.sharp_cea_720s.377.20110215_114800_TAI.Bp_err.fits\n",
      "Downloading file 2519 of 3600...\n",
      "    record: hmi.sharp_cea_720s[377][2011.02.15_11:48:00_TAI]\n",
      "  filename: hmi.sharp_cea_720s.377.20110215_114800_TAI.Bt_err.fits\n",
      "  -> AR_377_series/hmi.sharp_cea_720s.377.20110215_114800_TAI.Bt_err.fits\n",
      "Downloading file 2520 of 3600...\n",
      "    record: hmi.sharp_cea_720s[377][2011.02.15_11:48:00_TAI]\n",
      "  filename: hmi.sharp_cea_720s.377.20110215_114800_TAI.Br_err.fits\n",
      "  -> AR_377_series/hmi.sharp_cea_720s.377.20110215_114800_TAI.Br_err.fits\n",
      "Downloading file 2521 of 3600...\n",
      "    record: hmi.sharp_cea_720s[377][2011.02.15_12:00:00_TAI]\n",
      "  filename: hmi.sharp_cea_720s.377.20110215_120000_TAI.Bp.fits\n",
      "  -> AR_377_series/hmi.sharp_cea_720s.377.20110215_120000_TAI.Bp.fits\n",
      "Downloading file 2522 of 3600...\n",
      "    record: hmi.sharp_cea_720s[377][2011.02.15_12:00:00_TAI]\n",
      "  filename: hmi.sharp_cea_720s.377.20110215_120000_TAI.Bt.fits\n",
      "  -> AR_377_series/hmi.sharp_cea_720s.377.20110215_120000_TAI.Bt.fits\n",
      "Downloading file 2523 of 3600...\n",
      "    record: hmi.sharp_cea_720s[377][2011.02.15_12:00:00_TAI]\n",
      "  filename: hmi.sharp_cea_720s.377.20110215_120000_TAI.Br.fits\n",
      "  -> AR_377_series/hmi.sharp_cea_720s.377.20110215_120000_TAI.Br.fits\n",
      "Downloading file 2524 of 3600...\n",
      "    record: hmi.sharp_cea_720s[377][2011.02.15_12:00:00_TAI]\n",
      "  filename: hmi.sharp_cea_720s.377.20110215_120000_TAI.Bp_err.fits\n",
      "  -> AR_377_series/hmi.sharp_cea_720s.377.20110215_120000_TAI.Bp_err.fits\n",
      "Downloading file 2525 of 3600...\n",
      "    record: hmi.sharp_cea_720s[377][2011.02.15_12:00:00_TAI]\n",
      "  filename: hmi.sharp_cea_720s.377.20110215_120000_TAI.Bt_err.fits\n",
      "  -> AR_377_series/hmi.sharp_cea_720s.377.20110215_120000_TAI.Bt_err.fits\n",
      "Downloading file 2526 of 3600...\n",
      "    record: hmi.sharp_cea_720s[377][2011.02.15_12:00:00_TAI]\n",
      "  filename: hmi.sharp_cea_720s.377.20110215_120000_TAI.Br_err.fits\n",
      "  -> AR_377_series/hmi.sharp_cea_720s.377.20110215_120000_TAI.Br_err.fits\n",
      "Downloading file 2527 of 3600...\n",
      "    record: hmi.sharp_cea_720s[377][2011.02.15_12:12:00_TAI]\n",
      "  filename: hmi.sharp_cea_720s.377.20110215_121200_TAI.Bp.fits\n",
      "  -> AR_377_series/hmi.sharp_cea_720s.377.20110215_121200_TAI.Bp.fits\n",
      "Downloading file 2528 of 3600...\n",
      "    record: hmi.sharp_cea_720s[377][2011.02.15_12:12:00_TAI]\n",
      "  filename: hmi.sharp_cea_720s.377.20110215_121200_TAI.Bt.fits\n",
      "  -> AR_377_series/hmi.sharp_cea_720s.377.20110215_121200_TAI.Bt.fits\n",
      "Downloading file 2529 of 3600...\n",
      "    record: hmi.sharp_cea_720s[377][2011.02.15_12:12:00_TAI]\n",
      "  filename: hmi.sharp_cea_720s.377.20110215_121200_TAI.Br.fits\n",
      "  -> AR_377_series/hmi.sharp_cea_720s.377.20110215_121200_TAI.Br.fits\n",
      "Downloading file 2530 of 3600...\n",
      "    record: hmi.sharp_cea_720s[377][2011.02.15_12:12:00_TAI]\n",
      "  filename: hmi.sharp_cea_720s.377.20110215_121200_TAI.Bp_err.fits\n",
      "  -> AR_377_series/hmi.sharp_cea_720s.377.20110215_121200_TAI.Bp_err.fits\n",
      "Downloading file 2531 of 3600...\n",
      "    record: hmi.sharp_cea_720s[377][2011.02.15_12:12:00_TAI]\n",
      "  filename: hmi.sharp_cea_720s.377.20110215_121200_TAI.Bt_err.fits\n",
      "  -> AR_377_series/hmi.sharp_cea_720s.377.20110215_121200_TAI.Bt_err.fits\n",
      "Downloading file 2532 of 3600...\n",
      "    record: hmi.sharp_cea_720s[377][2011.02.15_12:12:00_TAI]\n",
      "  filename: hmi.sharp_cea_720s.377.20110215_121200_TAI.Br_err.fits\n",
      "  -> AR_377_series/hmi.sharp_cea_720s.377.20110215_121200_TAI.Br_err.fits\n",
      "Downloading file 2533 of 3600...\n",
      "    record: hmi.sharp_cea_720s[377][2011.02.15_12:24:00_TAI]\n",
      "  filename: hmi.sharp_cea_720s.377.20110215_122400_TAI.Bp.fits\n",
      "  -> AR_377_series/hmi.sharp_cea_720s.377.20110215_122400_TAI.Bp.fits\n",
      "Downloading file 2534 of 3600...\n",
      "    record: hmi.sharp_cea_720s[377][2011.02.15_12:24:00_TAI]\n",
      "  filename: hmi.sharp_cea_720s.377.20110215_122400_TAI.Bt.fits\n",
      "  -> AR_377_series/hmi.sharp_cea_720s.377.20110215_122400_TAI.Bt.fits\n",
      "Downloading file 2535 of 3600...\n",
      "    record: hmi.sharp_cea_720s[377][2011.02.15_12:24:00_TAI]\n",
      "  filename: hmi.sharp_cea_720s.377.20110215_122400_TAI.Br.fits\n",
      "  -> AR_377_series/hmi.sharp_cea_720s.377.20110215_122400_TAI.Br.fits\n",
      "Downloading file 2536 of 3600...\n",
      "    record: hmi.sharp_cea_720s[377][2011.02.15_12:24:00_TAI]\n",
      "  filename: hmi.sharp_cea_720s.377.20110215_122400_TAI.Bp_err.fits\n",
      "  -> AR_377_series/hmi.sharp_cea_720s.377.20110215_122400_TAI.Bp_err.fits\n",
      "Downloading file 2537 of 3600...\n",
      "    record: hmi.sharp_cea_720s[377][2011.02.15_12:24:00_TAI]\n",
      "  filename: hmi.sharp_cea_720s.377.20110215_122400_TAI.Bt_err.fits\n",
      "  -> AR_377_series/hmi.sharp_cea_720s.377.20110215_122400_TAI.Bt_err.fits\n",
      "Downloading file 2538 of 3600...\n",
      "    record: hmi.sharp_cea_720s[377][2011.02.15_12:24:00_TAI]\n",
      "  filename: hmi.sharp_cea_720s.377.20110215_122400_TAI.Br_err.fits\n",
      "  -> AR_377_series/hmi.sharp_cea_720s.377.20110215_122400_TAI.Br_err.fits\n",
      "Downloading file 2539 of 3600...\n",
      "    record: hmi.sharp_cea_720s[377][2011.02.15_12:36:00_TAI]\n",
      "  filename: hmi.sharp_cea_720s.377.20110215_123600_TAI.Bp.fits\n",
      "  -> AR_377_series/hmi.sharp_cea_720s.377.20110215_123600_TAI.Bp.fits\n",
      "Downloading file 2540 of 3600...\n",
      "    record: hmi.sharp_cea_720s[377][2011.02.15_12:36:00_TAI]\n",
      "  filename: hmi.sharp_cea_720s.377.20110215_123600_TAI.Bt.fits\n",
      "  -> AR_377_series/hmi.sharp_cea_720s.377.20110215_123600_TAI.Bt.fits\n",
      "Downloading file 2541 of 3600...\n",
      "    record: hmi.sharp_cea_720s[377][2011.02.15_12:36:00_TAI]\n",
      "  filename: hmi.sharp_cea_720s.377.20110215_123600_TAI.Br.fits\n",
      "  -> AR_377_series/hmi.sharp_cea_720s.377.20110215_123600_TAI.Br.fits\n",
      "Downloading file 2542 of 3600...\n",
      "    record: hmi.sharp_cea_720s[377][2011.02.15_12:36:00_TAI]\n",
      "  filename: hmi.sharp_cea_720s.377.20110215_123600_TAI.Bp_err.fits\n",
      "  -> AR_377_series/hmi.sharp_cea_720s.377.20110215_123600_TAI.Bp_err.fits\n",
      "Downloading file 2543 of 3600...\n",
      "    record: hmi.sharp_cea_720s[377][2011.02.15_12:36:00_TAI]\n",
      "  filename: hmi.sharp_cea_720s.377.20110215_123600_TAI.Bt_err.fits\n",
      "  -> AR_377_series/hmi.sharp_cea_720s.377.20110215_123600_TAI.Bt_err.fits\n",
      "Downloading file 2544 of 3600...\n",
      "    record: hmi.sharp_cea_720s[377][2011.02.15_12:36:00_TAI]\n",
      "  filename: hmi.sharp_cea_720s.377.20110215_123600_TAI.Br_err.fits\n",
      "  -> AR_377_series/hmi.sharp_cea_720s.377.20110215_123600_TAI.Br_err.fits\n",
      "Downloading file 2545 of 3600...\n",
      "    record: hmi.sharp_cea_720s[377][2011.02.15_12:48:00_TAI]\n",
      "  filename: hmi.sharp_cea_720s.377.20110215_124800_TAI.Bp.fits\n",
      "  -> AR_377_series/hmi.sharp_cea_720s.377.20110215_124800_TAI.Bp.fits\n",
      "Downloading file 2546 of 3600...\n",
      "    record: hmi.sharp_cea_720s[377][2011.02.15_12:48:00_TAI]\n",
      "  filename: hmi.sharp_cea_720s.377.20110215_124800_TAI.Bt.fits\n",
      "  -> AR_377_series/hmi.sharp_cea_720s.377.20110215_124800_TAI.Bt.fits\n",
      "Downloading file 2547 of 3600...\n",
      "    record: hmi.sharp_cea_720s[377][2011.02.15_12:48:00_TAI]\n",
      "  filename: hmi.sharp_cea_720s.377.20110215_124800_TAI.Br.fits\n",
      "  -> AR_377_series/hmi.sharp_cea_720s.377.20110215_124800_TAI.Br.fits\n",
      "Downloading file 2548 of 3600...\n",
      "    record: hmi.sharp_cea_720s[377][2011.02.15_12:48:00_TAI]\n",
      "  filename: hmi.sharp_cea_720s.377.20110215_124800_TAI.Bp_err.fits\n",
      "  -> AR_377_series/hmi.sharp_cea_720s.377.20110215_124800_TAI.Bp_err.fits\n",
      "Downloading file 2549 of 3600...\n",
      "    record: hmi.sharp_cea_720s[377][2011.02.15_12:48:00_TAI]\n",
      "  filename: hmi.sharp_cea_720s.377.20110215_124800_TAI.Bt_err.fits\n",
      "  -> AR_377_series/hmi.sharp_cea_720s.377.20110215_124800_TAI.Bt_err.fits\n",
      "Downloading file 2550 of 3600...\n",
      "    record: hmi.sharp_cea_720s[377][2011.02.15_12:48:00_TAI]\n",
      "  filename: hmi.sharp_cea_720s.377.20110215_124800_TAI.Br_err.fits\n",
      "  -> AR_377_series/hmi.sharp_cea_720s.377.20110215_124800_TAI.Br_err.fits\n",
      "Downloading file 2551 of 3600...\n",
      "    record: hmi.sharp_cea_720s[377][2011.02.15_13:00:00_TAI]\n",
      "  filename: hmi.sharp_cea_720s.377.20110215_130000_TAI.Bp.fits\n",
      "  -> AR_377_series/hmi.sharp_cea_720s.377.20110215_130000_TAI.Bp.fits\n",
      "Downloading file 2552 of 3600...\n",
      "    record: hmi.sharp_cea_720s[377][2011.02.15_13:00:00_TAI]\n",
      "  filename: hmi.sharp_cea_720s.377.20110215_130000_TAI.Bt.fits\n",
      "  -> AR_377_series/hmi.sharp_cea_720s.377.20110215_130000_TAI.Bt.fits\n",
      "Downloading file 2553 of 3600...\n",
      "    record: hmi.sharp_cea_720s[377][2011.02.15_13:00:00_TAI]\n",
      "  filename: hmi.sharp_cea_720s.377.20110215_130000_TAI.Br.fits\n",
      "  -> AR_377_series/hmi.sharp_cea_720s.377.20110215_130000_TAI.Br.fits\n",
      "Downloading file 2554 of 3600...\n",
      "    record: hmi.sharp_cea_720s[377][2011.02.15_13:00:00_TAI]\n",
      "  filename: hmi.sharp_cea_720s.377.20110215_130000_TAI.Bp_err.fits\n",
      "  -> AR_377_series/hmi.sharp_cea_720s.377.20110215_130000_TAI.Bp_err.fits\n",
      "Downloading file 2555 of 3600...\n",
      "    record: hmi.sharp_cea_720s[377][2011.02.15_13:00:00_TAI]\n",
      "  filename: hmi.sharp_cea_720s.377.20110215_130000_TAI.Bt_err.fits\n",
      "  -> AR_377_series/hmi.sharp_cea_720s.377.20110215_130000_TAI.Bt_err.fits\n",
      "Downloading file 2556 of 3600...\n",
      "    record: hmi.sharp_cea_720s[377][2011.02.15_13:00:00_TAI]\n",
      "  filename: hmi.sharp_cea_720s.377.20110215_130000_TAI.Br_err.fits\n",
      "  -> AR_377_series/hmi.sharp_cea_720s.377.20110215_130000_TAI.Br_err.fits\n",
      "Downloading file 2557 of 3600...\n",
      "    record: hmi.sharp_cea_720s[377][2011.02.15_13:12:00_TAI]\n",
      "  filename: hmi.sharp_cea_720s.377.20110215_131200_TAI.Bp.fits\n",
      "  -> AR_377_series/hmi.sharp_cea_720s.377.20110215_131200_TAI.Bp.fits\n",
      "Downloading file 2558 of 3600...\n",
      "    record: hmi.sharp_cea_720s[377][2011.02.15_13:12:00_TAI]\n",
      "  filename: hmi.sharp_cea_720s.377.20110215_131200_TAI.Bt.fits\n",
      "  -> AR_377_series/hmi.sharp_cea_720s.377.20110215_131200_TAI.Bt.fits\n",
      "Downloading file 2559 of 3600...\n",
      "    record: hmi.sharp_cea_720s[377][2011.02.15_13:12:00_TAI]\n",
      "  filename: hmi.sharp_cea_720s.377.20110215_131200_TAI.Br.fits\n",
      "  -> AR_377_series/hmi.sharp_cea_720s.377.20110215_131200_TAI.Br.fits\n",
      "Downloading file 2560 of 3600...\n",
      "    record: hmi.sharp_cea_720s[377][2011.02.15_13:12:00_TAI]\n",
      "  filename: hmi.sharp_cea_720s.377.20110215_131200_TAI.Bp_err.fits\n",
      "  -> AR_377_series/hmi.sharp_cea_720s.377.20110215_131200_TAI.Bp_err.fits\n",
      "Downloading file 2561 of 3600...\n",
      "    record: hmi.sharp_cea_720s[377][2011.02.15_13:12:00_TAI]\n",
      "  filename: hmi.sharp_cea_720s.377.20110215_131200_TAI.Bt_err.fits\n",
      "  -> AR_377_series/hmi.sharp_cea_720s.377.20110215_131200_TAI.Bt_err.fits\n",
      "Downloading file 2562 of 3600...\n",
      "    record: hmi.sharp_cea_720s[377][2011.02.15_13:12:00_TAI]\n",
      "  filename: hmi.sharp_cea_720s.377.20110215_131200_TAI.Br_err.fits\n",
      "  -> AR_377_series/hmi.sharp_cea_720s.377.20110215_131200_TAI.Br_err.fits\n",
      "Downloading file 2563 of 3600...\n",
      "    record: hmi.sharp_cea_720s[377][2011.02.15_13:24:00_TAI]\n",
      "  filename: hmi.sharp_cea_720s.377.20110215_132400_TAI.Bp.fits\n",
      "  -> AR_377_series/hmi.sharp_cea_720s.377.20110215_132400_TAI.Bp.fits\n",
      "Downloading file 2564 of 3600...\n",
      "    record: hmi.sharp_cea_720s[377][2011.02.15_13:24:00_TAI]\n",
      "  filename: hmi.sharp_cea_720s.377.20110215_132400_TAI.Bt.fits\n",
      "  -> AR_377_series/hmi.sharp_cea_720s.377.20110215_132400_TAI.Bt.fits\n",
      "Downloading file 2565 of 3600...\n",
      "    record: hmi.sharp_cea_720s[377][2011.02.15_13:24:00_TAI]\n",
      "  filename: hmi.sharp_cea_720s.377.20110215_132400_TAI.Br.fits\n",
      "  -> AR_377_series/hmi.sharp_cea_720s.377.20110215_132400_TAI.Br.fits\n",
      "Downloading file 2566 of 3600...\n",
      "    record: hmi.sharp_cea_720s[377][2011.02.15_13:24:00_TAI]\n",
      "  filename: hmi.sharp_cea_720s.377.20110215_132400_TAI.Bp_err.fits\n",
      "  -> AR_377_series/hmi.sharp_cea_720s.377.20110215_132400_TAI.Bp_err.fits\n",
      "Downloading file 2567 of 3600...\n",
      "    record: hmi.sharp_cea_720s[377][2011.02.15_13:24:00_TAI]\n",
      "  filename: hmi.sharp_cea_720s.377.20110215_132400_TAI.Bt_err.fits\n",
      "  -> AR_377_series/hmi.sharp_cea_720s.377.20110215_132400_TAI.Bt_err.fits\n",
      "Downloading file 2568 of 3600...\n",
      "    record: hmi.sharp_cea_720s[377][2011.02.15_13:24:00_TAI]\n",
      "  filename: hmi.sharp_cea_720s.377.20110215_132400_TAI.Br_err.fits\n",
      "  -> AR_377_series/hmi.sharp_cea_720s.377.20110215_132400_TAI.Br_err.fits\n",
      "Downloading file 2569 of 3600...\n",
      "    record: hmi.sharp_cea_720s[377][2011.02.15_13:36:00_TAI]\n",
      "  filename: hmi.sharp_cea_720s.377.20110215_133600_TAI.Bp.fits\n",
      "  -> AR_377_series/hmi.sharp_cea_720s.377.20110215_133600_TAI.Bp.fits\n",
      "Downloading file 2570 of 3600...\n",
      "    record: hmi.sharp_cea_720s[377][2011.02.15_13:36:00_TAI]\n",
      "  filename: hmi.sharp_cea_720s.377.20110215_133600_TAI.Bt.fits\n",
      "  -> AR_377_series/hmi.sharp_cea_720s.377.20110215_133600_TAI.Bt.fits\n",
      "Downloading file 2571 of 3600...\n",
      "    record: hmi.sharp_cea_720s[377][2011.02.15_13:36:00_TAI]\n",
      "  filename: hmi.sharp_cea_720s.377.20110215_133600_TAI.Br.fits\n",
      "  -> AR_377_series/hmi.sharp_cea_720s.377.20110215_133600_TAI.Br.fits\n",
      "Downloading file 2572 of 3600...\n",
      "    record: hmi.sharp_cea_720s[377][2011.02.15_13:36:00_TAI]\n",
      "  filename: hmi.sharp_cea_720s.377.20110215_133600_TAI.Bp_err.fits\n",
      "  -> AR_377_series/hmi.sharp_cea_720s.377.20110215_133600_TAI.Bp_err.fits\n",
      "Downloading file 2573 of 3600...\n",
      "    record: hmi.sharp_cea_720s[377][2011.02.15_13:36:00_TAI]\n",
      "  filename: hmi.sharp_cea_720s.377.20110215_133600_TAI.Bt_err.fits\n",
      "  -> AR_377_series/hmi.sharp_cea_720s.377.20110215_133600_TAI.Bt_err.fits\n",
      "Downloading file 2574 of 3600...\n",
      "    record: hmi.sharp_cea_720s[377][2011.02.15_13:36:00_TAI]\n",
      "  filename: hmi.sharp_cea_720s.377.20110215_133600_TAI.Br_err.fits\n",
      "  -> AR_377_series/hmi.sharp_cea_720s.377.20110215_133600_TAI.Br_err.fits\n",
      "Downloading file 2575 of 3600...\n",
      "    record: hmi.sharp_cea_720s[377][2011.02.15_13:48:00_TAI]\n",
      "  filename: hmi.sharp_cea_720s.377.20110215_134800_TAI.Bp.fits\n",
      "  -> AR_377_series/hmi.sharp_cea_720s.377.20110215_134800_TAI.Bp.fits\n",
      "Downloading file 2576 of 3600...\n",
      "    record: hmi.sharp_cea_720s[377][2011.02.15_13:48:00_TAI]\n",
      "  filename: hmi.sharp_cea_720s.377.20110215_134800_TAI.Bt.fits\n",
      "  -> AR_377_series/hmi.sharp_cea_720s.377.20110215_134800_TAI.Bt.fits\n",
      "Downloading file 2577 of 3600...\n",
      "    record: hmi.sharp_cea_720s[377][2011.02.15_13:48:00_TAI]\n",
      "  filename: hmi.sharp_cea_720s.377.20110215_134800_TAI.Br.fits\n",
      "  -> AR_377_series/hmi.sharp_cea_720s.377.20110215_134800_TAI.Br.fits\n",
      "Downloading file 2578 of 3600...\n",
      "    record: hmi.sharp_cea_720s[377][2011.02.15_13:48:00_TAI]\n",
      "  filename: hmi.sharp_cea_720s.377.20110215_134800_TAI.Bp_err.fits\n",
      "  -> AR_377_series/hmi.sharp_cea_720s.377.20110215_134800_TAI.Bp_err.fits\n",
      "Downloading file 2579 of 3600...\n",
      "    record: hmi.sharp_cea_720s[377][2011.02.15_13:48:00_TAI]\n",
      "  filename: hmi.sharp_cea_720s.377.20110215_134800_TAI.Bt_err.fits\n",
      "  -> AR_377_series/hmi.sharp_cea_720s.377.20110215_134800_TAI.Bt_err.fits\n",
      "Downloading file 2580 of 3600...\n",
      "    record: hmi.sharp_cea_720s[377][2011.02.15_13:48:00_TAI]\n",
      "  filename: hmi.sharp_cea_720s.377.20110215_134800_TAI.Br_err.fits\n",
      "  -> AR_377_series/hmi.sharp_cea_720s.377.20110215_134800_TAI.Br_err.fits\n",
      "Downloading file 2581 of 3600...\n",
      "    record: hmi.sharp_cea_720s[377][2011.02.15_14:00:00_TAI]\n",
      "  filename: hmi.sharp_cea_720s.377.20110215_140000_TAI.Bp.fits\n",
      "  -> AR_377_series/hmi.sharp_cea_720s.377.20110215_140000_TAI.Bp.fits\n",
      "Downloading file 2582 of 3600...\n",
      "    record: hmi.sharp_cea_720s[377][2011.02.15_14:00:00_TAI]\n",
      "  filename: hmi.sharp_cea_720s.377.20110215_140000_TAI.Bt.fits\n",
      "  -> AR_377_series/hmi.sharp_cea_720s.377.20110215_140000_TAI.Bt.fits\n",
      "Downloading file 2583 of 3600...\n",
      "    record: hmi.sharp_cea_720s[377][2011.02.15_14:00:00_TAI]\n",
      "  filename: hmi.sharp_cea_720s.377.20110215_140000_TAI.Br.fits\n",
      "  -> AR_377_series/hmi.sharp_cea_720s.377.20110215_140000_TAI.Br.fits\n",
      "Downloading file 2584 of 3600...\n",
      "    record: hmi.sharp_cea_720s[377][2011.02.15_14:00:00_TAI]\n",
      "  filename: hmi.sharp_cea_720s.377.20110215_140000_TAI.Bp_err.fits\n",
      "  -> AR_377_series/hmi.sharp_cea_720s.377.20110215_140000_TAI.Bp_err.fits\n",
      "Downloading file 2585 of 3600...\n",
      "    record: hmi.sharp_cea_720s[377][2011.02.15_14:00:00_TAI]\n",
      "  filename: hmi.sharp_cea_720s.377.20110215_140000_TAI.Bt_err.fits\n",
      "  -> AR_377_series/hmi.sharp_cea_720s.377.20110215_140000_TAI.Bt_err.fits\n",
      "Downloading file 2586 of 3600...\n",
      "    record: hmi.sharp_cea_720s[377][2011.02.15_14:00:00_TAI]\n",
      "  filename: hmi.sharp_cea_720s.377.20110215_140000_TAI.Br_err.fits\n",
      "  -> AR_377_series/hmi.sharp_cea_720s.377.20110215_140000_TAI.Br_err.fits\n",
      "Downloading file 2587 of 3600...\n",
      "    record: hmi.sharp_cea_720s[377][2011.02.15_14:12:00_TAI]\n",
      "  filename: hmi.sharp_cea_720s.377.20110215_141200_TAI.Bp.fits\n",
      "  -> AR_377_series/hmi.sharp_cea_720s.377.20110215_141200_TAI.Bp.fits\n",
      "Downloading file 2588 of 3600...\n",
      "    record: hmi.sharp_cea_720s[377][2011.02.15_14:12:00_TAI]\n",
      "  filename: hmi.sharp_cea_720s.377.20110215_141200_TAI.Bt.fits\n",
      "  -> AR_377_series/hmi.sharp_cea_720s.377.20110215_141200_TAI.Bt.fits\n",
      "Downloading file 2589 of 3600...\n",
      "    record: hmi.sharp_cea_720s[377][2011.02.15_14:12:00_TAI]\n",
      "  filename: hmi.sharp_cea_720s.377.20110215_141200_TAI.Br.fits\n",
      "  -> AR_377_series/hmi.sharp_cea_720s.377.20110215_141200_TAI.Br.fits\n",
      "Downloading file 2590 of 3600...\n",
      "    record: hmi.sharp_cea_720s[377][2011.02.15_14:12:00_TAI]\n",
      "  filename: hmi.sharp_cea_720s.377.20110215_141200_TAI.Bp_err.fits\n",
      "  -> AR_377_series/hmi.sharp_cea_720s.377.20110215_141200_TAI.Bp_err.fits\n",
      "Downloading file 2591 of 3600...\n",
      "    record: hmi.sharp_cea_720s[377][2011.02.15_14:12:00_TAI]\n",
      "  filename: hmi.sharp_cea_720s.377.20110215_141200_TAI.Bt_err.fits\n",
      "  -> AR_377_series/hmi.sharp_cea_720s.377.20110215_141200_TAI.Bt_err.fits\n",
      "Downloading file 2592 of 3600...\n",
      "    record: hmi.sharp_cea_720s[377][2011.02.15_14:12:00_TAI]\n",
      "  filename: hmi.sharp_cea_720s.377.20110215_141200_TAI.Br_err.fits\n",
      "  -> AR_377_series/hmi.sharp_cea_720s.377.20110215_141200_TAI.Br_err.fits\n",
      "Downloading file 2593 of 3600...\n",
      "    record: hmi.sharp_cea_720s[377][2011.02.15_14:24:00_TAI]\n",
      "  filename: hmi.sharp_cea_720s.377.20110215_142400_TAI.Bp.fits\n",
      "  -> AR_377_series/hmi.sharp_cea_720s.377.20110215_142400_TAI.Bp.fits\n",
      "Downloading file 2594 of 3600...\n",
      "    record: hmi.sharp_cea_720s[377][2011.02.15_14:24:00_TAI]\n",
      "  filename: hmi.sharp_cea_720s.377.20110215_142400_TAI.Bt.fits\n",
      "  -> AR_377_series/hmi.sharp_cea_720s.377.20110215_142400_TAI.Bt.fits\n",
      "Downloading file 2595 of 3600...\n",
      "    record: hmi.sharp_cea_720s[377][2011.02.15_14:24:00_TAI]\n",
      "  filename: hmi.sharp_cea_720s.377.20110215_142400_TAI.Br.fits\n",
      "  -> AR_377_series/hmi.sharp_cea_720s.377.20110215_142400_TAI.Br.fits\n",
      "Downloading file 2596 of 3600...\n",
      "    record: hmi.sharp_cea_720s[377][2011.02.15_14:24:00_TAI]\n",
      "  filename: hmi.sharp_cea_720s.377.20110215_142400_TAI.Bp_err.fits\n",
      "  -> AR_377_series/hmi.sharp_cea_720s.377.20110215_142400_TAI.Bp_err.fits\n",
      "Downloading file 2597 of 3600...\n",
      "    record: hmi.sharp_cea_720s[377][2011.02.15_14:24:00_TAI]\n",
      "  filename: hmi.sharp_cea_720s.377.20110215_142400_TAI.Bt_err.fits\n",
      "  -> AR_377_series/hmi.sharp_cea_720s.377.20110215_142400_TAI.Bt_err.fits\n",
      "Downloading file 2598 of 3600...\n",
      "    record: hmi.sharp_cea_720s[377][2011.02.15_14:24:00_TAI]\n",
      "  filename: hmi.sharp_cea_720s.377.20110215_142400_TAI.Br_err.fits\n",
      "  -> AR_377_series/hmi.sharp_cea_720s.377.20110215_142400_TAI.Br_err.fits\n",
      "Downloading file 2599 of 3600...\n",
      "    record: hmi.sharp_cea_720s[377][2011.02.15_14:36:00_TAI]\n",
      "  filename: hmi.sharp_cea_720s.377.20110215_143600_TAI.Bp.fits\n",
      "  -> AR_377_series/hmi.sharp_cea_720s.377.20110215_143600_TAI.Bp.fits\n",
      "Downloading file 2600 of 3600...\n",
      "    record: hmi.sharp_cea_720s[377][2011.02.15_14:36:00_TAI]\n",
      "  filename: hmi.sharp_cea_720s.377.20110215_143600_TAI.Bt.fits\n",
      "  -> AR_377_series/hmi.sharp_cea_720s.377.20110215_143600_TAI.Bt.fits\n",
      "Downloading file 2601 of 3600...\n",
      "    record: hmi.sharp_cea_720s[377][2011.02.15_14:36:00_TAI]\n",
      "  filename: hmi.sharp_cea_720s.377.20110215_143600_TAI.Br.fits\n",
      "  -> AR_377_series/hmi.sharp_cea_720s.377.20110215_143600_TAI.Br.fits\n",
      "Downloading file 2602 of 3600...\n",
      "    record: hmi.sharp_cea_720s[377][2011.02.15_14:36:00_TAI]\n",
      "  filename: hmi.sharp_cea_720s.377.20110215_143600_TAI.Bp_err.fits\n",
      "  -> AR_377_series/hmi.sharp_cea_720s.377.20110215_143600_TAI.Bp_err.fits\n",
      "Downloading file 2603 of 3600...\n",
      "    record: hmi.sharp_cea_720s[377][2011.02.15_14:36:00_TAI]\n",
      "  filename: hmi.sharp_cea_720s.377.20110215_143600_TAI.Bt_err.fits\n",
      "  -> AR_377_series/hmi.sharp_cea_720s.377.20110215_143600_TAI.Bt_err.fits\n",
      "Downloading file 2604 of 3600...\n",
      "    record: hmi.sharp_cea_720s[377][2011.02.15_14:36:00_TAI]\n",
      "  filename: hmi.sharp_cea_720s.377.20110215_143600_TAI.Br_err.fits\n",
      "  -> AR_377_series/hmi.sharp_cea_720s.377.20110215_143600_TAI.Br_err.fits\n",
      "Downloading file 2605 of 3600...\n",
      "    record: hmi.sharp_cea_720s[377][2011.02.15_14:48:00_TAI]\n",
      "  filename: hmi.sharp_cea_720s.377.20110215_144800_TAI.Bp.fits\n",
      "  -> AR_377_series/hmi.sharp_cea_720s.377.20110215_144800_TAI.Bp.fits\n",
      "Downloading file 2606 of 3600...\n",
      "    record: hmi.sharp_cea_720s[377][2011.02.15_14:48:00_TAI]\n",
      "  filename: hmi.sharp_cea_720s.377.20110215_144800_TAI.Bt.fits\n",
      "  -> AR_377_series/hmi.sharp_cea_720s.377.20110215_144800_TAI.Bt.fits\n",
      "Downloading file 2607 of 3600...\n",
      "    record: hmi.sharp_cea_720s[377][2011.02.15_14:48:00_TAI]\n",
      "  filename: hmi.sharp_cea_720s.377.20110215_144800_TAI.Br.fits\n",
      "  -> AR_377_series/hmi.sharp_cea_720s.377.20110215_144800_TAI.Br.fits\n",
      "Downloading file 2608 of 3600...\n",
      "    record: hmi.sharp_cea_720s[377][2011.02.15_14:48:00_TAI]\n",
      "  filename: hmi.sharp_cea_720s.377.20110215_144800_TAI.Bp_err.fits\n",
      "  -> AR_377_series/hmi.sharp_cea_720s.377.20110215_144800_TAI.Bp_err.fits\n",
      "Downloading file 2609 of 3600...\n",
      "    record: hmi.sharp_cea_720s[377][2011.02.15_14:48:00_TAI]\n",
      "  filename: hmi.sharp_cea_720s.377.20110215_144800_TAI.Bt_err.fits\n",
      "  -> AR_377_series/hmi.sharp_cea_720s.377.20110215_144800_TAI.Bt_err.fits\n",
      "Downloading file 2610 of 3600...\n",
      "    record: hmi.sharp_cea_720s[377][2011.02.15_14:48:00_TAI]\n",
      "  filename: hmi.sharp_cea_720s.377.20110215_144800_TAI.Br_err.fits\n",
      "  -> AR_377_series/hmi.sharp_cea_720s.377.20110215_144800_TAI.Br_err.fits\n",
      "Downloading file 2611 of 3600...\n",
      "    record: hmi.sharp_cea_720s[377][2011.02.15_15:00:00_TAI]\n",
      "  filename: hmi.sharp_cea_720s.377.20110215_150000_TAI.Bp.fits\n",
      "  -> AR_377_series/hmi.sharp_cea_720s.377.20110215_150000_TAI.Bp.fits\n",
      "Downloading file 2612 of 3600...\n",
      "    record: hmi.sharp_cea_720s[377][2011.02.15_15:00:00_TAI]\n",
      "  filename: hmi.sharp_cea_720s.377.20110215_150000_TAI.Bt.fits\n",
      "  -> AR_377_series/hmi.sharp_cea_720s.377.20110215_150000_TAI.Bt.fits\n",
      "Downloading file 2613 of 3600...\n",
      "    record: hmi.sharp_cea_720s[377][2011.02.15_15:00:00_TAI]\n",
      "  filename: hmi.sharp_cea_720s.377.20110215_150000_TAI.Br.fits\n",
      "  -> AR_377_series/hmi.sharp_cea_720s.377.20110215_150000_TAI.Br.fits\n",
      "Downloading file 2614 of 3600...\n",
      "    record: hmi.sharp_cea_720s[377][2011.02.15_15:00:00_TAI]\n",
      "  filename: hmi.sharp_cea_720s.377.20110215_150000_TAI.Bp_err.fits\n",
      "  -> AR_377_series/hmi.sharp_cea_720s.377.20110215_150000_TAI.Bp_err.fits\n",
      "Downloading file 2615 of 3600...\n",
      "    record: hmi.sharp_cea_720s[377][2011.02.15_15:00:00_TAI]\n",
      "  filename: hmi.sharp_cea_720s.377.20110215_150000_TAI.Bt_err.fits\n",
      "  -> AR_377_series/hmi.sharp_cea_720s.377.20110215_150000_TAI.Bt_err.fits\n",
      "Downloading file 2616 of 3600...\n",
      "    record: hmi.sharp_cea_720s[377][2011.02.15_15:00:00_TAI]\n",
      "  filename: hmi.sharp_cea_720s.377.20110215_150000_TAI.Br_err.fits\n",
      "  -> AR_377_series/hmi.sharp_cea_720s.377.20110215_150000_TAI.Br_err.fits\n",
      "Downloading file 2617 of 3600...\n",
      "    record: hmi.sharp_cea_720s[377][2011.02.15_15:12:00_TAI]\n",
      "  filename: hmi.sharp_cea_720s.377.20110215_151200_TAI.Bp.fits\n",
      "  -> AR_377_series/hmi.sharp_cea_720s.377.20110215_151200_TAI.Bp.fits\n",
      "Downloading file 2618 of 3600...\n",
      "    record: hmi.sharp_cea_720s[377][2011.02.15_15:12:00_TAI]\n",
      "  filename: hmi.sharp_cea_720s.377.20110215_151200_TAI.Bt.fits\n",
      "  -> AR_377_series/hmi.sharp_cea_720s.377.20110215_151200_TAI.Bt.fits\n",
      "Downloading file 2619 of 3600...\n",
      "    record: hmi.sharp_cea_720s[377][2011.02.15_15:12:00_TAI]\n",
      "  filename: hmi.sharp_cea_720s.377.20110215_151200_TAI.Br.fits\n",
      "  -> AR_377_series/hmi.sharp_cea_720s.377.20110215_151200_TAI.Br.fits\n",
      "Downloading file 2620 of 3600...\n",
      "    record: hmi.sharp_cea_720s[377][2011.02.15_15:12:00_TAI]\n",
      "  filename: hmi.sharp_cea_720s.377.20110215_151200_TAI.Bp_err.fits\n",
      "  -> AR_377_series/hmi.sharp_cea_720s.377.20110215_151200_TAI.Bp_err.fits\n",
      "Downloading file 2621 of 3600...\n",
      "    record: hmi.sharp_cea_720s[377][2011.02.15_15:12:00_TAI]\n",
      "  filename: hmi.sharp_cea_720s.377.20110215_151200_TAI.Bt_err.fits\n",
      "  -> AR_377_series/hmi.sharp_cea_720s.377.20110215_151200_TAI.Bt_err.fits\n",
      "Downloading file 2622 of 3600...\n",
      "    record: hmi.sharp_cea_720s[377][2011.02.15_15:12:00_TAI]\n",
      "  filename: hmi.sharp_cea_720s.377.20110215_151200_TAI.Br_err.fits\n",
      "  -> AR_377_series/hmi.sharp_cea_720s.377.20110215_151200_TAI.Br_err.fits\n",
      "Downloading file 2623 of 3600...\n",
      "    record: hmi.sharp_cea_720s[377][2011.02.15_15:24:00_TAI]\n",
      "  filename: hmi.sharp_cea_720s.377.20110215_152400_TAI.Bp.fits\n",
      "  -> AR_377_series/hmi.sharp_cea_720s.377.20110215_152400_TAI.Bp.fits\n",
      "Downloading file 2624 of 3600...\n",
      "    record: hmi.sharp_cea_720s[377][2011.02.15_15:24:00_TAI]\n",
      "  filename: hmi.sharp_cea_720s.377.20110215_152400_TAI.Bt.fits\n",
      "  -> AR_377_series/hmi.sharp_cea_720s.377.20110215_152400_TAI.Bt.fits\n",
      "Downloading file 2625 of 3600...\n",
      "    record: hmi.sharp_cea_720s[377][2011.02.15_15:24:00_TAI]\n",
      "  filename: hmi.sharp_cea_720s.377.20110215_152400_TAI.Br.fits\n",
      "  -> AR_377_series/hmi.sharp_cea_720s.377.20110215_152400_TAI.Br.fits\n",
      "Downloading file 2626 of 3600...\n",
      "    record: hmi.sharp_cea_720s[377][2011.02.15_15:24:00_TAI]\n",
      "  filename: hmi.sharp_cea_720s.377.20110215_152400_TAI.Bp_err.fits\n",
      "  -> AR_377_series/hmi.sharp_cea_720s.377.20110215_152400_TAI.Bp_err.fits\n",
      "Downloading file 2627 of 3600...\n",
      "    record: hmi.sharp_cea_720s[377][2011.02.15_15:24:00_TAI]\n",
      "  filename: hmi.sharp_cea_720s.377.20110215_152400_TAI.Bt_err.fits\n",
      "  -> AR_377_series/hmi.sharp_cea_720s.377.20110215_152400_TAI.Bt_err.fits\n",
      "Downloading file 2628 of 3600...\n",
      "    record: hmi.sharp_cea_720s[377][2011.02.15_15:24:00_TAI]\n",
      "  filename: hmi.sharp_cea_720s.377.20110215_152400_TAI.Br_err.fits\n",
      "  -> AR_377_series/hmi.sharp_cea_720s.377.20110215_152400_TAI.Br_err.fits\n",
      "Downloading file 2629 of 3600...\n",
      "    record: hmi.sharp_cea_720s[377][2011.02.15_15:36:00_TAI]\n",
      "  filename: hmi.sharp_cea_720s.377.20110215_153600_TAI.Bp.fits\n",
      "  -> AR_377_series/hmi.sharp_cea_720s.377.20110215_153600_TAI.Bp.fits\n",
      "Downloading file 2630 of 3600...\n",
      "    record: hmi.sharp_cea_720s[377][2011.02.15_15:36:00_TAI]\n",
      "  filename: hmi.sharp_cea_720s.377.20110215_153600_TAI.Bt.fits\n",
      "  -> AR_377_series/hmi.sharp_cea_720s.377.20110215_153600_TAI.Bt.fits\n",
      "Downloading file 2631 of 3600...\n",
      "    record: hmi.sharp_cea_720s[377][2011.02.15_15:36:00_TAI]\n",
      "  filename: hmi.sharp_cea_720s.377.20110215_153600_TAI.Br.fits\n",
      "  -> AR_377_series/hmi.sharp_cea_720s.377.20110215_153600_TAI.Br.fits\n",
      "Downloading file 2632 of 3600...\n",
      "    record: hmi.sharp_cea_720s[377][2011.02.15_15:36:00_TAI]\n",
      "  filename: hmi.sharp_cea_720s.377.20110215_153600_TAI.Bp_err.fits\n",
      "  -> AR_377_series/hmi.sharp_cea_720s.377.20110215_153600_TAI.Bp_err.fits\n",
      "Downloading file 2633 of 3600...\n",
      "    record: hmi.sharp_cea_720s[377][2011.02.15_15:36:00_TAI]\n",
      "  filename: hmi.sharp_cea_720s.377.20110215_153600_TAI.Bt_err.fits\n",
      "  -> AR_377_series/hmi.sharp_cea_720s.377.20110215_153600_TAI.Bt_err.fits\n",
      "Downloading file 2634 of 3600...\n",
      "    record: hmi.sharp_cea_720s[377][2011.02.15_15:36:00_TAI]\n",
      "  filename: hmi.sharp_cea_720s.377.20110215_153600_TAI.Br_err.fits\n",
      "  -> AR_377_series/hmi.sharp_cea_720s.377.20110215_153600_TAI.Br_err.fits\n",
      "Downloading file 2635 of 3600...\n",
      "    record: hmi.sharp_cea_720s[377][2011.02.15_15:48:00_TAI]\n",
      "  filename: hmi.sharp_cea_720s.377.20110215_154800_TAI.Bp.fits\n",
      "  -> AR_377_series/hmi.sharp_cea_720s.377.20110215_154800_TAI.Bp.fits\n",
      "Downloading file 2636 of 3600...\n",
      "    record: hmi.sharp_cea_720s[377][2011.02.15_15:48:00_TAI]\n",
      "  filename: hmi.sharp_cea_720s.377.20110215_154800_TAI.Bt.fits\n",
      "  -> AR_377_series/hmi.sharp_cea_720s.377.20110215_154800_TAI.Bt.fits\n",
      "Downloading file 2637 of 3600...\n",
      "    record: hmi.sharp_cea_720s[377][2011.02.15_15:48:00_TAI]\n",
      "  filename: hmi.sharp_cea_720s.377.20110215_154800_TAI.Br.fits\n",
      "  -> AR_377_series/hmi.sharp_cea_720s.377.20110215_154800_TAI.Br.fits\n",
      "Downloading file 2638 of 3600...\n",
      "    record: hmi.sharp_cea_720s[377][2011.02.15_15:48:00_TAI]\n",
      "  filename: hmi.sharp_cea_720s.377.20110215_154800_TAI.Bp_err.fits\n",
      "  -> AR_377_series/hmi.sharp_cea_720s.377.20110215_154800_TAI.Bp_err.fits\n",
      "Downloading file 2639 of 3600...\n",
      "    record: hmi.sharp_cea_720s[377][2011.02.15_15:48:00_TAI]\n",
      "  filename: hmi.sharp_cea_720s.377.20110215_154800_TAI.Bt_err.fits\n",
      "  -> AR_377_series/hmi.sharp_cea_720s.377.20110215_154800_TAI.Bt_err.fits\n",
      "Downloading file 2640 of 3600...\n",
      "    record: hmi.sharp_cea_720s[377][2011.02.15_15:48:00_TAI]\n",
      "  filename: hmi.sharp_cea_720s.377.20110215_154800_TAI.Br_err.fits\n",
      "  -> AR_377_series/hmi.sharp_cea_720s.377.20110215_154800_TAI.Br_err.fits\n",
      "Downloading file 2641 of 3600...\n",
      "    record: hmi.sharp_cea_720s[377][2011.02.15_16:00:00_TAI]\n",
      "  filename: hmi.sharp_cea_720s.377.20110215_160000_TAI.Bp.fits\n",
      "  -> AR_377_series/hmi.sharp_cea_720s.377.20110215_160000_TAI.Bp.fits\n",
      "Downloading file 2642 of 3600...\n",
      "    record: hmi.sharp_cea_720s[377][2011.02.15_16:00:00_TAI]\n",
      "  filename: hmi.sharp_cea_720s.377.20110215_160000_TAI.Bt.fits\n",
      "  -> AR_377_series/hmi.sharp_cea_720s.377.20110215_160000_TAI.Bt.fits\n",
      "Downloading file 2643 of 3600...\n",
      "    record: hmi.sharp_cea_720s[377][2011.02.15_16:00:00_TAI]\n",
      "  filename: hmi.sharp_cea_720s.377.20110215_160000_TAI.Br.fits\n",
      "  -> AR_377_series/hmi.sharp_cea_720s.377.20110215_160000_TAI.Br.fits\n",
      "Downloading file 2644 of 3600...\n",
      "    record: hmi.sharp_cea_720s[377][2011.02.15_16:00:00_TAI]\n",
      "  filename: hmi.sharp_cea_720s.377.20110215_160000_TAI.Bp_err.fits\n",
      "  -> AR_377_series/hmi.sharp_cea_720s.377.20110215_160000_TAI.Bp_err.fits\n",
      "Downloading file 2645 of 3600...\n",
      "    record: hmi.sharp_cea_720s[377][2011.02.15_16:00:00_TAI]\n",
      "  filename: hmi.sharp_cea_720s.377.20110215_160000_TAI.Bt_err.fits\n",
      "  -> AR_377_series/hmi.sharp_cea_720s.377.20110215_160000_TAI.Bt_err.fits\n",
      "Downloading file 2646 of 3600...\n",
      "    record: hmi.sharp_cea_720s[377][2011.02.15_16:00:00_TAI]\n",
      "  filename: hmi.sharp_cea_720s.377.20110215_160000_TAI.Br_err.fits\n",
      "  -> AR_377_series/hmi.sharp_cea_720s.377.20110215_160000_TAI.Br_err.fits\n",
      "Downloading file 2647 of 3600...\n",
      "    record: hmi.sharp_cea_720s[377][2011.02.15_16:12:00_TAI]\n",
      "  filename: hmi.sharp_cea_720s.377.20110215_161200_TAI.Bp.fits\n",
      "  -> AR_377_series/hmi.sharp_cea_720s.377.20110215_161200_TAI.Bp.fits\n",
      "Downloading file 2648 of 3600...\n",
      "    record: hmi.sharp_cea_720s[377][2011.02.15_16:12:00_TAI]\n",
      "  filename: hmi.sharp_cea_720s.377.20110215_161200_TAI.Bt.fits\n",
      "  -> AR_377_series/hmi.sharp_cea_720s.377.20110215_161200_TAI.Bt.fits\n",
      "Downloading file 2649 of 3600...\n",
      "    record: hmi.sharp_cea_720s[377][2011.02.15_16:12:00_TAI]\n",
      "  filename: hmi.sharp_cea_720s.377.20110215_161200_TAI.Br.fits\n",
      "  -> AR_377_series/hmi.sharp_cea_720s.377.20110215_161200_TAI.Br.fits\n",
      "Downloading file 2650 of 3600...\n",
      "    record: hmi.sharp_cea_720s[377][2011.02.15_16:12:00_TAI]\n",
      "  filename: hmi.sharp_cea_720s.377.20110215_161200_TAI.Bp_err.fits\n",
      "  -> AR_377_series/hmi.sharp_cea_720s.377.20110215_161200_TAI.Bp_err.fits\n",
      "Downloading file 2651 of 3600...\n",
      "    record: hmi.sharp_cea_720s[377][2011.02.15_16:12:00_TAI]\n",
      "  filename: hmi.sharp_cea_720s.377.20110215_161200_TAI.Bt_err.fits\n",
      "  -> AR_377_series/hmi.sharp_cea_720s.377.20110215_161200_TAI.Bt_err.fits\n",
      "Downloading file 2652 of 3600...\n",
      "    record: hmi.sharp_cea_720s[377][2011.02.15_16:12:00_TAI]\n",
      "  filename: hmi.sharp_cea_720s.377.20110215_161200_TAI.Br_err.fits\n",
      "  -> AR_377_series/hmi.sharp_cea_720s.377.20110215_161200_TAI.Br_err.fits\n",
      "Downloading file 2653 of 3600...\n",
      "    record: hmi.sharp_cea_720s[377][2011.02.15_16:24:00_TAI]\n",
      "  filename: hmi.sharp_cea_720s.377.20110215_162400_TAI.Bp.fits\n",
      "  -> AR_377_series/hmi.sharp_cea_720s.377.20110215_162400_TAI.Bp.fits\n",
      "Downloading file 2654 of 3600...\n",
      "    record: hmi.sharp_cea_720s[377][2011.02.15_16:24:00_TAI]\n",
      "  filename: hmi.sharp_cea_720s.377.20110215_162400_TAI.Bt.fits\n",
      "  -> AR_377_series/hmi.sharp_cea_720s.377.20110215_162400_TAI.Bt.fits\n",
      "Downloading file 2655 of 3600...\n",
      "    record: hmi.sharp_cea_720s[377][2011.02.15_16:24:00_TAI]\n",
      "  filename: hmi.sharp_cea_720s.377.20110215_162400_TAI.Br.fits\n",
      "  -> AR_377_series/hmi.sharp_cea_720s.377.20110215_162400_TAI.Br.fits\n",
      "Downloading file 2656 of 3600...\n",
      "    record: hmi.sharp_cea_720s[377][2011.02.15_16:24:00_TAI]\n",
      "  filename: hmi.sharp_cea_720s.377.20110215_162400_TAI.Bp_err.fits\n",
      "  -> AR_377_series/hmi.sharp_cea_720s.377.20110215_162400_TAI.Bp_err.fits\n",
      "Downloading file 2657 of 3600...\n",
      "    record: hmi.sharp_cea_720s[377][2011.02.15_16:24:00_TAI]\n",
      "  filename: hmi.sharp_cea_720s.377.20110215_162400_TAI.Bt_err.fits\n",
      "  -> AR_377_series/hmi.sharp_cea_720s.377.20110215_162400_TAI.Bt_err.fits\n",
      "Downloading file 2658 of 3600...\n",
      "    record: hmi.sharp_cea_720s[377][2011.02.15_16:24:00_TAI]\n",
      "  filename: hmi.sharp_cea_720s.377.20110215_162400_TAI.Br_err.fits\n",
      "  -> AR_377_series/hmi.sharp_cea_720s.377.20110215_162400_TAI.Br_err.fits\n",
      "Downloading file 2659 of 3600...\n",
      "    record: hmi.sharp_cea_720s[377][2011.02.15_16:36:00_TAI]\n",
      "  filename: hmi.sharp_cea_720s.377.20110215_163600_TAI.Bp.fits\n",
      "  -> AR_377_series/hmi.sharp_cea_720s.377.20110215_163600_TAI.Bp.fits\n",
      "Downloading file 2660 of 3600...\n",
      "    record: hmi.sharp_cea_720s[377][2011.02.15_16:36:00_TAI]\n",
      "  filename: hmi.sharp_cea_720s.377.20110215_163600_TAI.Bt.fits\n",
      "  -> AR_377_series/hmi.sharp_cea_720s.377.20110215_163600_TAI.Bt.fits\n",
      "Downloading file 2661 of 3600...\n",
      "    record: hmi.sharp_cea_720s[377][2011.02.15_16:36:00_TAI]\n",
      "  filename: hmi.sharp_cea_720s.377.20110215_163600_TAI.Br.fits\n",
      "  -> AR_377_series/hmi.sharp_cea_720s.377.20110215_163600_TAI.Br.fits\n",
      "Downloading file 2662 of 3600...\n",
      "    record: hmi.sharp_cea_720s[377][2011.02.15_16:36:00_TAI]\n",
      "  filename: hmi.sharp_cea_720s.377.20110215_163600_TAI.Bp_err.fits\n",
      "  -> AR_377_series/hmi.sharp_cea_720s.377.20110215_163600_TAI.Bp_err.fits\n",
      "Downloading file 2663 of 3600...\n",
      "    record: hmi.sharp_cea_720s[377][2011.02.15_16:36:00_TAI]\n",
      "  filename: hmi.sharp_cea_720s.377.20110215_163600_TAI.Bt_err.fits\n",
      "  -> AR_377_series/hmi.sharp_cea_720s.377.20110215_163600_TAI.Bt_err.fits\n",
      "Downloading file 2664 of 3600...\n",
      "    record: hmi.sharp_cea_720s[377][2011.02.15_16:36:00_TAI]\n",
      "  filename: hmi.sharp_cea_720s.377.20110215_163600_TAI.Br_err.fits\n",
      "  -> AR_377_series/hmi.sharp_cea_720s.377.20110215_163600_TAI.Br_err.fits\n",
      "Downloading file 2665 of 3600...\n",
      "    record: hmi.sharp_cea_720s[377][2011.02.15_16:48:00_TAI]\n",
      "  filename: hmi.sharp_cea_720s.377.20110215_164800_TAI.Bp.fits\n",
      "  -> AR_377_series/hmi.sharp_cea_720s.377.20110215_164800_TAI.Bp.fits\n",
      "Downloading file 2666 of 3600...\n",
      "    record: hmi.sharp_cea_720s[377][2011.02.15_16:48:00_TAI]\n",
      "  filename: hmi.sharp_cea_720s.377.20110215_164800_TAI.Bt.fits\n",
      "  -> AR_377_series/hmi.sharp_cea_720s.377.20110215_164800_TAI.Bt.fits\n",
      "Downloading file 2667 of 3600...\n",
      "    record: hmi.sharp_cea_720s[377][2011.02.15_16:48:00_TAI]\n",
      "  filename: hmi.sharp_cea_720s.377.20110215_164800_TAI.Br.fits\n",
      "  -> AR_377_series/hmi.sharp_cea_720s.377.20110215_164800_TAI.Br.fits\n",
      "Downloading file 2668 of 3600...\n",
      "    record: hmi.sharp_cea_720s[377][2011.02.15_16:48:00_TAI]\n",
      "  filename: hmi.sharp_cea_720s.377.20110215_164800_TAI.Bp_err.fits\n",
      "  -> AR_377_series/hmi.sharp_cea_720s.377.20110215_164800_TAI.Bp_err.fits\n",
      "Downloading file 2669 of 3600...\n",
      "    record: hmi.sharp_cea_720s[377][2011.02.15_16:48:00_TAI]\n",
      "  filename: hmi.sharp_cea_720s.377.20110215_164800_TAI.Bt_err.fits\n",
      "  -> AR_377_series/hmi.sharp_cea_720s.377.20110215_164800_TAI.Bt_err.fits\n",
      "Downloading file 2670 of 3600...\n",
      "    record: hmi.sharp_cea_720s[377][2011.02.15_16:48:00_TAI]\n",
      "  filename: hmi.sharp_cea_720s.377.20110215_164800_TAI.Br_err.fits\n",
      "  -> AR_377_series/hmi.sharp_cea_720s.377.20110215_164800_TAI.Br_err.fits\n",
      "Downloading file 2671 of 3600...\n",
      "    record: hmi.sharp_cea_720s[377][2011.02.15_17:00:00_TAI]\n",
      "  filename: hmi.sharp_cea_720s.377.20110215_170000_TAI.Bp.fits\n",
      "  -> AR_377_series/hmi.sharp_cea_720s.377.20110215_170000_TAI.Bp.fits\n",
      "Downloading file 2672 of 3600...\n",
      "    record: hmi.sharp_cea_720s[377][2011.02.15_17:00:00_TAI]\n",
      "  filename: hmi.sharp_cea_720s.377.20110215_170000_TAI.Bt.fits\n",
      "  -> AR_377_series/hmi.sharp_cea_720s.377.20110215_170000_TAI.Bt.fits\n",
      "Downloading file 2673 of 3600...\n",
      "    record: hmi.sharp_cea_720s[377][2011.02.15_17:00:00_TAI]\n",
      "  filename: hmi.sharp_cea_720s.377.20110215_170000_TAI.Br.fits\n",
      "  -> AR_377_series/hmi.sharp_cea_720s.377.20110215_170000_TAI.Br.fits\n",
      "Downloading file 2674 of 3600...\n",
      "    record: hmi.sharp_cea_720s[377][2011.02.15_17:00:00_TAI]\n",
      "  filename: hmi.sharp_cea_720s.377.20110215_170000_TAI.Bp_err.fits\n",
      "  -> AR_377_series/hmi.sharp_cea_720s.377.20110215_170000_TAI.Bp_err.fits\n",
      "Downloading file 2675 of 3600...\n",
      "    record: hmi.sharp_cea_720s[377][2011.02.15_17:00:00_TAI]\n",
      "  filename: hmi.sharp_cea_720s.377.20110215_170000_TAI.Bt_err.fits\n",
      "  -> AR_377_series/hmi.sharp_cea_720s.377.20110215_170000_TAI.Bt_err.fits\n",
      "Downloading file 2676 of 3600...\n",
      "    record: hmi.sharp_cea_720s[377][2011.02.15_17:00:00_TAI]\n",
      "  filename: hmi.sharp_cea_720s.377.20110215_170000_TAI.Br_err.fits\n",
      "  -> AR_377_series/hmi.sharp_cea_720s.377.20110215_170000_TAI.Br_err.fits\n",
      "Downloading file 2677 of 3600...\n",
      "    record: hmi.sharp_cea_720s[377][2011.02.15_17:12:00_TAI]\n",
      "  filename: hmi.sharp_cea_720s.377.20110215_171200_TAI.Bp.fits\n",
      "  -> AR_377_series/hmi.sharp_cea_720s.377.20110215_171200_TAI.Bp.fits\n",
      "Downloading file 2678 of 3600...\n",
      "    record: hmi.sharp_cea_720s[377][2011.02.15_17:12:00_TAI]\n",
      "  filename: hmi.sharp_cea_720s.377.20110215_171200_TAI.Bt.fits\n",
      "  -> AR_377_series/hmi.sharp_cea_720s.377.20110215_171200_TAI.Bt.fits\n",
      "Downloading file 2679 of 3600...\n",
      "    record: hmi.sharp_cea_720s[377][2011.02.15_17:12:00_TAI]\n",
      "  filename: hmi.sharp_cea_720s.377.20110215_171200_TAI.Br.fits\n",
      "  -> AR_377_series/hmi.sharp_cea_720s.377.20110215_171200_TAI.Br.fits\n",
      "Downloading file 2680 of 3600...\n",
      "    record: hmi.sharp_cea_720s[377][2011.02.15_17:12:00_TAI]\n",
      "  filename: hmi.sharp_cea_720s.377.20110215_171200_TAI.Bp_err.fits\n",
      "  -> AR_377_series/hmi.sharp_cea_720s.377.20110215_171200_TAI.Bp_err.fits\n",
      "Downloading file 2681 of 3600...\n",
      "    record: hmi.sharp_cea_720s[377][2011.02.15_17:12:00_TAI]\n",
      "  filename: hmi.sharp_cea_720s.377.20110215_171200_TAI.Bt_err.fits\n",
      "  -> AR_377_series/hmi.sharp_cea_720s.377.20110215_171200_TAI.Bt_err.fits\n",
      "Downloading file 2682 of 3600...\n",
      "    record: hmi.sharp_cea_720s[377][2011.02.15_17:12:00_TAI]\n",
      "  filename: hmi.sharp_cea_720s.377.20110215_171200_TAI.Br_err.fits\n",
      "  -> AR_377_series/hmi.sharp_cea_720s.377.20110215_171200_TAI.Br_err.fits\n",
      "Downloading file 2683 of 3600...\n",
      "    record: hmi.sharp_cea_720s[377][2011.02.15_17:24:00_TAI]\n",
      "  filename: hmi.sharp_cea_720s.377.20110215_172400_TAI.Bp.fits\n",
      "  -> AR_377_series/hmi.sharp_cea_720s.377.20110215_172400_TAI.Bp.fits\n",
      "Downloading file 2684 of 3600...\n",
      "    record: hmi.sharp_cea_720s[377][2011.02.15_17:24:00_TAI]\n",
      "  filename: hmi.sharp_cea_720s.377.20110215_172400_TAI.Bt.fits\n",
      "  -> AR_377_series/hmi.sharp_cea_720s.377.20110215_172400_TAI.Bt.fits\n",
      "Downloading file 2685 of 3600...\n",
      "    record: hmi.sharp_cea_720s[377][2011.02.15_17:24:00_TAI]\n",
      "  filename: hmi.sharp_cea_720s.377.20110215_172400_TAI.Br.fits\n",
      "  -> AR_377_series/hmi.sharp_cea_720s.377.20110215_172400_TAI.Br.fits\n",
      "Downloading file 2686 of 3600...\n",
      "    record: hmi.sharp_cea_720s[377][2011.02.15_17:24:00_TAI]\n",
      "  filename: hmi.sharp_cea_720s.377.20110215_172400_TAI.Bp_err.fits\n",
      "  -> AR_377_series/hmi.sharp_cea_720s.377.20110215_172400_TAI.Bp_err.fits\n",
      "Downloading file 2687 of 3600...\n",
      "    record: hmi.sharp_cea_720s[377][2011.02.15_17:24:00_TAI]\n",
      "  filename: hmi.sharp_cea_720s.377.20110215_172400_TAI.Bt_err.fits\n",
      "  -> AR_377_series/hmi.sharp_cea_720s.377.20110215_172400_TAI.Bt_err.fits\n",
      "Downloading file 2688 of 3600...\n",
      "    record: hmi.sharp_cea_720s[377][2011.02.15_17:24:00_TAI]\n",
      "  filename: hmi.sharp_cea_720s.377.20110215_172400_TAI.Br_err.fits\n",
      "  -> AR_377_series/hmi.sharp_cea_720s.377.20110215_172400_TAI.Br_err.fits\n",
      "Downloading file 2689 of 3600...\n",
      "    record: hmi.sharp_cea_720s[377][2011.02.15_17:36:00_TAI]\n",
      "  filename: hmi.sharp_cea_720s.377.20110215_173600_TAI.Bp.fits\n",
      "  -> AR_377_series/hmi.sharp_cea_720s.377.20110215_173600_TAI.Bp.fits\n",
      "Downloading file 2690 of 3600...\n",
      "    record: hmi.sharp_cea_720s[377][2011.02.15_17:36:00_TAI]\n",
      "  filename: hmi.sharp_cea_720s.377.20110215_173600_TAI.Bt.fits\n",
      "  -> AR_377_series/hmi.sharp_cea_720s.377.20110215_173600_TAI.Bt.fits\n",
      "Downloading file 2691 of 3600...\n",
      "    record: hmi.sharp_cea_720s[377][2011.02.15_17:36:00_TAI]\n",
      "  filename: hmi.sharp_cea_720s.377.20110215_173600_TAI.Br.fits\n",
      "  -> AR_377_series/hmi.sharp_cea_720s.377.20110215_173600_TAI.Br.fits\n",
      "Downloading file 2692 of 3600...\n",
      "    record: hmi.sharp_cea_720s[377][2011.02.15_17:36:00_TAI]\n",
      "  filename: hmi.sharp_cea_720s.377.20110215_173600_TAI.Bp_err.fits\n",
      "  -> AR_377_series/hmi.sharp_cea_720s.377.20110215_173600_TAI.Bp_err.fits\n",
      "Downloading file 2693 of 3600...\n",
      "    record: hmi.sharp_cea_720s[377][2011.02.15_17:36:00_TAI]\n",
      "  filename: hmi.sharp_cea_720s.377.20110215_173600_TAI.Bt_err.fits\n",
      "  -> AR_377_series/hmi.sharp_cea_720s.377.20110215_173600_TAI.Bt_err.fits\n",
      "Downloading file 2694 of 3600...\n",
      "    record: hmi.sharp_cea_720s[377][2011.02.15_17:36:00_TAI]\n",
      "  filename: hmi.sharp_cea_720s.377.20110215_173600_TAI.Br_err.fits\n",
      "  -> AR_377_series/hmi.sharp_cea_720s.377.20110215_173600_TAI.Br_err.fits\n",
      "Downloading file 2695 of 3600...\n",
      "    record: hmi.sharp_cea_720s[377][2011.02.15_17:48:00_TAI]\n",
      "  filename: hmi.sharp_cea_720s.377.20110215_174800_TAI.Bp.fits\n",
      "  -> AR_377_series/hmi.sharp_cea_720s.377.20110215_174800_TAI.Bp.fits\n",
      "Downloading file 2696 of 3600...\n",
      "    record: hmi.sharp_cea_720s[377][2011.02.15_17:48:00_TAI]\n",
      "  filename: hmi.sharp_cea_720s.377.20110215_174800_TAI.Bt.fits\n",
      "  -> AR_377_series/hmi.sharp_cea_720s.377.20110215_174800_TAI.Bt.fits\n",
      "Downloading file 2697 of 3600...\n",
      "    record: hmi.sharp_cea_720s[377][2011.02.15_17:48:00_TAI]\n",
      "  filename: hmi.sharp_cea_720s.377.20110215_174800_TAI.Br.fits\n",
      "  -> AR_377_series/hmi.sharp_cea_720s.377.20110215_174800_TAI.Br.fits\n",
      "Downloading file 2698 of 3600...\n",
      "    record: hmi.sharp_cea_720s[377][2011.02.15_17:48:00_TAI]\n",
      "  filename: hmi.sharp_cea_720s.377.20110215_174800_TAI.Bp_err.fits\n",
      "  -> AR_377_series/hmi.sharp_cea_720s.377.20110215_174800_TAI.Bp_err.fits\n",
      "Downloading file 2699 of 3600...\n",
      "    record: hmi.sharp_cea_720s[377][2011.02.15_17:48:00_TAI]\n",
      "  filename: hmi.sharp_cea_720s.377.20110215_174800_TAI.Bt_err.fits\n",
      "  -> AR_377_series/hmi.sharp_cea_720s.377.20110215_174800_TAI.Bt_err.fits\n",
      "Downloading file 2700 of 3600...\n",
      "    record: hmi.sharp_cea_720s[377][2011.02.15_17:48:00_TAI]\n",
      "  filename: hmi.sharp_cea_720s.377.20110215_174800_TAI.Br_err.fits\n",
      "  -> AR_377_series/hmi.sharp_cea_720s.377.20110215_174800_TAI.Br_err.fits\n",
      "Downloading file 2701 of 3600...\n",
      "    record: hmi.sharp_cea_720s[377][2011.02.15_18:00:00_TAI]\n",
      "  filename: hmi.sharp_cea_720s.377.20110215_180000_TAI.Bp.fits\n",
      "  -> AR_377_series/hmi.sharp_cea_720s.377.20110215_180000_TAI.Bp.fits\n",
      "Downloading file 2702 of 3600...\n",
      "    record: hmi.sharp_cea_720s[377][2011.02.15_18:00:00_TAI]\n",
      "  filename: hmi.sharp_cea_720s.377.20110215_180000_TAI.Bt.fits\n",
      "  -> AR_377_series/hmi.sharp_cea_720s.377.20110215_180000_TAI.Bt.fits\n",
      "Downloading file 2703 of 3600...\n",
      "    record: hmi.sharp_cea_720s[377][2011.02.15_18:00:00_TAI]\n",
      "  filename: hmi.sharp_cea_720s.377.20110215_180000_TAI.Br.fits\n",
      "  -> AR_377_series/hmi.sharp_cea_720s.377.20110215_180000_TAI.Br.fits\n",
      "Downloading file 2704 of 3600...\n",
      "    record: hmi.sharp_cea_720s[377][2011.02.15_18:00:00_TAI]\n",
      "  filename: hmi.sharp_cea_720s.377.20110215_180000_TAI.Bp_err.fits\n",
      "  -> AR_377_series/hmi.sharp_cea_720s.377.20110215_180000_TAI.Bp_err.fits\n",
      "Downloading file 2705 of 3600...\n",
      "    record: hmi.sharp_cea_720s[377][2011.02.15_18:00:00_TAI]\n",
      "  filename: hmi.sharp_cea_720s.377.20110215_180000_TAI.Bt_err.fits\n",
      "  -> AR_377_series/hmi.sharp_cea_720s.377.20110215_180000_TAI.Bt_err.fits\n",
      "Downloading file 2706 of 3600...\n",
      "    record: hmi.sharp_cea_720s[377][2011.02.15_18:00:00_TAI]\n",
      "  filename: hmi.sharp_cea_720s.377.20110215_180000_TAI.Br_err.fits\n",
      "  -> AR_377_series/hmi.sharp_cea_720s.377.20110215_180000_TAI.Br_err.fits\n",
      "Downloading file 2707 of 3600...\n",
      "    record: hmi.sharp_cea_720s[377][2011.02.15_18:12:00_TAI]\n",
      "  filename: hmi.sharp_cea_720s.377.20110215_181200_TAI.Bp.fits\n",
      "  -> AR_377_series/hmi.sharp_cea_720s.377.20110215_181200_TAI.Bp.fits\n",
      "Downloading file 2708 of 3600...\n",
      "    record: hmi.sharp_cea_720s[377][2011.02.15_18:12:00_TAI]\n",
      "  filename: hmi.sharp_cea_720s.377.20110215_181200_TAI.Bt.fits\n",
      "  -> AR_377_series/hmi.sharp_cea_720s.377.20110215_181200_TAI.Bt.fits\n",
      "Downloading file 2709 of 3600...\n",
      "    record: hmi.sharp_cea_720s[377][2011.02.15_18:12:00_TAI]\n",
      "  filename: hmi.sharp_cea_720s.377.20110215_181200_TAI.Br.fits\n",
      "  -> AR_377_series/hmi.sharp_cea_720s.377.20110215_181200_TAI.Br.fits\n",
      "Downloading file 2710 of 3600...\n",
      "    record: hmi.sharp_cea_720s[377][2011.02.15_18:12:00_TAI]\n",
      "  filename: hmi.sharp_cea_720s.377.20110215_181200_TAI.Bp_err.fits\n",
      "  -> AR_377_series/hmi.sharp_cea_720s.377.20110215_181200_TAI.Bp_err.fits\n",
      "Downloading file 2711 of 3600...\n",
      "    record: hmi.sharp_cea_720s[377][2011.02.15_18:12:00_TAI]\n",
      "  filename: hmi.sharp_cea_720s.377.20110215_181200_TAI.Bt_err.fits\n",
      "  -> AR_377_series/hmi.sharp_cea_720s.377.20110215_181200_TAI.Bt_err.fits\n",
      "Downloading file 2712 of 3600...\n",
      "    record: hmi.sharp_cea_720s[377][2011.02.15_18:12:00_TAI]\n",
      "  filename: hmi.sharp_cea_720s.377.20110215_181200_TAI.Br_err.fits\n",
      "  -> AR_377_series/hmi.sharp_cea_720s.377.20110215_181200_TAI.Br_err.fits\n",
      "Downloading file 2713 of 3600...\n",
      "    record: hmi.sharp_cea_720s[377][2011.02.15_18:24:00_TAI]\n",
      "  filename: hmi.sharp_cea_720s.377.20110215_182400_TAI.Bp.fits\n",
      "  -> AR_377_series/hmi.sharp_cea_720s.377.20110215_182400_TAI.Bp.fits\n",
      "Downloading file 2714 of 3600...\n",
      "    record: hmi.sharp_cea_720s[377][2011.02.15_18:24:00_TAI]\n",
      "  filename: hmi.sharp_cea_720s.377.20110215_182400_TAI.Bt.fits\n",
      "  -> AR_377_series/hmi.sharp_cea_720s.377.20110215_182400_TAI.Bt.fits\n",
      "Downloading file 2715 of 3600...\n",
      "    record: hmi.sharp_cea_720s[377][2011.02.15_18:24:00_TAI]\n",
      "  filename: hmi.sharp_cea_720s.377.20110215_182400_TAI.Br.fits\n",
      "  -> AR_377_series/hmi.sharp_cea_720s.377.20110215_182400_TAI.Br.fits\n",
      "Downloading file 2716 of 3600...\n",
      "    record: hmi.sharp_cea_720s[377][2011.02.15_18:24:00_TAI]\n",
      "  filename: hmi.sharp_cea_720s.377.20110215_182400_TAI.Bp_err.fits\n",
      "  -> AR_377_series/hmi.sharp_cea_720s.377.20110215_182400_TAI.Bp_err.fits\n",
      "Downloading file 2717 of 3600...\n",
      "    record: hmi.sharp_cea_720s[377][2011.02.15_18:24:00_TAI]\n",
      "  filename: hmi.sharp_cea_720s.377.20110215_182400_TAI.Bt_err.fits\n",
      "  -> AR_377_series/hmi.sharp_cea_720s.377.20110215_182400_TAI.Bt_err.fits\n",
      "Downloading file 2718 of 3600...\n",
      "    record: hmi.sharp_cea_720s[377][2011.02.15_18:24:00_TAI]\n",
      "  filename: hmi.sharp_cea_720s.377.20110215_182400_TAI.Br_err.fits\n",
      "  -> AR_377_series/hmi.sharp_cea_720s.377.20110215_182400_TAI.Br_err.fits\n",
      "Downloading file 2719 of 3600...\n",
      "    record: hmi.sharp_cea_720s[377][2011.02.15_18:36:00_TAI]\n",
      "  filename: hmi.sharp_cea_720s.377.20110215_183600_TAI.Bp.fits\n",
      "  -> AR_377_series/hmi.sharp_cea_720s.377.20110215_183600_TAI.Bp.fits\n",
      "Downloading file 2720 of 3600...\n",
      "    record: hmi.sharp_cea_720s[377][2011.02.15_18:36:00_TAI]\n",
      "  filename: hmi.sharp_cea_720s.377.20110215_183600_TAI.Bt.fits\n",
      "  -> AR_377_series/hmi.sharp_cea_720s.377.20110215_183600_TAI.Bt.fits\n",
      "Downloading file 2721 of 3600...\n",
      "    record: hmi.sharp_cea_720s[377][2011.02.15_18:36:00_TAI]\n",
      "  filename: hmi.sharp_cea_720s.377.20110215_183600_TAI.Br.fits\n",
      "  -> AR_377_series/hmi.sharp_cea_720s.377.20110215_183600_TAI.Br.fits\n",
      "Downloading file 2722 of 3600...\n",
      "    record: hmi.sharp_cea_720s[377][2011.02.15_18:36:00_TAI]\n",
      "  filename: hmi.sharp_cea_720s.377.20110215_183600_TAI.Bp_err.fits\n",
      "  -> AR_377_series/hmi.sharp_cea_720s.377.20110215_183600_TAI.Bp_err.fits\n",
      "Downloading file 2723 of 3600...\n",
      "    record: hmi.sharp_cea_720s[377][2011.02.15_18:36:00_TAI]\n",
      "  filename: hmi.sharp_cea_720s.377.20110215_183600_TAI.Bt_err.fits\n",
      "  -> AR_377_series/hmi.sharp_cea_720s.377.20110215_183600_TAI.Bt_err.fits\n",
      "Downloading file 2724 of 3600...\n",
      "    record: hmi.sharp_cea_720s[377][2011.02.15_18:36:00_TAI]\n",
      "  filename: hmi.sharp_cea_720s.377.20110215_183600_TAI.Br_err.fits\n",
      "  -> AR_377_series/hmi.sharp_cea_720s.377.20110215_183600_TAI.Br_err.fits\n",
      "Downloading file 2725 of 3600...\n",
      "    record: hmi.sharp_cea_720s[377][2011.02.15_18:48:00_TAI]\n",
      "  filename: hmi.sharp_cea_720s.377.20110215_184800_TAI.Bp.fits\n",
      "  -> AR_377_series/hmi.sharp_cea_720s.377.20110215_184800_TAI.Bp.fits\n",
      "Downloading file 2726 of 3600...\n",
      "    record: hmi.sharp_cea_720s[377][2011.02.15_18:48:00_TAI]\n",
      "  filename: hmi.sharp_cea_720s.377.20110215_184800_TAI.Bt.fits\n",
      "  -> AR_377_series/hmi.sharp_cea_720s.377.20110215_184800_TAI.Bt.fits\n",
      "Downloading file 2727 of 3600...\n",
      "    record: hmi.sharp_cea_720s[377][2011.02.15_18:48:00_TAI]\n",
      "  filename: hmi.sharp_cea_720s.377.20110215_184800_TAI.Br.fits\n",
      "  -> AR_377_series/hmi.sharp_cea_720s.377.20110215_184800_TAI.Br.fits\n",
      "Downloading file 2728 of 3600...\n",
      "    record: hmi.sharp_cea_720s[377][2011.02.15_18:48:00_TAI]\n",
      "  filename: hmi.sharp_cea_720s.377.20110215_184800_TAI.Bp_err.fits\n",
      "  -> AR_377_series/hmi.sharp_cea_720s.377.20110215_184800_TAI.Bp_err.fits\n",
      "Downloading file 2729 of 3600...\n",
      "    record: hmi.sharp_cea_720s[377][2011.02.15_18:48:00_TAI]\n",
      "  filename: hmi.sharp_cea_720s.377.20110215_184800_TAI.Bt_err.fits\n",
      "  -> AR_377_series/hmi.sharp_cea_720s.377.20110215_184800_TAI.Bt_err.fits\n",
      "Downloading file 2730 of 3600...\n",
      "    record: hmi.sharp_cea_720s[377][2011.02.15_18:48:00_TAI]\n",
      "  filename: hmi.sharp_cea_720s.377.20110215_184800_TAI.Br_err.fits\n",
      "  -> AR_377_series/hmi.sharp_cea_720s.377.20110215_184800_TAI.Br_err.fits\n",
      "Downloading file 2731 of 3600...\n",
      "    record: hmi.sharp_cea_720s[377][2011.02.15_19:00:00_TAI]\n",
      "  filename: hmi.sharp_cea_720s.377.20110215_190000_TAI.Bp.fits\n",
      "  -> AR_377_series/hmi.sharp_cea_720s.377.20110215_190000_TAI.Bp.fits\n",
      "Downloading file 2732 of 3600...\n",
      "    record: hmi.sharp_cea_720s[377][2011.02.15_19:00:00_TAI]\n",
      "  filename: hmi.sharp_cea_720s.377.20110215_190000_TAI.Bt.fits\n",
      "  -> AR_377_series/hmi.sharp_cea_720s.377.20110215_190000_TAI.Bt.fits\n",
      "Downloading file 2733 of 3600...\n",
      "    record: hmi.sharp_cea_720s[377][2011.02.15_19:00:00_TAI]\n",
      "  filename: hmi.sharp_cea_720s.377.20110215_190000_TAI.Br.fits\n",
      "  -> AR_377_series/hmi.sharp_cea_720s.377.20110215_190000_TAI.Br.fits\n",
      "Downloading file 2734 of 3600...\n",
      "    record: hmi.sharp_cea_720s[377][2011.02.15_19:00:00_TAI]\n",
      "  filename: hmi.sharp_cea_720s.377.20110215_190000_TAI.Bp_err.fits\n",
      "  -> AR_377_series/hmi.sharp_cea_720s.377.20110215_190000_TAI.Bp_err.fits\n",
      "Downloading file 2735 of 3600...\n",
      "    record: hmi.sharp_cea_720s[377][2011.02.15_19:00:00_TAI]\n",
      "  filename: hmi.sharp_cea_720s.377.20110215_190000_TAI.Bt_err.fits\n",
      "  -> AR_377_series/hmi.sharp_cea_720s.377.20110215_190000_TAI.Bt_err.fits\n",
      "Downloading file 2736 of 3600...\n",
      "    record: hmi.sharp_cea_720s[377][2011.02.15_19:00:00_TAI]\n",
      "  filename: hmi.sharp_cea_720s.377.20110215_190000_TAI.Br_err.fits\n",
      "  -> AR_377_series/hmi.sharp_cea_720s.377.20110215_190000_TAI.Br_err.fits\n",
      "Downloading file 2737 of 3600...\n",
      "    record: hmi.sharp_cea_720s[377][2011.02.15_19:12:00_TAI]\n",
      "  filename: hmi.sharp_cea_720s.377.20110215_191200_TAI.Bp.fits\n",
      "  -> AR_377_series/hmi.sharp_cea_720s.377.20110215_191200_TAI.Bp.fits\n",
      "Downloading file 2738 of 3600...\n",
      "    record: hmi.sharp_cea_720s[377][2011.02.15_19:12:00_TAI]\n",
      "  filename: hmi.sharp_cea_720s.377.20110215_191200_TAI.Bt.fits\n",
      "  -> AR_377_series/hmi.sharp_cea_720s.377.20110215_191200_TAI.Bt.fits\n",
      "Downloading file 2739 of 3600...\n",
      "    record: hmi.sharp_cea_720s[377][2011.02.15_19:12:00_TAI]\n",
      "  filename: hmi.sharp_cea_720s.377.20110215_191200_TAI.Br.fits\n",
      "  -> AR_377_series/hmi.sharp_cea_720s.377.20110215_191200_TAI.Br.fits\n",
      "Downloading file 2740 of 3600...\n",
      "    record: hmi.sharp_cea_720s[377][2011.02.15_19:12:00_TAI]\n",
      "  filename: hmi.sharp_cea_720s.377.20110215_191200_TAI.Bp_err.fits\n",
      "  -> AR_377_series/hmi.sharp_cea_720s.377.20110215_191200_TAI.Bp_err.fits\n",
      "Downloading file 2741 of 3600...\n",
      "    record: hmi.sharp_cea_720s[377][2011.02.15_19:12:00_TAI]\n",
      "  filename: hmi.sharp_cea_720s.377.20110215_191200_TAI.Bt_err.fits\n",
      "  -> AR_377_series/hmi.sharp_cea_720s.377.20110215_191200_TAI.Bt_err.fits\n",
      "Downloading file 2742 of 3600...\n",
      "    record: hmi.sharp_cea_720s[377][2011.02.15_19:12:00_TAI]\n",
      "  filename: hmi.sharp_cea_720s.377.20110215_191200_TAI.Br_err.fits\n",
      "  -> AR_377_series/hmi.sharp_cea_720s.377.20110215_191200_TAI.Br_err.fits\n",
      "Downloading file 2743 of 3600...\n",
      "    record: hmi.sharp_cea_720s[377][2011.02.15_19:24:00_TAI]\n",
      "  filename: hmi.sharp_cea_720s.377.20110215_192400_TAI.Bp.fits\n",
      "  -> AR_377_series/hmi.sharp_cea_720s.377.20110215_192400_TAI.Bp.fits\n",
      "Downloading file 2744 of 3600...\n",
      "    record: hmi.sharp_cea_720s[377][2011.02.15_19:24:00_TAI]\n",
      "  filename: hmi.sharp_cea_720s.377.20110215_192400_TAI.Bt.fits\n",
      "  -> AR_377_series/hmi.sharp_cea_720s.377.20110215_192400_TAI.Bt.fits\n",
      "Downloading file 2745 of 3600...\n",
      "    record: hmi.sharp_cea_720s[377][2011.02.15_19:24:00_TAI]\n",
      "  filename: hmi.sharp_cea_720s.377.20110215_192400_TAI.Br.fits\n",
      "  -> AR_377_series/hmi.sharp_cea_720s.377.20110215_192400_TAI.Br.fits\n",
      "Downloading file 2746 of 3600...\n",
      "    record: hmi.sharp_cea_720s[377][2011.02.15_19:24:00_TAI]\n",
      "  filename: hmi.sharp_cea_720s.377.20110215_192400_TAI.Bp_err.fits\n",
      "  -> AR_377_series/hmi.sharp_cea_720s.377.20110215_192400_TAI.Bp_err.fits\n",
      "Downloading file 2747 of 3600...\n",
      "    record: hmi.sharp_cea_720s[377][2011.02.15_19:24:00_TAI]\n",
      "  filename: hmi.sharp_cea_720s.377.20110215_192400_TAI.Bt_err.fits\n",
      "  -> AR_377_series/hmi.sharp_cea_720s.377.20110215_192400_TAI.Bt_err.fits\n",
      "Downloading file 2748 of 3600...\n",
      "    record: hmi.sharp_cea_720s[377][2011.02.15_19:24:00_TAI]\n",
      "  filename: hmi.sharp_cea_720s.377.20110215_192400_TAI.Br_err.fits\n",
      "  -> AR_377_series/hmi.sharp_cea_720s.377.20110215_192400_TAI.Br_err.fits\n",
      "Downloading file 2749 of 3600...\n",
      "    record: hmi.sharp_cea_720s[377][2011.02.15_19:36:00_TAI]\n",
      "  filename: hmi.sharp_cea_720s.377.20110215_193600_TAI.Bp.fits\n",
      "  -> AR_377_series/hmi.sharp_cea_720s.377.20110215_193600_TAI.Bp.fits\n",
      "Downloading file 2750 of 3600...\n",
      "    record: hmi.sharp_cea_720s[377][2011.02.15_19:36:00_TAI]\n",
      "  filename: hmi.sharp_cea_720s.377.20110215_193600_TAI.Bt.fits\n",
      "  -> AR_377_series/hmi.sharp_cea_720s.377.20110215_193600_TAI.Bt.fits\n",
      "Downloading file 2751 of 3600...\n",
      "    record: hmi.sharp_cea_720s[377][2011.02.15_19:36:00_TAI]\n",
      "  filename: hmi.sharp_cea_720s.377.20110215_193600_TAI.Br.fits\n",
      "  -> AR_377_series/hmi.sharp_cea_720s.377.20110215_193600_TAI.Br.fits\n",
      "Downloading file 2752 of 3600...\n",
      "    record: hmi.sharp_cea_720s[377][2011.02.15_19:36:00_TAI]\n",
      "  filename: hmi.sharp_cea_720s.377.20110215_193600_TAI.Bp_err.fits\n",
      "  -> AR_377_series/hmi.sharp_cea_720s.377.20110215_193600_TAI.Bp_err.fits\n",
      "Downloading file 2753 of 3600...\n",
      "    record: hmi.sharp_cea_720s[377][2011.02.15_19:36:00_TAI]\n",
      "  filename: hmi.sharp_cea_720s.377.20110215_193600_TAI.Bt_err.fits\n",
      "  -> AR_377_series/hmi.sharp_cea_720s.377.20110215_193600_TAI.Bt_err.fits\n",
      "Downloading file 2754 of 3600...\n",
      "    record: hmi.sharp_cea_720s[377][2011.02.15_19:36:00_TAI]\n",
      "  filename: hmi.sharp_cea_720s.377.20110215_193600_TAI.Br_err.fits\n",
      "  -> AR_377_series/hmi.sharp_cea_720s.377.20110215_193600_TAI.Br_err.fits\n",
      "Downloading file 2755 of 3600...\n",
      "    record: hmi.sharp_cea_720s[377][2011.02.15_19:48:00_TAI]\n",
      "  filename: hmi.sharp_cea_720s.377.20110215_194800_TAI.Bp.fits\n",
      "  -> AR_377_series/hmi.sharp_cea_720s.377.20110215_194800_TAI.Bp.fits\n",
      "Downloading file 2756 of 3600...\n",
      "    record: hmi.sharp_cea_720s[377][2011.02.15_19:48:00_TAI]\n",
      "  filename: hmi.sharp_cea_720s.377.20110215_194800_TAI.Bt.fits\n",
      "  -> AR_377_series/hmi.sharp_cea_720s.377.20110215_194800_TAI.Bt.fits\n",
      "Downloading file 2757 of 3600...\n",
      "    record: hmi.sharp_cea_720s[377][2011.02.15_19:48:00_TAI]\n",
      "  filename: hmi.sharp_cea_720s.377.20110215_194800_TAI.Br.fits\n",
      "  -> AR_377_series/hmi.sharp_cea_720s.377.20110215_194800_TAI.Br.fits\n",
      "Downloading file 2758 of 3600...\n",
      "    record: hmi.sharp_cea_720s[377][2011.02.15_19:48:00_TAI]\n",
      "  filename: hmi.sharp_cea_720s.377.20110215_194800_TAI.Bp_err.fits\n",
      "  -> AR_377_series/hmi.sharp_cea_720s.377.20110215_194800_TAI.Bp_err.fits\n",
      "Downloading file 2759 of 3600...\n",
      "    record: hmi.sharp_cea_720s[377][2011.02.15_19:48:00_TAI]\n",
      "  filename: hmi.sharp_cea_720s.377.20110215_194800_TAI.Bt_err.fits\n",
      "  -> AR_377_series/hmi.sharp_cea_720s.377.20110215_194800_TAI.Bt_err.fits\n",
      "Downloading file 2760 of 3600...\n",
      "    record: hmi.sharp_cea_720s[377][2011.02.15_19:48:00_TAI]\n",
      "  filename: hmi.sharp_cea_720s.377.20110215_194800_TAI.Br_err.fits\n",
      "  -> AR_377_series/hmi.sharp_cea_720s.377.20110215_194800_TAI.Br_err.fits\n",
      "Downloading file 2761 of 3600...\n",
      "    record: hmi.sharp_cea_720s[377][2011.02.15_20:00:00_TAI]\n",
      "  filename: hmi.sharp_cea_720s.377.20110215_200000_TAI.Bp.fits\n",
      "  -> AR_377_series/hmi.sharp_cea_720s.377.20110215_200000_TAI.Bp.fits\n",
      "Downloading file 2762 of 3600...\n",
      "    record: hmi.sharp_cea_720s[377][2011.02.15_20:00:00_TAI]\n",
      "  filename: hmi.sharp_cea_720s.377.20110215_200000_TAI.Bt.fits\n",
      "  -> AR_377_series/hmi.sharp_cea_720s.377.20110215_200000_TAI.Bt.fits\n",
      "Downloading file 2763 of 3600...\n",
      "    record: hmi.sharp_cea_720s[377][2011.02.15_20:00:00_TAI]\n",
      "  filename: hmi.sharp_cea_720s.377.20110215_200000_TAI.Br.fits\n",
      "  -> AR_377_series/hmi.sharp_cea_720s.377.20110215_200000_TAI.Br.fits\n",
      "Downloading file 2764 of 3600...\n",
      "    record: hmi.sharp_cea_720s[377][2011.02.15_20:00:00_TAI]\n",
      "  filename: hmi.sharp_cea_720s.377.20110215_200000_TAI.Bp_err.fits\n",
      "  -> AR_377_series/hmi.sharp_cea_720s.377.20110215_200000_TAI.Bp_err.fits\n",
      "Downloading file 2765 of 3600...\n",
      "    record: hmi.sharp_cea_720s[377][2011.02.15_20:00:00_TAI]\n",
      "  filename: hmi.sharp_cea_720s.377.20110215_200000_TAI.Bt_err.fits\n",
      "  -> AR_377_series/hmi.sharp_cea_720s.377.20110215_200000_TAI.Bt_err.fits\n",
      "Downloading file 2766 of 3600...\n",
      "    record: hmi.sharp_cea_720s[377][2011.02.15_20:00:00_TAI]\n",
      "  filename: hmi.sharp_cea_720s.377.20110215_200000_TAI.Br_err.fits\n",
      "  -> AR_377_series/hmi.sharp_cea_720s.377.20110215_200000_TAI.Br_err.fits\n",
      "Downloading file 2767 of 3600...\n",
      "    record: hmi.sharp_cea_720s[377][2011.02.15_20:12:00_TAI]\n",
      "  filename: hmi.sharp_cea_720s.377.20110215_201200_TAI.Bp.fits\n",
      "  -> AR_377_series/hmi.sharp_cea_720s.377.20110215_201200_TAI.Bp.fits\n",
      "Downloading file 2768 of 3600...\n",
      "    record: hmi.sharp_cea_720s[377][2011.02.15_20:12:00_TAI]\n",
      "  filename: hmi.sharp_cea_720s.377.20110215_201200_TAI.Bt.fits\n",
      "  -> AR_377_series/hmi.sharp_cea_720s.377.20110215_201200_TAI.Bt.fits\n",
      "Downloading file 2769 of 3600...\n",
      "    record: hmi.sharp_cea_720s[377][2011.02.15_20:12:00_TAI]\n",
      "  filename: hmi.sharp_cea_720s.377.20110215_201200_TAI.Br.fits\n",
      "  -> AR_377_series/hmi.sharp_cea_720s.377.20110215_201200_TAI.Br.fits\n",
      "Downloading file 2770 of 3600...\n",
      "    record: hmi.sharp_cea_720s[377][2011.02.15_20:12:00_TAI]\n",
      "  filename: hmi.sharp_cea_720s.377.20110215_201200_TAI.Bp_err.fits\n",
      "  -> AR_377_series/hmi.sharp_cea_720s.377.20110215_201200_TAI.Bp_err.fits\n",
      "Downloading file 2771 of 3600...\n",
      "    record: hmi.sharp_cea_720s[377][2011.02.15_20:12:00_TAI]\n",
      "  filename: hmi.sharp_cea_720s.377.20110215_201200_TAI.Bt_err.fits\n",
      "  -> AR_377_series/hmi.sharp_cea_720s.377.20110215_201200_TAI.Bt_err.fits\n",
      "Downloading file 2772 of 3600...\n",
      "    record: hmi.sharp_cea_720s[377][2011.02.15_20:12:00_TAI]\n",
      "  filename: hmi.sharp_cea_720s.377.20110215_201200_TAI.Br_err.fits\n",
      "  -> AR_377_series/hmi.sharp_cea_720s.377.20110215_201200_TAI.Br_err.fits\n",
      "Downloading file 2773 of 3600...\n",
      "    record: hmi.sharp_cea_720s[377][2011.02.15_20:24:00_TAI]\n",
      "  filename: hmi.sharp_cea_720s.377.20110215_202400_TAI.Bp.fits\n",
      "  -> AR_377_series/hmi.sharp_cea_720s.377.20110215_202400_TAI.Bp.fits\n",
      "Downloading file 2774 of 3600...\n",
      "    record: hmi.sharp_cea_720s[377][2011.02.15_20:24:00_TAI]\n",
      "  filename: hmi.sharp_cea_720s.377.20110215_202400_TAI.Bt.fits\n",
      "  -> AR_377_series/hmi.sharp_cea_720s.377.20110215_202400_TAI.Bt.fits\n",
      "Downloading file 2775 of 3600...\n",
      "    record: hmi.sharp_cea_720s[377][2011.02.15_20:24:00_TAI]\n",
      "  filename: hmi.sharp_cea_720s.377.20110215_202400_TAI.Br.fits\n",
      "  -> AR_377_series/hmi.sharp_cea_720s.377.20110215_202400_TAI.Br.fits\n",
      "Downloading file 2776 of 3600...\n",
      "    record: hmi.sharp_cea_720s[377][2011.02.15_20:24:00_TAI]\n",
      "  filename: hmi.sharp_cea_720s.377.20110215_202400_TAI.Bp_err.fits\n",
      "  -> AR_377_series/hmi.sharp_cea_720s.377.20110215_202400_TAI.Bp_err.fits\n",
      "Downloading file 2777 of 3600...\n",
      "    record: hmi.sharp_cea_720s[377][2011.02.15_20:24:00_TAI]\n",
      "  filename: hmi.sharp_cea_720s.377.20110215_202400_TAI.Bt_err.fits\n",
      "  -> AR_377_series/hmi.sharp_cea_720s.377.20110215_202400_TAI.Bt_err.fits\n",
      "Downloading file 2778 of 3600...\n",
      "    record: hmi.sharp_cea_720s[377][2011.02.15_20:24:00_TAI]\n",
      "  filename: hmi.sharp_cea_720s.377.20110215_202400_TAI.Br_err.fits\n",
      "  -> AR_377_series/hmi.sharp_cea_720s.377.20110215_202400_TAI.Br_err.fits\n",
      "Downloading file 2779 of 3600...\n",
      "    record: hmi.sharp_cea_720s[377][2011.02.15_20:36:00_TAI]\n",
      "  filename: hmi.sharp_cea_720s.377.20110215_203600_TAI.Bp.fits\n",
      "  -> AR_377_series/hmi.sharp_cea_720s.377.20110215_203600_TAI.Bp.fits\n",
      "Downloading file 2780 of 3600...\n",
      "    record: hmi.sharp_cea_720s[377][2011.02.15_20:36:00_TAI]\n",
      "  filename: hmi.sharp_cea_720s.377.20110215_203600_TAI.Bt.fits\n",
      "  -> AR_377_series/hmi.sharp_cea_720s.377.20110215_203600_TAI.Bt.fits\n",
      "Downloading file 2781 of 3600...\n",
      "    record: hmi.sharp_cea_720s[377][2011.02.15_20:36:00_TAI]\n",
      "  filename: hmi.sharp_cea_720s.377.20110215_203600_TAI.Br.fits\n",
      "  -> AR_377_series/hmi.sharp_cea_720s.377.20110215_203600_TAI.Br.fits\n",
      "Downloading file 2782 of 3600...\n",
      "    record: hmi.sharp_cea_720s[377][2011.02.15_20:36:00_TAI]\n",
      "  filename: hmi.sharp_cea_720s.377.20110215_203600_TAI.Bp_err.fits\n",
      "  -> AR_377_series/hmi.sharp_cea_720s.377.20110215_203600_TAI.Bp_err.fits\n",
      "Downloading file 2783 of 3600...\n",
      "    record: hmi.sharp_cea_720s[377][2011.02.15_20:36:00_TAI]\n",
      "  filename: hmi.sharp_cea_720s.377.20110215_203600_TAI.Bt_err.fits\n",
      "  -> AR_377_series/hmi.sharp_cea_720s.377.20110215_203600_TAI.Bt_err.fits\n",
      "Downloading file 2784 of 3600...\n",
      "    record: hmi.sharp_cea_720s[377][2011.02.15_20:36:00_TAI]\n",
      "  filename: hmi.sharp_cea_720s.377.20110215_203600_TAI.Br_err.fits\n",
      "  -> AR_377_series/hmi.sharp_cea_720s.377.20110215_203600_TAI.Br_err.fits\n",
      "Downloading file 2785 of 3600...\n",
      "    record: hmi.sharp_cea_720s[377][2011.02.15_20:48:00_TAI]\n",
      "  filename: hmi.sharp_cea_720s.377.20110215_204800_TAI.Bp.fits\n",
      "  -> AR_377_series/hmi.sharp_cea_720s.377.20110215_204800_TAI.Bp.fits\n",
      "Downloading file 2786 of 3600...\n",
      "    record: hmi.sharp_cea_720s[377][2011.02.15_20:48:00_TAI]\n",
      "  filename: hmi.sharp_cea_720s.377.20110215_204800_TAI.Bt.fits\n",
      "  -> AR_377_series/hmi.sharp_cea_720s.377.20110215_204800_TAI.Bt.fits\n",
      "Downloading file 2787 of 3600...\n",
      "    record: hmi.sharp_cea_720s[377][2011.02.15_20:48:00_TAI]\n",
      "  filename: hmi.sharp_cea_720s.377.20110215_204800_TAI.Br.fits\n",
      "  -> AR_377_series/hmi.sharp_cea_720s.377.20110215_204800_TAI.Br.fits\n",
      "Downloading file 2788 of 3600...\n",
      "    record: hmi.sharp_cea_720s[377][2011.02.15_20:48:00_TAI]\n",
      "  filename: hmi.sharp_cea_720s.377.20110215_204800_TAI.Bp_err.fits\n",
      "  -> AR_377_series/hmi.sharp_cea_720s.377.20110215_204800_TAI.Bp_err.fits\n",
      "Downloading file 2789 of 3600...\n",
      "    record: hmi.sharp_cea_720s[377][2011.02.15_20:48:00_TAI]\n",
      "  filename: hmi.sharp_cea_720s.377.20110215_204800_TAI.Bt_err.fits\n",
      "  -> AR_377_series/hmi.sharp_cea_720s.377.20110215_204800_TAI.Bt_err.fits\n",
      "Downloading file 2790 of 3600...\n",
      "    record: hmi.sharp_cea_720s[377][2011.02.15_20:48:00_TAI]\n",
      "  filename: hmi.sharp_cea_720s.377.20110215_204800_TAI.Br_err.fits\n",
      "  -> AR_377_series/hmi.sharp_cea_720s.377.20110215_204800_TAI.Br_err.fits\n",
      "Downloading file 2791 of 3600...\n",
      "    record: hmi.sharp_cea_720s[377][2011.02.15_21:00:00_TAI]\n",
      "  filename: hmi.sharp_cea_720s.377.20110215_210000_TAI.Bp.fits\n",
      "  -> AR_377_series/hmi.sharp_cea_720s.377.20110215_210000_TAI.Bp.fits\n",
      "Downloading file 2792 of 3600...\n",
      "    record: hmi.sharp_cea_720s[377][2011.02.15_21:00:00_TAI]\n",
      "  filename: hmi.sharp_cea_720s.377.20110215_210000_TAI.Bt.fits\n",
      "  -> AR_377_series/hmi.sharp_cea_720s.377.20110215_210000_TAI.Bt.fits\n",
      "Downloading file 2793 of 3600...\n",
      "    record: hmi.sharp_cea_720s[377][2011.02.15_21:00:00_TAI]\n",
      "  filename: hmi.sharp_cea_720s.377.20110215_210000_TAI.Br.fits\n",
      "  -> AR_377_series/hmi.sharp_cea_720s.377.20110215_210000_TAI.Br.fits\n",
      "Downloading file 2794 of 3600...\n",
      "    record: hmi.sharp_cea_720s[377][2011.02.15_21:00:00_TAI]\n",
      "  filename: hmi.sharp_cea_720s.377.20110215_210000_TAI.Bp_err.fits\n",
      "  -> AR_377_series/hmi.sharp_cea_720s.377.20110215_210000_TAI.Bp_err.fits\n",
      "Downloading file 2795 of 3600...\n",
      "    record: hmi.sharp_cea_720s[377][2011.02.15_21:00:00_TAI]\n",
      "  filename: hmi.sharp_cea_720s.377.20110215_210000_TAI.Bt_err.fits\n",
      "  -> AR_377_series/hmi.sharp_cea_720s.377.20110215_210000_TAI.Bt_err.fits\n",
      "Downloading file 2796 of 3600...\n",
      "    record: hmi.sharp_cea_720s[377][2011.02.15_21:00:00_TAI]\n",
      "  filename: hmi.sharp_cea_720s.377.20110215_210000_TAI.Br_err.fits\n",
      "  -> AR_377_series/hmi.sharp_cea_720s.377.20110215_210000_TAI.Br_err.fits\n",
      "Downloading file 2797 of 3600...\n",
      "    record: hmi.sharp_cea_720s[377][2011.02.15_21:12:00_TAI]\n",
      "  filename: hmi.sharp_cea_720s.377.20110215_211200_TAI.Bp.fits\n",
      "  -> AR_377_series/hmi.sharp_cea_720s.377.20110215_211200_TAI.Bp.fits\n",
      "Downloading file 2798 of 3600...\n",
      "    record: hmi.sharp_cea_720s[377][2011.02.15_21:12:00_TAI]\n",
      "  filename: hmi.sharp_cea_720s.377.20110215_211200_TAI.Bt.fits\n",
      "  -> AR_377_series/hmi.sharp_cea_720s.377.20110215_211200_TAI.Bt.fits\n",
      "Downloading file 2799 of 3600...\n",
      "    record: hmi.sharp_cea_720s[377][2011.02.15_21:12:00_TAI]\n",
      "  filename: hmi.sharp_cea_720s.377.20110215_211200_TAI.Br.fits\n",
      "  -> AR_377_series/hmi.sharp_cea_720s.377.20110215_211200_TAI.Br.fits\n",
      "Downloading file 2800 of 3600...\n",
      "    record: hmi.sharp_cea_720s[377][2011.02.15_21:12:00_TAI]\n",
      "  filename: hmi.sharp_cea_720s.377.20110215_211200_TAI.Bp_err.fits\n",
      "  -> AR_377_series/hmi.sharp_cea_720s.377.20110215_211200_TAI.Bp_err.fits\n",
      "Downloading file 2801 of 3600...\n",
      "    record: hmi.sharp_cea_720s[377][2011.02.15_21:12:00_TAI]\n",
      "  filename: hmi.sharp_cea_720s.377.20110215_211200_TAI.Bt_err.fits\n",
      "  -> AR_377_series/hmi.sharp_cea_720s.377.20110215_211200_TAI.Bt_err.fits\n",
      "Downloading file 2802 of 3600...\n",
      "    record: hmi.sharp_cea_720s[377][2011.02.15_21:12:00_TAI]\n",
      "  filename: hmi.sharp_cea_720s.377.20110215_211200_TAI.Br_err.fits\n",
      "  -> AR_377_series/hmi.sharp_cea_720s.377.20110215_211200_TAI.Br_err.fits\n",
      "Downloading file 2803 of 3600...\n",
      "    record: hmi.sharp_cea_720s[377][2011.02.15_21:24:00_TAI]\n",
      "  filename: hmi.sharp_cea_720s.377.20110215_212400_TAI.Bp.fits\n",
      "  -> AR_377_series/hmi.sharp_cea_720s.377.20110215_212400_TAI.Bp.fits\n",
      "Downloading file 2804 of 3600...\n",
      "    record: hmi.sharp_cea_720s[377][2011.02.15_21:24:00_TAI]\n",
      "  filename: hmi.sharp_cea_720s.377.20110215_212400_TAI.Bt.fits\n",
      "  -> AR_377_series/hmi.sharp_cea_720s.377.20110215_212400_TAI.Bt.fits\n",
      "Downloading file 2805 of 3600...\n",
      "    record: hmi.sharp_cea_720s[377][2011.02.15_21:24:00_TAI]\n",
      "  filename: hmi.sharp_cea_720s.377.20110215_212400_TAI.Br.fits\n",
      "  -> AR_377_series/hmi.sharp_cea_720s.377.20110215_212400_TAI.Br.fits\n",
      "Downloading file 2806 of 3600...\n",
      "    record: hmi.sharp_cea_720s[377][2011.02.15_21:24:00_TAI]\n",
      "  filename: hmi.sharp_cea_720s.377.20110215_212400_TAI.Bp_err.fits\n",
      "  -> AR_377_series/hmi.sharp_cea_720s.377.20110215_212400_TAI.Bp_err.fits\n",
      "Downloading file 2807 of 3600...\n",
      "    record: hmi.sharp_cea_720s[377][2011.02.15_21:24:00_TAI]\n",
      "  filename: hmi.sharp_cea_720s.377.20110215_212400_TAI.Bt_err.fits\n",
      "  -> AR_377_series/hmi.sharp_cea_720s.377.20110215_212400_TAI.Bt_err.fits\n",
      "Downloading file 2808 of 3600...\n",
      "    record: hmi.sharp_cea_720s[377][2011.02.15_21:24:00_TAI]\n",
      "  filename: hmi.sharp_cea_720s.377.20110215_212400_TAI.Br_err.fits\n",
      "  -> AR_377_series/hmi.sharp_cea_720s.377.20110215_212400_TAI.Br_err.fits\n",
      "Downloading file 2809 of 3600...\n",
      "    record: hmi.sharp_cea_720s[377][2011.02.15_21:36:00_TAI]\n",
      "  filename: hmi.sharp_cea_720s.377.20110215_213600_TAI.Bp.fits\n",
      "  -> AR_377_series/hmi.sharp_cea_720s.377.20110215_213600_TAI.Bp.fits\n",
      "Downloading file 2810 of 3600...\n",
      "    record: hmi.sharp_cea_720s[377][2011.02.15_21:36:00_TAI]\n",
      "  filename: hmi.sharp_cea_720s.377.20110215_213600_TAI.Bt.fits\n",
      "  -> AR_377_series/hmi.sharp_cea_720s.377.20110215_213600_TAI.Bt.fits\n",
      "Downloading file 2811 of 3600...\n",
      "    record: hmi.sharp_cea_720s[377][2011.02.15_21:36:00_TAI]\n",
      "  filename: hmi.sharp_cea_720s.377.20110215_213600_TAI.Br.fits\n",
      "  -> AR_377_series/hmi.sharp_cea_720s.377.20110215_213600_TAI.Br.fits\n",
      "Downloading file 2812 of 3600...\n",
      "    record: hmi.sharp_cea_720s[377][2011.02.15_21:36:00_TAI]\n",
      "  filename: hmi.sharp_cea_720s.377.20110215_213600_TAI.Bp_err.fits\n",
      "  -> AR_377_series/hmi.sharp_cea_720s.377.20110215_213600_TAI.Bp_err.fits\n",
      "Downloading file 2813 of 3600...\n",
      "    record: hmi.sharp_cea_720s[377][2011.02.15_21:36:00_TAI]\n",
      "  filename: hmi.sharp_cea_720s.377.20110215_213600_TAI.Bt_err.fits\n",
      "  -> AR_377_series/hmi.sharp_cea_720s.377.20110215_213600_TAI.Bt_err.fits\n",
      "Downloading file 2814 of 3600...\n",
      "    record: hmi.sharp_cea_720s[377][2011.02.15_21:36:00_TAI]\n",
      "  filename: hmi.sharp_cea_720s.377.20110215_213600_TAI.Br_err.fits\n",
      "  -> AR_377_series/hmi.sharp_cea_720s.377.20110215_213600_TAI.Br_err.fits\n",
      "Downloading file 2815 of 3600...\n",
      "    record: hmi.sharp_cea_720s[377][2011.02.15_21:48:00_TAI]\n",
      "  filename: hmi.sharp_cea_720s.377.20110215_214800_TAI.Bp.fits\n",
      "  -> AR_377_series/hmi.sharp_cea_720s.377.20110215_214800_TAI.Bp.fits\n",
      "Downloading file 2816 of 3600...\n",
      "    record: hmi.sharp_cea_720s[377][2011.02.15_21:48:00_TAI]\n",
      "  filename: hmi.sharp_cea_720s.377.20110215_214800_TAI.Bt.fits\n",
      "  -> AR_377_series/hmi.sharp_cea_720s.377.20110215_214800_TAI.Bt.fits\n",
      "Downloading file 2817 of 3600...\n",
      "    record: hmi.sharp_cea_720s[377][2011.02.15_21:48:00_TAI]\n",
      "  filename: hmi.sharp_cea_720s.377.20110215_214800_TAI.Br.fits\n",
      "  -> AR_377_series/hmi.sharp_cea_720s.377.20110215_214800_TAI.Br.fits\n",
      "Downloading file 2818 of 3600...\n",
      "    record: hmi.sharp_cea_720s[377][2011.02.15_21:48:00_TAI]\n",
      "  filename: hmi.sharp_cea_720s.377.20110215_214800_TAI.Bp_err.fits\n",
      "  -> AR_377_series/hmi.sharp_cea_720s.377.20110215_214800_TAI.Bp_err.fits\n",
      "Downloading file 2819 of 3600...\n",
      "    record: hmi.sharp_cea_720s[377][2011.02.15_21:48:00_TAI]\n",
      "  filename: hmi.sharp_cea_720s.377.20110215_214800_TAI.Bt_err.fits\n",
      "  -> AR_377_series/hmi.sharp_cea_720s.377.20110215_214800_TAI.Bt_err.fits\n",
      "Downloading file 2820 of 3600...\n",
      "    record: hmi.sharp_cea_720s[377][2011.02.15_21:48:00_TAI]\n",
      "  filename: hmi.sharp_cea_720s.377.20110215_214800_TAI.Br_err.fits\n",
      "  -> AR_377_series/hmi.sharp_cea_720s.377.20110215_214800_TAI.Br_err.fits\n",
      "Downloading file 2821 of 3600...\n",
      "    record: hmi.sharp_cea_720s[377][2011.02.15_22:00:00_TAI]\n",
      "  filename: hmi.sharp_cea_720s.377.20110215_220000_TAI.Bp.fits\n",
      "  -> AR_377_series/hmi.sharp_cea_720s.377.20110215_220000_TAI.Bp.fits\n",
      "Downloading file 2822 of 3600...\n",
      "    record: hmi.sharp_cea_720s[377][2011.02.15_22:00:00_TAI]\n",
      "  filename: hmi.sharp_cea_720s.377.20110215_220000_TAI.Bt.fits\n",
      "  -> AR_377_series/hmi.sharp_cea_720s.377.20110215_220000_TAI.Bt.fits\n",
      "Downloading file 2823 of 3600...\n",
      "    record: hmi.sharp_cea_720s[377][2011.02.15_22:00:00_TAI]\n",
      "  filename: hmi.sharp_cea_720s.377.20110215_220000_TAI.Br.fits\n",
      "  -> AR_377_series/hmi.sharp_cea_720s.377.20110215_220000_TAI.Br.fits\n",
      "Downloading file 2824 of 3600...\n",
      "    record: hmi.sharp_cea_720s[377][2011.02.15_22:00:00_TAI]\n",
      "  filename: hmi.sharp_cea_720s.377.20110215_220000_TAI.Bp_err.fits\n",
      "  -> AR_377_series/hmi.sharp_cea_720s.377.20110215_220000_TAI.Bp_err.fits\n",
      "Downloading file 2825 of 3600...\n",
      "    record: hmi.sharp_cea_720s[377][2011.02.15_22:00:00_TAI]\n",
      "  filename: hmi.sharp_cea_720s.377.20110215_220000_TAI.Bt_err.fits\n",
      "  -> AR_377_series/hmi.sharp_cea_720s.377.20110215_220000_TAI.Bt_err.fits\n",
      "Downloading file 2826 of 3600...\n",
      "    record: hmi.sharp_cea_720s[377][2011.02.15_22:00:00_TAI]\n",
      "  filename: hmi.sharp_cea_720s.377.20110215_220000_TAI.Br_err.fits\n",
      "  -> AR_377_series/hmi.sharp_cea_720s.377.20110215_220000_TAI.Br_err.fits\n",
      "Downloading file 2827 of 3600...\n",
      "    record: hmi.sharp_cea_720s[377][2011.02.15_22:12:00_TAI]\n",
      "  filename: hmi.sharp_cea_720s.377.20110215_221200_TAI.Bp.fits\n",
      "  -> AR_377_series/hmi.sharp_cea_720s.377.20110215_221200_TAI.Bp.fits\n",
      "Downloading file 2828 of 3600...\n",
      "    record: hmi.sharp_cea_720s[377][2011.02.15_22:12:00_TAI]\n",
      "  filename: hmi.sharp_cea_720s.377.20110215_221200_TAI.Bt.fits\n",
      "  -> AR_377_series/hmi.sharp_cea_720s.377.20110215_221200_TAI.Bt.fits\n",
      "Downloading file 2829 of 3600...\n",
      "    record: hmi.sharp_cea_720s[377][2011.02.15_22:12:00_TAI]\n",
      "  filename: hmi.sharp_cea_720s.377.20110215_221200_TAI.Br.fits\n",
      "  -> AR_377_series/hmi.sharp_cea_720s.377.20110215_221200_TAI.Br.fits\n",
      "Downloading file 2830 of 3600...\n",
      "    record: hmi.sharp_cea_720s[377][2011.02.15_22:12:00_TAI]\n",
      "  filename: hmi.sharp_cea_720s.377.20110215_221200_TAI.Bp_err.fits\n",
      "  -> AR_377_series/hmi.sharp_cea_720s.377.20110215_221200_TAI.Bp_err.fits\n",
      "Downloading file 2831 of 3600...\n",
      "    record: hmi.sharp_cea_720s[377][2011.02.15_22:12:00_TAI]\n",
      "  filename: hmi.sharp_cea_720s.377.20110215_221200_TAI.Bt_err.fits\n",
      "  -> AR_377_series/hmi.sharp_cea_720s.377.20110215_221200_TAI.Bt_err.fits\n",
      "Downloading file 2832 of 3600...\n",
      "    record: hmi.sharp_cea_720s[377][2011.02.15_22:12:00_TAI]\n",
      "  filename: hmi.sharp_cea_720s.377.20110215_221200_TAI.Br_err.fits\n",
      "  -> AR_377_series/hmi.sharp_cea_720s.377.20110215_221200_TAI.Br_err.fits\n",
      "Downloading file 2833 of 3600...\n",
      "    record: hmi.sharp_cea_720s[377][2011.02.15_22:24:00_TAI]\n",
      "  filename: hmi.sharp_cea_720s.377.20110215_222400_TAI.Bp.fits\n",
      "  -> AR_377_series/hmi.sharp_cea_720s.377.20110215_222400_TAI.Bp.fits\n",
      "Downloading file 2834 of 3600...\n",
      "    record: hmi.sharp_cea_720s[377][2011.02.15_22:24:00_TAI]\n",
      "  filename: hmi.sharp_cea_720s.377.20110215_222400_TAI.Bt.fits\n",
      "  -> AR_377_series/hmi.sharp_cea_720s.377.20110215_222400_TAI.Bt.fits\n",
      "Downloading file 2835 of 3600...\n",
      "    record: hmi.sharp_cea_720s[377][2011.02.15_22:24:00_TAI]\n",
      "  filename: hmi.sharp_cea_720s.377.20110215_222400_TAI.Br.fits\n",
      "  -> AR_377_series/hmi.sharp_cea_720s.377.20110215_222400_TAI.Br.fits\n",
      "Downloading file 2836 of 3600...\n",
      "    record: hmi.sharp_cea_720s[377][2011.02.15_22:24:00_TAI]\n",
      "  filename: hmi.sharp_cea_720s.377.20110215_222400_TAI.Bp_err.fits\n",
      "  -> AR_377_series/hmi.sharp_cea_720s.377.20110215_222400_TAI.Bp_err.fits\n",
      "Downloading file 2837 of 3600...\n",
      "    record: hmi.sharp_cea_720s[377][2011.02.15_22:24:00_TAI]\n",
      "  filename: hmi.sharp_cea_720s.377.20110215_222400_TAI.Bt_err.fits\n",
      "  -> AR_377_series/hmi.sharp_cea_720s.377.20110215_222400_TAI.Bt_err.fits\n",
      "Downloading file 2838 of 3600...\n",
      "    record: hmi.sharp_cea_720s[377][2011.02.15_22:24:00_TAI]\n",
      "  filename: hmi.sharp_cea_720s.377.20110215_222400_TAI.Br_err.fits\n",
      "  -> AR_377_series/hmi.sharp_cea_720s.377.20110215_222400_TAI.Br_err.fits\n",
      "Downloading file 2839 of 3600...\n",
      "    record: hmi.sharp_cea_720s[377][2011.02.15_22:36:00_TAI]\n",
      "  filename: hmi.sharp_cea_720s.377.20110215_223600_TAI.Bp.fits\n",
      "  -> AR_377_series/hmi.sharp_cea_720s.377.20110215_223600_TAI.Bp.fits\n",
      "Downloading file 2840 of 3600...\n",
      "    record: hmi.sharp_cea_720s[377][2011.02.15_22:36:00_TAI]\n",
      "  filename: hmi.sharp_cea_720s.377.20110215_223600_TAI.Bt.fits\n",
      "  -> AR_377_series/hmi.sharp_cea_720s.377.20110215_223600_TAI.Bt.fits\n",
      "Downloading file 2841 of 3600...\n",
      "    record: hmi.sharp_cea_720s[377][2011.02.15_22:36:00_TAI]\n",
      "  filename: hmi.sharp_cea_720s.377.20110215_223600_TAI.Br.fits\n",
      "  -> AR_377_series/hmi.sharp_cea_720s.377.20110215_223600_TAI.Br.fits\n",
      "Downloading file 2842 of 3600...\n",
      "    record: hmi.sharp_cea_720s[377][2011.02.15_22:36:00_TAI]\n",
      "  filename: hmi.sharp_cea_720s.377.20110215_223600_TAI.Bp_err.fits\n",
      "  -> AR_377_series/hmi.sharp_cea_720s.377.20110215_223600_TAI.Bp_err.fits\n",
      "Downloading file 2843 of 3600...\n",
      "    record: hmi.sharp_cea_720s[377][2011.02.15_22:36:00_TAI]\n",
      "  filename: hmi.sharp_cea_720s.377.20110215_223600_TAI.Bt_err.fits\n",
      "  -> AR_377_series/hmi.sharp_cea_720s.377.20110215_223600_TAI.Bt_err.fits\n",
      "Downloading file 2844 of 3600...\n",
      "    record: hmi.sharp_cea_720s[377][2011.02.15_22:36:00_TAI]\n",
      "  filename: hmi.sharp_cea_720s.377.20110215_223600_TAI.Br_err.fits\n",
      "  -> AR_377_series/hmi.sharp_cea_720s.377.20110215_223600_TAI.Br_err.fits\n",
      "Downloading file 2845 of 3600...\n",
      "    record: hmi.sharp_cea_720s[377][2011.02.15_22:48:00_TAI]\n",
      "  filename: hmi.sharp_cea_720s.377.20110215_224800_TAI.Bp.fits\n",
      "  -> AR_377_series/hmi.sharp_cea_720s.377.20110215_224800_TAI.Bp.fits\n",
      "Downloading file 2846 of 3600...\n",
      "    record: hmi.sharp_cea_720s[377][2011.02.15_22:48:00_TAI]\n",
      "  filename: hmi.sharp_cea_720s.377.20110215_224800_TAI.Bt.fits\n",
      "  -> AR_377_series/hmi.sharp_cea_720s.377.20110215_224800_TAI.Bt.fits\n",
      "Downloading file 2847 of 3600...\n",
      "    record: hmi.sharp_cea_720s[377][2011.02.15_22:48:00_TAI]\n",
      "  filename: hmi.sharp_cea_720s.377.20110215_224800_TAI.Br.fits\n",
      "  -> AR_377_series/hmi.sharp_cea_720s.377.20110215_224800_TAI.Br.fits\n",
      "Downloading file 2848 of 3600...\n",
      "    record: hmi.sharp_cea_720s[377][2011.02.15_22:48:00_TAI]\n",
      "  filename: hmi.sharp_cea_720s.377.20110215_224800_TAI.Bp_err.fits\n",
      "  -> AR_377_series/hmi.sharp_cea_720s.377.20110215_224800_TAI.Bp_err.fits\n",
      "Downloading file 2849 of 3600...\n",
      "    record: hmi.sharp_cea_720s[377][2011.02.15_22:48:00_TAI]\n",
      "  filename: hmi.sharp_cea_720s.377.20110215_224800_TAI.Bt_err.fits\n",
      "  -> AR_377_series/hmi.sharp_cea_720s.377.20110215_224800_TAI.Bt_err.fits\n",
      "Downloading file 2850 of 3600...\n",
      "    record: hmi.sharp_cea_720s[377][2011.02.15_22:48:00_TAI]\n",
      "  filename: hmi.sharp_cea_720s.377.20110215_224800_TAI.Br_err.fits\n",
      "  -> AR_377_series/hmi.sharp_cea_720s.377.20110215_224800_TAI.Br_err.fits\n",
      "Downloading file 2851 of 3600...\n",
      "    record: hmi.sharp_cea_720s[377][2011.02.15_23:00:00_TAI]\n",
      "  filename: hmi.sharp_cea_720s.377.20110215_230000_TAI.Bp.fits\n",
      "  -> AR_377_series/hmi.sharp_cea_720s.377.20110215_230000_TAI.Bp.fits\n",
      "Downloading file 2852 of 3600...\n",
      "    record: hmi.sharp_cea_720s[377][2011.02.15_23:00:00_TAI]\n",
      "  filename: hmi.sharp_cea_720s.377.20110215_230000_TAI.Bt.fits\n",
      "  -> AR_377_series/hmi.sharp_cea_720s.377.20110215_230000_TAI.Bt.fits\n",
      "Downloading file 2853 of 3600...\n",
      "    record: hmi.sharp_cea_720s[377][2011.02.15_23:00:00_TAI]\n",
      "  filename: hmi.sharp_cea_720s.377.20110215_230000_TAI.Br.fits\n",
      "  -> AR_377_series/hmi.sharp_cea_720s.377.20110215_230000_TAI.Br.fits\n",
      "Downloading file 2854 of 3600...\n",
      "    record: hmi.sharp_cea_720s[377][2011.02.15_23:00:00_TAI]\n",
      "  filename: hmi.sharp_cea_720s.377.20110215_230000_TAI.Bp_err.fits\n",
      "  -> AR_377_series/hmi.sharp_cea_720s.377.20110215_230000_TAI.Bp_err.fits\n",
      "Downloading file 2855 of 3600...\n",
      "    record: hmi.sharp_cea_720s[377][2011.02.15_23:00:00_TAI]\n",
      "  filename: hmi.sharp_cea_720s.377.20110215_230000_TAI.Bt_err.fits\n",
      "  -> AR_377_series/hmi.sharp_cea_720s.377.20110215_230000_TAI.Bt_err.fits\n",
      "Downloading file 2856 of 3600...\n",
      "    record: hmi.sharp_cea_720s[377][2011.02.15_23:00:00_TAI]\n",
      "  filename: hmi.sharp_cea_720s.377.20110215_230000_TAI.Br_err.fits\n",
      "  -> AR_377_series/hmi.sharp_cea_720s.377.20110215_230000_TAI.Br_err.fits\n",
      "Downloading file 2857 of 3600...\n",
      "    record: hmi.sharp_cea_720s[377][2011.02.15_23:12:00_TAI]\n",
      "  filename: hmi.sharp_cea_720s.377.20110215_231200_TAI.Bp.fits\n",
      "  -> AR_377_series/hmi.sharp_cea_720s.377.20110215_231200_TAI.Bp.fits\n",
      "Downloading file 2858 of 3600...\n",
      "    record: hmi.sharp_cea_720s[377][2011.02.15_23:12:00_TAI]\n",
      "  filename: hmi.sharp_cea_720s.377.20110215_231200_TAI.Bt.fits\n",
      "  -> AR_377_series/hmi.sharp_cea_720s.377.20110215_231200_TAI.Bt.fits\n",
      "Downloading file 2859 of 3600...\n",
      "    record: hmi.sharp_cea_720s[377][2011.02.15_23:12:00_TAI]\n",
      "  filename: hmi.sharp_cea_720s.377.20110215_231200_TAI.Br.fits\n",
      "  -> AR_377_series/hmi.sharp_cea_720s.377.20110215_231200_TAI.Br.fits\n",
      "Downloading file 2860 of 3600...\n",
      "    record: hmi.sharp_cea_720s[377][2011.02.15_23:12:00_TAI]\n",
      "  filename: hmi.sharp_cea_720s.377.20110215_231200_TAI.Bp_err.fits\n",
      "  -> AR_377_series/hmi.sharp_cea_720s.377.20110215_231200_TAI.Bp_err.fits\n",
      "Downloading file 2861 of 3600...\n",
      "    record: hmi.sharp_cea_720s[377][2011.02.15_23:12:00_TAI]\n",
      "  filename: hmi.sharp_cea_720s.377.20110215_231200_TAI.Bt_err.fits\n",
      "  -> AR_377_series/hmi.sharp_cea_720s.377.20110215_231200_TAI.Bt_err.fits\n",
      "Downloading file 2862 of 3600...\n",
      "    record: hmi.sharp_cea_720s[377][2011.02.15_23:12:00_TAI]\n",
      "  filename: hmi.sharp_cea_720s.377.20110215_231200_TAI.Br_err.fits\n",
      "  -> AR_377_series/hmi.sharp_cea_720s.377.20110215_231200_TAI.Br_err.fits\n",
      "Downloading file 2863 of 3600...\n",
      "    record: hmi.sharp_cea_720s[377][2011.02.15_23:24:00_TAI]\n",
      "  filename: hmi.sharp_cea_720s.377.20110215_232400_TAI.Bp.fits\n",
      "  -> AR_377_series/hmi.sharp_cea_720s.377.20110215_232400_TAI.Bp.fits\n",
      "Downloading file 2864 of 3600...\n",
      "    record: hmi.sharp_cea_720s[377][2011.02.15_23:24:00_TAI]\n",
      "  filename: hmi.sharp_cea_720s.377.20110215_232400_TAI.Bt.fits\n",
      "  -> AR_377_series/hmi.sharp_cea_720s.377.20110215_232400_TAI.Bt.fits\n",
      "Downloading file 2865 of 3600...\n",
      "    record: hmi.sharp_cea_720s[377][2011.02.15_23:24:00_TAI]\n",
      "  filename: hmi.sharp_cea_720s.377.20110215_232400_TAI.Br.fits\n",
      "  -> AR_377_series/hmi.sharp_cea_720s.377.20110215_232400_TAI.Br.fits\n",
      "Downloading file 2866 of 3600...\n",
      "    record: hmi.sharp_cea_720s[377][2011.02.15_23:24:00_TAI]\n",
      "  filename: hmi.sharp_cea_720s.377.20110215_232400_TAI.Bp_err.fits\n",
      "  -> AR_377_series/hmi.sharp_cea_720s.377.20110215_232400_TAI.Bp_err.fits\n",
      "Downloading file 2867 of 3600...\n",
      "    record: hmi.sharp_cea_720s[377][2011.02.15_23:24:00_TAI]\n",
      "  filename: hmi.sharp_cea_720s.377.20110215_232400_TAI.Bt_err.fits\n",
      "  -> AR_377_series/hmi.sharp_cea_720s.377.20110215_232400_TAI.Bt_err.fits\n",
      "Downloading file 2868 of 3600...\n",
      "    record: hmi.sharp_cea_720s[377][2011.02.15_23:24:00_TAI]\n",
      "  filename: hmi.sharp_cea_720s.377.20110215_232400_TAI.Br_err.fits\n",
      "  -> AR_377_series/hmi.sharp_cea_720s.377.20110215_232400_TAI.Br_err.fits\n",
      "Downloading file 2869 of 3600...\n",
      "    record: hmi.sharp_cea_720s[377][2011.02.15_23:36:00_TAI]\n",
      "  filename: hmi.sharp_cea_720s.377.20110215_233600_TAI.Bp.fits\n",
      "  -> AR_377_series/hmi.sharp_cea_720s.377.20110215_233600_TAI.Bp.fits\n",
      "Downloading file 2870 of 3600...\n",
      "    record: hmi.sharp_cea_720s[377][2011.02.15_23:36:00_TAI]\n",
      "  filename: hmi.sharp_cea_720s.377.20110215_233600_TAI.Bt.fits\n",
      "  -> AR_377_series/hmi.sharp_cea_720s.377.20110215_233600_TAI.Bt.fits\n",
      "Downloading file 2871 of 3600...\n",
      "    record: hmi.sharp_cea_720s[377][2011.02.15_23:36:00_TAI]\n",
      "  filename: hmi.sharp_cea_720s.377.20110215_233600_TAI.Br.fits\n",
      "  -> AR_377_series/hmi.sharp_cea_720s.377.20110215_233600_TAI.Br.fits\n",
      "Downloading file 2872 of 3600...\n",
      "    record: hmi.sharp_cea_720s[377][2011.02.15_23:36:00_TAI]\n",
      "  filename: hmi.sharp_cea_720s.377.20110215_233600_TAI.Bp_err.fits\n",
      "  -> AR_377_series/hmi.sharp_cea_720s.377.20110215_233600_TAI.Bp_err.fits\n",
      "Downloading file 2873 of 3600...\n",
      "    record: hmi.sharp_cea_720s[377][2011.02.15_23:36:00_TAI]\n",
      "  filename: hmi.sharp_cea_720s.377.20110215_233600_TAI.Bt_err.fits\n",
      "  -> AR_377_series/hmi.sharp_cea_720s.377.20110215_233600_TAI.Bt_err.fits\n",
      "Downloading file 2874 of 3600...\n",
      "    record: hmi.sharp_cea_720s[377][2011.02.15_23:36:00_TAI]\n",
      "  filename: hmi.sharp_cea_720s.377.20110215_233600_TAI.Br_err.fits\n",
      "  -> AR_377_series/hmi.sharp_cea_720s.377.20110215_233600_TAI.Br_err.fits\n",
      "Downloading file 2875 of 3600...\n",
      "    record: hmi.sharp_cea_720s[377][2011.02.15_23:48:00_TAI]\n",
      "  filename: hmi.sharp_cea_720s.377.20110215_234800_TAI.Bp.fits\n",
      "  -> AR_377_series/hmi.sharp_cea_720s.377.20110215_234800_TAI.Bp.fits\n",
      "Downloading file 2876 of 3600...\n",
      "    record: hmi.sharp_cea_720s[377][2011.02.15_23:48:00_TAI]\n",
      "  filename: hmi.sharp_cea_720s.377.20110215_234800_TAI.Bt.fits\n",
      "  -> AR_377_series/hmi.sharp_cea_720s.377.20110215_234800_TAI.Bt.fits\n",
      "Downloading file 2877 of 3600...\n",
      "    record: hmi.sharp_cea_720s[377][2011.02.15_23:48:00_TAI]\n",
      "  filename: hmi.sharp_cea_720s.377.20110215_234800_TAI.Br.fits\n",
      "  -> AR_377_series/hmi.sharp_cea_720s.377.20110215_234800_TAI.Br.fits\n",
      "Downloading file 2878 of 3600...\n",
      "    record: hmi.sharp_cea_720s[377][2011.02.15_23:48:00_TAI]\n",
      "  filename: hmi.sharp_cea_720s.377.20110215_234800_TAI.Bp_err.fits\n",
      "  -> AR_377_series/hmi.sharp_cea_720s.377.20110215_234800_TAI.Bp_err.fits\n",
      "Downloading file 2879 of 3600...\n",
      "    record: hmi.sharp_cea_720s[377][2011.02.15_23:48:00_TAI]\n",
      "  filename: hmi.sharp_cea_720s.377.20110215_234800_TAI.Bt_err.fits\n",
      "  -> AR_377_series/hmi.sharp_cea_720s.377.20110215_234800_TAI.Bt_err.fits\n",
      "Downloading file 2880 of 3600...\n",
      "    record: hmi.sharp_cea_720s[377][2011.02.15_23:48:00_TAI]\n",
      "  filename: hmi.sharp_cea_720s.377.20110215_234800_TAI.Br_err.fits\n",
      "  -> AR_377_series/hmi.sharp_cea_720s.377.20110215_234800_TAI.Br_err.fits\n",
      "Downloading file 2881 of 3600...\n",
      "    record: hmi.sharp_cea_720s[377][2011.02.16_00:00:00_TAI]\n",
      "  filename: hmi.sharp_cea_720s.377.20110216_000000_TAI.Bp.fits\n",
      "  -> AR_377_series/hmi.sharp_cea_720s.377.20110216_000000_TAI.Bp.fits\n",
      "Downloading file 2882 of 3600...\n",
      "    record: hmi.sharp_cea_720s[377][2011.02.16_00:00:00_TAI]\n",
      "  filename: hmi.sharp_cea_720s.377.20110216_000000_TAI.Bt.fits\n",
      "  -> AR_377_series/hmi.sharp_cea_720s.377.20110216_000000_TAI.Bt.fits\n",
      "Downloading file 2883 of 3600...\n",
      "    record: hmi.sharp_cea_720s[377][2011.02.16_00:00:00_TAI]\n",
      "  filename: hmi.sharp_cea_720s.377.20110216_000000_TAI.Br.fits\n",
      "  -> AR_377_series/hmi.sharp_cea_720s.377.20110216_000000_TAI.Br.fits\n",
      "Downloading file 2884 of 3600...\n",
      "    record: hmi.sharp_cea_720s[377][2011.02.16_00:00:00_TAI]\n",
      "  filename: hmi.sharp_cea_720s.377.20110216_000000_TAI.Bp_err.fits\n",
      "  -> AR_377_series/hmi.sharp_cea_720s.377.20110216_000000_TAI.Bp_err.fits\n",
      "Downloading file 2885 of 3600...\n",
      "    record: hmi.sharp_cea_720s[377][2011.02.16_00:00:00_TAI]\n",
      "  filename: hmi.sharp_cea_720s.377.20110216_000000_TAI.Bt_err.fits\n",
      "  -> AR_377_series/hmi.sharp_cea_720s.377.20110216_000000_TAI.Bt_err.fits\n",
      "Downloading file 2886 of 3600...\n",
      "    record: hmi.sharp_cea_720s[377][2011.02.16_00:00:00_TAI]\n",
      "  filename: hmi.sharp_cea_720s.377.20110216_000000_TAI.Br_err.fits\n",
      "  -> AR_377_series/hmi.sharp_cea_720s.377.20110216_000000_TAI.Br_err.fits\n",
      "Downloading file 2887 of 3600...\n",
      "    record: hmi.sharp_cea_720s[377][2011.02.16_00:12:00_TAI]\n",
      "  filename: hmi.sharp_cea_720s.377.20110216_001200_TAI.Bp.fits\n",
      "  -> AR_377_series/hmi.sharp_cea_720s.377.20110216_001200_TAI.Bp.fits\n",
      "Downloading file 2888 of 3600...\n",
      "    record: hmi.sharp_cea_720s[377][2011.02.16_00:12:00_TAI]\n",
      "  filename: hmi.sharp_cea_720s.377.20110216_001200_TAI.Bt.fits\n",
      "  -> AR_377_series/hmi.sharp_cea_720s.377.20110216_001200_TAI.Bt.fits\n",
      "Downloading file 2889 of 3600...\n",
      "    record: hmi.sharp_cea_720s[377][2011.02.16_00:12:00_TAI]\n",
      "  filename: hmi.sharp_cea_720s.377.20110216_001200_TAI.Br.fits\n",
      "  -> AR_377_series/hmi.sharp_cea_720s.377.20110216_001200_TAI.Br.fits\n",
      "Downloading file 2890 of 3600...\n",
      "    record: hmi.sharp_cea_720s[377][2011.02.16_00:12:00_TAI]\n",
      "  filename: hmi.sharp_cea_720s.377.20110216_001200_TAI.Bp_err.fits\n",
      "  -> AR_377_series/hmi.sharp_cea_720s.377.20110216_001200_TAI.Bp_err.fits\n",
      "Downloading file 2891 of 3600...\n",
      "    record: hmi.sharp_cea_720s[377][2011.02.16_00:12:00_TAI]\n",
      "  filename: hmi.sharp_cea_720s.377.20110216_001200_TAI.Bt_err.fits\n",
      "  -> AR_377_series/hmi.sharp_cea_720s.377.20110216_001200_TAI.Bt_err.fits\n",
      "Downloading file 2892 of 3600...\n",
      "    record: hmi.sharp_cea_720s[377][2011.02.16_00:12:00_TAI]\n",
      "  filename: hmi.sharp_cea_720s.377.20110216_001200_TAI.Br_err.fits\n",
      "  -> AR_377_series/hmi.sharp_cea_720s.377.20110216_001200_TAI.Br_err.fits\n",
      "Downloading file 2893 of 3600...\n",
      "    record: hmi.sharp_cea_720s[377][2011.02.16_00:24:00_TAI]\n",
      "  filename: hmi.sharp_cea_720s.377.20110216_002400_TAI.Bp.fits\n",
      "  -> AR_377_series/hmi.sharp_cea_720s.377.20110216_002400_TAI.Bp.fits\n",
      "Downloading file 2894 of 3600...\n",
      "    record: hmi.sharp_cea_720s[377][2011.02.16_00:24:00_TAI]\n",
      "  filename: hmi.sharp_cea_720s.377.20110216_002400_TAI.Bt.fits\n",
      "  -> AR_377_series/hmi.sharp_cea_720s.377.20110216_002400_TAI.Bt.fits\n",
      "Downloading file 2895 of 3600...\n",
      "    record: hmi.sharp_cea_720s[377][2011.02.16_00:24:00_TAI]\n",
      "  filename: hmi.sharp_cea_720s.377.20110216_002400_TAI.Br.fits\n",
      "  -> AR_377_series/hmi.sharp_cea_720s.377.20110216_002400_TAI.Br.fits\n",
      "Downloading file 2896 of 3600...\n",
      "    record: hmi.sharp_cea_720s[377][2011.02.16_00:24:00_TAI]\n",
      "  filename: hmi.sharp_cea_720s.377.20110216_002400_TAI.Bp_err.fits\n",
      "  -> AR_377_series/hmi.sharp_cea_720s.377.20110216_002400_TAI.Bp_err.fits\n",
      "Downloading file 2897 of 3600...\n",
      "    record: hmi.sharp_cea_720s[377][2011.02.16_00:24:00_TAI]\n",
      "  filename: hmi.sharp_cea_720s.377.20110216_002400_TAI.Bt_err.fits\n",
      "  -> AR_377_series/hmi.sharp_cea_720s.377.20110216_002400_TAI.Bt_err.fits\n",
      "Downloading file 2898 of 3600...\n",
      "    record: hmi.sharp_cea_720s[377][2011.02.16_00:24:00_TAI]\n",
      "  filename: hmi.sharp_cea_720s.377.20110216_002400_TAI.Br_err.fits\n",
      "  -> AR_377_series/hmi.sharp_cea_720s.377.20110216_002400_TAI.Br_err.fits\n",
      "Downloading file 2899 of 3600...\n",
      "    record: hmi.sharp_cea_720s[377][2011.02.16_00:36:00_TAI]\n",
      "  filename: hmi.sharp_cea_720s.377.20110216_003600_TAI.Bp.fits\n",
      "  -> AR_377_series/hmi.sharp_cea_720s.377.20110216_003600_TAI.Bp.fits\n",
      "Downloading file 2900 of 3600...\n",
      "    record: hmi.sharp_cea_720s[377][2011.02.16_00:36:00_TAI]\n",
      "  filename: hmi.sharp_cea_720s.377.20110216_003600_TAI.Bt.fits\n",
      "  -> AR_377_series/hmi.sharp_cea_720s.377.20110216_003600_TAI.Bt.fits\n",
      "Downloading file 2901 of 3600...\n",
      "    record: hmi.sharp_cea_720s[377][2011.02.16_00:36:00_TAI]\n",
      "  filename: hmi.sharp_cea_720s.377.20110216_003600_TAI.Br.fits\n",
      "  -> AR_377_series/hmi.sharp_cea_720s.377.20110216_003600_TAI.Br.fits\n",
      "Downloading file 2902 of 3600...\n",
      "    record: hmi.sharp_cea_720s[377][2011.02.16_00:36:00_TAI]\n",
      "  filename: hmi.sharp_cea_720s.377.20110216_003600_TAI.Bp_err.fits\n",
      "  -> AR_377_series/hmi.sharp_cea_720s.377.20110216_003600_TAI.Bp_err.fits\n",
      "Downloading file 2903 of 3600...\n",
      "    record: hmi.sharp_cea_720s[377][2011.02.16_00:36:00_TAI]\n",
      "  filename: hmi.sharp_cea_720s.377.20110216_003600_TAI.Bt_err.fits\n",
      "  -> AR_377_series/hmi.sharp_cea_720s.377.20110216_003600_TAI.Bt_err.fits\n",
      "Downloading file 2904 of 3600...\n",
      "    record: hmi.sharp_cea_720s[377][2011.02.16_00:36:00_TAI]\n",
      "  filename: hmi.sharp_cea_720s.377.20110216_003600_TAI.Br_err.fits\n",
      "  -> AR_377_series/hmi.sharp_cea_720s.377.20110216_003600_TAI.Br_err.fits\n",
      "Downloading file 2905 of 3600...\n",
      "    record: hmi.sharp_cea_720s[377][2011.02.16_00:48:00_TAI]\n",
      "  filename: hmi.sharp_cea_720s.377.20110216_004800_TAI.Bp.fits\n",
      "  -> AR_377_series/hmi.sharp_cea_720s.377.20110216_004800_TAI.Bp.fits\n",
      "Downloading file 2906 of 3600...\n",
      "    record: hmi.sharp_cea_720s[377][2011.02.16_00:48:00_TAI]\n",
      "  filename: hmi.sharp_cea_720s.377.20110216_004800_TAI.Bt.fits\n",
      "  -> AR_377_series/hmi.sharp_cea_720s.377.20110216_004800_TAI.Bt.fits\n",
      "Downloading file 2907 of 3600...\n",
      "    record: hmi.sharp_cea_720s[377][2011.02.16_00:48:00_TAI]\n",
      "  filename: hmi.sharp_cea_720s.377.20110216_004800_TAI.Br.fits\n",
      "  -> AR_377_series/hmi.sharp_cea_720s.377.20110216_004800_TAI.Br.fits\n",
      "Downloading file 2908 of 3600...\n",
      "    record: hmi.sharp_cea_720s[377][2011.02.16_00:48:00_TAI]\n",
      "  filename: hmi.sharp_cea_720s.377.20110216_004800_TAI.Bp_err.fits\n",
      "  -> AR_377_series/hmi.sharp_cea_720s.377.20110216_004800_TAI.Bp_err.fits\n",
      "Downloading file 2909 of 3600...\n",
      "    record: hmi.sharp_cea_720s[377][2011.02.16_00:48:00_TAI]\n",
      "  filename: hmi.sharp_cea_720s.377.20110216_004800_TAI.Bt_err.fits\n",
      "  -> AR_377_series/hmi.sharp_cea_720s.377.20110216_004800_TAI.Bt_err.fits\n",
      "Downloading file 2910 of 3600...\n",
      "    record: hmi.sharp_cea_720s[377][2011.02.16_00:48:00_TAI]\n",
      "  filename: hmi.sharp_cea_720s.377.20110216_004800_TAI.Br_err.fits\n",
      "  -> AR_377_series/hmi.sharp_cea_720s.377.20110216_004800_TAI.Br_err.fits\n",
      "Downloading file 2911 of 3600...\n",
      "    record: hmi.sharp_cea_720s[377][2011.02.16_01:00:00_TAI]\n",
      "  filename: hmi.sharp_cea_720s.377.20110216_010000_TAI.Bp.fits\n",
      "  -> AR_377_series/hmi.sharp_cea_720s.377.20110216_010000_TAI.Bp.fits\n",
      "Downloading file 2912 of 3600...\n",
      "    record: hmi.sharp_cea_720s[377][2011.02.16_01:00:00_TAI]\n",
      "  filename: hmi.sharp_cea_720s.377.20110216_010000_TAI.Bt.fits\n",
      "  -> AR_377_series/hmi.sharp_cea_720s.377.20110216_010000_TAI.Bt.fits\n",
      "Downloading file 2913 of 3600...\n",
      "    record: hmi.sharp_cea_720s[377][2011.02.16_01:00:00_TAI]\n",
      "  filename: hmi.sharp_cea_720s.377.20110216_010000_TAI.Br.fits\n",
      "  -> AR_377_series/hmi.sharp_cea_720s.377.20110216_010000_TAI.Br.fits\n",
      "Downloading file 2914 of 3600...\n",
      "    record: hmi.sharp_cea_720s[377][2011.02.16_01:00:00_TAI]\n",
      "  filename: hmi.sharp_cea_720s.377.20110216_010000_TAI.Bp_err.fits\n",
      "  -> AR_377_series/hmi.sharp_cea_720s.377.20110216_010000_TAI.Bp_err.fits\n",
      "Downloading file 2915 of 3600...\n",
      "    record: hmi.sharp_cea_720s[377][2011.02.16_01:00:00_TAI]\n",
      "  filename: hmi.sharp_cea_720s.377.20110216_010000_TAI.Bt_err.fits\n",
      "  -> AR_377_series/hmi.sharp_cea_720s.377.20110216_010000_TAI.Bt_err.fits\n",
      "Downloading file 2916 of 3600...\n",
      "    record: hmi.sharp_cea_720s[377][2011.02.16_01:00:00_TAI]\n",
      "  filename: hmi.sharp_cea_720s.377.20110216_010000_TAI.Br_err.fits\n",
      "  -> AR_377_series/hmi.sharp_cea_720s.377.20110216_010000_TAI.Br_err.fits\n",
      "Downloading file 2917 of 3600...\n",
      "    record: hmi.sharp_cea_720s[377][2011.02.16_01:12:00_TAI]\n",
      "  filename: hmi.sharp_cea_720s.377.20110216_011200_TAI.Bp.fits\n",
      "  -> AR_377_series/hmi.sharp_cea_720s.377.20110216_011200_TAI.Bp.fits\n",
      "Downloading file 2918 of 3600...\n",
      "    record: hmi.sharp_cea_720s[377][2011.02.16_01:12:00_TAI]\n",
      "  filename: hmi.sharp_cea_720s.377.20110216_011200_TAI.Bt.fits\n",
      "  -> AR_377_series/hmi.sharp_cea_720s.377.20110216_011200_TAI.Bt.fits\n",
      "Downloading file 2919 of 3600...\n",
      "    record: hmi.sharp_cea_720s[377][2011.02.16_01:12:00_TAI]\n",
      "  filename: hmi.sharp_cea_720s.377.20110216_011200_TAI.Br.fits\n",
      "  -> AR_377_series/hmi.sharp_cea_720s.377.20110216_011200_TAI.Br.fits\n",
      "Downloading file 2920 of 3600...\n",
      "    record: hmi.sharp_cea_720s[377][2011.02.16_01:12:00_TAI]\n",
      "  filename: hmi.sharp_cea_720s.377.20110216_011200_TAI.Bp_err.fits\n",
      "  -> AR_377_series/hmi.sharp_cea_720s.377.20110216_011200_TAI.Bp_err.fits\n",
      "Downloading file 2921 of 3600...\n",
      "    record: hmi.sharp_cea_720s[377][2011.02.16_01:12:00_TAI]\n",
      "  filename: hmi.sharp_cea_720s.377.20110216_011200_TAI.Bt_err.fits\n",
      "  -> AR_377_series/hmi.sharp_cea_720s.377.20110216_011200_TAI.Bt_err.fits\n",
      "Downloading file 2922 of 3600...\n",
      "    record: hmi.sharp_cea_720s[377][2011.02.16_01:12:00_TAI]\n",
      "  filename: hmi.sharp_cea_720s.377.20110216_011200_TAI.Br_err.fits\n",
      "  -> AR_377_series/hmi.sharp_cea_720s.377.20110216_011200_TAI.Br_err.fits\n",
      "Downloading file 2923 of 3600...\n",
      "    record: hmi.sharp_cea_720s[377][2011.02.16_01:24:00_TAI]\n",
      "  filename: hmi.sharp_cea_720s.377.20110216_012400_TAI.Bp.fits\n",
      "  -> AR_377_series/hmi.sharp_cea_720s.377.20110216_012400_TAI.Bp.fits\n",
      "Downloading file 2924 of 3600...\n",
      "    record: hmi.sharp_cea_720s[377][2011.02.16_01:24:00_TAI]\n",
      "  filename: hmi.sharp_cea_720s.377.20110216_012400_TAI.Bt.fits\n",
      "  -> AR_377_series/hmi.sharp_cea_720s.377.20110216_012400_TAI.Bt.fits\n",
      "Downloading file 2925 of 3600...\n",
      "    record: hmi.sharp_cea_720s[377][2011.02.16_01:24:00_TAI]\n",
      "  filename: hmi.sharp_cea_720s.377.20110216_012400_TAI.Br.fits\n",
      "  -> AR_377_series/hmi.sharp_cea_720s.377.20110216_012400_TAI.Br.fits\n",
      "Downloading file 2926 of 3600...\n",
      "    record: hmi.sharp_cea_720s[377][2011.02.16_01:24:00_TAI]\n",
      "  filename: hmi.sharp_cea_720s.377.20110216_012400_TAI.Bp_err.fits\n",
      "  -> AR_377_series/hmi.sharp_cea_720s.377.20110216_012400_TAI.Bp_err.fits\n",
      "Downloading file 2927 of 3600...\n",
      "    record: hmi.sharp_cea_720s[377][2011.02.16_01:24:00_TAI]\n",
      "  filename: hmi.sharp_cea_720s.377.20110216_012400_TAI.Bt_err.fits\n",
      "  -> AR_377_series/hmi.sharp_cea_720s.377.20110216_012400_TAI.Bt_err.fits\n",
      "Downloading file 2928 of 3600...\n",
      "    record: hmi.sharp_cea_720s[377][2011.02.16_01:24:00_TAI]\n",
      "  filename: hmi.sharp_cea_720s.377.20110216_012400_TAI.Br_err.fits\n",
      "  -> AR_377_series/hmi.sharp_cea_720s.377.20110216_012400_TAI.Br_err.fits\n",
      "Downloading file 2929 of 3600...\n",
      "    record: hmi.sharp_cea_720s[377][2011.02.16_01:36:00_TAI]\n",
      "  filename: hmi.sharp_cea_720s.377.20110216_013600_TAI.Bp.fits\n",
      "  -> AR_377_series/hmi.sharp_cea_720s.377.20110216_013600_TAI.Bp.fits\n",
      "Downloading file 2930 of 3600...\n",
      "    record: hmi.sharp_cea_720s[377][2011.02.16_01:36:00_TAI]\n",
      "  filename: hmi.sharp_cea_720s.377.20110216_013600_TAI.Bt.fits\n",
      "  -> AR_377_series/hmi.sharp_cea_720s.377.20110216_013600_TAI.Bt.fits\n",
      "Downloading file 2931 of 3600...\n",
      "    record: hmi.sharp_cea_720s[377][2011.02.16_01:36:00_TAI]\n",
      "  filename: hmi.sharp_cea_720s.377.20110216_013600_TAI.Br.fits\n",
      "  -> AR_377_series/hmi.sharp_cea_720s.377.20110216_013600_TAI.Br.fits\n",
      "Downloading file 2932 of 3600...\n",
      "    record: hmi.sharp_cea_720s[377][2011.02.16_01:36:00_TAI]\n",
      "  filename: hmi.sharp_cea_720s.377.20110216_013600_TAI.Bp_err.fits\n",
      "  -> AR_377_series/hmi.sharp_cea_720s.377.20110216_013600_TAI.Bp_err.fits\n",
      "Downloading file 2933 of 3600...\n",
      "    record: hmi.sharp_cea_720s[377][2011.02.16_01:36:00_TAI]\n",
      "  filename: hmi.sharp_cea_720s.377.20110216_013600_TAI.Bt_err.fits\n",
      "  -> AR_377_series/hmi.sharp_cea_720s.377.20110216_013600_TAI.Bt_err.fits\n",
      "Downloading file 2934 of 3600...\n",
      "    record: hmi.sharp_cea_720s[377][2011.02.16_01:36:00_TAI]\n",
      "  filename: hmi.sharp_cea_720s.377.20110216_013600_TAI.Br_err.fits\n",
      "  -> AR_377_series/hmi.sharp_cea_720s.377.20110216_013600_TAI.Br_err.fits\n",
      "Downloading file 2935 of 3600...\n",
      "    record: hmi.sharp_cea_720s[377][2011.02.16_01:48:00_TAI]\n",
      "  filename: hmi.sharp_cea_720s.377.20110216_014800_TAI.Bp.fits\n",
      "  -> AR_377_series/hmi.sharp_cea_720s.377.20110216_014800_TAI.Bp.fits\n",
      "Downloading file 2936 of 3600...\n",
      "    record: hmi.sharp_cea_720s[377][2011.02.16_01:48:00_TAI]\n",
      "  filename: hmi.sharp_cea_720s.377.20110216_014800_TAI.Bt.fits\n",
      "  -> AR_377_series/hmi.sharp_cea_720s.377.20110216_014800_TAI.Bt.fits\n",
      "Downloading file 2937 of 3600...\n",
      "    record: hmi.sharp_cea_720s[377][2011.02.16_01:48:00_TAI]\n",
      "  filename: hmi.sharp_cea_720s.377.20110216_014800_TAI.Br.fits\n",
      "  -> AR_377_series/hmi.sharp_cea_720s.377.20110216_014800_TAI.Br.fits\n",
      "Downloading file 2938 of 3600...\n",
      "    record: hmi.sharp_cea_720s[377][2011.02.16_01:48:00_TAI]\n",
      "  filename: hmi.sharp_cea_720s.377.20110216_014800_TAI.Bp_err.fits\n",
      "  -> AR_377_series/hmi.sharp_cea_720s.377.20110216_014800_TAI.Bp_err.fits\n",
      "Downloading file 2939 of 3600...\n",
      "    record: hmi.sharp_cea_720s[377][2011.02.16_01:48:00_TAI]\n",
      "  filename: hmi.sharp_cea_720s.377.20110216_014800_TAI.Bt_err.fits\n",
      "  -> AR_377_series/hmi.sharp_cea_720s.377.20110216_014800_TAI.Bt_err.fits\n",
      "Downloading file 2940 of 3600...\n",
      "    record: hmi.sharp_cea_720s[377][2011.02.16_01:48:00_TAI]\n",
      "  filename: hmi.sharp_cea_720s.377.20110216_014800_TAI.Br_err.fits\n",
      "  -> AR_377_series/hmi.sharp_cea_720s.377.20110216_014800_TAI.Br_err.fits\n",
      "Downloading file 2941 of 3600...\n",
      "    record: hmi.sharp_cea_720s[377][2011.02.16_02:00:00_TAI]\n",
      "  filename: hmi.sharp_cea_720s.377.20110216_020000_TAI.Bp.fits\n",
      "  -> AR_377_series/hmi.sharp_cea_720s.377.20110216_020000_TAI.Bp.fits\n",
      "Downloading file 2942 of 3600...\n",
      "    record: hmi.sharp_cea_720s[377][2011.02.16_02:00:00_TAI]\n",
      "  filename: hmi.sharp_cea_720s.377.20110216_020000_TAI.Bt.fits\n",
      "  -> AR_377_series/hmi.sharp_cea_720s.377.20110216_020000_TAI.Bt.fits\n",
      "Downloading file 2943 of 3600...\n",
      "    record: hmi.sharp_cea_720s[377][2011.02.16_02:00:00_TAI]\n",
      "  filename: hmi.sharp_cea_720s.377.20110216_020000_TAI.Br.fits\n",
      "  -> AR_377_series/hmi.sharp_cea_720s.377.20110216_020000_TAI.Br.fits\n",
      "Downloading file 2944 of 3600...\n",
      "    record: hmi.sharp_cea_720s[377][2011.02.16_02:00:00_TAI]\n",
      "  filename: hmi.sharp_cea_720s.377.20110216_020000_TAI.Bp_err.fits\n",
      "  -> AR_377_series/hmi.sharp_cea_720s.377.20110216_020000_TAI.Bp_err.fits\n",
      "Downloading file 2945 of 3600...\n",
      "    record: hmi.sharp_cea_720s[377][2011.02.16_02:00:00_TAI]\n",
      "  filename: hmi.sharp_cea_720s.377.20110216_020000_TAI.Bt_err.fits\n",
      "  -> AR_377_series/hmi.sharp_cea_720s.377.20110216_020000_TAI.Bt_err.fits\n",
      "Downloading file 2946 of 3600...\n",
      "    record: hmi.sharp_cea_720s[377][2011.02.16_02:00:00_TAI]\n",
      "  filename: hmi.sharp_cea_720s.377.20110216_020000_TAI.Br_err.fits\n",
      "  -> AR_377_series/hmi.sharp_cea_720s.377.20110216_020000_TAI.Br_err.fits\n",
      "Downloading file 2947 of 3600...\n",
      "    record: hmi.sharp_cea_720s[377][2011.02.16_02:12:00_TAI]\n",
      "  filename: hmi.sharp_cea_720s.377.20110216_021200_TAI.Bp.fits\n",
      "  -> AR_377_series/hmi.sharp_cea_720s.377.20110216_021200_TAI.Bp.fits\n",
      "Downloading file 2948 of 3600...\n",
      "    record: hmi.sharp_cea_720s[377][2011.02.16_02:12:00_TAI]\n",
      "  filename: hmi.sharp_cea_720s.377.20110216_021200_TAI.Bt.fits\n",
      "  -> AR_377_series/hmi.sharp_cea_720s.377.20110216_021200_TAI.Bt.fits\n",
      "Downloading file 2949 of 3600...\n",
      "    record: hmi.sharp_cea_720s[377][2011.02.16_02:12:00_TAI]\n",
      "  filename: hmi.sharp_cea_720s.377.20110216_021200_TAI.Br.fits\n",
      "  -> AR_377_series/hmi.sharp_cea_720s.377.20110216_021200_TAI.Br.fits\n",
      "Downloading file 2950 of 3600...\n",
      "    record: hmi.sharp_cea_720s[377][2011.02.16_02:12:00_TAI]\n",
      "  filename: hmi.sharp_cea_720s.377.20110216_021200_TAI.Bp_err.fits\n",
      "  -> AR_377_series/hmi.sharp_cea_720s.377.20110216_021200_TAI.Bp_err.fits\n",
      "Downloading file 2951 of 3600...\n",
      "    record: hmi.sharp_cea_720s[377][2011.02.16_02:12:00_TAI]\n",
      "  filename: hmi.sharp_cea_720s.377.20110216_021200_TAI.Bt_err.fits\n",
      "  -> AR_377_series/hmi.sharp_cea_720s.377.20110216_021200_TAI.Bt_err.fits\n",
      "Downloading file 2952 of 3600...\n",
      "    record: hmi.sharp_cea_720s[377][2011.02.16_02:12:00_TAI]\n",
      "  filename: hmi.sharp_cea_720s.377.20110216_021200_TAI.Br_err.fits\n",
      "  -> AR_377_series/hmi.sharp_cea_720s.377.20110216_021200_TAI.Br_err.fits\n",
      "Downloading file 2953 of 3600...\n",
      "    record: hmi.sharp_cea_720s[377][2011.02.16_02:24:00_TAI]\n",
      "  filename: hmi.sharp_cea_720s.377.20110216_022400_TAI.Bp.fits\n",
      "  -> AR_377_series/hmi.sharp_cea_720s.377.20110216_022400_TAI.Bp.fits\n",
      "Downloading file 2954 of 3600...\n",
      "    record: hmi.sharp_cea_720s[377][2011.02.16_02:24:00_TAI]\n",
      "  filename: hmi.sharp_cea_720s.377.20110216_022400_TAI.Bt.fits\n",
      "  -> AR_377_series/hmi.sharp_cea_720s.377.20110216_022400_TAI.Bt.fits\n",
      "Downloading file 2955 of 3600...\n",
      "    record: hmi.sharp_cea_720s[377][2011.02.16_02:24:00_TAI]\n",
      "  filename: hmi.sharp_cea_720s.377.20110216_022400_TAI.Br.fits\n",
      "  -> AR_377_series/hmi.sharp_cea_720s.377.20110216_022400_TAI.Br.fits\n",
      "Downloading file 2956 of 3600...\n",
      "    record: hmi.sharp_cea_720s[377][2011.02.16_02:24:00_TAI]\n",
      "  filename: hmi.sharp_cea_720s.377.20110216_022400_TAI.Bp_err.fits\n",
      "  -> AR_377_series/hmi.sharp_cea_720s.377.20110216_022400_TAI.Bp_err.fits\n",
      "Downloading file 2957 of 3600...\n",
      "    record: hmi.sharp_cea_720s[377][2011.02.16_02:24:00_TAI]\n",
      "  filename: hmi.sharp_cea_720s.377.20110216_022400_TAI.Bt_err.fits\n",
      "  -> AR_377_series/hmi.sharp_cea_720s.377.20110216_022400_TAI.Bt_err.fits\n",
      "Downloading file 2958 of 3600...\n",
      "    record: hmi.sharp_cea_720s[377][2011.02.16_02:24:00_TAI]\n",
      "  filename: hmi.sharp_cea_720s.377.20110216_022400_TAI.Br_err.fits\n",
      "  -> AR_377_series/hmi.sharp_cea_720s.377.20110216_022400_TAI.Br_err.fits\n",
      "Downloading file 2959 of 3600...\n",
      "    record: hmi.sharp_cea_720s[377][2011.02.16_02:36:00_TAI]\n",
      "  filename: hmi.sharp_cea_720s.377.20110216_023600_TAI.Bp.fits\n",
      "  -> AR_377_series/hmi.sharp_cea_720s.377.20110216_023600_TAI.Bp.fits\n",
      "Downloading file 2960 of 3600...\n",
      "    record: hmi.sharp_cea_720s[377][2011.02.16_02:36:00_TAI]\n",
      "  filename: hmi.sharp_cea_720s.377.20110216_023600_TAI.Bt.fits\n",
      "  -> AR_377_series/hmi.sharp_cea_720s.377.20110216_023600_TAI.Bt.fits\n",
      "Downloading file 2961 of 3600...\n",
      "    record: hmi.sharp_cea_720s[377][2011.02.16_02:36:00_TAI]\n",
      "  filename: hmi.sharp_cea_720s.377.20110216_023600_TAI.Br.fits\n",
      "  -> AR_377_series/hmi.sharp_cea_720s.377.20110216_023600_TAI.Br.fits\n",
      "Downloading file 2962 of 3600...\n",
      "    record: hmi.sharp_cea_720s[377][2011.02.16_02:36:00_TAI]\n",
      "  filename: hmi.sharp_cea_720s.377.20110216_023600_TAI.Bp_err.fits\n",
      "  -> AR_377_series/hmi.sharp_cea_720s.377.20110216_023600_TAI.Bp_err.fits\n",
      "Downloading file 2963 of 3600...\n",
      "    record: hmi.sharp_cea_720s[377][2011.02.16_02:36:00_TAI]\n",
      "  filename: hmi.sharp_cea_720s.377.20110216_023600_TAI.Bt_err.fits\n",
      "  -> AR_377_series/hmi.sharp_cea_720s.377.20110216_023600_TAI.Bt_err.fits\n",
      "Downloading file 2964 of 3600...\n",
      "    record: hmi.sharp_cea_720s[377][2011.02.16_02:36:00_TAI]\n",
      "  filename: hmi.sharp_cea_720s.377.20110216_023600_TAI.Br_err.fits\n",
      "  -> AR_377_series/hmi.sharp_cea_720s.377.20110216_023600_TAI.Br_err.fits\n",
      "Downloading file 2965 of 3600...\n",
      "    record: hmi.sharp_cea_720s[377][2011.02.16_02:48:00_TAI]\n",
      "  filename: hmi.sharp_cea_720s.377.20110216_024800_TAI.Bp.fits\n",
      "  -> AR_377_series/hmi.sharp_cea_720s.377.20110216_024800_TAI.Bp.fits\n",
      "Downloading file 2966 of 3600...\n",
      "    record: hmi.sharp_cea_720s[377][2011.02.16_02:48:00_TAI]\n",
      "  filename: hmi.sharp_cea_720s.377.20110216_024800_TAI.Bt.fits\n",
      "  -> AR_377_series/hmi.sharp_cea_720s.377.20110216_024800_TAI.Bt.fits\n",
      "Downloading file 2967 of 3600...\n",
      "    record: hmi.sharp_cea_720s[377][2011.02.16_02:48:00_TAI]\n",
      "  filename: hmi.sharp_cea_720s.377.20110216_024800_TAI.Br.fits\n",
      "  -> AR_377_series/hmi.sharp_cea_720s.377.20110216_024800_TAI.Br.fits\n",
      "Downloading file 2968 of 3600...\n",
      "    record: hmi.sharp_cea_720s[377][2011.02.16_02:48:00_TAI]\n",
      "  filename: hmi.sharp_cea_720s.377.20110216_024800_TAI.Bp_err.fits\n",
      "  -> AR_377_series/hmi.sharp_cea_720s.377.20110216_024800_TAI.Bp_err.fits\n",
      "Downloading file 2969 of 3600...\n",
      "    record: hmi.sharp_cea_720s[377][2011.02.16_02:48:00_TAI]\n",
      "  filename: hmi.sharp_cea_720s.377.20110216_024800_TAI.Bt_err.fits\n",
      "  -> AR_377_series/hmi.sharp_cea_720s.377.20110216_024800_TAI.Bt_err.fits\n",
      "Downloading file 2970 of 3600...\n",
      "    record: hmi.sharp_cea_720s[377][2011.02.16_02:48:00_TAI]\n",
      "  filename: hmi.sharp_cea_720s.377.20110216_024800_TAI.Br_err.fits\n",
      "  -> AR_377_series/hmi.sharp_cea_720s.377.20110216_024800_TAI.Br_err.fits\n",
      "Downloading file 2971 of 3600...\n",
      "    record: hmi.sharp_cea_720s[377][2011.02.16_03:00:00_TAI]\n",
      "  filename: hmi.sharp_cea_720s.377.20110216_030000_TAI.Bp.fits\n",
      "  -> AR_377_series/hmi.sharp_cea_720s.377.20110216_030000_TAI.Bp.fits\n",
      "Downloading file 2972 of 3600...\n",
      "    record: hmi.sharp_cea_720s[377][2011.02.16_03:00:00_TAI]\n",
      "  filename: hmi.sharp_cea_720s.377.20110216_030000_TAI.Bt.fits\n",
      "  -> AR_377_series/hmi.sharp_cea_720s.377.20110216_030000_TAI.Bt.fits\n",
      "Downloading file 2973 of 3600...\n",
      "    record: hmi.sharp_cea_720s[377][2011.02.16_03:00:00_TAI]\n",
      "  filename: hmi.sharp_cea_720s.377.20110216_030000_TAI.Br.fits\n",
      "  -> AR_377_series/hmi.sharp_cea_720s.377.20110216_030000_TAI.Br.fits\n",
      "Downloading file 2974 of 3600...\n",
      "    record: hmi.sharp_cea_720s[377][2011.02.16_03:00:00_TAI]\n",
      "  filename: hmi.sharp_cea_720s.377.20110216_030000_TAI.Bp_err.fits\n",
      "  -> AR_377_series/hmi.sharp_cea_720s.377.20110216_030000_TAI.Bp_err.fits\n",
      "Downloading file 2975 of 3600...\n",
      "    record: hmi.sharp_cea_720s[377][2011.02.16_03:00:00_TAI]\n",
      "  filename: hmi.sharp_cea_720s.377.20110216_030000_TAI.Bt_err.fits\n",
      "  -> AR_377_series/hmi.sharp_cea_720s.377.20110216_030000_TAI.Bt_err.fits\n",
      "Downloading file 2976 of 3600...\n",
      "    record: hmi.sharp_cea_720s[377][2011.02.16_03:00:00_TAI]\n",
      "  filename: hmi.sharp_cea_720s.377.20110216_030000_TAI.Br_err.fits\n",
      "  -> AR_377_series/hmi.sharp_cea_720s.377.20110216_030000_TAI.Br_err.fits\n",
      "Downloading file 2977 of 3600...\n",
      "    record: hmi.sharp_cea_720s[377][2011.02.16_03:12:00_TAI]\n",
      "  filename: hmi.sharp_cea_720s.377.20110216_031200_TAI.Bp.fits\n",
      "  -> AR_377_series/hmi.sharp_cea_720s.377.20110216_031200_TAI.Bp.fits\n",
      "Downloading file 2978 of 3600...\n",
      "    record: hmi.sharp_cea_720s[377][2011.02.16_03:12:00_TAI]\n",
      "  filename: hmi.sharp_cea_720s.377.20110216_031200_TAI.Bt.fits\n",
      "  -> AR_377_series/hmi.sharp_cea_720s.377.20110216_031200_TAI.Bt.fits\n",
      "Downloading file 2979 of 3600...\n",
      "    record: hmi.sharp_cea_720s[377][2011.02.16_03:12:00_TAI]\n",
      "  filename: hmi.sharp_cea_720s.377.20110216_031200_TAI.Br.fits\n",
      "  -> AR_377_series/hmi.sharp_cea_720s.377.20110216_031200_TAI.Br.fits\n",
      "Downloading file 2980 of 3600...\n",
      "    record: hmi.sharp_cea_720s[377][2011.02.16_03:12:00_TAI]\n",
      "  filename: hmi.sharp_cea_720s.377.20110216_031200_TAI.Bp_err.fits\n",
      "  -> AR_377_series/hmi.sharp_cea_720s.377.20110216_031200_TAI.Bp_err.fits\n",
      "Downloading file 2981 of 3600...\n",
      "    record: hmi.sharp_cea_720s[377][2011.02.16_03:12:00_TAI]\n",
      "  filename: hmi.sharp_cea_720s.377.20110216_031200_TAI.Bt_err.fits\n",
      "  -> AR_377_series/hmi.sharp_cea_720s.377.20110216_031200_TAI.Bt_err.fits\n",
      "Downloading file 2982 of 3600...\n",
      "    record: hmi.sharp_cea_720s[377][2011.02.16_03:12:00_TAI]\n",
      "  filename: hmi.sharp_cea_720s.377.20110216_031200_TAI.Br_err.fits\n",
      "  -> AR_377_series/hmi.sharp_cea_720s.377.20110216_031200_TAI.Br_err.fits\n",
      "Downloading file 2983 of 3600...\n",
      "    record: hmi.sharp_cea_720s[377][2011.02.16_03:24:00_TAI]\n",
      "  filename: hmi.sharp_cea_720s.377.20110216_032400_TAI.Bp.fits\n",
      "  -> AR_377_series/hmi.sharp_cea_720s.377.20110216_032400_TAI.Bp.fits\n",
      "Downloading file 2984 of 3600...\n",
      "    record: hmi.sharp_cea_720s[377][2011.02.16_03:24:00_TAI]\n",
      "  filename: hmi.sharp_cea_720s.377.20110216_032400_TAI.Bt.fits\n",
      "  -> AR_377_series/hmi.sharp_cea_720s.377.20110216_032400_TAI.Bt.fits\n",
      "Downloading file 2985 of 3600...\n",
      "    record: hmi.sharp_cea_720s[377][2011.02.16_03:24:00_TAI]\n",
      "  filename: hmi.sharp_cea_720s.377.20110216_032400_TAI.Br.fits\n",
      "  -> AR_377_series/hmi.sharp_cea_720s.377.20110216_032400_TAI.Br.fits\n",
      "Downloading file 2986 of 3600...\n",
      "    record: hmi.sharp_cea_720s[377][2011.02.16_03:24:00_TAI]\n",
      "  filename: hmi.sharp_cea_720s.377.20110216_032400_TAI.Bp_err.fits\n",
      "  -> AR_377_series/hmi.sharp_cea_720s.377.20110216_032400_TAI.Bp_err.fits\n",
      "Downloading file 2987 of 3600...\n",
      "    record: hmi.sharp_cea_720s[377][2011.02.16_03:24:00_TAI]\n",
      "  filename: hmi.sharp_cea_720s.377.20110216_032400_TAI.Bt_err.fits\n",
      "  -> AR_377_series/hmi.sharp_cea_720s.377.20110216_032400_TAI.Bt_err.fits\n",
      "Downloading file 2988 of 3600...\n",
      "    record: hmi.sharp_cea_720s[377][2011.02.16_03:24:00_TAI]\n",
      "  filename: hmi.sharp_cea_720s.377.20110216_032400_TAI.Br_err.fits\n",
      "  -> AR_377_series/hmi.sharp_cea_720s.377.20110216_032400_TAI.Br_err.fits\n",
      "Downloading file 2989 of 3600...\n",
      "    record: hmi.sharp_cea_720s[377][2011.02.16_03:36:00_TAI]\n",
      "  filename: hmi.sharp_cea_720s.377.20110216_033600_TAI.Bp.fits\n",
      "  -> AR_377_series/hmi.sharp_cea_720s.377.20110216_033600_TAI.Bp.fits\n",
      "Downloading file 2990 of 3600...\n",
      "    record: hmi.sharp_cea_720s[377][2011.02.16_03:36:00_TAI]\n",
      "  filename: hmi.sharp_cea_720s.377.20110216_033600_TAI.Bt.fits\n",
      "  -> AR_377_series/hmi.sharp_cea_720s.377.20110216_033600_TAI.Bt.fits\n",
      "Downloading file 2991 of 3600...\n",
      "    record: hmi.sharp_cea_720s[377][2011.02.16_03:36:00_TAI]\n",
      "  filename: hmi.sharp_cea_720s.377.20110216_033600_TAI.Br.fits\n",
      "  -> AR_377_series/hmi.sharp_cea_720s.377.20110216_033600_TAI.Br.fits\n",
      "Downloading file 2992 of 3600...\n",
      "    record: hmi.sharp_cea_720s[377][2011.02.16_03:36:00_TAI]\n",
      "  filename: hmi.sharp_cea_720s.377.20110216_033600_TAI.Bp_err.fits\n",
      "  -> AR_377_series/hmi.sharp_cea_720s.377.20110216_033600_TAI.Bp_err.fits\n",
      "Downloading file 2993 of 3600...\n",
      "    record: hmi.sharp_cea_720s[377][2011.02.16_03:36:00_TAI]\n",
      "  filename: hmi.sharp_cea_720s.377.20110216_033600_TAI.Bt_err.fits\n",
      "  -> AR_377_series/hmi.sharp_cea_720s.377.20110216_033600_TAI.Bt_err.fits\n",
      "Downloading file 2994 of 3600...\n",
      "    record: hmi.sharp_cea_720s[377][2011.02.16_03:36:00_TAI]\n",
      "  filename: hmi.sharp_cea_720s.377.20110216_033600_TAI.Br_err.fits\n",
      "  -> AR_377_series/hmi.sharp_cea_720s.377.20110216_033600_TAI.Br_err.fits\n",
      "Downloading file 2995 of 3600...\n",
      "    record: hmi.sharp_cea_720s[377][2011.02.16_03:48:00_TAI]\n",
      "  filename: hmi.sharp_cea_720s.377.20110216_034800_TAI.Bp.fits\n",
      "  -> AR_377_series/hmi.sharp_cea_720s.377.20110216_034800_TAI.Bp.fits\n",
      "Downloading file 2996 of 3600...\n",
      "    record: hmi.sharp_cea_720s[377][2011.02.16_03:48:00_TAI]\n",
      "  filename: hmi.sharp_cea_720s.377.20110216_034800_TAI.Bt.fits\n",
      "  -> AR_377_series/hmi.sharp_cea_720s.377.20110216_034800_TAI.Bt.fits\n",
      "Downloading file 2997 of 3600...\n",
      "    record: hmi.sharp_cea_720s[377][2011.02.16_03:48:00_TAI]\n",
      "  filename: hmi.sharp_cea_720s.377.20110216_034800_TAI.Br.fits\n",
      "  -> AR_377_series/hmi.sharp_cea_720s.377.20110216_034800_TAI.Br.fits\n",
      "Downloading file 2998 of 3600...\n",
      "    record: hmi.sharp_cea_720s[377][2011.02.16_03:48:00_TAI]\n",
      "  filename: hmi.sharp_cea_720s.377.20110216_034800_TAI.Bp_err.fits\n",
      "  -> AR_377_series/hmi.sharp_cea_720s.377.20110216_034800_TAI.Bp_err.fits\n",
      "Downloading file 2999 of 3600...\n",
      "    record: hmi.sharp_cea_720s[377][2011.02.16_03:48:00_TAI]\n",
      "  filename: hmi.sharp_cea_720s.377.20110216_034800_TAI.Bt_err.fits\n",
      "  -> AR_377_series/hmi.sharp_cea_720s.377.20110216_034800_TAI.Bt_err.fits\n",
      "Downloading file 3000 of 3600...\n",
      "    record: hmi.sharp_cea_720s[377][2011.02.16_03:48:00_TAI]\n",
      "  filename: hmi.sharp_cea_720s.377.20110216_034800_TAI.Br_err.fits\n",
      "  -> AR_377_series/hmi.sharp_cea_720s.377.20110216_034800_TAI.Br_err.fits\n",
      "Downloading file 3001 of 3600...\n",
      "    record: hmi.sharp_cea_720s[377][2011.02.16_04:00:00_TAI]\n",
      "  filename: hmi.sharp_cea_720s.377.20110216_040000_TAI.Bp.fits\n",
      "  -> AR_377_series/hmi.sharp_cea_720s.377.20110216_040000_TAI.Bp.fits\n",
      "Downloading file 3002 of 3600...\n",
      "    record: hmi.sharp_cea_720s[377][2011.02.16_04:00:00_TAI]\n",
      "  filename: hmi.sharp_cea_720s.377.20110216_040000_TAI.Bt.fits\n",
      "  -> AR_377_series/hmi.sharp_cea_720s.377.20110216_040000_TAI.Bt.fits\n",
      "Downloading file 3003 of 3600...\n",
      "    record: hmi.sharp_cea_720s[377][2011.02.16_04:00:00_TAI]\n",
      "  filename: hmi.sharp_cea_720s.377.20110216_040000_TAI.Br.fits\n",
      "  -> AR_377_series/hmi.sharp_cea_720s.377.20110216_040000_TAI.Br.fits\n",
      "Downloading file 3004 of 3600...\n",
      "    record: hmi.sharp_cea_720s[377][2011.02.16_04:00:00_TAI]\n",
      "  filename: hmi.sharp_cea_720s.377.20110216_040000_TAI.Bp_err.fits\n",
      "  -> AR_377_series/hmi.sharp_cea_720s.377.20110216_040000_TAI.Bp_err.fits\n",
      "Downloading file 3005 of 3600...\n",
      "    record: hmi.sharp_cea_720s[377][2011.02.16_04:00:00_TAI]\n",
      "  filename: hmi.sharp_cea_720s.377.20110216_040000_TAI.Bt_err.fits\n",
      "  -> AR_377_series/hmi.sharp_cea_720s.377.20110216_040000_TAI.Bt_err.fits\n",
      "Downloading file 3006 of 3600...\n",
      "    record: hmi.sharp_cea_720s[377][2011.02.16_04:00:00_TAI]\n",
      "  filename: hmi.sharp_cea_720s.377.20110216_040000_TAI.Br_err.fits\n",
      "  -> AR_377_series/hmi.sharp_cea_720s.377.20110216_040000_TAI.Br_err.fits\n",
      "Downloading file 3007 of 3600...\n",
      "    record: hmi.sharp_cea_720s[377][2011.02.16_04:12:00_TAI]\n",
      "  filename: hmi.sharp_cea_720s.377.20110216_041200_TAI.Bp.fits\n",
      "  -> AR_377_series/hmi.sharp_cea_720s.377.20110216_041200_TAI.Bp.fits\n",
      "Downloading file 3008 of 3600...\n",
      "    record: hmi.sharp_cea_720s[377][2011.02.16_04:12:00_TAI]\n",
      "  filename: hmi.sharp_cea_720s.377.20110216_041200_TAI.Bt.fits\n",
      "  -> AR_377_series/hmi.sharp_cea_720s.377.20110216_041200_TAI.Bt.fits\n",
      "Downloading file 3009 of 3600...\n",
      "    record: hmi.sharp_cea_720s[377][2011.02.16_04:12:00_TAI]\n",
      "  filename: hmi.sharp_cea_720s.377.20110216_041200_TAI.Br.fits\n",
      "  -> AR_377_series/hmi.sharp_cea_720s.377.20110216_041200_TAI.Br.fits\n",
      "Downloading file 3010 of 3600...\n",
      "    record: hmi.sharp_cea_720s[377][2011.02.16_04:12:00_TAI]\n",
      "  filename: hmi.sharp_cea_720s.377.20110216_041200_TAI.Bp_err.fits\n",
      "  -> AR_377_series/hmi.sharp_cea_720s.377.20110216_041200_TAI.Bp_err.fits\n",
      "Downloading file 3011 of 3600...\n",
      "    record: hmi.sharp_cea_720s[377][2011.02.16_04:12:00_TAI]\n",
      "  filename: hmi.sharp_cea_720s.377.20110216_041200_TAI.Bt_err.fits\n",
      "  -> AR_377_series/hmi.sharp_cea_720s.377.20110216_041200_TAI.Bt_err.fits\n",
      "Downloading file 3012 of 3600...\n",
      "    record: hmi.sharp_cea_720s[377][2011.02.16_04:12:00_TAI]\n",
      "  filename: hmi.sharp_cea_720s.377.20110216_041200_TAI.Br_err.fits\n",
      "  -> AR_377_series/hmi.sharp_cea_720s.377.20110216_041200_TAI.Br_err.fits\n",
      "Downloading file 3013 of 3600...\n",
      "    record: hmi.sharp_cea_720s[377][2011.02.16_04:24:00_TAI]\n",
      "  filename: hmi.sharp_cea_720s.377.20110216_042400_TAI.Bp.fits\n",
      "  -> AR_377_series/hmi.sharp_cea_720s.377.20110216_042400_TAI.Bp.fits\n",
      "Downloading file 3014 of 3600...\n",
      "    record: hmi.sharp_cea_720s[377][2011.02.16_04:24:00_TAI]\n",
      "  filename: hmi.sharp_cea_720s.377.20110216_042400_TAI.Bt.fits\n",
      "  -> AR_377_series/hmi.sharp_cea_720s.377.20110216_042400_TAI.Bt.fits\n",
      "Downloading file 3015 of 3600...\n",
      "    record: hmi.sharp_cea_720s[377][2011.02.16_04:24:00_TAI]\n",
      "  filename: hmi.sharp_cea_720s.377.20110216_042400_TAI.Br.fits\n",
      "  -> AR_377_series/hmi.sharp_cea_720s.377.20110216_042400_TAI.Br.fits\n",
      "Downloading file 3016 of 3600...\n",
      "    record: hmi.sharp_cea_720s[377][2011.02.16_04:24:00_TAI]\n",
      "  filename: hmi.sharp_cea_720s.377.20110216_042400_TAI.Bp_err.fits\n",
      "  -> AR_377_series/hmi.sharp_cea_720s.377.20110216_042400_TAI.Bp_err.fits\n",
      "Downloading file 3017 of 3600...\n",
      "    record: hmi.sharp_cea_720s[377][2011.02.16_04:24:00_TAI]\n",
      "  filename: hmi.sharp_cea_720s.377.20110216_042400_TAI.Bt_err.fits\n",
      "  -> AR_377_series/hmi.sharp_cea_720s.377.20110216_042400_TAI.Bt_err.fits\n",
      "Downloading file 3018 of 3600...\n",
      "    record: hmi.sharp_cea_720s[377][2011.02.16_04:24:00_TAI]\n",
      "  filename: hmi.sharp_cea_720s.377.20110216_042400_TAI.Br_err.fits\n",
      "  -> AR_377_series/hmi.sharp_cea_720s.377.20110216_042400_TAI.Br_err.fits\n",
      "Downloading file 3019 of 3600...\n",
      "    record: hmi.sharp_cea_720s[377][2011.02.16_04:36:00_TAI]\n",
      "  filename: hmi.sharp_cea_720s.377.20110216_043600_TAI.Bp.fits\n",
      "  -> AR_377_series/hmi.sharp_cea_720s.377.20110216_043600_TAI.Bp.fits\n",
      "Downloading file 3020 of 3600...\n",
      "    record: hmi.sharp_cea_720s[377][2011.02.16_04:36:00_TAI]\n",
      "  filename: hmi.sharp_cea_720s.377.20110216_043600_TAI.Bt.fits\n",
      "  -> AR_377_series/hmi.sharp_cea_720s.377.20110216_043600_TAI.Bt.fits\n",
      "Downloading file 3021 of 3600...\n",
      "    record: hmi.sharp_cea_720s[377][2011.02.16_04:36:00_TAI]\n",
      "  filename: hmi.sharp_cea_720s.377.20110216_043600_TAI.Br.fits\n",
      "  -> AR_377_series/hmi.sharp_cea_720s.377.20110216_043600_TAI.Br.fits\n",
      "Downloading file 3022 of 3600...\n",
      "    record: hmi.sharp_cea_720s[377][2011.02.16_04:36:00_TAI]\n",
      "  filename: hmi.sharp_cea_720s.377.20110216_043600_TAI.Bp_err.fits\n",
      "  -> AR_377_series/hmi.sharp_cea_720s.377.20110216_043600_TAI.Bp_err.fits\n",
      "Downloading file 3023 of 3600...\n",
      "    record: hmi.sharp_cea_720s[377][2011.02.16_04:36:00_TAI]\n",
      "  filename: hmi.sharp_cea_720s.377.20110216_043600_TAI.Bt_err.fits\n",
      "  -> AR_377_series/hmi.sharp_cea_720s.377.20110216_043600_TAI.Bt_err.fits\n",
      "Downloading file 3024 of 3600...\n",
      "    record: hmi.sharp_cea_720s[377][2011.02.16_04:36:00_TAI]\n",
      "  filename: hmi.sharp_cea_720s.377.20110216_043600_TAI.Br_err.fits\n",
      "  -> AR_377_series/hmi.sharp_cea_720s.377.20110216_043600_TAI.Br_err.fits\n",
      "Downloading file 3025 of 3600...\n",
      "    record: hmi.sharp_cea_720s[377][2011.02.16_04:48:00_TAI]\n",
      "  filename: hmi.sharp_cea_720s.377.20110216_044800_TAI.Bp.fits\n",
      "  -> AR_377_series/hmi.sharp_cea_720s.377.20110216_044800_TAI.Bp.fits\n",
      "Downloading file 3026 of 3600...\n",
      "    record: hmi.sharp_cea_720s[377][2011.02.16_04:48:00_TAI]\n",
      "  filename: hmi.sharp_cea_720s.377.20110216_044800_TAI.Bt.fits\n",
      "  -> AR_377_series/hmi.sharp_cea_720s.377.20110216_044800_TAI.Bt.fits\n",
      "Downloading file 3027 of 3600...\n",
      "    record: hmi.sharp_cea_720s[377][2011.02.16_04:48:00_TAI]\n",
      "  filename: hmi.sharp_cea_720s.377.20110216_044800_TAI.Br.fits\n",
      "  -> AR_377_series/hmi.sharp_cea_720s.377.20110216_044800_TAI.Br.fits\n",
      "Downloading file 3028 of 3600...\n",
      "    record: hmi.sharp_cea_720s[377][2011.02.16_04:48:00_TAI]\n",
      "  filename: hmi.sharp_cea_720s.377.20110216_044800_TAI.Bp_err.fits\n",
      "  -> AR_377_series/hmi.sharp_cea_720s.377.20110216_044800_TAI.Bp_err.fits\n",
      "Downloading file 3029 of 3600...\n",
      "    record: hmi.sharp_cea_720s[377][2011.02.16_04:48:00_TAI]\n",
      "  filename: hmi.sharp_cea_720s.377.20110216_044800_TAI.Bt_err.fits\n",
      "  -> AR_377_series/hmi.sharp_cea_720s.377.20110216_044800_TAI.Bt_err.fits\n",
      "Downloading file 3030 of 3600...\n",
      "    record: hmi.sharp_cea_720s[377][2011.02.16_04:48:00_TAI]\n",
      "  filename: hmi.sharp_cea_720s.377.20110216_044800_TAI.Br_err.fits\n",
      "  -> AR_377_series/hmi.sharp_cea_720s.377.20110216_044800_TAI.Br_err.fits\n",
      "Downloading file 3031 of 3600...\n",
      "    record: hmi.sharp_cea_720s[377][2011.02.16_05:00:00_TAI]\n",
      "  filename: hmi.sharp_cea_720s.377.20110216_050000_TAI.Bp.fits\n",
      "  -> AR_377_series/hmi.sharp_cea_720s.377.20110216_050000_TAI.Bp.fits\n",
      "Downloading file 3032 of 3600...\n",
      "    record: hmi.sharp_cea_720s[377][2011.02.16_05:00:00_TAI]\n",
      "  filename: hmi.sharp_cea_720s.377.20110216_050000_TAI.Bt.fits\n",
      "  -> AR_377_series/hmi.sharp_cea_720s.377.20110216_050000_TAI.Bt.fits\n",
      "Downloading file 3033 of 3600...\n",
      "    record: hmi.sharp_cea_720s[377][2011.02.16_05:00:00_TAI]\n",
      "  filename: hmi.sharp_cea_720s.377.20110216_050000_TAI.Br.fits\n",
      "  -> AR_377_series/hmi.sharp_cea_720s.377.20110216_050000_TAI.Br.fits\n",
      "Downloading file 3034 of 3600...\n",
      "    record: hmi.sharp_cea_720s[377][2011.02.16_05:00:00_TAI]\n",
      "  filename: hmi.sharp_cea_720s.377.20110216_050000_TAI.Bp_err.fits\n",
      "  -> AR_377_series/hmi.sharp_cea_720s.377.20110216_050000_TAI.Bp_err.fits\n",
      "Downloading file 3035 of 3600...\n",
      "    record: hmi.sharp_cea_720s[377][2011.02.16_05:00:00_TAI]\n",
      "  filename: hmi.sharp_cea_720s.377.20110216_050000_TAI.Bt_err.fits\n",
      "  -> AR_377_series/hmi.sharp_cea_720s.377.20110216_050000_TAI.Bt_err.fits\n",
      "Downloading file 3036 of 3600...\n",
      "    record: hmi.sharp_cea_720s[377][2011.02.16_05:00:00_TAI]\n",
      "  filename: hmi.sharp_cea_720s.377.20110216_050000_TAI.Br_err.fits\n",
      "  -> AR_377_series/hmi.sharp_cea_720s.377.20110216_050000_TAI.Br_err.fits\n",
      "Downloading file 3037 of 3600...\n",
      "    record: hmi.sharp_cea_720s[377][2011.02.16_05:12:00_TAI]\n",
      "  filename: hmi.sharp_cea_720s.377.20110216_051200_TAI.Bp.fits\n",
      "  -> AR_377_series/hmi.sharp_cea_720s.377.20110216_051200_TAI.Bp.fits\n",
      "Downloading file 3038 of 3600...\n",
      "    record: hmi.sharp_cea_720s[377][2011.02.16_05:12:00_TAI]\n",
      "  filename: hmi.sharp_cea_720s.377.20110216_051200_TAI.Bt.fits\n",
      "  -> AR_377_series/hmi.sharp_cea_720s.377.20110216_051200_TAI.Bt.fits\n",
      "Downloading file 3039 of 3600...\n",
      "    record: hmi.sharp_cea_720s[377][2011.02.16_05:12:00_TAI]\n",
      "  filename: hmi.sharp_cea_720s.377.20110216_051200_TAI.Br.fits\n",
      "  -> AR_377_series/hmi.sharp_cea_720s.377.20110216_051200_TAI.Br.fits\n",
      "Downloading file 3040 of 3600...\n",
      "    record: hmi.sharp_cea_720s[377][2011.02.16_05:12:00_TAI]\n",
      "  filename: hmi.sharp_cea_720s.377.20110216_051200_TAI.Bp_err.fits\n",
      "  -> AR_377_series/hmi.sharp_cea_720s.377.20110216_051200_TAI.Bp_err.fits\n",
      "Downloading file 3041 of 3600...\n",
      "    record: hmi.sharp_cea_720s[377][2011.02.16_05:12:00_TAI]\n",
      "  filename: hmi.sharp_cea_720s.377.20110216_051200_TAI.Bt_err.fits\n",
      "  -> AR_377_series/hmi.sharp_cea_720s.377.20110216_051200_TAI.Bt_err.fits\n",
      "Downloading file 3042 of 3600...\n",
      "    record: hmi.sharp_cea_720s[377][2011.02.16_05:12:00_TAI]\n",
      "  filename: hmi.sharp_cea_720s.377.20110216_051200_TAI.Br_err.fits\n",
      "  -> AR_377_series/hmi.sharp_cea_720s.377.20110216_051200_TAI.Br_err.fits\n",
      "Downloading file 3043 of 3600...\n",
      "    record: hmi.sharp_cea_720s[377][2011.02.16_05:24:00_TAI]\n",
      "  filename: hmi.sharp_cea_720s.377.20110216_052400_TAI.Bp.fits\n",
      "  -> AR_377_series/hmi.sharp_cea_720s.377.20110216_052400_TAI.Bp.fits\n",
      "Downloading file 3044 of 3600...\n",
      "    record: hmi.sharp_cea_720s[377][2011.02.16_05:24:00_TAI]\n",
      "  filename: hmi.sharp_cea_720s.377.20110216_052400_TAI.Bt.fits\n",
      "  -> AR_377_series/hmi.sharp_cea_720s.377.20110216_052400_TAI.Bt.fits\n",
      "Downloading file 3045 of 3600...\n",
      "    record: hmi.sharp_cea_720s[377][2011.02.16_05:24:00_TAI]\n",
      "  filename: hmi.sharp_cea_720s.377.20110216_052400_TAI.Br.fits\n",
      "  -> AR_377_series/hmi.sharp_cea_720s.377.20110216_052400_TAI.Br.fits\n",
      "Downloading file 3046 of 3600...\n",
      "    record: hmi.sharp_cea_720s[377][2011.02.16_05:24:00_TAI]\n",
      "  filename: hmi.sharp_cea_720s.377.20110216_052400_TAI.Bp_err.fits\n",
      "  -> AR_377_series/hmi.sharp_cea_720s.377.20110216_052400_TAI.Bp_err.fits\n",
      "Downloading file 3047 of 3600...\n",
      "    record: hmi.sharp_cea_720s[377][2011.02.16_05:24:00_TAI]\n",
      "  filename: hmi.sharp_cea_720s.377.20110216_052400_TAI.Bt_err.fits\n",
      "  -> AR_377_series/hmi.sharp_cea_720s.377.20110216_052400_TAI.Bt_err.fits\n",
      "Downloading file 3048 of 3600...\n",
      "    record: hmi.sharp_cea_720s[377][2011.02.16_05:24:00_TAI]\n",
      "  filename: hmi.sharp_cea_720s.377.20110216_052400_TAI.Br_err.fits\n",
      "  -> AR_377_series/hmi.sharp_cea_720s.377.20110216_052400_TAI.Br_err.fits\n",
      "Downloading file 3049 of 3600...\n",
      "    record: hmi.sharp_cea_720s[377][2011.02.16_05:36:00_TAI]\n",
      "  filename: hmi.sharp_cea_720s.377.20110216_053600_TAI.Bp.fits\n",
      "  -> AR_377_series/hmi.sharp_cea_720s.377.20110216_053600_TAI.Bp.fits\n",
      "Downloading file 3050 of 3600...\n",
      "    record: hmi.sharp_cea_720s[377][2011.02.16_05:36:00_TAI]\n",
      "  filename: hmi.sharp_cea_720s.377.20110216_053600_TAI.Bt.fits\n",
      "  -> AR_377_series/hmi.sharp_cea_720s.377.20110216_053600_TAI.Bt.fits\n",
      "Downloading file 3051 of 3600...\n",
      "    record: hmi.sharp_cea_720s[377][2011.02.16_05:36:00_TAI]\n",
      "  filename: hmi.sharp_cea_720s.377.20110216_053600_TAI.Br.fits\n",
      "  -> AR_377_series/hmi.sharp_cea_720s.377.20110216_053600_TAI.Br.fits\n",
      "Downloading file 3052 of 3600...\n",
      "    record: hmi.sharp_cea_720s[377][2011.02.16_05:36:00_TAI]\n",
      "  filename: hmi.sharp_cea_720s.377.20110216_053600_TAI.Bp_err.fits\n",
      "  -> AR_377_series/hmi.sharp_cea_720s.377.20110216_053600_TAI.Bp_err.fits\n",
      "Downloading file 3053 of 3600...\n",
      "    record: hmi.sharp_cea_720s[377][2011.02.16_05:36:00_TAI]\n",
      "  filename: hmi.sharp_cea_720s.377.20110216_053600_TAI.Bt_err.fits\n",
      "  -> AR_377_series/hmi.sharp_cea_720s.377.20110216_053600_TAI.Bt_err.fits\n",
      "Downloading file 3054 of 3600...\n",
      "    record: hmi.sharp_cea_720s[377][2011.02.16_05:36:00_TAI]\n",
      "  filename: hmi.sharp_cea_720s.377.20110216_053600_TAI.Br_err.fits\n",
      "  -> AR_377_series/hmi.sharp_cea_720s.377.20110216_053600_TAI.Br_err.fits\n",
      "Downloading file 3055 of 3600...\n",
      "    record: hmi.sharp_cea_720s[377][2011.02.16_05:48:00_TAI]\n",
      "  filename: hmi.sharp_cea_720s.377.20110216_054800_TAI.Bp.fits\n",
      "  -> AR_377_series/hmi.sharp_cea_720s.377.20110216_054800_TAI.Bp.fits\n",
      "Downloading file 3056 of 3600...\n",
      "    record: hmi.sharp_cea_720s[377][2011.02.16_05:48:00_TAI]\n",
      "  filename: hmi.sharp_cea_720s.377.20110216_054800_TAI.Bt.fits\n",
      "  -> AR_377_series/hmi.sharp_cea_720s.377.20110216_054800_TAI.Bt.fits\n",
      "Downloading file 3057 of 3600...\n",
      "    record: hmi.sharp_cea_720s[377][2011.02.16_05:48:00_TAI]\n",
      "  filename: hmi.sharp_cea_720s.377.20110216_054800_TAI.Br.fits\n",
      "  -> AR_377_series/hmi.sharp_cea_720s.377.20110216_054800_TAI.Br.fits\n",
      "Downloading file 3058 of 3600...\n",
      "    record: hmi.sharp_cea_720s[377][2011.02.16_05:48:00_TAI]\n",
      "  filename: hmi.sharp_cea_720s.377.20110216_054800_TAI.Bp_err.fits\n",
      "  -> AR_377_series/hmi.sharp_cea_720s.377.20110216_054800_TAI.Bp_err.fits\n",
      "Downloading file 3059 of 3600...\n",
      "    record: hmi.sharp_cea_720s[377][2011.02.16_05:48:00_TAI]\n",
      "  filename: hmi.sharp_cea_720s.377.20110216_054800_TAI.Bt_err.fits\n",
      "  -> AR_377_series/hmi.sharp_cea_720s.377.20110216_054800_TAI.Bt_err.fits\n",
      "Downloading file 3060 of 3600...\n",
      "    record: hmi.sharp_cea_720s[377][2011.02.16_05:48:00_TAI]\n",
      "  filename: hmi.sharp_cea_720s.377.20110216_054800_TAI.Br_err.fits\n",
      "  -> AR_377_series/hmi.sharp_cea_720s.377.20110216_054800_TAI.Br_err.fits\n",
      "Downloading file 3061 of 3600...\n",
      "    record: hmi.sharp_cea_720s[377][2011.02.16_06:00:00_TAI]\n",
      "  filename: hmi.sharp_cea_720s.377.20110216_060000_TAI.Bp.fits\n",
      "  -> AR_377_series/hmi.sharp_cea_720s.377.20110216_060000_TAI.Bp.fits\n",
      "Downloading file 3062 of 3600...\n",
      "    record: hmi.sharp_cea_720s[377][2011.02.16_06:00:00_TAI]\n",
      "  filename: hmi.sharp_cea_720s.377.20110216_060000_TAI.Bt.fits\n",
      "  -> AR_377_series/hmi.sharp_cea_720s.377.20110216_060000_TAI.Bt.fits\n",
      "Downloading file 3063 of 3600...\n",
      "    record: hmi.sharp_cea_720s[377][2011.02.16_06:00:00_TAI]\n",
      "  filename: hmi.sharp_cea_720s.377.20110216_060000_TAI.Br.fits\n",
      "  -> AR_377_series/hmi.sharp_cea_720s.377.20110216_060000_TAI.Br.fits\n",
      "Downloading file 3064 of 3600...\n",
      "    record: hmi.sharp_cea_720s[377][2011.02.16_06:00:00_TAI]\n",
      "  filename: hmi.sharp_cea_720s.377.20110216_060000_TAI.Bp_err.fits\n",
      "  -> AR_377_series/hmi.sharp_cea_720s.377.20110216_060000_TAI.Bp_err.fits\n",
      "Downloading file 3065 of 3600...\n",
      "    record: hmi.sharp_cea_720s[377][2011.02.16_06:00:00_TAI]\n",
      "  filename: hmi.sharp_cea_720s.377.20110216_060000_TAI.Bt_err.fits\n",
      "  -> AR_377_series/hmi.sharp_cea_720s.377.20110216_060000_TAI.Bt_err.fits\n",
      "Downloading file 3066 of 3600...\n",
      "    record: hmi.sharp_cea_720s[377][2011.02.16_06:00:00_TAI]\n",
      "  filename: hmi.sharp_cea_720s.377.20110216_060000_TAI.Br_err.fits\n",
      "  -> AR_377_series/hmi.sharp_cea_720s.377.20110216_060000_TAI.Br_err.fits\n",
      "Downloading file 3067 of 3600...\n",
      "    record: hmi.sharp_cea_720s[377][2011.02.16_06:12:00_TAI]\n",
      "  filename: hmi.sharp_cea_720s.377.20110216_061200_TAI.Bp.fits\n",
      "  -> AR_377_series/hmi.sharp_cea_720s.377.20110216_061200_TAI.Bp.fits\n",
      "Downloading file 3068 of 3600...\n",
      "    record: hmi.sharp_cea_720s[377][2011.02.16_06:12:00_TAI]\n",
      "  filename: hmi.sharp_cea_720s.377.20110216_061200_TAI.Bt.fits\n",
      "  -> AR_377_series/hmi.sharp_cea_720s.377.20110216_061200_TAI.Bt.fits\n",
      "Downloading file 3069 of 3600...\n",
      "    record: hmi.sharp_cea_720s[377][2011.02.16_06:12:00_TAI]\n",
      "  filename: hmi.sharp_cea_720s.377.20110216_061200_TAI.Br.fits\n",
      "  -> AR_377_series/hmi.sharp_cea_720s.377.20110216_061200_TAI.Br.fits\n",
      "Downloading file 3070 of 3600...\n",
      "    record: hmi.sharp_cea_720s[377][2011.02.16_06:12:00_TAI]\n",
      "  filename: hmi.sharp_cea_720s.377.20110216_061200_TAI.Bp_err.fits\n",
      "  -> AR_377_series/hmi.sharp_cea_720s.377.20110216_061200_TAI.Bp_err.fits\n",
      "Downloading file 3071 of 3600...\n",
      "    record: hmi.sharp_cea_720s[377][2011.02.16_06:12:00_TAI]\n",
      "  filename: hmi.sharp_cea_720s.377.20110216_061200_TAI.Bt_err.fits\n",
      "  -> AR_377_series/hmi.sharp_cea_720s.377.20110216_061200_TAI.Bt_err.fits\n",
      "Downloading file 3072 of 3600...\n",
      "    record: hmi.sharp_cea_720s[377][2011.02.16_06:12:00_TAI]\n",
      "  filename: hmi.sharp_cea_720s.377.20110216_061200_TAI.Br_err.fits\n",
      "  -> AR_377_series/hmi.sharp_cea_720s.377.20110216_061200_TAI.Br_err.fits\n",
      "Downloading file 3073 of 3600...\n",
      "    record: hmi.sharp_cea_720s[377][2011.02.16_06:24:00_TAI]\n",
      "  filename: hmi.sharp_cea_720s.377.20110216_062400_TAI.Bp.fits\n",
      "  -> AR_377_series/hmi.sharp_cea_720s.377.20110216_062400_TAI.Bp.fits\n",
      "Downloading file 3074 of 3600...\n",
      "    record: hmi.sharp_cea_720s[377][2011.02.16_06:24:00_TAI]\n",
      "  filename: hmi.sharp_cea_720s.377.20110216_062400_TAI.Bt.fits\n",
      "  -> AR_377_series/hmi.sharp_cea_720s.377.20110216_062400_TAI.Bt.fits\n",
      "Downloading file 3075 of 3600...\n",
      "    record: hmi.sharp_cea_720s[377][2011.02.16_06:24:00_TAI]\n",
      "  filename: hmi.sharp_cea_720s.377.20110216_062400_TAI.Br.fits\n",
      "  -> AR_377_series/hmi.sharp_cea_720s.377.20110216_062400_TAI.Br.fits\n",
      "Downloading file 3076 of 3600...\n",
      "    record: hmi.sharp_cea_720s[377][2011.02.16_06:24:00_TAI]\n",
      "  filename: hmi.sharp_cea_720s.377.20110216_062400_TAI.Bp_err.fits\n",
      "  -> AR_377_series/hmi.sharp_cea_720s.377.20110216_062400_TAI.Bp_err.fits\n",
      "Downloading file 3077 of 3600...\n",
      "    record: hmi.sharp_cea_720s[377][2011.02.16_06:24:00_TAI]\n",
      "  filename: hmi.sharp_cea_720s.377.20110216_062400_TAI.Bt_err.fits\n",
      "  -> AR_377_series/hmi.sharp_cea_720s.377.20110216_062400_TAI.Bt_err.fits\n",
      "Downloading file 3078 of 3600...\n",
      "    record: hmi.sharp_cea_720s[377][2011.02.16_06:24:00_TAI]\n",
      "  filename: hmi.sharp_cea_720s.377.20110216_062400_TAI.Br_err.fits\n",
      "  -> AR_377_series/hmi.sharp_cea_720s.377.20110216_062400_TAI.Br_err.fits\n",
      "Downloading file 3079 of 3600...\n",
      "    record: hmi.sharp_cea_720s[377][2011.02.16_06:36:00_TAI]\n",
      "  filename: hmi.sharp_cea_720s.377.20110216_063600_TAI.Bp.fits\n",
      "  -> AR_377_series/hmi.sharp_cea_720s.377.20110216_063600_TAI.Bp.fits\n",
      "Downloading file 3080 of 3600...\n",
      "    record: hmi.sharp_cea_720s[377][2011.02.16_06:36:00_TAI]\n",
      "  filename: hmi.sharp_cea_720s.377.20110216_063600_TAI.Bt.fits\n",
      "  -> AR_377_series/hmi.sharp_cea_720s.377.20110216_063600_TAI.Bt.fits\n",
      "Downloading file 3081 of 3600...\n",
      "    record: hmi.sharp_cea_720s[377][2011.02.16_06:36:00_TAI]\n",
      "  filename: hmi.sharp_cea_720s.377.20110216_063600_TAI.Br.fits\n",
      "  -> AR_377_series/hmi.sharp_cea_720s.377.20110216_063600_TAI.Br.fits\n",
      "Downloading file 3082 of 3600...\n",
      "    record: hmi.sharp_cea_720s[377][2011.02.16_06:36:00_TAI]\n",
      "  filename: hmi.sharp_cea_720s.377.20110216_063600_TAI.Bp_err.fits\n",
      "  -> AR_377_series/hmi.sharp_cea_720s.377.20110216_063600_TAI.Bp_err.fits\n",
      "Downloading file 3083 of 3600...\n",
      "    record: hmi.sharp_cea_720s[377][2011.02.16_06:36:00_TAI]\n",
      "  filename: hmi.sharp_cea_720s.377.20110216_063600_TAI.Bt_err.fits\n",
      "  -> AR_377_series/hmi.sharp_cea_720s.377.20110216_063600_TAI.Bt_err.fits\n",
      "Downloading file 3084 of 3600...\n",
      "    record: hmi.sharp_cea_720s[377][2011.02.16_06:36:00_TAI]\n",
      "  filename: hmi.sharp_cea_720s.377.20110216_063600_TAI.Br_err.fits\n",
      "  -> AR_377_series/hmi.sharp_cea_720s.377.20110216_063600_TAI.Br_err.fits\n",
      "Downloading file 3085 of 3600...\n",
      "    record: hmi.sharp_cea_720s[377][2011.02.16_06:48:00_TAI]\n",
      "  filename: hmi.sharp_cea_720s.377.20110216_064800_TAI.Bp.fits\n",
      "  -> AR_377_series/hmi.sharp_cea_720s.377.20110216_064800_TAI.Bp.fits\n",
      "Downloading file 3086 of 3600...\n",
      "    record: hmi.sharp_cea_720s[377][2011.02.16_06:48:00_TAI]\n",
      "  filename: hmi.sharp_cea_720s.377.20110216_064800_TAI.Bt.fits\n",
      "  -> AR_377_series/hmi.sharp_cea_720s.377.20110216_064800_TAI.Bt.fits\n",
      "Downloading file 3087 of 3600...\n",
      "    record: hmi.sharp_cea_720s[377][2011.02.16_06:48:00_TAI]\n",
      "  filename: hmi.sharp_cea_720s.377.20110216_064800_TAI.Br.fits\n",
      "  -> AR_377_series/hmi.sharp_cea_720s.377.20110216_064800_TAI.Br.fits\n",
      "Downloading file 3088 of 3600...\n",
      "    record: hmi.sharp_cea_720s[377][2011.02.16_06:48:00_TAI]\n",
      "  filename: hmi.sharp_cea_720s.377.20110216_064800_TAI.Bp_err.fits\n",
      "  -> AR_377_series/hmi.sharp_cea_720s.377.20110216_064800_TAI.Bp_err.fits\n",
      "Downloading file 3089 of 3600...\n",
      "    record: hmi.sharp_cea_720s[377][2011.02.16_06:48:00_TAI]\n",
      "  filename: hmi.sharp_cea_720s.377.20110216_064800_TAI.Bt_err.fits\n",
      "  -> AR_377_series/hmi.sharp_cea_720s.377.20110216_064800_TAI.Bt_err.fits\n",
      "Downloading file 3090 of 3600...\n",
      "    record: hmi.sharp_cea_720s[377][2011.02.16_06:48:00_TAI]\n",
      "  filename: hmi.sharp_cea_720s.377.20110216_064800_TAI.Br_err.fits\n",
      "  -> AR_377_series/hmi.sharp_cea_720s.377.20110216_064800_TAI.Br_err.fits\n",
      "Downloading file 3091 of 3600...\n",
      "    record: hmi.sharp_cea_720s[377][2011.02.16_07:00:00_TAI]\n",
      "  filename: hmi.sharp_cea_720s.377.20110216_070000_TAI.Bp.fits\n",
      "  -> AR_377_series/hmi.sharp_cea_720s.377.20110216_070000_TAI.Bp.fits\n",
      "Downloading file 3092 of 3600...\n",
      "    record: hmi.sharp_cea_720s[377][2011.02.16_07:00:00_TAI]\n",
      "  filename: hmi.sharp_cea_720s.377.20110216_070000_TAI.Bt.fits\n",
      "  -> AR_377_series/hmi.sharp_cea_720s.377.20110216_070000_TAI.Bt.fits\n",
      "Downloading file 3093 of 3600...\n",
      "    record: hmi.sharp_cea_720s[377][2011.02.16_07:00:00_TAI]\n",
      "  filename: hmi.sharp_cea_720s.377.20110216_070000_TAI.Br.fits\n",
      "  -> AR_377_series/hmi.sharp_cea_720s.377.20110216_070000_TAI.Br.fits\n",
      "Downloading file 3094 of 3600...\n",
      "    record: hmi.sharp_cea_720s[377][2011.02.16_07:00:00_TAI]\n",
      "  filename: hmi.sharp_cea_720s.377.20110216_070000_TAI.Bp_err.fits\n",
      "  -> AR_377_series/hmi.sharp_cea_720s.377.20110216_070000_TAI.Bp_err.fits\n",
      "Downloading file 3095 of 3600...\n",
      "    record: hmi.sharp_cea_720s[377][2011.02.16_07:00:00_TAI]\n",
      "  filename: hmi.sharp_cea_720s.377.20110216_070000_TAI.Bt_err.fits\n",
      "  -> AR_377_series/hmi.sharp_cea_720s.377.20110216_070000_TAI.Bt_err.fits\n",
      "Downloading file 3096 of 3600...\n",
      "    record: hmi.sharp_cea_720s[377][2011.02.16_07:00:00_TAI]\n",
      "  filename: hmi.sharp_cea_720s.377.20110216_070000_TAI.Br_err.fits\n",
      "  -> AR_377_series/hmi.sharp_cea_720s.377.20110216_070000_TAI.Br_err.fits\n",
      "Downloading file 3097 of 3600...\n",
      "    record: hmi.sharp_cea_720s[377][2011.02.16_07:12:00_TAI]\n",
      "  filename: hmi.sharp_cea_720s.377.20110216_071200_TAI.Bp.fits\n",
      "  -> AR_377_series/hmi.sharp_cea_720s.377.20110216_071200_TAI.Bp.fits\n",
      "Downloading file 3098 of 3600...\n",
      "    record: hmi.sharp_cea_720s[377][2011.02.16_07:12:00_TAI]\n",
      "  filename: hmi.sharp_cea_720s.377.20110216_071200_TAI.Bt.fits\n",
      "  -> AR_377_series/hmi.sharp_cea_720s.377.20110216_071200_TAI.Bt.fits\n",
      "Downloading file 3099 of 3600...\n",
      "    record: hmi.sharp_cea_720s[377][2011.02.16_07:12:00_TAI]\n",
      "  filename: hmi.sharp_cea_720s.377.20110216_071200_TAI.Br.fits\n",
      "  -> AR_377_series/hmi.sharp_cea_720s.377.20110216_071200_TAI.Br.fits\n",
      "Downloading file 3100 of 3600...\n",
      "    record: hmi.sharp_cea_720s[377][2011.02.16_07:12:00_TAI]\n",
      "  filename: hmi.sharp_cea_720s.377.20110216_071200_TAI.Bp_err.fits\n",
      "  -> AR_377_series/hmi.sharp_cea_720s.377.20110216_071200_TAI.Bp_err.fits\n",
      "Downloading file 3101 of 3600...\n",
      "    record: hmi.sharp_cea_720s[377][2011.02.16_07:12:00_TAI]\n",
      "  filename: hmi.sharp_cea_720s.377.20110216_071200_TAI.Bt_err.fits\n",
      "  -> AR_377_series/hmi.sharp_cea_720s.377.20110216_071200_TAI.Bt_err.fits\n",
      "Downloading file 3102 of 3600...\n",
      "    record: hmi.sharp_cea_720s[377][2011.02.16_07:12:00_TAI]\n",
      "  filename: hmi.sharp_cea_720s.377.20110216_071200_TAI.Br_err.fits\n",
      "  -> AR_377_series/hmi.sharp_cea_720s.377.20110216_071200_TAI.Br_err.fits\n",
      "Downloading file 3103 of 3600...\n",
      "    record: hmi.sharp_cea_720s[377][2011.02.16_07:24:00_TAI]\n",
      "  filename: hmi.sharp_cea_720s.377.20110216_072400_TAI.Bp.fits\n",
      "  -> AR_377_series/hmi.sharp_cea_720s.377.20110216_072400_TAI.Bp.fits\n",
      "Downloading file 3104 of 3600...\n",
      "    record: hmi.sharp_cea_720s[377][2011.02.16_07:24:00_TAI]\n",
      "  filename: hmi.sharp_cea_720s.377.20110216_072400_TAI.Bt.fits\n",
      "  -> AR_377_series/hmi.sharp_cea_720s.377.20110216_072400_TAI.Bt.fits\n",
      "Downloading file 3105 of 3600...\n",
      "    record: hmi.sharp_cea_720s[377][2011.02.16_07:24:00_TAI]\n",
      "  filename: hmi.sharp_cea_720s.377.20110216_072400_TAI.Br.fits\n",
      "  -> AR_377_series/hmi.sharp_cea_720s.377.20110216_072400_TAI.Br.fits\n",
      "Downloading file 3106 of 3600...\n",
      "    record: hmi.sharp_cea_720s[377][2011.02.16_07:24:00_TAI]\n",
      "  filename: hmi.sharp_cea_720s.377.20110216_072400_TAI.Bp_err.fits\n",
      "  -> AR_377_series/hmi.sharp_cea_720s.377.20110216_072400_TAI.Bp_err.fits\n",
      "Downloading file 3107 of 3600...\n",
      "    record: hmi.sharp_cea_720s[377][2011.02.16_07:24:00_TAI]\n",
      "  filename: hmi.sharp_cea_720s.377.20110216_072400_TAI.Bt_err.fits\n",
      "  -> AR_377_series/hmi.sharp_cea_720s.377.20110216_072400_TAI.Bt_err.fits\n",
      "Downloading file 3108 of 3600...\n",
      "    record: hmi.sharp_cea_720s[377][2011.02.16_07:24:00_TAI]\n",
      "  filename: hmi.sharp_cea_720s.377.20110216_072400_TAI.Br_err.fits\n",
      "  -> AR_377_series/hmi.sharp_cea_720s.377.20110216_072400_TAI.Br_err.fits\n",
      "Downloading file 3109 of 3600...\n",
      "    record: hmi.sharp_cea_720s[377][2011.02.16_07:36:00_TAI]\n",
      "  filename: hmi.sharp_cea_720s.377.20110216_073600_TAI.Bp.fits\n",
      "  -> AR_377_series/hmi.sharp_cea_720s.377.20110216_073600_TAI.Bp.fits\n",
      "Downloading file 3110 of 3600...\n",
      "    record: hmi.sharp_cea_720s[377][2011.02.16_07:36:00_TAI]\n",
      "  filename: hmi.sharp_cea_720s.377.20110216_073600_TAI.Bt.fits\n",
      "  -> AR_377_series/hmi.sharp_cea_720s.377.20110216_073600_TAI.Bt.fits\n",
      "Downloading file 3111 of 3600...\n",
      "    record: hmi.sharp_cea_720s[377][2011.02.16_07:36:00_TAI]\n",
      "  filename: hmi.sharp_cea_720s.377.20110216_073600_TAI.Br.fits\n",
      "  -> AR_377_series/hmi.sharp_cea_720s.377.20110216_073600_TAI.Br.fits\n",
      "Downloading file 3112 of 3600...\n",
      "    record: hmi.sharp_cea_720s[377][2011.02.16_07:36:00_TAI]\n",
      "  filename: hmi.sharp_cea_720s.377.20110216_073600_TAI.Bp_err.fits\n",
      "  -> AR_377_series/hmi.sharp_cea_720s.377.20110216_073600_TAI.Bp_err.fits\n",
      "Downloading file 3113 of 3600...\n",
      "    record: hmi.sharp_cea_720s[377][2011.02.16_07:36:00_TAI]\n",
      "  filename: hmi.sharp_cea_720s.377.20110216_073600_TAI.Bt_err.fits\n",
      "  -> AR_377_series/hmi.sharp_cea_720s.377.20110216_073600_TAI.Bt_err.fits\n",
      "Downloading file 3114 of 3600...\n",
      "    record: hmi.sharp_cea_720s[377][2011.02.16_07:36:00_TAI]\n",
      "  filename: hmi.sharp_cea_720s.377.20110216_073600_TAI.Br_err.fits\n",
      "  -> AR_377_series/hmi.sharp_cea_720s.377.20110216_073600_TAI.Br_err.fits\n",
      "Downloading file 3115 of 3600...\n",
      "    record: hmi.sharp_cea_720s[377][2011.02.16_07:48:00_TAI]\n",
      "  filename: hmi.sharp_cea_720s.377.20110216_074800_TAI.Bp.fits\n",
      "  -> AR_377_series/hmi.sharp_cea_720s.377.20110216_074800_TAI.Bp.fits\n",
      "Downloading file 3116 of 3600...\n",
      "    record: hmi.sharp_cea_720s[377][2011.02.16_07:48:00_TAI]\n",
      "  filename: hmi.sharp_cea_720s.377.20110216_074800_TAI.Bt.fits\n",
      "  -> AR_377_series/hmi.sharp_cea_720s.377.20110216_074800_TAI.Bt.fits\n",
      "Downloading file 3117 of 3600...\n",
      "    record: hmi.sharp_cea_720s[377][2011.02.16_07:48:00_TAI]\n",
      "  filename: hmi.sharp_cea_720s.377.20110216_074800_TAI.Br.fits\n",
      "  -> AR_377_series/hmi.sharp_cea_720s.377.20110216_074800_TAI.Br.fits\n",
      "Downloading file 3118 of 3600...\n",
      "    record: hmi.sharp_cea_720s[377][2011.02.16_07:48:00_TAI]\n",
      "  filename: hmi.sharp_cea_720s.377.20110216_074800_TAI.Bp_err.fits\n",
      "  -> AR_377_series/hmi.sharp_cea_720s.377.20110216_074800_TAI.Bp_err.fits\n",
      "Downloading file 3119 of 3600...\n",
      "    record: hmi.sharp_cea_720s[377][2011.02.16_07:48:00_TAI]\n",
      "  filename: hmi.sharp_cea_720s.377.20110216_074800_TAI.Bt_err.fits\n",
      "  -> AR_377_series/hmi.sharp_cea_720s.377.20110216_074800_TAI.Bt_err.fits\n",
      "Downloading file 3120 of 3600...\n",
      "    record: hmi.sharp_cea_720s[377][2011.02.16_07:48:00_TAI]\n",
      "  filename: hmi.sharp_cea_720s.377.20110216_074800_TAI.Br_err.fits\n",
      "  -> AR_377_series/hmi.sharp_cea_720s.377.20110216_074800_TAI.Br_err.fits\n",
      "Downloading file 3121 of 3600...\n",
      "    record: hmi.sharp_cea_720s[377][2011.02.16_08:00:00_TAI]\n",
      "  filename: hmi.sharp_cea_720s.377.20110216_080000_TAI.Bp.fits\n",
      "  -> AR_377_series/hmi.sharp_cea_720s.377.20110216_080000_TAI.Bp.fits\n",
      "Downloading file 3122 of 3600...\n",
      "    record: hmi.sharp_cea_720s[377][2011.02.16_08:00:00_TAI]\n",
      "  filename: hmi.sharp_cea_720s.377.20110216_080000_TAI.Bt.fits\n",
      "  -> AR_377_series/hmi.sharp_cea_720s.377.20110216_080000_TAI.Bt.fits\n",
      "Downloading file 3123 of 3600...\n",
      "    record: hmi.sharp_cea_720s[377][2011.02.16_08:00:00_TAI]\n",
      "  filename: hmi.sharp_cea_720s.377.20110216_080000_TAI.Br.fits\n",
      "  -> AR_377_series/hmi.sharp_cea_720s.377.20110216_080000_TAI.Br.fits\n",
      "Downloading file 3124 of 3600...\n",
      "    record: hmi.sharp_cea_720s[377][2011.02.16_08:00:00_TAI]\n",
      "  filename: hmi.sharp_cea_720s.377.20110216_080000_TAI.Bp_err.fits\n",
      "  -> AR_377_series/hmi.sharp_cea_720s.377.20110216_080000_TAI.Bp_err.fits\n",
      "Downloading file 3125 of 3600...\n",
      "    record: hmi.sharp_cea_720s[377][2011.02.16_08:00:00_TAI]\n",
      "  filename: hmi.sharp_cea_720s.377.20110216_080000_TAI.Bt_err.fits\n",
      "  -> AR_377_series/hmi.sharp_cea_720s.377.20110216_080000_TAI.Bt_err.fits\n",
      "Downloading file 3126 of 3600...\n",
      "    record: hmi.sharp_cea_720s[377][2011.02.16_08:00:00_TAI]\n",
      "  filename: hmi.sharp_cea_720s.377.20110216_080000_TAI.Br_err.fits\n",
      "  -> AR_377_series/hmi.sharp_cea_720s.377.20110216_080000_TAI.Br_err.fits\n",
      "Downloading file 3127 of 3600...\n",
      "    record: hmi.sharp_cea_720s[377][2011.02.16_08:12:00_TAI]\n",
      "  filename: hmi.sharp_cea_720s.377.20110216_081200_TAI.Bp.fits\n",
      "  -> AR_377_series/hmi.sharp_cea_720s.377.20110216_081200_TAI.Bp.fits\n",
      "Downloading file 3128 of 3600...\n",
      "    record: hmi.sharp_cea_720s[377][2011.02.16_08:12:00_TAI]\n",
      "  filename: hmi.sharp_cea_720s.377.20110216_081200_TAI.Bt.fits\n",
      "  -> AR_377_series/hmi.sharp_cea_720s.377.20110216_081200_TAI.Bt.fits\n",
      "Downloading file 3129 of 3600...\n",
      "    record: hmi.sharp_cea_720s[377][2011.02.16_08:12:00_TAI]\n",
      "  filename: hmi.sharp_cea_720s.377.20110216_081200_TAI.Br.fits\n",
      "  -> AR_377_series/hmi.sharp_cea_720s.377.20110216_081200_TAI.Br.fits\n",
      "Downloading file 3130 of 3600...\n",
      "    record: hmi.sharp_cea_720s[377][2011.02.16_08:12:00_TAI]\n",
      "  filename: hmi.sharp_cea_720s.377.20110216_081200_TAI.Bp_err.fits\n",
      "  -> AR_377_series/hmi.sharp_cea_720s.377.20110216_081200_TAI.Bp_err.fits\n",
      "Downloading file 3131 of 3600...\n",
      "    record: hmi.sharp_cea_720s[377][2011.02.16_08:12:00_TAI]\n",
      "  filename: hmi.sharp_cea_720s.377.20110216_081200_TAI.Bt_err.fits\n",
      "  -> AR_377_series/hmi.sharp_cea_720s.377.20110216_081200_TAI.Bt_err.fits\n",
      "Downloading file 3132 of 3600...\n",
      "    record: hmi.sharp_cea_720s[377][2011.02.16_08:12:00_TAI]\n",
      "  filename: hmi.sharp_cea_720s.377.20110216_081200_TAI.Br_err.fits\n",
      "  -> AR_377_series/hmi.sharp_cea_720s.377.20110216_081200_TAI.Br_err.fits\n",
      "Downloading file 3133 of 3600...\n",
      "    record: hmi.sharp_cea_720s[377][2011.02.16_08:24:00_TAI]\n",
      "  filename: hmi.sharp_cea_720s.377.20110216_082400_TAI.Bp.fits\n",
      "  -> AR_377_series/hmi.sharp_cea_720s.377.20110216_082400_TAI.Bp.fits\n",
      "Downloading file 3134 of 3600...\n",
      "    record: hmi.sharp_cea_720s[377][2011.02.16_08:24:00_TAI]\n",
      "  filename: hmi.sharp_cea_720s.377.20110216_082400_TAI.Bt.fits\n",
      "  -> AR_377_series/hmi.sharp_cea_720s.377.20110216_082400_TAI.Bt.fits\n",
      "Downloading file 3135 of 3600...\n",
      "    record: hmi.sharp_cea_720s[377][2011.02.16_08:24:00_TAI]\n",
      "  filename: hmi.sharp_cea_720s.377.20110216_082400_TAI.Br.fits\n",
      "  -> AR_377_series/hmi.sharp_cea_720s.377.20110216_082400_TAI.Br.fits\n",
      "Downloading file 3136 of 3600...\n",
      "    record: hmi.sharp_cea_720s[377][2011.02.16_08:24:00_TAI]\n",
      "  filename: hmi.sharp_cea_720s.377.20110216_082400_TAI.Bp_err.fits\n",
      "  -> AR_377_series/hmi.sharp_cea_720s.377.20110216_082400_TAI.Bp_err.fits\n",
      "Downloading file 3137 of 3600...\n",
      "    record: hmi.sharp_cea_720s[377][2011.02.16_08:24:00_TAI]\n",
      "  filename: hmi.sharp_cea_720s.377.20110216_082400_TAI.Bt_err.fits\n",
      "  -> AR_377_series/hmi.sharp_cea_720s.377.20110216_082400_TAI.Bt_err.fits\n",
      "Downloading file 3138 of 3600...\n",
      "    record: hmi.sharp_cea_720s[377][2011.02.16_08:24:00_TAI]\n",
      "  filename: hmi.sharp_cea_720s.377.20110216_082400_TAI.Br_err.fits\n",
      "  -> AR_377_series/hmi.sharp_cea_720s.377.20110216_082400_TAI.Br_err.fits\n",
      "Downloading file 3139 of 3600...\n",
      "    record: hmi.sharp_cea_720s[377][2011.02.16_08:36:00_TAI]\n",
      "  filename: hmi.sharp_cea_720s.377.20110216_083600_TAI.Bp.fits\n",
      "  -> AR_377_series/hmi.sharp_cea_720s.377.20110216_083600_TAI.Bp.fits\n",
      "Downloading file 3140 of 3600...\n",
      "    record: hmi.sharp_cea_720s[377][2011.02.16_08:36:00_TAI]\n",
      "  filename: hmi.sharp_cea_720s.377.20110216_083600_TAI.Bt.fits\n",
      "  -> AR_377_series/hmi.sharp_cea_720s.377.20110216_083600_TAI.Bt.fits\n",
      "Downloading file 3141 of 3600...\n",
      "    record: hmi.sharp_cea_720s[377][2011.02.16_08:36:00_TAI]\n",
      "  filename: hmi.sharp_cea_720s.377.20110216_083600_TAI.Br.fits\n",
      "  -> AR_377_series/hmi.sharp_cea_720s.377.20110216_083600_TAI.Br.fits\n",
      "Downloading file 3142 of 3600...\n",
      "    record: hmi.sharp_cea_720s[377][2011.02.16_08:36:00_TAI]\n",
      "  filename: hmi.sharp_cea_720s.377.20110216_083600_TAI.Bp_err.fits\n",
      "  -> AR_377_series/hmi.sharp_cea_720s.377.20110216_083600_TAI.Bp_err.fits\n",
      "Downloading file 3143 of 3600...\n",
      "    record: hmi.sharp_cea_720s[377][2011.02.16_08:36:00_TAI]\n",
      "  filename: hmi.sharp_cea_720s.377.20110216_083600_TAI.Bt_err.fits\n",
      "  -> AR_377_series/hmi.sharp_cea_720s.377.20110216_083600_TAI.Bt_err.fits\n",
      "Downloading file 3144 of 3600...\n",
      "    record: hmi.sharp_cea_720s[377][2011.02.16_08:36:00_TAI]\n",
      "  filename: hmi.sharp_cea_720s.377.20110216_083600_TAI.Br_err.fits\n",
      "  -> AR_377_series/hmi.sharp_cea_720s.377.20110216_083600_TAI.Br_err.fits\n",
      "Downloading file 3145 of 3600...\n",
      "    record: hmi.sharp_cea_720s[377][2011.02.16_08:48:00_TAI]\n",
      "  filename: hmi.sharp_cea_720s.377.20110216_084800_TAI.Bp.fits\n",
      "  -> AR_377_series/hmi.sharp_cea_720s.377.20110216_084800_TAI.Bp.fits\n",
      "Downloading file 3146 of 3600...\n",
      "    record: hmi.sharp_cea_720s[377][2011.02.16_08:48:00_TAI]\n",
      "  filename: hmi.sharp_cea_720s.377.20110216_084800_TAI.Bt.fits\n",
      "  -> AR_377_series/hmi.sharp_cea_720s.377.20110216_084800_TAI.Bt.fits\n",
      "Downloading file 3147 of 3600...\n",
      "    record: hmi.sharp_cea_720s[377][2011.02.16_08:48:00_TAI]\n",
      "  filename: hmi.sharp_cea_720s.377.20110216_084800_TAI.Br.fits\n",
      "  -> AR_377_series/hmi.sharp_cea_720s.377.20110216_084800_TAI.Br.fits\n",
      "Downloading file 3148 of 3600...\n",
      "    record: hmi.sharp_cea_720s[377][2011.02.16_08:48:00_TAI]\n",
      "  filename: hmi.sharp_cea_720s.377.20110216_084800_TAI.Bp_err.fits\n",
      "  -> AR_377_series/hmi.sharp_cea_720s.377.20110216_084800_TAI.Bp_err.fits\n",
      "Downloading file 3149 of 3600...\n",
      "    record: hmi.sharp_cea_720s[377][2011.02.16_08:48:00_TAI]\n",
      "  filename: hmi.sharp_cea_720s.377.20110216_084800_TAI.Bt_err.fits\n",
      "  -> AR_377_series/hmi.sharp_cea_720s.377.20110216_084800_TAI.Bt_err.fits\n",
      "Downloading file 3150 of 3600...\n",
      "    record: hmi.sharp_cea_720s[377][2011.02.16_08:48:00_TAI]\n",
      "  filename: hmi.sharp_cea_720s.377.20110216_084800_TAI.Br_err.fits\n",
      "  -> AR_377_series/hmi.sharp_cea_720s.377.20110216_084800_TAI.Br_err.fits\n",
      "Downloading file 3151 of 3600...\n",
      "    record: hmi.sharp_cea_720s[377][2011.02.16_09:00:00_TAI]\n",
      "  filename: hmi.sharp_cea_720s.377.20110216_090000_TAI.Bp.fits\n",
      "  -> AR_377_series/hmi.sharp_cea_720s.377.20110216_090000_TAI.Bp.fits\n",
      "Downloading file 3152 of 3600...\n",
      "    record: hmi.sharp_cea_720s[377][2011.02.16_09:00:00_TAI]\n",
      "  filename: hmi.sharp_cea_720s.377.20110216_090000_TAI.Bt.fits\n",
      "  -> AR_377_series/hmi.sharp_cea_720s.377.20110216_090000_TAI.Bt.fits\n",
      "Downloading file 3153 of 3600...\n",
      "    record: hmi.sharp_cea_720s[377][2011.02.16_09:00:00_TAI]\n",
      "  filename: hmi.sharp_cea_720s.377.20110216_090000_TAI.Br.fits\n",
      "  -> AR_377_series/hmi.sharp_cea_720s.377.20110216_090000_TAI.Br.fits\n",
      "Downloading file 3154 of 3600...\n",
      "    record: hmi.sharp_cea_720s[377][2011.02.16_09:00:00_TAI]\n",
      "  filename: hmi.sharp_cea_720s.377.20110216_090000_TAI.Bp_err.fits\n",
      "  -> AR_377_series/hmi.sharp_cea_720s.377.20110216_090000_TAI.Bp_err.fits\n",
      "Downloading file 3155 of 3600...\n",
      "    record: hmi.sharp_cea_720s[377][2011.02.16_09:00:00_TAI]\n",
      "  filename: hmi.sharp_cea_720s.377.20110216_090000_TAI.Bt_err.fits\n",
      "  -> AR_377_series/hmi.sharp_cea_720s.377.20110216_090000_TAI.Bt_err.fits\n",
      "Downloading file 3156 of 3600...\n",
      "    record: hmi.sharp_cea_720s[377][2011.02.16_09:00:00_TAI]\n",
      "  filename: hmi.sharp_cea_720s.377.20110216_090000_TAI.Br_err.fits\n",
      "  -> AR_377_series/hmi.sharp_cea_720s.377.20110216_090000_TAI.Br_err.fits\n",
      "Downloading file 3157 of 3600...\n",
      "    record: hmi.sharp_cea_720s[377][2011.02.16_09:12:00_TAI]\n",
      "  filename: hmi.sharp_cea_720s.377.20110216_091200_TAI.Bp.fits\n",
      "  -> AR_377_series/hmi.sharp_cea_720s.377.20110216_091200_TAI.Bp.fits\n",
      "Downloading file 3158 of 3600...\n",
      "    record: hmi.sharp_cea_720s[377][2011.02.16_09:12:00_TAI]\n",
      "  filename: hmi.sharp_cea_720s.377.20110216_091200_TAI.Bt.fits\n",
      "  -> AR_377_series/hmi.sharp_cea_720s.377.20110216_091200_TAI.Bt.fits\n",
      "Downloading file 3159 of 3600...\n",
      "    record: hmi.sharp_cea_720s[377][2011.02.16_09:12:00_TAI]\n",
      "  filename: hmi.sharp_cea_720s.377.20110216_091200_TAI.Br.fits\n",
      "  -> AR_377_series/hmi.sharp_cea_720s.377.20110216_091200_TAI.Br.fits\n",
      "Downloading file 3160 of 3600...\n",
      "    record: hmi.sharp_cea_720s[377][2011.02.16_09:12:00_TAI]\n",
      "  filename: hmi.sharp_cea_720s.377.20110216_091200_TAI.Bp_err.fits\n",
      "  -> AR_377_series/hmi.sharp_cea_720s.377.20110216_091200_TAI.Bp_err.fits\n",
      "Downloading file 3161 of 3600...\n",
      "    record: hmi.sharp_cea_720s[377][2011.02.16_09:12:00_TAI]\n",
      "  filename: hmi.sharp_cea_720s.377.20110216_091200_TAI.Bt_err.fits\n",
      "  -> AR_377_series/hmi.sharp_cea_720s.377.20110216_091200_TAI.Bt_err.fits\n",
      "Downloading file 3162 of 3600...\n",
      "    record: hmi.sharp_cea_720s[377][2011.02.16_09:12:00_TAI]\n",
      "  filename: hmi.sharp_cea_720s.377.20110216_091200_TAI.Br_err.fits\n",
      "  -> AR_377_series/hmi.sharp_cea_720s.377.20110216_091200_TAI.Br_err.fits\n",
      "Downloading file 3163 of 3600...\n",
      "    record: hmi.sharp_cea_720s[377][2011.02.16_09:24:00_TAI]\n",
      "  filename: hmi.sharp_cea_720s.377.20110216_092400_TAI.Bp.fits\n",
      "  -> AR_377_series/hmi.sharp_cea_720s.377.20110216_092400_TAI.Bp.fits\n",
      "Downloading file 3164 of 3600...\n",
      "    record: hmi.sharp_cea_720s[377][2011.02.16_09:24:00_TAI]\n",
      "  filename: hmi.sharp_cea_720s.377.20110216_092400_TAI.Bt.fits\n",
      "  -> AR_377_series/hmi.sharp_cea_720s.377.20110216_092400_TAI.Bt.fits\n",
      "Downloading file 3165 of 3600...\n",
      "    record: hmi.sharp_cea_720s[377][2011.02.16_09:24:00_TAI]\n",
      "  filename: hmi.sharp_cea_720s.377.20110216_092400_TAI.Br.fits\n",
      "  -> AR_377_series/hmi.sharp_cea_720s.377.20110216_092400_TAI.Br.fits\n",
      "Downloading file 3166 of 3600...\n",
      "    record: hmi.sharp_cea_720s[377][2011.02.16_09:24:00_TAI]\n",
      "  filename: hmi.sharp_cea_720s.377.20110216_092400_TAI.Bp_err.fits\n",
      "  -> AR_377_series/hmi.sharp_cea_720s.377.20110216_092400_TAI.Bp_err.fits\n",
      "Downloading file 3167 of 3600...\n",
      "    record: hmi.sharp_cea_720s[377][2011.02.16_09:24:00_TAI]\n",
      "  filename: hmi.sharp_cea_720s.377.20110216_092400_TAI.Bt_err.fits\n",
      "  -> AR_377_series/hmi.sharp_cea_720s.377.20110216_092400_TAI.Bt_err.fits\n",
      "Downloading file 3168 of 3600...\n",
      "    record: hmi.sharp_cea_720s[377][2011.02.16_09:24:00_TAI]\n",
      "  filename: hmi.sharp_cea_720s.377.20110216_092400_TAI.Br_err.fits\n",
      "  -> AR_377_series/hmi.sharp_cea_720s.377.20110216_092400_TAI.Br_err.fits\n",
      "Downloading file 3169 of 3600...\n",
      "    record: hmi.sharp_cea_720s[377][2011.02.16_09:36:00_TAI]\n",
      "  filename: hmi.sharp_cea_720s.377.20110216_093600_TAI.Bp.fits\n",
      "  -> AR_377_series/hmi.sharp_cea_720s.377.20110216_093600_TAI.Bp.fits\n",
      "Downloading file 3170 of 3600...\n",
      "    record: hmi.sharp_cea_720s[377][2011.02.16_09:36:00_TAI]\n",
      "  filename: hmi.sharp_cea_720s.377.20110216_093600_TAI.Bt.fits\n",
      "  -> AR_377_series/hmi.sharp_cea_720s.377.20110216_093600_TAI.Bt.fits\n",
      "Downloading file 3171 of 3600...\n",
      "    record: hmi.sharp_cea_720s[377][2011.02.16_09:36:00_TAI]\n",
      "  filename: hmi.sharp_cea_720s.377.20110216_093600_TAI.Br.fits\n",
      "  -> AR_377_series/hmi.sharp_cea_720s.377.20110216_093600_TAI.Br.fits\n",
      "Downloading file 3172 of 3600...\n",
      "    record: hmi.sharp_cea_720s[377][2011.02.16_09:36:00_TAI]\n",
      "  filename: hmi.sharp_cea_720s.377.20110216_093600_TAI.Bp_err.fits\n",
      "  -> AR_377_series/hmi.sharp_cea_720s.377.20110216_093600_TAI.Bp_err.fits\n",
      "Downloading file 3173 of 3600...\n",
      "    record: hmi.sharp_cea_720s[377][2011.02.16_09:36:00_TAI]\n",
      "  filename: hmi.sharp_cea_720s.377.20110216_093600_TAI.Bt_err.fits\n",
      "  -> AR_377_series/hmi.sharp_cea_720s.377.20110216_093600_TAI.Bt_err.fits\n",
      "Downloading file 3174 of 3600...\n",
      "    record: hmi.sharp_cea_720s[377][2011.02.16_09:36:00_TAI]\n",
      "  filename: hmi.sharp_cea_720s.377.20110216_093600_TAI.Br_err.fits\n",
      "  -> AR_377_series/hmi.sharp_cea_720s.377.20110216_093600_TAI.Br_err.fits\n",
      "Downloading file 3175 of 3600...\n",
      "    record: hmi.sharp_cea_720s[377][2011.02.16_09:48:00_TAI]\n",
      "  filename: hmi.sharp_cea_720s.377.20110216_094800_TAI.Bp.fits\n",
      "  -> AR_377_series/hmi.sharp_cea_720s.377.20110216_094800_TAI.Bp.fits\n",
      "Downloading file 3176 of 3600...\n",
      "    record: hmi.sharp_cea_720s[377][2011.02.16_09:48:00_TAI]\n",
      "  filename: hmi.sharp_cea_720s.377.20110216_094800_TAI.Bt.fits\n",
      "  -> AR_377_series/hmi.sharp_cea_720s.377.20110216_094800_TAI.Bt.fits\n",
      "Downloading file 3177 of 3600...\n",
      "    record: hmi.sharp_cea_720s[377][2011.02.16_09:48:00_TAI]\n",
      "  filename: hmi.sharp_cea_720s.377.20110216_094800_TAI.Br.fits\n",
      "  -> AR_377_series/hmi.sharp_cea_720s.377.20110216_094800_TAI.Br.fits\n",
      "Downloading file 3178 of 3600...\n",
      "    record: hmi.sharp_cea_720s[377][2011.02.16_09:48:00_TAI]\n",
      "  filename: hmi.sharp_cea_720s.377.20110216_094800_TAI.Bp_err.fits\n",
      "  -> AR_377_series/hmi.sharp_cea_720s.377.20110216_094800_TAI.Bp_err.fits\n",
      "Downloading file 3179 of 3600...\n",
      "    record: hmi.sharp_cea_720s[377][2011.02.16_09:48:00_TAI]\n",
      "  filename: hmi.sharp_cea_720s.377.20110216_094800_TAI.Bt_err.fits\n",
      "  -> AR_377_series/hmi.sharp_cea_720s.377.20110216_094800_TAI.Bt_err.fits\n",
      "Downloading file 3180 of 3600...\n",
      "    record: hmi.sharp_cea_720s[377][2011.02.16_09:48:00_TAI]\n",
      "  filename: hmi.sharp_cea_720s.377.20110216_094800_TAI.Br_err.fits\n",
      "  -> AR_377_series/hmi.sharp_cea_720s.377.20110216_094800_TAI.Br_err.fits\n",
      "Downloading file 3181 of 3600...\n",
      "    record: hmi.sharp_cea_720s[377][2011.02.16_10:00:00_TAI]\n",
      "  filename: hmi.sharp_cea_720s.377.20110216_100000_TAI.Bp.fits\n",
      "  -> AR_377_series/hmi.sharp_cea_720s.377.20110216_100000_TAI.Bp.fits\n",
      "Downloading file 3182 of 3600...\n",
      "    record: hmi.sharp_cea_720s[377][2011.02.16_10:00:00_TAI]\n",
      "  filename: hmi.sharp_cea_720s.377.20110216_100000_TAI.Bt.fits\n",
      "  -> AR_377_series/hmi.sharp_cea_720s.377.20110216_100000_TAI.Bt.fits\n",
      "Downloading file 3183 of 3600...\n",
      "    record: hmi.sharp_cea_720s[377][2011.02.16_10:00:00_TAI]\n",
      "  filename: hmi.sharp_cea_720s.377.20110216_100000_TAI.Br.fits\n",
      "  -> AR_377_series/hmi.sharp_cea_720s.377.20110216_100000_TAI.Br.fits\n",
      "Downloading file 3184 of 3600...\n",
      "    record: hmi.sharp_cea_720s[377][2011.02.16_10:00:00_TAI]\n",
      "  filename: hmi.sharp_cea_720s.377.20110216_100000_TAI.Bp_err.fits\n",
      "  -> AR_377_series/hmi.sharp_cea_720s.377.20110216_100000_TAI.Bp_err.fits\n",
      "Downloading file 3185 of 3600...\n",
      "    record: hmi.sharp_cea_720s[377][2011.02.16_10:00:00_TAI]\n",
      "  filename: hmi.sharp_cea_720s.377.20110216_100000_TAI.Bt_err.fits\n",
      "  -> AR_377_series/hmi.sharp_cea_720s.377.20110216_100000_TAI.Bt_err.fits\n",
      "Downloading file 3186 of 3600...\n",
      "    record: hmi.sharp_cea_720s[377][2011.02.16_10:00:00_TAI]\n",
      "  filename: hmi.sharp_cea_720s.377.20110216_100000_TAI.Br_err.fits\n",
      "  -> AR_377_series/hmi.sharp_cea_720s.377.20110216_100000_TAI.Br_err.fits\n",
      "Downloading file 3187 of 3600...\n",
      "    record: hmi.sharp_cea_720s[377][2011.02.16_10:12:00_TAI]\n",
      "  filename: hmi.sharp_cea_720s.377.20110216_101200_TAI.Bp.fits\n",
      "  -> AR_377_series/hmi.sharp_cea_720s.377.20110216_101200_TAI.Bp.fits\n",
      "Downloading file 3188 of 3600...\n",
      "    record: hmi.sharp_cea_720s[377][2011.02.16_10:12:00_TAI]\n",
      "  filename: hmi.sharp_cea_720s.377.20110216_101200_TAI.Bt.fits\n",
      "  -> AR_377_series/hmi.sharp_cea_720s.377.20110216_101200_TAI.Bt.fits\n",
      "Downloading file 3189 of 3600...\n",
      "    record: hmi.sharp_cea_720s[377][2011.02.16_10:12:00_TAI]\n",
      "  filename: hmi.sharp_cea_720s.377.20110216_101200_TAI.Br.fits\n",
      "  -> AR_377_series/hmi.sharp_cea_720s.377.20110216_101200_TAI.Br.fits\n",
      "Downloading file 3190 of 3600...\n",
      "    record: hmi.sharp_cea_720s[377][2011.02.16_10:12:00_TAI]\n",
      "  filename: hmi.sharp_cea_720s.377.20110216_101200_TAI.Bp_err.fits\n",
      "  -> AR_377_series/hmi.sharp_cea_720s.377.20110216_101200_TAI.Bp_err.fits\n",
      "Downloading file 3191 of 3600...\n",
      "    record: hmi.sharp_cea_720s[377][2011.02.16_10:12:00_TAI]\n",
      "  filename: hmi.sharp_cea_720s.377.20110216_101200_TAI.Bt_err.fits\n",
      "  -> AR_377_series/hmi.sharp_cea_720s.377.20110216_101200_TAI.Bt_err.fits\n",
      "Downloading file 3192 of 3600...\n",
      "    record: hmi.sharp_cea_720s[377][2011.02.16_10:12:00_TAI]\n",
      "  filename: hmi.sharp_cea_720s.377.20110216_101200_TAI.Br_err.fits\n",
      "  -> AR_377_series/hmi.sharp_cea_720s.377.20110216_101200_TAI.Br_err.fits\n",
      "Downloading file 3193 of 3600...\n",
      "    record: hmi.sharp_cea_720s[377][2011.02.16_10:24:00_TAI]\n",
      "  filename: hmi.sharp_cea_720s.377.20110216_102400_TAI.Bp.fits\n",
      "  -> AR_377_series/hmi.sharp_cea_720s.377.20110216_102400_TAI.Bp.fits\n",
      "Downloading file 3194 of 3600...\n",
      "    record: hmi.sharp_cea_720s[377][2011.02.16_10:24:00_TAI]\n",
      "  filename: hmi.sharp_cea_720s.377.20110216_102400_TAI.Bt.fits\n",
      "  -> AR_377_series/hmi.sharp_cea_720s.377.20110216_102400_TAI.Bt.fits\n",
      "Downloading file 3195 of 3600...\n",
      "    record: hmi.sharp_cea_720s[377][2011.02.16_10:24:00_TAI]\n",
      "  filename: hmi.sharp_cea_720s.377.20110216_102400_TAI.Br.fits\n",
      "  -> AR_377_series/hmi.sharp_cea_720s.377.20110216_102400_TAI.Br.fits\n",
      "Downloading file 3196 of 3600...\n",
      "    record: hmi.sharp_cea_720s[377][2011.02.16_10:24:00_TAI]\n",
      "  filename: hmi.sharp_cea_720s.377.20110216_102400_TAI.Bp_err.fits\n",
      "  -> AR_377_series/hmi.sharp_cea_720s.377.20110216_102400_TAI.Bp_err.fits\n",
      "Downloading file 3197 of 3600...\n",
      "    record: hmi.sharp_cea_720s[377][2011.02.16_10:24:00_TAI]\n",
      "  filename: hmi.sharp_cea_720s.377.20110216_102400_TAI.Bt_err.fits\n",
      "  -> AR_377_series/hmi.sharp_cea_720s.377.20110216_102400_TAI.Bt_err.fits\n",
      "Downloading file 3198 of 3600...\n",
      "    record: hmi.sharp_cea_720s[377][2011.02.16_10:24:00_TAI]\n",
      "  filename: hmi.sharp_cea_720s.377.20110216_102400_TAI.Br_err.fits\n",
      "  -> AR_377_series/hmi.sharp_cea_720s.377.20110216_102400_TAI.Br_err.fits\n",
      "Downloading file 3199 of 3600...\n",
      "    record: hmi.sharp_cea_720s[377][2011.02.16_10:36:00_TAI]\n",
      "  filename: hmi.sharp_cea_720s.377.20110216_103600_TAI.Bp.fits\n",
      "  -> AR_377_series/hmi.sharp_cea_720s.377.20110216_103600_TAI.Bp.fits\n",
      "Downloading file 3200 of 3600...\n",
      "    record: hmi.sharp_cea_720s[377][2011.02.16_10:36:00_TAI]\n",
      "  filename: hmi.sharp_cea_720s.377.20110216_103600_TAI.Bt.fits\n",
      "  -> AR_377_series/hmi.sharp_cea_720s.377.20110216_103600_TAI.Bt.fits\n",
      "Downloading file 3201 of 3600...\n",
      "    record: hmi.sharp_cea_720s[377][2011.02.16_10:36:00_TAI]\n",
      "  filename: hmi.sharp_cea_720s.377.20110216_103600_TAI.Br.fits\n",
      "  -> AR_377_series/hmi.sharp_cea_720s.377.20110216_103600_TAI.Br.fits\n",
      "Downloading file 3202 of 3600...\n",
      "    record: hmi.sharp_cea_720s[377][2011.02.16_10:36:00_TAI]\n",
      "  filename: hmi.sharp_cea_720s.377.20110216_103600_TAI.Bp_err.fits\n",
      "  -> AR_377_series/hmi.sharp_cea_720s.377.20110216_103600_TAI.Bp_err.fits\n",
      "Downloading file 3203 of 3600...\n",
      "    record: hmi.sharp_cea_720s[377][2011.02.16_10:36:00_TAI]\n",
      "  filename: hmi.sharp_cea_720s.377.20110216_103600_TAI.Bt_err.fits\n",
      "  -> AR_377_series/hmi.sharp_cea_720s.377.20110216_103600_TAI.Bt_err.fits\n",
      "Downloading file 3204 of 3600...\n",
      "    record: hmi.sharp_cea_720s[377][2011.02.16_10:36:00_TAI]\n",
      "  filename: hmi.sharp_cea_720s.377.20110216_103600_TAI.Br_err.fits\n",
      "  -> AR_377_series/hmi.sharp_cea_720s.377.20110216_103600_TAI.Br_err.fits\n",
      "Downloading file 3205 of 3600...\n",
      "    record: hmi.sharp_cea_720s[377][2011.02.16_10:48:00_TAI]\n",
      "  filename: hmi.sharp_cea_720s.377.20110216_104800_TAI.Bp.fits\n",
      "  -> AR_377_series/hmi.sharp_cea_720s.377.20110216_104800_TAI.Bp.fits\n",
      "Downloading file 3206 of 3600...\n",
      "    record: hmi.sharp_cea_720s[377][2011.02.16_10:48:00_TAI]\n",
      "  filename: hmi.sharp_cea_720s.377.20110216_104800_TAI.Bt.fits\n",
      "  -> AR_377_series/hmi.sharp_cea_720s.377.20110216_104800_TAI.Bt.fits\n",
      "Downloading file 3207 of 3600...\n",
      "    record: hmi.sharp_cea_720s[377][2011.02.16_10:48:00_TAI]\n",
      "  filename: hmi.sharp_cea_720s.377.20110216_104800_TAI.Br.fits\n",
      "  -> AR_377_series/hmi.sharp_cea_720s.377.20110216_104800_TAI.Br.fits\n",
      "Downloading file 3208 of 3600...\n",
      "    record: hmi.sharp_cea_720s[377][2011.02.16_10:48:00_TAI]\n",
      "  filename: hmi.sharp_cea_720s.377.20110216_104800_TAI.Bp_err.fits\n",
      "  -> AR_377_series/hmi.sharp_cea_720s.377.20110216_104800_TAI.Bp_err.fits\n",
      "Downloading file 3209 of 3600...\n",
      "    record: hmi.sharp_cea_720s[377][2011.02.16_10:48:00_TAI]\n",
      "  filename: hmi.sharp_cea_720s.377.20110216_104800_TAI.Bt_err.fits\n",
      "  -> AR_377_series/hmi.sharp_cea_720s.377.20110216_104800_TAI.Bt_err.fits\n",
      "Downloading file 3210 of 3600...\n",
      "    record: hmi.sharp_cea_720s[377][2011.02.16_10:48:00_TAI]\n",
      "  filename: hmi.sharp_cea_720s.377.20110216_104800_TAI.Br_err.fits\n",
      "  -> AR_377_series/hmi.sharp_cea_720s.377.20110216_104800_TAI.Br_err.fits\n",
      "Downloading file 3211 of 3600...\n",
      "    record: hmi.sharp_cea_720s[377][2011.02.16_11:00:00_TAI]\n",
      "  filename: hmi.sharp_cea_720s.377.20110216_110000_TAI.Bp.fits\n",
      "  -> AR_377_series/hmi.sharp_cea_720s.377.20110216_110000_TAI.Bp.fits\n",
      "Downloading file 3212 of 3600...\n",
      "    record: hmi.sharp_cea_720s[377][2011.02.16_11:00:00_TAI]\n",
      "  filename: hmi.sharp_cea_720s.377.20110216_110000_TAI.Bt.fits\n",
      "  -> AR_377_series/hmi.sharp_cea_720s.377.20110216_110000_TAI.Bt.fits\n",
      "Downloading file 3213 of 3600...\n",
      "    record: hmi.sharp_cea_720s[377][2011.02.16_11:00:00_TAI]\n",
      "  filename: hmi.sharp_cea_720s.377.20110216_110000_TAI.Br.fits\n",
      "  -> AR_377_series/hmi.sharp_cea_720s.377.20110216_110000_TAI.Br.fits\n",
      "Downloading file 3214 of 3600...\n",
      "    record: hmi.sharp_cea_720s[377][2011.02.16_11:00:00_TAI]\n",
      "  filename: hmi.sharp_cea_720s.377.20110216_110000_TAI.Bp_err.fits\n",
      "  -> AR_377_series/hmi.sharp_cea_720s.377.20110216_110000_TAI.Bp_err.fits\n",
      "Downloading file 3215 of 3600...\n",
      "    record: hmi.sharp_cea_720s[377][2011.02.16_11:00:00_TAI]\n",
      "  filename: hmi.sharp_cea_720s.377.20110216_110000_TAI.Bt_err.fits\n",
      "  -> AR_377_series/hmi.sharp_cea_720s.377.20110216_110000_TAI.Bt_err.fits\n",
      "Downloading file 3216 of 3600...\n",
      "    record: hmi.sharp_cea_720s[377][2011.02.16_11:00:00_TAI]\n",
      "  filename: hmi.sharp_cea_720s.377.20110216_110000_TAI.Br_err.fits\n",
      "  -> AR_377_series/hmi.sharp_cea_720s.377.20110216_110000_TAI.Br_err.fits\n",
      "Downloading file 3217 of 3600...\n",
      "    record: hmi.sharp_cea_720s[377][2011.02.16_11:12:00_TAI]\n",
      "  filename: hmi.sharp_cea_720s.377.20110216_111200_TAI.Bp.fits\n",
      "  -> AR_377_series/hmi.sharp_cea_720s.377.20110216_111200_TAI.Bp.fits\n",
      "Downloading file 3218 of 3600...\n",
      "    record: hmi.sharp_cea_720s[377][2011.02.16_11:12:00_TAI]\n",
      "  filename: hmi.sharp_cea_720s.377.20110216_111200_TAI.Bt.fits\n",
      "  -> AR_377_series/hmi.sharp_cea_720s.377.20110216_111200_TAI.Bt.fits\n",
      "Downloading file 3219 of 3600...\n",
      "    record: hmi.sharp_cea_720s[377][2011.02.16_11:12:00_TAI]\n",
      "  filename: hmi.sharp_cea_720s.377.20110216_111200_TAI.Br.fits\n",
      "  -> AR_377_series/hmi.sharp_cea_720s.377.20110216_111200_TAI.Br.fits\n",
      "Downloading file 3220 of 3600...\n",
      "    record: hmi.sharp_cea_720s[377][2011.02.16_11:12:00_TAI]\n",
      "  filename: hmi.sharp_cea_720s.377.20110216_111200_TAI.Bp_err.fits\n",
      "  -> AR_377_series/hmi.sharp_cea_720s.377.20110216_111200_TAI.Bp_err.fits\n",
      "Downloading file 3221 of 3600...\n",
      "    record: hmi.sharp_cea_720s[377][2011.02.16_11:12:00_TAI]\n",
      "  filename: hmi.sharp_cea_720s.377.20110216_111200_TAI.Bt_err.fits\n",
      "  -> AR_377_series/hmi.sharp_cea_720s.377.20110216_111200_TAI.Bt_err.fits\n",
      "Downloading file 3222 of 3600...\n",
      "    record: hmi.sharp_cea_720s[377][2011.02.16_11:12:00_TAI]\n",
      "  filename: hmi.sharp_cea_720s.377.20110216_111200_TAI.Br_err.fits\n",
      "  -> AR_377_series/hmi.sharp_cea_720s.377.20110216_111200_TAI.Br_err.fits\n",
      "Downloading file 3223 of 3600...\n",
      "    record: hmi.sharp_cea_720s[377][2011.02.16_11:24:00_TAI]\n",
      "  filename: hmi.sharp_cea_720s.377.20110216_112400_TAI.Bp.fits\n",
      "  -> AR_377_series/hmi.sharp_cea_720s.377.20110216_112400_TAI.Bp.fits\n",
      "Downloading file 3224 of 3600...\n",
      "    record: hmi.sharp_cea_720s[377][2011.02.16_11:24:00_TAI]\n",
      "  filename: hmi.sharp_cea_720s.377.20110216_112400_TAI.Bt.fits\n",
      "  -> AR_377_series/hmi.sharp_cea_720s.377.20110216_112400_TAI.Bt.fits\n",
      "Downloading file 3225 of 3600...\n",
      "    record: hmi.sharp_cea_720s[377][2011.02.16_11:24:00_TAI]\n",
      "  filename: hmi.sharp_cea_720s.377.20110216_112400_TAI.Br.fits\n",
      "  -> AR_377_series/hmi.sharp_cea_720s.377.20110216_112400_TAI.Br.fits\n",
      "Downloading file 3226 of 3600...\n",
      "    record: hmi.sharp_cea_720s[377][2011.02.16_11:24:00_TAI]\n",
      "  filename: hmi.sharp_cea_720s.377.20110216_112400_TAI.Bp_err.fits\n",
      "  -> AR_377_series/hmi.sharp_cea_720s.377.20110216_112400_TAI.Bp_err.fits\n",
      "Downloading file 3227 of 3600...\n",
      "    record: hmi.sharp_cea_720s[377][2011.02.16_11:24:00_TAI]\n",
      "  filename: hmi.sharp_cea_720s.377.20110216_112400_TAI.Bt_err.fits\n",
      "  -> AR_377_series/hmi.sharp_cea_720s.377.20110216_112400_TAI.Bt_err.fits\n",
      "Downloading file 3228 of 3600...\n",
      "    record: hmi.sharp_cea_720s[377][2011.02.16_11:24:00_TAI]\n",
      "  filename: hmi.sharp_cea_720s.377.20110216_112400_TAI.Br_err.fits\n",
      "  -> AR_377_series/hmi.sharp_cea_720s.377.20110216_112400_TAI.Br_err.fits\n",
      "Downloading file 3229 of 3600...\n",
      "    record: hmi.sharp_cea_720s[377][2011.02.16_11:36:00_TAI]\n",
      "  filename: hmi.sharp_cea_720s.377.20110216_113600_TAI.Bp.fits\n",
      "  -> AR_377_series/hmi.sharp_cea_720s.377.20110216_113600_TAI.Bp.fits\n",
      "Downloading file 3230 of 3600...\n",
      "    record: hmi.sharp_cea_720s[377][2011.02.16_11:36:00_TAI]\n",
      "  filename: hmi.sharp_cea_720s.377.20110216_113600_TAI.Bt.fits\n",
      "  -> AR_377_series/hmi.sharp_cea_720s.377.20110216_113600_TAI.Bt.fits\n",
      "Downloading file 3231 of 3600...\n",
      "    record: hmi.sharp_cea_720s[377][2011.02.16_11:36:00_TAI]\n",
      "  filename: hmi.sharp_cea_720s.377.20110216_113600_TAI.Br.fits\n",
      "  -> AR_377_series/hmi.sharp_cea_720s.377.20110216_113600_TAI.Br.fits\n",
      "Downloading file 3232 of 3600...\n",
      "    record: hmi.sharp_cea_720s[377][2011.02.16_11:36:00_TAI]\n",
      "  filename: hmi.sharp_cea_720s.377.20110216_113600_TAI.Bp_err.fits\n",
      "  -> AR_377_series/hmi.sharp_cea_720s.377.20110216_113600_TAI.Bp_err.fits\n",
      "Downloading file 3233 of 3600...\n",
      "    record: hmi.sharp_cea_720s[377][2011.02.16_11:36:00_TAI]\n",
      "  filename: hmi.sharp_cea_720s.377.20110216_113600_TAI.Bt_err.fits\n",
      "  -> AR_377_series/hmi.sharp_cea_720s.377.20110216_113600_TAI.Bt_err.fits\n",
      "Downloading file 3234 of 3600...\n",
      "    record: hmi.sharp_cea_720s[377][2011.02.16_11:36:00_TAI]\n",
      "  filename: hmi.sharp_cea_720s.377.20110216_113600_TAI.Br_err.fits\n",
      "  -> AR_377_series/hmi.sharp_cea_720s.377.20110216_113600_TAI.Br_err.fits\n",
      "Downloading file 3235 of 3600...\n",
      "    record: hmi.sharp_cea_720s[377][2011.02.16_11:48:00_TAI]\n",
      "  filename: hmi.sharp_cea_720s.377.20110216_114800_TAI.Bp.fits\n",
      "  -> AR_377_series/hmi.sharp_cea_720s.377.20110216_114800_TAI.Bp.fits\n",
      "Downloading file 3236 of 3600...\n",
      "    record: hmi.sharp_cea_720s[377][2011.02.16_11:48:00_TAI]\n",
      "  filename: hmi.sharp_cea_720s.377.20110216_114800_TAI.Bt.fits\n",
      "  -> AR_377_series/hmi.sharp_cea_720s.377.20110216_114800_TAI.Bt.fits\n",
      "Downloading file 3237 of 3600...\n",
      "    record: hmi.sharp_cea_720s[377][2011.02.16_11:48:00_TAI]\n",
      "  filename: hmi.sharp_cea_720s.377.20110216_114800_TAI.Br.fits\n",
      "  -> AR_377_series/hmi.sharp_cea_720s.377.20110216_114800_TAI.Br.fits\n",
      "Downloading file 3238 of 3600...\n",
      "    record: hmi.sharp_cea_720s[377][2011.02.16_11:48:00_TAI]\n",
      "  filename: hmi.sharp_cea_720s.377.20110216_114800_TAI.Bp_err.fits\n",
      "  -> AR_377_series/hmi.sharp_cea_720s.377.20110216_114800_TAI.Bp_err.fits\n",
      "Downloading file 3239 of 3600...\n",
      "    record: hmi.sharp_cea_720s[377][2011.02.16_11:48:00_TAI]\n",
      "  filename: hmi.sharp_cea_720s.377.20110216_114800_TAI.Bt_err.fits\n",
      "  -> AR_377_series/hmi.sharp_cea_720s.377.20110216_114800_TAI.Bt_err.fits\n",
      "Downloading file 3240 of 3600...\n",
      "    record: hmi.sharp_cea_720s[377][2011.02.16_11:48:00_TAI]\n",
      "  filename: hmi.sharp_cea_720s.377.20110216_114800_TAI.Br_err.fits\n",
      "  -> AR_377_series/hmi.sharp_cea_720s.377.20110216_114800_TAI.Br_err.fits\n",
      "Downloading file 3241 of 3600...\n",
      "    record: hmi.sharp_cea_720s[377][2011.02.16_12:00:00_TAI]\n",
      "  filename: hmi.sharp_cea_720s.377.20110216_120000_TAI.Bp.fits\n",
      "  -> AR_377_series/hmi.sharp_cea_720s.377.20110216_120000_TAI.Bp.fits\n",
      "Downloading file 3242 of 3600...\n",
      "    record: hmi.sharp_cea_720s[377][2011.02.16_12:00:00_TAI]\n",
      "  filename: hmi.sharp_cea_720s.377.20110216_120000_TAI.Bt.fits\n",
      "  -> AR_377_series/hmi.sharp_cea_720s.377.20110216_120000_TAI.Bt.fits\n",
      "Downloading file 3243 of 3600...\n",
      "    record: hmi.sharp_cea_720s[377][2011.02.16_12:00:00_TAI]\n",
      "  filename: hmi.sharp_cea_720s.377.20110216_120000_TAI.Br.fits\n",
      "  -> AR_377_series/hmi.sharp_cea_720s.377.20110216_120000_TAI.Br.fits\n",
      "Downloading file 3244 of 3600...\n",
      "    record: hmi.sharp_cea_720s[377][2011.02.16_12:00:00_TAI]\n",
      "  filename: hmi.sharp_cea_720s.377.20110216_120000_TAI.Bp_err.fits\n",
      "  -> AR_377_series/hmi.sharp_cea_720s.377.20110216_120000_TAI.Bp_err.fits\n",
      "Downloading file 3245 of 3600...\n",
      "    record: hmi.sharp_cea_720s[377][2011.02.16_12:00:00_TAI]\n",
      "  filename: hmi.sharp_cea_720s.377.20110216_120000_TAI.Bt_err.fits\n",
      "  -> AR_377_series/hmi.sharp_cea_720s.377.20110216_120000_TAI.Bt_err.fits\n",
      "Downloading file 3246 of 3600...\n",
      "    record: hmi.sharp_cea_720s[377][2011.02.16_12:00:00_TAI]\n",
      "  filename: hmi.sharp_cea_720s.377.20110216_120000_TAI.Br_err.fits\n",
      "  -> AR_377_series/hmi.sharp_cea_720s.377.20110216_120000_TAI.Br_err.fits\n",
      "Downloading file 3247 of 3600...\n",
      "    record: hmi.sharp_cea_720s[377][2011.02.16_12:12:00_TAI]\n",
      "  filename: hmi.sharp_cea_720s.377.20110216_121200_TAI.Bp.fits\n",
      "  -> AR_377_series/hmi.sharp_cea_720s.377.20110216_121200_TAI.Bp.fits\n",
      "Downloading file 3248 of 3600...\n",
      "    record: hmi.sharp_cea_720s[377][2011.02.16_12:12:00_TAI]\n",
      "  filename: hmi.sharp_cea_720s.377.20110216_121200_TAI.Bt.fits\n",
      "  -> AR_377_series/hmi.sharp_cea_720s.377.20110216_121200_TAI.Bt.fits\n",
      "Downloading file 3249 of 3600...\n",
      "    record: hmi.sharp_cea_720s[377][2011.02.16_12:12:00_TAI]\n",
      "  filename: hmi.sharp_cea_720s.377.20110216_121200_TAI.Br.fits\n",
      "  -> AR_377_series/hmi.sharp_cea_720s.377.20110216_121200_TAI.Br.fits\n",
      "Downloading file 3250 of 3600...\n",
      "    record: hmi.sharp_cea_720s[377][2011.02.16_12:12:00_TAI]\n",
      "  filename: hmi.sharp_cea_720s.377.20110216_121200_TAI.Bp_err.fits\n",
      "  -> AR_377_series/hmi.sharp_cea_720s.377.20110216_121200_TAI.Bp_err.fits\n",
      "Downloading file 3251 of 3600...\n",
      "    record: hmi.sharp_cea_720s[377][2011.02.16_12:12:00_TAI]\n",
      "  filename: hmi.sharp_cea_720s.377.20110216_121200_TAI.Bt_err.fits\n",
      "  -> AR_377_series/hmi.sharp_cea_720s.377.20110216_121200_TAI.Bt_err.fits\n",
      "Downloading file 3252 of 3600...\n",
      "    record: hmi.sharp_cea_720s[377][2011.02.16_12:12:00_TAI]\n",
      "  filename: hmi.sharp_cea_720s.377.20110216_121200_TAI.Br_err.fits\n",
      "  -> AR_377_series/hmi.sharp_cea_720s.377.20110216_121200_TAI.Br_err.fits\n",
      "Downloading file 3253 of 3600...\n",
      "    record: hmi.sharp_cea_720s[377][2011.02.16_12:24:00_TAI]\n",
      "  filename: hmi.sharp_cea_720s.377.20110216_122400_TAI.Bp.fits\n",
      "  -> AR_377_series/hmi.sharp_cea_720s.377.20110216_122400_TAI.Bp.fits\n",
      "Downloading file 3254 of 3600...\n",
      "    record: hmi.sharp_cea_720s[377][2011.02.16_12:24:00_TAI]\n",
      "  filename: hmi.sharp_cea_720s.377.20110216_122400_TAI.Bt.fits\n",
      "  -> AR_377_series/hmi.sharp_cea_720s.377.20110216_122400_TAI.Bt.fits\n",
      "Downloading file 3255 of 3600...\n",
      "    record: hmi.sharp_cea_720s[377][2011.02.16_12:24:00_TAI]\n",
      "  filename: hmi.sharp_cea_720s.377.20110216_122400_TAI.Br.fits\n",
      "  -> AR_377_series/hmi.sharp_cea_720s.377.20110216_122400_TAI.Br.fits\n",
      "Downloading file 3256 of 3600...\n",
      "    record: hmi.sharp_cea_720s[377][2011.02.16_12:24:00_TAI]\n",
      "  filename: hmi.sharp_cea_720s.377.20110216_122400_TAI.Bp_err.fits\n",
      "  -> AR_377_series/hmi.sharp_cea_720s.377.20110216_122400_TAI.Bp_err.fits\n",
      "Downloading file 3257 of 3600...\n",
      "    record: hmi.sharp_cea_720s[377][2011.02.16_12:24:00_TAI]\n",
      "  filename: hmi.sharp_cea_720s.377.20110216_122400_TAI.Bt_err.fits\n",
      "  -> AR_377_series/hmi.sharp_cea_720s.377.20110216_122400_TAI.Bt_err.fits\n",
      "Downloading file 3258 of 3600...\n",
      "    record: hmi.sharp_cea_720s[377][2011.02.16_12:24:00_TAI]\n",
      "  filename: hmi.sharp_cea_720s.377.20110216_122400_TAI.Br_err.fits\n",
      "  -> AR_377_series/hmi.sharp_cea_720s.377.20110216_122400_TAI.Br_err.fits\n",
      "Downloading file 3259 of 3600...\n",
      "    record: hmi.sharp_cea_720s[377][2011.02.16_12:36:00_TAI]\n",
      "  filename: hmi.sharp_cea_720s.377.20110216_123600_TAI.Bp.fits\n",
      "  -> AR_377_series/hmi.sharp_cea_720s.377.20110216_123600_TAI.Bp.fits\n",
      "Downloading file 3260 of 3600...\n",
      "    record: hmi.sharp_cea_720s[377][2011.02.16_12:36:00_TAI]\n",
      "  filename: hmi.sharp_cea_720s.377.20110216_123600_TAI.Bt.fits\n",
      "  -> AR_377_series/hmi.sharp_cea_720s.377.20110216_123600_TAI.Bt.fits\n",
      "Downloading file 3261 of 3600...\n",
      "    record: hmi.sharp_cea_720s[377][2011.02.16_12:36:00_TAI]\n",
      "  filename: hmi.sharp_cea_720s.377.20110216_123600_TAI.Br.fits\n",
      "  -> AR_377_series/hmi.sharp_cea_720s.377.20110216_123600_TAI.Br.fits\n",
      "Downloading file 3262 of 3600...\n",
      "    record: hmi.sharp_cea_720s[377][2011.02.16_12:36:00_TAI]\n",
      "  filename: hmi.sharp_cea_720s.377.20110216_123600_TAI.Bp_err.fits\n",
      "  -> AR_377_series/hmi.sharp_cea_720s.377.20110216_123600_TAI.Bp_err.fits\n",
      "Downloading file 3263 of 3600...\n",
      "    record: hmi.sharp_cea_720s[377][2011.02.16_12:36:00_TAI]\n",
      "  filename: hmi.sharp_cea_720s.377.20110216_123600_TAI.Bt_err.fits\n",
      "  -> AR_377_series/hmi.sharp_cea_720s.377.20110216_123600_TAI.Bt_err.fits\n",
      "Downloading file 3264 of 3600...\n",
      "    record: hmi.sharp_cea_720s[377][2011.02.16_12:36:00_TAI]\n",
      "  filename: hmi.sharp_cea_720s.377.20110216_123600_TAI.Br_err.fits\n",
      "  -> AR_377_series/hmi.sharp_cea_720s.377.20110216_123600_TAI.Br_err.fits\n",
      "Downloading file 3265 of 3600...\n",
      "    record: hmi.sharp_cea_720s[377][2011.02.16_12:48:00_TAI]\n",
      "  filename: hmi.sharp_cea_720s.377.20110216_124800_TAI.Bp.fits\n",
      "  -> AR_377_series/hmi.sharp_cea_720s.377.20110216_124800_TAI.Bp.fits\n",
      "Downloading file 3266 of 3600...\n",
      "    record: hmi.sharp_cea_720s[377][2011.02.16_12:48:00_TAI]\n",
      "  filename: hmi.sharp_cea_720s.377.20110216_124800_TAI.Bt.fits\n",
      "  -> AR_377_series/hmi.sharp_cea_720s.377.20110216_124800_TAI.Bt.fits\n",
      "Downloading file 3267 of 3600...\n",
      "    record: hmi.sharp_cea_720s[377][2011.02.16_12:48:00_TAI]\n",
      "  filename: hmi.sharp_cea_720s.377.20110216_124800_TAI.Br.fits\n",
      "  -> AR_377_series/hmi.sharp_cea_720s.377.20110216_124800_TAI.Br.fits\n",
      "Downloading file 3268 of 3600...\n",
      "    record: hmi.sharp_cea_720s[377][2011.02.16_12:48:00_TAI]\n",
      "  filename: hmi.sharp_cea_720s.377.20110216_124800_TAI.Bp_err.fits\n",
      "  -> AR_377_series/hmi.sharp_cea_720s.377.20110216_124800_TAI.Bp_err.fits\n",
      "Downloading file 3269 of 3600...\n",
      "    record: hmi.sharp_cea_720s[377][2011.02.16_12:48:00_TAI]\n",
      "  filename: hmi.sharp_cea_720s.377.20110216_124800_TAI.Bt_err.fits\n",
      "  -> AR_377_series/hmi.sharp_cea_720s.377.20110216_124800_TAI.Bt_err.fits\n",
      "Downloading file 3270 of 3600...\n",
      "    record: hmi.sharp_cea_720s[377][2011.02.16_12:48:00_TAI]\n",
      "  filename: hmi.sharp_cea_720s.377.20110216_124800_TAI.Br_err.fits\n",
      "  -> AR_377_series/hmi.sharp_cea_720s.377.20110216_124800_TAI.Br_err.fits\n",
      "Downloading file 3271 of 3600...\n",
      "    record: hmi.sharp_cea_720s[377][2011.02.16_13:00:00_TAI]\n",
      "  filename: hmi.sharp_cea_720s.377.20110216_130000_TAI.Bp.fits\n",
      "  -> AR_377_series/hmi.sharp_cea_720s.377.20110216_130000_TAI.Bp.fits\n",
      "Downloading file 3272 of 3600...\n",
      "    record: hmi.sharp_cea_720s[377][2011.02.16_13:00:00_TAI]\n",
      "  filename: hmi.sharp_cea_720s.377.20110216_130000_TAI.Bt.fits\n",
      "  -> AR_377_series/hmi.sharp_cea_720s.377.20110216_130000_TAI.Bt.fits\n",
      "Downloading file 3273 of 3600...\n",
      "    record: hmi.sharp_cea_720s[377][2011.02.16_13:00:00_TAI]\n",
      "  filename: hmi.sharp_cea_720s.377.20110216_130000_TAI.Br.fits\n",
      "  -> AR_377_series/hmi.sharp_cea_720s.377.20110216_130000_TAI.Br.fits\n",
      "Downloading file 3274 of 3600...\n",
      "    record: hmi.sharp_cea_720s[377][2011.02.16_13:00:00_TAI]\n",
      "  filename: hmi.sharp_cea_720s.377.20110216_130000_TAI.Bp_err.fits\n",
      "  -> AR_377_series/hmi.sharp_cea_720s.377.20110216_130000_TAI.Bp_err.fits\n",
      "Downloading file 3275 of 3600...\n",
      "    record: hmi.sharp_cea_720s[377][2011.02.16_13:00:00_TAI]\n",
      "  filename: hmi.sharp_cea_720s.377.20110216_130000_TAI.Bt_err.fits\n",
      "  -> AR_377_series/hmi.sharp_cea_720s.377.20110216_130000_TAI.Bt_err.fits\n",
      "Downloading file 3276 of 3600...\n",
      "    record: hmi.sharp_cea_720s[377][2011.02.16_13:00:00_TAI]\n",
      "  filename: hmi.sharp_cea_720s.377.20110216_130000_TAI.Br_err.fits\n",
      "  -> AR_377_series/hmi.sharp_cea_720s.377.20110216_130000_TAI.Br_err.fits\n",
      "Downloading file 3277 of 3600...\n",
      "    record: hmi.sharp_cea_720s[377][2011.02.16_13:12:00_TAI]\n",
      "  filename: hmi.sharp_cea_720s.377.20110216_131200_TAI.Bp.fits\n",
      "  -> AR_377_series/hmi.sharp_cea_720s.377.20110216_131200_TAI.Bp.fits\n",
      "Downloading file 3278 of 3600...\n",
      "    record: hmi.sharp_cea_720s[377][2011.02.16_13:12:00_TAI]\n",
      "  filename: hmi.sharp_cea_720s.377.20110216_131200_TAI.Bt.fits\n",
      "  -> AR_377_series/hmi.sharp_cea_720s.377.20110216_131200_TAI.Bt.fits\n",
      "Downloading file 3279 of 3600...\n",
      "    record: hmi.sharp_cea_720s[377][2011.02.16_13:12:00_TAI]\n",
      "  filename: hmi.sharp_cea_720s.377.20110216_131200_TAI.Br.fits\n",
      "  -> AR_377_series/hmi.sharp_cea_720s.377.20110216_131200_TAI.Br.fits\n",
      "Downloading file 3280 of 3600...\n",
      "    record: hmi.sharp_cea_720s[377][2011.02.16_13:12:00_TAI]\n",
      "  filename: hmi.sharp_cea_720s.377.20110216_131200_TAI.Bp_err.fits\n",
      "  -> AR_377_series/hmi.sharp_cea_720s.377.20110216_131200_TAI.Bp_err.fits\n",
      "Downloading file 3281 of 3600...\n",
      "    record: hmi.sharp_cea_720s[377][2011.02.16_13:12:00_TAI]\n",
      "  filename: hmi.sharp_cea_720s.377.20110216_131200_TAI.Bt_err.fits\n",
      "  -> AR_377_series/hmi.sharp_cea_720s.377.20110216_131200_TAI.Bt_err.fits\n",
      "Downloading file 3282 of 3600...\n",
      "    record: hmi.sharp_cea_720s[377][2011.02.16_13:12:00_TAI]\n",
      "  filename: hmi.sharp_cea_720s.377.20110216_131200_TAI.Br_err.fits\n",
      "  -> AR_377_series/hmi.sharp_cea_720s.377.20110216_131200_TAI.Br_err.fits\n",
      "Downloading file 3283 of 3600...\n",
      "    record: hmi.sharp_cea_720s[377][2011.02.16_13:24:00_TAI]\n",
      "  filename: hmi.sharp_cea_720s.377.20110216_132400_TAI.Bp.fits\n",
      "  -> AR_377_series/hmi.sharp_cea_720s.377.20110216_132400_TAI.Bp.fits\n",
      "Downloading file 3284 of 3600...\n",
      "    record: hmi.sharp_cea_720s[377][2011.02.16_13:24:00_TAI]\n",
      "  filename: hmi.sharp_cea_720s.377.20110216_132400_TAI.Bt.fits\n",
      "  -> AR_377_series/hmi.sharp_cea_720s.377.20110216_132400_TAI.Bt.fits\n",
      "Downloading file 3285 of 3600...\n",
      "    record: hmi.sharp_cea_720s[377][2011.02.16_13:24:00_TAI]\n",
      "  filename: hmi.sharp_cea_720s.377.20110216_132400_TAI.Br.fits\n",
      "  -> AR_377_series/hmi.sharp_cea_720s.377.20110216_132400_TAI.Br.fits\n",
      "Downloading file 3286 of 3600...\n",
      "    record: hmi.sharp_cea_720s[377][2011.02.16_13:24:00_TAI]\n",
      "  filename: hmi.sharp_cea_720s.377.20110216_132400_TAI.Bp_err.fits\n",
      "  -> AR_377_series/hmi.sharp_cea_720s.377.20110216_132400_TAI.Bp_err.fits\n",
      "Downloading file 3287 of 3600...\n",
      "    record: hmi.sharp_cea_720s[377][2011.02.16_13:24:00_TAI]\n",
      "  filename: hmi.sharp_cea_720s.377.20110216_132400_TAI.Bt_err.fits\n",
      "  -> AR_377_series/hmi.sharp_cea_720s.377.20110216_132400_TAI.Bt_err.fits\n",
      "Downloading file 3288 of 3600...\n",
      "    record: hmi.sharp_cea_720s[377][2011.02.16_13:24:00_TAI]\n",
      "  filename: hmi.sharp_cea_720s.377.20110216_132400_TAI.Br_err.fits\n",
      "  -> AR_377_series/hmi.sharp_cea_720s.377.20110216_132400_TAI.Br_err.fits\n",
      "Downloading file 3289 of 3600...\n",
      "    record: hmi.sharp_cea_720s[377][2011.02.16_13:36:00_TAI]\n",
      "  filename: hmi.sharp_cea_720s.377.20110216_133600_TAI.Bp.fits\n",
      "  -> AR_377_series/hmi.sharp_cea_720s.377.20110216_133600_TAI.Bp.fits\n",
      "Downloading file 3290 of 3600...\n",
      "    record: hmi.sharp_cea_720s[377][2011.02.16_13:36:00_TAI]\n",
      "  filename: hmi.sharp_cea_720s.377.20110216_133600_TAI.Bt.fits\n",
      "  -> AR_377_series/hmi.sharp_cea_720s.377.20110216_133600_TAI.Bt.fits\n",
      "Downloading file 3291 of 3600...\n",
      "    record: hmi.sharp_cea_720s[377][2011.02.16_13:36:00_TAI]\n",
      "  filename: hmi.sharp_cea_720s.377.20110216_133600_TAI.Br.fits\n",
      "  -> AR_377_series/hmi.sharp_cea_720s.377.20110216_133600_TAI.Br.fits\n",
      "Downloading file 3292 of 3600...\n",
      "    record: hmi.sharp_cea_720s[377][2011.02.16_13:36:00_TAI]\n",
      "  filename: hmi.sharp_cea_720s.377.20110216_133600_TAI.Bp_err.fits\n",
      "  -> AR_377_series/hmi.sharp_cea_720s.377.20110216_133600_TAI.Bp_err.fits\n",
      "Downloading file 3293 of 3600...\n",
      "    record: hmi.sharp_cea_720s[377][2011.02.16_13:36:00_TAI]\n",
      "  filename: hmi.sharp_cea_720s.377.20110216_133600_TAI.Bt_err.fits\n",
      "  -> AR_377_series/hmi.sharp_cea_720s.377.20110216_133600_TAI.Bt_err.fits\n",
      "Downloading file 3294 of 3600...\n",
      "    record: hmi.sharp_cea_720s[377][2011.02.16_13:36:00_TAI]\n",
      "  filename: hmi.sharp_cea_720s.377.20110216_133600_TAI.Br_err.fits\n",
      "  -> AR_377_series/hmi.sharp_cea_720s.377.20110216_133600_TAI.Br_err.fits\n",
      "Downloading file 3295 of 3600...\n",
      "    record: hmi.sharp_cea_720s[377][2011.02.16_13:48:00_TAI]\n",
      "  filename: hmi.sharp_cea_720s.377.20110216_134800_TAI.Bp.fits\n",
      "  -> AR_377_series/hmi.sharp_cea_720s.377.20110216_134800_TAI.Bp.fits\n",
      "Downloading file 3296 of 3600...\n",
      "    record: hmi.sharp_cea_720s[377][2011.02.16_13:48:00_TAI]\n",
      "  filename: hmi.sharp_cea_720s.377.20110216_134800_TAI.Bt.fits\n",
      "  -> AR_377_series/hmi.sharp_cea_720s.377.20110216_134800_TAI.Bt.fits\n",
      "Downloading file 3297 of 3600...\n",
      "    record: hmi.sharp_cea_720s[377][2011.02.16_13:48:00_TAI]\n",
      "  filename: hmi.sharp_cea_720s.377.20110216_134800_TAI.Br.fits\n",
      "  -> AR_377_series/hmi.sharp_cea_720s.377.20110216_134800_TAI.Br.fits\n",
      "Downloading file 3298 of 3600...\n",
      "    record: hmi.sharp_cea_720s[377][2011.02.16_13:48:00_TAI]\n",
      "  filename: hmi.sharp_cea_720s.377.20110216_134800_TAI.Bp_err.fits\n",
      "  -> AR_377_series/hmi.sharp_cea_720s.377.20110216_134800_TAI.Bp_err.fits\n",
      "Downloading file 3299 of 3600...\n",
      "    record: hmi.sharp_cea_720s[377][2011.02.16_13:48:00_TAI]\n",
      "  filename: hmi.sharp_cea_720s.377.20110216_134800_TAI.Bt_err.fits\n",
      "  -> AR_377_series/hmi.sharp_cea_720s.377.20110216_134800_TAI.Bt_err.fits\n",
      "Downloading file 3300 of 3600...\n",
      "    record: hmi.sharp_cea_720s[377][2011.02.16_13:48:00_TAI]\n",
      "  filename: hmi.sharp_cea_720s.377.20110216_134800_TAI.Br_err.fits\n",
      "  -> AR_377_series/hmi.sharp_cea_720s.377.20110216_134800_TAI.Br_err.fits\n",
      "Downloading file 3301 of 3600...\n",
      "    record: hmi.sharp_cea_720s[377][2011.02.16_14:00:00_TAI]\n",
      "  filename: hmi.sharp_cea_720s.377.20110216_140000_TAI.Bp.fits\n",
      "  -> AR_377_series/hmi.sharp_cea_720s.377.20110216_140000_TAI.Bp.fits\n",
      "Downloading file 3302 of 3600...\n",
      "    record: hmi.sharp_cea_720s[377][2011.02.16_14:00:00_TAI]\n",
      "  filename: hmi.sharp_cea_720s.377.20110216_140000_TAI.Bt.fits\n",
      "  -> AR_377_series/hmi.sharp_cea_720s.377.20110216_140000_TAI.Bt.fits\n",
      "Downloading file 3303 of 3600...\n",
      "    record: hmi.sharp_cea_720s[377][2011.02.16_14:00:00_TAI]\n",
      "  filename: hmi.sharp_cea_720s.377.20110216_140000_TAI.Br.fits\n",
      "  -> AR_377_series/hmi.sharp_cea_720s.377.20110216_140000_TAI.Br.fits\n",
      "Downloading file 3304 of 3600...\n",
      "    record: hmi.sharp_cea_720s[377][2011.02.16_14:00:00_TAI]\n",
      "  filename: hmi.sharp_cea_720s.377.20110216_140000_TAI.Bp_err.fits\n",
      "  -> AR_377_series/hmi.sharp_cea_720s.377.20110216_140000_TAI.Bp_err.fits\n",
      "Downloading file 3305 of 3600...\n",
      "    record: hmi.sharp_cea_720s[377][2011.02.16_14:00:00_TAI]\n",
      "  filename: hmi.sharp_cea_720s.377.20110216_140000_TAI.Bt_err.fits\n",
      "  -> AR_377_series/hmi.sharp_cea_720s.377.20110216_140000_TAI.Bt_err.fits\n",
      "Downloading file 3306 of 3600...\n",
      "    record: hmi.sharp_cea_720s[377][2011.02.16_14:00:00_TAI]\n",
      "  filename: hmi.sharp_cea_720s.377.20110216_140000_TAI.Br_err.fits\n",
      "  -> AR_377_series/hmi.sharp_cea_720s.377.20110216_140000_TAI.Br_err.fits\n",
      "Downloading file 3307 of 3600...\n",
      "    record: hmi.sharp_cea_720s[377][2011.02.16_14:12:00_TAI]\n",
      "  filename: hmi.sharp_cea_720s.377.20110216_141200_TAI.Bp.fits\n",
      "  -> AR_377_series/hmi.sharp_cea_720s.377.20110216_141200_TAI.Bp.fits\n",
      "Downloading file 3308 of 3600...\n",
      "    record: hmi.sharp_cea_720s[377][2011.02.16_14:12:00_TAI]\n",
      "  filename: hmi.sharp_cea_720s.377.20110216_141200_TAI.Bt.fits\n",
      "  -> AR_377_series/hmi.sharp_cea_720s.377.20110216_141200_TAI.Bt.fits\n",
      "Downloading file 3309 of 3600...\n",
      "    record: hmi.sharp_cea_720s[377][2011.02.16_14:12:00_TAI]\n",
      "  filename: hmi.sharp_cea_720s.377.20110216_141200_TAI.Br.fits\n",
      "  -> AR_377_series/hmi.sharp_cea_720s.377.20110216_141200_TAI.Br.fits\n",
      "Downloading file 3310 of 3600...\n",
      "    record: hmi.sharp_cea_720s[377][2011.02.16_14:12:00_TAI]\n",
      "  filename: hmi.sharp_cea_720s.377.20110216_141200_TAI.Bp_err.fits\n",
      "  -> AR_377_series/hmi.sharp_cea_720s.377.20110216_141200_TAI.Bp_err.fits\n",
      "Downloading file 3311 of 3600...\n",
      "    record: hmi.sharp_cea_720s[377][2011.02.16_14:12:00_TAI]\n",
      "  filename: hmi.sharp_cea_720s.377.20110216_141200_TAI.Bt_err.fits\n",
      "  -> AR_377_series/hmi.sharp_cea_720s.377.20110216_141200_TAI.Bt_err.fits\n",
      "Downloading file 3312 of 3600...\n",
      "    record: hmi.sharp_cea_720s[377][2011.02.16_14:12:00_TAI]\n",
      "  filename: hmi.sharp_cea_720s.377.20110216_141200_TAI.Br_err.fits\n",
      "  -> AR_377_series/hmi.sharp_cea_720s.377.20110216_141200_TAI.Br_err.fits\n",
      "Downloading file 3313 of 3600...\n",
      "    record: hmi.sharp_cea_720s[377][2011.02.16_14:24:00_TAI]\n",
      "  filename: hmi.sharp_cea_720s.377.20110216_142400_TAI.Bp.fits\n",
      "  -> AR_377_series/hmi.sharp_cea_720s.377.20110216_142400_TAI.Bp.fits\n",
      "Downloading file 3314 of 3600...\n",
      "    record: hmi.sharp_cea_720s[377][2011.02.16_14:24:00_TAI]\n",
      "  filename: hmi.sharp_cea_720s.377.20110216_142400_TAI.Bt.fits\n",
      "  -> AR_377_series/hmi.sharp_cea_720s.377.20110216_142400_TAI.Bt.fits\n",
      "Downloading file 3315 of 3600...\n",
      "    record: hmi.sharp_cea_720s[377][2011.02.16_14:24:00_TAI]\n",
      "  filename: hmi.sharp_cea_720s.377.20110216_142400_TAI.Br.fits\n",
      "  -> AR_377_series/hmi.sharp_cea_720s.377.20110216_142400_TAI.Br.fits\n",
      "Downloading file 3316 of 3600...\n",
      "    record: hmi.sharp_cea_720s[377][2011.02.16_14:24:00_TAI]\n",
      "  filename: hmi.sharp_cea_720s.377.20110216_142400_TAI.Bp_err.fits\n",
      "  -> AR_377_series/hmi.sharp_cea_720s.377.20110216_142400_TAI.Bp_err.fits\n",
      "Downloading file 3317 of 3600...\n",
      "    record: hmi.sharp_cea_720s[377][2011.02.16_14:24:00_TAI]\n",
      "  filename: hmi.sharp_cea_720s.377.20110216_142400_TAI.Bt_err.fits\n",
      "  -> AR_377_series/hmi.sharp_cea_720s.377.20110216_142400_TAI.Bt_err.fits\n",
      "Downloading file 3318 of 3600...\n",
      "    record: hmi.sharp_cea_720s[377][2011.02.16_14:24:00_TAI]\n",
      "  filename: hmi.sharp_cea_720s.377.20110216_142400_TAI.Br_err.fits\n",
      "  -> AR_377_series/hmi.sharp_cea_720s.377.20110216_142400_TAI.Br_err.fits\n",
      "Downloading file 3319 of 3600...\n",
      "    record: hmi.sharp_cea_720s[377][2011.02.16_14:36:00_TAI]\n",
      "  filename: hmi.sharp_cea_720s.377.20110216_143600_TAI.Bp.fits\n",
      "  -> AR_377_series/hmi.sharp_cea_720s.377.20110216_143600_TAI.Bp.fits\n",
      "Downloading file 3320 of 3600...\n",
      "    record: hmi.sharp_cea_720s[377][2011.02.16_14:36:00_TAI]\n",
      "  filename: hmi.sharp_cea_720s.377.20110216_143600_TAI.Bt.fits\n",
      "  -> AR_377_series/hmi.sharp_cea_720s.377.20110216_143600_TAI.Bt.fits\n",
      "Downloading file 3321 of 3600...\n",
      "    record: hmi.sharp_cea_720s[377][2011.02.16_14:36:00_TAI]\n",
      "  filename: hmi.sharp_cea_720s.377.20110216_143600_TAI.Br.fits\n",
      "  -> AR_377_series/hmi.sharp_cea_720s.377.20110216_143600_TAI.Br.fits\n",
      "Downloading file 3322 of 3600...\n",
      "    record: hmi.sharp_cea_720s[377][2011.02.16_14:36:00_TAI]\n",
      "  filename: hmi.sharp_cea_720s.377.20110216_143600_TAI.Bp_err.fits\n",
      "  -> AR_377_series/hmi.sharp_cea_720s.377.20110216_143600_TAI.Bp_err.fits\n",
      "Downloading file 3323 of 3600...\n",
      "    record: hmi.sharp_cea_720s[377][2011.02.16_14:36:00_TAI]\n",
      "  filename: hmi.sharp_cea_720s.377.20110216_143600_TAI.Bt_err.fits\n",
      "  -> AR_377_series/hmi.sharp_cea_720s.377.20110216_143600_TAI.Bt_err.fits\n",
      "Downloading file 3324 of 3600...\n",
      "    record: hmi.sharp_cea_720s[377][2011.02.16_14:36:00_TAI]\n",
      "  filename: hmi.sharp_cea_720s.377.20110216_143600_TAI.Br_err.fits\n",
      "  -> AR_377_series/hmi.sharp_cea_720s.377.20110216_143600_TAI.Br_err.fits\n",
      "Downloading file 3325 of 3600...\n",
      "    record: hmi.sharp_cea_720s[377][2011.02.16_14:48:00_TAI]\n",
      "  filename: hmi.sharp_cea_720s.377.20110216_144800_TAI.Bp.fits\n",
      "  -> AR_377_series/hmi.sharp_cea_720s.377.20110216_144800_TAI.Bp.fits\n",
      "Downloading file 3326 of 3600...\n",
      "    record: hmi.sharp_cea_720s[377][2011.02.16_14:48:00_TAI]\n",
      "  filename: hmi.sharp_cea_720s.377.20110216_144800_TAI.Bt.fits\n",
      "  -> AR_377_series/hmi.sharp_cea_720s.377.20110216_144800_TAI.Bt.fits\n",
      "Downloading file 3327 of 3600...\n",
      "    record: hmi.sharp_cea_720s[377][2011.02.16_14:48:00_TAI]\n",
      "  filename: hmi.sharp_cea_720s.377.20110216_144800_TAI.Br.fits\n",
      "  -> AR_377_series/hmi.sharp_cea_720s.377.20110216_144800_TAI.Br.fits\n",
      "Downloading file 3328 of 3600...\n",
      "    record: hmi.sharp_cea_720s[377][2011.02.16_14:48:00_TAI]\n",
      "  filename: hmi.sharp_cea_720s.377.20110216_144800_TAI.Bp_err.fits\n",
      "  -> AR_377_series/hmi.sharp_cea_720s.377.20110216_144800_TAI.Bp_err.fits\n",
      "Downloading file 3329 of 3600...\n",
      "    record: hmi.sharp_cea_720s[377][2011.02.16_14:48:00_TAI]\n",
      "  filename: hmi.sharp_cea_720s.377.20110216_144800_TAI.Bt_err.fits\n",
      "  -> AR_377_series/hmi.sharp_cea_720s.377.20110216_144800_TAI.Bt_err.fits\n",
      "Downloading file 3330 of 3600...\n",
      "    record: hmi.sharp_cea_720s[377][2011.02.16_14:48:00_TAI]\n",
      "  filename: hmi.sharp_cea_720s.377.20110216_144800_TAI.Br_err.fits\n",
      "  -> AR_377_series/hmi.sharp_cea_720s.377.20110216_144800_TAI.Br_err.fits\n",
      "Downloading file 3331 of 3600...\n",
      "    record: hmi.sharp_cea_720s[377][2011.02.16_15:00:00_TAI]\n",
      "  filename: hmi.sharp_cea_720s.377.20110216_150000_TAI.Bp.fits\n",
      "  -> AR_377_series/hmi.sharp_cea_720s.377.20110216_150000_TAI.Bp.fits\n",
      "Downloading file 3332 of 3600...\n",
      "    record: hmi.sharp_cea_720s[377][2011.02.16_15:00:00_TAI]\n",
      "  filename: hmi.sharp_cea_720s.377.20110216_150000_TAI.Bt.fits\n",
      "  -> AR_377_series/hmi.sharp_cea_720s.377.20110216_150000_TAI.Bt.fits\n",
      "Downloading file 3333 of 3600...\n",
      "    record: hmi.sharp_cea_720s[377][2011.02.16_15:00:00_TAI]\n",
      "  filename: hmi.sharp_cea_720s.377.20110216_150000_TAI.Br.fits\n",
      "  -> AR_377_series/hmi.sharp_cea_720s.377.20110216_150000_TAI.Br.fits\n",
      "Downloading file 3334 of 3600...\n",
      "    record: hmi.sharp_cea_720s[377][2011.02.16_15:00:00_TAI]\n",
      "  filename: hmi.sharp_cea_720s.377.20110216_150000_TAI.Bp_err.fits\n",
      "  -> AR_377_series/hmi.sharp_cea_720s.377.20110216_150000_TAI.Bp_err.fits\n",
      "Downloading file 3335 of 3600...\n",
      "    record: hmi.sharp_cea_720s[377][2011.02.16_15:00:00_TAI]\n",
      "  filename: hmi.sharp_cea_720s.377.20110216_150000_TAI.Bt_err.fits\n",
      "  -> AR_377_series/hmi.sharp_cea_720s.377.20110216_150000_TAI.Bt_err.fits\n",
      "Downloading file 3336 of 3600...\n",
      "    record: hmi.sharp_cea_720s[377][2011.02.16_15:00:00_TAI]\n",
      "  filename: hmi.sharp_cea_720s.377.20110216_150000_TAI.Br_err.fits\n",
      "  -> AR_377_series/hmi.sharp_cea_720s.377.20110216_150000_TAI.Br_err.fits\n",
      "Downloading file 3337 of 3600...\n",
      "    record: hmi.sharp_cea_720s[377][2011.02.16_15:12:00_TAI]\n",
      "  filename: hmi.sharp_cea_720s.377.20110216_151200_TAI.Bp.fits\n",
      "  -> AR_377_series/hmi.sharp_cea_720s.377.20110216_151200_TAI.Bp.fits\n",
      "Downloading file 3338 of 3600...\n",
      "    record: hmi.sharp_cea_720s[377][2011.02.16_15:12:00_TAI]\n",
      "  filename: hmi.sharp_cea_720s.377.20110216_151200_TAI.Bt.fits\n",
      "  -> AR_377_series/hmi.sharp_cea_720s.377.20110216_151200_TAI.Bt.fits\n",
      "Downloading file 3339 of 3600...\n",
      "    record: hmi.sharp_cea_720s[377][2011.02.16_15:12:00_TAI]\n",
      "  filename: hmi.sharp_cea_720s.377.20110216_151200_TAI.Br.fits\n",
      "  -> AR_377_series/hmi.sharp_cea_720s.377.20110216_151200_TAI.Br.fits\n",
      "Downloading file 3340 of 3600...\n",
      "    record: hmi.sharp_cea_720s[377][2011.02.16_15:12:00_TAI]\n",
      "  filename: hmi.sharp_cea_720s.377.20110216_151200_TAI.Bp_err.fits\n",
      "  -> AR_377_series/hmi.sharp_cea_720s.377.20110216_151200_TAI.Bp_err.fits\n",
      "Downloading file 3341 of 3600...\n",
      "    record: hmi.sharp_cea_720s[377][2011.02.16_15:12:00_TAI]\n",
      "  filename: hmi.sharp_cea_720s.377.20110216_151200_TAI.Bt_err.fits\n",
      "  -> AR_377_series/hmi.sharp_cea_720s.377.20110216_151200_TAI.Bt_err.fits\n",
      "Downloading file 3342 of 3600...\n",
      "    record: hmi.sharp_cea_720s[377][2011.02.16_15:12:00_TAI]\n",
      "  filename: hmi.sharp_cea_720s.377.20110216_151200_TAI.Br_err.fits\n",
      "  -> AR_377_series/hmi.sharp_cea_720s.377.20110216_151200_TAI.Br_err.fits\n",
      "Downloading file 3343 of 3600...\n",
      "    record: hmi.sharp_cea_720s[377][2011.02.16_15:24:00_TAI]\n",
      "  filename: hmi.sharp_cea_720s.377.20110216_152400_TAI.Bp.fits\n",
      "  -> AR_377_series/hmi.sharp_cea_720s.377.20110216_152400_TAI.Bp.fits\n",
      "Downloading file 3344 of 3600...\n",
      "    record: hmi.sharp_cea_720s[377][2011.02.16_15:24:00_TAI]\n",
      "  filename: hmi.sharp_cea_720s.377.20110216_152400_TAI.Bt.fits\n",
      "  -> AR_377_series/hmi.sharp_cea_720s.377.20110216_152400_TAI.Bt.fits\n",
      "Downloading file 3345 of 3600...\n",
      "    record: hmi.sharp_cea_720s[377][2011.02.16_15:24:00_TAI]\n",
      "  filename: hmi.sharp_cea_720s.377.20110216_152400_TAI.Br.fits\n",
      "  -> AR_377_series/hmi.sharp_cea_720s.377.20110216_152400_TAI.Br.fits\n",
      "Downloading file 3346 of 3600...\n",
      "    record: hmi.sharp_cea_720s[377][2011.02.16_15:24:00_TAI]\n",
      "  filename: hmi.sharp_cea_720s.377.20110216_152400_TAI.Bp_err.fits\n",
      "  -> AR_377_series/hmi.sharp_cea_720s.377.20110216_152400_TAI.Bp_err.fits\n",
      "Downloading file 3347 of 3600...\n",
      "    record: hmi.sharp_cea_720s[377][2011.02.16_15:24:00_TAI]\n",
      "  filename: hmi.sharp_cea_720s.377.20110216_152400_TAI.Bt_err.fits\n",
      "  -> AR_377_series/hmi.sharp_cea_720s.377.20110216_152400_TAI.Bt_err.fits\n",
      "Downloading file 3348 of 3600...\n",
      "    record: hmi.sharp_cea_720s[377][2011.02.16_15:24:00_TAI]\n",
      "  filename: hmi.sharp_cea_720s.377.20110216_152400_TAI.Br_err.fits\n",
      "  -> AR_377_series/hmi.sharp_cea_720s.377.20110216_152400_TAI.Br_err.fits\n",
      "Downloading file 3349 of 3600...\n",
      "    record: hmi.sharp_cea_720s[377][2011.02.16_15:36:00_TAI]\n",
      "  filename: hmi.sharp_cea_720s.377.20110216_153600_TAI.Bp.fits\n",
      "  -> AR_377_series/hmi.sharp_cea_720s.377.20110216_153600_TAI.Bp.fits\n",
      "Downloading file 3350 of 3600...\n",
      "    record: hmi.sharp_cea_720s[377][2011.02.16_15:36:00_TAI]\n",
      "  filename: hmi.sharp_cea_720s.377.20110216_153600_TAI.Bt.fits\n",
      "  -> AR_377_series/hmi.sharp_cea_720s.377.20110216_153600_TAI.Bt.fits\n",
      "Downloading file 3351 of 3600...\n",
      "    record: hmi.sharp_cea_720s[377][2011.02.16_15:36:00_TAI]\n",
      "  filename: hmi.sharp_cea_720s.377.20110216_153600_TAI.Br.fits\n",
      "  -> AR_377_series/hmi.sharp_cea_720s.377.20110216_153600_TAI.Br.fits\n",
      "Downloading file 3352 of 3600...\n",
      "    record: hmi.sharp_cea_720s[377][2011.02.16_15:36:00_TAI]\n",
      "  filename: hmi.sharp_cea_720s.377.20110216_153600_TAI.Bp_err.fits\n",
      "  -> AR_377_series/hmi.sharp_cea_720s.377.20110216_153600_TAI.Bp_err.fits\n",
      "Downloading file 3353 of 3600...\n",
      "    record: hmi.sharp_cea_720s[377][2011.02.16_15:36:00_TAI]\n",
      "  filename: hmi.sharp_cea_720s.377.20110216_153600_TAI.Bt_err.fits\n",
      "  -> AR_377_series/hmi.sharp_cea_720s.377.20110216_153600_TAI.Bt_err.fits\n",
      "Downloading file 3354 of 3600...\n",
      "    record: hmi.sharp_cea_720s[377][2011.02.16_15:36:00_TAI]\n",
      "  filename: hmi.sharp_cea_720s.377.20110216_153600_TAI.Br_err.fits\n",
      "  -> AR_377_series/hmi.sharp_cea_720s.377.20110216_153600_TAI.Br_err.fits\n",
      "Downloading file 3355 of 3600...\n",
      "    record: hmi.sharp_cea_720s[377][2011.02.16_15:48:00_TAI]\n",
      "  filename: hmi.sharp_cea_720s.377.20110216_154800_TAI.Bp.fits\n",
      "  -> AR_377_series/hmi.sharp_cea_720s.377.20110216_154800_TAI.Bp.fits\n",
      "Downloading file 3356 of 3600...\n",
      "    record: hmi.sharp_cea_720s[377][2011.02.16_15:48:00_TAI]\n",
      "  filename: hmi.sharp_cea_720s.377.20110216_154800_TAI.Bt.fits\n",
      "  -> AR_377_series/hmi.sharp_cea_720s.377.20110216_154800_TAI.Bt.fits\n",
      "Downloading file 3357 of 3600...\n",
      "    record: hmi.sharp_cea_720s[377][2011.02.16_15:48:00_TAI]\n",
      "  filename: hmi.sharp_cea_720s.377.20110216_154800_TAI.Br.fits\n",
      "  -> AR_377_series/hmi.sharp_cea_720s.377.20110216_154800_TAI.Br.fits\n",
      "Downloading file 3358 of 3600...\n",
      "    record: hmi.sharp_cea_720s[377][2011.02.16_15:48:00_TAI]\n",
      "  filename: hmi.sharp_cea_720s.377.20110216_154800_TAI.Bp_err.fits\n",
      "  -> AR_377_series/hmi.sharp_cea_720s.377.20110216_154800_TAI.Bp_err.fits\n",
      "Downloading file 3359 of 3600...\n",
      "    record: hmi.sharp_cea_720s[377][2011.02.16_15:48:00_TAI]\n",
      "  filename: hmi.sharp_cea_720s.377.20110216_154800_TAI.Bt_err.fits\n",
      "  -> AR_377_series/hmi.sharp_cea_720s.377.20110216_154800_TAI.Bt_err.fits\n",
      "Downloading file 3360 of 3600...\n",
      "    record: hmi.sharp_cea_720s[377][2011.02.16_15:48:00_TAI]\n",
      "  filename: hmi.sharp_cea_720s.377.20110216_154800_TAI.Br_err.fits\n",
      "  -> AR_377_series/hmi.sharp_cea_720s.377.20110216_154800_TAI.Br_err.fits\n",
      "Downloading file 3361 of 3600...\n",
      "    record: hmi.sharp_cea_720s[377][2011.02.16_16:00:00_TAI]\n",
      "  filename: hmi.sharp_cea_720s.377.20110216_160000_TAI.Bp.fits\n",
      "  -> AR_377_series/hmi.sharp_cea_720s.377.20110216_160000_TAI.Bp.fits\n",
      "Downloading file 3362 of 3600...\n",
      "    record: hmi.sharp_cea_720s[377][2011.02.16_16:00:00_TAI]\n",
      "  filename: hmi.sharp_cea_720s.377.20110216_160000_TAI.Bt.fits\n",
      "  -> AR_377_series/hmi.sharp_cea_720s.377.20110216_160000_TAI.Bt.fits\n",
      "Downloading file 3363 of 3600...\n",
      "    record: hmi.sharp_cea_720s[377][2011.02.16_16:00:00_TAI]\n",
      "  filename: hmi.sharp_cea_720s.377.20110216_160000_TAI.Br.fits\n",
      "  -> AR_377_series/hmi.sharp_cea_720s.377.20110216_160000_TAI.Br.fits\n",
      "Downloading file 3364 of 3600...\n",
      "    record: hmi.sharp_cea_720s[377][2011.02.16_16:00:00_TAI]\n",
      "  filename: hmi.sharp_cea_720s.377.20110216_160000_TAI.Bp_err.fits\n",
      "  -> AR_377_series/hmi.sharp_cea_720s.377.20110216_160000_TAI.Bp_err.fits\n",
      "Downloading file 3365 of 3600...\n",
      "    record: hmi.sharp_cea_720s[377][2011.02.16_16:00:00_TAI]\n",
      "  filename: hmi.sharp_cea_720s.377.20110216_160000_TAI.Bt_err.fits\n",
      "  -> AR_377_series/hmi.sharp_cea_720s.377.20110216_160000_TAI.Bt_err.fits\n",
      "Downloading file 3366 of 3600...\n",
      "    record: hmi.sharp_cea_720s[377][2011.02.16_16:00:00_TAI]\n",
      "  filename: hmi.sharp_cea_720s.377.20110216_160000_TAI.Br_err.fits\n",
      "  -> AR_377_series/hmi.sharp_cea_720s.377.20110216_160000_TAI.Br_err.fits\n",
      "Downloading file 3367 of 3600...\n",
      "    record: hmi.sharp_cea_720s[377][2011.02.16_16:12:00_TAI]\n",
      "  filename: hmi.sharp_cea_720s.377.20110216_161200_TAI.Bp.fits\n",
      "  -> AR_377_series/hmi.sharp_cea_720s.377.20110216_161200_TAI.Bp.fits\n",
      "Downloading file 3368 of 3600...\n",
      "    record: hmi.sharp_cea_720s[377][2011.02.16_16:12:00_TAI]\n",
      "  filename: hmi.sharp_cea_720s.377.20110216_161200_TAI.Bt.fits\n",
      "  -> AR_377_series/hmi.sharp_cea_720s.377.20110216_161200_TAI.Bt.fits\n",
      "Downloading file 3369 of 3600...\n",
      "    record: hmi.sharp_cea_720s[377][2011.02.16_16:12:00_TAI]\n",
      "  filename: hmi.sharp_cea_720s.377.20110216_161200_TAI.Br.fits\n",
      "  -> AR_377_series/hmi.sharp_cea_720s.377.20110216_161200_TAI.Br.fits\n",
      "Downloading file 3370 of 3600...\n",
      "    record: hmi.sharp_cea_720s[377][2011.02.16_16:12:00_TAI]\n",
      "  filename: hmi.sharp_cea_720s.377.20110216_161200_TAI.Bp_err.fits\n",
      "  -> AR_377_series/hmi.sharp_cea_720s.377.20110216_161200_TAI.Bp_err.fits\n",
      "Downloading file 3371 of 3600...\n",
      "    record: hmi.sharp_cea_720s[377][2011.02.16_16:12:00_TAI]\n",
      "  filename: hmi.sharp_cea_720s.377.20110216_161200_TAI.Bt_err.fits\n",
      "  -> AR_377_series/hmi.sharp_cea_720s.377.20110216_161200_TAI.Bt_err.fits\n",
      "Downloading file 3372 of 3600...\n",
      "    record: hmi.sharp_cea_720s[377][2011.02.16_16:12:00_TAI]\n",
      "  filename: hmi.sharp_cea_720s.377.20110216_161200_TAI.Br_err.fits\n",
      "  -> AR_377_series/hmi.sharp_cea_720s.377.20110216_161200_TAI.Br_err.fits\n",
      "Downloading file 3373 of 3600...\n",
      "    record: hmi.sharp_cea_720s[377][2011.02.16_16:24:00_TAI]\n",
      "  filename: hmi.sharp_cea_720s.377.20110216_162400_TAI.Bp.fits\n",
      "  -> AR_377_series/hmi.sharp_cea_720s.377.20110216_162400_TAI.Bp.fits\n",
      "Downloading file 3374 of 3600...\n",
      "    record: hmi.sharp_cea_720s[377][2011.02.16_16:24:00_TAI]\n",
      "  filename: hmi.sharp_cea_720s.377.20110216_162400_TAI.Bt.fits\n",
      "  -> AR_377_series/hmi.sharp_cea_720s.377.20110216_162400_TAI.Bt.fits\n",
      "Downloading file 3375 of 3600...\n",
      "    record: hmi.sharp_cea_720s[377][2011.02.16_16:24:00_TAI]\n",
      "  filename: hmi.sharp_cea_720s.377.20110216_162400_TAI.Br.fits\n",
      "  -> AR_377_series/hmi.sharp_cea_720s.377.20110216_162400_TAI.Br.fits\n",
      "Downloading file 3376 of 3600...\n",
      "    record: hmi.sharp_cea_720s[377][2011.02.16_16:24:00_TAI]\n",
      "  filename: hmi.sharp_cea_720s.377.20110216_162400_TAI.Bp_err.fits\n",
      "  -> AR_377_series/hmi.sharp_cea_720s.377.20110216_162400_TAI.Bp_err.fits\n",
      "Downloading file 3377 of 3600...\n",
      "    record: hmi.sharp_cea_720s[377][2011.02.16_16:24:00_TAI]\n",
      "  filename: hmi.sharp_cea_720s.377.20110216_162400_TAI.Bt_err.fits\n",
      "  -> AR_377_series/hmi.sharp_cea_720s.377.20110216_162400_TAI.Bt_err.fits\n",
      "Downloading file 3378 of 3600...\n",
      "    record: hmi.sharp_cea_720s[377][2011.02.16_16:24:00_TAI]\n",
      "  filename: hmi.sharp_cea_720s.377.20110216_162400_TAI.Br_err.fits\n",
      "  -> AR_377_series/hmi.sharp_cea_720s.377.20110216_162400_TAI.Br_err.fits\n",
      "Downloading file 3379 of 3600...\n",
      "    record: hmi.sharp_cea_720s[377][2011.02.16_16:36:00_TAI]\n",
      "  filename: hmi.sharp_cea_720s.377.20110216_163600_TAI.Bp.fits\n",
      "  -> AR_377_series/hmi.sharp_cea_720s.377.20110216_163600_TAI.Bp.fits\n",
      "Downloading file 3380 of 3600...\n",
      "    record: hmi.sharp_cea_720s[377][2011.02.16_16:36:00_TAI]\n",
      "  filename: hmi.sharp_cea_720s.377.20110216_163600_TAI.Bt.fits\n",
      "  -> AR_377_series/hmi.sharp_cea_720s.377.20110216_163600_TAI.Bt.fits\n",
      "Downloading file 3381 of 3600...\n",
      "    record: hmi.sharp_cea_720s[377][2011.02.16_16:36:00_TAI]\n",
      "  filename: hmi.sharp_cea_720s.377.20110216_163600_TAI.Br.fits\n",
      "  -> AR_377_series/hmi.sharp_cea_720s.377.20110216_163600_TAI.Br.fits\n",
      "Downloading file 3382 of 3600...\n",
      "    record: hmi.sharp_cea_720s[377][2011.02.16_16:36:00_TAI]\n",
      "  filename: hmi.sharp_cea_720s.377.20110216_163600_TAI.Bp_err.fits\n",
      "  -> AR_377_series/hmi.sharp_cea_720s.377.20110216_163600_TAI.Bp_err.fits\n",
      "Downloading file 3383 of 3600...\n",
      "    record: hmi.sharp_cea_720s[377][2011.02.16_16:36:00_TAI]\n",
      "  filename: hmi.sharp_cea_720s.377.20110216_163600_TAI.Bt_err.fits\n",
      "  -> AR_377_series/hmi.sharp_cea_720s.377.20110216_163600_TAI.Bt_err.fits\n",
      "Downloading file 3384 of 3600...\n",
      "    record: hmi.sharp_cea_720s[377][2011.02.16_16:36:00_TAI]\n",
      "  filename: hmi.sharp_cea_720s.377.20110216_163600_TAI.Br_err.fits\n",
      "  -> AR_377_series/hmi.sharp_cea_720s.377.20110216_163600_TAI.Br_err.fits\n",
      "Downloading file 3385 of 3600...\n",
      "    record: hmi.sharp_cea_720s[377][2011.02.16_16:48:00_TAI]\n",
      "  filename: hmi.sharp_cea_720s.377.20110216_164800_TAI.Bp.fits\n",
      "  -> AR_377_series/hmi.sharp_cea_720s.377.20110216_164800_TAI.Bp.fits\n",
      "Downloading file 3386 of 3600...\n",
      "    record: hmi.sharp_cea_720s[377][2011.02.16_16:48:00_TAI]\n",
      "  filename: hmi.sharp_cea_720s.377.20110216_164800_TAI.Bt.fits\n",
      "  -> AR_377_series/hmi.sharp_cea_720s.377.20110216_164800_TAI.Bt.fits\n",
      "Downloading file 3387 of 3600...\n",
      "    record: hmi.sharp_cea_720s[377][2011.02.16_16:48:00_TAI]\n",
      "  filename: hmi.sharp_cea_720s.377.20110216_164800_TAI.Br.fits\n",
      "  -> AR_377_series/hmi.sharp_cea_720s.377.20110216_164800_TAI.Br.fits\n",
      "Downloading file 3388 of 3600...\n",
      "    record: hmi.sharp_cea_720s[377][2011.02.16_16:48:00_TAI]\n",
      "  filename: hmi.sharp_cea_720s.377.20110216_164800_TAI.Bp_err.fits\n",
      "  -> AR_377_series/hmi.sharp_cea_720s.377.20110216_164800_TAI.Bp_err.fits\n",
      "Downloading file 3389 of 3600...\n",
      "    record: hmi.sharp_cea_720s[377][2011.02.16_16:48:00_TAI]\n",
      "  filename: hmi.sharp_cea_720s.377.20110216_164800_TAI.Bt_err.fits\n",
      "  -> AR_377_series/hmi.sharp_cea_720s.377.20110216_164800_TAI.Bt_err.fits\n",
      "Downloading file 3390 of 3600...\n",
      "    record: hmi.sharp_cea_720s[377][2011.02.16_16:48:00_TAI]\n",
      "  filename: hmi.sharp_cea_720s.377.20110216_164800_TAI.Br_err.fits\n",
      "  -> AR_377_series/hmi.sharp_cea_720s.377.20110216_164800_TAI.Br_err.fits\n",
      "Downloading file 3391 of 3600...\n",
      "    record: hmi.sharp_cea_720s[377][2011.02.16_17:00:00_TAI]\n",
      "  filename: hmi.sharp_cea_720s.377.20110216_170000_TAI.Bp.fits\n",
      "  -> AR_377_series/hmi.sharp_cea_720s.377.20110216_170000_TAI.Bp.fits\n",
      "Downloading file 3392 of 3600...\n",
      "    record: hmi.sharp_cea_720s[377][2011.02.16_17:00:00_TAI]\n",
      "  filename: hmi.sharp_cea_720s.377.20110216_170000_TAI.Bt.fits\n",
      "  -> AR_377_series/hmi.sharp_cea_720s.377.20110216_170000_TAI.Bt.fits\n",
      "Downloading file 3393 of 3600...\n",
      "    record: hmi.sharp_cea_720s[377][2011.02.16_17:00:00_TAI]\n",
      "  filename: hmi.sharp_cea_720s.377.20110216_170000_TAI.Br.fits\n",
      "  -> AR_377_series/hmi.sharp_cea_720s.377.20110216_170000_TAI.Br.fits\n",
      "Downloading file 3394 of 3600...\n",
      "    record: hmi.sharp_cea_720s[377][2011.02.16_17:00:00_TAI]\n",
      "  filename: hmi.sharp_cea_720s.377.20110216_170000_TAI.Bp_err.fits\n",
      "  -> AR_377_series/hmi.sharp_cea_720s.377.20110216_170000_TAI.Bp_err.fits\n",
      "Downloading file 3395 of 3600...\n",
      "    record: hmi.sharp_cea_720s[377][2011.02.16_17:00:00_TAI]\n",
      "  filename: hmi.sharp_cea_720s.377.20110216_170000_TAI.Bt_err.fits\n",
      "  -> AR_377_series/hmi.sharp_cea_720s.377.20110216_170000_TAI.Bt_err.fits\n",
      "Downloading file 3396 of 3600...\n",
      "    record: hmi.sharp_cea_720s[377][2011.02.16_17:00:00_TAI]\n",
      "  filename: hmi.sharp_cea_720s.377.20110216_170000_TAI.Br_err.fits\n",
      "  -> AR_377_series/hmi.sharp_cea_720s.377.20110216_170000_TAI.Br_err.fits\n",
      "Downloading file 3397 of 3600...\n",
      "    record: hmi.sharp_cea_720s[377][2011.02.16_17:12:00_TAI]\n",
      "  filename: hmi.sharp_cea_720s.377.20110216_171200_TAI.Bp.fits\n",
      "  -> AR_377_series/hmi.sharp_cea_720s.377.20110216_171200_TAI.Bp.fits\n",
      "Downloading file 3398 of 3600...\n",
      "    record: hmi.sharp_cea_720s[377][2011.02.16_17:12:00_TAI]\n",
      "  filename: hmi.sharp_cea_720s.377.20110216_171200_TAI.Bt.fits\n",
      "  -> AR_377_series/hmi.sharp_cea_720s.377.20110216_171200_TAI.Bt.fits\n",
      "Downloading file 3399 of 3600...\n",
      "    record: hmi.sharp_cea_720s[377][2011.02.16_17:12:00_TAI]\n",
      "  filename: hmi.sharp_cea_720s.377.20110216_171200_TAI.Br.fits\n",
      "  -> AR_377_series/hmi.sharp_cea_720s.377.20110216_171200_TAI.Br.fits\n",
      "Downloading file 3400 of 3600...\n",
      "    record: hmi.sharp_cea_720s[377][2011.02.16_17:12:00_TAI]\n",
      "  filename: hmi.sharp_cea_720s.377.20110216_171200_TAI.Bp_err.fits\n",
      "  -> AR_377_series/hmi.sharp_cea_720s.377.20110216_171200_TAI.Bp_err.fits\n",
      "Downloading file 3401 of 3600...\n",
      "    record: hmi.sharp_cea_720s[377][2011.02.16_17:12:00_TAI]\n",
      "  filename: hmi.sharp_cea_720s.377.20110216_171200_TAI.Bt_err.fits\n",
      "  -> AR_377_series/hmi.sharp_cea_720s.377.20110216_171200_TAI.Bt_err.fits\n",
      "Downloading file 3402 of 3600...\n",
      "    record: hmi.sharp_cea_720s[377][2011.02.16_17:12:00_TAI]\n",
      "  filename: hmi.sharp_cea_720s.377.20110216_171200_TAI.Br_err.fits\n",
      "  -> AR_377_series/hmi.sharp_cea_720s.377.20110216_171200_TAI.Br_err.fits\n",
      "Downloading file 3403 of 3600...\n",
      "    record: hmi.sharp_cea_720s[377][2011.02.16_17:24:00_TAI]\n",
      "  filename: hmi.sharp_cea_720s.377.20110216_172400_TAI.Bp.fits\n",
      "  -> AR_377_series/hmi.sharp_cea_720s.377.20110216_172400_TAI.Bp.fits\n",
      "Downloading file 3404 of 3600...\n",
      "    record: hmi.sharp_cea_720s[377][2011.02.16_17:24:00_TAI]\n",
      "  filename: hmi.sharp_cea_720s.377.20110216_172400_TAI.Bt.fits\n",
      "  -> AR_377_series/hmi.sharp_cea_720s.377.20110216_172400_TAI.Bt.fits\n",
      "Downloading file 3405 of 3600...\n",
      "    record: hmi.sharp_cea_720s[377][2011.02.16_17:24:00_TAI]\n",
      "  filename: hmi.sharp_cea_720s.377.20110216_172400_TAI.Br.fits\n",
      "  -> AR_377_series/hmi.sharp_cea_720s.377.20110216_172400_TAI.Br.fits\n",
      "Downloading file 3406 of 3600...\n",
      "    record: hmi.sharp_cea_720s[377][2011.02.16_17:24:00_TAI]\n",
      "  filename: hmi.sharp_cea_720s.377.20110216_172400_TAI.Bp_err.fits\n",
      "  -> AR_377_series/hmi.sharp_cea_720s.377.20110216_172400_TAI.Bp_err.fits\n",
      "Downloading file 3407 of 3600...\n",
      "    record: hmi.sharp_cea_720s[377][2011.02.16_17:24:00_TAI]\n",
      "  filename: hmi.sharp_cea_720s.377.20110216_172400_TAI.Bt_err.fits\n",
      "  -> AR_377_series/hmi.sharp_cea_720s.377.20110216_172400_TAI.Bt_err.fits\n",
      "Downloading file 3408 of 3600...\n",
      "    record: hmi.sharp_cea_720s[377][2011.02.16_17:24:00_TAI]\n",
      "  filename: hmi.sharp_cea_720s.377.20110216_172400_TAI.Br_err.fits\n",
      "  -> AR_377_series/hmi.sharp_cea_720s.377.20110216_172400_TAI.Br_err.fits\n",
      "Downloading file 3409 of 3600...\n",
      "    record: hmi.sharp_cea_720s[377][2011.02.16_17:36:00_TAI]\n",
      "  filename: hmi.sharp_cea_720s.377.20110216_173600_TAI.Bp.fits\n",
      "  -> AR_377_series/hmi.sharp_cea_720s.377.20110216_173600_TAI.Bp.fits\n",
      "Downloading file 3410 of 3600...\n",
      "    record: hmi.sharp_cea_720s[377][2011.02.16_17:36:00_TAI]\n",
      "  filename: hmi.sharp_cea_720s.377.20110216_173600_TAI.Bt.fits\n",
      "  -> AR_377_series/hmi.sharp_cea_720s.377.20110216_173600_TAI.Bt.fits\n",
      "Downloading file 3411 of 3600...\n",
      "    record: hmi.sharp_cea_720s[377][2011.02.16_17:36:00_TAI]\n",
      "  filename: hmi.sharp_cea_720s.377.20110216_173600_TAI.Br.fits\n",
      "  -> AR_377_series/hmi.sharp_cea_720s.377.20110216_173600_TAI.Br.fits\n",
      "Downloading file 3412 of 3600...\n",
      "    record: hmi.sharp_cea_720s[377][2011.02.16_17:36:00_TAI]\n",
      "  filename: hmi.sharp_cea_720s.377.20110216_173600_TAI.Bp_err.fits\n",
      "  -> AR_377_series/hmi.sharp_cea_720s.377.20110216_173600_TAI.Bp_err.fits\n",
      "Downloading file 3413 of 3600...\n",
      "    record: hmi.sharp_cea_720s[377][2011.02.16_17:36:00_TAI]\n",
      "  filename: hmi.sharp_cea_720s.377.20110216_173600_TAI.Bt_err.fits\n",
      "  -> AR_377_series/hmi.sharp_cea_720s.377.20110216_173600_TAI.Bt_err.fits\n",
      "Downloading file 3414 of 3600...\n",
      "    record: hmi.sharp_cea_720s[377][2011.02.16_17:36:00_TAI]\n",
      "  filename: hmi.sharp_cea_720s.377.20110216_173600_TAI.Br_err.fits\n",
      "  -> AR_377_series/hmi.sharp_cea_720s.377.20110216_173600_TAI.Br_err.fits\n",
      "Downloading file 3415 of 3600...\n",
      "    record: hmi.sharp_cea_720s[377][2011.02.16_17:48:00_TAI]\n",
      "  filename: hmi.sharp_cea_720s.377.20110216_174800_TAI.Bp.fits\n",
      "  -> AR_377_series/hmi.sharp_cea_720s.377.20110216_174800_TAI.Bp.fits\n",
      "Downloading file 3416 of 3600...\n",
      "    record: hmi.sharp_cea_720s[377][2011.02.16_17:48:00_TAI]\n",
      "  filename: hmi.sharp_cea_720s.377.20110216_174800_TAI.Bt.fits\n",
      "  -> AR_377_series/hmi.sharp_cea_720s.377.20110216_174800_TAI.Bt.fits\n",
      "Downloading file 3417 of 3600...\n",
      "    record: hmi.sharp_cea_720s[377][2011.02.16_17:48:00_TAI]\n",
      "  filename: hmi.sharp_cea_720s.377.20110216_174800_TAI.Br.fits\n",
      "  -> AR_377_series/hmi.sharp_cea_720s.377.20110216_174800_TAI.Br.fits\n",
      "Downloading file 3418 of 3600...\n",
      "    record: hmi.sharp_cea_720s[377][2011.02.16_17:48:00_TAI]\n",
      "  filename: hmi.sharp_cea_720s.377.20110216_174800_TAI.Bp_err.fits\n",
      "  -> AR_377_series/hmi.sharp_cea_720s.377.20110216_174800_TAI.Bp_err.fits\n",
      "Downloading file 3419 of 3600...\n",
      "    record: hmi.sharp_cea_720s[377][2011.02.16_17:48:00_TAI]\n",
      "  filename: hmi.sharp_cea_720s.377.20110216_174800_TAI.Bt_err.fits\n",
      "  -> AR_377_series/hmi.sharp_cea_720s.377.20110216_174800_TAI.Bt_err.fits\n",
      "Downloading file 3420 of 3600...\n",
      "    record: hmi.sharp_cea_720s[377][2011.02.16_17:48:00_TAI]\n",
      "  filename: hmi.sharp_cea_720s.377.20110216_174800_TAI.Br_err.fits\n",
      "  -> AR_377_series/hmi.sharp_cea_720s.377.20110216_174800_TAI.Br_err.fits\n",
      "Downloading file 3421 of 3600...\n",
      "    record: hmi.sharp_cea_720s[377][2011.02.16_18:00:00_TAI]\n",
      "  filename: hmi.sharp_cea_720s.377.20110216_180000_TAI.Bp.fits\n",
      "  -> AR_377_series/hmi.sharp_cea_720s.377.20110216_180000_TAI.Bp.fits\n",
      "Downloading file 3422 of 3600...\n",
      "    record: hmi.sharp_cea_720s[377][2011.02.16_18:00:00_TAI]\n",
      "  filename: hmi.sharp_cea_720s.377.20110216_180000_TAI.Bt.fits\n",
      "  -> AR_377_series/hmi.sharp_cea_720s.377.20110216_180000_TAI.Bt.fits\n",
      "Downloading file 3423 of 3600...\n",
      "    record: hmi.sharp_cea_720s[377][2011.02.16_18:00:00_TAI]\n",
      "  filename: hmi.sharp_cea_720s.377.20110216_180000_TAI.Br.fits\n",
      "  -> AR_377_series/hmi.sharp_cea_720s.377.20110216_180000_TAI.Br.fits\n",
      "Downloading file 3424 of 3600...\n",
      "    record: hmi.sharp_cea_720s[377][2011.02.16_18:00:00_TAI]\n",
      "  filename: hmi.sharp_cea_720s.377.20110216_180000_TAI.Bp_err.fits\n",
      "  -> AR_377_series/hmi.sharp_cea_720s.377.20110216_180000_TAI.Bp_err.fits\n",
      "Downloading file 3425 of 3600...\n",
      "    record: hmi.sharp_cea_720s[377][2011.02.16_18:00:00_TAI]\n",
      "  filename: hmi.sharp_cea_720s.377.20110216_180000_TAI.Bt_err.fits\n",
      "  -> AR_377_series/hmi.sharp_cea_720s.377.20110216_180000_TAI.Bt_err.fits\n",
      "Downloading file 3426 of 3600...\n",
      "    record: hmi.sharp_cea_720s[377][2011.02.16_18:00:00_TAI]\n",
      "  filename: hmi.sharp_cea_720s.377.20110216_180000_TAI.Br_err.fits\n",
      "  -> AR_377_series/hmi.sharp_cea_720s.377.20110216_180000_TAI.Br_err.fits\n",
      "Downloading file 3427 of 3600...\n",
      "    record: hmi.sharp_cea_720s[377][2011.02.16_18:12:00_TAI]\n",
      "  filename: hmi.sharp_cea_720s.377.20110216_181200_TAI.Bp.fits\n",
      "  -> AR_377_series/hmi.sharp_cea_720s.377.20110216_181200_TAI.Bp.fits\n",
      "Downloading file 3428 of 3600...\n",
      "    record: hmi.sharp_cea_720s[377][2011.02.16_18:12:00_TAI]\n",
      "  filename: hmi.sharp_cea_720s.377.20110216_181200_TAI.Bt.fits\n",
      "  -> AR_377_series/hmi.sharp_cea_720s.377.20110216_181200_TAI.Bt.fits\n",
      "Downloading file 3429 of 3600...\n",
      "    record: hmi.sharp_cea_720s[377][2011.02.16_18:12:00_TAI]\n",
      "  filename: hmi.sharp_cea_720s.377.20110216_181200_TAI.Br.fits\n",
      "  -> AR_377_series/hmi.sharp_cea_720s.377.20110216_181200_TAI.Br.fits\n",
      "Downloading file 3430 of 3600...\n",
      "    record: hmi.sharp_cea_720s[377][2011.02.16_18:12:00_TAI]\n",
      "  filename: hmi.sharp_cea_720s.377.20110216_181200_TAI.Bp_err.fits\n",
      "  -> AR_377_series/hmi.sharp_cea_720s.377.20110216_181200_TAI.Bp_err.fits\n",
      "Downloading file 3431 of 3600...\n",
      "    record: hmi.sharp_cea_720s[377][2011.02.16_18:12:00_TAI]\n",
      "  filename: hmi.sharp_cea_720s.377.20110216_181200_TAI.Bt_err.fits\n",
      "  -> AR_377_series/hmi.sharp_cea_720s.377.20110216_181200_TAI.Bt_err.fits\n",
      "Downloading file 3432 of 3600...\n",
      "    record: hmi.sharp_cea_720s[377][2011.02.16_18:12:00_TAI]\n",
      "  filename: hmi.sharp_cea_720s.377.20110216_181200_TAI.Br_err.fits\n",
      "  -> AR_377_series/hmi.sharp_cea_720s.377.20110216_181200_TAI.Br_err.fits\n",
      "Downloading file 3433 of 3600...\n",
      "    record: hmi.sharp_cea_720s[377][2011.02.16_18:24:00_TAI]\n",
      "  filename: hmi.sharp_cea_720s.377.20110216_182400_TAI.Bp.fits\n",
      "  -> AR_377_series/hmi.sharp_cea_720s.377.20110216_182400_TAI.Bp.fits\n",
      "Downloading file 3434 of 3600...\n",
      "    record: hmi.sharp_cea_720s[377][2011.02.16_18:24:00_TAI]\n",
      "  filename: hmi.sharp_cea_720s.377.20110216_182400_TAI.Bt.fits\n",
      "  -> AR_377_series/hmi.sharp_cea_720s.377.20110216_182400_TAI.Bt.fits\n",
      "Downloading file 3435 of 3600...\n",
      "    record: hmi.sharp_cea_720s[377][2011.02.16_18:24:00_TAI]\n",
      "  filename: hmi.sharp_cea_720s.377.20110216_182400_TAI.Br.fits\n",
      "  -> AR_377_series/hmi.sharp_cea_720s.377.20110216_182400_TAI.Br.fits\n",
      "Downloading file 3436 of 3600...\n",
      "    record: hmi.sharp_cea_720s[377][2011.02.16_18:24:00_TAI]\n",
      "  filename: hmi.sharp_cea_720s.377.20110216_182400_TAI.Bp_err.fits\n",
      "  -> AR_377_series/hmi.sharp_cea_720s.377.20110216_182400_TAI.Bp_err.fits\n",
      "Downloading file 3437 of 3600...\n",
      "    record: hmi.sharp_cea_720s[377][2011.02.16_18:24:00_TAI]\n",
      "  filename: hmi.sharp_cea_720s.377.20110216_182400_TAI.Bt_err.fits\n",
      "  -> AR_377_series/hmi.sharp_cea_720s.377.20110216_182400_TAI.Bt_err.fits\n",
      "Downloading file 3438 of 3600...\n",
      "    record: hmi.sharp_cea_720s[377][2011.02.16_18:24:00_TAI]\n",
      "  filename: hmi.sharp_cea_720s.377.20110216_182400_TAI.Br_err.fits\n",
      "  -> AR_377_series/hmi.sharp_cea_720s.377.20110216_182400_TAI.Br_err.fits\n",
      "Downloading file 3439 of 3600...\n",
      "    record: hmi.sharp_cea_720s[377][2011.02.16_18:36:00_TAI]\n",
      "  filename: hmi.sharp_cea_720s.377.20110216_183600_TAI.Bp.fits\n",
      "  -> AR_377_series/hmi.sharp_cea_720s.377.20110216_183600_TAI.Bp.fits\n",
      "Downloading file 3440 of 3600...\n",
      "    record: hmi.sharp_cea_720s[377][2011.02.16_18:36:00_TAI]\n",
      "  filename: hmi.sharp_cea_720s.377.20110216_183600_TAI.Bt.fits\n",
      "  -> AR_377_series/hmi.sharp_cea_720s.377.20110216_183600_TAI.Bt.fits\n",
      "Downloading file 3441 of 3600...\n",
      "    record: hmi.sharp_cea_720s[377][2011.02.16_18:36:00_TAI]\n",
      "  filename: hmi.sharp_cea_720s.377.20110216_183600_TAI.Br.fits\n",
      "  -> AR_377_series/hmi.sharp_cea_720s.377.20110216_183600_TAI.Br.fits\n",
      "Downloading file 3442 of 3600...\n",
      "    record: hmi.sharp_cea_720s[377][2011.02.16_18:36:00_TAI]\n",
      "  filename: hmi.sharp_cea_720s.377.20110216_183600_TAI.Bp_err.fits\n",
      "  -> AR_377_series/hmi.sharp_cea_720s.377.20110216_183600_TAI.Bp_err.fits\n",
      "Downloading file 3443 of 3600...\n",
      "    record: hmi.sharp_cea_720s[377][2011.02.16_18:36:00_TAI]\n",
      "  filename: hmi.sharp_cea_720s.377.20110216_183600_TAI.Bt_err.fits\n",
      "  -> AR_377_series/hmi.sharp_cea_720s.377.20110216_183600_TAI.Bt_err.fits\n",
      "Downloading file 3444 of 3600...\n",
      "    record: hmi.sharp_cea_720s[377][2011.02.16_18:36:00_TAI]\n",
      "  filename: hmi.sharp_cea_720s.377.20110216_183600_TAI.Br_err.fits\n",
      "  -> AR_377_series/hmi.sharp_cea_720s.377.20110216_183600_TAI.Br_err.fits\n",
      "Downloading file 3445 of 3600...\n",
      "    record: hmi.sharp_cea_720s[377][2011.02.16_18:48:00_TAI]\n",
      "  filename: hmi.sharp_cea_720s.377.20110216_184800_TAI.Bp.fits\n",
      "  -> AR_377_series/hmi.sharp_cea_720s.377.20110216_184800_TAI.Bp.fits\n",
      "Downloading file 3446 of 3600...\n",
      "    record: hmi.sharp_cea_720s[377][2011.02.16_18:48:00_TAI]\n",
      "  filename: hmi.sharp_cea_720s.377.20110216_184800_TAI.Bt.fits\n",
      "  -> AR_377_series/hmi.sharp_cea_720s.377.20110216_184800_TAI.Bt.fits\n",
      "Downloading file 3447 of 3600...\n",
      "    record: hmi.sharp_cea_720s[377][2011.02.16_18:48:00_TAI]\n",
      "  filename: hmi.sharp_cea_720s.377.20110216_184800_TAI.Br.fits\n",
      "  -> AR_377_series/hmi.sharp_cea_720s.377.20110216_184800_TAI.Br.fits\n",
      "Downloading file 3448 of 3600...\n",
      "    record: hmi.sharp_cea_720s[377][2011.02.16_18:48:00_TAI]\n",
      "  filename: hmi.sharp_cea_720s.377.20110216_184800_TAI.Bp_err.fits\n",
      "  -> AR_377_series/hmi.sharp_cea_720s.377.20110216_184800_TAI.Bp_err.fits\n",
      "Downloading file 3449 of 3600...\n",
      "    record: hmi.sharp_cea_720s[377][2011.02.16_18:48:00_TAI]\n",
      "  filename: hmi.sharp_cea_720s.377.20110216_184800_TAI.Bt_err.fits\n",
      "  -> AR_377_series/hmi.sharp_cea_720s.377.20110216_184800_TAI.Bt_err.fits\n",
      "Downloading file 3450 of 3600...\n",
      "    record: hmi.sharp_cea_720s[377][2011.02.16_18:48:00_TAI]\n",
      "  filename: hmi.sharp_cea_720s.377.20110216_184800_TAI.Br_err.fits\n",
      "  -> AR_377_series/hmi.sharp_cea_720s.377.20110216_184800_TAI.Br_err.fits\n",
      "Downloading file 3451 of 3600...\n",
      "    record: hmi.sharp_cea_720s[377][2011.02.16_19:00:00_TAI]\n",
      "  filename: hmi.sharp_cea_720s.377.20110216_190000_TAI.Bp.fits\n",
      "  -> AR_377_series/hmi.sharp_cea_720s.377.20110216_190000_TAI.Bp.fits\n",
      "Downloading file 3452 of 3600...\n",
      "    record: hmi.sharp_cea_720s[377][2011.02.16_19:00:00_TAI]\n",
      "  filename: hmi.sharp_cea_720s.377.20110216_190000_TAI.Bt.fits\n",
      "  -> AR_377_series/hmi.sharp_cea_720s.377.20110216_190000_TAI.Bt.fits\n",
      "Downloading file 3453 of 3600...\n",
      "    record: hmi.sharp_cea_720s[377][2011.02.16_19:00:00_TAI]\n",
      "  filename: hmi.sharp_cea_720s.377.20110216_190000_TAI.Br.fits\n",
      "  -> AR_377_series/hmi.sharp_cea_720s.377.20110216_190000_TAI.Br.fits\n",
      "Downloading file 3454 of 3600...\n",
      "    record: hmi.sharp_cea_720s[377][2011.02.16_19:00:00_TAI]\n",
      "  filename: hmi.sharp_cea_720s.377.20110216_190000_TAI.Bp_err.fits\n",
      "  -> AR_377_series/hmi.sharp_cea_720s.377.20110216_190000_TAI.Bp_err.fits\n",
      "Downloading file 3455 of 3600...\n",
      "    record: hmi.sharp_cea_720s[377][2011.02.16_19:00:00_TAI]\n",
      "  filename: hmi.sharp_cea_720s.377.20110216_190000_TAI.Bt_err.fits\n",
      "  -> AR_377_series/hmi.sharp_cea_720s.377.20110216_190000_TAI.Bt_err.fits\n",
      "Downloading file 3456 of 3600...\n",
      "    record: hmi.sharp_cea_720s[377][2011.02.16_19:00:00_TAI]\n",
      "  filename: hmi.sharp_cea_720s.377.20110216_190000_TAI.Br_err.fits\n",
      "  -> AR_377_series/hmi.sharp_cea_720s.377.20110216_190000_TAI.Br_err.fits\n",
      "Downloading file 3457 of 3600...\n",
      "    record: hmi.sharp_cea_720s[377][2011.02.16_19:12:00_TAI]\n",
      "  filename: hmi.sharp_cea_720s.377.20110216_191200_TAI.Bp.fits\n",
      "  -> AR_377_series/hmi.sharp_cea_720s.377.20110216_191200_TAI.Bp.fits\n",
      "Downloading file 3458 of 3600...\n",
      "    record: hmi.sharp_cea_720s[377][2011.02.16_19:12:00_TAI]\n",
      "  filename: hmi.sharp_cea_720s.377.20110216_191200_TAI.Bt.fits\n",
      "  -> AR_377_series/hmi.sharp_cea_720s.377.20110216_191200_TAI.Bt.fits\n",
      "Downloading file 3459 of 3600...\n",
      "    record: hmi.sharp_cea_720s[377][2011.02.16_19:12:00_TAI]\n",
      "  filename: hmi.sharp_cea_720s.377.20110216_191200_TAI.Br.fits\n",
      "  -> AR_377_series/hmi.sharp_cea_720s.377.20110216_191200_TAI.Br.fits\n",
      "Downloading file 3460 of 3600...\n",
      "    record: hmi.sharp_cea_720s[377][2011.02.16_19:12:00_TAI]\n",
      "  filename: hmi.sharp_cea_720s.377.20110216_191200_TAI.Bp_err.fits\n",
      "  -> AR_377_series/hmi.sharp_cea_720s.377.20110216_191200_TAI.Bp_err.fits\n",
      "Downloading file 3461 of 3600...\n",
      "    record: hmi.sharp_cea_720s[377][2011.02.16_19:12:00_TAI]\n",
      "  filename: hmi.sharp_cea_720s.377.20110216_191200_TAI.Bt_err.fits\n",
      "  -> AR_377_series/hmi.sharp_cea_720s.377.20110216_191200_TAI.Bt_err.fits\n",
      "Downloading file 3462 of 3600...\n",
      "    record: hmi.sharp_cea_720s[377][2011.02.16_19:12:00_TAI]\n",
      "  filename: hmi.sharp_cea_720s.377.20110216_191200_TAI.Br_err.fits\n",
      "  -> AR_377_series/hmi.sharp_cea_720s.377.20110216_191200_TAI.Br_err.fits\n",
      "Downloading file 3463 of 3600...\n",
      "    record: hmi.sharp_cea_720s[377][2011.02.16_19:24:00_TAI]\n",
      "  filename: hmi.sharp_cea_720s.377.20110216_192400_TAI.Bp.fits\n",
      "  -> AR_377_series/hmi.sharp_cea_720s.377.20110216_192400_TAI.Bp.fits\n",
      "Downloading file 3464 of 3600...\n",
      "    record: hmi.sharp_cea_720s[377][2011.02.16_19:24:00_TAI]\n",
      "  filename: hmi.sharp_cea_720s.377.20110216_192400_TAI.Bt.fits\n",
      "  -> AR_377_series/hmi.sharp_cea_720s.377.20110216_192400_TAI.Bt.fits\n",
      "Downloading file 3465 of 3600...\n",
      "    record: hmi.sharp_cea_720s[377][2011.02.16_19:24:00_TAI]\n",
      "  filename: hmi.sharp_cea_720s.377.20110216_192400_TAI.Br.fits\n",
      "  -> AR_377_series/hmi.sharp_cea_720s.377.20110216_192400_TAI.Br.fits\n",
      "Downloading file 3466 of 3600...\n",
      "    record: hmi.sharp_cea_720s[377][2011.02.16_19:24:00_TAI]\n",
      "  filename: hmi.sharp_cea_720s.377.20110216_192400_TAI.Bp_err.fits\n",
      "  -> AR_377_series/hmi.sharp_cea_720s.377.20110216_192400_TAI.Bp_err.fits\n",
      "Downloading file 3467 of 3600...\n",
      "    record: hmi.sharp_cea_720s[377][2011.02.16_19:24:00_TAI]\n",
      "  filename: hmi.sharp_cea_720s.377.20110216_192400_TAI.Bt_err.fits\n",
      "  -> AR_377_series/hmi.sharp_cea_720s.377.20110216_192400_TAI.Bt_err.fits\n",
      "Downloading file 3468 of 3600...\n",
      "    record: hmi.sharp_cea_720s[377][2011.02.16_19:24:00_TAI]\n",
      "  filename: hmi.sharp_cea_720s.377.20110216_192400_TAI.Br_err.fits\n",
      "  -> AR_377_series/hmi.sharp_cea_720s.377.20110216_192400_TAI.Br_err.fits\n",
      "Downloading file 3469 of 3600...\n",
      "    record: hmi.sharp_cea_720s[377][2011.02.16_19:36:00_TAI]\n",
      "  filename: hmi.sharp_cea_720s.377.20110216_193600_TAI.Bp.fits\n",
      "  -> AR_377_series/hmi.sharp_cea_720s.377.20110216_193600_TAI.Bp.fits\n",
      "Downloading file 3470 of 3600...\n",
      "    record: hmi.sharp_cea_720s[377][2011.02.16_19:36:00_TAI]\n",
      "  filename: hmi.sharp_cea_720s.377.20110216_193600_TAI.Bt.fits\n",
      "  -> AR_377_series/hmi.sharp_cea_720s.377.20110216_193600_TAI.Bt.fits\n",
      "Downloading file 3471 of 3600...\n",
      "    record: hmi.sharp_cea_720s[377][2011.02.16_19:36:00_TAI]\n",
      "  filename: hmi.sharp_cea_720s.377.20110216_193600_TAI.Br.fits\n",
      "  -> AR_377_series/hmi.sharp_cea_720s.377.20110216_193600_TAI.Br.fits\n",
      "Downloading file 3472 of 3600...\n",
      "    record: hmi.sharp_cea_720s[377][2011.02.16_19:36:00_TAI]\n",
      "  filename: hmi.sharp_cea_720s.377.20110216_193600_TAI.Bp_err.fits\n",
      "  -> AR_377_series/hmi.sharp_cea_720s.377.20110216_193600_TAI.Bp_err.fits\n",
      "Downloading file 3473 of 3600...\n",
      "    record: hmi.sharp_cea_720s[377][2011.02.16_19:36:00_TAI]\n",
      "  filename: hmi.sharp_cea_720s.377.20110216_193600_TAI.Bt_err.fits\n",
      "  -> AR_377_series/hmi.sharp_cea_720s.377.20110216_193600_TAI.Bt_err.fits\n",
      "Downloading file 3474 of 3600...\n",
      "    record: hmi.sharp_cea_720s[377][2011.02.16_19:36:00_TAI]\n",
      "  filename: hmi.sharp_cea_720s.377.20110216_193600_TAI.Br_err.fits\n",
      "  -> AR_377_series/hmi.sharp_cea_720s.377.20110216_193600_TAI.Br_err.fits\n",
      "Downloading file 3475 of 3600...\n",
      "    record: hmi.sharp_cea_720s[377][2011.02.16_19:48:00_TAI]\n",
      "  filename: hmi.sharp_cea_720s.377.20110216_194800_TAI.Bp.fits\n",
      "  -> AR_377_series/hmi.sharp_cea_720s.377.20110216_194800_TAI.Bp.fits\n",
      "Downloading file 3476 of 3600...\n",
      "    record: hmi.sharp_cea_720s[377][2011.02.16_19:48:00_TAI]\n",
      "  filename: hmi.sharp_cea_720s.377.20110216_194800_TAI.Bt.fits\n",
      "  -> AR_377_series/hmi.sharp_cea_720s.377.20110216_194800_TAI.Bt.fits\n",
      "Downloading file 3477 of 3600...\n",
      "    record: hmi.sharp_cea_720s[377][2011.02.16_19:48:00_TAI]\n",
      "  filename: hmi.sharp_cea_720s.377.20110216_194800_TAI.Br.fits\n",
      "  -> AR_377_series/hmi.sharp_cea_720s.377.20110216_194800_TAI.Br.fits\n",
      "Downloading file 3478 of 3600...\n",
      "    record: hmi.sharp_cea_720s[377][2011.02.16_19:48:00_TAI]\n",
      "  filename: hmi.sharp_cea_720s.377.20110216_194800_TAI.Bp_err.fits\n",
      "  -> AR_377_series/hmi.sharp_cea_720s.377.20110216_194800_TAI.Bp_err.fits\n",
      "Downloading file 3479 of 3600...\n",
      "    record: hmi.sharp_cea_720s[377][2011.02.16_19:48:00_TAI]\n",
      "  filename: hmi.sharp_cea_720s.377.20110216_194800_TAI.Bt_err.fits\n",
      "  -> AR_377_series/hmi.sharp_cea_720s.377.20110216_194800_TAI.Bt_err.fits\n",
      "Downloading file 3480 of 3600...\n",
      "    record: hmi.sharp_cea_720s[377][2011.02.16_19:48:00_TAI]\n",
      "  filename: hmi.sharp_cea_720s.377.20110216_194800_TAI.Br_err.fits\n",
      "  -> AR_377_series/hmi.sharp_cea_720s.377.20110216_194800_TAI.Br_err.fits\n",
      "Downloading file 3481 of 3600...\n",
      "    record: hmi.sharp_cea_720s[377][2011.02.16_20:00:00_TAI]\n",
      "  filename: hmi.sharp_cea_720s.377.20110216_200000_TAI.Bp.fits\n",
      "  -> AR_377_series/hmi.sharp_cea_720s.377.20110216_200000_TAI.Bp.fits\n",
      "Downloading file 3482 of 3600...\n",
      "    record: hmi.sharp_cea_720s[377][2011.02.16_20:00:00_TAI]\n",
      "  filename: hmi.sharp_cea_720s.377.20110216_200000_TAI.Bt.fits\n",
      "  -> AR_377_series/hmi.sharp_cea_720s.377.20110216_200000_TAI.Bt.fits\n",
      "Downloading file 3483 of 3600...\n",
      "    record: hmi.sharp_cea_720s[377][2011.02.16_20:00:00_TAI]\n",
      "  filename: hmi.sharp_cea_720s.377.20110216_200000_TAI.Br.fits\n",
      "  -> AR_377_series/hmi.sharp_cea_720s.377.20110216_200000_TAI.Br.fits\n",
      "Downloading file 3484 of 3600...\n",
      "    record: hmi.sharp_cea_720s[377][2011.02.16_20:00:00_TAI]\n",
      "  filename: hmi.sharp_cea_720s.377.20110216_200000_TAI.Bp_err.fits\n",
      "  -> AR_377_series/hmi.sharp_cea_720s.377.20110216_200000_TAI.Bp_err.fits\n",
      "Downloading file 3485 of 3600...\n",
      "    record: hmi.sharp_cea_720s[377][2011.02.16_20:00:00_TAI]\n",
      "  filename: hmi.sharp_cea_720s.377.20110216_200000_TAI.Bt_err.fits\n",
      "  -> AR_377_series/hmi.sharp_cea_720s.377.20110216_200000_TAI.Bt_err.fits\n",
      "Downloading file 3486 of 3600...\n",
      "    record: hmi.sharp_cea_720s[377][2011.02.16_20:00:00_TAI]\n",
      "  filename: hmi.sharp_cea_720s.377.20110216_200000_TAI.Br_err.fits\n",
      "  -> AR_377_series/hmi.sharp_cea_720s.377.20110216_200000_TAI.Br_err.fits\n",
      "Downloading file 3487 of 3600...\n",
      "    record: hmi.sharp_cea_720s[377][2011.02.16_20:12:00_TAI]\n",
      "  filename: hmi.sharp_cea_720s.377.20110216_201200_TAI.Bp.fits\n",
      "  -> AR_377_series/hmi.sharp_cea_720s.377.20110216_201200_TAI.Bp.fits\n",
      "Downloading file 3488 of 3600...\n",
      "    record: hmi.sharp_cea_720s[377][2011.02.16_20:12:00_TAI]\n",
      "  filename: hmi.sharp_cea_720s.377.20110216_201200_TAI.Bt.fits\n",
      "  -> AR_377_series/hmi.sharp_cea_720s.377.20110216_201200_TAI.Bt.fits\n",
      "Downloading file 3489 of 3600...\n",
      "    record: hmi.sharp_cea_720s[377][2011.02.16_20:12:00_TAI]\n",
      "  filename: hmi.sharp_cea_720s.377.20110216_201200_TAI.Br.fits\n",
      "  -> AR_377_series/hmi.sharp_cea_720s.377.20110216_201200_TAI.Br.fits\n",
      "Downloading file 3490 of 3600...\n",
      "    record: hmi.sharp_cea_720s[377][2011.02.16_20:12:00_TAI]\n",
      "  filename: hmi.sharp_cea_720s.377.20110216_201200_TAI.Bp_err.fits\n",
      "  -> AR_377_series/hmi.sharp_cea_720s.377.20110216_201200_TAI.Bp_err.fits\n",
      "Downloading file 3491 of 3600...\n",
      "    record: hmi.sharp_cea_720s[377][2011.02.16_20:12:00_TAI]\n",
      "  filename: hmi.sharp_cea_720s.377.20110216_201200_TAI.Bt_err.fits\n",
      "  -> AR_377_series/hmi.sharp_cea_720s.377.20110216_201200_TAI.Bt_err.fits\n",
      "Downloading file 3492 of 3600...\n",
      "    record: hmi.sharp_cea_720s[377][2011.02.16_20:12:00_TAI]\n",
      "  filename: hmi.sharp_cea_720s.377.20110216_201200_TAI.Br_err.fits\n",
      "  -> AR_377_series/hmi.sharp_cea_720s.377.20110216_201200_TAI.Br_err.fits\n",
      "Downloading file 3493 of 3600...\n",
      "    record: hmi.sharp_cea_720s[377][2011.02.16_20:24:00_TAI]\n",
      "  filename: hmi.sharp_cea_720s.377.20110216_202400_TAI.Bp.fits\n",
      "  -> AR_377_series/hmi.sharp_cea_720s.377.20110216_202400_TAI.Bp.fits\n",
      "Downloading file 3494 of 3600...\n",
      "    record: hmi.sharp_cea_720s[377][2011.02.16_20:24:00_TAI]\n",
      "  filename: hmi.sharp_cea_720s.377.20110216_202400_TAI.Bt.fits\n",
      "  -> AR_377_series/hmi.sharp_cea_720s.377.20110216_202400_TAI.Bt.fits\n",
      "Downloading file 3495 of 3600...\n",
      "    record: hmi.sharp_cea_720s[377][2011.02.16_20:24:00_TAI]\n",
      "  filename: hmi.sharp_cea_720s.377.20110216_202400_TAI.Br.fits\n",
      "  -> AR_377_series/hmi.sharp_cea_720s.377.20110216_202400_TAI.Br.fits\n",
      "Downloading file 3496 of 3600...\n",
      "    record: hmi.sharp_cea_720s[377][2011.02.16_20:24:00_TAI]\n",
      "  filename: hmi.sharp_cea_720s.377.20110216_202400_TAI.Bp_err.fits\n",
      "  -> AR_377_series/hmi.sharp_cea_720s.377.20110216_202400_TAI.Bp_err.fits\n",
      "Downloading file 3497 of 3600...\n",
      "    record: hmi.sharp_cea_720s[377][2011.02.16_20:24:00_TAI]\n",
      "  filename: hmi.sharp_cea_720s.377.20110216_202400_TAI.Bt_err.fits\n",
      "  -> AR_377_series/hmi.sharp_cea_720s.377.20110216_202400_TAI.Bt_err.fits\n",
      "Downloading file 3498 of 3600...\n",
      "    record: hmi.sharp_cea_720s[377][2011.02.16_20:24:00_TAI]\n",
      "  filename: hmi.sharp_cea_720s.377.20110216_202400_TAI.Br_err.fits\n",
      "  -> AR_377_series/hmi.sharp_cea_720s.377.20110216_202400_TAI.Br_err.fits\n",
      "Downloading file 3499 of 3600...\n",
      "    record: hmi.sharp_cea_720s[377][2011.02.16_20:36:00_TAI]\n",
      "  filename: hmi.sharp_cea_720s.377.20110216_203600_TAI.Bp.fits\n",
      "  -> AR_377_series/hmi.sharp_cea_720s.377.20110216_203600_TAI.Bp.fits\n",
      "Downloading file 3500 of 3600...\n",
      "    record: hmi.sharp_cea_720s[377][2011.02.16_20:36:00_TAI]\n",
      "  filename: hmi.sharp_cea_720s.377.20110216_203600_TAI.Bt.fits\n",
      "  -> AR_377_series/hmi.sharp_cea_720s.377.20110216_203600_TAI.Bt.fits\n",
      "Downloading file 3501 of 3600...\n",
      "    record: hmi.sharp_cea_720s[377][2011.02.16_20:36:00_TAI]\n",
      "  filename: hmi.sharp_cea_720s.377.20110216_203600_TAI.Br.fits\n",
      "  -> AR_377_series/hmi.sharp_cea_720s.377.20110216_203600_TAI.Br.fits\n",
      "Downloading file 3502 of 3600...\n",
      "    record: hmi.sharp_cea_720s[377][2011.02.16_20:36:00_TAI]\n",
      "  filename: hmi.sharp_cea_720s.377.20110216_203600_TAI.Bp_err.fits\n",
      "  -> AR_377_series/hmi.sharp_cea_720s.377.20110216_203600_TAI.Bp_err.fits\n",
      "Downloading file 3503 of 3600...\n",
      "    record: hmi.sharp_cea_720s[377][2011.02.16_20:36:00_TAI]\n",
      "  filename: hmi.sharp_cea_720s.377.20110216_203600_TAI.Bt_err.fits\n",
      "  -> AR_377_series/hmi.sharp_cea_720s.377.20110216_203600_TAI.Bt_err.fits\n",
      "Downloading file 3504 of 3600...\n",
      "    record: hmi.sharp_cea_720s[377][2011.02.16_20:36:00_TAI]\n",
      "  filename: hmi.sharp_cea_720s.377.20110216_203600_TAI.Br_err.fits\n",
      "  -> AR_377_series/hmi.sharp_cea_720s.377.20110216_203600_TAI.Br_err.fits\n",
      "Downloading file 3505 of 3600...\n",
      "    record: hmi.sharp_cea_720s[377][2011.02.16_20:48:00_TAI]\n",
      "  filename: hmi.sharp_cea_720s.377.20110216_204800_TAI.Bp.fits\n",
      "  -> AR_377_series/hmi.sharp_cea_720s.377.20110216_204800_TAI.Bp.fits\n",
      "Downloading file 3506 of 3600...\n",
      "    record: hmi.sharp_cea_720s[377][2011.02.16_20:48:00_TAI]\n",
      "  filename: hmi.sharp_cea_720s.377.20110216_204800_TAI.Bt.fits\n",
      "  -> AR_377_series/hmi.sharp_cea_720s.377.20110216_204800_TAI.Bt.fits\n",
      "Downloading file 3507 of 3600...\n",
      "    record: hmi.sharp_cea_720s[377][2011.02.16_20:48:00_TAI]\n",
      "  filename: hmi.sharp_cea_720s.377.20110216_204800_TAI.Br.fits\n",
      "  -> AR_377_series/hmi.sharp_cea_720s.377.20110216_204800_TAI.Br.fits\n",
      "Downloading file 3508 of 3600...\n",
      "    record: hmi.sharp_cea_720s[377][2011.02.16_20:48:00_TAI]\n",
      "  filename: hmi.sharp_cea_720s.377.20110216_204800_TAI.Bp_err.fits\n",
      "  -> AR_377_series/hmi.sharp_cea_720s.377.20110216_204800_TAI.Bp_err.fits\n",
      "Downloading file 3509 of 3600...\n",
      "    record: hmi.sharp_cea_720s[377][2011.02.16_20:48:00_TAI]\n",
      "  filename: hmi.sharp_cea_720s.377.20110216_204800_TAI.Bt_err.fits\n",
      "  -> AR_377_series/hmi.sharp_cea_720s.377.20110216_204800_TAI.Bt_err.fits\n",
      "Downloading file 3510 of 3600...\n",
      "    record: hmi.sharp_cea_720s[377][2011.02.16_20:48:00_TAI]\n",
      "  filename: hmi.sharp_cea_720s.377.20110216_204800_TAI.Br_err.fits\n",
      "  -> AR_377_series/hmi.sharp_cea_720s.377.20110216_204800_TAI.Br_err.fits\n",
      "Downloading file 3511 of 3600...\n",
      "    record: hmi.sharp_cea_720s[377][2011.02.16_21:00:00_TAI]\n",
      "  filename: hmi.sharp_cea_720s.377.20110216_210000_TAI.Bp.fits\n",
      "  -> AR_377_series/hmi.sharp_cea_720s.377.20110216_210000_TAI.Bp.fits\n",
      "Downloading file 3512 of 3600...\n",
      "    record: hmi.sharp_cea_720s[377][2011.02.16_21:00:00_TAI]\n",
      "  filename: hmi.sharp_cea_720s.377.20110216_210000_TAI.Bt.fits\n",
      "  -> AR_377_series/hmi.sharp_cea_720s.377.20110216_210000_TAI.Bt.fits\n",
      "Downloading file 3513 of 3600...\n",
      "    record: hmi.sharp_cea_720s[377][2011.02.16_21:00:00_TAI]\n",
      "  filename: hmi.sharp_cea_720s.377.20110216_210000_TAI.Br.fits\n",
      "  -> AR_377_series/hmi.sharp_cea_720s.377.20110216_210000_TAI.Br.fits\n",
      "Downloading file 3514 of 3600...\n",
      "    record: hmi.sharp_cea_720s[377][2011.02.16_21:00:00_TAI]\n",
      "  filename: hmi.sharp_cea_720s.377.20110216_210000_TAI.Bp_err.fits\n",
      "  -> AR_377_series/hmi.sharp_cea_720s.377.20110216_210000_TAI.Bp_err.fits\n",
      "Downloading file 3515 of 3600...\n",
      "    record: hmi.sharp_cea_720s[377][2011.02.16_21:00:00_TAI]\n",
      "  filename: hmi.sharp_cea_720s.377.20110216_210000_TAI.Bt_err.fits\n",
      "  -> AR_377_series/hmi.sharp_cea_720s.377.20110216_210000_TAI.Bt_err.fits\n",
      "Downloading file 3516 of 3600...\n",
      "    record: hmi.sharp_cea_720s[377][2011.02.16_21:00:00_TAI]\n",
      "  filename: hmi.sharp_cea_720s.377.20110216_210000_TAI.Br_err.fits\n",
      "  -> AR_377_series/hmi.sharp_cea_720s.377.20110216_210000_TAI.Br_err.fits\n",
      "Downloading file 3517 of 3600...\n",
      "    record: hmi.sharp_cea_720s[377][2011.02.16_21:12:00_TAI]\n",
      "  filename: hmi.sharp_cea_720s.377.20110216_211200_TAI.Bp.fits\n",
      "  -> AR_377_series/hmi.sharp_cea_720s.377.20110216_211200_TAI.Bp.fits\n",
      "Downloading file 3518 of 3600...\n",
      "    record: hmi.sharp_cea_720s[377][2011.02.16_21:12:00_TAI]\n",
      "  filename: hmi.sharp_cea_720s.377.20110216_211200_TAI.Bt.fits\n",
      "  -> AR_377_series/hmi.sharp_cea_720s.377.20110216_211200_TAI.Bt.fits\n",
      "Downloading file 3519 of 3600...\n",
      "    record: hmi.sharp_cea_720s[377][2011.02.16_21:12:00_TAI]\n",
      "  filename: hmi.sharp_cea_720s.377.20110216_211200_TAI.Br.fits\n",
      "  -> AR_377_series/hmi.sharp_cea_720s.377.20110216_211200_TAI.Br.fits\n",
      "Downloading file 3520 of 3600...\n",
      "    record: hmi.sharp_cea_720s[377][2011.02.16_21:12:00_TAI]\n",
      "  filename: hmi.sharp_cea_720s.377.20110216_211200_TAI.Bp_err.fits\n",
      "  -> AR_377_series/hmi.sharp_cea_720s.377.20110216_211200_TAI.Bp_err.fits\n",
      "Downloading file 3521 of 3600...\n",
      "    record: hmi.sharp_cea_720s[377][2011.02.16_21:12:00_TAI]\n",
      "  filename: hmi.sharp_cea_720s.377.20110216_211200_TAI.Bt_err.fits\n",
      "  -> AR_377_series/hmi.sharp_cea_720s.377.20110216_211200_TAI.Bt_err.fits\n",
      "Downloading file 3522 of 3600...\n",
      "    record: hmi.sharp_cea_720s[377][2011.02.16_21:12:00_TAI]\n",
      "  filename: hmi.sharp_cea_720s.377.20110216_211200_TAI.Br_err.fits\n",
      "  -> AR_377_series/hmi.sharp_cea_720s.377.20110216_211200_TAI.Br_err.fits\n",
      "Downloading file 3523 of 3600...\n",
      "    record: hmi.sharp_cea_720s[377][2011.02.16_21:24:00_TAI]\n",
      "  filename: hmi.sharp_cea_720s.377.20110216_212400_TAI.Bp.fits\n",
      "  -> AR_377_series/hmi.sharp_cea_720s.377.20110216_212400_TAI.Bp.fits\n",
      "Downloading file 3524 of 3600...\n",
      "    record: hmi.sharp_cea_720s[377][2011.02.16_21:24:00_TAI]\n",
      "  filename: hmi.sharp_cea_720s.377.20110216_212400_TAI.Bt.fits\n",
      "  -> AR_377_series/hmi.sharp_cea_720s.377.20110216_212400_TAI.Bt.fits\n",
      "Downloading file 3525 of 3600...\n",
      "    record: hmi.sharp_cea_720s[377][2011.02.16_21:24:00_TAI]\n",
      "  filename: hmi.sharp_cea_720s.377.20110216_212400_TAI.Br.fits\n",
      "  -> AR_377_series/hmi.sharp_cea_720s.377.20110216_212400_TAI.Br.fits\n",
      "Downloading file 3526 of 3600...\n",
      "    record: hmi.sharp_cea_720s[377][2011.02.16_21:24:00_TAI]\n",
      "  filename: hmi.sharp_cea_720s.377.20110216_212400_TAI.Bp_err.fits\n",
      "  -> AR_377_series/hmi.sharp_cea_720s.377.20110216_212400_TAI.Bp_err.fits\n",
      "Downloading file 3527 of 3600...\n",
      "    record: hmi.sharp_cea_720s[377][2011.02.16_21:24:00_TAI]\n",
      "  filename: hmi.sharp_cea_720s.377.20110216_212400_TAI.Bt_err.fits\n",
      "  -> AR_377_series/hmi.sharp_cea_720s.377.20110216_212400_TAI.Bt_err.fits\n",
      "Downloading file 3528 of 3600...\n",
      "    record: hmi.sharp_cea_720s[377][2011.02.16_21:24:00_TAI]\n",
      "  filename: hmi.sharp_cea_720s.377.20110216_212400_TAI.Br_err.fits\n",
      "  -> AR_377_series/hmi.sharp_cea_720s.377.20110216_212400_TAI.Br_err.fits\n",
      "Downloading file 3529 of 3600...\n",
      "    record: hmi.sharp_cea_720s[377][2011.02.16_21:36:00_TAI]\n",
      "  filename: hmi.sharp_cea_720s.377.20110216_213600_TAI.Bp.fits\n",
      "  -> AR_377_series/hmi.sharp_cea_720s.377.20110216_213600_TAI.Bp.fits\n",
      "Downloading file 3530 of 3600...\n",
      "    record: hmi.sharp_cea_720s[377][2011.02.16_21:36:00_TAI]\n",
      "  filename: hmi.sharp_cea_720s.377.20110216_213600_TAI.Bt.fits\n",
      "  -> AR_377_series/hmi.sharp_cea_720s.377.20110216_213600_TAI.Bt.fits\n",
      "Downloading file 3531 of 3600...\n",
      "    record: hmi.sharp_cea_720s[377][2011.02.16_21:36:00_TAI]\n",
      "  filename: hmi.sharp_cea_720s.377.20110216_213600_TAI.Br.fits\n",
      "  -> AR_377_series/hmi.sharp_cea_720s.377.20110216_213600_TAI.Br.fits\n",
      "Downloading file 3532 of 3600...\n",
      "    record: hmi.sharp_cea_720s[377][2011.02.16_21:36:00_TAI]\n",
      "  filename: hmi.sharp_cea_720s.377.20110216_213600_TAI.Bp_err.fits\n",
      "  -> AR_377_series/hmi.sharp_cea_720s.377.20110216_213600_TAI.Bp_err.fits\n",
      "Downloading file 3533 of 3600...\n",
      "    record: hmi.sharp_cea_720s[377][2011.02.16_21:36:00_TAI]\n",
      "  filename: hmi.sharp_cea_720s.377.20110216_213600_TAI.Bt_err.fits\n",
      "  -> AR_377_series/hmi.sharp_cea_720s.377.20110216_213600_TAI.Bt_err.fits\n",
      "Downloading file 3534 of 3600...\n",
      "    record: hmi.sharp_cea_720s[377][2011.02.16_21:36:00_TAI]\n",
      "  filename: hmi.sharp_cea_720s.377.20110216_213600_TAI.Br_err.fits\n",
      "  -> AR_377_series/hmi.sharp_cea_720s.377.20110216_213600_TAI.Br_err.fits\n",
      "Downloading file 3535 of 3600...\n",
      "    record: hmi.sharp_cea_720s[377][2011.02.16_21:48:00_TAI]\n",
      "  filename: hmi.sharp_cea_720s.377.20110216_214800_TAI.Bp.fits\n",
      "  -> AR_377_series/hmi.sharp_cea_720s.377.20110216_214800_TAI.Bp.fits\n",
      "Downloading file 3536 of 3600...\n",
      "    record: hmi.sharp_cea_720s[377][2011.02.16_21:48:00_TAI]\n",
      "  filename: hmi.sharp_cea_720s.377.20110216_214800_TAI.Bt.fits\n",
      "  -> AR_377_series/hmi.sharp_cea_720s.377.20110216_214800_TAI.Bt.fits\n",
      "Downloading file 3537 of 3600...\n",
      "    record: hmi.sharp_cea_720s[377][2011.02.16_21:48:00_TAI]\n",
      "  filename: hmi.sharp_cea_720s.377.20110216_214800_TAI.Br.fits\n",
      "  -> AR_377_series/hmi.sharp_cea_720s.377.20110216_214800_TAI.Br.fits\n",
      "Downloading file 3538 of 3600...\n",
      "    record: hmi.sharp_cea_720s[377][2011.02.16_21:48:00_TAI]\n",
      "  filename: hmi.sharp_cea_720s.377.20110216_214800_TAI.Bp_err.fits\n",
      "  -> AR_377_series/hmi.sharp_cea_720s.377.20110216_214800_TAI.Bp_err.fits\n",
      "Downloading file 3539 of 3600...\n",
      "    record: hmi.sharp_cea_720s[377][2011.02.16_21:48:00_TAI]\n",
      "  filename: hmi.sharp_cea_720s.377.20110216_214800_TAI.Bt_err.fits\n",
      "  -> AR_377_series/hmi.sharp_cea_720s.377.20110216_214800_TAI.Bt_err.fits\n",
      "Downloading file 3540 of 3600...\n",
      "    record: hmi.sharp_cea_720s[377][2011.02.16_21:48:00_TAI]\n",
      "  filename: hmi.sharp_cea_720s.377.20110216_214800_TAI.Br_err.fits\n",
      "  -> AR_377_series/hmi.sharp_cea_720s.377.20110216_214800_TAI.Br_err.fits\n",
      "Downloading file 3541 of 3600...\n",
      "    record: hmi.sharp_cea_720s[377][2011.02.16_22:00:00_TAI]\n",
      "  filename: hmi.sharp_cea_720s.377.20110216_220000_TAI.Bp.fits\n",
      "  -> AR_377_series/hmi.sharp_cea_720s.377.20110216_220000_TAI.Bp.fits\n",
      "Downloading file 3542 of 3600...\n",
      "    record: hmi.sharp_cea_720s[377][2011.02.16_22:00:00_TAI]\n",
      "  filename: hmi.sharp_cea_720s.377.20110216_220000_TAI.Bt.fits\n",
      "  -> AR_377_series/hmi.sharp_cea_720s.377.20110216_220000_TAI.Bt.fits\n",
      "Downloading file 3543 of 3600...\n",
      "    record: hmi.sharp_cea_720s[377][2011.02.16_22:00:00_TAI]\n",
      "  filename: hmi.sharp_cea_720s.377.20110216_220000_TAI.Br.fits\n",
      "  -> AR_377_series/hmi.sharp_cea_720s.377.20110216_220000_TAI.Br.fits\n",
      "Downloading file 3544 of 3600...\n",
      "    record: hmi.sharp_cea_720s[377][2011.02.16_22:00:00_TAI]\n",
      "  filename: hmi.sharp_cea_720s.377.20110216_220000_TAI.Bp_err.fits\n",
      "  -> AR_377_series/hmi.sharp_cea_720s.377.20110216_220000_TAI.Bp_err.fits\n",
      "Downloading file 3545 of 3600...\n",
      "    record: hmi.sharp_cea_720s[377][2011.02.16_22:00:00_TAI]\n",
      "  filename: hmi.sharp_cea_720s.377.20110216_220000_TAI.Bt_err.fits\n",
      "  -> AR_377_series/hmi.sharp_cea_720s.377.20110216_220000_TAI.Bt_err.fits\n",
      "Downloading file 3546 of 3600...\n",
      "    record: hmi.sharp_cea_720s[377][2011.02.16_22:00:00_TAI]\n",
      "  filename: hmi.sharp_cea_720s.377.20110216_220000_TAI.Br_err.fits\n",
      "  -> AR_377_series/hmi.sharp_cea_720s.377.20110216_220000_TAI.Br_err.fits\n",
      "Downloading file 3547 of 3600...\n",
      "    record: hmi.sharp_cea_720s[377][2011.02.16_22:12:00_TAI]\n",
      "  filename: hmi.sharp_cea_720s.377.20110216_221200_TAI.Bp.fits\n",
      "  -> AR_377_series/hmi.sharp_cea_720s.377.20110216_221200_TAI.Bp.fits\n",
      "Downloading file 3548 of 3600...\n",
      "    record: hmi.sharp_cea_720s[377][2011.02.16_22:12:00_TAI]\n",
      "  filename: hmi.sharp_cea_720s.377.20110216_221200_TAI.Bt.fits\n",
      "  -> AR_377_series/hmi.sharp_cea_720s.377.20110216_221200_TAI.Bt.fits\n",
      "Downloading file 3549 of 3600...\n",
      "    record: hmi.sharp_cea_720s[377][2011.02.16_22:12:00_TAI]\n",
      "  filename: hmi.sharp_cea_720s.377.20110216_221200_TAI.Br.fits\n",
      "  -> AR_377_series/hmi.sharp_cea_720s.377.20110216_221200_TAI.Br.fits\n",
      "Downloading file 3550 of 3600...\n",
      "    record: hmi.sharp_cea_720s[377][2011.02.16_22:12:00_TAI]\n",
      "  filename: hmi.sharp_cea_720s.377.20110216_221200_TAI.Bp_err.fits\n",
      "  -> AR_377_series/hmi.sharp_cea_720s.377.20110216_221200_TAI.Bp_err.fits\n",
      "Downloading file 3551 of 3600...\n",
      "    record: hmi.sharp_cea_720s[377][2011.02.16_22:12:00_TAI]\n",
      "  filename: hmi.sharp_cea_720s.377.20110216_221200_TAI.Bt_err.fits\n",
      "  -> AR_377_series/hmi.sharp_cea_720s.377.20110216_221200_TAI.Bt_err.fits\n",
      "Downloading file 3552 of 3600...\n",
      "    record: hmi.sharp_cea_720s[377][2011.02.16_22:12:00_TAI]\n",
      "  filename: hmi.sharp_cea_720s.377.20110216_221200_TAI.Br_err.fits\n",
      "  -> AR_377_series/hmi.sharp_cea_720s.377.20110216_221200_TAI.Br_err.fits\n",
      "Downloading file 3553 of 3600...\n",
      "    record: hmi.sharp_cea_720s[377][2011.02.16_22:24:00_TAI]\n",
      "  filename: hmi.sharp_cea_720s.377.20110216_222400_TAI.Bp.fits\n",
      "  -> AR_377_series/hmi.sharp_cea_720s.377.20110216_222400_TAI.Bp.fits\n",
      "Downloading file 3554 of 3600...\n",
      "    record: hmi.sharp_cea_720s[377][2011.02.16_22:24:00_TAI]\n",
      "  filename: hmi.sharp_cea_720s.377.20110216_222400_TAI.Bt.fits\n",
      "  -> AR_377_series/hmi.sharp_cea_720s.377.20110216_222400_TAI.Bt.fits\n",
      "Downloading file 3555 of 3600...\n",
      "    record: hmi.sharp_cea_720s[377][2011.02.16_22:24:00_TAI]\n",
      "  filename: hmi.sharp_cea_720s.377.20110216_222400_TAI.Br.fits\n",
      "  -> AR_377_series/hmi.sharp_cea_720s.377.20110216_222400_TAI.Br.fits\n",
      "Downloading file 3556 of 3600...\n",
      "    record: hmi.sharp_cea_720s[377][2011.02.16_22:24:00_TAI]\n",
      "  filename: hmi.sharp_cea_720s.377.20110216_222400_TAI.Bp_err.fits\n",
      "  -> AR_377_series/hmi.sharp_cea_720s.377.20110216_222400_TAI.Bp_err.fits\n",
      "Downloading file 3557 of 3600...\n",
      "    record: hmi.sharp_cea_720s[377][2011.02.16_22:24:00_TAI]\n",
      "  filename: hmi.sharp_cea_720s.377.20110216_222400_TAI.Bt_err.fits\n",
      "  -> AR_377_series/hmi.sharp_cea_720s.377.20110216_222400_TAI.Bt_err.fits\n",
      "Downloading file 3558 of 3600...\n",
      "    record: hmi.sharp_cea_720s[377][2011.02.16_22:24:00_TAI]\n",
      "  filename: hmi.sharp_cea_720s.377.20110216_222400_TAI.Br_err.fits\n",
      "  -> AR_377_series/hmi.sharp_cea_720s.377.20110216_222400_TAI.Br_err.fits\n",
      "Downloading file 3559 of 3600...\n",
      "    record: hmi.sharp_cea_720s[377][2011.02.16_22:36:00_TAI]\n",
      "  filename: hmi.sharp_cea_720s.377.20110216_223600_TAI.Bp.fits\n",
      "  -> AR_377_series/hmi.sharp_cea_720s.377.20110216_223600_TAI.Bp.fits\n",
      "Downloading file 3560 of 3600...\n",
      "    record: hmi.sharp_cea_720s[377][2011.02.16_22:36:00_TAI]\n",
      "  filename: hmi.sharp_cea_720s.377.20110216_223600_TAI.Bt.fits\n",
      "  -> AR_377_series/hmi.sharp_cea_720s.377.20110216_223600_TAI.Bt.fits\n",
      "Downloading file 3561 of 3600...\n",
      "    record: hmi.sharp_cea_720s[377][2011.02.16_22:36:00_TAI]\n",
      "  filename: hmi.sharp_cea_720s.377.20110216_223600_TAI.Br.fits\n",
      "  -> AR_377_series/hmi.sharp_cea_720s.377.20110216_223600_TAI.Br.fits\n",
      "Downloading file 3562 of 3600...\n",
      "    record: hmi.sharp_cea_720s[377][2011.02.16_22:36:00_TAI]\n",
      "  filename: hmi.sharp_cea_720s.377.20110216_223600_TAI.Bp_err.fits\n",
      "  -> AR_377_series/hmi.sharp_cea_720s.377.20110216_223600_TAI.Bp_err.fits\n",
      "Downloading file 3563 of 3600...\n",
      "    record: hmi.sharp_cea_720s[377][2011.02.16_22:36:00_TAI]\n",
      "  filename: hmi.sharp_cea_720s.377.20110216_223600_TAI.Bt_err.fits\n",
      "  -> AR_377_series/hmi.sharp_cea_720s.377.20110216_223600_TAI.Bt_err.fits\n",
      "Downloading file 3564 of 3600...\n",
      "    record: hmi.sharp_cea_720s[377][2011.02.16_22:36:00_TAI]\n",
      "  filename: hmi.sharp_cea_720s.377.20110216_223600_TAI.Br_err.fits\n",
      "  -> AR_377_series/hmi.sharp_cea_720s.377.20110216_223600_TAI.Br_err.fits\n",
      "Downloading file 3565 of 3600...\n",
      "    record: hmi.sharp_cea_720s[377][2011.02.16_22:48:00_TAI]\n",
      "  filename: hmi.sharp_cea_720s.377.20110216_224800_TAI.Bp.fits\n",
      "  -> AR_377_series/hmi.sharp_cea_720s.377.20110216_224800_TAI.Bp.fits\n",
      "Downloading file 3566 of 3600...\n",
      "    record: hmi.sharp_cea_720s[377][2011.02.16_22:48:00_TAI]\n",
      "  filename: hmi.sharp_cea_720s.377.20110216_224800_TAI.Bt.fits\n",
      "  -> AR_377_series/hmi.sharp_cea_720s.377.20110216_224800_TAI.Bt.fits\n",
      "Downloading file 3567 of 3600...\n",
      "    record: hmi.sharp_cea_720s[377][2011.02.16_22:48:00_TAI]\n",
      "  filename: hmi.sharp_cea_720s.377.20110216_224800_TAI.Br.fits\n",
      "  -> AR_377_series/hmi.sharp_cea_720s.377.20110216_224800_TAI.Br.fits\n",
      "Downloading file 3568 of 3600...\n",
      "    record: hmi.sharp_cea_720s[377][2011.02.16_22:48:00_TAI]\n",
      "  filename: hmi.sharp_cea_720s.377.20110216_224800_TAI.Bp_err.fits\n",
      "  -> AR_377_series/hmi.sharp_cea_720s.377.20110216_224800_TAI.Bp_err.fits\n",
      "Downloading file 3569 of 3600...\n",
      "    record: hmi.sharp_cea_720s[377][2011.02.16_22:48:00_TAI]\n",
      "  filename: hmi.sharp_cea_720s.377.20110216_224800_TAI.Bt_err.fits\n",
      "  -> AR_377_series/hmi.sharp_cea_720s.377.20110216_224800_TAI.Bt_err.fits\n",
      "Downloading file 3570 of 3600...\n",
      "    record: hmi.sharp_cea_720s[377][2011.02.16_22:48:00_TAI]\n",
      "  filename: hmi.sharp_cea_720s.377.20110216_224800_TAI.Br_err.fits\n",
      "  -> AR_377_series/hmi.sharp_cea_720s.377.20110216_224800_TAI.Br_err.fits\n",
      "Downloading file 3571 of 3600...\n",
      "    record: hmi.sharp_cea_720s[377][2011.02.16_23:00:00_TAI]\n",
      "  filename: hmi.sharp_cea_720s.377.20110216_230000_TAI.Bp.fits\n",
      "  -> AR_377_series/hmi.sharp_cea_720s.377.20110216_230000_TAI.Bp.fits\n",
      "Downloading file 3572 of 3600...\n",
      "    record: hmi.sharp_cea_720s[377][2011.02.16_23:00:00_TAI]\n",
      "  filename: hmi.sharp_cea_720s.377.20110216_230000_TAI.Bt.fits\n",
      "  -> AR_377_series/hmi.sharp_cea_720s.377.20110216_230000_TAI.Bt.fits\n",
      "Downloading file 3573 of 3600...\n",
      "    record: hmi.sharp_cea_720s[377][2011.02.16_23:00:00_TAI]\n",
      "  filename: hmi.sharp_cea_720s.377.20110216_230000_TAI.Br.fits\n",
      "  -> AR_377_series/hmi.sharp_cea_720s.377.20110216_230000_TAI.Br.fits\n",
      "Downloading file 3574 of 3600...\n",
      "    record: hmi.sharp_cea_720s[377][2011.02.16_23:00:00_TAI]\n",
      "  filename: hmi.sharp_cea_720s.377.20110216_230000_TAI.Bp_err.fits\n",
      "  -> AR_377_series/hmi.sharp_cea_720s.377.20110216_230000_TAI.Bp_err.fits\n",
      "Downloading file 3575 of 3600...\n",
      "    record: hmi.sharp_cea_720s[377][2011.02.16_23:00:00_TAI]\n",
      "  filename: hmi.sharp_cea_720s.377.20110216_230000_TAI.Bt_err.fits\n",
      "  -> AR_377_series/hmi.sharp_cea_720s.377.20110216_230000_TAI.Bt_err.fits\n",
      "Downloading file 3576 of 3600...\n",
      "    record: hmi.sharp_cea_720s[377][2011.02.16_23:00:00_TAI]\n",
      "  filename: hmi.sharp_cea_720s.377.20110216_230000_TAI.Br_err.fits\n",
      "  -> AR_377_series/hmi.sharp_cea_720s.377.20110216_230000_TAI.Br_err.fits\n",
      "Downloading file 3577 of 3600...\n",
      "    record: hmi.sharp_cea_720s[377][2011.02.16_23:12:00_TAI]\n",
      "  filename: hmi.sharp_cea_720s.377.20110216_231200_TAI.Bp.fits\n",
      "  -> AR_377_series/hmi.sharp_cea_720s.377.20110216_231200_TAI.Bp.fits\n",
      "Downloading file 3578 of 3600...\n",
      "    record: hmi.sharp_cea_720s[377][2011.02.16_23:12:00_TAI]\n",
      "  filename: hmi.sharp_cea_720s.377.20110216_231200_TAI.Bt.fits\n",
      "  -> AR_377_series/hmi.sharp_cea_720s.377.20110216_231200_TAI.Bt.fits\n",
      "Downloading file 3579 of 3600...\n",
      "    record: hmi.sharp_cea_720s[377][2011.02.16_23:12:00_TAI]\n",
      "  filename: hmi.sharp_cea_720s.377.20110216_231200_TAI.Br.fits\n",
      "  -> AR_377_series/hmi.sharp_cea_720s.377.20110216_231200_TAI.Br.fits\n",
      "Downloading file 3580 of 3600...\n",
      "    record: hmi.sharp_cea_720s[377][2011.02.16_23:12:00_TAI]\n",
      "  filename: hmi.sharp_cea_720s.377.20110216_231200_TAI.Bp_err.fits\n",
      "  -> AR_377_series/hmi.sharp_cea_720s.377.20110216_231200_TAI.Bp_err.fits\n",
      "Downloading file 3581 of 3600...\n",
      "    record: hmi.sharp_cea_720s[377][2011.02.16_23:12:00_TAI]\n",
      "  filename: hmi.sharp_cea_720s.377.20110216_231200_TAI.Bt_err.fits\n",
      "  -> AR_377_series/hmi.sharp_cea_720s.377.20110216_231200_TAI.Bt_err.fits\n",
      "Downloading file 3582 of 3600...\n",
      "    record: hmi.sharp_cea_720s[377][2011.02.16_23:12:00_TAI]\n",
      "  filename: hmi.sharp_cea_720s.377.20110216_231200_TAI.Br_err.fits\n",
      "  -> AR_377_series/hmi.sharp_cea_720s.377.20110216_231200_TAI.Br_err.fits\n",
      "Downloading file 3583 of 3600...\n",
      "    record: hmi.sharp_cea_720s[377][2011.02.16_23:24:00_TAI]\n",
      "  filename: hmi.sharp_cea_720s.377.20110216_232400_TAI.Bp.fits\n",
      "  -> AR_377_series/hmi.sharp_cea_720s.377.20110216_232400_TAI.Bp.fits\n",
      "Downloading file 3584 of 3600...\n",
      "    record: hmi.sharp_cea_720s[377][2011.02.16_23:24:00_TAI]\n",
      "  filename: hmi.sharp_cea_720s.377.20110216_232400_TAI.Bt.fits\n",
      "  -> AR_377_series/hmi.sharp_cea_720s.377.20110216_232400_TAI.Bt.fits\n",
      "Downloading file 3585 of 3600...\n",
      "    record: hmi.sharp_cea_720s[377][2011.02.16_23:24:00_TAI]\n",
      "  filename: hmi.sharp_cea_720s.377.20110216_232400_TAI.Br.fits\n",
      "  -> AR_377_series/hmi.sharp_cea_720s.377.20110216_232400_TAI.Br.fits\n",
      "Downloading file 3586 of 3600...\n",
      "    record: hmi.sharp_cea_720s[377][2011.02.16_23:24:00_TAI]\n",
      "  filename: hmi.sharp_cea_720s.377.20110216_232400_TAI.Bp_err.fits\n",
      "  -> AR_377_series/hmi.sharp_cea_720s.377.20110216_232400_TAI.Bp_err.fits\n",
      "Downloading file 3587 of 3600...\n",
      "    record: hmi.sharp_cea_720s[377][2011.02.16_23:24:00_TAI]\n",
      "  filename: hmi.sharp_cea_720s.377.20110216_232400_TAI.Bt_err.fits\n",
      "  -> AR_377_series/hmi.sharp_cea_720s.377.20110216_232400_TAI.Bt_err.fits\n",
      "Downloading file 3588 of 3600...\n",
      "    record: hmi.sharp_cea_720s[377][2011.02.16_23:24:00_TAI]\n",
      "  filename: hmi.sharp_cea_720s.377.20110216_232400_TAI.Br_err.fits\n",
      "  -> AR_377_series/hmi.sharp_cea_720s.377.20110216_232400_TAI.Br_err.fits\n",
      "Downloading file 3589 of 3600...\n",
      "    record: hmi.sharp_cea_720s[377][2011.02.16_23:36:00_TAI]\n",
      "  filename: hmi.sharp_cea_720s.377.20110216_233600_TAI.Bp.fits\n",
      "  -> AR_377_series/hmi.sharp_cea_720s.377.20110216_233600_TAI.Bp.fits\n",
      "Downloading file 3590 of 3600...\n",
      "    record: hmi.sharp_cea_720s[377][2011.02.16_23:36:00_TAI]\n",
      "  filename: hmi.sharp_cea_720s.377.20110216_233600_TAI.Bt.fits\n",
      "  -> AR_377_series/hmi.sharp_cea_720s.377.20110216_233600_TAI.Bt.fits\n",
      "Downloading file 3591 of 3600...\n",
      "    record: hmi.sharp_cea_720s[377][2011.02.16_23:36:00_TAI]\n",
      "  filename: hmi.sharp_cea_720s.377.20110216_233600_TAI.Br.fits\n",
      "  -> AR_377_series/hmi.sharp_cea_720s.377.20110216_233600_TAI.Br.fits\n",
      "Downloading file 3592 of 3600...\n",
      "    record: hmi.sharp_cea_720s[377][2011.02.16_23:36:00_TAI]\n",
      "  filename: hmi.sharp_cea_720s.377.20110216_233600_TAI.Bp_err.fits\n",
      "  -> AR_377_series/hmi.sharp_cea_720s.377.20110216_233600_TAI.Bp_err.fits\n",
      "Downloading file 3593 of 3600...\n",
      "    record: hmi.sharp_cea_720s[377][2011.02.16_23:36:00_TAI]\n",
      "  filename: hmi.sharp_cea_720s.377.20110216_233600_TAI.Bt_err.fits\n",
      "  -> AR_377_series/hmi.sharp_cea_720s.377.20110216_233600_TAI.Bt_err.fits\n",
      "Downloading file 3594 of 3600...\n",
      "    record: hmi.sharp_cea_720s[377][2011.02.16_23:36:00_TAI]\n",
      "  filename: hmi.sharp_cea_720s.377.20110216_233600_TAI.Br_err.fits\n",
      "  -> AR_377_series/hmi.sharp_cea_720s.377.20110216_233600_TAI.Br_err.fits\n",
      "Downloading file 3595 of 3600...\n",
      "    record: hmi.sharp_cea_720s[377][2011.02.16_23:48:00_TAI]\n",
      "  filename: hmi.sharp_cea_720s.377.20110216_234800_TAI.Bp.fits\n",
      "  -> AR_377_series/hmi.sharp_cea_720s.377.20110216_234800_TAI.Bp.fits\n",
      "Downloading file 3596 of 3600...\n",
      "    record: hmi.sharp_cea_720s[377][2011.02.16_23:48:00_TAI]\n",
      "  filename: hmi.sharp_cea_720s.377.20110216_234800_TAI.Bt.fits\n",
      "  -> AR_377_series/hmi.sharp_cea_720s.377.20110216_234800_TAI.Bt.fits\n",
      "Downloading file 3597 of 3600...\n",
      "    record: hmi.sharp_cea_720s[377][2011.02.16_23:48:00_TAI]\n",
      "  filename: hmi.sharp_cea_720s.377.20110216_234800_TAI.Br.fits\n",
      "  -> AR_377_series/hmi.sharp_cea_720s.377.20110216_234800_TAI.Br.fits\n",
      "Downloading file 3598 of 3600...\n",
      "    record: hmi.sharp_cea_720s[377][2011.02.16_23:48:00_TAI]\n",
      "  filename: hmi.sharp_cea_720s.377.20110216_234800_TAI.Bp_err.fits\n",
      "  -> AR_377_series/hmi.sharp_cea_720s.377.20110216_234800_TAI.Bp_err.fits\n",
      "Downloading file 3599 of 3600...\n",
      "    record: hmi.sharp_cea_720s[377][2011.02.16_23:48:00_TAI]\n",
      "  filename: hmi.sharp_cea_720s.377.20110216_234800_TAI.Bt_err.fits\n",
      "  -> AR_377_series/hmi.sharp_cea_720s.377.20110216_234800_TAI.Bt_err.fits\n",
      "Downloading file 3600 of 3600...\n",
      "    record: hmi.sharp_cea_720s[377][2011.02.16_23:48:00_TAI]\n",
      "  filename: hmi.sharp_cea_720s.377.20110216_234800_TAI.Br_err.fits\n",
      "  -> AR_377_series/hmi.sharp_cea_720s.377.20110216_234800_TAI.Br_err.fits\n"
     ]
    },
    {
     "data": {
      "text/html": [
       "\n",
       "  <div id=\"df-6e236a26-68d7-465f-b2f8-196a517af72a\">\n",
       "    <div class=\"colab-df-container\">\n",
       "      <div>\n",
       "<style scoped>\n",
       "    .dataframe tbody tr th:only-of-type {\n",
       "        vertical-align: middle;\n",
       "    }\n",
       "\n",
       "    .dataframe tbody tr th {\n",
       "        vertical-align: top;\n",
       "    }\n",
       "\n",
       "    .dataframe thead th {\n",
       "        text-align: right;\n",
       "    }\n",
       "</style>\n",
       "<table border=\"1\" class=\"dataframe\">\n",
       "  <thead>\n",
       "    <tr style=\"text-align: right;\">\n",
       "      <th></th>\n",
       "      <th>record</th>\n",
       "      <th>url</th>\n",
       "      <th>download</th>\n",
       "    </tr>\n",
       "  </thead>\n",
       "  <tbody>\n",
       "    <tr>\n",
       "      <th>0</th>\n",
       "      <td>hmi.sharp_cea_720s[377][2011.02.12_00:00:00_TAI]</td>\n",
       "      <td>http://jsoc.stanford.edu/SUM66/D1606751764/S00...</td>\n",
       "      <td>/content/drive/MyDrive/PINN/AR_377_series/hmi....</td>\n",
       "    </tr>\n",
       "    <tr>\n",
       "      <th>1</th>\n",
       "      <td>hmi.sharp_cea_720s[377][2011.02.12_00:00:00_TAI]</td>\n",
       "      <td>http://jsoc.stanford.edu/SUM66/D1606751764/S00...</td>\n",
       "      <td>/content/drive/MyDrive/PINN/AR_377_series/hmi....</td>\n",
       "    </tr>\n",
       "    <tr>\n",
       "      <th>2</th>\n",
       "      <td>hmi.sharp_cea_720s[377][2011.02.12_00:00:00_TAI]</td>\n",
       "      <td>http://jsoc.stanford.edu/SUM66/D1606751764/S00...</td>\n",
       "      <td>/content/drive/MyDrive/PINN/AR_377_series/hmi....</td>\n",
       "    </tr>\n",
       "    <tr>\n",
       "      <th>3</th>\n",
       "      <td>hmi.sharp_cea_720s[377][2011.02.12_00:00:00_TAI]</td>\n",
       "      <td>http://jsoc.stanford.edu/SUM66/D1606751764/S00...</td>\n",
       "      <td>/content/drive/MyDrive/PINN/AR_377_series/hmi....</td>\n",
       "    </tr>\n",
       "    <tr>\n",
       "      <th>4</th>\n",
       "      <td>hmi.sharp_cea_720s[377][2011.02.12_00:00:00_TAI]</td>\n",
       "      <td>http://jsoc.stanford.edu/SUM66/D1606751764/S00...</td>\n",
       "      <td>/content/drive/MyDrive/PINN/AR_377_series/hmi....</td>\n",
       "    </tr>\n",
       "    <tr>\n",
       "      <th>...</th>\n",
       "      <td>...</td>\n",
       "      <td>...</td>\n",
       "      <td>...</td>\n",
       "    </tr>\n",
       "    <tr>\n",
       "      <th>3595</th>\n",
       "      <td>hmi.sharp_cea_720s[377][2011.02.16_23:48:00_TAI]</td>\n",
       "      <td>http://jsoc.stanford.edu/SUM66/D1606751764/S00...</td>\n",
       "      <td>/content/drive/MyDrive/PINN/AR_377_series/hmi....</td>\n",
       "    </tr>\n",
       "    <tr>\n",
       "      <th>3596</th>\n",
       "      <td>hmi.sharp_cea_720s[377][2011.02.16_23:48:00_TAI]</td>\n",
       "      <td>http://jsoc.stanford.edu/SUM66/D1606751764/S00...</td>\n",
       "      <td>/content/drive/MyDrive/PINN/AR_377_series/hmi....</td>\n",
       "    </tr>\n",
       "    <tr>\n",
       "      <th>3597</th>\n",
       "      <td>hmi.sharp_cea_720s[377][2011.02.16_23:48:00_TAI]</td>\n",
       "      <td>http://jsoc.stanford.edu/SUM66/D1606751764/S00...</td>\n",
       "      <td>/content/drive/MyDrive/PINN/AR_377_series/hmi....</td>\n",
       "    </tr>\n",
       "    <tr>\n",
       "      <th>3598</th>\n",
       "      <td>hmi.sharp_cea_720s[377][2011.02.16_23:48:00_TAI]</td>\n",
       "      <td>http://jsoc.stanford.edu/SUM66/D1606751764/S00...</td>\n",
       "      <td>/content/drive/MyDrive/PINN/AR_377_series/hmi....</td>\n",
       "    </tr>\n",
       "    <tr>\n",
       "      <th>3599</th>\n",
       "      <td>hmi.sharp_cea_720s[377][2011.02.16_23:48:00_TAI]</td>\n",
       "      <td>http://jsoc.stanford.edu/SUM66/D1606751764/S00...</td>\n",
       "      <td>/content/drive/MyDrive/PINN/AR_377_series/hmi....</td>\n",
       "    </tr>\n",
       "  </tbody>\n",
       "</table>\n",
       "<p>3600 rows × 3 columns</p>\n",
       "</div>\n",
       "      <button class=\"colab-df-convert\" onclick=\"convertToInteractive('df-6e236a26-68d7-465f-b2f8-196a517af72a')\"\n",
       "              title=\"Convert this dataframe to an interactive table.\"\n",
       "              style=\"display:none;\">\n",
       "        \n",
       "  <svg xmlns=\"http://www.w3.org/2000/svg\" height=\"24px\"viewBox=\"0 0 24 24\"\n",
       "       width=\"24px\">\n",
       "    <path d=\"M0 0h24v24H0V0z\" fill=\"none\"/>\n",
       "    <path d=\"M18.56 5.44l.94 2.06.94-2.06 2.06-.94-2.06-.94-.94-2.06-.94 2.06-2.06.94zm-11 1L8.5 8.5l.94-2.06 2.06-.94-2.06-.94L8.5 2.5l-.94 2.06-2.06.94zm10 10l.94 2.06.94-2.06 2.06-.94-2.06-.94-.94-2.06-.94 2.06-2.06.94z\"/><path d=\"M17.41 7.96l-1.37-1.37c-.4-.4-.92-.59-1.43-.59-.52 0-1.04.2-1.43.59L10.3 9.45l-7.72 7.72c-.78.78-.78 2.05 0 2.83L4 21.41c.39.39.9.59 1.41.59.51 0 1.02-.2 1.41-.59l7.78-7.78 2.81-2.81c.8-.78.8-2.07 0-2.86zM5.41 20L4 18.59l7.72-7.72 1.47 1.35L5.41 20z\"/>\n",
       "  </svg>\n",
       "      </button>\n",
       "      \n",
       "  <style>\n",
       "    .colab-df-container {\n",
       "      display:flex;\n",
       "      flex-wrap:wrap;\n",
       "      gap: 12px;\n",
       "    }\n",
       "\n",
       "    .colab-df-convert {\n",
       "      background-color: #E8F0FE;\n",
       "      border: none;\n",
       "      border-radius: 50%;\n",
       "      cursor: pointer;\n",
       "      display: none;\n",
       "      fill: #1967D2;\n",
       "      height: 32px;\n",
       "      padding: 0 0 0 0;\n",
       "      width: 32px;\n",
       "    }\n",
       "\n",
       "    .colab-df-convert:hover {\n",
       "      background-color: #E2EBFA;\n",
       "      box-shadow: 0px 1px 2px rgba(60, 64, 67, 0.3), 0px 1px 3px 1px rgba(60, 64, 67, 0.15);\n",
       "      fill: #174EA6;\n",
       "    }\n",
       "\n",
       "    [theme=dark] .colab-df-convert {\n",
       "      background-color: #3B4455;\n",
       "      fill: #D2E3FC;\n",
       "    }\n",
       "\n",
       "    [theme=dark] .colab-df-convert:hover {\n",
       "      background-color: #434B5C;\n",
       "      box-shadow: 0px 1px 3px 1px rgba(0, 0, 0, 0.15);\n",
       "      filter: drop-shadow(0px 1px 2px rgba(0, 0, 0, 0.3));\n",
       "      fill: #FFFFFF;\n",
       "    }\n",
       "  </style>\n",
       "\n",
       "      <script>\n",
       "        const buttonEl =\n",
       "          document.querySelector('#df-6e236a26-68d7-465f-b2f8-196a517af72a button.colab-df-convert');\n",
       "        buttonEl.style.display =\n",
       "          google.colab.kernel.accessAllowed ? 'block' : 'none';\n",
       "\n",
       "        async function convertToInteractive(key) {\n",
       "          const element = document.querySelector('#df-6e236a26-68d7-465f-b2f8-196a517af72a');\n",
       "          const dataTable =\n",
       "            await google.colab.kernel.invokeFunction('convertToInteractive',\n",
       "                                                     [key], {});\n",
       "          if (!dataTable) return;\n",
       "\n",
       "          const docLinkHtml = 'Like what you see? Visit the ' +\n",
       "            '<a target=\"_blank\" href=https://colab.research.google.com/notebooks/data_table.ipynb>data table notebook</a>'\n",
       "            + ' to learn more about interactive tables.';\n",
       "          element.innerHTML = '';\n",
       "          dataTable['output_type'] = 'display_data';\n",
       "          await google.colab.output.renderOutput(dataTable, element);\n",
       "          const docLink = document.createElement('div');\n",
       "          docLink.innerHTML = docLinkHtml;\n",
       "          element.appendChild(docLink);\n",
       "        }\n",
       "      </script>\n",
       "    </div>\n",
       "  </div>\n",
       "  "
      ],
      "text/plain": [
       "                                                record  \\\n",
       "0     hmi.sharp_cea_720s[377][2011.02.12_00:00:00_TAI]   \n",
       "1     hmi.sharp_cea_720s[377][2011.02.12_00:00:00_TAI]   \n",
       "2     hmi.sharp_cea_720s[377][2011.02.12_00:00:00_TAI]   \n",
       "3     hmi.sharp_cea_720s[377][2011.02.12_00:00:00_TAI]   \n",
       "4     hmi.sharp_cea_720s[377][2011.02.12_00:00:00_TAI]   \n",
       "...                                                ...   \n",
       "3595  hmi.sharp_cea_720s[377][2011.02.16_23:48:00_TAI]   \n",
       "3596  hmi.sharp_cea_720s[377][2011.02.16_23:48:00_TAI]   \n",
       "3597  hmi.sharp_cea_720s[377][2011.02.16_23:48:00_TAI]   \n",
       "3598  hmi.sharp_cea_720s[377][2011.02.16_23:48:00_TAI]   \n",
       "3599  hmi.sharp_cea_720s[377][2011.02.16_23:48:00_TAI]   \n",
       "\n",
       "                                                    url  \\\n",
       "0     http://jsoc.stanford.edu/SUM66/D1606751764/S00...   \n",
       "1     http://jsoc.stanford.edu/SUM66/D1606751764/S00...   \n",
       "2     http://jsoc.stanford.edu/SUM66/D1606751764/S00...   \n",
       "3     http://jsoc.stanford.edu/SUM66/D1606751764/S00...   \n",
       "4     http://jsoc.stanford.edu/SUM66/D1606751764/S00...   \n",
       "...                                                 ...   \n",
       "3595  http://jsoc.stanford.edu/SUM66/D1606751764/S00...   \n",
       "3596  http://jsoc.stanford.edu/SUM66/D1606751764/S00...   \n",
       "3597  http://jsoc.stanford.edu/SUM66/D1606751764/S00...   \n",
       "3598  http://jsoc.stanford.edu/SUM66/D1606751764/S00...   \n",
       "3599  http://jsoc.stanford.edu/SUM66/D1606751764/S00...   \n",
       "\n",
       "                                               download  \n",
       "0     /content/drive/MyDrive/PINN/AR_377_series/hmi....  \n",
       "1     /content/drive/MyDrive/PINN/AR_377_series/hmi....  \n",
       "2     /content/drive/MyDrive/PINN/AR_377_series/hmi....  \n",
       "3     /content/drive/MyDrive/PINN/AR_377_series/hmi....  \n",
       "4     /content/drive/MyDrive/PINN/AR_377_series/hmi....  \n",
       "...                                                 ...  \n",
       "3595  /content/drive/MyDrive/PINN/AR_377_series/hmi....  \n",
       "3596  /content/drive/MyDrive/PINN/AR_377_series/hmi....  \n",
       "3597  /content/drive/MyDrive/PINN/AR_377_series/hmi....  \n",
       "3598  /content/drive/MyDrive/PINN/AR_377_series/hmi....  \n",
       "3599  /content/drive/MyDrive/PINN/AR_377_series/hmi....  \n",
       "\n",
       "[3600 rows x 3 columns]"
      ]
     },
     "execution_count": 12,
     "metadata": {},
     "output_type": "execute_result"
    }
   ],
   "source": [
    "ds = 'hmi.sharp_cea_720s[%d][%s/%s]{Br, Bp, Bt, Br_err, Bp_err, Bt_err}' % \\\n",
    "     (sharp_nr, date.isoformat('_', timespec='seconds'), duration)\n",
    "donwload_ds(ds, series_download_dir, client)"
   ]
  },
  {
   "cell_type": "markdown",
   "metadata": {
    "id": "cJ_xb_10YxKB"
   },
   "source": [
    "# Initial Training"
   ]
  },
  {
   "cell_type": "code",
   "execution_count": null,
   "metadata": {
    "id": "2aFa0IweWEGc"
   },
   "outputs": [],
   "source": [
    "# scan all data files\n",
    "hmi_p_files = sorted(glob.glob(os.path.join(series_download_dir, '*Bp.fits')))  # x\n",
    "hmi_t_files = sorted(glob.glob(os.path.join(series_download_dir, '*Bt.fits')))  # y\n",
    "hmi_r_files = sorted(glob.glob(os.path.join(series_download_dir, '*Br.fits')))  # z\n",
    "err_p_files = sorted(glob.glob(os.path.join(series_download_dir, '*Bp_err.fits')))  # x\n",
    "err_t_files = sorted(glob.glob(os.path.join(series_download_dir, '*Bt_err.fits')))  # y\n",
    "err_r_files = sorted(glob.glob(os.path.join(series_download_dir, '*Br_err.fits')))  # z\n",
    "\n",
    "hmi_p = hmi_p_files[0]\n",
    "hmi_t = hmi_t_files[0]\n",
    "hmi_r = hmi_r_files[0]\n",
    "err_p = err_p_files[0]\n",
    "err_t = err_t_files[0]\n",
    "err_r = err_r_files[0]\n",
    "\n",
    "filename = os.path.basename(hmi_p)\n",
    "\n",
    "hmi_cube, error_cube, meta_info = load_hmi_data([hmi_p, err_p, hmi_r, err_r, hmi_t, err_t])\n",
    "\n",
    "fig, ax = plt.subplots()\n",
    "ax.imshow(hmi_cube[..., 0].transpose(), origin='lower', cmap='gray')\n",
    "ax.set_title(f'{hmi_cube[..., 0].transpose().shape} {filename}')\n",
    "fig.savefig('./hmi_original.png')\n",
    "\n",
    "if d_slice is not None:\n",
    "  hmi_cube = hmi_cube[d_slice[0]:d_slice[1], d_slice[2]:d_slice[3]]\n",
    "  error_cube = error_cube[d_slice[0]:d_slice[1], d_slice[2]:d_slice[3]]\n",
    "\n",
    "fig, ax = plt.subplots()\n",
    "ax.imshow(hmi_cube[..., 0].transpose(), origin='lower', cmap='gray')\n",
    "ax.set_title(f'{hmi_cube[..., 0].transpose().shape} {filename}')\n",
    "fig.savefig('./hmi_cropped.png')\n",
    "\n",
    "if bin > 1:\n",
    "  hmi_cube = block_reduce(hmi_cube, (bin, bin, 1), np.mean)\n",
    "  error_cube = block_reduce(error_cube, (bin, bin, 1), np.mean)\n",
    "\n",
    "fig, ax = plt.subplots()\n",
    "ax.imshow(hmi_cube[..., 0].transpose(), origin='lower', cmap='gray')\n",
    "ax.set_title(f'{hmi_cube[..., 0].transpose().shape} {filename}')\n",
    "fig.savefig('./hmi_cropped_binning.png')\n"
   ]
  },
  {
   "cell_type": "code",
   "execution_count": null,
   "metadata": {
    "id": "nsRFroyHaMf_"
   },
   "outputs": [],
   "source": [
    "trainer = NF2Trainer(base_path, hmi_cube, error_cube, height, spatial_norm, b_norm,\n",
    "                     meta_info=meta_info, dim=dim,\n",
    "                     use_potential_boundary=potential, lambda_div=lambda_div, lambda_ff=lambda_ff,\n",
    "                     decay_iterations=decay_iterations, meta_path=None)"
   ]
  },
  {
   "cell_type": "code",
   "execution_count": null,
   "metadata": {
    "id": "6rUV3dbKamKK"
   },
   "outputs": [],
   "source": [
    "trainer.train(iterations, batch_size, log_interval, validation_interval, num_workers=os.cpu_count())"
   ]
  },
  {
   "cell_type": "markdown",
   "metadata": {
    "id": "FTkHsnNIyYu9"
   },
   "source": [
    "# Series Training"
   ]
  },
  {
   "cell_type": "code",
   "execution_count": null,
   "metadata": {
    "id": "GpJI3XGDcaza"
   },
   "outputs": [],
   "source": [
    "new_meta_path = './ar_377_2011-02-12T00:00:00/extrapolation_result.nf2'"
   ]
  },
  {
   "cell_type": "code",
   "execution_count": null,
   "metadata": {
    "id": "RaA0B02LcOjl"
   },
   "outputs": [],
   "source": [
    "series_iterations = 2000\n",
    "series_batch_size = int(1e4)\n",
    "series_log_interval = 2000\n",
    "series_validation_interval = -1"
   ]
  },
  {
   "cell_type": "code",
   "execution_count": null,
   "metadata": {
    "colab": {
     "base_uri": "https://localhost:8080/"
    },
    "executionInfo": {
     "elapsed": 286,
     "status": "ok",
     "timestamp": 1676959192186,
     "user": {
      "displayName": "Reference Fourth",
      "userId": "11554349687575172729"
     },
     "user_tz": -540
    },
    "id": "eY00KFBacvh0",
    "outputId": "6f57bb58-1b9e-404f-b9b6-5c06c4d4660d"
   },
   "outputs": [
    {
     "name": "stdout",
     "output_type": "stream",
     "text": [
      "./ar_series_377_2011-02-12T00:00:00/base/20110212_000000_TAI/final.pt\n",
      "./ar_series_377_2011-02-12T00:00:00/base/20110212_001200_TAI/final.pt\n",
      "./ar_series_377_2011-02-12T00:00:00/base/20110212_002400_TAI/final.pt\n",
      "./ar_series_377_2011-02-12T00:00:00/base/20110212_003600_TAI/final.pt\n",
      "./ar_series_377_2011-02-12T00:00:00/base/20110212_004800_TAI/final.pt\n",
      "./ar_series_377_2011-02-12T00:00:00/base/20110212_010000_TAI/final.pt\n",
      "./ar_series_377_2011-02-12T00:00:00/base/20110212_011200_TAI/final.pt\n",
      "./ar_series_377_2011-02-12T00:00:00/base/20110212_012400_TAI/final.pt\n",
      "./ar_series_377_2011-02-12T00:00:00/base/20110212_013600_TAI/final.pt\n",
      "./ar_series_377_2011-02-12T00:00:00/base/20110212_014800_TAI/final.pt\n",
      "./ar_series_377_2011-02-12T00:00:00/base/20110212_020000_TAI/final.pt\n",
      "./ar_series_377_2011-02-12T00:00:00/base/20110212_021200_TAI/final.pt\n",
      "./ar_series_377_2011-02-12T00:00:00/base/20110212_022400_TAI/final.pt\n",
      "./ar_series_377_2011-02-12T00:00:00/base/20110212_023600_TAI/final.pt\n",
      "./ar_series_377_2011-02-12T00:00:00/base/20110212_024800_TAI/final.pt\n",
      "./ar_series_377_2011-02-12T00:00:00/base/20110212_030000_TAI/final.pt\n",
      "./ar_series_377_2011-02-12T00:00:00/base/20110212_031200_TAI/final.pt\n",
      "./ar_series_377_2011-02-12T00:00:00/base/20110212_032400_TAI/final.pt\n",
      "./ar_series_377_2011-02-12T00:00:00/base/20110212_033600_TAI/final.pt\n",
      "./ar_series_377_2011-02-12T00:00:00/base/20110212_034800_TAI/final.pt\n",
      "./ar_series_377_2011-02-12T00:00:00/base/20110212_040000_TAI/final.pt\n",
      "./ar_series_377_2011-02-12T00:00:00/base/20110212_041200_TAI/final.pt\n",
      "./ar_series_377_2011-02-12T00:00:00/base/20110212_042400_TAI/final.pt\n",
      "./ar_series_377_2011-02-12T00:00:00/base/20110212_043600_TAI/final.pt\n",
      "./ar_series_377_2011-02-12T00:00:00/base/20110212_044800_TAI/final.pt\n",
      "./ar_series_377_2011-02-12T00:00:00/base/20110212_050000_TAI/final.pt\n",
      "./ar_series_377_2011-02-12T00:00:00/base/20110212_051200_TAI/final.pt\n",
      "./ar_series_377_2011-02-12T00:00:00/base/20110212_052400_TAI/final.pt\n",
      "./ar_series_377_2011-02-12T00:00:00/base/20110212_053600_TAI/final.pt\n",
      "./ar_series_377_2011-02-12T00:00:00/base/20110212_054800_TAI/final.pt\n",
      "./ar_series_377_2011-02-12T00:00:00/base/20110212_060000_TAI/final.pt\n",
      "./ar_series_377_2011-02-12T00:00:00/base/20110212_061200_TAI/final.pt\n",
      "./ar_series_377_2011-02-12T00:00:00/base/20110212_062400_TAI/final.pt\n",
      "./ar_series_377_2011-02-12T00:00:00/base/20110212_063600_TAI/final.pt\n",
      "./ar_series_377_2011-02-12T00:00:00/base/20110212_064800_TAI/final.pt\n",
      "./ar_series_377_2011-02-12T00:00:00/base/20110212_070000_TAI/final.pt\n",
      "./ar_series_377_2011-02-12T00:00:00/base/20110212_071200_TAI/final.pt\n",
      "./ar_series_377_2011-02-12T00:00:00/base/20110212_072400_TAI/final.pt\n",
      "./ar_series_377_2011-02-12T00:00:00/base/20110212_073600_TAI/final.pt\n",
      "./ar_series_377_2011-02-12T00:00:00/base/20110212_074800_TAI/final.pt\n",
      "./ar_series_377_2011-02-12T00:00:00/base/20110212_080000_TAI/final.pt\n",
      "./ar_series_377_2011-02-12T00:00:00/base/20110212_081200_TAI/final.pt\n",
      "./ar_series_377_2011-02-12T00:00:00/base/20110212_082400_TAI/final.pt\n",
      "./ar_series_377_2011-02-12T00:00:00/base/20110212_083600_TAI/final.pt\n",
      "./ar_series_377_2011-02-12T00:00:00/base/20110212_084800_TAI/final.pt\n",
      "./ar_series_377_2011-02-12T00:00:00/base/20110212_090000_TAI/final.pt\n",
      "./ar_series_377_2011-02-12T00:00:00/base/20110212_091200_TAI/final.pt\n",
      "./ar_series_377_2011-02-12T00:00:00/base/20110212_092400_TAI/final.pt\n",
      "./ar_series_377_2011-02-12T00:00:00/base/20110212_093600_TAI/final.pt\n",
      "./ar_series_377_2011-02-12T00:00:00/base/20110212_094800_TAI/final.pt\n",
      "./ar_series_377_2011-02-12T00:00:00/base/20110212_100000_TAI/final.pt\n",
      "./ar_series_377_2011-02-12T00:00:00/base/20110212_101200_TAI/final.pt\n",
      "./ar_series_377_2011-02-12T00:00:00/base/20110212_102400_TAI/final.pt\n",
      "./ar_series_377_2011-02-12T00:00:00/base/20110212_103600_TAI/final.pt\n",
      "./ar_series_377_2011-02-12T00:00:00/base/20110212_104800_TAI/final.pt\n",
      "./ar_series_377_2011-02-12T00:00:00/base/20110212_110000_TAI/final.pt\n",
      "./ar_series_377_2011-02-12T00:00:00/base/20110212_111200_TAI/final.pt\n",
      "./ar_series_377_2011-02-12T00:00:00/base/20110212_112400_TAI/final.pt\n",
      "./ar_series_377_2011-02-12T00:00:00/base/20110212_113600_TAI/final.pt\n",
      "./ar_series_377_2011-02-12T00:00:00/base/20110212_114800_TAI/final.pt\n",
      "./ar_series_377_2011-02-12T00:00:00/base/20110212_120000_TAI/final.pt\n",
      "./ar_series_377_2011-02-12T00:00:00/base/20110212_121200_TAI/final.pt\n",
      "./ar_series_377_2011-02-12T00:00:00/base/20110212_122400_TAI/final.pt\n",
      "./ar_series_377_2011-02-12T00:00:00/base/20110212_123600_TAI/final.pt\n",
      "./ar_series_377_2011-02-12T00:00:00/base/20110212_124800_TAI/final.pt\n",
      "./ar_series_377_2011-02-12T00:00:00/base/20110212_130000_TAI/final.pt\n",
      "./ar_series_377_2011-02-12T00:00:00/base/20110212_131200_TAI/final.pt\n",
      "./ar_series_377_2011-02-12T00:00:00/base/20110212_132400_TAI/final.pt\n",
      "./ar_series_377_2011-02-12T00:00:00/base/20110212_133600_TAI/final.pt\n",
      "./ar_series_377_2011-02-12T00:00:00/base/20110212_134800_TAI/final.pt\n",
      "./ar_series_377_2011-02-12T00:00:00/base/20110212_140000_TAI/final.pt\n",
      "./ar_series_377_2011-02-12T00:00:00/base/20110212_141200_TAI/final.pt\n",
      "./ar_series_377_2011-02-12T00:00:00/base/20110212_142400_TAI/final.pt\n",
      "./ar_series_377_2011-02-12T00:00:00/base/20110212_143600_TAI/final.pt\n",
      "./ar_series_377_2011-02-12T00:00:00/base/20110212_144800_TAI/final.pt\n",
      "./ar_series_377_2011-02-12T00:00:00/base/20110212_150000_TAI/final.pt\n",
      "./ar_series_377_2011-02-12T00:00:00/base/20110212_151200_TAI/final.pt\n",
      "./ar_series_377_2011-02-12T00:00:00/base/20110212_152400_TAI/final.pt\n",
      "./ar_series_377_2011-02-12T00:00:00/base/20110212_153600_TAI/final.pt\n",
      "./ar_series_377_2011-02-12T00:00:00/base/20110212_154800_TAI/final.pt\n",
      "./ar_series_377_2011-02-12T00:00:00/base/20110212_160000_TAI/final.pt\n",
      "./ar_series_377_2011-02-12T00:00:00/base/20110212_161200_TAI/final.pt\n",
      "./ar_series_377_2011-02-12T00:00:00/base/20110212_162400_TAI/final.pt\n",
      "./ar_series_377_2011-02-12T00:00:00/base/20110212_163600_TAI/final.pt\n",
      "./ar_series_377_2011-02-12T00:00:00/base/20110212_164800_TAI/final.pt\n",
      "./ar_series_377_2011-02-12T00:00:00/base/20110212_170000_TAI/final.pt\n",
      "./ar_series_377_2011-02-12T00:00:00/base/20110212_171200_TAI/final.pt\n",
      "./ar_series_377_2011-02-12T00:00:00/base/20110212_172400_TAI/final.pt\n",
      "./ar_series_377_2011-02-12T00:00:00/base/20110212_173600_TAI/final.pt\n",
      "./ar_series_377_2011-02-12T00:00:00/base/20110212_174800_TAI/final.pt\n",
      "./ar_series_377_2011-02-12T00:00:00/base/20110212_180000_TAI/final.pt\n",
      "./ar_series_377_2011-02-12T00:00:00/base/20110212_181200_TAI/final.pt\n",
      "./ar_series_377_2011-02-12T00:00:00/base/20110212_182400_TAI/final.pt\n",
      "./ar_series_377_2011-02-12T00:00:00/base/20110212_183600_TAI/final.pt\n",
      "./ar_series_377_2011-02-12T00:00:00/base/20110212_184800_TAI/final.pt\n",
      "./ar_series_377_2011-02-12T00:00:00/base/20110212_190000_TAI/final.pt\n",
      "./ar_series_377_2011-02-12T00:00:00/base/20110212_191200_TAI/final.pt\n",
      "./ar_series_377_2011-02-12T00:00:00/base/20110212_192400_TAI/final.pt\n",
      "./ar_series_377_2011-02-12T00:00:00/base/20110212_193600_TAI/final.pt\n",
      "./ar_series_377_2011-02-12T00:00:00/base/20110212_194800_TAI/final.pt\n",
      "./ar_series_377_2011-02-12T00:00:00/base/20110212_200000_TAI/final.pt\n",
      "./ar_series_377_2011-02-12T00:00:00/base/20110212_201200_TAI/final.pt\n",
      "./ar_series_377_2011-02-12T00:00:00/base/20110212_202400_TAI/final.pt\n",
      "./ar_series_377_2011-02-12T00:00:00/base/20110212_203600_TAI/final.pt\n",
      "./ar_series_377_2011-02-12T00:00:00/base/20110212_204800_TAI/final.pt\n",
      "./ar_series_377_2011-02-12T00:00:00/base/20110212_210000_TAI/final.pt\n",
      "./ar_series_377_2011-02-12T00:00:00/base/20110212_211200_TAI/final.pt\n",
      "./ar_series_377_2011-02-12T00:00:00/base/20110212_212400_TAI/final.pt\n",
      "./ar_series_377_2011-02-12T00:00:00/base/20110212_213600_TAI/final.pt\n",
      "./ar_series_377_2011-02-12T00:00:00/base/20110212_214800_TAI/final.pt\n",
      "./ar_series_377_2011-02-12T00:00:00/base/20110212_220000_TAI/final.pt\n",
      "./ar_series_377_2011-02-12T00:00:00/base/20110212_221200_TAI/final.pt\n",
      "./ar_series_377_2011-02-12T00:00:00/base/20110212_222400_TAI/final.pt\n",
      "./ar_series_377_2011-02-12T00:00:00/base/20110212_223600_TAI/final.pt\n",
      "./ar_series_377_2011-02-12T00:00:00/base/20110212_224800_TAI/final.pt\n",
      "./ar_series_377_2011-02-12T00:00:00/base/20110212_230000_TAI/final.pt\n",
      "./ar_series_377_2011-02-12T00:00:00/base/20110212_231200_TAI/final.pt\n",
      "./ar_series_377_2011-02-12T00:00:00/base/20110212_232400_TAI/final.pt\n",
      "./ar_series_377_2011-02-12T00:00:00/base/20110212_233600_TAI/final.pt\n",
      "./ar_series_377_2011-02-12T00:00:00/base/20110212_234800_TAI/final.pt\n",
      "./ar_series_377_2011-02-12T00:00:00/base/20110213_000000_TAI/final.pt\n",
      "./ar_series_377_2011-02-12T00:00:00/base/20110213_001200_TAI/final.pt\n",
      "./ar_series_377_2011-02-12T00:00:00/base/20110213_002400_TAI/final.pt\n",
      "./ar_series_377_2011-02-12T00:00:00/base/20110213_003600_TAI/final.pt\n",
      "./ar_series_377_2011-02-12T00:00:00/base/20110213_004800_TAI/final.pt\n",
      "./ar_series_377_2011-02-12T00:00:00/base/20110213_010000_TAI/final.pt\n",
      "./ar_series_377_2011-02-12T00:00:00/base/20110213_011200_TAI/final.pt\n",
      "./ar_series_377_2011-02-12T00:00:00/base/20110213_012400_TAI/final.pt\n",
      "./ar_series_377_2011-02-12T00:00:00/base/20110213_013600_TAI/final.pt\n",
      "./ar_series_377_2011-02-12T00:00:00/base/20110213_014800_TAI/final.pt\n",
      "./ar_series_377_2011-02-12T00:00:00/base/20110213_020000_TAI/final.pt\n",
      "./ar_series_377_2011-02-12T00:00:00/base/20110213_021200_TAI/final.pt\n",
      "./ar_series_377_2011-02-12T00:00:00/base/20110213_022400_TAI/final.pt\n",
      "./ar_series_377_2011-02-12T00:00:00/base/20110213_023600_TAI/final.pt\n",
      "./ar_series_377_2011-02-12T00:00:00/base/20110213_024800_TAI/final.pt\n",
      "./ar_series_377_2011-02-12T00:00:00/base/20110213_030000_TAI/final.pt\n",
      "./ar_series_377_2011-02-12T00:00:00/base/20110213_031200_TAI/final.pt\n",
      "./ar_series_377_2011-02-12T00:00:00/base/20110213_032400_TAI/final.pt\n",
      "./ar_series_377_2011-02-12T00:00:00/base/20110213_033600_TAI/final.pt\n",
      "./ar_series_377_2011-02-12T00:00:00/base/20110213_034800_TAI/final.pt\n",
      "./ar_series_377_2011-02-12T00:00:00/base/20110213_040000_TAI/final.pt\n",
      "./ar_series_377_2011-02-12T00:00:00/base/20110213_041200_TAI/final.pt\n",
      "./ar_series_377_2011-02-12T00:00:00/base/20110213_042400_TAI/final.pt\n",
      "./ar_series_377_2011-02-12T00:00:00/base/20110213_043600_TAI/final.pt\n",
      "./ar_series_377_2011-02-12T00:00:00/base/20110213_044800_TAI/final.pt\n",
      "./ar_series_377_2011-02-12T00:00:00/base/20110213_050000_TAI/final.pt\n",
      "./ar_series_377_2011-02-12T00:00:00/base/20110213_051200_TAI/final.pt\n",
      "./ar_series_377_2011-02-12T00:00:00/base/20110213_052400_TAI/final.pt\n",
      "./ar_series_377_2011-02-12T00:00:00/base/20110213_053600_TAI/final.pt\n",
      "./ar_series_377_2011-02-12T00:00:00/base/20110213_054800_TAI/final.pt\n",
      "./ar_series_377_2011-02-12T00:00:00/base/20110213_060000_TAI/final.pt\n",
      "./ar_series_377_2011-02-12T00:00:00/base/20110213_061200_TAI/final.pt\n",
      "./ar_series_377_2011-02-12T00:00:00/base/20110213_062400_TAI/final.pt\n",
      "./ar_series_377_2011-02-12T00:00:00/base/20110213_063600_TAI/final.pt\n",
      "./ar_series_377_2011-02-12T00:00:00/base/20110213_064800_TAI/final.pt\n",
      "./ar_series_377_2011-02-12T00:00:00/base/20110213_070000_TAI/final.pt\n",
      "./ar_series_377_2011-02-12T00:00:00/base/20110213_071200_TAI/final.pt\n",
      "./ar_series_377_2011-02-12T00:00:00/base/20110213_072400_TAI/final.pt\n",
      "./ar_series_377_2011-02-12T00:00:00/base/20110213_073600_TAI/final.pt\n",
      "./ar_series_377_2011-02-12T00:00:00/base/20110213_074800_TAI/final.pt\n",
      "./ar_series_377_2011-02-12T00:00:00/base/20110213_080000_TAI/final.pt\n",
      "./ar_series_377_2011-02-12T00:00:00/base/20110213_081200_TAI/final.pt\n",
      "./ar_series_377_2011-02-12T00:00:00/base/20110213_082400_TAI/final.pt\n",
      "./ar_series_377_2011-02-12T00:00:00/base/20110213_083600_TAI/final.pt\n",
      "./ar_series_377_2011-02-12T00:00:00/base/20110213_084800_TAI/final.pt\n",
      "./ar_series_377_2011-02-12T00:00:00/base/20110213_090000_TAI/final.pt\n",
      "./ar_series_377_2011-02-12T00:00:00/base/20110213_091200_TAI/final.pt\n",
      "./ar_series_377_2011-02-12T00:00:00/base/20110213_092400_TAI/final.pt\n",
      "./ar_series_377_2011-02-12T00:00:00/base/20110213_093600_TAI/final.pt\n",
      "./ar_series_377_2011-02-12T00:00:00/base/20110213_094800_TAI/final.pt\n",
      "./ar_series_377_2011-02-12T00:00:00/base/20110213_100000_TAI/final.pt\n",
      "./ar_series_377_2011-02-12T00:00:00/base/20110213_101200_TAI/final.pt\n",
      "./ar_series_377_2011-02-12T00:00:00/base/20110213_102400_TAI/final.pt\n",
      "./ar_series_377_2011-02-12T00:00:00/base/20110213_103600_TAI/final.pt\n",
      "./ar_series_377_2011-02-12T00:00:00/base/20110213_104800_TAI/final.pt\n",
      "./ar_series_377_2011-02-12T00:00:00/base/20110213_110000_TAI/final.pt\n",
      "./ar_series_377_2011-02-12T00:00:00/base/20110213_111200_TAI/final.pt\n",
      "./ar_series_377_2011-02-12T00:00:00/base/20110213_112400_TAI/final.pt\n",
      "./ar_series_377_2011-02-12T00:00:00/base/20110213_113600_TAI/final.pt\n",
      "./ar_series_377_2011-02-12T00:00:00/base/20110213_114800_TAI/final.pt\n",
      "./ar_series_377_2011-02-12T00:00:00/base/20110213_120000_TAI/final.pt\n",
      "./ar_series_377_2011-02-12T00:00:00/base/20110213_121200_TAI/final.pt\n",
      "./ar_series_377_2011-02-12T00:00:00/base/20110213_122400_TAI/final.pt\n",
      "./ar_series_377_2011-02-12T00:00:00/base/20110213_123600_TAI/final.pt\n",
      "./ar_series_377_2011-02-12T00:00:00/base/20110213_124800_TAI/final.pt\n",
      "./ar_series_377_2011-02-12T00:00:00/base/20110213_130000_TAI/final.pt\n",
      "./ar_series_377_2011-02-12T00:00:00/base/20110213_131200_TAI/final.pt\n",
      "./ar_series_377_2011-02-12T00:00:00/base/20110213_132400_TAI/final.pt\n",
      "./ar_series_377_2011-02-12T00:00:00/base/20110213_133600_TAI/final.pt\n",
      "./ar_series_377_2011-02-12T00:00:00/base/20110213_134800_TAI/final.pt\n",
      "./ar_series_377_2011-02-12T00:00:00/base/20110213_140000_TAI/final.pt\n",
      "./ar_series_377_2011-02-12T00:00:00/base/20110213_141200_TAI/final.pt\n",
      "./ar_series_377_2011-02-12T00:00:00/base/20110213_142400_TAI/final.pt\n",
      "./ar_series_377_2011-02-12T00:00:00/base/20110213_143600_TAI/final.pt\n",
      "./ar_series_377_2011-02-12T00:00:00/base/20110213_144800_TAI/final.pt\n",
      "./ar_series_377_2011-02-12T00:00:00/base/20110213_150000_TAI/final.pt\n",
      "./ar_series_377_2011-02-12T00:00:00/base/20110213_151200_TAI/final.pt\n",
      "./ar_series_377_2011-02-12T00:00:00/base/20110213_152400_TAI/final.pt\n",
      "./ar_series_377_2011-02-12T00:00:00/base/20110213_153600_TAI/final.pt\n",
      "./ar_series_377_2011-02-12T00:00:00/base/20110213_154800_TAI/final.pt\n",
      "./ar_series_377_2011-02-12T00:00:00/base/20110213_160000_TAI/final.pt\n",
      "./ar_series_377_2011-02-12T00:00:00/base/20110213_161200_TAI/final.pt\n",
      "./ar_series_377_2011-02-12T00:00:00/base/20110213_162400_TAI/final.pt\n",
      "./ar_series_377_2011-02-12T00:00:00/base/20110213_163600_TAI/final.pt\n",
      "./ar_series_377_2011-02-12T00:00:00/base/20110213_164800_TAI/final.pt\n",
      "./ar_series_377_2011-02-12T00:00:00/base/20110213_170000_TAI/final.pt\n",
      "./ar_series_377_2011-02-12T00:00:00/base/20110213_171200_TAI/final.pt\n",
      "./ar_series_377_2011-02-12T00:00:00/base/20110213_172400_TAI/final.pt\n",
      "./ar_series_377_2011-02-12T00:00:00/base/20110213_173600_TAI/final.pt\n",
      "./ar_series_377_2011-02-12T00:00:00/base/20110213_174800_TAI/final.pt\n",
      "./ar_series_377_2011-02-12T00:00:00/base/20110213_180000_TAI/final.pt\n",
      "./ar_series_377_2011-02-12T00:00:00/base/20110213_181200_TAI/final.pt\n",
      "./ar_series_377_2011-02-12T00:00:00/base/20110213_182400_TAI/final.pt\n",
      "./ar_series_377_2011-02-12T00:00:00/base/20110213_183600_TAI/final.pt\n",
      "./ar_series_377_2011-02-12T00:00:00/base/20110213_184800_TAI/final.pt\n",
      "./ar_series_377_2011-02-12T00:00:00/base/20110213_190000_TAI/final.pt\n",
      "./ar_series_377_2011-02-12T00:00:00/base/20110213_191200_TAI/final.pt\n",
      "./ar_series_377_2011-02-12T00:00:00/base/20110213_192400_TAI/final.pt\n",
      "./ar_series_377_2011-02-12T00:00:00/base/20110213_193600_TAI/final.pt\n",
      "./ar_series_377_2011-02-12T00:00:00/base/20110213_194800_TAI/final.pt\n",
      "./ar_series_377_2011-02-12T00:00:00/base/20110213_200000_TAI/final.pt\n",
      "./ar_series_377_2011-02-12T00:00:00/base/20110213_201200_TAI/final.pt\n",
      "./ar_series_377_2011-02-12T00:00:00/base/20110213_202400_TAI/final.pt\n",
      "./ar_series_377_2011-02-12T00:00:00/base/20110213_203600_TAI/final.pt\n",
      "./ar_series_377_2011-02-12T00:00:00/base/20110213_204800_TAI/final.pt\n",
      "./ar_series_377_2011-02-12T00:00:00/base/20110213_210000_TAI/final.pt\n",
      "./ar_series_377_2011-02-12T00:00:00/base/20110213_211200_TAI/final.pt\n",
      "./ar_series_377_2011-02-12T00:00:00/base/20110213_212400_TAI/final.pt\n",
      "./ar_series_377_2011-02-12T00:00:00/base/20110213_213600_TAI/final.pt\n",
      "./ar_series_377_2011-02-12T00:00:00/base/20110213_214800_TAI/final.pt\n",
      "./ar_series_377_2011-02-12T00:00:00/base/20110213_220000_TAI/final.pt\n",
      "./ar_series_377_2011-02-12T00:00:00/base/20110213_221200_TAI/final.pt\n",
      "./ar_series_377_2011-02-12T00:00:00/base/20110213_222400_TAI/final.pt\n",
      "./ar_series_377_2011-02-12T00:00:00/base/20110213_223600_TAI/final.pt\n",
      "./ar_series_377_2011-02-12T00:00:00/base/20110213_224800_TAI/final.pt\n",
      "./ar_series_377_2011-02-12T00:00:00/base/20110213_230000_TAI/final.pt\n",
      "./ar_series_377_2011-02-12T00:00:00/base/20110213_231200_TAI/final.pt\n",
      "./ar_series_377_2011-02-12T00:00:00/base/20110213_232400_TAI/final.pt\n",
      "./ar_series_377_2011-02-12T00:00:00/base/20110213_233600_TAI/final.pt\n",
      "./ar_series_377_2011-02-12T00:00:00/base/20110213_234800_TAI/final.pt\n",
      "./ar_series_377_2011-02-12T00:00:00/base/20110214_000000_TAI/final.pt\n",
      "./ar_series_377_2011-02-12T00:00:00/base/20110214_001200_TAI/final.pt\n",
      "./ar_series_377_2011-02-12T00:00:00/base/20110214_002400_TAI/final.pt\n",
      "./ar_series_377_2011-02-12T00:00:00/base/20110214_003600_TAI/final.pt\n",
      "./ar_series_377_2011-02-12T00:00:00/base/20110214_004800_TAI/final.pt\n",
      "./ar_series_377_2011-02-12T00:00:00/base/20110214_010000_TAI/final.pt\n",
      "./ar_series_377_2011-02-12T00:00:00/base/20110214_011200_TAI/final.pt\n",
      "./ar_series_377_2011-02-12T00:00:00/base/20110214_012400_TAI/final.pt\n",
      "./ar_series_377_2011-02-12T00:00:00/base/20110214_013600_TAI/final.pt\n",
      "./ar_series_377_2011-02-12T00:00:00/base/20110214_014800_TAI/final.pt\n",
      "./ar_series_377_2011-02-12T00:00:00/base/20110214_020000_TAI/final.pt\n",
      "./ar_series_377_2011-02-12T00:00:00/base/20110214_021200_TAI/final.pt\n",
      "./ar_series_377_2011-02-12T00:00:00/base/20110214_022400_TAI/final.pt\n",
      "./ar_series_377_2011-02-12T00:00:00/base/20110214_023600_TAI/final.pt\n",
      "./ar_series_377_2011-02-12T00:00:00/base/20110214_024800_TAI/final.pt\n",
      "./ar_series_377_2011-02-12T00:00:00/base/20110214_030000_TAI/final.pt\n",
      "./ar_series_377_2011-02-12T00:00:00/base/20110214_031200_TAI/final.pt\n",
      "./ar_series_377_2011-02-12T00:00:00/base/20110214_032400_TAI/final.pt\n",
      "./ar_series_377_2011-02-12T00:00:00/base/20110214_033600_TAI/final.pt\n",
      "./ar_series_377_2011-02-12T00:00:00/base/20110214_034800_TAI/final.pt\n",
      "./ar_series_377_2011-02-12T00:00:00/base/20110214_040000_TAI/final.pt\n",
      "./ar_series_377_2011-02-12T00:00:00/base/20110214_041200_TAI/final.pt\n",
      "./ar_series_377_2011-02-12T00:00:00/base/20110214_042400_TAI/final.pt\n",
      "./ar_series_377_2011-02-12T00:00:00/base/20110214_043600_TAI/final.pt\n",
      "./ar_series_377_2011-02-12T00:00:00/base/20110214_044800_TAI/final.pt\n",
      "./ar_series_377_2011-02-12T00:00:00/base/20110214_050000_TAI/final.pt\n",
      "./ar_series_377_2011-02-12T00:00:00/base/20110214_051200_TAI/final.pt\n",
      "./ar_series_377_2011-02-12T00:00:00/base/20110214_052400_TAI/final.pt\n",
      "./ar_series_377_2011-02-12T00:00:00/base/20110214_053600_TAI/final.pt\n",
      "./ar_series_377_2011-02-12T00:00:00/base/20110214_054800_TAI/final.pt\n",
      "./ar_series_377_2011-02-12T00:00:00/base/20110214_060000_TAI/final.pt\n",
      "./ar_series_377_2011-02-12T00:00:00/base/20110214_061200_TAI/final.pt\n",
      "./ar_series_377_2011-02-12T00:00:00/base/20110214_062400_TAI/final.pt\n",
      "./ar_series_377_2011-02-12T00:00:00/base/20110214_063600_TAI/final.pt\n",
      "./ar_series_377_2011-02-12T00:00:00/base/20110214_064800_TAI/final.pt\n",
      "./ar_series_377_2011-02-12T00:00:00/base/20110214_070000_TAI/final.pt\n",
      "./ar_series_377_2011-02-12T00:00:00/base/20110214_071200_TAI/final.pt\n",
      "./ar_series_377_2011-02-12T00:00:00/base/20110214_072400_TAI/final.pt\n",
      "./ar_series_377_2011-02-12T00:00:00/base/20110214_073600_TAI/final.pt\n",
      "./ar_series_377_2011-02-12T00:00:00/base/20110214_074800_TAI/final.pt\n",
      "./ar_series_377_2011-02-12T00:00:00/base/20110214_080000_TAI/final.pt\n",
      "./ar_series_377_2011-02-12T00:00:00/base/20110214_081200_TAI/final.pt\n",
      "./ar_series_377_2011-02-12T00:00:00/base/20110214_082400_TAI/final.pt\n",
      "./ar_series_377_2011-02-12T00:00:00/base/20110214_083600_TAI/final.pt\n",
      "./ar_series_377_2011-02-12T00:00:00/base/20110214_084800_TAI/final.pt\n",
      "./ar_series_377_2011-02-12T00:00:00/base/20110214_090000_TAI/final.pt\n",
      "./ar_series_377_2011-02-12T00:00:00/base/20110214_091200_TAI/final.pt\n",
      "./ar_series_377_2011-02-12T00:00:00/base/20110214_092400_TAI/final.pt\n",
      "./ar_series_377_2011-02-12T00:00:00/base/20110214_093600_TAI/final.pt\n",
      "./ar_series_377_2011-02-12T00:00:00/base/20110214_094800_TAI/final.pt\n",
      "./ar_series_377_2011-02-12T00:00:00/base/20110214_100000_TAI/final.pt\n",
      "./ar_series_377_2011-02-12T00:00:00/base/20110214_101200_TAI/final.pt\n",
      "./ar_series_377_2011-02-12T00:00:00/base/20110214_102400_TAI/final.pt\n",
      "./ar_series_377_2011-02-12T00:00:00/base/20110214_103600_TAI/final.pt\n",
      "./ar_series_377_2011-02-12T00:00:00/base/20110214_104800_TAI/final.pt\n",
      "./ar_series_377_2011-02-12T00:00:00/base/20110214_110000_TAI/final.pt\n",
      "./ar_series_377_2011-02-12T00:00:00/base/20110214_111200_TAI/final.pt\n",
      "./ar_series_377_2011-02-12T00:00:00/base/20110214_112400_TAI/final.pt\n",
      "./ar_series_377_2011-02-12T00:00:00/base/20110214_113600_TAI/final.pt\n",
      "./ar_series_377_2011-02-12T00:00:00/base/20110214_114800_TAI/final.pt\n",
      "./ar_series_377_2011-02-12T00:00:00/base/20110214_120000_TAI/final.pt\n",
      "./ar_series_377_2011-02-12T00:00:00/base/20110214_121200_TAI/final.pt\n",
      "./ar_series_377_2011-02-12T00:00:00/base/20110214_122400_TAI/final.pt\n",
      "./ar_series_377_2011-02-12T00:00:00/base/20110214_123600_TAI/final.pt\n",
      "./ar_series_377_2011-02-12T00:00:00/base/20110214_124800_TAI/final.pt\n",
      "./ar_series_377_2011-02-12T00:00:00/base/20110214_130000_TAI/final.pt\n",
      "./ar_series_377_2011-02-12T00:00:00/base/20110214_131200_TAI/final.pt\n",
      "./ar_series_377_2011-02-12T00:00:00/base/20110214_132400_TAI/final.pt\n",
      "./ar_series_377_2011-02-12T00:00:00/base/20110214_133600_TAI/final.pt\n",
      "./ar_series_377_2011-02-12T00:00:00/base/20110214_134800_TAI/final.pt\n",
      "./ar_series_377_2011-02-12T00:00:00/base/20110214_140000_TAI/final.pt\n",
      "./ar_series_377_2011-02-12T00:00:00/base/20110214_141200_TAI/final.pt\n",
      "./ar_series_377_2011-02-12T00:00:00/base/20110214_142400_TAI/final.pt\n",
      "./ar_series_377_2011-02-12T00:00:00/base/20110214_143600_TAI/final.pt\n",
      "./ar_series_377_2011-02-12T00:00:00/base/20110214_144800_TAI/final.pt\n",
      "./ar_series_377_2011-02-12T00:00:00/base/20110214_150000_TAI/final.pt\n",
      "./ar_series_377_2011-02-12T00:00:00/base/20110214_151200_TAI/final.pt\n",
      "./ar_series_377_2011-02-12T00:00:00/base/20110214_152400_TAI/final.pt\n",
      "./ar_series_377_2011-02-12T00:00:00/base/20110214_153600_TAI/final.pt\n",
      "./ar_series_377_2011-02-12T00:00:00/base/20110214_154800_TAI/final.pt\n",
      "./ar_series_377_2011-02-12T00:00:00/base/20110214_160000_TAI/final.pt\n",
      "./ar_series_377_2011-02-12T00:00:00/base/20110214_161200_TAI/final.pt\n",
      "./ar_series_377_2011-02-12T00:00:00/base/20110214_162400_TAI/final.pt\n",
      "./ar_series_377_2011-02-12T00:00:00/base/20110214_163600_TAI/final.pt\n",
      "./ar_series_377_2011-02-12T00:00:00/base/20110214_164800_TAI/final.pt\n",
      "./ar_series_377_2011-02-12T00:00:00/base/20110214_170000_TAI/final.pt\n",
      "./ar_series_377_2011-02-12T00:00:00/base/20110214_171200_TAI/final.pt\n",
      "./ar_series_377_2011-02-12T00:00:00/base/20110214_172400_TAI/final.pt\n",
      "./ar_series_377_2011-02-12T00:00:00/base/20110214_173600_TAI/final.pt\n",
      "./ar_series_377_2011-02-12T00:00:00/base/20110214_174800_TAI/final.pt\n",
      "./ar_series_377_2011-02-12T00:00:00/base/20110214_180000_TAI/final.pt\n",
      "./ar_series_377_2011-02-12T00:00:00/base/20110214_181200_TAI/final.pt\n",
      "./ar_series_377_2011-02-12T00:00:00/base/20110214_182400_TAI/final.pt\n",
      "./ar_series_377_2011-02-12T00:00:00/base/20110214_183600_TAI/final.pt\n",
      "./ar_series_377_2011-02-12T00:00:00/base/20110214_184800_TAI/final.pt\n",
      "./ar_series_377_2011-02-12T00:00:00/base/20110214_190000_TAI/final.pt\n",
      "./ar_series_377_2011-02-12T00:00:00/base/20110214_191200_TAI/final.pt\n",
      "./ar_series_377_2011-02-12T00:00:00/base/20110214_192400_TAI/final.pt\n",
      "./ar_series_377_2011-02-12T00:00:00/base/20110214_193600_TAI/final.pt\n",
      "./ar_series_377_2011-02-12T00:00:00/base/20110214_194800_TAI/final.pt\n",
      "./ar_series_377_2011-02-12T00:00:00/base/20110214_200000_TAI/final.pt\n",
      "./ar_series_377_2011-02-12T00:00:00/base/20110214_201200_TAI/final.pt\n",
      "./ar_series_377_2011-02-12T00:00:00/base/20110214_202400_TAI/final.pt\n",
      "./ar_series_377_2011-02-12T00:00:00/base/20110214_203600_TAI/final.pt\n",
      "./ar_series_377_2011-02-12T00:00:00/base/20110214_204800_TAI/final.pt\n",
      "./ar_series_377_2011-02-12T00:00:00/base/20110214_210000_TAI/final.pt\n",
      "./ar_series_377_2011-02-12T00:00:00/base/20110214_211200_TAI/final.pt\n",
      "./ar_series_377_2011-02-12T00:00:00/base/20110214_212400_TAI/final.pt\n",
      "./ar_series_377_2011-02-12T00:00:00/base/20110214_213600_TAI/final.pt\n",
      "./ar_series_377_2011-02-12T00:00:00/base/20110214_214800_TAI/final.pt\n",
      "./ar_series_377_2011-02-12T00:00:00/base/20110214_220000_TAI/final.pt\n",
      "./ar_series_377_2011-02-12T00:00:00/base/20110214_221200_TAI/final.pt\n",
      "./ar_series_377_2011-02-12T00:00:00/base/20110214_222400_TAI/final.pt\n",
      "./ar_series_377_2011-02-12T00:00:00/base/20110214_223600_TAI/final.pt\n",
      "./ar_series_377_2011-02-12T00:00:00/base/20110214_224800_TAI/final.pt\n",
      "./ar_series_377_2011-02-12T00:00:00/base/20110214_230000_TAI/final.pt\n",
      "./ar_series_377_2011-02-12T00:00:00/base/20110214_231200_TAI/final.pt\n",
      "./ar_series_377_2011-02-12T00:00:00/base/20110214_232400_TAI/final.pt\n",
      "./ar_series_377_2011-02-12T00:00:00/base/20110214_233600_TAI/final.pt\n",
      "./ar_series_377_2011-02-12T00:00:00/base/20110214_234800_TAI/final.pt\n",
      "./ar_series_377_2011-02-12T00:00:00/base/20110215_000000_TAI/final.pt\n",
      "./ar_series_377_2011-02-12T00:00:00/base/20110215_001200_TAI/final.pt\n",
      "./ar_series_377_2011-02-12T00:00:00/base/20110215_002400_TAI/final.pt\n",
      "./ar_series_377_2011-02-12T00:00:00/base/20110215_003600_TAI/final.pt\n",
      "./ar_series_377_2011-02-12T00:00:00/base/20110215_004800_TAI/final.pt\n",
      "./ar_series_377_2011-02-12T00:00:00/base/20110215_010000_TAI/final.pt\n",
      "./ar_series_377_2011-02-12T00:00:00/base/20110215_011200_TAI/final.pt\n",
      "./ar_series_377_2011-02-12T00:00:00/base/20110215_012400_TAI/final.pt\n",
      "./ar_series_377_2011-02-12T00:00:00/base/20110215_013600_TAI/final.pt\n",
      "./ar_series_377_2011-02-12T00:00:00/base/20110215_014800_TAI/final.pt\n",
      "./ar_series_377_2011-02-12T00:00:00/base/20110215_020000_TAI/final.pt\n",
      "./ar_series_377_2011-02-12T00:00:00/base/20110215_021200_TAI/final.pt\n",
      "./ar_series_377_2011-02-12T00:00:00/base/20110215_022400_TAI/final.pt\n",
      "./ar_series_377_2011-02-12T00:00:00/base/20110215_023600_TAI/final.pt\n",
      "./ar_series_377_2011-02-12T00:00:00/base/20110215_024800_TAI/final.pt\n",
      "./ar_series_377_2011-02-12T00:00:00/base/20110215_030000_TAI/final.pt\n",
      "./ar_series_377_2011-02-12T00:00:00/base/20110215_031200_TAI/final.pt\n",
      "./ar_series_377_2011-02-12T00:00:00/base/20110215_032400_TAI/final.pt\n",
      "./ar_series_377_2011-02-12T00:00:00/base/20110215_033600_TAI/final.pt\n",
      "./ar_series_377_2011-02-12T00:00:00/base/20110215_034800_TAI/final.pt\n",
      "./ar_series_377_2011-02-12T00:00:00/base/20110215_040000_TAI/final.pt\n",
      "./ar_series_377_2011-02-12T00:00:00/base/20110215_041200_TAI/final.pt\n",
      "./ar_series_377_2011-02-12T00:00:00/base/20110215_042400_TAI/final.pt\n",
      "./ar_series_377_2011-02-12T00:00:00/base/20110215_043600_TAI/final.pt\n",
      "./ar_series_377_2011-02-12T00:00:00/base/20110215_044800_TAI/final.pt\n",
      "./ar_series_377_2011-02-12T00:00:00/base/20110215_050000_TAI/final.pt\n",
      "./ar_series_377_2011-02-12T00:00:00/base/20110215_051200_TAI/final.pt\n",
      "./ar_series_377_2011-02-12T00:00:00/base/20110215_052400_TAI/final.pt\n",
      "./ar_series_377_2011-02-12T00:00:00/base/20110215_053600_TAI/final.pt\n",
      "./ar_series_377_2011-02-12T00:00:00/base/20110215_054800_TAI/final.pt\n",
      "./ar_series_377_2011-02-12T00:00:00/base/20110215_060000_TAI/final.pt\n",
      "./ar_series_377_2011-02-12T00:00:00/base/20110215_061200_TAI/final.pt\n",
      "./ar_series_377_2011-02-12T00:00:00/base/20110215_062400_TAI/final.pt\n",
      "./ar_series_377_2011-02-12T00:00:00/base/20110215_063600_TAI/final.pt\n",
      "./ar_series_377_2011-02-12T00:00:00/base/20110215_064800_TAI/final.pt\n",
      "./ar_series_377_2011-02-12T00:00:00/base/20110215_070000_TAI/final.pt\n",
      "./ar_series_377_2011-02-12T00:00:00/base/20110215_071200_TAI/final.pt\n",
      "./ar_series_377_2011-02-12T00:00:00/base/20110215_072400_TAI/final.pt\n",
      "./ar_series_377_2011-02-12T00:00:00/base/20110215_073600_TAI/final.pt\n",
      "./ar_series_377_2011-02-12T00:00:00/base/20110215_074800_TAI/final.pt\n",
      "./ar_series_377_2011-02-12T00:00:00/base/20110215_080000_TAI/final.pt\n",
      "./ar_series_377_2011-02-12T00:00:00/base/20110215_081200_TAI/final.pt\n",
      "./ar_series_377_2011-02-12T00:00:00/base/20110215_082400_TAI/final.pt\n",
      "./ar_series_377_2011-02-12T00:00:00/base/20110215_083600_TAI/final.pt\n",
      "./ar_series_377_2011-02-12T00:00:00/base/20110215_084800_TAI/final.pt\n",
      "./ar_series_377_2011-02-12T00:00:00/base/20110215_090000_TAI/final.pt\n",
      "./ar_series_377_2011-02-12T00:00:00/base/20110215_091200_TAI/final.pt\n",
      "./ar_series_377_2011-02-12T00:00:00/base/20110215_092400_TAI/final.pt\n",
      "./ar_series_377_2011-02-12T00:00:00/base/20110215_093600_TAI/final.pt\n",
      "./ar_series_377_2011-02-12T00:00:00/base/20110215_094800_TAI/final.pt\n",
      "./ar_series_377_2011-02-12T00:00:00/base/20110215_100000_TAI/final.pt\n",
      "./ar_series_377_2011-02-12T00:00:00/base/20110215_101200_TAI/final.pt\n",
      "./ar_series_377_2011-02-12T00:00:00/base/20110215_102400_TAI/final.pt\n",
      "./ar_series_377_2011-02-12T00:00:00/base/20110215_103600_TAI/final.pt\n",
      "./ar_series_377_2011-02-12T00:00:00/base/20110215_104800_TAI/final.pt\n",
      "./ar_series_377_2011-02-12T00:00:00/base/20110215_110000_TAI/final.pt\n",
      "./ar_series_377_2011-02-12T00:00:00/base/20110215_111200_TAI/final.pt\n",
      "./ar_series_377_2011-02-12T00:00:00/base/20110215_112400_TAI/final.pt\n",
      "./ar_series_377_2011-02-12T00:00:00/base/20110215_113600_TAI/final.pt\n",
      "./ar_series_377_2011-02-12T00:00:00/base/20110215_114800_TAI/final.pt\n",
      "./ar_series_377_2011-02-12T00:00:00/base/20110215_120000_TAI/final.pt\n",
      "./ar_series_377_2011-02-12T00:00:00/base/20110215_121200_TAI/final.pt\n",
      "./ar_series_377_2011-02-12T00:00:00/base/20110215_122400_TAI/final.pt\n",
      "./ar_series_377_2011-02-12T00:00:00/base/20110215_123600_TAI/final.pt\n",
      "./ar_series_377_2011-02-12T00:00:00/base/20110215_124800_TAI/final.pt\n",
      "./ar_series_377_2011-02-12T00:00:00/base/20110215_130000_TAI/final.pt\n",
      "./ar_series_377_2011-02-12T00:00:00/base/20110215_131200_TAI/final.pt\n",
      "./ar_series_377_2011-02-12T00:00:00/base/20110215_132400_TAI/final.pt\n",
      "./ar_series_377_2011-02-12T00:00:00/base/20110215_133600_TAI/final.pt\n",
      "./ar_series_377_2011-02-12T00:00:00/base/20110215_134800_TAI/final.pt\n",
      "./ar_series_377_2011-02-12T00:00:00/base/20110215_140000_TAI/final.pt\n",
      "./ar_series_377_2011-02-12T00:00:00/base/20110215_141200_TAI/final.pt\n",
      "./ar_series_377_2011-02-12T00:00:00/base/20110215_142400_TAI/final.pt\n",
      "./ar_series_377_2011-02-12T00:00:00/base/20110215_143600_TAI/final.pt\n",
      "./ar_series_377_2011-02-12T00:00:00/base/20110215_144800_TAI/final.pt\n",
      "./ar_series_377_2011-02-12T00:00:00/base/20110215_150000_TAI/final.pt\n",
      "./ar_series_377_2011-02-12T00:00:00/base/20110215_151200_TAI/final.pt\n",
      "./ar_series_377_2011-02-12T00:00:00/base/20110215_152400_TAI/final.pt\n",
      "./ar_series_377_2011-02-12T00:00:00/base/20110215_153600_TAI/final.pt\n",
      "./ar_series_377_2011-02-12T00:00:00/base/20110215_154800_TAI/final.pt\n",
      "./ar_series_377_2011-02-12T00:00:00/base/20110215_160000_TAI/final.pt\n",
      "./ar_series_377_2011-02-12T00:00:00/base/20110215_161200_TAI/final.pt\n",
      "./ar_series_377_2011-02-12T00:00:00/base/20110215_162400_TAI/final.pt\n",
      "./ar_series_377_2011-02-12T00:00:00/base/20110215_163600_TAI/final.pt\n",
      "./ar_series_377_2011-02-12T00:00:00/base/20110215_164800_TAI/final.pt\n",
      "./ar_series_377_2011-02-12T00:00:00/base/20110215_170000_TAI/final.pt\n",
      "./ar_series_377_2011-02-12T00:00:00/base/20110215_171200_TAI/final.pt\n",
      "./ar_series_377_2011-02-12T00:00:00/base/20110215_172400_TAI/final.pt\n",
      "./ar_series_377_2011-02-12T00:00:00/base/20110215_173600_TAI/final.pt\n",
      "./ar_series_377_2011-02-12T00:00:00/base/20110215_174800_TAI/final.pt\n",
      "./ar_series_377_2011-02-12T00:00:00/base/20110215_180000_TAI/final.pt\n",
      "./ar_series_377_2011-02-12T00:00:00/base/20110215_181200_TAI/final.pt\n",
      "./ar_series_377_2011-02-12T00:00:00/base/20110215_182400_TAI/final.pt\n",
      "./ar_series_377_2011-02-12T00:00:00/base/20110215_183600_TAI/final.pt\n",
      "./ar_series_377_2011-02-12T00:00:00/base/20110215_184800_TAI/final.pt\n",
      "./ar_series_377_2011-02-12T00:00:00/base/20110215_190000_TAI/final.pt\n",
      "./ar_series_377_2011-02-12T00:00:00/base/20110215_191200_TAI/final.pt\n",
      "./ar_series_377_2011-02-12T00:00:00/base/20110215_192400_TAI/final.pt\n",
      "./ar_series_377_2011-02-12T00:00:00/base/20110215_193600_TAI/final.pt\n",
      "./ar_series_377_2011-02-12T00:00:00/base/20110215_194800_TAI/final.pt\n",
      "./ar_series_377_2011-02-12T00:00:00/base/20110215_200000_TAI/final.pt\n",
      "./ar_series_377_2011-02-12T00:00:00/base/20110215_201200_TAI/final.pt\n",
      "./ar_series_377_2011-02-12T00:00:00/base/20110215_202400_TAI/final.pt\n",
      "./ar_series_377_2011-02-12T00:00:00/base/20110215_203600_TAI/final.pt\n",
      "./ar_series_377_2011-02-12T00:00:00/base/20110215_204800_TAI/final.pt\n",
      "./ar_series_377_2011-02-12T00:00:00/base/20110215_210000_TAI/final.pt\n",
      "./ar_series_377_2011-02-12T00:00:00/base/20110215_211200_TAI/final.pt\n",
      "./ar_series_377_2011-02-12T00:00:00/base/20110215_212400_TAI/final.pt\n",
      "./ar_series_377_2011-02-12T00:00:00/base/20110215_213600_TAI/final.pt\n",
      "./ar_series_377_2011-02-12T00:00:00/base/20110215_214800_TAI/final.pt\n",
      "./ar_series_377_2011-02-12T00:00:00/base/20110215_220000_TAI/final.pt\n",
      "./ar_series_377_2011-02-12T00:00:00/base/20110215_221200_TAI/final.pt\n",
      "./ar_series_377_2011-02-12T00:00:00/base/20110215_222400_TAI/final.pt\n",
      "./ar_series_377_2011-02-12T00:00:00/base/20110215_223600_TAI/final.pt\n",
      "./ar_series_377_2011-02-12T00:00:00/base/20110215_224800_TAI/final.pt\n",
      "./ar_series_377_2011-02-12T00:00:00/base/20110215_230000_TAI/final.pt\n",
      "./ar_series_377_2011-02-12T00:00:00/base/20110215_231200_TAI/final.pt\n",
      "./ar_series_377_2011-02-12T00:00:00/base/20110215_232400_TAI/final.pt\n",
      "./ar_series_377_2011-02-12T00:00:00/base/20110215_233600_TAI/final.pt\n",
      "./ar_series_377_2011-02-12T00:00:00/base/20110215_234800_TAI/final.pt\n",
      "./ar_series_377_2011-02-12T00:00:00/base/20110216_000000_TAI/final.pt\n",
      "./ar_series_377_2011-02-12T00:00:00/base/20110216_001200_TAI/final.pt\n",
      "./ar_series_377_2011-02-12T00:00:00/base/20110216_002400_TAI/final.pt\n",
      "./ar_series_377_2011-02-12T00:00:00/base/20110216_003600_TAI/final.pt\n",
      "./ar_series_377_2011-02-12T00:00:00/base/20110216_004800_TAI/final.pt\n",
      "./ar_series_377_2011-02-12T00:00:00/base/20110216_010000_TAI/final.pt\n",
      "./ar_series_377_2011-02-12T00:00:00/base/20110216_011200_TAI/final.pt\n",
      "./ar_series_377_2011-02-12T00:00:00/base/20110216_012400_TAI/final.pt\n",
      "./ar_series_377_2011-02-12T00:00:00/base/20110216_013600_TAI/final.pt\n",
      "./ar_series_377_2011-02-12T00:00:00/base/20110216_014800_TAI/final.pt\n",
      "./ar_series_377_2011-02-12T00:00:00/base/20110216_020000_TAI/final.pt\n",
      "./ar_series_377_2011-02-12T00:00:00/base/20110216_021200_TAI/final.pt\n",
      "./ar_series_377_2011-02-12T00:00:00/base/20110216_022400_TAI/final.pt\n",
      "./ar_series_377_2011-02-12T00:00:00/base/20110216_023600_TAI/final.pt\n",
      "./ar_series_377_2011-02-12T00:00:00/base/20110216_024800_TAI/final.pt\n",
      "./ar_series_377_2011-02-12T00:00:00/base/20110216_030000_TAI/final.pt\n",
      "./ar_series_377_2011-02-12T00:00:00/base/20110216_031200_TAI/final.pt\n",
      "./ar_series_377_2011-02-12T00:00:00/base/20110216_032400_TAI/final.pt\n",
      "./ar_series_377_2011-02-12T00:00:00/base/20110216_033600_TAI/final.pt\n",
      "./ar_series_377_2011-02-12T00:00:00/base/20110216_034800_TAI/final.pt\n",
      "./ar_series_377_2011-02-12T00:00:00/base/20110216_040000_TAI/final.pt\n",
      "./ar_series_377_2011-02-12T00:00:00/base/20110216_041200_TAI/final.pt\n",
      "./ar_series_377_2011-02-12T00:00:00/base/20110216_042400_TAI/final.pt\n",
      "./ar_series_377_2011-02-12T00:00:00/base/20110216_043600_TAI/final.pt\n",
      "./ar_series_377_2011-02-12T00:00:00/base/20110216_044800_TAI/final.pt\n",
      "./ar_series_377_2011-02-12T00:00:00/base/20110216_050000_TAI/final.pt\n",
      "./ar_series_377_2011-02-12T00:00:00/base/20110216_051200_TAI/final.pt\n",
      "./ar_series_377_2011-02-12T00:00:00/base/20110216_052400_TAI/final.pt\n",
      "./ar_series_377_2011-02-12T00:00:00/base/20110216_053600_TAI/final.pt\n",
      "./ar_series_377_2011-02-12T00:00:00/base/20110216_054800_TAI/final.pt\n",
      "./ar_series_377_2011-02-12T00:00:00/base/20110216_060000_TAI/final.pt\n",
      "./ar_series_377_2011-02-12T00:00:00/base/20110216_061200_TAI/final.pt\n",
      "./ar_series_377_2011-02-12T00:00:00/base/20110216_062400_TAI/final.pt\n",
      "./ar_series_377_2011-02-12T00:00:00/base/20110216_063600_TAI/final.pt\n",
      "./ar_series_377_2011-02-12T00:00:00/base/20110216_064800_TAI/final.pt\n",
      "./ar_series_377_2011-02-12T00:00:00/base/20110216_070000_TAI/final.pt\n",
      "./ar_series_377_2011-02-12T00:00:00/base/20110216_071200_TAI/final.pt\n",
      "./ar_series_377_2011-02-12T00:00:00/base/20110216_072400_TAI/final.pt\n",
      "./ar_series_377_2011-02-12T00:00:00/base/20110216_073600_TAI/final.pt\n",
      "./ar_series_377_2011-02-12T00:00:00/base/20110216_074800_TAI/final.pt\n",
      "./ar_series_377_2011-02-12T00:00:00/base/20110216_080000_TAI/final.pt\n",
      "./ar_series_377_2011-02-12T00:00:00/base/20110216_081200_TAI/final.pt\n",
      "./ar_series_377_2011-02-12T00:00:00/base/20110216_082400_TAI/final.pt\n",
      "./ar_series_377_2011-02-12T00:00:00/base/20110216_083600_TAI/final.pt\n",
      "./ar_series_377_2011-02-12T00:00:00/base/20110216_084800_TAI/final.pt\n",
      "./ar_series_377_2011-02-12T00:00:00/base/20110216_090000_TAI/final.pt\n",
      "./ar_series_377_2011-02-12T00:00:00/base/20110216_091200_TAI/final.pt\n",
      "./ar_series_377_2011-02-12T00:00:00/base/20110216_092400_TAI/final.pt\n",
      "./ar_series_377_2011-02-12T00:00:00/base/20110216_093600_TAI/final.pt\n",
      "./ar_series_377_2011-02-12T00:00:00/base/20110216_094800_TAI/final.pt\n",
      "./ar_series_377_2011-02-12T00:00:00/base/20110216_100000_TAI/final.pt\n",
      "./ar_series_377_2011-02-12T00:00:00/base/20110216_101200_TAI/final.pt\n",
      "./ar_series_377_2011-02-12T00:00:00/base/20110216_102400_TAI/final.pt\n",
      "./ar_series_377_2011-02-12T00:00:00/base/20110216_103600_TAI/final.pt\n",
      "./ar_series_377_2011-02-12T00:00:00/base/20110216_104800_TAI/final.pt\n",
      "./ar_series_377_2011-02-12T00:00:00/base/20110216_110000_TAI/final.pt\n",
      "./ar_series_377_2011-02-12T00:00:00/base/20110216_111200_TAI/final.pt\n",
      "./ar_series_377_2011-02-12T00:00:00/base/20110216_112400_TAI/final.pt\n",
      "./ar_series_377_2011-02-12T00:00:00/base/20110216_113600_TAI/final.pt\n",
      "./ar_series_377_2011-02-12T00:00:00/base/20110216_114800_TAI/final.pt\n",
      "./ar_series_377_2011-02-12T00:00:00/base/20110216_120000_TAI/final.pt\n",
      "./ar_series_377_2011-02-12T00:00:00/base/20110216_121200_TAI/final.pt\n",
      "./ar_series_377_2011-02-12T00:00:00/base/20110216_122400_TAI/final.pt\n",
      "./ar_series_377_2011-02-12T00:00:00/base/20110216_123600_TAI/final.pt\n",
      "./ar_series_377_2011-02-12T00:00:00/base/20110216_124800_TAI/final.pt\n",
      "./ar_series_377_2011-02-12T00:00:00/base/20110216_130000_TAI/final.pt\n",
      "./ar_series_377_2011-02-12T00:00:00/base/20110216_131200_TAI/final.pt\n",
      "./ar_series_377_2011-02-12T00:00:00/base/20110216_132400_TAI/final.pt\n",
      "./ar_series_377_2011-02-12T00:00:00/base/20110216_133600_TAI/final.pt\n",
      "./ar_series_377_2011-02-12T00:00:00/base/20110216_134800_TAI/final.pt\n",
      "./ar_series_377_2011-02-12T00:00:00/base/20110216_140000_TAI/final.pt\n",
      "./ar_series_377_2011-02-12T00:00:00/base/20110216_141200_TAI/final.pt\n",
      "./ar_series_377_2011-02-12T00:00:00/base/20110216_142400_TAI/final.pt\n",
      "./ar_series_377_2011-02-12T00:00:00/base/20110216_143600_TAI/final.pt\n",
      "./ar_series_377_2011-02-12T00:00:00/base/20110216_144800_TAI/final.pt\n",
      "./ar_series_377_2011-02-12T00:00:00/base/20110216_150000_TAI/final.pt\n",
      "./ar_series_377_2011-02-12T00:00:00/base/20110216_151200_TAI/final.pt\n",
      "./ar_series_377_2011-02-12T00:00:00/base/20110216_152400_TAI/final.pt\n",
      "./ar_series_377_2011-02-12T00:00:00/base/20110216_153600_TAI/final.pt\n",
      "./ar_series_377_2011-02-12T00:00:00/base/20110216_154800_TAI/final.pt\n",
      "./ar_series_377_2011-02-12T00:00:00/base/20110216_160000_TAI/final.pt\n",
      "./ar_series_377_2011-02-12T00:00:00/base/20110216_161200_TAI/final.pt\n",
      "./ar_series_377_2011-02-12T00:00:00/base/20110216_162400_TAI/final.pt\n",
      "./ar_series_377_2011-02-12T00:00:00/base/20110216_163600_TAI/final.pt\n",
      "./ar_series_377_2011-02-12T00:00:00/base/20110216_164800_TAI/final.pt\n",
      "./ar_series_377_2011-02-12T00:00:00/base/20110216_170000_TAI/final.pt\n",
      "./ar_series_377_2011-02-12T00:00:00/base/20110216_171200_TAI/final.pt\n",
      "./ar_series_377_2011-02-12T00:00:00/base/20110216_172400_TAI/final.pt\n",
      "./ar_series_377_2011-02-12T00:00:00/base/20110216_173600_TAI/final.pt\n",
      "./ar_series_377_2011-02-12T00:00:00/base/20110216_174800_TAI/final.pt\n",
      "./ar_series_377_2011-02-12T00:00:00/base/20110216_180000_TAI/final.pt\n",
      "./ar_series_377_2011-02-12T00:00:00/base/20110216_181200_TAI/final.pt\n",
      "./ar_series_377_2011-02-12T00:00:00/base/20110216_182400_TAI/final.pt\n",
      "./ar_series_377_2011-02-12T00:00:00/base/20110216_183600_TAI/final.pt\n",
      "./ar_series_377_2011-02-12T00:00:00/base/20110216_184800_TAI/final.pt\n",
      "./ar_series_377_2011-02-12T00:00:00/base/20110216_190000_TAI/final.pt\n",
      "./ar_series_377_2011-02-12T00:00:00/base/20110216_191200_TAI/final.pt\n",
      "./ar_series_377_2011-02-12T00:00:00/base/20110216_192400_TAI/final.pt\n",
      "./ar_series_377_2011-02-12T00:00:00/base/20110216_193600_TAI/final.pt\n",
      "./ar_series_377_2011-02-12T00:00:00/base/20110216_194800_TAI/final.pt\n",
      "./ar_series_377_2011-02-12T00:00:00/base/20110216_200000_TAI/final.pt\n",
      "./ar_series_377_2011-02-12T00:00:00/base/20110216_201200_TAI/final.pt\n",
      "./ar_series_377_2011-02-12T00:00:00/base/20110216_202400_TAI/final.pt\n",
      "./ar_series_377_2011-02-12T00:00:00/base/20110216_203600_TAI/final.pt\n",
      "./ar_series_377_2011-02-12T00:00:00/base/20110216_204800_TAI/final.pt\n",
      "./ar_series_377_2011-02-12T00:00:00/base/20110216_210000_TAI/final.pt\n",
      "./ar_series_377_2011-02-12T00:00:00/base/20110216_211200_TAI/final.pt\n",
      "./ar_series_377_2011-02-12T00:00:00/base/20110216_212400_TAI/final.pt\n",
      "./ar_series_377_2011-02-12T00:00:00/base/20110216_213600_TAI/final.pt\n",
      "./ar_series_377_2011-02-12T00:00:00/base/20110216_214800_TAI/final.pt\n",
      "./ar_series_377_2011-02-12T00:00:00/base/20110216_220000_TAI/final.pt\n",
      "./ar_series_377_2011-02-12T00:00:00/base/20110216_221200_TAI/final.pt\n",
      "./ar_series_377_2011-02-12T00:00:00/base/20110216_222400_TAI/final.pt\n",
      "./ar_series_377_2011-02-12T00:00:00/base/20110216_223600_TAI/final.pt\n",
      "./ar_series_377_2011-02-12T00:00:00/base/20110216_224800_TAI/final.pt\n",
      "./ar_series_377_2011-02-12T00:00:00/base/20110216_230000_TAI/final.pt\n",
      "./ar_series_377_2011-02-12T00:00:00/base/20110216_231200_TAI/final.pt\n",
      "./ar_series_377_2011-02-12T00:00:00/base/20110216_232400_TAI/final.pt\n",
      "./ar_series_377_2011-02-12T00:00:00/base/20110216_233600_TAI/final.pt\n",
      "./ar_series_377_2011-02-12T00:00:00/base/20110216_234800_TAI/final.pt\n"
     ]
    }
   ],
   "source": [
    "# scan all data files\n",
    "hmi_p_files = sorted(glob.glob(os.path.join(series_download_dir, '*Bp.fits')))  # x\n",
    "hmi_t_files = sorted(glob.glob(os.path.join(series_download_dir, '*Bt.fits')))  # y\n",
    "hmi_r_files = sorted(glob.glob(os.path.join(series_download_dir, '*Br.fits')))  # z\n",
    "err_p_files = sorted(glob.glob(os.path.join(series_download_dir, '*Bp_err.fits')))  # x\n",
    "err_t_files = sorted(glob.glob(os.path.join(series_download_dir, '*Bt_err.fits')))  # y\n",
    "err_r_files = sorted(glob.glob(os.path.join(series_download_dir, '*Br_err.fits')))  # z\n",
    "\n",
    "for hmi_p, hmi_t, hmi_r, err_p, err_t, err_r in zip(hmi_p_files, hmi_t_files, hmi_r_files,\n",
    "                                                    err_p_files, err_t_files, err_r_files):\n",
    "    file_id = os.path.basename(hmi_p).split('.')[3]\n",
    "    bp = os.path.join(bpp, file_id)\n",
    "\n",
    "    # check if finished\n",
    "    final_model_path = os.path.join(bp, 'final.pt')\n",
    "    print(final_model_path)\n",
    "    #print(os.path.exists(final_model_path))\n",
    "    if os.path.exists(final_model_path):\n",
    "        new_meta_path = final_model_path\n",
    "        continue\n",
    "    \n",
    "    # data pre-processing; same as for the single extrapolation\n",
    "    hmi_cube, error_cube, meta_info = load_hmi_data([hmi_p, err_p, hmi_r, err_r, hmi_t, err_t])\n",
    "    \n",
    "    if d_slice is not None:\n",
    "      hmi_cube = hmi_cube[d_slice[0]:d_slice[1], d_slice[2]:d_slice[3]]\n",
    "      error_cube = error_cube[d_slice[0]:d_slice[1], d_slice[2]:d_slice[3]]\n",
    "    if bin > 1:\n",
    "      hmi_cube = block_reduce(hmi_cube, (bin, bin, 1), np.mean)\n",
    "      error_cube = block_reduce(error_cube, (bin, bin, 1), np.mean)\n",
    "    print(hmi_cube.shape)\n",
    "    trainer = NF2Trainer(bp, hmi_cube, error_cube, height, spatial_norm, b_norm, \n",
    "                         meta_info=meta_info, dim=dim, \n",
    "                         lambda_div=lambda_div, lambda_ff=lambda_ff,\n",
    "                         meta_path=new_meta_path, use_potential_boundary=potential)\n",
    "    trainer.train(series_iterations, series_batch_size, \n",
    "                  series_log_interval, series_validation_interval)\n",
    "    new_meta_path = final_model_path"
   ]
  },
  {
   "cell_type": "markdown",
   "metadata": {
    "id": "LqHwoZfdXlp9",
    "jp-MarkdownHeadingCollapsed": true,
    "tags": []
   },
   "source": [
    "# Evaluation"
   ]
  },
  {
   "cell_type": "code",
   "execution_count": null,
   "metadata": {
    "colab": {
     "base_uri": "https://localhost:8080/",
     "height": 1000
    },
    "executionInfo": {
     "elapsed": 1786462,
     "status": "error",
     "timestamp": 1676961816512,
     "user": {
      "displayName": "Reference Third",
      "userId": "14619960272144310095"
     },
     "user_tz": -540
    },
    "id": "kyD4nr6G30e5",
    "outputId": "ab600241-2d8c-4e24-9bb8-b8397c0e4759"
   },
   "outputs": [
    {
     "name": "stdout",
     "output_type": "stream",
     "text": [
      "./ar_series_377_2011-02-12T00:00:00/base/20110212_000000_TAI/extrapolation_result.nf2\n",
      "./ar_series_377_2011-02-12T00:00:00/base/20110212_001200_TAI/extrapolation_result.nf2\n",
      "./ar_series_377_2011-02-12T00:00:00/base/20110212_002400_TAI/extrapolation_result.nf2\n",
      "./ar_series_377_2011-02-12T00:00:00/base/20110212_003600_TAI/extrapolation_result.nf2\n",
      "./ar_series_377_2011-02-12T00:00:00/base/20110212_004800_TAI/extrapolation_result.nf2\n",
      "./ar_series_377_2011-02-12T00:00:00/base/20110212_010000_TAI/extrapolation_result.nf2\n",
      "./ar_series_377_2011-02-12T00:00:00/base/20110212_011200_TAI/extrapolation_result.nf2\n",
      "./ar_series_377_2011-02-12T00:00:00/base/20110212_012400_TAI/extrapolation_result.nf2\n",
      "./ar_series_377_2011-02-12T00:00:00/base/20110212_013600_TAI/extrapolation_result.nf2\n",
      "./ar_series_377_2011-02-12T00:00:00/base/20110212_014800_TAI/extrapolation_result.nf2\n",
      "./ar_series_377_2011-02-12T00:00:00/base/20110212_020000_TAI/extrapolation_result.nf2\n",
      "./ar_series_377_2011-02-12T00:00:00/base/20110212_021200_TAI/extrapolation_result.nf2\n",
      "./ar_series_377_2011-02-12T00:00:00/base/20110212_022400_TAI/extrapolation_result.nf2\n",
      "./ar_series_377_2011-02-12T00:00:00/base/20110212_023600_TAI/extrapolation_result.nf2\n",
      "./ar_series_377_2011-02-12T00:00:00/base/20110212_024800_TAI/extrapolation_result.nf2\n",
      "./ar_series_377_2011-02-12T00:00:00/base/20110212_030000_TAI/extrapolation_result.nf2\n",
      "./ar_series_377_2011-02-12T00:00:00/base/20110212_031200_TAI/extrapolation_result.nf2\n",
      "./ar_series_377_2011-02-12T00:00:00/base/20110212_032400_TAI/extrapolation_result.nf2\n",
      "./ar_series_377_2011-02-12T00:00:00/base/20110212_033600_TAI/extrapolation_result.nf2\n",
      "./ar_series_377_2011-02-12T00:00:00/base/20110212_034800_TAI/extrapolation_result.nf2\n",
      "./ar_series_377_2011-02-12T00:00:00/base/20110212_040000_TAI/extrapolation_result.nf2\n",
      "./ar_series_377_2011-02-12T00:00:00/base/20110212_041200_TAI/extrapolation_result.nf2\n",
      "./ar_series_377_2011-02-12T00:00:00/base/20110212_042400_TAI/extrapolation_result.nf2\n",
      "./ar_series_377_2011-02-12T00:00:00/base/20110212_043600_TAI/extrapolation_result.nf2\n",
      "./ar_series_377_2011-02-12T00:00:00/base/20110212_044800_TAI/extrapolation_result.nf2\n",
      "./ar_series_377_2011-02-12T00:00:00/base/20110212_050000_TAI/extrapolation_result.nf2\n",
      "./ar_series_377_2011-02-12T00:00:00/base/20110212_051200_TAI/extrapolation_result.nf2\n",
      "./ar_series_377_2011-02-12T00:00:00/base/20110212_052400_TAI/extrapolation_result.nf2\n",
      "./ar_series_377_2011-02-12T00:00:00/base/20110212_053600_TAI/extrapolation_result.nf2\n",
      "./ar_series_377_2011-02-12T00:00:00/base/20110212_054800_TAI/extrapolation_result.nf2\n",
      "./ar_series_377_2011-02-12T00:00:00/base/20110212_060000_TAI/extrapolation_result.nf2\n",
      "./ar_series_377_2011-02-12T00:00:00/base/20110212_061200_TAI/extrapolation_result.nf2\n",
      "./ar_series_377_2011-02-12T00:00:00/base/20110212_062400_TAI/extrapolation_result.nf2\n",
      "./ar_series_377_2011-02-12T00:00:00/base/20110212_063600_TAI/extrapolation_result.nf2\n",
      "./ar_series_377_2011-02-12T00:00:00/base/20110212_064800_TAI/extrapolation_result.nf2\n",
      "./ar_series_377_2011-02-12T00:00:00/base/20110212_070000_TAI/extrapolation_result.nf2\n",
      "./ar_series_377_2011-02-12T00:00:00/base/20110212_071200_TAI/extrapolation_result.nf2\n",
      "./ar_series_377_2011-02-12T00:00:00/base/20110212_072400_TAI/extrapolation_result.nf2\n",
      "./ar_series_377_2011-02-12T00:00:00/base/20110212_073600_TAI/extrapolation_result.nf2\n",
      "./ar_series_377_2011-02-12T00:00:00/base/20110212_074800_TAI/extrapolation_result.nf2\n",
      "./ar_series_377_2011-02-12T00:00:00/base/20110212_080000_TAI/extrapolation_result.nf2\n",
      "./ar_series_377_2011-02-12T00:00:00/base/20110212_081200_TAI/extrapolation_result.nf2\n",
      "./ar_series_377_2011-02-12T00:00:00/base/20110212_082400_TAI/extrapolation_result.nf2\n",
      "./ar_series_377_2011-02-12T00:00:00/base/20110212_083600_TAI/extrapolation_result.nf2\n",
      "./ar_series_377_2011-02-12T00:00:00/base/20110212_084800_TAI/extrapolation_result.nf2\n",
      "./ar_series_377_2011-02-12T00:00:00/base/20110212_090000_TAI/extrapolation_result.nf2\n",
      "./ar_series_377_2011-02-12T00:00:00/base/20110212_091200_TAI/extrapolation_result.nf2\n",
      "./ar_series_377_2011-02-12T00:00:00/base/20110212_092400_TAI/extrapolation_result.nf2\n",
      "./ar_series_377_2011-02-12T00:00:00/base/20110212_093600_TAI/extrapolation_result.nf2\n",
      "./ar_series_377_2011-02-12T00:00:00/base/20110212_094800_TAI/extrapolation_result.nf2\n",
      "./ar_series_377_2011-02-12T00:00:00/base/20110212_100000_TAI/extrapolation_result.nf2\n",
      "./ar_series_377_2011-02-12T00:00:00/base/20110212_101200_TAI/extrapolation_result.nf2\n",
      "./ar_series_377_2011-02-12T00:00:00/base/20110212_102400_TAI/extrapolation_result.nf2\n",
      "./ar_series_377_2011-02-12T00:00:00/base/20110212_103600_TAI/extrapolation_result.nf2\n",
      "./ar_series_377_2011-02-12T00:00:00/base/20110212_104800_TAI/extrapolation_result.nf2\n",
      "./ar_series_377_2011-02-12T00:00:00/base/20110212_110000_TAI/extrapolation_result.nf2\n",
      "./ar_series_377_2011-02-12T00:00:00/base/20110212_111200_TAI/extrapolation_result.nf2\n",
      "./ar_series_377_2011-02-12T00:00:00/base/20110212_112400_TAI/extrapolation_result.nf2\n",
      "./ar_series_377_2011-02-12T00:00:00/base/20110212_113600_TAI/extrapolation_result.nf2\n",
      "./ar_series_377_2011-02-12T00:00:00/base/20110212_114800_TAI/extrapolation_result.nf2\n",
      "./ar_series_377_2011-02-12T00:00:00/base/20110212_120000_TAI/extrapolation_result.nf2\n",
      "./ar_series_377_2011-02-12T00:00:00/base/20110212_121200_TAI/extrapolation_result.nf2\n",
      "./ar_series_377_2011-02-12T00:00:00/base/20110212_122400_TAI/extrapolation_result.nf2\n",
      "./ar_series_377_2011-02-12T00:00:00/base/20110212_123600_TAI/extrapolation_result.nf2\n",
      "./ar_series_377_2011-02-12T00:00:00/base/20110212_124800_TAI/extrapolation_result.nf2\n",
      "./ar_series_377_2011-02-12T00:00:00/base/20110212_130000_TAI/extrapolation_result.nf2\n",
      "./ar_series_377_2011-02-12T00:00:00/base/20110212_131200_TAI/extrapolation_result.nf2\n",
      "./ar_series_377_2011-02-12T00:00:00/base/20110212_132400_TAI/extrapolation_result.nf2\n",
      "./ar_series_377_2011-02-12T00:00:00/base/20110212_133600_TAI/extrapolation_result.nf2\n",
      "./ar_series_377_2011-02-12T00:00:00/base/20110212_134800_TAI/extrapolation_result.nf2\n",
      "./ar_series_377_2011-02-12T00:00:00/base/20110212_140000_TAI/extrapolation_result.nf2\n",
      "./ar_series_377_2011-02-12T00:00:00/base/20110212_141200_TAI/extrapolation_result.nf2\n",
      "./ar_series_377_2011-02-12T00:00:00/base/20110212_142400_TAI/extrapolation_result.nf2\n",
      "./ar_series_377_2011-02-12T00:00:00/base/20110212_143600_TAI/extrapolation_result.nf2\n",
      "./ar_series_377_2011-02-12T00:00:00/base/20110212_144800_TAI/extrapolation_result.nf2\n",
      "./ar_series_377_2011-02-12T00:00:00/base/20110212_150000_TAI/extrapolation_result.nf2\n",
      "./ar_series_377_2011-02-12T00:00:00/base/20110212_151200_TAI/extrapolation_result.nf2\n",
      "./ar_series_377_2011-02-12T00:00:00/base/20110212_152400_TAI/extrapolation_result.nf2\n",
      "./ar_series_377_2011-02-12T00:00:00/base/20110212_153600_TAI/extrapolation_result.nf2\n",
      "./ar_series_377_2011-02-12T00:00:00/base/20110212_154800_TAI/extrapolation_result.nf2\n",
      "./ar_series_377_2011-02-12T00:00:00/base/20110212_160000_TAI/extrapolation_result.nf2\n",
      "./ar_series_377_2011-02-12T00:00:00/base/20110212_161200_TAI/extrapolation_result.nf2\n",
      "./ar_series_377_2011-02-12T00:00:00/base/20110212_162400_TAI/extrapolation_result.nf2\n",
      "./ar_series_377_2011-02-12T00:00:00/base/20110212_163600_TAI/extrapolation_result.nf2\n",
      "./ar_series_377_2011-02-12T00:00:00/base/20110212_164800_TAI/extrapolation_result.nf2\n",
      "./ar_series_377_2011-02-12T00:00:00/base/20110212_170000_TAI/extrapolation_result.nf2\n",
      "./ar_series_377_2011-02-12T00:00:00/base/20110212_171200_TAI/extrapolation_result.nf2\n",
      "./ar_series_377_2011-02-12T00:00:00/base/20110212_172400_TAI/extrapolation_result.nf2\n",
      "./ar_series_377_2011-02-12T00:00:00/base/20110212_173600_TAI/extrapolation_result.nf2\n",
      "./ar_series_377_2011-02-12T00:00:00/base/20110212_174800_TAI/extrapolation_result.nf2\n",
      "./ar_series_377_2011-02-12T00:00:00/base/20110212_180000_TAI/extrapolation_result.nf2\n",
      "./ar_series_377_2011-02-12T00:00:00/base/20110212_181200_TAI/extrapolation_result.nf2\n",
      "./ar_series_377_2011-02-12T00:00:00/base/20110212_182400_TAI/extrapolation_result.nf2\n",
      "./ar_series_377_2011-02-12T00:00:00/base/20110212_183600_TAI/extrapolation_result.nf2\n",
      "./ar_series_377_2011-02-12T00:00:00/base/20110212_184800_TAI/extrapolation_result.nf2\n",
      "./ar_series_377_2011-02-12T00:00:00/base/20110212_190000_TAI/extrapolation_result.nf2\n",
      "./ar_series_377_2011-02-12T00:00:00/base/20110212_191200_TAI/extrapolation_result.nf2\n",
      "./ar_series_377_2011-02-12T00:00:00/base/20110212_192400_TAI/extrapolation_result.nf2\n",
      "./ar_series_377_2011-02-12T00:00:00/base/20110212_193600_TAI/extrapolation_result.nf2\n",
      "./ar_series_377_2011-02-12T00:00:00/base/20110212_194800_TAI/extrapolation_result.nf2\n",
      "./ar_series_377_2011-02-12T00:00:00/base/20110212_200000_TAI/extrapolation_result.nf2\n",
      "./ar_series_377_2011-02-12T00:00:00/base/20110212_201200_TAI/extrapolation_result.nf2\n",
      "./ar_series_377_2011-02-12T00:00:00/base/20110212_202400_TAI/extrapolation_result.nf2\n",
      "./ar_series_377_2011-02-12T00:00:00/base/20110212_203600_TAI/extrapolation_result.nf2\n",
      "./ar_series_377_2011-02-12T00:00:00/base/20110212_204800_TAI/extrapolation_result.nf2\n",
      "./ar_series_377_2011-02-12T00:00:00/base/20110212_210000_TAI/extrapolation_result.nf2\n",
      "./ar_series_377_2011-02-12T00:00:00/base/20110212_211200_TAI/extrapolation_result.nf2\n",
      "./ar_series_377_2011-02-12T00:00:00/base/20110212_212400_TAI/extrapolation_result.nf2\n",
      "./ar_series_377_2011-02-12T00:00:00/base/20110212_213600_TAI/extrapolation_result.nf2\n",
      "./ar_series_377_2011-02-12T00:00:00/base/20110212_214800_TAI/extrapolation_result.nf2\n",
      "./ar_series_377_2011-02-12T00:00:00/base/20110212_220000_TAI/extrapolation_result.nf2\n",
      "./ar_series_377_2011-02-12T00:00:00/base/20110212_221200_TAI/extrapolation_result.nf2\n",
      "./ar_series_377_2011-02-12T00:00:00/base/20110212_222400_TAI/extrapolation_result.nf2\n",
      "./ar_series_377_2011-02-12T00:00:00/base/20110212_223600_TAI/extrapolation_result.nf2\n"
     ]
    },
    {
     "name": "stderr",
     "output_type": "stream",
     "text": [
      "100%|██████████| 8715/8715 [00:11<00:00, 732.09it/s]\n"
     ]
    },
    {
     "name": "stdout",
     "output_type": "stream",
     "text": [
      "./ar_series_377_2011-02-12T00:00:00/base/20110212_224800_TAI/extrapolation_result.nf2\n"
     ]
    },
    {
     "name": "stderr",
     "output_type": "stream",
     "text": [
      "100%|██████████| 8715/8715 [00:10<00:00, 854.24it/s] \n"
     ]
    },
    {
     "name": "stdout",
     "output_type": "stream",
     "text": [
      "./ar_series_377_2011-02-12T00:00:00/base/20110212_230000_TAI/extrapolation_result.nf2\n"
     ]
    },
    {
     "name": "stderr",
     "output_type": "stream",
     "text": [
      "100%|██████████| 8715/8715 [00:10<00:00, 856.19it/s]\n"
     ]
    },
    {
     "name": "stdout",
     "output_type": "stream",
     "text": [
      "./ar_series_377_2011-02-12T00:00:00/base/20110212_231200_TAI/extrapolation_result.nf2\n"
     ]
    },
    {
     "name": "stderr",
     "output_type": "stream",
     "text": [
      "100%|██████████| 8715/8715 [00:11<00:00, 772.00it/s]\n"
     ]
    },
    {
     "name": "stdout",
     "output_type": "stream",
     "text": [
      "./ar_series_377_2011-02-12T00:00:00/base/20110212_232400_TAI/extrapolation_result.nf2\n"
     ]
    },
    {
     "name": "stderr",
     "output_type": "stream",
     "text": [
      "100%|██████████| 8715/8715 [00:08<00:00, 1011.50it/s]\n"
     ]
    },
    {
     "name": "stdout",
     "output_type": "stream",
     "text": [
      "./ar_series_377_2011-02-12T00:00:00/base/20110212_233600_TAI/extrapolation_result.nf2\n"
     ]
    },
    {
     "name": "stderr",
     "output_type": "stream",
     "text": [
      "100%|██████████| 8715/8715 [00:10<00:00, 816.65it/s]\n"
     ]
    },
    {
     "name": "stdout",
     "output_type": "stream",
     "text": [
      "./ar_series_377_2011-02-12T00:00:00/base/20110212_234800_TAI/extrapolation_result.nf2\n"
     ]
    },
    {
     "name": "stderr",
     "output_type": "stream",
     "text": [
      "100%|██████████| 8715/8715 [00:10<00:00, 870.41it/s]\n"
     ]
    },
    {
     "name": "stdout",
     "output_type": "stream",
     "text": [
      "./ar_series_377_2011-02-12T00:00:00/base/20110213_000000_TAI/extrapolation_result.nf2\n"
     ]
    },
    {
     "name": "stderr",
     "output_type": "stream",
     "text": [
      "100%|██████████| 8715/8715 [00:10<00:00, 840.69it/s]\n"
     ]
    },
    {
     "name": "stdout",
     "output_type": "stream",
     "text": [
      "./ar_series_377_2011-02-12T00:00:00/base/20110213_001200_TAI/extrapolation_result.nf2\n"
     ]
    },
    {
     "name": "stderr",
     "output_type": "stream",
     "text": [
      "100%|██████████| 8715/8715 [00:10<00:00, 856.21it/s]\n"
     ]
    },
    {
     "name": "stdout",
     "output_type": "stream",
     "text": [
      "./ar_series_377_2011-02-12T00:00:00/base/20110213_002400_TAI/extrapolation_result.nf2\n"
     ]
    },
    {
     "name": "stderr",
     "output_type": "stream",
     "text": [
      "100%|██████████| 8715/8715 [00:09<00:00, 913.25it/s]\n"
     ]
    },
    {
     "name": "stdout",
     "output_type": "stream",
     "text": [
      "./ar_series_377_2011-02-12T00:00:00/base/20110213_003600_TAI/extrapolation_result.nf2\n"
     ]
    },
    {
     "name": "stderr",
     "output_type": "stream",
     "text": [
      "100%|██████████| 8715/8715 [00:08<00:00, 1019.07it/s]\n"
     ]
    },
    {
     "name": "stdout",
     "output_type": "stream",
     "text": [
      "./ar_series_377_2011-02-12T00:00:00/base/20110213_004800_TAI/extrapolation_result.nf2\n"
     ]
    },
    {
     "name": "stderr",
     "output_type": "stream",
     "text": [
      "100%|██████████| 8715/8715 [00:10<00:00, 853.57it/s]\n"
     ]
    },
    {
     "name": "stdout",
     "output_type": "stream",
     "text": [
      "./ar_series_377_2011-02-12T00:00:00/base/20110213_010000_TAI/extrapolation_result.nf2\n"
     ]
    },
    {
     "name": "stderr",
     "output_type": "stream",
     "text": [
      "100%|██████████| 8715/8715 [00:10<00:00, 846.69it/s]\n"
     ]
    },
    {
     "name": "stdout",
     "output_type": "stream",
     "text": [
      "./ar_series_377_2011-02-12T00:00:00/base/20110213_011200_TAI/extrapolation_result.nf2\n"
     ]
    },
    {
     "name": "stderr",
     "output_type": "stream",
     "text": [
      "100%|██████████| 8715/8715 [00:11<00:00, 771.57it/s] \n"
     ]
    },
    {
     "name": "stdout",
     "output_type": "stream",
     "text": [
      "./ar_series_377_2011-02-12T00:00:00/base/20110213_012400_TAI/extrapolation_result.nf2\n"
     ]
    },
    {
     "name": "stderr",
     "output_type": "stream",
     "text": [
      "100%|██████████| 8715/8715 [00:09<00:00, 910.56it/s]\n"
     ]
    },
    {
     "name": "stdout",
     "output_type": "stream",
     "text": [
      "./ar_series_377_2011-02-12T00:00:00/base/20110213_013600_TAI/extrapolation_result.nf2\n"
     ]
    },
    {
     "name": "stderr",
     "output_type": "stream",
     "text": [
      "100%|██████████| 8715/8715 [00:08<00:00, 1033.50it/s]\n"
     ]
    },
    {
     "name": "stdout",
     "output_type": "stream",
     "text": [
      "./ar_series_377_2011-02-12T00:00:00/base/20110213_014800_TAI/extrapolation_result.nf2\n"
     ]
    },
    {
     "name": "stderr",
     "output_type": "stream",
     "text": [
      "100%|██████████| 8715/8715 [00:10<00:00, 853.74it/s]\n"
     ]
    },
    {
     "name": "stdout",
     "output_type": "stream",
     "text": [
      "./ar_series_377_2011-02-12T00:00:00/base/20110213_020000_TAI/extrapolation_result.nf2\n"
     ]
    },
    {
     "name": "stderr",
     "output_type": "stream",
     "text": [
      "100%|██████████| 8715/8715 [00:10<00:00, 861.04it/s] \n"
     ]
    },
    {
     "name": "stdout",
     "output_type": "stream",
     "text": [
      "./ar_series_377_2011-02-12T00:00:00/base/20110213_021200_TAI/extrapolation_result.nf2\n"
     ]
    },
    {
     "name": "stderr",
     "output_type": "stream",
     "text": [
      "100%|██████████| 8715/8715 [00:10<00:00, 857.97it/s]\n"
     ]
    },
    {
     "name": "stdout",
     "output_type": "stream",
     "text": [
      "./ar_series_377_2011-02-12T00:00:00/base/20110213_022400_TAI/extrapolation_result.nf2\n"
     ]
    },
    {
     "name": "stderr",
     "output_type": "stream",
     "text": [
      "100%|██████████| 8715/8715 [00:08<00:00, 1003.97it/s]\n"
     ]
    },
    {
     "name": "stdout",
     "output_type": "stream",
     "text": [
      "./ar_series_377_2011-02-12T00:00:00/base/20110213_023600_TAI/extrapolation_result.nf2\n"
     ]
    },
    {
     "name": "stderr",
     "output_type": "stream",
     "text": [
      "100%|██████████| 8715/8715 [00:09<00:00, 912.58it/s]\n"
     ]
    },
    {
     "name": "stdout",
     "output_type": "stream",
     "text": [
      "./ar_series_377_2011-02-12T00:00:00/base/20110213_024800_TAI/extrapolation_result.nf2\n"
     ]
    },
    {
     "name": "stderr",
     "output_type": "stream",
     "text": [
      "100%|██████████| 8715/8715 [00:10<00:00, 843.18it/s]\n"
     ]
    },
    {
     "name": "stdout",
     "output_type": "stream",
     "text": [
      "./ar_series_377_2011-02-12T00:00:00/base/20110213_030000_TAI/extrapolation_result.nf2\n"
     ]
    },
    {
     "name": "stderr",
     "output_type": "stream",
     "text": [
      "100%|██████████| 8715/8715 [00:10<00:00, 845.16it/s]\n"
     ]
    },
    {
     "name": "stdout",
     "output_type": "stream",
     "text": [
      "./ar_series_377_2011-02-12T00:00:00/base/20110213_031200_TAI/extrapolation_result.nf2\n"
     ]
    },
    {
     "name": "stderr",
     "output_type": "stream",
     "text": [
      "100%|██████████| 8715/8715 [00:10<00:00, 852.61it/s]\n"
     ]
    },
    {
     "name": "stdout",
     "output_type": "stream",
     "text": [
      "./ar_series_377_2011-02-12T00:00:00/base/20110213_032400_TAI/extrapolation_result.nf2\n"
     ]
    },
    {
     "name": "stderr",
     "output_type": "stream",
     "text": [
      "100%|██████████| 8715/8715 [00:08<00:00, 994.04it/s]\n"
     ]
    },
    {
     "name": "stdout",
     "output_type": "stream",
     "text": [
      "./ar_series_377_2011-02-12T00:00:00/base/20110213_033600_TAI/extrapolation_result.nf2\n"
     ]
    },
    {
     "name": "stderr",
     "output_type": "stream",
     "text": [
      "100%|██████████| 8715/8715 [00:09<00:00, 905.81it/s] \n"
     ]
    },
    {
     "name": "stdout",
     "output_type": "stream",
     "text": [
      "./ar_series_377_2011-02-12T00:00:00/base/20110213_034800_TAI/extrapolation_result.nf2\n"
     ]
    },
    {
     "name": "stderr",
     "output_type": "stream",
     "text": [
      "100%|██████████| 8715/8715 [00:10<00:00, 861.65it/s]\n"
     ]
    },
    {
     "name": "stdout",
     "output_type": "stream",
     "text": [
      "./ar_series_377_2011-02-12T00:00:00/base/20110213_040000_TAI/extrapolation_result.nf2\n"
     ]
    },
    {
     "name": "stderr",
     "output_type": "stream",
     "text": [
      "100%|██████████| 8715/8715 [00:10<00:00, 857.00it/s]\n"
     ]
    },
    {
     "name": "stdout",
     "output_type": "stream",
     "text": [
      "./ar_series_377_2011-02-12T00:00:00/base/20110213_041200_TAI/extrapolation_result.nf2\n"
     ]
    },
    {
     "name": "stderr",
     "output_type": "stream",
     "text": [
      "100%|██████████| 8715/8715 [00:09<00:00, 879.37it/s]\n"
     ]
    },
    {
     "name": "stdout",
     "output_type": "stream",
     "text": [
      "./ar_series_377_2011-02-12T00:00:00/base/20110213_042400_TAI/extrapolation_result.nf2\n"
     ]
    },
    {
     "name": "stderr",
     "output_type": "stream",
     "text": [
      "100%|██████████| 8715/8715 [00:08<00:00, 1010.10it/s]\n"
     ]
    },
    {
     "name": "stdout",
     "output_type": "stream",
     "text": [
      "./ar_series_377_2011-02-12T00:00:00/base/20110213_043600_TAI/extrapolation_result.nf2\n"
     ]
    },
    {
     "name": "stderr",
     "output_type": "stream",
     "text": [
      "100%|██████████| 8715/8715 [00:09<00:00, 871.73it/s]\n"
     ]
    },
    {
     "name": "stdout",
     "output_type": "stream",
     "text": [
      "./ar_series_377_2011-02-12T00:00:00/base/20110213_044800_TAI/extrapolation_result.nf2\n"
     ]
    },
    {
     "name": "stderr",
     "output_type": "stream",
     "text": [
      "100%|██████████| 8715/8715 [00:10<00:00, 854.17it/s]\n"
     ]
    },
    {
     "name": "stdout",
     "output_type": "stream",
     "text": [
      "./ar_series_377_2011-02-12T00:00:00/base/20110213_050000_TAI/extrapolation_result.nf2\n"
     ]
    },
    {
     "name": "stderr",
     "output_type": "stream",
     "text": [
      "100%|██████████| 8715/8715 [00:10<00:00, 837.40it/s]\n"
     ]
    },
    {
     "name": "stdout",
     "output_type": "stream",
     "text": [
      "./ar_series_377_2011-02-12T00:00:00/base/20110213_051200_TAI/extrapolation_result.nf2\n"
     ]
    },
    {
     "name": "stderr",
     "output_type": "stream",
     "text": [
      "100%|██████████| 8715/8715 [00:11<00:00, 792.03it/s]\n"
     ]
    },
    {
     "name": "stdout",
     "output_type": "stream",
     "text": [
      "./ar_series_377_2011-02-12T00:00:00/base/20110213_052400_TAI/extrapolation_result.nf2\n"
     ]
    },
    {
     "name": "stderr",
     "output_type": "stream",
     "text": [
      "100%|██████████| 8715/8715 [00:08<00:00, 1004.06it/s]\n"
     ]
    },
    {
     "name": "stdout",
     "output_type": "stream",
     "text": [
      "./ar_series_377_2011-02-12T00:00:00/base/20110213_053600_TAI/extrapolation_result.nf2\n"
     ]
    },
    {
     "name": "stderr",
     "output_type": "stream",
     "text": [
      "100%|██████████| 8715/8715 [00:09<00:00, 875.69it/s] \n"
     ]
    },
    {
     "name": "stdout",
     "output_type": "stream",
     "text": [
      "./ar_series_377_2011-02-12T00:00:00/base/20110213_054800_TAI/extrapolation_result.nf2\n"
     ]
    },
    {
     "name": "stderr",
     "output_type": "stream",
     "text": [
      "100%|██████████| 8715/8715 [00:10<00:00, 843.27it/s] \n"
     ]
    },
    {
     "name": "stdout",
     "output_type": "stream",
     "text": [
      "./ar_series_377_2011-02-12T00:00:00/base/20110213_060000_TAI/extrapolation_result.nf2\n"
     ]
    },
    {
     "name": "stderr",
     "output_type": "stream",
     "text": [
      "100%|██████████| 8715/8715 [00:10<00:00, 861.90it/s]\n"
     ]
    },
    {
     "name": "stdout",
     "output_type": "stream",
     "text": [
      "./ar_series_377_2011-02-12T00:00:00/base/20110213_061200_TAI/extrapolation_result.nf2\n"
     ]
    },
    {
     "name": "stderr",
     "output_type": "stream",
     "text": [
      "100%|██████████| 8715/8715 [00:10<00:00, 867.23it/s]\n"
     ]
    },
    {
     "name": "stdout",
     "output_type": "stream",
     "text": [
      "./ar_series_377_2011-02-12T00:00:00/base/20110213_062400_TAI/extrapolation_result.nf2\n"
     ]
    },
    {
     "name": "stderr",
     "output_type": "stream",
     "text": [
      "100%|██████████| 8715/8715 [00:08<00:00, 1015.36it/s]\n"
     ]
    },
    {
     "name": "stdout",
     "output_type": "stream",
     "text": [
      "./ar_series_377_2011-02-12T00:00:00/base/20110213_063600_TAI/extrapolation_result.nf2\n"
     ]
    },
    {
     "name": "stderr",
     "output_type": "stream",
     "text": [
      "100%|██████████| 8715/8715 [00:09<00:00, 906.82it/s]\n"
     ]
    },
    {
     "name": "stdout",
     "output_type": "stream",
     "text": [
      "./ar_series_377_2011-02-12T00:00:00/base/20110213_064800_TAI/extrapolation_result.nf2\n"
     ]
    },
    {
     "name": "stderr",
     "output_type": "stream",
     "text": [
      "100%|██████████| 8715/8715 [00:10<00:00, 854.13it/s]\n"
     ]
    },
    {
     "name": "stdout",
     "output_type": "stream",
     "text": [
      "./ar_series_377_2011-02-12T00:00:00/base/20110213_070000_TAI/extrapolation_result.nf2\n"
     ]
    },
    {
     "name": "stderr",
     "output_type": "stream",
     "text": [
      "100%|██████████| 8715/8715 [00:10<00:00, 865.63it/s]\n"
     ]
    },
    {
     "name": "stdout",
     "output_type": "stream",
     "text": [
      "./ar_series_377_2011-02-12T00:00:00/base/20110213_071200_TAI/extrapolation_result.nf2\n"
     ]
    },
    {
     "name": "stderr",
     "output_type": "stream",
     "text": [
      "100%|██████████| 8715/8715 [00:09<00:00, 917.74it/s]\n"
     ]
    },
    {
     "name": "stdout",
     "output_type": "stream",
     "text": [
      "./ar_series_377_2011-02-12T00:00:00/base/20110213_072400_TAI/extrapolation_result.nf2\n"
     ]
    },
    {
     "name": "stderr",
     "output_type": "stream",
     "text": [
      "100%|██████████| 8715/8715 [00:08<00:00, 1025.99it/s]\n"
     ]
    },
    {
     "name": "stdout",
     "output_type": "stream",
     "text": [
      "./ar_series_377_2011-02-12T00:00:00/base/20110213_073600_TAI/extrapolation_result.nf2\n"
     ]
    },
    {
     "name": "stderr",
     "output_type": "stream",
     "text": [
      "100%|██████████| 8715/8715 [00:09<00:00, 900.27it/s] \n"
     ]
    },
    {
     "name": "stdout",
     "output_type": "stream",
     "text": [
      "./ar_series_377_2011-02-12T00:00:00/base/20110213_074800_TAI/extrapolation_result.nf2\n"
     ]
    },
    {
     "name": "stderr",
     "output_type": "stream",
     "text": [
      "100%|██████████| 8715/8715 [00:10<00:00, 854.20it/s]\n"
     ]
    },
    {
     "name": "stdout",
     "output_type": "stream",
     "text": [
      "./ar_series_377_2011-02-12T00:00:00/base/20110213_080000_TAI/extrapolation_result.nf2\n"
     ]
    },
    {
     "name": "stderr",
     "output_type": "stream",
     "text": [
      "100%|██████████| 8715/8715 [00:10<00:00, 861.88it/s]\n"
     ]
    },
    {
     "name": "stdout",
     "output_type": "stream",
     "text": [
      "./ar_series_377_2011-02-12T00:00:00/base/20110213_081200_TAI/extrapolation_result.nf2\n"
     ]
    },
    {
     "name": "stderr",
     "output_type": "stream",
     "text": [
      "100%|██████████| 8715/8715 [00:09<00:00, 899.95it/s]\n"
     ]
    },
    {
     "name": "stdout",
     "output_type": "stream",
     "text": [
      "./ar_series_377_2011-02-12T00:00:00/base/20110213_082400_TAI/extrapolation_result.nf2\n"
     ]
    },
    {
     "name": "stderr",
     "output_type": "stream",
     "text": [
      "100%|██████████| 8715/8715 [00:09<00:00, 964.95it/s] \n"
     ]
    },
    {
     "name": "stdout",
     "output_type": "stream",
     "text": [
      "./ar_series_377_2011-02-12T00:00:00/base/20110213_083600_TAI/extrapolation_result.nf2\n"
     ]
    },
    {
     "name": "stderr",
     "output_type": "stream",
     "text": [
      "100%|██████████| 8715/8715 [00:10<00:00, 869.61it/s]\n"
     ]
    },
    {
     "name": "stdout",
     "output_type": "stream",
     "text": [
      "./ar_series_377_2011-02-12T00:00:00/base/20110213_084800_TAI/extrapolation_result.nf2\n"
     ]
    },
    {
     "name": "stderr",
     "output_type": "stream",
     "text": [
      "100%|██████████| 8715/8715 [00:09<00:00, 873.16it/s]\n"
     ]
    },
    {
     "name": "stdout",
     "output_type": "stream",
     "text": [
      "./ar_series_377_2011-02-12T00:00:00/base/20110213_090000_TAI/extrapolation_result.nf2\n"
     ]
    },
    {
     "name": "stderr",
     "output_type": "stream",
     "text": [
      "100%|██████████| 8715/8715 [00:10<00:00, 820.73it/s]\n"
     ]
    },
    {
     "name": "stdout",
     "output_type": "stream",
     "text": [
      "./ar_series_377_2011-02-12T00:00:00/base/20110213_091200_TAI/extrapolation_result.nf2\n"
     ]
    },
    {
     "name": "stderr",
     "output_type": "stream",
     "text": [
      "100%|██████████| 8715/8715 [00:10<00:00, 843.98it/s]\n"
     ]
    },
    {
     "name": "stdout",
     "output_type": "stream",
     "text": [
      "./ar_series_377_2011-02-12T00:00:00/base/20110213_092400_TAI/extrapolation_result.nf2\n"
     ]
    },
    {
     "name": "stderr",
     "output_type": "stream",
     "text": [
      "100%|██████████| 8715/8715 [00:08<00:00, 1003.87it/s]\n"
     ]
    },
    {
     "name": "stdout",
     "output_type": "stream",
     "text": [
      "./ar_series_377_2011-02-12T00:00:00/base/20110213_093600_TAI/extrapolation_result.nf2\n"
     ]
    },
    {
     "name": "stderr",
     "output_type": "stream",
     "text": [
      "100%|██████████| 8715/8715 [00:09<00:00, 893.49it/s]\n"
     ]
    },
    {
     "name": "stdout",
     "output_type": "stream",
     "text": [
      "./ar_series_377_2011-02-12T00:00:00/base/20110213_094800_TAI/extrapolation_result.nf2\n"
     ]
    },
    {
     "name": "stderr",
     "output_type": "stream",
     "text": [
      "100%|██████████| 8715/8715 [00:10<00:00, 856.21it/s]\n"
     ]
    },
    {
     "name": "stdout",
     "output_type": "stream",
     "text": [
      "./ar_series_377_2011-02-12T00:00:00/base/20110213_100000_TAI/extrapolation_result.nf2\n"
     ]
    },
    {
     "name": "stderr",
     "output_type": "stream",
     "text": [
      "100%|██████████| 8715/8715 [00:10<00:00, 849.05it/s] \n"
     ]
    },
    {
     "name": "stdout",
     "output_type": "stream",
     "text": [
      "./ar_series_377_2011-02-12T00:00:00/base/20110213_101200_TAI/extrapolation_result.nf2\n"
     ]
    },
    {
     "name": "stderr",
     "output_type": "stream",
     "text": [
      "100%|██████████| 8715/8715 [00:09<00:00, 906.92it/s]\n"
     ]
    },
    {
     "name": "stdout",
     "output_type": "stream",
     "text": [
      "./ar_series_377_2011-02-12T00:00:00/base/20110213_102400_TAI/extrapolation_result.nf2\n"
     ]
    },
    {
     "name": "stderr",
     "output_type": "stream",
     "text": [
      "100%|██████████| 8715/8715 [00:08<00:00, 1013.43it/s]\n"
     ]
    },
    {
     "name": "stdout",
     "output_type": "stream",
     "text": [
      "./ar_series_377_2011-02-12T00:00:00/base/20110213_103600_TAI/extrapolation_result.nf2\n"
     ]
    },
    {
     "name": "stderr",
     "output_type": "stream",
     "text": [
      "100%|██████████| 8715/8715 [00:09<00:00, 907.65it/s]\n"
     ]
    },
    {
     "name": "stdout",
     "output_type": "stream",
     "text": [
      "./ar_series_377_2011-02-12T00:00:00/base/20110213_104800_TAI/extrapolation_result.nf2\n"
     ]
    },
    {
     "name": "stderr",
     "output_type": "stream",
     "text": [
      "100%|██████████| 8715/8715 [00:10<00:00, 840.02it/s]\n"
     ]
    },
    {
     "name": "stdout",
     "output_type": "stream",
     "text": [
      "./ar_series_377_2011-02-12T00:00:00/base/20110213_110000_TAI/extrapolation_result.nf2\n"
     ]
    },
    {
     "name": "stderr",
     "output_type": "stream",
     "text": [
      "100%|██████████| 8715/8715 [00:10<00:00, 838.28it/s]\n"
     ]
    },
    {
     "name": "stdout",
     "output_type": "stream",
     "text": [
      "./ar_series_377_2011-02-12T00:00:00/base/20110213_111200_TAI/extrapolation_result.nf2\n"
     ]
    },
    {
     "name": "stderr",
     "output_type": "stream",
     "text": [
      "100%|██████████| 8715/8715 [00:09<00:00, 884.87it/s]\n"
     ]
    },
    {
     "name": "stdout",
     "output_type": "stream",
     "text": [
      "./ar_series_377_2011-02-12T00:00:00/base/20110213_112400_TAI/extrapolation_result.nf2\n"
     ]
    },
    {
     "name": "stderr",
     "output_type": "stream",
     "text": [
      "100%|██████████| 8715/8715 [00:08<00:00, 1037.69it/s]\n"
     ]
    },
    {
     "name": "stdout",
     "output_type": "stream",
     "text": [
      "./ar_series_377_2011-02-12T00:00:00/base/20110213_113600_TAI/extrapolation_result.nf2\n"
     ]
    },
    {
     "name": "stderr",
     "output_type": "stream",
     "text": [
      "100%|██████████| 8715/8715 [00:09<00:00, 902.01it/s] \n"
     ]
    },
    {
     "name": "stdout",
     "output_type": "stream",
     "text": [
      "./ar_series_377_2011-02-12T00:00:00/base/20110213_114800_TAI/extrapolation_result.nf2\n"
     ]
    },
    {
     "name": "stderr",
     "output_type": "stream",
     "text": [
      "100%|██████████| 8715/8715 [00:10<00:00, 867.09it/s]\n"
     ]
    },
    {
     "name": "stdout",
     "output_type": "stream",
     "text": [
      "./ar_series_377_2011-02-12T00:00:00/base/20110213_120000_TAI/extrapolation_result.nf2\n"
     ]
    },
    {
     "name": "stderr",
     "output_type": "stream",
     "text": [
      "100%|██████████| 8715/8715 [00:10<00:00, 852.81it/s]\n"
     ]
    },
    {
     "name": "stdout",
     "output_type": "stream",
     "text": [
      "./ar_series_377_2011-02-12T00:00:00/base/20110213_121200_TAI/extrapolation_result.nf2\n"
     ]
    },
    {
     "name": "stderr",
     "output_type": "stream",
     "text": [
      "100%|██████████| 8715/8715 [00:09<00:00, 961.06it/s]\n"
     ]
    },
    {
     "name": "stdout",
     "output_type": "stream",
     "text": [
      "./ar_series_377_2011-02-12T00:00:00/base/20110213_122400_TAI/extrapolation_result.nf2\n"
     ]
    },
    {
     "name": "stderr",
     "output_type": "stream",
     "text": [
      "100%|██████████| 8715/8715 [00:08<00:00, 1022.95it/s]\n"
     ]
    },
    {
     "name": "stdout",
     "output_type": "stream",
     "text": [
      "./ar_series_377_2011-02-12T00:00:00/base/20110213_123600_TAI/extrapolation_result.nf2\n"
     ]
    },
    {
     "name": "stderr",
     "output_type": "stream",
     "text": [
      "100%|██████████| 8715/8715 [00:10<00:00, 867.50it/s]\n"
     ]
    },
    {
     "name": "stdout",
     "output_type": "stream",
     "text": [
      "./ar_series_377_2011-02-12T00:00:00/base/20110213_124800_TAI/extrapolation_result.nf2\n"
     ]
    },
    {
     "name": "stderr",
     "output_type": "stream",
     "text": [
      "100%|██████████| 8715/8715 [00:10<00:00, 861.80it/s]\n"
     ]
    },
    {
     "name": "stdout",
     "output_type": "stream",
     "text": [
      "./ar_series_377_2011-02-12T00:00:00/base/20110213_130000_TAI/extrapolation_result.nf2\n"
     ]
    },
    {
     "name": "stderr",
     "output_type": "stream",
     "text": [
      "100%|██████████| 8715/8715 [00:10<00:00, 844.71it/s]\n"
     ]
    },
    {
     "name": "stdout",
     "output_type": "stream",
     "text": [
      "./ar_series_377_2011-02-12T00:00:00/base/20110213_131200_TAI/extrapolation_result.nf2\n"
     ]
    },
    {
     "name": "stderr",
     "output_type": "stream",
     "text": [
      "100%|██████████| 8715/8715 [00:10<00:00, 800.92it/s]\n"
     ]
    },
    {
     "name": "stdout",
     "output_type": "stream",
     "text": [
      "./ar_series_377_2011-02-12T00:00:00/base/20110213_132400_TAI/extrapolation_result.nf2\n"
     ]
    },
    {
     "name": "stderr",
     "output_type": "stream",
     "text": [
      "100%|██████████| 8715/8715 [00:08<00:00, 1023.77it/s]\n"
     ]
    },
    {
     "name": "stdout",
     "output_type": "stream",
     "text": [
      "./ar_series_377_2011-02-12T00:00:00/base/20110213_133600_TAI/extrapolation_result.nf2\n"
     ]
    },
    {
     "name": "stderr",
     "output_type": "stream",
     "text": [
      "100%|██████████| 8715/8715 [00:09<00:00, 890.86it/s]\n"
     ]
    },
    {
     "name": "stdout",
     "output_type": "stream",
     "text": [
      "./ar_series_377_2011-02-12T00:00:00/base/20110213_134800_TAI/extrapolation_result.nf2\n"
     ]
    },
    {
     "name": "stderr",
     "output_type": "stream",
     "text": [
      "100%|██████████| 8715/8715 [00:10<00:00, 856.64it/s]\n"
     ]
    },
    {
     "name": "stdout",
     "output_type": "stream",
     "text": [
      "./ar_series_377_2011-02-12T00:00:00/base/20110213_140000_TAI/extrapolation_result.nf2\n"
     ]
    },
    {
     "name": "stderr",
     "output_type": "stream",
     "text": [
      "100%|██████████| 8715/8715 [00:10<00:00, 846.11it/s]\n"
     ]
    },
    {
     "name": "stdout",
     "output_type": "stream",
     "text": [
      "./ar_series_377_2011-02-12T00:00:00/base/20110213_141200_TAI/extrapolation_result.nf2\n"
     ]
    },
    {
     "name": "stderr",
     "output_type": "stream",
     "text": [
      "100%|██████████| 8715/8715 [00:09<00:00, 880.43it/s]\n"
     ]
    },
    {
     "name": "stdout",
     "output_type": "stream",
     "text": [
      "./ar_series_377_2011-02-12T00:00:00/base/20110213_142400_TAI/extrapolation_result.nf2\n"
     ]
    },
    {
     "name": "stderr",
     "output_type": "stream",
     "text": [
      "100%|██████████| 8715/8715 [00:08<00:00, 1014.18it/s]\n"
     ]
    },
    {
     "name": "stdout",
     "output_type": "stream",
     "text": [
      "./ar_series_377_2011-02-12T00:00:00/base/20110213_143600_TAI/extrapolation_result.nf2\n"
     ]
    },
    {
     "name": "stderr",
     "output_type": "stream",
     "text": [
      "100%|██████████| 8715/8715 [00:09<00:00, 903.95it/s]\n"
     ]
    },
    {
     "name": "stdout",
     "output_type": "stream",
     "text": [
      "./ar_series_377_2011-02-12T00:00:00/base/20110213_144800_TAI/extrapolation_result.nf2\n"
     ]
    },
    {
     "name": "stderr",
     "output_type": "stream",
     "text": [
      "100%|██████████| 8715/8715 [00:10<00:00, 856.24it/s] \n"
     ]
    },
    {
     "name": "stdout",
     "output_type": "stream",
     "text": [
      "./ar_series_377_2011-02-12T00:00:00/base/20110213_150000_TAI/extrapolation_result.nf2\n"
     ]
    },
    {
     "name": "stderr",
     "output_type": "stream",
     "text": [
      "100%|██████████| 8715/8715 [00:10<00:00, 849.84it/s]\n"
     ]
    },
    {
     "name": "stdout",
     "output_type": "stream",
     "text": [
      "./ar_series_377_2011-02-12T00:00:00/base/20110213_151200_TAI/extrapolation_result.nf2\n"
     ]
    },
    {
     "name": "stderr",
     "output_type": "stream",
     "text": [
      "100%|██████████| 8715/8715 [00:09<00:00, 933.50it/s]\n"
     ]
    },
    {
     "name": "stdout",
     "output_type": "stream",
     "text": [
      "./ar_series_377_2011-02-12T00:00:00/base/20110213_152400_TAI/extrapolation_result.nf2\n"
     ]
    },
    {
     "name": "stderr",
     "output_type": "stream",
     "text": [
      "100%|██████████| 8715/8715 [00:08<00:00, 1040.87it/s]\n"
     ]
    },
    {
     "name": "stdout",
     "output_type": "stream",
     "text": [
      "./ar_series_377_2011-02-12T00:00:00/base/20110213_153600_TAI/extrapolation_result.nf2\n"
     ]
    },
    {
     "name": "stderr",
     "output_type": "stream",
     "text": [
      "100%|██████████| 8715/8715 [00:09<00:00, 883.52it/s] \n"
     ]
    },
    {
     "name": "stdout",
     "output_type": "stream",
     "text": [
      "./ar_series_377_2011-02-12T00:00:00/base/20110213_154800_TAI/extrapolation_result.nf2\n"
     ]
    },
    {
     "name": "stderr",
     "output_type": "stream",
     "text": [
      "100%|██████████| 8715/8715 [00:10<00:00, 854.97it/s]\n"
     ]
    },
    {
     "name": "stdout",
     "output_type": "stream",
     "text": [
      "./ar_series_377_2011-02-12T00:00:00/base/20110213_160000_TAI/extrapolation_result.nf2\n"
     ]
    },
    {
     "name": "stderr",
     "output_type": "stream",
     "text": [
      "100%|██████████| 8715/8715 [00:10<00:00, 858.32it/s]\n"
     ]
    },
    {
     "name": "stdout",
     "output_type": "stream",
     "text": [
      "./ar_series_377_2011-02-12T00:00:00/base/20110213_161200_TAI/extrapolation_result.nf2\n"
     ]
    },
    {
     "name": "stderr",
     "output_type": "stream",
     "text": [
      "100%|██████████| 8715/8715 [00:09<00:00, 938.96it/s]\n"
     ]
    },
    {
     "name": "stdout",
     "output_type": "stream",
     "text": [
      "./ar_series_377_2011-02-12T00:00:00/base/20110213_162400_TAI/extrapolation_result.nf2\n"
     ]
    },
    {
     "name": "stderr",
     "output_type": "stream",
     "text": [
      "100%|██████████| 8715/8715 [00:09<00:00, 957.27it/s] \n"
     ]
    },
    {
     "name": "stdout",
     "output_type": "stream",
     "text": [
      "./ar_series_377_2011-02-12T00:00:00/base/20110213_163600_TAI/extrapolation_result.nf2\n"
     ]
    },
    {
     "name": "stderr",
     "output_type": "stream",
     "text": [
      "100%|██████████| 8715/8715 [00:10<00:00, 866.35it/s]\n"
     ]
    },
    {
     "name": "stdout",
     "output_type": "stream",
     "text": [
      "./ar_series_377_2011-02-12T00:00:00/base/20110213_164800_TAI/extrapolation_result.nf2\n"
     ]
    },
    {
     "name": "stderr",
     "output_type": "stream",
     "text": [
      "100%|██████████| 8715/8715 [00:10<00:00, 869.10it/s]\n"
     ]
    },
    {
     "name": "stdout",
     "output_type": "stream",
     "text": [
      "./ar_series_377_2011-02-12T00:00:00/base/20110213_170000_TAI/extrapolation_result.nf2\n"
     ]
    },
    {
     "name": "stderr",
     "output_type": "stream",
     "text": [
      "100%|██████████| 8715/8715 [00:10<00:00, 856.08it/s]\n"
     ]
    },
    {
     "name": "stdout",
     "output_type": "stream",
     "text": [
      "./ar_series_377_2011-02-12T00:00:00/base/20110213_171200_TAI/extrapolation_result.nf2\n"
     ]
    },
    {
     "name": "stderr",
     "output_type": "stream",
     "text": [
      "100%|██████████| 8715/8715 [00:11<00:00, 778.53it/s]\n"
     ]
    },
    {
     "name": "stdout",
     "output_type": "stream",
     "text": [
      "./ar_series_377_2011-02-12T00:00:00/base/20110213_172400_TAI/extrapolation_result.nf2\n"
     ]
    },
    {
     "name": "stderr",
     "output_type": "stream",
     "text": [
      "100%|██████████| 8715/8715 [00:08<00:00, 1021.79it/s]\n"
     ]
    },
    {
     "name": "stdout",
     "output_type": "stream",
     "text": [
      "./ar_series_377_2011-02-12T00:00:00/base/20110213_173600_TAI/extrapolation_result.nf2\n"
     ]
    },
    {
     "name": "stderr",
     "output_type": "stream",
     "text": [
      "100%|██████████| 8715/8715 [00:09<00:00, 891.60it/s] \n"
     ]
    },
    {
     "name": "stdout",
     "output_type": "stream",
     "text": [
      "./ar_series_377_2011-02-12T00:00:00/base/20110213_174800_TAI/extrapolation_result.nf2\n"
     ]
    },
    {
     "name": "stderr",
     "output_type": "stream",
     "text": [
      "100%|██████████| 8715/8715 [00:10<00:00, 854.60it/s]\n"
     ]
    },
    {
     "name": "stdout",
     "output_type": "stream",
     "text": [
      "./ar_series_377_2011-02-12T00:00:00/base/20110213_180000_TAI/extrapolation_result.nf2\n"
     ]
    },
    {
     "name": "stderr",
     "output_type": "stream",
     "text": [
      "100%|██████████| 8715/8715 [00:10<00:00, 865.60it/s] \n"
     ]
    },
    {
     "name": "stdout",
     "output_type": "stream",
     "text": [
      "./ar_series_377_2011-02-12T00:00:00/base/20110213_181200_TAI/extrapolation_result.nf2\n"
     ]
    },
    {
     "name": "stderr",
     "output_type": "stream",
     "text": [
      "100%|██████████| 8715/8715 [00:08<00:00, 985.16it/s]\n"
     ]
    },
    {
     "name": "stdout",
     "output_type": "stream",
     "text": [
      "./ar_series_377_2011-02-12T00:00:00/base/20110213_182400_TAI/extrapolation_result.nf2\n"
     ]
    },
    {
     "name": "stderr",
     "output_type": "stream",
     "text": [
      "100%|██████████| 8715/8715 [00:08<00:00, 992.74it/s]\n"
     ]
    },
    {
     "name": "stdout",
     "output_type": "stream",
     "text": [
      "./ar_series_377_2011-02-12T00:00:00/base/20110213_183600_TAI/extrapolation_result.nf2\n"
     ]
    },
    {
     "name": "stderr",
     "output_type": "stream",
     "text": [
      "100%|██████████| 8715/8715 [00:10<00:00, 857.44it/s] \n"
     ]
    },
    {
     "name": "stdout",
     "output_type": "stream",
     "text": [
      "./ar_series_377_2011-02-12T00:00:00/base/20110213_184800_TAI/extrapolation_result.nf2\n"
     ]
    },
    {
     "name": "stderr",
     "output_type": "stream",
     "text": [
      "100%|██████████| 8715/8715 [00:10<00:00, 848.04it/s]\n"
     ]
    },
    {
     "name": "stdout",
     "output_type": "stream",
     "text": [
      "./ar_series_377_2011-02-12T00:00:00/base/20110213_190000_TAI/extrapolation_result.nf2\n"
     ]
    },
    {
     "name": "stderr",
     "output_type": "stream",
     "text": [
      "100%|██████████| 8715/8715 [00:10<00:00, 862.62it/s]\n"
     ]
    },
    {
     "name": "stdout",
     "output_type": "stream",
     "text": [
      "./ar_series_377_2011-02-12T00:00:00/base/20110213_191200_TAI/extrapolation_result.nf2\n"
     ]
    },
    {
     "name": "stderr",
     "output_type": "stream",
     "text": [
      "100%|██████████| 8715/8715 [00:08<00:00, 1007.45it/s]\n"
     ]
    },
    {
     "name": "stdout",
     "output_type": "stream",
     "text": [
      "./ar_series_377_2011-02-12T00:00:00/base/20110213_192400_TAI/extrapolation_result.nf2\n"
     ]
    },
    {
     "name": "stderr",
     "output_type": "stream",
     "text": [
      "100%|██████████| 8715/8715 [00:09<00:00, 934.39it/s]\n"
     ]
    },
    {
     "name": "stdout",
     "output_type": "stream",
     "text": [
      "./ar_series_377_2011-02-12T00:00:00/base/20110213_193600_TAI/extrapolation_result.nf2\n"
     ]
    },
    {
     "name": "stderr",
     "output_type": "stream",
     "text": [
      "100%|██████████| 8715/8715 [00:10<00:00, 845.66it/s] \n"
     ]
    },
    {
     "name": "stdout",
     "output_type": "stream",
     "text": [
      "./ar_series_377_2011-02-12T00:00:00/base/20110213_194800_TAI/extrapolation_result.nf2\n"
     ]
    },
    {
     "name": "stderr",
     "output_type": "stream",
     "text": [
      "100%|██████████| 8715/8715 [00:10<00:00, 857.33it/s]\n"
     ]
    },
    {
     "name": "stdout",
     "output_type": "stream",
     "text": [
      "./ar_series_377_2011-02-12T00:00:00/base/20110213_200000_TAI/extrapolation_result.nf2\n"
     ]
    },
    {
     "name": "stderr",
     "output_type": "stream",
     "text": [
      "100%|██████████| 8715/8715 [00:10<00:00, 860.90it/s] \n"
     ]
    },
    {
     "name": "stdout",
     "output_type": "stream",
     "text": [
      "./ar_series_377_2011-02-12T00:00:00/base/20110213_201200_TAI/extrapolation_result.nf2\n"
     ]
    },
    {
     "name": "stderr",
     "output_type": "stream",
     "text": [
      "100%|██████████| 8715/8715 [00:08<00:00, 992.97it/s]\n"
     ]
    },
    {
     "name": "stdout",
     "output_type": "stream",
     "text": [
      "./ar_series_377_2011-02-12T00:00:00/base/20110213_202400_TAI/extrapolation_result.nf2\n"
     ]
    },
    {
     "name": "stderr",
     "output_type": "stream",
     "text": [
      "100%|██████████| 8715/8715 [00:08<00:00, 977.07it/s]\n"
     ]
    },
    {
     "name": "stdout",
     "output_type": "stream",
     "text": [
      "./ar_series_377_2011-02-12T00:00:00/base/20110213_203600_TAI/extrapolation_result.nf2\n"
     ]
    },
    {
     "name": "stderr",
     "output_type": "stream",
     "text": [
      "100%|██████████| 8715/8715 [00:10<00:00, 848.27it/s]\n"
     ]
    },
    {
     "name": "stdout",
     "output_type": "stream",
     "text": [
      "./ar_series_377_2011-02-12T00:00:00/base/20110213_204800_TAI/extrapolation_result.nf2\n"
     ]
    },
    {
     "name": "stderr",
     "output_type": "stream",
     "text": [
      "100%|██████████| 8715/8715 [00:10<00:00, 864.37it/s]\n"
     ]
    },
    {
     "name": "stdout",
     "output_type": "stream",
     "text": [
      "./ar_series_377_2011-02-12T00:00:00/base/20110213_210000_TAI/extrapolation_result.nf2\n"
     ]
    },
    {
     "name": "stderr",
     "output_type": "stream",
     "text": [
      "100%|██████████| 8715/8715 [00:10<00:00, 844.61it/s]\n"
     ]
    },
    {
     "name": "stdout",
     "output_type": "stream",
     "text": [
      "./ar_series_377_2011-02-12T00:00:00/base/20110213_211200_TAI/extrapolation_result.nf2\n"
     ]
    },
    {
     "name": "stderr",
     "output_type": "stream",
     "text": [
      "100%|██████████| 8715/8715 [00:11<00:00, 790.09it/s]\n"
     ]
    },
    {
     "name": "stdout",
     "output_type": "stream",
     "text": [
      "./ar_series_377_2011-02-12T00:00:00/base/20110213_212400_TAI/extrapolation_result.nf2\n"
     ]
    },
    {
     "name": "stderr",
     "output_type": "stream",
     "text": [
      "100%|██████████| 8715/8715 [00:08<00:00, 1029.01it/s]\n"
     ]
    },
    {
     "name": "stdout",
     "output_type": "stream",
     "text": [
      "./ar_series_377_2011-02-12T00:00:00/base/20110213_213600_TAI/extrapolation_result.nf2\n"
     ]
    },
    {
     "name": "stderr",
     "output_type": "stream",
     "text": [
      "100%|██████████| 8715/8715 [00:09<00:00, 876.00it/s]\n"
     ]
    },
    {
     "name": "stdout",
     "output_type": "stream",
     "text": [
      "./ar_series_377_2011-02-12T00:00:00/base/20110213_214800_TAI/extrapolation_result.nf2\n"
     ]
    },
    {
     "name": "stderr",
     "output_type": "stream",
     "text": [
      "100%|██████████| 8715/8715 [00:10<00:00, 851.07it/s]\n"
     ]
    },
    {
     "name": "stdout",
     "output_type": "stream",
     "text": [
      "./ar_series_377_2011-02-12T00:00:00/base/20110213_220000_TAI/extrapolation_result.nf2\n"
     ]
    },
    {
     "name": "stderr",
     "output_type": "stream",
     "text": [
      "100%|██████████| 8715/8715 [00:10<00:00, 842.82it/s]\n"
     ]
    },
    {
     "name": "stdout",
     "output_type": "stream",
     "text": [
      "./ar_series_377_2011-02-12T00:00:00/base/20110213_221200_TAI/extrapolation_result.nf2\n"
     ]
    },
    {
     "name": "stderr",
     "output_type": "stream",
     "text": [
      "100%|██████████| 8715/8715 [00:09<00:00, 892.39it/s]\n"
     ]
    },
    {
     "name": "stdout",
     "output_type": "stream",
     "text": [
      "./ar_series_377_2011-02-12T00:00:00/base/20110213_222400_TAI/extrapolation_result.nf2\n"
     ]
    },
    {
     "name": "stderr",
     "output_type": "stream",
     "text": [
      "100%|██████████| 8715/8715 [00:08<00:00, 1021.08it/s]\n"
     ]
    },
    {
     "name": "stdout",
     "output_type": "stream",
     "text": [
      "./ar_series_377_2011-02-12T00:00:00/base/20110213_223600_TAI/extrapolation_result.nf2\n"
     ]
    },
    {
     "name": "stderr",
     "output_type": "stream",
     "text": [
      "100%|██████████| 8715/8715 [00:09<00:00, 910.95it/s]\n"
     ]
    },
    {
     "name": "stdout",
     "output_type": "stream",
     "text": [
      "./ar_series_377_2011-02-12T00:00:00/base/20110213_224800_TAI/extrapolation_result.nf2\n"
     ]
    },
    {
     "name": "stderr",
     "output_type": "stream",
     "text": [
      "100%|██████████| 8715/8715 [00:10<00:00, 839.78it/s] \n"
     ]
    },
    {
     "name": "stdout",
     "output_type": "stream",
     "text": [
      "./ar_series_377_2011-02-12T00:00:00/base/20110213_230000_TAI/extrapolation_result.nf2\n"
     ]
    },
    {
     "name": "stderr",
     "output_type": "stream",
     "text": [
      "100%|██████████| 8715/8715 [00:10<00:00, 853.28it/s]\n"
     ]
    },
    {
     "name": "stdout",
     "output_type": "stream",
     "text": [
      "./ar_series_377_2011-02-12T00:00:00/base/20110213_231200_TAI/extrapolation_result.nf2\n"
     ]
    },
    {
     "name": "stderr",
     "output_type": "stream",
     "text": [
      "100%|██████████| 8715/8715 [00:10<00:00, 853.39it/s]\n"
     ]
    },
    {
     "name": "stdout",
     "output_type": "stream",
     "text": [
      "./ar_series_377_2011-02-12T00:00:00/base/20110213_232400_TAI/extrapolation_result.nf2\n"
     ]
    },
    {
     "name": "stderr",
     "output_type": "stream",
     "text": [
      "100%|██████████| 8715/8715 [00:08<00:00, 1009.59it/s]\n"
     ]
    },
    {
     "name": "stdout",
     "output_type": "stream",
     "text": [
      "./ar_series_377_2011-02-12T00:00:00/base/20110213_233600_TAI/extrapolation_result.nf2\n"
     ]
    },
    {
     "name": "stderr",
     "output_type": "stream",
     "text": [
      "100%|██████████| 8715/8715 [00:09<00:00, 913.57it/s]\n"
     ]
    },
    {
     "name": "stdout",
     "output_type": "stream",
     "text": [
      "./ar_series_377_2011-02-12T00:00:00/base/20110213_234800_TAI/extrapolation_result.nf2\n"
     ]
    },
    {
     "name": "stderr",
     "output_type": "stream",
     "text": [
      "100%|██████████| 8715/8715 [00:10<00:00, 841.73it/s]\n"
     ]
    },
    {
     "name": "stdout",
     "output_type": "stream",
     "text": [
      "./ar_series_377_2011-02-12T00:00:00/base/20110214_000000_TAI/extrapolation_result.nf2\n"
     ]
    },
    {
     "name": "stderr",
     "output_type": "stream",
     "text": [
      "100%|██████████| 8715/8715 [00:10<00:00, 866.83it/s]\n"
     ]
    },
    {
     "name": "stdout",
     "output_type": "stream",
     "text": [
      "./ar_series_377_2011-02-12T00:00:00/base/20110214_001200_TAI/extrapolation_result.nf2\n"
     ]
    },
    {
     "name": "stderr",
     "output_type": "stream",
     "text": [
      "100%|██████████| 8715/8715 [00:09<00:00, 917.94it/s]\n"
     ]
    },
    {
     "name": "stdout",
     "output_type": "stream",
     "text": [
      "./ar_series_377_2011-02-12T00:00:00/base/20110214_002400_TAI/extrapolation_result.nf2\n"
     ]
    },
    {
     "name": "stderr",
     "output_type": "stream",
     "text": [
      "100%|██████████| 8715/8715 [00:08<00:00, 978.50it/s] \n"
     ]
    },
    {
     "name": "stdout",
     "output_type": "stream",
     "text": [
      "./ar_series_377_2011-02-12T00:00:00/base/20110214_003600_TAI/extrapolation_result.nf2\n"
     ]
    },
    {
     "name": "stderr",
     "output_type": "stream",
     "text": [
      "100%|██████████| 8715/8715 [00:09<00:00, 911.55it/s]\n"
     ]
    },
    {
     "name": "stdout",
     "output_type": "stream",
     "text": [
      "./ar_series_377_2011-02-12T00:00:00/base/20110214_004800_TAI/extrapolation_result.nf2\n"
     ]
    },
    {
     "name": "stderr",
     "output_type": "stream",
     "text": [
      "100%|██████████| 8715/8715 [00:10<00:00, 847.85it/s] \n"
     ]
    },
    {
     "name": "stdout",
     "output_type": "stream",
     "text": [
      "./ar_series_377_2011-02-12T00:00:00/base/20110214_010000_TAI/extrapolation_result.nf2\n"
     ]
    },
    {
     "name": "stderr",
     "output_type": "stream",
     "text": [
      "100%|██████████| 8715/8715 [00:10<00:00, 852.26it/s]\n"
     ]
    },
    {
     "name": "stdout",
     "output_type": "stream",
     "text": [
      "./ar_series_377_2011-02-12T00:00:00/base/20110214_011200_TAI/extrapolation_result.nf2\n"
     ]
    },
    {
     "name": "stderr",
     "output_type": "stream",
     "text": [
      "100%|██████████| 8715/8715 [00:11<00:00, 766.54it/s]\n"
     ]
    },
    {
     "name": "stdout",
     "output_type": "stream",
     "text": [
      "./ar_series_377_2011-02-12T00:00:00/base/20110214_012400_TAI/extrapolation_result.nf2\n"
     ]
    },
    {
     "name": "stderr",
     "output_type": "stream",
     "text": [
      "100%|██████████| 8715/8715 [00:08<00:00, 1002.84it/s]\n"
     ]
    },
    {
     "name": "stdout",
     "output_type": "stream",
     "text": [
      "./ar_series_377_2011-02-12T00:00:00/base/20110214_013600_TAI/extrapolation_result.nf2\n"
     ]
    },
    {
     "name": "stderr",
     "output_type": "stream",
     "text": [
      "100%|██████████| 8715/8715 [00:09<00:00, 935.60it/s]\n"
     ]
    },
    {
     "name": "stdout",
     "output_type": "stream",
     "text": [
      "./ar_series_377_2011-02-12T00:00:00/base/20110214_014800_TAI/extrapolation_result.nf2\n"
     ]
    },
    {
     "name": "stderr",
     "output_type": "stream",
     "text": [
      "100%|██████████| 8715/8715 [00:10<00:00, 833.54it/s]\n"
     ]
    },
    {
     "name": "stdout",
     "output_type": "stream",
     "text": [
      "./ar_series_377_2011-02-12T00:00:00/base/20110214_020000_TAI/extrapolation_result.nf2\n"
     ]
    },
    {
     "name": "stderr",
     "output_type": "stream",
     "text": [
      "100%|██████████| 8715/8715 [00:10<00:00, 865.32it/s] \n"
     ]
    },
    {
     "name": "stdout",
     "output_type": "stream",
     "text": [
      "./ar_series_377_2011-02-12T00:00:00/base/20110214_021200_TAI/extrapolation_result.nf2\n"
     ]
    },
    {
     "name": "stderr",
     "output_type": "stream",
     "text": [
      "100%|██████████| 8715/8715 [00:10<00:00, 858.06it/s]\n"
     ]
    },
    {
     "name": "stdout",
     "output_type": "stream",
     "text": [
      "./ar_series_377_2011-02-12T00:00:00/base/20110214_022400_TAI/extrapolation_result.nf2\n"
     ]
    },
    {
     "name": "stderr",
     "output_type": "stream",
     "text": [
      "100%|██████████| 8715/8715 [00:08<00:00, 1016.21it/s]\n"
     ]
    },
    {
     "name": "stdout",
     "output_type": "stream",
     "text": [
      "./ar_series_377_2011-02-12T00:00:00/base/20110214_023600_TAI/extrapolation_result.nf2\n"
     ]
    },
    {
     "name": "stderr",
     "output_type": "stream",
     "text": [
      "100%|██████████| 8715/8715 [00:09<00:00, 956.18it/s]\n"
     ]
    },
    {
     "name": "stdout",
     "output_type": "stream",
     "text": [
      "./ar_series_377_2011-02-12T00:00:00/base/20110214_024800_TAI/extrapolation_result.nf2\n"
     ]
    },
    {
     "name": "stderr",
     "output_type": "stream",
     "text": [
      "100%|██████████| 8715/8715 [00:10<00:00, 850.05it/s]\n"
     ]
    },
    {
     "name": "stdout",
     "output_type": "stream",
     "text": [
      "./ar_series_377_2011-02-12T00:00:00/base/20110214_030000_TAI/extrapolation_result.nf2\n"
     ]
    },
    {
     "name": "stderr",
     "output_type": "stream",
     "text": [
      "100%|██████████| 8715/8715 [00:10<00:00, 843.78it/s]\n"
     ]
    },
    {
     "name": "stdout",
     "output_type": "stream",
     "text": [
      "./ar_series_377_2011-02-12T00:00:00/base/20110214_031200_TAI/extrapolation_result.nf2\n"
     ]
    },
    {
     "name": "stderr",
     "output_type": "stream",
     "text": [
      "100%|██████████| 8715/8715 [00:09<00:00, 878.07it/s]\n"
     ]
    },
    {
     "name": "stdout",
     "output_type": "stream",
     "text": [
      "./ar_series_377_2011-02-12T00:00:00/base/20110214_032400_TAI/extrapolation_result.nf2\n"
     ]
    },
    {
     "name": "stderr",
     "output_type": "stream",
     "text": [
      "100%|██████████| 8715/8715 [00:08<00:00, 1061.09it/s]\n"
     ]
    },
    {
     "name": "stdout",
     "output_type": "stream",
     "text": [
      "./ar_series_377_2011-02-12T00:00:00/base/20110214_033600_TAI/extrapolation_result.nf2\n"
     ]
    },
    {
     "name": "stderr",
     "output_type": "stream",
     "text": [
      "100%|██████████| 8715/8715 [00:09<00:00, 928.04it/s] \n"
     ]
    },
    {
     "name": "stdout",
     "output_type": "stream",
     "text": [
      "./ar_series_377_2011-02-12T00:00:00/base/20110214_034800_TAI/extrapolation_result.nf2\n"
     ]
    },
    {
     "name": "stderr",
     "output_type": "stream",
     "text": [
      "100%|██████████| 8715/8715 [00:09<00:00, 900.06it/s] \n"
     ]
    },
    {
     "name": "stdout",
     "output_type": "stream",
     "text": [
      "./ar_series_377_2011-02-12T00:00:00/base/20110214_040000_TAI/extrapolation_result.nf2\n"
     ]
    },
    {
     "name": "stderr",
     "output_type": "stream",
     "text": [
      "100%|██████████| 8715/8715 [00:09<00:00, 886.01it/s] \n"
     ]
    },
    {
     "name": "stdout",
     "output_type": "stream",
     "text": [
      "./ar_series_377_2011-02-12T00:00:00/base/20110214_041200_TAI/extrapolation_result.nf2\n"
     ]
    },
    {
     "name": "stderr",
     "output_type": "stream",
     "text": [
      "100%|██████████| 8715/8715 [00:09<00:00, 910.61it/s]\n"
     ]
    },
    {
     "name": "stdout",
     "output_type": "stream",
     "text": [
      "./ar_series_377_2011-02-12T00:00:00/base/20110214_042400_TAI/extrapolation_result.nf2\n"
     ]
    },
    {
     "name": "stderr",
     "output_type": "stream",
     "text": [
      "100%|██████████| 8715/8715 [00:08<00:00, 1017.80it/s]\n"
     ]
    },
    {
     "name": "stdout",
     "output_type": "stream",
     "text": [
      "./ar_series_377_2011-02-12T00:00:00/base/20110214_043600_TAI/extrapolation_result.nf2\n"
     ]
    },
    {
     "name": "stderr",
     "output_type": "stream",
     "text": [
      "100%|██████████| 8715/8715 [00:09<00:00, 920.27it/s] \n"
     ]
    },
    {
     "name": "stdout",
     "output_type": "stream",
     "text": [
      "./ar_series_377_2011-02-12T00:00:00/base/20110214_044800_TAI/extrapolation_result.nf2\n"
     ]
    },
    {
     "name": "stderr",
     "output_type": "stream",
     "text": [
      "100%|██████████| 8715/8715 [00:09<00:00, 892.90it/s] \n"
     ]
    },
    {
     "name": "stdout",
     "output_type": "stream",
     "text": [
      "./ar_series_377_2011-02-12T00:00:00/base/20110214_050000_TAI/extrapolation_result.nf2\n"
     ]
    },
    {
     "name": "stderr",
     "output_type": "stream",
     "text": [
      "100%|██████████| 8715/8715 [00:09<00:00, 881.44it/s]\n"
     ]
    },
    {
     "name": "stdout",
     "output_type": "stream",
     "text": [
      "./ar_series_377_2011-02-12T00:00:00/base/20110214_051200_TAI/extrapolation_result.nf2\n"
     ]
    },
    {
     "name": "stderr",
     "output_type": "stream",
     "text": [
      "100%|██████████| 8715/8715 [00:09<00:00, 931.89it/s]\n"
     ]
    },
    {
     "name": "stdout",
     "output_type": "stream",
     "text": [
      "./ar_series_377_2011-02-12T00:00:00/base/20110214_052400_TAI/extrapolation_result.nf2\n"
     ]
    },
    {
     "name": "stderr",
     "output_type": "stream",
     "text": [
      "100%|██████████| 8715/8715 [00:09<00:00, 884.51it/s] \n"
     ]
    },
    {
     "name": "stdout",
     "output_type": "stream",
     "text": [
      "./ar_series_377_2011-02-12T00:00:00/base/20110214_053600_TAI/extrapolation_result.nf2\n"
     ]
    },
    {
     "name": "stderr",
     "output_type": "stream",
     "text": [
      " 56%|█████▌    | 4863/8715 [00:05<00:04, 841.32it/s]\n"
     ]
    },
    {
     "ename": "KeyboardInterrupt",
     "evalue": "ignored",
     "output_type": "error",
     "traceback": [
      "\u001b[0;31m---------------------------------------------------------------------------\u001b[0m",
      "\u001b[0;31mKeyboardInterrupt\u001b[0m                         Traceback (most recent call last)",
      "\u001b[0;32m<ipython-input-12-98e6dbf4b42f>\u001b[0m in \u001b[0;36m<module>\u001b[0;34m\u001b[0m\n\u001b[1;32m     11\u001b[0m     \u001b[0mmagnetic_field_files\u001b[0m \u001b[0;34m+=\u001b[0m \u001b[0;34m[\u001b[0m\u001b[0mf\u001b[0m\u001b[0;34m]\u001b[0m\u001b[0;34m\u001b[0m\u001b[0;34m\u001b[0m\u001b[0m\n\u001b[1;32m     12\u001b[0m     \u001b[0;32mcontinue\u001b[0m\u001b[0;34m\u001b[0m\u001b[0;34m\u001b[0m\u001b[0m\n\u001b[0;32m---> 13\u001b[0;31m   \u001b[0mb\u001b[0m \u001b[0;34m=\u001b[0m \u001b[0mload_cube\u001b[0m\u001b[0;34m(\u001b[0m\u001b[0mpath\u001b[0m\u001b[0;34m,\u001b[0m \u001b[0mprogress\u001b[0m\u001b[0;34m=\u001b[0m\u001b[0;32mTrue\u001b[0m\u001b[0;34m)\u001b[0m\u001b[0;34m\u001b[0m\u001b[0;34m\u001b[0m\u001b[0m\n\u001b[0m\u001b[1;32m     14\u001b[0m   \u001b[0mnp\u001b[0m\u001b[0;34m.\u001b[0m\u001b[0msave\u001b[0m\u001b[0;34m(\u001b[0m\u001b[0mf\u001b[0m\u001b[0;34m,\u001b[0m \u001b[0mb\u001b[0m\u001b[0;34m)\u001b[0m\u001b[0;34m\u001b[0m\u001b[0;34m\u001b[0m\u001b[0m\n\u001b[1;32m     15\u001b[0m   \u001b[0mmagnetic_field_files\u001b[0m \u001b[0;34m+=\u001b[0m \u001b[0;34m[\u001b[0m\u001b[0mf\u001b[0m\u001b[0;34m]\u001b[0m\u001b[0;34m\u001b[0m\u001b[0;34m\u001b[0m\u001b[0m\n",
      "\u001b[0;32m/usr/local/lib/python3.8/dist-packages/nf2/evaluation/unpack.py\u001b[0m in \u001b[0;36mload_cube\u001b[0;34m(save_path, device, z, strides, **kwargs)\u001b[0m\n\u001b[1;32m     19\u001b[0m     \u001b[0mz\u001b[0m \u001b[0;34m=\u001b[0m \u001b[0mz\u001b[0m \u001b[0;32mif\u001b[0m \u001b[0mz\u001b[0m \u001b[0;32mis\u001b[0m \u001b[0;32mnot\u001b[0m \u001b[0;32mNone\u001b[0m \u001b[0;32melse\u001b[0m \u001b[0mcube_shape\u001b[0m\u001b[0;34m[\u001b[0m\u001b[0;36m2\u001b[0m\u001b[0;34m]\u001b[0m\u001b[0;34m\u001b[0m\u001b[0;34m\u001b[0m\u001b[0m\n\u001b[1;32m     20\u001b[0m     \u001b[0mcoords\u001b[0m \u001b[0;34m=\u001b[0m \u001b[0mnp\u001b[0m\u001b[0;34m.\u001b[0m\u001b[0mstack\u001b[0m\u001b[0;34m(\u001b[0m\u001b[0mnp\u001b[0m\u001b[0;34m.\u001b[0m\u001b[0mmgrid\u001b[0m\u001b[0;34m[\u001b[0m\u001b[0;34m:\u001b[0m\u001b[0mcube_shape\u001b[0m\u001b[0;34m[\u001b[0m\u001b[0;36m0\u001b[0m\u001b[0;34m]\u001b[0m\u001b[0;34m:\u001b[0m\u001b[0mstrides\u001b[0m\u001b[0;34m,\u001b[0m \u001b[0;34m:\u001b[0m\u001b[0mcube_shape\u001b[0m\u001b[0;34m[\u001b[0m\u001b[0;36m1\u001b[0m\u001b[0;34m]\u001b[0m\u001b[0;34m:\u001b[0m\u001b[0mstrides\u001b[0m\u001b[0;34m,\u001b[0m \u001b[0;34m:\u001b[0m\u001b[0mz\u001b[0m\u001b[0;34m:\u001b[0m\u001b[0mstrides\u001b[0m\u001b[0;34m]\u001b[0m\u001b[0;34m,\u001b[0m \u001b[0;34m-\u001b[0m\u001b[0;36m1\u001b[0m\u001b[0;34m)\u001b[0m\u001b[0;34m\u001b[0m\u001b[0;34m\u001b[0m\u001b[0m\n\u001b[0;32m---> 21\u001b[0;31m     return load_coords(model, cube_shape, state['spatial_norm'],\n\u001b[0m\u001b[1;32m     22\u001b[0m                        state['b_norm'], coords, device, **kwargs)\n\u001b[1;32m     23\u001b[0m \u001b[0;34m\u001b[0m\u001b[0m\n",
      "\u001b[0;32m/usr/local/lib/python3.8/dist-packages/nf2/evaluation/unpack.py\u001b[0m in \u001b[0;36mload_coords\u001b[0;34m(model, cube_shape, spatial_norm, b_norm, coords, device, batch_size, progress)\u001b[0m\n\u001b[1;32m     80\u001b[0m     \u001b[0;32melse\u001b[0m\u001b[0;34m:\u001b[0m\u001b[0;34m\u001b[0m\u001b[0;34m\u001b[0m\u001b[0m\n\u001b[1;32m     81\u001b[0m         \u001b[0;32mwith\u001b[0m \u001b[0mtorch\u001b[0m\u001b[0;34m.\u001b[0m\u001b[0mno_grad\u001b[0m\u001b[0;34m(\u001b[0m\u001b[0;34m)\u001b[0m\u001b[0;34m:\u001b[0m\u001b[0;34m\u001b[0m\u001b[0;34m\u001b[0m\u001b[0m\n\u001b[0;32m---> 82\u001b[0;31m             \u001b[0;32mreturn\u001b[0m \u001b[0m_load\u001b[0m\u001b[0;34m(\u001b[0m\u001b[0mcoords\u001b[0m\u001b[0;34m)\u001b[0m\u001b[0;34m\u001b[0m\u001b[0;34m\u001b[0m\u001b[0m\n\u001b[0m\u001b[1;32m     83\u001b[0m \u001b[0;34m\u001b[0m\u001b[0m\n\u001b[1;32m     84\u001b[0m \u001b[0;34m\u001b[0m\u001b[0m\n",
      "\u001b[0;32m/usr/local/lib/python3.8/dist-packages/nf2/evaluation/unpack.py\u001b[0m in \u001b[0;36m_load\u001b[0;34m(coords)\u001b[0m\n\u001b[1;32m     69\u001b[0m             \u001b[0mcoord\u001b[0m \u001b[0;34m=\u001b[0m \u001b[0mcoord\u001b[0m\u001b[0;34m.\u001b[0m\u001b[0mto\u001b[0m\u001b[0;34m(\u001b[0m\u001b[0mdevice\u001b[0m\u001b[0;34m)\u001b[0m\u001b[0;34m\u001b[0m\u001b[0;34m\u001b[0m\u001b[0m\n\u001b[1;32m     70\u001b[0m             \u001b[0mcoord\u001b[0m\u001b[0;34m.\u001b[0m\u001b[0mrequires_grad\u001b[0m \u001b[0;34m=\u001b[0m \u001b[0;32mTrue\u001b[0m\u001b[0;34m\u001b[0m\u001b[0;34m\u001b[0m\u001b[0m\n\u001b[0;32m---> 71\u001b[0;31m             \u001b[0mcube\u001b[0m \u001b[0;34m+=\u001b[0m \u001b[0;34m[\u001b[0m\u001b[0mmodel\u001b[0m\u001b[0;34m(\u001b[0m\u001b[0mcoord\u001b[0m\u001b[0;34m)\u001b[0m\u001b[0;34m.\u001b[0m\u001b[0mdetach\u001b[0m\u001b[0;34m(\u001b[0m\u001b[0;34m)\u001b[0m\u001b[0;34m.\u001b[0m\u001b[0mcpu\u001b[0m\u001b[0;34m(\u001b[0m\u001b[0;34m)\u001b[0m\u001b[0;34m]\u001b[0m\u001b[0;34m\u001b[0m\u001b[0;34m\u001b[0m\u001b[0m\n\u001b[0m\u001b[1;32m     72\u001b[0m \u001b[0;34m\u001b[0m\u001b[0m\n\u001b[1;32m     73\u001b[0m         \u001b[0mcube\u001b[0m \u001b[0;34m=\u001b[0m \u001b[0mtorch\u001b[0m\u001b[0;34m.\u001b[0m\u001b[0mcat\u001b[0m\u001b[0;34m(\u001b[0m\u001b[0mcube\u001b[0m\u001b[0;34m)\u001b[0m\u001b[0;34m\u001b[0m\u001b[0;34m\u001b[0m\u001b[0m\n",
      "\u001b[0;32m/usr/local/lib/python3.8/dist-packages/torch/nn/modules/module.py\u001b[0m in \u001b[0;36m_call_impl\u001b[0;34m(self, *input, **kwargs)\u001b[0m\n\u001b[1;32m   1192\u001b[0m         if not (self._backward_hooks or self._forward_hooks or self._forward_pre_hooks or _global_backward_hooks\n\u001b[1;32m   1193\u001b[0m                 or _global_forward_hooks or _global_forward_pre_hooks):\n\u001b[0;32m-> 1194\u001b[0;31m             \u001b[0;32mreturn\u001b[0m \u001b[0mforward_call\u001b[0m\u001b[0;34m(\u001b[0m\u001b[0;34m*\u001b[0m\u001b[0minput\u001b[0m\u001b[0;34m,\u001b[0m \u001b[0;34m**\u001b[0m\u001b[0mkwargs\u001b[0m\u001b[0;34m)\u001b[0m\u001b[0;34m\u001b[0m\u001b[0;34m\u001b[0m\u001b[0m\n\u001b[0m\u001b[1;32m   1195\u001b[0m         \u001b[0;31m# Do not call functions when jit is used\u001b[0m\u001b[0;34m\u001b[0m\u001b[0;34m\u001b[0m\u001b[0;34m\u001b[0m\u001b[0m\n\u001b[1;32m   1196\u001b[0m         \u001b[0mfull_backward_hooks\u001b[0m\u001b[0;34m,\u001b[0m \u001b[0mnon_full_backward_hooks\u001b[0m \u001b[0;34m=\u001b[0m \u001b[0;34m[\u001b[0m\u001b[0;34m]\u001b[0m\u001b[0;34m,\u001b[0m \u001b[0;34m[\u001b[0m\u001b[0;34m]\u001b[0m\u001b[0;34m\u001b[0m\u001b[0;34m\u001b[0m\u001b[0m\n",
      "\u001b[0;32m/usr/local/lib/python3.8/dist-packages/torch/nn/parallel/data_parallel.py\u001b[0m in \u001b[0;36mforward\u001b[0;34m(self, *inputs, **kwargs)\u001b[0m\n\u001b[1;32m    167\u001b[0m \u001b[0;34m\u001b[0m\u001b[0m\n\u001b[1;32m    168\u001b[0m             \u001b[0;32mif\u001b[0m \u001b[0mlen\u001b[0m\u001b[0;34m(\u001b[0m\u001b[0mself\u001b[0m\u001b[0;34m.\u001b[0m\u001b[0mdevice_ids\u001b[0m\u001b[0;34m)\u001b[0m \u001b[0;34m==\u001b[0m \u001b[0;36m1\u001b[0m\u001b[0;34m:\u001b[0m\u001b[0;34m\u001b[0m\u001b[0;34m\u001b[0m\u001b[0m\n\u001b[0;32m--> 169\u001b[0;31m                 \u001b[0;32mreturn\u001b[0m \u001b[0mself\u001b[0m\u001b[0;34m.\u001b[0m\u001b[0mmodule\u001b[0m\u001b[0;34m(\u001b[0m\u001b[0;34m*\u001b[0m\u001b[0minputs\u001b[0m\u001b[0;34m[\u001b[0m\u001b[0;36m0\u001b[0m\u001b[0;34m]\u001b[0m\u001b[0;34m,\u001b[0m \u001b[0;34m**\u001b[0m\u001b[0mkwargs\u001b[0m\u001b[0;34m[\u001b[0m\u001b[0;36m0\u001b[0m\u001b[0;34m]\u001b[0m\u001b[0;34m)\u001b[0m\u001b[0;34m\u001b[0m\u001b[0;34m\u001b[0m\u001b[0m\n\u001b[0m\u001b[1;32m    170\u001b[0m             \u001b[0mreplicas\u001b[0m \u001b[0;34m=\u001b[0m \u001b[0mself\u001b[0m\u001b[0;34m.\u001b[0m\u001b[0mreplicate\u001b[0m\u001b[0;34m(\u001b[0m\u001b[0mself\u001b[0m\u001b[0;34m.\u001b[0m\u001b[0mmodule\u001b[0m\u001b[0;34m,\u001b[0m \u001b[0mself\u001b[0m\u001b[0;34m.\u001b[0m\u001b[0mdevice_ids\u001b[0m\u001b[0;34m[\u001b[0m\u001b[0;34m:\u001b[0m\u001b[0mlen\u001b[0m\u001b[0;34m(\u001b[0m\u001b[0minputs\u001b[0m\u001b[0;34m)\u001b[0m\u001b[0;34m]\u001b[0m\u001b[0;34m)\u001b[0m\u001b[0;34m\u001b[0m\u001b[0;34m\u001b[0m\u001b[0m\n\u001b[1;32m    171\u001b[0m             \u001b[0moutputs\u001b[0m \u001b[0;34m=\u001b[0m \u001b[0mself\u001b[0m\u001b[0;34m.\u001b[0m\u001b[0mparallel_apply\u001b[0m\u001b[0;34m(\u001b[0m\u001b[0mreplicas\u001b[0m\u001b[0;34m,\u001b[0m \u001b[0minputs\u001b[0m\u001b[0;34m,\u001b[0m \u001b[0mkwargs\u001b[0m\u001b[0;34m)\u001b[0m\u001b[0;34m\u001b[0m\u001b[0;34m\u001b[0m\u001b[0m\n",
      "\u001b[0;32m/usr/local/lib/python3.8/dist-packages/torch/nn/modules/module.py\u001b[0m in \u001b[0;36m_call_impl\u001b[0;34m(self, *input, **kwargs)\u001b[0m\n\u001b[1;32m   1192\u001b[0m         if not (self._backward_hooks or self._forward_hooks or self._forward_pre_hooks or _global_backward_hooks\n\u001b[1;32m   1193\u001b[0m                 or _global_forward_hooks or _global_forward_pre_hooks):\n\u001b[0;32m-> 1194\u001b[0;31m             \u001b[0;32mreturn\u001b[0m \u001b[0mforward_call\u001b[0m\u001b[0;34m(\u001b[0m\u001b[0;34m*\u001b[0m\u001b[0minput\u001b[0m\u001b[0;34m,\u001b[0m \u001b[0;34m**\u001b[0m\u001b[0mkwargs\u001b[0m\u001b[0;34m)\u001b[0m\u001b[0;34m\u001b[0m\u001b[0;34m\u001b[0m\u001b[0m\n\u001b[0m\u001b[1;32m   1195\u001b[0m         \u001b[0;31m# Do not call functions when jit is used\u001b[0m\u001b[0;34m\u001b[0m\u001b[0;34m\u001b[0m\u001b[0;34m\u001b[0m\u001b[0m\n\u001b[1;32m   1196\u001b[0m         \u001b[0mfull_backward_hooks\u001b[0m\u001b[0;34m,\u001b[0m \u001b[0mnon_full_backward_hooks\u001b[0m \u001b[0;34m=\u001b[0m \u001b[0;34m[\u001b[0m\u001b[0;34m]\u001b[0m\u001b[0;34m,\u001b[0m \u001b[0;34m[\u001b[0m\u001b[0;34m]\u001b[0m\u001b[0;34m\u001b[0m\u001b[0;34m\u001b[0m\u001b[0m\n",
      "\u001b[0;32m/usr/local/lib/python3.8/dist-packages/nf2/train/model.py\u001b[0m in \u001b[0;36mforward\u001b[0;34m(self, x)\u001b[0m\n\u001b[1;32m     28\u001b[0m \u001b[0;34m\u001b[0m\u001b[0m\n\u001b[1;32m     29\u001b[0m     \u001b[0;32mdef\u001b[0m \u001b[0mforward\u001b[0m\u001b[0;34m(\u001b[0m\u001b[0mself\u001b[0m\u001b[0;34m,\u001b[0m \u001b[0mx\u001b[0m\u001b[0;34m)\u001b[0m\u001b[0;34m:\u001b[0m\u001b[0;34m\u001b[0m\u001b[0;34m\u001b[0m\u001b[0m\n\u001b[0;32m---> 30\u001b[0;31m         \u001b[0mx\u001b[0m \u001b[0;34m=\u001b[0m \u001b[0mself\u001b[0m\u001b[0;34m.\u001b[0m\u001b[0mactivation\u001b[0m\u001b[0;34m(\u001b[0m\u001b[0mself\u001b[0m\u001b[0;34m.\u001b[0m\u001b[0md_in\u001b[0m\u001b[0;34m(\u001b[0m\u001b[0mx\u001b[0m\u001b[0;34m)\u001b[0m\u001b[0;34m)\u001b[0m\u001b[0;34m\u001b[0m\u001b[0;34m\u001b[0m\u001b[0m\n\u001b[0m\u001b[1;32m     31\u001b[0m         \u001b[0;32mfor\u001b[0m \u001b[0ml\u001b[0m \u001b[0;32min\u001b[0m \u001b[0mself\u001b[0m\u001b[0;34m.\u001b[0m\u001b[0mlinear_layers\u001b[0m\u001b[0;34m:\u001b[0m\u001b[0;34m\u001b[0m\u001b[0;34m\u001b[0m\u001b[0m\n\u001b[1;32m     32\u001b[0m             \u001b[0mx\u001b[0m \u001b[0;34m=\u001b[0m \u001b[0mself\u001b[0m\u001b[0;34m.\u001b[0m\u001b[0mactivation\u001b[0m\u001b[0;34m(\u001b[0m\u001b[0ml\u001b[0m\u001b[0;34m(\u001b[0m\u001b[0mx\u001b[0m\u001b[0;34m)\u001b[0m\u001b[0;34m)\u001b[0m\u001b[0;34m\u001b[0m\u001b[0;34m\u001b[0m\u001b[0m\n",
      "\u001b[0;32m/usr/local/lib/python3.8/dist-packages/torch/nn/modules/module.py\u001b[0m in \u001b[0;36m_call_impl\u001b[0;34m(self, *input, **kwargs)\u001b[0m\n\u001b[1;32m   1192\u001b[0m         if not (self._backward_hooks or self._forward_hooks or self._forward_pre_hooks or _global_backward_hooks\n\u001b[1;32m   1193\u001b[0m                 or _global_forward_hooks or _global_forward_pre_hooks):\n\u001b[0;32m-> 1194\u001b[0;31m             \u001b[0;32mreturn\u001b[0m \u001b[0mforward_call\u001b[0m\u001b[0;34m(\u001b[0m\u001b[0;34m*\u001b[0m\u001b[0minput\u001b[0m\u001b[0;34m,\u001b[0m \u001b[0;34m**\u001b[0m\u001b[0mkwargs\u001b[0m\u001b[0;34m)\u001b[0m\u001b[0;34m\u001b[0m\u001b[0;34m\u001b[0m\u001b[0m\n\u001b[0m\u001b[1;32m   1195\u001b[0m         \u001b[0;31m# Do not call functions when jit is used\u001b[0m\u001b[0;34m\u001b[0m\u001b[0;34m\u001b[0m\u001b[0;34m\u001b[0m\u001b[0m\n\u001b[1;32m   1196\u001b[0m         \u001b[0mfull_backward_hooks\u001b[0m\u001b[0;34m,\u001b[0m \u001b[0mnon_full_backward_hooks\u001b[0m \u001b[0;34m=\u001b[0m \u001b[0;34m[\u001b[0m\u001b[0;34m]\u001b[0m\u001b[0;34m,\u001b[0m \u001b[0;34m[\u001b[0m\u001b[0;34m]\u001b[0m\u001b[0;34m\u001b[0m\u001b[0;34m\u001b[0m\u001b[0m\n",
      "\u001b[0;32m/usr/local/lib/python3.8/dist-packages/torch/nn/modules/linear.py\u001b[0m in \u001b[0;36mforward\u001b[0;34m(self, input)\u001b[0m\n\u001b[1;32m    112\u001b[0m \u001b[0;34m\u001b[0m\u001b[0m\n\u001b[1;32m    113\u001b[0m     \u001b[0;32mdef\u001b[0m \u001b[0mforward\u001b[0m\u001b[0;34m(\u001b[0m\u001b[0mself\u001b[0m\u001b[0;34m,\u001b[0m \u001b[0minput\u001b[0m\u001b[0;34m:\u001b[0m \u001b[0mTensor\u001b[0m\u001b[0;34m)\u001b[0m \u001b[0;34m->\u001b[0m \u001b[0mTensor\u001b[0m\u001b[0;34m:\u001b[0m\u001b[0;34m\u001b[0m\u001b[0;34m\u001b[0m\u001b[0m\n\u001b[0;32m--> 114\u001b[0;31m         \u001b[0;32mreturn\u001b[0m \u001b[0mF\u001b[0m\u001b[0;34m.\u001b[0m\u001b[0mlinear\u001b[0m\u001b[0;34m(\u001b[0m\u001b[0minput\u001b[0m\u001b[0;34m,\u001b[0m \u001b[0mself\u001b[0m\u001b[0;34m.\u001b[0m\u001b[0mweight\u001b[0m\u001b[0;34m,\u001b[0m \u001b[0mself\u001b[0m\u001b[0;34m.\u001b[0m\u001b[0mbias\u001b[0m\u001b[0;34m)\u001b[0m\u001b[0;34m\u001b[0m\u001b[0;34m\u001b[0m\u001b[0m\n\u001b[0m\u001b[1;32m    115\u001b[0m \u001b[0;34m\u001b[0m\u001b[0m\n\u001b[1;32m    116\u001b[0m     \u001b[0;32mdef\u001b[0m \u001b[0mextra_repr\u001b[0m\u001b[0;34m(\u001b[0m\u001b[0mself\u001b[0m\u001b[0;34m)\u001b[0m \u001b[0;34m->\u001b[0m \u001b[0mstr\u001b[0m\u001b[0;34m:\u001b[0m\u001b[0;34m\u001b[0m\u001b[0;34m\u001b[0m\u001b[0m\n",
      "\u001b[0;31mKeyboardInterrupt\u001b[0m: "
     ]
    }
   ],
   "source": [
    "nf2_paths = sorted(glob.glob(os.path.join(bpp, '**', 'extrapolation_result.nf2')))\n",
    "\n",
    "# save results as npy files\n",
    "eval_magnetic_field_path = os.path.join(series_base_path, 'eval_magnetic_field')\n",
    "os.makedirs(eval_magnetic_field_path, exist_ok=True)\n",
    "magnetic_field_files = []\n",
    "for path in nf2_paths:\n",
    "  print(path)\n",
    "  f = os.path.join(eval_magnetic_field_path, '%s.npy' % path.split('/')[-2])\n",
    "  if os.path.exists(f): \n",
    "    magnetic_field_files += [f]\n",
    "    continue\n",
    "  b = load_cube(path, progress=True)\n",
    "  np.save(f, b)\n",
    "  magnetic_field_files += [f]\n",
    "\n",
    "series_dates = [datetime.strptime(os.path.basename(f), '%Y%m%d_%H%M%S_TAI.npy') for f in magnetic_field_files]"
   ]
  },
  {
   "cell_type": "code",
   "execution_count": null,
   "metadata": {
    "id": "sOT3j0FfkvYR"
   },
   "outputs": [],
   "source": [
    "#state = torch.load('./ar_series_377_2011-02-12T00:00:00/base/20110212_080000_TAI/final.pt')\n",
    "#state"
   ]
  },
  {
   "cell_type": "code",
   "execution_count": null,
   "metadata": {
    "id": "yaTJtu5LXo4g"
   },
   "outputs": [],
   "source": [
    "eval_energy_path = os.path.join(series_base_path, 'eval_energy')\n",
    "os.makedirs(eval_energy_path, exist_ok=True)\n",
    "energy_files = []\n",
    "\n",
    "for path in magnetic_field_files:\n",
    "  f = os.path.join(eval_energy_path, os.path.basename(path))\n",
    "  if os.path.exists(f): \n",
    "    energy_files += [f]\n",
    "    continue\n",
    "  b = np.load(path)\n",
    "  me = energy(b)\n",
    "  np.save(f, me)\n",
    "  energy_files += [f]\n",
    "\n",
    "energy_series_dates = [datetime.strptime(os.path.basename(f), '%Y%m%d_%H%M%S_TAI.npy') for f in energy_files]"
   ]
  },
  {
   "cell_type": "code",
   "execution_count": null,
   "metadata": {
    "colab": {
     "base_uri": "https://localhost:8080/",
     "height": 227
    },
    "executionInfo": {
     "elapsed": 12689,
     "status": "ok",
     "timestamp": 1675901874221,
     "user": {
      "displayName": "Reference Fourth",
      "userId": "11554349687575172729"
     },
     "user_tz": -540
    },
    "id": "kzaplW2bXrED",
    "outputId": "1c564a9d-b8fb-4df3-a389-8f6aa7eb314f"
   },
   "outputs": [
    {
     "data": {
      "image/png": "[encoded data removed]",
      "text/plain": [
       "<Figure size 648x216 with 1 Axes>"
      ]
     },
     "metadata": {},
     "output_type": "display_data"
    }
   ],
   "source": [
    "cm_per_pixel = 360e5 * bin\n",
    "dV = cm_per_pixel**3\n",
    "\n",
    "plt.figure(figsize=(9, 3))\n",
    "plt.plot(energy_series_dates, [np.load(f).sum()*dV for f in energy_files])\n",
    "plt.title('AR 377')\n",
    "plt.ylabel('total magnetic energy')\n",
    "figure_energy_path = os.path.join(series_base_path, './energy.png')\n",
    "plt.savefig(figure_energy_path, dpi=300)\n",
    "plt.show()"
   ]
  },
  {
   "cell_type": "code",
   "execution_count": null,
   "metadata": {
    "colab": {
     "base_uri": "https://localhost:8080/",
     "height": 499
    },
    "executionInfo": {
     "elapsed": 635565,
     "status": "error",
     "timestamp": 1675902509780,
     "user": {
      "displayName": "Reference Fourth",
      "userId": "11554349687575172729"
     },
     "user_tz": -540
    },
    "id": "4VuN1MLGXtf0",
    "outputId": "07836e30-5bfb-40e4-811e-0f897ad7771e"
   },
   "outputs": [
    {
     "name": "stderr",
     "output_type": "stream",
     "text": [
      "/usr/local/lib/python3.8/dist-packages/torch/utils/data/dataloader.py:554: UserWarning: This DataLoader will create 8 worker processes in total. Our suggested max number of worker in current system is 2, which is smaller than what this DataLoader is going to create. Please be aware that excessive worker creation might get DataLoader running slow or even freeze, lower the worker number to avoid potential slowness/freeze if necessary.\n",
      "  warnings.warn(_create_warning_msg(\n",
      "Potential Field: 100%|██████████| 8715/8715 [03:42<00:00, 39.20it/s]\n",
      "Potential Field: 100%|██████████| 8715/8715 [03:40<00:00, 39.59it/s]\n",
      "Potential Field:  85%|████████▌ | 7421/8715 [03:08<00:32, 39.36it/s]\n"
     ]
    },
    {
     "ename": "KeyboardInterrupt",
     "evalue": "ignored",
     "output_type": "error",
     "traceback": [
      "\u001b[0;31m---------------------------------------------------------------------------\u001b[0m",
      "\u001b[0;31mKeyboardInterrupt\u001b[0m                         Traceback (most recent call last)",
      "\u001b[0;32m<ipython-input-15-3e67a7c4fa09>\u001b[0m in \u001b[0;36m<module>\u001b[0;34m\u001b[0m\n\u001b[1;32m      9\u001b[0m     \u001b[0;32mcontinue\u001b[0m\u001b[0;34m\u001b[0m\u001b[0;34m\u001b[0m\u001b[0m\n\u001b[1;32m     10\u001b[0m   \u001b[0mb\u001b[0m \u001b[0;34m=\u001b[0m \u001b[0mnp\u001b[0m\u001b[0;34m.\u001b[0m\u001b[0mload\u001b[0m\u001b[0;34m(\u001b[0m\u001b[0mpath\u001b[0m\u001b[0;34m)\u001b[0m\u001b[0;34m\u001b[0m\u001b[0;34m\u001b[0m\u001b[0m\n\u001b[0;32m---> 11\u001b[0;31m   \u001b[0mfree_me\u001b[0m \u001b[0;34m=\u001b[0m \u001b[0mget_free_mag_energy\u001b[0m\u001b[0;34m(\u001b[0m\u001b[0mb\u001b[0m\u001b[0;34m)\u001b[0m\u001b[0;34m\u001b[0m\u001b[0;34m\u001b[0m\u001b[0m\n\u001b[0m\u001b[1;32m     12\u001b[0m   \u001b[0mnp\u001b[0m\u001b[0;34m.\u001b[0m\u001b[0msave\u001b[0m\u001b[0;34m(\u001b[0m\u001b[0mf\u001b[0m\u001b[0;34m,\u001b[0m \u001b[0mfree_me\u001b[0m\u001b[0;34m)\u001b[0m\u001b[0;34m\u001b[0m\u001b[0;34m\u001b[0m\u001b[0m\n\u001b[1;32m     13\u001b[0m   \u001b[0mfree_energy_files\u001b[0m \u001b[0;34m+=\u001b[0m \u001b[0;34m[\u001b[0m\u001b[0mf\u001b[0m\u001b[0;34m]\u001b[0m\u001b[0;34m\u001b[0m\u001b[0;34m\u001b[0m\u001b[0m\n",
      "\u001b[0;32m/usr/local/lib/python3.8/dist-packages/nf2/evaluation/energy.py\u001b[0m in \u001b[0;36mget_free_mag_energy\u001b[0;34m(b, **kwargs)\u001b[0m\n\u001b[1;32m      6\u001b[0m \u001b[0;34m\u001b[0m\u001b[0m\n\u001b[1;32m      7\u001b[0m \u001b[0;32mdef\u001b[0m \u001b[0mget_free_mag_energy\u001b[0m\u001b[0;34m(\u001b[0m\u001b[0mb\u001b[0m\u001b[0;34m,\u001b[0m \u001b[0;34m**\u001b[0m\u001b[0mkwargs\u001b[0m\u001b[0;34m)\u001b[0m\u001b[0;34m:\u001b[0m\u001b[0;34m\u001b[0m\u001b[0;34m\u001b[0m\u001b[0m\n\u001b[0;32m----> 8\u001b[0;31m     \u001b[0mpotential\u001b[0m \u001b[0;34m=\u001b[0m \u001b[0mget_potential\u001b[0m\u001b[0;34m(\u001b[0m\u001b[0mb\u001b[0m\u001b[0;34m[\u001b[0m\u001b[0;34m:\u001b[0m\u001b[0;34m,\u001b[0m \u001b[0;34m:\u001b[0m\u001b[0;34m,\u001b[0m \u001b[0;36m0\u001b[0m\u001b[0;34m,\u001b[0m \u001b[0;36m2\u001b[0m\u001b[0;34m]\u001b[0m\u001b[0;34m,\u001b[0m \u001b[0mb\u001b[0m\u001b[0;34m.\u001b[0m\u001b[0mshape\u001b[0m\u001b[0;34m[\u001b[0m\u001b[0;36m2\u001b[0m\u001b[0;34m]\u001b[0m\u001b[0;34m,\u001b[0m \u001b[0mbatch_size\u001b[0m\u001b[0;34m=\u001b[0m\u001b[0mint\u001b[0m\u001b[0;34m(\u001b[0m\u001b[0;36m1e3\u001b[0m\u001b[0;34m)\u001b[0m\u001b[0;34m,\u001b[0m \u001b[0;34m**\u001b[0m\u001b[0mkwargs\u001b[0m\u001b[0;34m)\u001b[0m\u001b[0;34m\u001b[0m\u001b[0;34m\u001b[0m\u001b[0m\n\u001b[0m\u001b[1;32m      9\u001b[0m     \u001b[0mb_potential\u001b[0m \u001b[0;34m=\u001b[0m \u001b[0;34m-\u001b[0m \u001b[0;36m1\u001b[0m \u001b[0;34m*\u001b[0m \u001b[0mnp\u001b[0m\u001b[0;34m.\u001b[0m\u001b[0mstack\u001b[0m\u001b[0;34m(\u001b[0m\u001b[0mnp\u001b[0m\u001b[0;34m.\u001b[0m\u001b[0mgradient\u001b[0m\u001b[0;34m(\u001b[0m\u001b[0mpotential\u001b[0m\u001b[0;34m,\u001b[0m \u001b[0maxis\u001b[0m\u001b[0;34m=\u001b[0m\u001b[0;34m[\u001b[0m\u001b[0;36m0\u001b[0m\u001b[0;34m,\u001b[0m \u001b[0;36m1\u001b[0m\u001b[0;34m,\u001b[0m \u001b[0;36m2\u001b[0m\u001b[0;34m]\u001b[0m\u001b[0;34m,\u001b[0m \u001b[0medge_order\u001b[0m\u001b[0;34m=\u001b[0m\u001b[0;36m2\u001b[0m\u001b[0;34m)\u001b[0m\u001b[0;34m,\u001b[0m \u001b[0maxis\u001b[0m\u001b[0;34m=\u001b[0m\u001b[0;34m-\u001b[0m\u001b[0;36m1\u001b[0m\u001b[0;34m)\u001b[0m\u001b[0;34m\u001b[0m\u001b[0;34m\u001b[0m\u001b[0m\n\u001b[1;32m     10\u001b[0m     \u001b[0;31m#\u001b[0m\u001b[0;34m\u001b[0m\u001b[0;34m\u001b[0m\u001b[0;34m\u001b[0m\u001b[0m\n",
      "\u001b[0;32m/usr/local/lib/python3.8/dist-packages/nf2/potential/potential_field.py\u001b[0m in \u001b[0;36mget_potential\u001b[0;34m(b_n, height, batch_size, strides, progress)\u001b[0m\n\u001b[1;32m     46\u001b[0m         \u001b[0mit\u001b[0m \u001b[0;34m=\u001b[0m \u001b[0mtqdm\u001b[0m\u001b[0;34m(\u001b[0m\u001b[0mloader\u001b[0m\u001b[0;34m,\u001b[0m \u001b[0mdesc\u001b[0m\u001b[0;34m=\u001b[0m\u001b[0;34m'Potential Field'\u001b[0m\u001b[0;34m)\u001b[0m \u001b[0;32mif\u001b[0m \u001b[0mprogress\u001b[0m \u001b[0;32melse\u001b[0m \u001b[0mloader\u001b[0m\u001b[0;34m\u001b[0m\u001b[0;34m\u001b[0m\u001b[0m\n\u001b[1;32m     47\u001b[0m         \u001b[0;32mfor\u001b[0m \u001b[0mcoord\u001b[0m\u001b[0;34m,\u001b[0m \u001b[0;32min\u001b[0m \u001b[0mit\u001b[0m\u001b[0;34m:\u001b[0m\u001b[0;34m\u001b[0m\u001b[0;34m\u001b[0m\u001b[0m\n\u001b[0;32m---> 48\u001b[0;31m             \u001b[0mcoord\u001b[0m \u001b[0;34m=\u001b[0m \u001b[0mcoord\u001b[0m\u001b[0;34m.\u001b[0m\u001b[0mto\u001b[0m\u001b[0;34m(\u001b[0m\u001b[0mdevice\u001b[0m\u001b[0;34m)\u001b[0m\u001b[0;34m\u001b[0m\u001b[0;34m\u001b[0m\u001b[0m\n\u001b[0m\u001b[1;32m     49\u001b[0m             \u001b[0mp_batch\u001b[0m \u001b[0;34m=\u001b[0m \u001b[0mmodel\u001b[0m\u001b[0;34m(\u001b[0m\u001b[0mcoord\u001b[0m\u001b[0;34m)\u001b[0m\u001b[0;34m\u001b[0m\u001b[0;34m\u001b[0m\u001b[0m\n\u001b[1;32m     50\u001b[0m             \u001b[0mpotential\u001b[0m \u001b[0;34m+=\u001b[0m \u001b[0;34m[\u001b[0m\u001b[0mp_batch\u001b[0m\u001b[0;34m]\u001b[0m\u001b[0;34m\u001b[0m\u001b[0;34m\u001b[0m\u001b[0m\n",
      "\u001b[0;31mKeyboardInterrupt\u001b[0m: "
     ]
    }
   ],
   "source": [
    "eval_free_energy_path = os.path.join(series_base_path, 'eval_free_energy')\n",
    "os.makedirs(eval_free_energy_path, exist_ok=True)\n",
    "free_energy_files = []\n",
    "\n",
    "for path in magnetic_field_files:\n",
    "  f = os.path.join(eval_free_energy_path, os.path.basename(path))\n",
    "  if os.path.exists(f): \n",
    "    free_energy_files += [f]\n",
    "    continue\n",
    "  b = np.load(path)\n",
    "  free_me = get_free_mag_energy(b)\n",
    "  np.save(f, free_me)\n",
    "  free_energy_files += [f]\n",
    "\n",
    "free_energy_series_dates = [datetime.strptime(os.path.basename(f), '%Y%m%d_%H%M%S_TAI.npy') for f in free_energy_files]"
   ]
  },
  {
   "cell_type": "code",
   "execution_count": null,
   "metadata": {
    "id": "kTRU-hDRXu43"
   },
   "outputs": [],
   "source": [
    "cm_per_pixel = 360e5 * bin\n",
    "dV = cm_per_pixel**3\n",
    "\n",
    "plt.figure(figsize=(9, 3))\n",
    "plt.plot(free_energy_series_dates, [np.load(f).sum()*dV for f in free_energy_files])\n",
    "plt.title('AR 377')\n",
    "plt.ylabel('total free magnetic energy')\n",
    "figure_free_energy_path = os.path.join(series_base_path, './free_energy.png')\n",
    "plt.savefig(figure_free_energy_path, dpi=300)\n",
    "plt.show()"
   ]
  },
  {
   "cell_type": "markdown",
   "metadata": {
    "id": "D74H-rWdv72c"
   },
   "source": [
    "# A"
   ]
  },
  {
   "cell_type": "code",
   "execution_count": null,
   "metadata": {
    "colab": {
     "base_uri": "https://localhost:8080/"
    },
    "id": "bGD1TgfWvxNY",
    "outputId": "67da243a-f3ec-47fb-ef35-5ecb22dd8952"
   },
   "outputs": [
    {
     "name": "stdout",
     "output_type": "stream",
     "text": [
      "./ar_series_377_2011-02-12T00:00:00/base/20110212_000000_TAI/extrapolation_result.nf2\n",
      "./ar_series_377_2011-02-12T00:00:00/eval_free_energy/20110212_000000_TAI.npy\n"
     ]
    },
    {
     "name": "stderr",
     "output_type": "stream",
     "text": [
      "100%|██████████| 8715/8715 [00:11<00:00, 765.19it/s]\n",
      "/usr/local/lib/python3.8/dist-packages/torch/utils/data/dataloader.py:554: UserWarning: This DataLoader will create 8 worker processes in total. Our suggested max number of worker in current system is 2, which is smaller than what this DataLoader is going to create. Please be aware that excessive worker creation might get DataLoader running slow or even freeze, lower the worker number to avoid potential slowness/freeze if necessary.\n",
      "  warnings.warn(_create_warning_msg(\n",
      "Potential Field: 100%|██████████| 8715/8715 [03:40<00:00, 39.57it/s]\n"
     ]
    },
    {
     "name": "stdout",
     "output_type": "stream",
     "text": [
      "./ar_series_377_2011-02-12T00:00:00/base/20110212_001200_TAI/extrapolation_result.nf2\n",
      "./ar_series_377_2011-02-12T00:00:00/eval_free_energy/20110212_001200_TAI.npy\n"
     ]
    },
    {
     "name": "stderr",
     "output_type": "stream",
     "text": [
      "100%|██████████| 8715/8715 [00:10<00:00, 792.43it/s]\n",
      "Potential Field: 100%|██████████| 8715/8715 [03:40<00:00, 39.58it/s]\n"
     ]
    },
    {
     "name": "stdout",
     "output_type": "stream",
     "text": [
      "./ar_series_377_2011-02-12T00:00:00/base/20110212_002400_TAI/extrapolation_result.nf2\n",
      "./ar_series_377_2011-02-12T00:00:00/eval_free_energy/20110212_002400_TAI.npy\n"
     ]
    },
    {
     "name": "stderr",
     "output_type": "stream",
     "text": [
      "100%|██████████| 8715/8715 [00:11<00:00, 785.89it/s]\n",
      "Potential Field: 100%|██████████| 8715/8715 [03:41<00:00, 39.28it/s]\n"
     ]
    },
    {
     "name": "stdout",
     "output_type": "stream",
     "text": [
      "./ar_series_377_2011-02-12T00:00:00/base/20110212_003600_TAI/extrapolation_result.nf2\n",
      "./ar_series_377_2011-02-12T00:00:00/eval_free_energy/20110212_003600_TAI.npy\n"
     ]
    },
    {
     "name": "stderr",
     "output_type": "stream",
     "text": [
      "100%|██████████| 8715/8715 [00:10<00:00, 840.40it/s]\n",
      "Potential Field: 100%|██████████| 8715/8715 [03:41<00:00, 39.40it/s]\n"
     ]
    },
    {
     "name": "stdout",
     "output_type": "stream",
     "text": [
      "./ar_series_377_2011-02-12T00:00:00/base/20110212_004800_TAI/extrapolation_result.nf2\n",
      "./ar_series_377_2011-02-12T00:00:00/eval_free_energy/20110212_004800_TAI.npy\n"
     ]
    },
    {
     "name": "stderr",
     "output_type": "stream",
     "text": [
      "100%|██████████| 8715/8715 [00:09<00:00, 916.30it/s]\n",
      "Potential Field: 100%|██████████| 8715/8715 [03:40<00:00, 39.46it/s]\n"
     ]
    },
    {
     "name": "stdout",
     "output_type": "stream",
     "text": [
      "./ar_series_377_2011-02-12T00:00:00/base/20110212_010000_TAI/extrapolation_result.nf2\n",
      "./ar_series_377_2011-02-12T00:00:00/eval_free_energy/20110212_010000_TAI.npy\n"
     ]
    },
    {
     "name": "stderr",
     "output_type": "stream",
     "text": [
      "100%|██████████| 8715/8715 [00:09<00:00, 897.03it/s]\n",
      "Potential Field: 100%|██████████| 8715/8715 [03:42<00:00, 39.24it/s]\n"
     ]
    },
    {
     "name": "stdout",
     "output_type": "stream",
     "text": [
      "./ar_series_377_2011-02-12T00:00:00/base/20110212_011200_TAI/extrapolation_result.nf2\n",
      "./ar_series_377_2011-02-12T00:00:00/eval_free_energy/20110212_011200_TAI.npy\n"
     ]
    },
    {
     "name": "stderr",
     "output_type": "stream",
     "text": [
      "100%|██████████| 8715/8715 [00:10<00:00, 851.67it/s]\n",
      "Potential Field: 100%|██████████| 8715/8715 [03:41<00:00, 39.28it/s]\n"
     ]
    },
    {
     "name": "stdout",
     "output_type": "stream",
     "text": [
      "./ar_series_377_2011-02-12T00:00:00/base/20110212_012400_TAI/extrapolation_result.nf2\n",
      "./ar_series_377_2011-02-12T00:00:00/eval_free_energy/20110212_012400_TAI.npy\n"
     ]
    },
    {
     "name": "stderr",
     "output_type": "stream",
     "text": [
      "100%|██████████| 8715/8715 [00:10<00:00, 807.82it/s]\n",
      "Potential Field: 100%|██████████| 8715/8715 [03:41<00:00, 39.27it/s]\n"
     ]
    },
    {
     "name": "stdout",
     "output_type": "stream",
     "text": [
      "./ar_series_377_2011-02-12T00:00:00/base/20110212_013600_TAI/extrapolation_result.nf2\n",
      "./ar_series_377_2011-02-12T00:00:00/eval_free_energy/20110212_013600_TAI.npy\n"
     ]
    },
    {
     "name": "stderr",
     "output_type": "stream",
     "text": [
      "100%|██████████| 8715/8715 [00:11<00:00, 787.58it/s]\n",
      "Potential Field: 100%|██████████| 8715/8715 [03:40<00:00, 39.58it/s]\n"
     ]
    },
    {
     "name": "stdout",
     "output_type": "stream",
     "text": [
      "./ar_series_377_2011-02-12T00:00:00/base/20110212_014800_TAI/extrapolation_result.nf2\n",
      "./ar_series_377_2011-02-12T00:00:00/eval_free_energy/20110212_014800_TAI.npy\n"
     ]
    },
    {
     "name": "stderr",
     "output_type": "stream",
     "text": [
      "100%|██████████| 8715/8715 [00:10<00:00, 796.41it/s]\n",
      "Potential Field: 100%|██████████| 8715/8715 [03:40<00:00, 39.58it/s]\n"
     ]
    },
    {
     "name": "stdout",
     "output_type": "stream",
     "text": [
      "./ar_series_377_2011-02-12T00:00:00/base/20110212_020000_TAI/extrapolation_result.nf2\n",
      "./ar_series_377_2011-02-12T00:00:00/eval_free_energy/20110212_020000_TAI.npy\n"
     ]
    },
    {
     "name": "stderr",
     "output_type": "stream",
     "text": [
      "100%|██████████| 8715/8715 [00:10<00:00, 834.08it/s]\n",
      "Potential Field: 100%|██████████| 8715/8715 [03:40<00:00, 39.48it/s]\n"
     ]
    },
    {
     "name": "stdout",
     "output_type": "stream",
     "text": [
      "./ar_series_377_2011-02-12T00:00:00/base/20110212_021200_TAI/extrapolation_result.nf2\n",
      "./ar_series_377_2011-02-12T00:00:00/eval_free_energy/20110212_021200_TAI.npy\n"
     ]
    },
    {
     "name": "stderr",
     "output_type": "stream",
     "text": [
      "100%|██████████| 8715/8715 [00:10<00:00, 835.65it/s]\n",
      "Potential Field: 100%|██████████| 8715/8715 [03:41<00:00, 39.33it/s]\n"
     ]
    },
    {
     "name": "stdout",
     "output_type": "stream",
     "text": [
      "./ar_series_377_2011-02-12T00:00:00/base/20110212_022400_TAI/extrapolation_result.nf2\n",
      "./ar_series_377_2011-02-12T00:00:00/eval_free_energy/20110212_022400_TAI.npy\n"
     ]
    },
    {
     "name": "stderr",
     "output_type": "stream",
     "text": [
      "100%|██████████| 8715/8715 [00:09<00:00, 927.80it/s]\n",
      "Potential Field: 100%|██████████| 8715/8715 [03:42<00:00, 39.19it/s]\n"
     ]
    },
    {
     "name": "stdout",
     "output_type": "stream",
     "text": [
      "./ar_series_377_2011-02-12T00:00:00/base/20110212_023600_TAI/extrapolation_result.nf2\n",
      "./ar_series_377_2011-02-12T00:00:00/eval_free_energy/20110212_023600_TAI.npy\n"
     ]
    },
    {
     "name": "stderr",
     "output_type": "stream",
     "text": [
      "100%|██████████| 8715/8715 [00:10<00:00, 810.95it/s]\n",
      "Potential Field: 100%|██████████| 8715/8715 [03:41<00:00, 39.32it/s]\n"
     ]
    },
    {
     "name": "stdout",
     "output_type": "stream",
     "text": [
      "./ar_series_377_2011-02-12T00:00:00/base/20110212_024800_TAI/extrapolation_result.nf2\n",
      "./ar_series_377_2011-02-12T00:00:00/eval_free_energy/20110212_024800_TAI.npy\n"
     ]
    },
    {
     "name": "stderr",
     "output_type": "stream",
     "text": [
      "100%|██████████| 8715/8715 [00:10<00:00, 855.53it/s]\n",
      "Potential Field: 100%|██████████| 8715/8715 [03:39<00:00, 39.67it/s]\n"
     ]
    },
    {
     "name": "stdout",
     "output_type": "stream",
     "text": [
      "./ar_series_377_2011-02-12T00:00:00/base/20110212_030000_TAI/extrapolation_result.nf2\n",
      "./ar_series_377_2011-02-12T00:00:00/eval_free_energy/20110212_030000_TAI.npy\n"
     ]
    },
    {
     "name": "stderr",
     "output_type": "stream",
     "text": [
      "100%|██████████| 8715/8715 [00:10<00:00, 812.45it/s]\n",
      "Potential Field: 100%|██████████| 8715/8715 [03:40<00:00, 39.53it/s]\n"
     ]
    },
    {
     "name": "stdout",
     "output_type": "stream",
     "text": [
      "./ar_series_377_2011-02-12T00:00:00/base/20110212_031200_TAI/extrapolation_result.nf2\n",
      "./ar_series_377_2011-02-12T00:00:00/eval_free_energy/20110212_031200_TAI.npy\n"
     ]
    },
    {
     "name": "stderr",
     "output_type": "stream",
     "text": [
      "100%|██████████| 8715/8715 [00:10<00:00, 839.57it/s]\n",
      "Potential Field: 100%|██████████| 8715/8715 [03:39<00:00, 39.62it/s]\n"
     ]
    },
    {
     "name": "stdout",
     "output_type": "stream",
     "text": [
      "./ar_series_377_2011-02-12T00:00:00/base/20110212_032400_TAI/extrapolation_result.nf2\n",
      "./ar_series_377_2011-02-12T00:00:00/eval_free_energy/20110212_032400_TAI.npy\n"
     ]
    },
    {
     "name": "stderr",
     "output_type": "stream",
     "text": [
      "100%|██████████| 8715/8715 [00:10<00:00, 812.67it/s]\n",
      "Potential Field: 100%|██████████| 8715/8715 [03:40<00:00, 39.47it/s]\n"
     ]
    },
    {
     "name": "stdout",
     "output_type": "stream",
     "text": [
      "./ar_series_377_2011-02-12T00:00:00/base/20110212_033600_TAI/extrapolation_result.nf2\n",
      "./ar_series_377_2011-02-12T00:00:00/eval_free_energy/20110212_033600_TAI.npy\n"
     ]
    },
    {
     "name": "stderr",
     "output_type": "stream",
     "text": [
      "100%|██████████| 8715/8715 [00:11<00:00, 736.83it/s]\n",
      "Potential Field: 100%|██████████| 8715/8715 [03:40<00:00, 39.56it/s]\n"
     ]
    },
    {
     "name": "stdout",
     "output_type": "stream",
     "text": [
      "./ar_series_377_2011-02-12T00:00:00/base/20110212_034800_TAI/extrapolation_result.nf2\n",
      "./ar_series_377_2011-02-12T00:00:00/eval_free_energy/20110212_034800_TAI.npy\n"
     ]
    },
    {
     "name": "stderr",
     "output_type": "stream",
     "text": [
      "100%|██████████| 8715/8715 [00:10<00:00, 852.26it/s]\n",
      "Potential Field: 100%|██████████| 8715/8715 [03:40<00:00, 39.47it/s]\n"
     ]
    },
    {
     "name": "stdout",
     "output_type": "stream",
     "text": [
      "./ar_series_377_2011-02-12T00:00:00/base/20110212_040000_TAI/extrapolation_result.nf2\n",
      "./ar_series_377_2011-02-12T00:00:00/eval_free_energy/20110212_040000_TAI.npy\n"
     ]
    },
    {
     "name": "stderr",
     "output_type": "stream",
     "text": [
      "100%|██████████| 8715/8715 [00:10<00:00, 831.71it/s]\n",
      "Potential Field: 100%|██████████| 8715/8715 [03:40<00:00, 39.54it/s]\n"
     ]
    },
    {
     "name": "stdout",
     "output_type": "stream",
     "text": [
      "./ar_series_377_2011-02-12T00:00:00/base/20110212_041200_TAI/extrapolation_result.nf2\n",
      "./ar_series_377_2011-02-12T00:00:00/eval_free_energy/20110212_041200_TAI.npy\n"
     ]
    },
    {
     "name": "stderr",
     "output_type": "stream",
     "text": [
      "100%|██████████| 8715/8715 [00:10<00:00, 840.69it/s]\n",
      "Potential Field: 100%|██████████| 8715/8715 [03:39<00:00, 39.62it/s]\n"
     ]
    },
    {
     "name": "stdout",
     "output_type": "stream",
     "text": [
      "./ar_series_377_2011-02-12T00:00:00/base/20110212_042400_TAI/extrapolation_result.nf2\n",
      "./ar_series_377_2011-02-12T00:00:00/eval_free_energy/20110212_042400_TAI.npy\n"
     ]
    },
    {
     "name": "stderr",
     "output_type": "stream",
     "text": [
      "100%|██████████| 8715/8715 [00:10<00:00, 837.78it/s]\n",
      "Potential Field: 100%|██████████| 8715/8715 [03:40<00:00, 39.46it/s]\n"
     ]
    },
    {
     "name": "stdout",
     "output_type": "stream",
     "text": [
      "./ar_series_377_2011-02-12T00:00:00/base/20110212_043600_TAI/extrapolation_result.nf2\n",
      "./ar_series_377_2011-02-12T00:00:00/eval_free_energy/20110212_043600_TAI.npy\n"
     ]
    },
    {
     "name": "stderr",
     "output_type": "stream",
     "text": [
      "100%|██████████| 8715/8715 [00:10<00:00, 823.84it/s]\n",
      "Potential Field: 100%|██████████| 8715/8715 [03:40<00:00, 39.57it/s]\n"
     ]
    },
    {
     "name": "stdout",
     "output_type": "stream",
     "text": [
      "./ar_series_377_2011-02-12T00:00:00/base/20110212_044800_TAI/extrapolation_result.nf2\n",
      "./ar_series_377_2011-02-12T00:00:00/eval_free_energy/20110212_044800_TAI.npy\n"
     ]
    },
    {
     "name": "stderr",
     "output_type": "stream",
     "text": [
      "100%|██████████| 8715/8715 [00:10<00:00, 850.08it/s]\n",
      "Potential Field: 100%|██████████| 8715/8715 [03:40<00:00, 39.54it/s]\n"
     ]
    },
    {
     "name": "stdout",
     "output_type": "stream",
     "text": [
      "./ar_series_377_2011-02-12T00:00:00/base/20110212_050000_TAI/extrapolation_result.nf2\n",
      "./ar_series_377_2011-02-12T00:00:00/eval_free_energy/20110212_050000_TAI.npy\n"
     ]
    },
    {
     "name": "stderr",
     "output_type": "stream",
     "text": [
      "100%|██████████| 8715/8715 [00:10<00:00, 853.79it/s]\n",
      "Potential Field: 100%|██████████| 8715/8715 [03:40<00:00, 39.53it/s]\n"
     ]
    },
    {
     "name": "stdout",
     "output_type": "stream",
     "text": [
      "./ar_series_377_2011-02-12T00:00:00/base/20110212_051200_TAI/extrapolation_result.nf2\n",
      "./ar_series_377_2011-02-12T00:00:00/eval_free_energy/20110212_051200_TAI.npy\n"
     ]
    },
    {
     "name": "stderr",
     "output_type": "stream",
     "text": [
      "100%|██████████| 8715/8715 [00:10<00:00, 848.06it/s]\n",
      "Potential Field: 100%|██████████| 8715/8715 [03:41<00:00, 39.41it/s]\n"
     ]
    },
    {
     "name": "stdout",
     "output_type": "stream",
     "text": [
      "./ar_series_377_2011-02-12T00:00:00/base/20110212_052400_TAI/extrapolation_result.nf2\n",
      "./ar_series_377_2011-02-12T00:00:00/eval_free_energy/20110212_052400_TAI.npy\n"
     ]
    },
    {
     "name": "stderr",
     "output_type": "stream",
     "text": [
      "100%|██████████| 8715/8715 [00:10<00:00, 867.74it/s]\n",
      "Potential Field: 100%|██████████| 8715/8715 [03:40<00:00, 39.56it/s]\n"
     ]
    },
    {
     "name": "stdout",
     "output_type": "stream",
     "text": [
      "./ar_series_377_2011-02-12T00:00:00/base/20110212_053600_TAI/extrapolation_result.nf2\n",
      "./ar_series_377_2011-02-12T00:00:00/eval_free_energy/20110212_053600_TAI.npy\n"
     ]
    },
    {
     "name": "stderr",
     "output_type": "stream",
     "text": [
      "100%|██████████| 8715/8715 [00:10<00:00, 863.73it/s]\n",
      "Potential Field: 100%|██████████| 8715/8715 [03:40<00:00, 39.57it/s]\n"
     ]
    },
    {
     "name": "stdout",
     "output_type": "stream",
     "text": [
      "./ar_series_377_2011-02-12T00:00:00/base/20110212_054800_TAI/extrapolation_result.nf2\n",
      "./ar_series_377_2011-02-12T00:00:00/eval_free_energy/20110212_054800_TAI.npy\n"
     ]
    },
    {
     "name": "stderr",
     "output_type": "stream",
     "text": [
      "100%|██████████| 8715/8715 [00:09<00:00, 884.90it/s]\n",
      "Potential Field: 100%|██████████| 8715/8715 [03:39<00:00, 39.69it/s]\n"
     ]
    },
    {
     "name": "stdout",
     "output_type": "stream",
     "text": [
      "./ar_series_377_2011-02-12T00:00:00/base/20110212_060000_TAI/extrapolation_result.nf2\n",
      "./ar_series_377_2011-02-12T00:00:00/eval_free_energy/20110212_060000_TAI.npy\n"
     ]
    },
    {
     "name": "stderr",
     "output_type": "stream",
     "text": [
      "100%|██████████| 8715/8715 [00:09<00:00, 890.94it/s]\n",
      "Potential Field: 100%|██████████| 8715/8715 [03:40<00:00, 39.60it/s]\n"
     ]
    },
    {
     "name": "stdout",
     "output_type": "stream",
     "text": [
      "./ar_series_377_2011-02-12T00:00:00/base/20110212_061200_TAI/extrapolation_result.nf2\n",
      "./ar_series_377_2011-02-12T00:00:00/eval_free_energy/20110212_061200_TAI.npy\n"
     ]
    },
    {
     "name": "stderr",
     "output_type": "stream",
     "text": [
      "100%|██████████| 8715/8715 [00:09<00:00, 885.59it/s]\n",
      "Potential Field: 100%|██████████| 8715/8715 [03:40<00:00, 39.57it/s]\n"
     ]
    },
    {
     "name": "stdout",
     "output_type": "stream",
     "text": [
      "./ar_series_377_2011-02-12T00:00:00/base/20110212_062400_TAI/extrapolation_result.nf2\n",
      "./ar_series_377_2011-02-12T00:00:00/eval_free_energy/20110212_062400_TAI.npy\n"
     ]
    },
    {
     "name": "stderr",
     "output_type": "stream",
     "text": [
      "100%|██████████| 8715/8715 [00:09<00:00, 895.84it/s]\n",
      "Potential Field: 100%|██████████| 8715/8715 [03:41<00:00, 39.43it/s]\n"
     ]
    },
    {
     "name": "stdout",
     "output_type": "stream",
     "text": [
      "./ar_series_377_2011-02-12T00:00:00/base/20110212_063600_TAI/extrapolation_result.nf2\n",
      "./ar_series_377_2011-02-12T00:00:00/eval_free_energy/20110212_063600_TAI.npy\n"
     ]
    },
    {
     "name": "stderr",
     "output_type": "stream",
     "text": [
      "100%|██████████| 8715/8715 [00:09<00:00, 895.56it/s]\n",
      "Potential Field: 100%|██████████| 8715/8715 [03:40<00:00, 39.49it/s]\n"
     ]
    },
    {
     "name": "stdout",
     "output_type": "stream",
     "text": [
      "./ar_series_377_2011-02-12T00:00:00/base/20110212_064800_TAI/extrapolation_result.nf2\n",
      "./ar_series_377_2011-02-12T00:00:00/eval_free_energy/20110212_064800_TAI.npy\n"
     ]
    },
    {
     "name": "stderr",
     "output_type": "stream",
     "text": [
      "100%|██████████| 8715/8715 [00:09<00:00, 914.25it/s]\n",
      "Potential Field: 100%|██████████| 8715/8715 [03:40<00:00, 39.52it/s]\n"
     ]
    },
    {
     "name": "stdout",
     "output_type": "stream",
     "text": [
      "./ar_series_377_2011-02-12T00:00:00/base/20110212_070000_TAI/extrapolation_result.nf2\n",
      "./ar_series_377_2011-02-12T00:00:00/eval_free_energy/20110212_070000_TAI.npy\n"
     ]
    },
    {
     "name": "stderr",
     "output_type": "stream",
     "text": [
      "100%|██████████| 8715/8715 [00:08<00:00, 969.88it/s]\n",
      "Potential Field: 100%|██████████| 8715/8715 [03:41<00:00, 39.41it/s]\n"
     ]
    },
    {
     "name": "stdout",
     "output_type": "stream",
     "text": [
      "./ar_series_377_2011-02-12T00:00:00/base/20110212_071200_TAI/extrapolation_result.nf2\n",
      "./ar_series_377_2011-02-12T00:00:00/eval_free_energy/20110212_071200_TAI.npy\n"
     ]
    },
    {
     "name": "stderr",
     "output_type": "stream",
     "text": [
      "100%|██████████| 8715/8715 [00:09<00:00, 923.25it/s]\n",
      "Potential Field: 100%|██████████| 8715/8715 [03:40<00:00, 39.54it/s]\n"
     ]
    },
    {
     "name": "stdout",
     "output_type": "stream",
     "text": [
      "./ar_series_377_2011-02-12T00:00:00/base/20110212_072400_TAI/extrapolation_result.nf2\n",
      "./ar_series_377_2011-02-12T00:00:00/eval_free_energy/20110212_072400_TAI.npy\n"
     ]
    },
    {
     "name": "stderr",
     "output_type": "stream",
     "text": [
      "100%|██████████| 8715/8715 [00:09<00:00, 887.52it/s]\n",
      "Potential Field: 100%|██████████| 8715/8715 [03:41<00:00, 39.40it/s]\n"
     ]
    },
    {
     "name": "stdout",
     "output_type": "stream",
     "text": [
      "./ar_series_377_2011-02-12T00:00:00/base/20110212_073600_TAI/extrapolation_result.nf2\n",
      "./ar_series_377_2011-02-12T00:00:00/eval_free_energy/20110212_073600_TAI.npy\n"
     ]
    },
    {
     "name": "stderr",
     "output_type": "stream",
     "text": [
      "100%|██████████| 8715/8715 [00:10<00:00, 841.75it/s]\n",
      "Potential Field: 100%|██████████| 8715/8715 [03:40<00:00, 39.46it/s]\n"
     ]
    },
    {
     "name": "stdout",
     "output_type": "stream",
     "text": [
      "./ar_series_377_2011-02-12T00:00:00/base/20110212_074800_TAI/extrapolation_result.nf2\n",
      "./ar_series_377_2011-02-12T00:00:00/eval_free_energy/20110212_074800_TAI.npy\n"
     ]
    },
    {
     "name": "stderr",
     "output_type": "stream",
     "text": [
      "100%|██████████| 8715/8715 [00:10<00:00, 865.83it/s]\n",
      "Potential Field: 100%|██████████| 8715/8715 [03:41<00:00, 39.43it/s]\n"
     ]
    },
    {
     "name": "stdout",
     "output_type": "stream",
     "text": [
      "./ar_series_377_2011-02-12T00:00:00/base/20110212_080000_TAI/extrapolation_result.nf2\n",
      "./ar_series_377_2011-02-12T00:00:00/eval_free_energy/20110212_080000_TAI.npy\n"
     ]
    },
    {
     "name": "stderr",
     "output_type": "stream",
     "text": [
      "100%|██████████| 8715/8715 [00:10<00:00, 822.64it/s]\n",
      "Potential Field: 100%|██████████| 8715/8715 [03:41<00:00, 39.42it/s]\n"
     ]
    },
    {
     "name": "stdout",
     "output_type": "stream",
     "text": [
      "./ar_series_377_2011-02-12T00:00:00/base/20110212_081200_TAI/extrapolation_result.nf2\n",
      "./ar_series_377_2011-02-12T00:00:00/eval_free_energy/20110212_081200_TAI.npy\n"
     ]
    },
    {
     "name": "stderr",
     "output_type": "stream",
     "text": [
      "100%|██████████| 8715/8715 [00:10<00:00, 835.03it/s]\n",
      "Potential Field: 100%|██████████| 8715/8715 [03:40<00:00, 39.46it/s]\n"
     ]
    },
    {
     "name": "stdout",
     "output_type": "stream",
     "text": [
      "./ar_series_377_2011-02-12T00:00:00/base/20110212_082400_TAI/extrapolation_result.nf2\n",
      "./ar_series_377_2011-02-12T00:00:00/eval_free_energy/20110212_082400_TAI.npy\n"
     ]
    },
    {
     "name": "stderr",
     "output_type": "stream",
     "text": [
      "100%|██████████| 8715/8715 [00:10<00:00, 826.51it/s]\n",
      "Potential Field: 100%|██████████| 8715/8715 [03:39<00:00, 39.65it/s]\n"
     ]
    },
    {
     "name": "stdout",
     "output_type": "stream",
     "text": [
      "./ar_series_377_2011-02-12T00:00:00/base/20110212_083600_TAI/extrapolation_result.nf2\n",
      "./ar_series_377_2011-02-12T00:00:00/eval_free_energy/20110212_083600_TAI.npy\n"
     ]
    },
    {
     "name": "stderr",
     "output_type": "stream",
     "text": [
      "100%|██████████| 8715/8715 [00:10<00:00, 822.69it/s]\n",
      "Potential Field: 100%|██████████| 8715/8715 [03:40<00:00, 39.61it/s]\n"
     ]
    },
    {
     "name": "stdout",
     "output_type": "stream",
     "text": [
      "./ar_series_377_2011-02-12T00:00:00/base/20110212_084800_TAI/extrapolation_result.nf2\n",
      "./ar_series_377_2011-02-12T00:00:00/eval_free_energy/20110212_084800_TAI.npy\n"
     ]
    },
    {
     "name": "stderr",
     "output_type": "stream",
     "text": [
      "100%|██████████| 8715/8715 [00:10<00:00, 809.86it/s]\n",
      "Potential Field:  97%|█████████▋| 8474/8715 [03:35<00:05, 40.22it/s]"
     ]
    }
   ],
   "source": [
    "nf2_paths = sorted(glob.glob(os.path.join(bpp, '**', 'extrapolation_result.nf2')))\n",
    "\n",
    "eval_free_energy_path = os.path.join(series_base_path, 'eval_free_energy')\n",
    "os.makedirs(eval_free_energy_path, exist_ok=True)\n",
    "free_energy_files = []\n",
    "\n",
    "for path in nf2_paths:\n",
    "  print(path)\n",
    "  f = os.path.join(eval_free_energy_path, os.path.basename(os.path.dirname(path))) + '.npy'\n",
    "  print(f)\n",
    "  if os.path.exists(f): \n",
    "    free_energy_files += [f]\n",
    "    continue\n",
    "  b = load_cube(path, progress=True)\n",
    "  free_me = get_free_mag_energy(b)\n",
    "  np.save(f, free_me)\n",
    "  free_energy_files += [f]\n",
    "\n",
    "free_energy_series_dates = [datetime.strptime(os.path.basename(f), '%Y%m%d_%H%M%S_TAI.npy') for f in free_energy_files]\n",
    "\n",
    "cm_per_pixel = 360e5 * bin\n",
    "dV = cm_per_pixel**3\n",
    "\n",
    "plt.figure(figsize=(9, 3))\n",
    "plt.plot(free_energy_series_dates, [np.load(f).sum()*dV for f in free_energy_files])\n",
    "plt.title('AR 377')\n",
    "plt.ylabel('total free magnetic energy')\n",
    "figure_free_energy_path = os.path.join(series_base_path, './free_energy.png')\n",
    "plt.savefig(figure_free_energy_path, dpi=300)\n",
    "plt.show()"
   ]
  }
 ],
 "metadata": {
  "accelerator": "GPU",
  "colab": {
   "collapsed_sections": [
    "PUyTcoQyXRdt",
    "vGdTQSN6GA6z",
    "nP_NcfVqyShC",
    "cJ_xb_10YxKB",
    "FTkHsnNIyYu9"
   ],
   "provenance": []
  },
  "gpuClass": "standard",
  "kernelspec": {
   "display_name": "Python 3 (ipykernel)",
   "language": "python",
   "name": "python3"
  },
  "language_info": {
   "codemirror_mode": {
    "name": "ipython",
    "version": 3
   },
   "file_extension": ".py",
   "mimetype": "text/x-python",
   "name": "python",
   "nbconvert_exporter": "python",
   "pygments_lexer": "ipython3",
   "version": "3.10.9"
  },
  "vscode": {
   "interpreter": {
    "hash": "59f3145cc67fcda0343c2852f1f97113a2e6e98841e887156424448e7071ad54"
   }
  }
 },
 "nbformat": 4,
 "nbformat_minor": 4
}
