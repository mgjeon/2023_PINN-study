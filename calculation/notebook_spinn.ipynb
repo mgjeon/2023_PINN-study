{
 "cells": [
  {
   "cell_type": "code",
   "execution_count": 6,
   "metadata": {},
   "outputs": [],
   "source": [
    "%matplotlib inline\n",
    "import os\n",
    "import time\n",
    "import jax\n",
    "import jax.numpy as jnp\n",
    "import optax\n",
    "import matplotlib.pyplot as plt\n",
    "from tqdm import trange\n",
    "from jax import jvp, value_and_grad\n",
    "from flax import linen as nn\n",
    "from typing import Sequence\n",
    "from functools import partial"
   ]
  },
  {
   "cell_type": "code",
   "execution_count": 43,
   "metadata": {},
   "outputs": [],
   "source": [
    "NC = 64\n",
    "NI = 64\n",
    "NB = 64\n",
    "NC_TEST = 100\n",
    "SEED = 444\n",
    "LR = 1e-3\n",
    "EPOCHS = 50000\n",
    "N_LAYERS = 4\n",
    "FEATURES = 3\n",
    "LOG_ITER = 25000"
   ]
  },
  {
   "cell_type": "code",
   "execution_count": 72,
   "metadata": {},
   "outputs": [],
   "source": [
    "key = jax.random.PRNGKey(SEED)\n",
    "key, subkey = jax.random.split(key, 2)"
   ]
  },
  {
   "cell_type": "code",
   "execution_count": 85,
   "metadata": {},
   "outputs": [],
   "source": [
    "class SPINN(nn.Module):\n",
    "    features: Sequence[int]\n",
    "\n",
    "    @nn.compact\n",
    "    def __call__(self, x, y, z):\n",
    "        inputs, outputs = [x, y, z], []\n",
    "        init = nn.initializers.glorot_normal()\n",
    "        for X in inputs:\n",
    "            for fs in self.features[:-1]:\n",
    "                X = nn.Dense(fs, kernel_init=init)(X)\n",
    "                X = nn.activation.tanh(X)\n",
    "            X = nn.Dense(self.features[-1], kernel_init=init)(X)\n",
    "            outputs += [jnp.transpose(X, (1,0))]\n",
    "        xy = jnp.einsum('fx, fy->fxy', outputs[0], outputs[1])\n",
    "        xyz = jnp.einsum('fxy, fz->xyz', xy, outputs[-1])\n",
    "        return xyz"
   ]
  },
  {
   "cell_type": "code",
   "execution_count": 88,
   "metadata": {},
   "outputs": [
    {
     "name": "stdout",
     "output_type": "stream",
     "text": [
      "(3, 2)\n",
      "[[1. 2.]\n",
      " [3. 4.]\n",
      " [5. 6.]]\n",
      "(3, 2)\n",
      "[[ 1.  3.]\n",
      " [ 9. 10.]\n",
      " [11. 12.]]\n",
      "(3, 2, 2)\n",
      "[[[ 1.  3.]\n",
      "  [ 2.  6.]]\n",
      "\n",
      " [[27. 30.]\n",
      "  [36. 40.]]\n",
      "\n",
      " [[55. 60.]\n",
      "  [66. 72.]]]\n",
      "(3, 2)\n",
      "[[1. 2.]\n",
      " [3. 4.]\n",
      " [5. 6.]]\n",
      "(2, 2, 2)\n",
      "[[[357. 440.]\n",
      "  [393. 486.]]\n",
      "\n",
      " [[440. 544.]\n",
      "  [486. 604.]]]\n"
     ]
    }
   ],
   "source": [
    "x = jnp.array([[1., 2.], [3., 4.], [5., 6.]])\n",
    "y = jnp.array([[1., 3.], [9., 10.], [11., 12.]])\n",
    "print(x.shape)\n",
    "print(x)\n",
    "print(y.shape)\n",
    "print(y)\n",
    "xy = jnp.einsum('fx, fy->fxy', x, y)\n",
    "print(xy.shape)\n",
    "print(xy)\n",
    "z = jnp.array([[1., 2.], [3., 4.], [5., 6.]])\n",
    "print(z.shape)\n",
    "print(z)\n",
    "xyz = jnp.einsum('fxy, fz->xyz', xy, z)\n",
    "print(xyz.shape)\n",
    "print(xyz)"
   ]
  },
  {
   "cell_type": "code",
   "execution_count": 87,
   "metadata": {},
   "outputs": [
    {
     "data": {
      "text/plain": [
       "(2, 2, 2)"
      ]
     },
     "execution_count": 87,
     "metadata": {},
     "output_type": "execute_result"
    }
   ],
   "source": [
    "feat_sizes = tuple(FEATURES for _ in range(N_LAYERS))\n",
    "model = SPINN(feat_sizes)\n",
    "x = jnp.array([1., 2.]).reshape(-1, 1)\n",
    "y = jnp.array([4., 5.]).reshape(-1, 1)\n",
    "z = jnp.array([7., 8.]).reshape(-1, 1)\n",
    "params = model.init(subkey, x, y, z)\n",
    "apply_fn = jax.jit(model.apply)\n",
    "u = apply_fn(params, x, y, z)\n",
    "u.shape"
   ]
  },
  {
   "cell_type": "code",
   "execution_count": null,
   "metadata": {},
   "outputs": [],
   "source": []
  }
 ],
 "metadata": {
  "kernelspec": {
   "display_name": "base",
   "language": "python",
   "name": "python3"
  },
  "language_info": {
   "codemirror_mode": {
    "name": "ipython",
    "version": 3
   },
   "file_extension": ".py",
   "mimetype": "text/x-python",
   "name": "python",
   "nbconvert_exporter": "python",
   "pygments_lexer": "ipython3",
   "version": "3.10.10"
  },
  "orig_nbformat": 4
 },
 "nbformat": 4,
 "nbformat_minor": 2
}
