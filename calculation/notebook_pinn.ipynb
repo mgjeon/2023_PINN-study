{
 "cells": [
  {
   "cell_type": "code",
   "execution_count": 84,
   "metadata": {},
   "outputs": [],
   "source": [
    "import jax"
   ]
  },
  {
   "cell_type": "code",
   "execution_count": 4,
   "metadata": {},
   "outputs": [],
   "source": [
    "NC = 64**3\n",
    "NI = 64**3\n",
    "NB = 64**2\n",
    "NC_TEST = 100\n",
    "SEED = 444\n",
    "LR = 1e-3\n",
    "EPOCHS = 50000\n",
    "N_LAYERS = 5\n",
    "FEATURES = 128\n",
    "LOG_ITER = 25000"
   ]
  },
  {
   "cell_type": "code",
   "execution_count": 5,
   "metadata": {},
   "outputs": [],
   "source": [
    "key = jax.random.PRNGKey(SEED)\n",
    "key, subkey = jax.random.split(key, 2)"
   ]
  },
  {
   "cell_type": "code",
   "execution_count": 6,
   "metadata": {},
   "outputs": [],
   "source": [
    "feat_sizes = tuple([FEATURES for _ in range(N_LAYERS - 1)] + [1])"
   ]
  },
  {
   "cell_type": "code",
   "execution_count": 7,
   "metadata": {},
   "outputs": [
    {
     "data": {
      "text/plain": [
       "(128, 128, 128, 128, 1)"
      ]
     },
     "execution_count": 7,
     "metadata": {},
     "output_type": "execute_result"
    }
   ],
   "source": [
    "feat_sizes"
   ]
  },
  {
   "cell_type": "code",
   "execution_count": 67,
   "metadata": {},
   "outputs": [],
   "source": [
    "import jax.numpy as jnp\n",
    "import optax\n",
    "from flax import linen as nn\n",
    "from typing import Sequence"
   ]
  },
  {
   "cell_type": "code",
   "execution_count": 59,
   "metadata": {},
   "outputs": [],
   "source": [
    "class PINN(nn.Module):\n",
    "    features: Sequence[int]\n",
    "\n",
    "    @nn.compact \n",
    "    def __call__(self, x, y, z):\n",
    "        X = jnp.concatenate([x, y, z], axis=1)\n",
    "        init = nn.initializers.glorot_normal()\n",
    "        for fs in self.features[:-1]:\n",
    "            X = nn.Dense(fs, kernel_init=init)(X)\n",
    "            X = nn.activation.tanh(X)\n",
    "        X = nn.Dense(self.features[-1], kernel_init=init)(X)\n",
    "        return X"
   ]
  },
  {
   "cell_type": "code",
   "execution_count": 64,
   "metadata": {},
   "outputs": [],
   "source": [
    "model = PINN(feat_sizes)\n",
    "params = model.init(subkey, jnp.ones((NC, 1)), jnp.ones((NC, 1)), jnp.ones((NC, 1)))"
   ]
  },
  {
   "cell_type": "code",
   "execution_count": 70,
   "metadata": {},
   "outputs": [],
   "source": [
    "optim = optax.adam(LR)\n",
    "state = optim.init(params)"
   ]
  },
  {
   "cell_type": "code",
   "execution_count": 83,
   "metadata": {},
   "outputs": [
    {
     "data": {
      "text/plain": [
       "Array([[2.4968624 ],\n",
       "       [0.32575607],\n",
       "       [6.916964  ],\n",
       "       [7.491734  ],\n",
       "       [4.8239136 ]], dtype=float32)"
      ]
     },
     "execution_count": 83,
     "metadata": {},
     "output_type": "execute_result"
    }
   ],
   "source": [
    "jax.random.uniform(key, (5, 1), minval=0., maxval=10.)"
   ]
  },
  {
   "cell_type": "code",
   "execution_count": 105,
   "metadata": {},
   "outputs": [],
   "source": [
    "def _klein_gordon3d_exact_u(t, x, y):\n",
    "    return (x + y) * jnp.cos(2*t) + (x * y) * jnp.sin(2*t)\n",
    "\n",
    "def _klein_gordon3d_source_term(t, x, y):\n",
    "    u = _klein_gordon3d_exact_u(t, x, y)\n",
    "    return u**2 - 4*u\n",
    "\n",
    "def pinn_train_generator_klein_gordon3d(nc, ni, nb, key):\n",
    "    keys = jax.random.split(key, 13)\n",
    "\n",
    "    # collocation points\n",
    "    tc = jax.random.uniform(keys[0], (nc, 1), minval=0., maxval=10.)\n",
    "    xc = jax.random.uniform(keys[1], (nc, 1), minval=-1., maxval=1.)\n",
    "    yc = jax.random.uniform(keys[2], (nc, 1), minval=-1., maxval=1.)\n",
    "    uc = _klein_gordon3d_source_term(tc, xc, yc)\n",
    "\n",
    "    # initial points\n",
    "    ti = jnp.zeros((ni, 1))\n",
    "    xi = jax.random.uniform(keys[3], (ni, 1), minval=-1., maxval=1.)\n",
    "    yi = jax.random.uniform(keys[4], (ni, 1), minval=-1., maxval=1.)\n",
    "    ui = _klein_gordon3d_exact_u(ti, xi, yi)\n",
    "\n",
    "    # boundary points (hard-coded)\n",
    "    tb = [\n",
    "        jax.random.uniform(keys[5], (nb, 1), minval=0., maxval=10.),\n",
    "        jax.random.uniform(keys[6], (nb, 1), minval=0., maxval=10.),\n",
    "        jax.random.uniform(keys[7], (nb, 1), minval=0., maxval=10.),\n",
    "        jax.random.uniform(keys[8], (nb, 1), minval=0., maxval=10.)\n",
    "    ]\n",
    "    xb = [\n",
    "        jnp.array([[-1.]]*nb),\n",
    "        jnp.array([[1.]]*nb),\n",
    "        jax.random.uniform(keys[9], (nb, 1), minval=-1., maxval=1.),\n",
    "        jax.random.uniform(keys[10], (nb, 1), minval=-1., maxval=1.)\n",
    "    ]\n",
    "    yb = [\n",
    "        jax.random.uniform(keys[11], (nb, 1), minval=-1., maxval=1.),\n",
    "        jax.random.uniform(keys[12], (nb, 1), minval=-1., maxval=1.),\n",
    "        jnp.array([[-1.]]*nb),\n",
    "        jnp.array([[1.]]*nb)\n",
    "    ]\n",
    "    ub = []\n",
    "    for i in range(4):\n",
    "        ub += [_klein_gordon3d_exact_u(tb[i], xb[i], yb[i])]\n",
    "\n",
    "    tb = jnp.concatenate(tb)\n",
    "    xb = jnp.concatenate(xb)\n",
    "    yb = jnp.concatenate(yb)\n",
    "    ub = jnp.concatenate(ub)\n",
    "\n",
    "    return tc, xc, yc, uc, ti, xi, yi, ui, tb, xb, yb, ub\n",
    "\n",
    "def pinn_test_generator_klein_gordon3d(nc_test):\n",
    "    t = jnp.linspace(0, 10, nc_test)\n",
    "    x = jnp.linspace(-1, 1, nc_test)\n",
    "    y = jnp.linspace(-1, 1, nc_test)\n",
    "    t = jax.lax.stop_gradient(t)\n",
    "    x = jax.lax.stop_gradient(x)\n",
    "    y = jax.lax.stop_gradient(y)\n",
    "    tm, xm, ym = jnp.meshgrid(t, x, y, indexing='ij')\n",
    "    u_gt = _klein_gordon3d_exact_u(tm, xm, ym)\n",
    "    t = tm.reshape(-1, 1)\n",
    "    x = xm.reshape(-1, 1)\n",
    "    y = ym.reshape(-1, 1)\n",
    "    u_gt = u_gt.reshape(-1, 1)\n",
    "    return t, x, y, u_gt"
   ]
  },
  {
   "cell_type": "code",
   "execution_count": 106,
   "metadata": {},
   "outputs": [],
   "source": [
    "train_data = pinn_train_generator_klein_gordon3d(NC, NI, NB, subkey)\n",
    "t, x, y, u_gt = pinn_test_generator_klein_gordon3d(NC_TEST)"
   ]
  },
  {
   "cell_type": "code",
   "execution_count": 110,
   "metadata": {},
   "outputs": [],
   "source": [
    "from jax import jvp, vjp, value_and_grad"
   ]
  },
  {
   "cell_type": "code",
   "execution_count": 111,
   "metadata": {},
   "outputs": [],
   "source": [
    "def hvp_fwdrev(f, primals, tangents, return_primals=False):\n",
    "    g = lambda primals: vjp(f, primals)[1](tangents[0])[0]\n",
    "    primals_out, tangets_out = jvp(g, primals, tangents)\n",
    "    if return_primals:\n",
    "        return primals_out, tangets_out\n",
    "    else:\n",
    "        return tangets_out"
   ]
  },
  {
   "cell_type": "code",
   "execution_count": 112,
   "metadata": {},
   "outputs": [],
   "source": [
    "def pinn_loss_klein_gordon3d(apply_fn, *train_data):\n",
    "    def residual_loss(params, t, x, y, source_term):\n",
    "        u = apply_fn(params, t, x, y)\n",
    "        v = jnp.ones(u.shape)\n",
    "        utt = hvp_fwdrev(lambda t: apply_fn(params, t, x, y), (t,), (v,))\n",
    "        uxx = hvp_fwdrev(lambda x: apply_fn(params, t, x, y), (x,), (v,))\n",
    "        uyy = hvp_fwdrev(lambda y: apply_fn(params, t, x, y), (y,), (v,))\n",
    "        return jnp.mean((utt - uxx + uyy + u**2 - source_term)**2)\n",
    "    \n",
    "    def initial_boundary_loss(params, t, x, y, u):\n",
    "        return jnp.mean((apply_fn(params, t, x, y) - u)**2)\n",
    "    \n",
    "    tc, xc, yc, uc, ti, xi, yi, ui, tb, xb, yb, ub = train_data \n",
    "    fn = lambda params: residual_loss(params, tc, xc, yc, uc) + \\\n",
    "                        initial_boundary_loss(params, ti, xi, yi, ui) + \\\n",
    "                        initial_boundary_loss(params, tb, xb, yb, ub)\n",
    "    \n",
    "    return fn"
   ]
  },
  {
   "cell_type": "code",
   "execution_count": 114,
   "metadata": {},
   "outputs": [],
   "source": [
    "from functools import partial\n",
    "\n",
    "@partial(jax.jit, static_argnums=(0,))\n",
    "def update_model(optim, gradient, params, state):\n",
    "    updates, state = optim.update(gradient, state)\n",
    "    params = optax.apply_updates(params, updates)\n",
    "    return params, state"
   ]
  },
  {
   "cell_type": "code",
   "execution_count": 115,
   "metadata": {},
   "outputs": [],
   "source": [
    "apply_fn = jax.jit(model.apply)\n",
    "loss_fn = pinn_loss_klein_gordon3d(apply_fn, *train_data)"
   ]
  },
  {
   "cell_type": "code",
   "execution_count": 117,
   "metadata": {},
   "outputs": [],
   "source": [
    "@jax.jit \n",
    "def train_one_step(params, state):\n",
    "    loss, gradient = value_and_grad(loss_fn)(params)\n",
    "    params, state = update_model(optim, gradient, params, state)\n",
    "    return loss, params, state"
   ]
  },
  {
   "cell_type": "code",
   "execution_count": 119,
   "metadata": {},
   "outputs": [],
   "source": [
    "import time\n",
    "from tqdm import trange"
   ]
  },
  {
   "cell_type": "code",
   "execution_count": 120,
   "metadata": {},
   "outputs": [],
   "source": [
    "def relative_l2(u, u_gt):\n",
    "    return jnp.linalg.norm(u-u_gt) / jnp.linalg.norm(u_gt)"
   ]
  },
  {
   "cell_type": "code",
   "execution_count": 121,
   "metadata": {},
   "outputs": [
    {
     "name": "stderr",
     "output_type": "stream",
     "text": [
      "  0%|          | 0/50000 [00:00<?, ?it/s]"
     ]
    }
   ],
   "source": [
    "start = time.time()\n",
    "for e in trange(1, EPOCHS+1):\n",
    "    loss, params, state = train_one_step(params, state)\n",
    "    if e % LOG_ITER == 0:\n",
    "        error = relative_l2(apply_fn(params, t, x, y), u_gt)\n",
    "        print(f'Epoch: {e}/{EPOCHS} --> loss: {loss:.8f}, error: {error:.8f}')\n",
    "\n",
    "end = time.time()\n",
    "print(f'Runtime: {((end-start)/EPOCHS*1000):.2f} ms/iter.')"
   ]
  },
  {
   "cell_type": "code",
   "execution_count": 1,
   "metadata": {},
   "outputs": [],
   "source": [
    "import matplotlib.pyplot as plt \n",
    "\n",
    "def plot_klein_gordon3d(t, x, y, u):\n",
    "    fig = plt.figure(figsize=(6, 6))\n",
    "    ax = fig.add_subplot(111, projection='3d')\n",
    "    ax.scatter(t, x, y, c=u, s=0.5, cmap='seismic')\n",
    "    ax.set_title('U(t, x, y)', fontsize=20, pad=-5)\n",
    "    ax.set_xlabel('t', fontsize=18, labelpad=10)\n",
    "    ax.set_ylabel('x', fontsize=18, labelpad=10)\n",
    "    ax.set_zlabel('y', fontsize=18, labelpad=10)\n",
    "    plt.show()"
   ]
  },
  {
   "cell_type": "code",
   "execution_count": null,
   "metadata": {},
   "outputs": [],
   "source": [
    "u = apply_fn(params, t, x, y)\n",
    "\n",
    "plot_klein_gordon3d(t, x, y, u)"
   ]
  }
 ],
 "metadata": {
  "kernelspec": {
   "display_name": "base",
   "language": "python",
   "name": "python3"
  },
  "language_info": {
   "codemirror_mode": {
    "name": "ipython",
    "version": 3
   },
   "file_extension": ".py",
   "mimetype": "text/x-python",
   "name": "python",
   "nbconvert_exporter": "python",
   "pygments_lexer": "ipython3",
   "version": "3.10.10"
  },
  "orig_nbformat": 4
 },
 "nbformat": 4,
 "nbformat_minor": 2
}
