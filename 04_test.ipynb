{
 "cells": [
  {
   "cell_type": "code",
   "execution_count": 1,
   "metadata": {},
   "outputs": [],
   "source": [
    "config_file = 'config_run3.json'"
   ]
  },
  {
   "cell_type": "code",
   "execution_count": 2,
   "metadata": {},
   "outputs": [],
   "source": [
    "import os\n",
    "import json\n",
    "import argparse\n",
    "import glob\n",
    "import pandas as pd\n",
    "import numpy as np\n",
    "\n",
    "from pinf.analytical_field import get_analytic_b_field\n",
    "from pinf.unpack import load_cube\n",
    "from pinf.potential_field import get_potential\n",
    "from pinf.plot import pv_plot\n",
    "from pinf.performance_metrics import metrics \n",
    "\n",
    "with open(config_file) as config:\n",
    "    info = json.load(config)\n",
    "\n",
    "os.environ[\"CUDA_DEVICE_ORDER\"]=\"PCI_BUS_ID\"\n",
    "os.environ[\"CUDA_VISIBLE_DEVICES\"]= info['simul']['gpu_id']\n",
    "\n",
    "def mag_plot(title, mag, vtk_path):\n",
    "    vtk_file = os.path.join(vtk_path, f'{title}.vtk')\n",
    "    p = pv_plot(B=mag, vtk_path=vtk_file, points=((16, 49, 8), (16, 49, 8)))\n",
    "    p.camera_position = 'xy'\n",
    "    p.show(jupyter_backend='static')\n",
    "\n",
    "    p.camera_position = 'yz'\n",
    "    p.show(jupyter_backend='static')\n",
    "\n",
    "    p.camera_position = 'xz'\n",
    "    p.show(jupyter_backend='static')\n",
    "\n",
    "    p.camera_position = 'xz'\n",
    "    p.camera.azimuth = -30\n",
    "    p.camera.elevation = 25\n",
    "    p.show(jupyter_backend='static')\n",
    "\n",
    "def metric_df(B, b, B_potential, iteration):\n",
    "    metric = metrics(B=B, b=b, B_potential=B_potential)\n",
    "    iterinfo = {'iter': iteration}\n",
    "    metric = {**iterinfo, **metric}\n",
    "\n",
    "    df = pd.DataFrame.from_dict([metric])\n",
    "    return df\n",
    "\n",
    "vtk_path = info['output']['vtk_path']\n",
    "metric_path = info['output']['metric_path']\n",
    "plot_path = info['output']['plot_path']\n",
    "os.makedirs(vtk_path, exist_ok=True)\n",
    "os.makedirs(metric_path, exist_ok=True)\n",
    "os.makedirs(plot_path, exist_ok=True)\n",
    "\n",
    "n = info['exact']['n']\n",
    "m = info['exact']['m']\n",
    "l = info['exact']['l']\n",
    "psi = eval(info['exact']['psi'])\n",
    "resolution = info['exact']['resolution']\n",
    "bounds = info['exact']['bounds']"
   ]
  },
  {
   "cell_type": "code",
   "execution_count": 3,
   "metadata": {},
   "outputs": [
    {
     "name": "stderr",
     "output_type": "stream",
     "text": [
      "Potential Field: 100%|██████████| 263/263 [00:01<00:00, 212.44it/s]\n"
     ]
    }
   ],
   "source": [
    "b = get_analytic_b_field(n=n, m=m, l=l, psi=psi, resolution=resolution, bounds=bounds)\n",
    "\n",
    "potential = get_potential(b[:, :, 0, 2], b.shape[2], batch_size=1000)\n",
    "b_potential = - 1 * np.stack(np.gradient(potential, axis=[0, 1, 2], edge_order=2), axis=-1)"
   ]
  },
  {
   "cell_type": "code",
   "execution_count": 4,
   "metadata": {},
   "outputs": [],
   "source": [
    "from pinf.metric import vector_norm, curl, divergence"
   ]
  },
  {
   "cell_type": "code",
   "execution_count": 5,
   "metadata": {},
   "outputs": [
    {
     "data": {
      "text/plain": [
       "104301.65490588089"
      ]
     },
     "execution_count": 5,
     "metadata": {},
     "output_type": "execute_result"
    }
   ],
   "source": [
    "j_b = curl(b)\n",
    "vector_norm(j_b).sum()"
   ]
  },
  {
   "cell_type": "code",
   "execution_count": 6,
   "metadata": {},
   "outputs": [
    {
     "data": {
      "text/plain": [
       "94244.36856992802"
      ]
     },
     "execution_count": 6,
     "metadata": {},
     "output_type": "execute_result"
    }
   ],
   "source": [
    "vector_norm(np.cross(j_b, b, -1)).sum()"
   ]
  },
  {
   "cell_type": "code",
   "execution_count": 7,
   "metadata": {},
   "outputs": [
    {
     "data": {
      "text/plain": [
       "1131335.6931783683"
      ]
     },
     "execution_count": 7,
     "metadata": {},
     "output_type": "execute_result"
    }
   ],
   "source": [
    "vector_norm(b).sum()"
   ]
  },
  {
   "cell_type": "code",
   "execution_count": 8,
   "metadata": {},
   "outputs": [
    {
     "data": {
      "text/plain": [
       "0.005204202540954063"
      ]
     },
     "execution_count": 8,
     "metadata": {},
     "output_type": "execute_result"
    }
   ],
   "source": [
    "(vector_norm(np.cross(j_b, b, -1)) / vector_norm(b)).mean()"
   ]
  },
  {
   "cell_type": "code",
   "execution_count": 9,
   "metadata": {},
   "outputs": [
    {
     "data": {
      "text/plain": [
       "1364.2504708958618"
      ]
     },
     "execution_count": 9,
     "metadata": {},
     "output_type": "execute_result"
    }
   ],
   "source": [
    "(vector_norm(np.cross(j_b, b, -1)) / vector_norm(b)).sum()"
   ]
  },
  {
   "cell_type": "code",
   "execution_count": 10,
   "metadata": {},
   "outputs": [
    {
     "data": {
      "text/plain": [
       "0.01307985450592252"
      ]
     },
     "execution_count": 10,
     "metadata": {},
     "output_type": "execute_result"
    }
   ],
   "source": [
    "(vector_norm(np.cross(j_b, b, -1)) / vector_norm(b)).sum() / vector_norm(j_b).sum()"
   ]
  },
  {
   "cell_type": "code",
   "execution_count": 11,
   "metadata": {},
   "outputs": [
    {
     "data": {
      "text/plain": [
       "0.028810939"
      ]
     },
     "execution_count": 11,
     "metadata": {},
     "output_type": "execute_result"
    }
   ],
   "source": [
    "j_pot = curl(b_potential)\n",
    "vector_norm(j_pot).sum()"
   ]
  },
  {
   "cell_type": "code",
   "execution_count": 12,
   "metadata": {},
   "outputs": [
    {
     "data": {
      "text/plain": [
       "0.95010036"
      ]
     },
     "execution_count": 12,
     "metadata": {},
     "output_type": "execute_result"
    }
   ],
   "source": [
    "vector_norm(np.cross(j_pot, b_potential, -1)).sum()"
   ]
  },
  {
   "cell_type": "code",
   "execution_count": 13,
   "metadata": {},
   "outputs": [
    {
     "data": {
      "text/plain": [
       "748053.9"
      ]
     },
     "execution_count": 13,
     "metadata": {},
     "output_type": "execute_result"
    }
   ],
   "source": [
    "vector_norm(b_potential).sum()"
   ]
  },
  {
   "cell_type": "code",
   "execution_count": 14,
   "metadata": {},
   "outputs": [
    {
     "data": {
      "text/plain": [
       "9.375654e-08"
      ]
     },
     "execution_count": 14,
     "metadata": {},
     "output_type": "execute_result"
    }
   ],
   "source": [
    "(vector_norm(np.cross(j_pot, b_potential, -1)) / vector_norm(b_potential)).mean()"
   ]
  },
  {
   "cell_type": "code",
   "execution_count": 15,
   "metadata": {},
   "outputs": [
    {
     "data": {
      "text/plain": [
       "9.375654e-08"
      ]
     },
     "execution_count": 15,
     "metadata": {},
     "output_type": "execute_result"
    }
   ],
   "source": [
    "(vector_norm(np.cross(j_pot, b_potential, -1)) / vector_norm(b_potential)).mean()"
   ]
  },
  {
   "cell_type": "code",
   "execution_count": 16,
   "metadata": {},
   "outputs": [
    {
     "data": {
      "text/plain": [
       "0.8530688"
      ]
     },
     "execution_count": 16,
     "metadata": {},
     "output_type": "execute_result"
    }
   ],
   "source": [
    "(vector_norm(np.cross(j_pot, b_potential, -1)) / vector_norm(b_potential)).sum() / vector_norm(j_pot).sum()"
   ]
  },
  {
   "cell_type": "code",
   "execution_count": 17,
   "metadata": {},
   "outputs": [
    {
     "name": "stderr",
     "output_type": "stream",
     "text": [
      "Potential Field: 100%|██████████| 263/263 [00:00<00:00, 266.82it/s]\n"
     ]
    }
   ],
   "source": [
    "import os\n",
    "import json\n",
    "import argparse\n",
    "import glob\n",
    "import pandas as pd\n",
    "import numpy as np\n",
    "\n",
    "from pinf.analytical_field import get_analytic_b_field\n",
    "from pinf.unpack import load_cube\n",
    "from pinf.potential_field import get_potential\n",
    "from pinf.plot import pv_plot\n",
    "from pinf.performance_metrics import metrics \n",
    "\n",
    "with open(config_file) as config:\n",
    "    info = json.load(config)\n",
    "\n",
    "os.environ[\"CUDA_DEVICE_ORDER\"]=\"PCI_BUS_ID\"\n",
    "os.environ[\"CUDA_VISIBLE_DEVICES\"]= info['simul']['gpu_id']\n",
    "\n",
    "def mag_plot(title, mag, vtk_path, plot_path):\n",
    "    vtk_file = os.path.join(vtk_path, f'{title}.vtk')\n",
    "    p = pv_plot(B=mag, vtk_path=vtk_file, points=((16, 49, 8), (16, 49, 8)))\n",
    "\n",
    "    xy_path = os.path.join(plot_path, f'{title}_xy.pdf')\n",
    "    yz_path = os.path.join(plot_path, f'{title}_yz.pdf')\n",
    "    xz_path = os.path.join(plot_path, f'{title}_xz.pdf')\n",
    "    xz_tilted_path = os.path.join(plot_path, f'{title}_xz_tilted.pdf')\n",
    "\n",
    "    if not os.path.exists(xy_path):\n",
    "        p.camera_position = 'xy'\n",
    "        p.save_graphic(xy_path)\n",
    "\n",
    "    if not os.path.exists(yz_path):\n",
    "        p.camera_position = 'yz'\n",
    "        p.save_graphic(yz_path)\n",
    "\n",
    "    if not os.path.exists(xz_path):\n",
    "        p.camera_position = 'xz'\n",
    "        p.save_graphic(xz_path)  \n",
    "\n",
    "    if not os.path.exists(xz_tilted_path):\n",
    "        p.camera_position = 'xz'\n",
    "        p.camera.azimuth = -30\n",
    "        p.camera.elevation = 25\n",
    "        p.save_graphic(xz_tilted_path)\n",
    "\n",
    "def metric_df(B, b, B_potential, iteration):\n",
    "    metric = metrics(B=B, b=b, B_potential=B_potential)\n",
    "    iterinfo = {'iter': iteration}\n",
    "    metric = {**iterinfo, **metric}\n",
    "\n",
    "    df = pd.DataFrame.from_dict([metric])\n",
    "    return df\n",
    "\n",
    "vtk_path = info['output']['vtk_path']\n",
    "metric_path = info['output']['metric_path']\n",
    "plot_path = info['output']['plot_path']\n",
    "os.makedirs(vtk_path, exist_ok=True)\n",
    "os.makedirs(metric_path, exist_ok=True)\n",
    "os.makedirs(plot_path, exist_ok=True)\n",
    "\n",
    "n = info['exact']['n']\n",
    "m = info['exact']['m']\n",
    "l = info['exact']['l']\n",
    "psi = eval(info['exact']['psi'])\n",
    "resolution = info['exact']['resolution']\n",
    "bounds = info['exact']['bounds']\n",
    "\n",
    "b = get_analytic_b_field(n=n, m=m, l=l, psi=psi, resolution=resolution, bounds=bounds)\n",
    "\n",
    "potential = get_potential(b[:, :, 0, 2], b.shape[2], batch_size=1000)\n",
    "b_potential = - 1 * np.stack(np.gradient(potential, axis=[0, 1, 2], edge_order=2), axis=-1)\n",
    "\n",
    "df_b = metric_df(B=b, b=b, B_potential=b_potential, iteration=-2)\n",
    "\n",
    "df_pot = metric_df(B=b_potential, b=b, B_potential=b_potential, iteration=-1)\n",
    "df = pd.concat([df_b, df_pot], ignore_index=True)\n",
    "\n",
    "field_files = os.path.join(info['simul']['base_path'],'fields_*.nf2')\n",
    "field_files = sorted(glob.glob(field_files))\n",
    "\n",
    "file_path = field_files[0]\n",
    "iters = os.path.basename(file_path).split('.')[0][7:]\n",
    "title = 'PINN' + '_' + iters\n",
    "B = load_cube(file_path)\n",
    "\n",
    "import torch \n",
    "\n",
    "device = torch.device('cuda') if torch.cuda.is_available() else torch.device('cpu')\n",
    "loss_path = file_path.replace('fields_', 'loss_')\n",
    "state = torch.load(loss_path, map_location=device)"
   ]
  },
  {
   "cell_type": "code",
   "execution_count": 18,
   "metadata": {},
   "outputs": [
    {
     "data": {
      "text/plain": [
       "{'BC_loss': array(0.0402357, dtype=float32),\n",
       " 'lambda_BC': 1000,\n",
       " 'divergence_loss': array(2.112265e-07, dtype=float32),\n",
       " 'lambda_div': 0.1,\n",
       " 'force_loss': array(1.6592154e-05, dtype=float32),\n",
       " 'lambda_ff': 0.1}"
      ]
     },
     "execution_count": 18,
     "metadata": {},
     "output_type": "execute_result"
    }
   ],
   "source": [
    "state"
   ]
  },
  {
   "cell_type": "code",
   "execution_count": 19,
   "metadata": {},
   "outputs": [],
   "source": [
    "key = [\"BC_loss\", \"lambda_BC\", 'Div_loss', \"lambda_div\", \"FF_loss\", \"lambda_ff\"]\n",
    "value = [state['BC_loss'].item(), state['lambda_BC'], state['divergence_loss'].item(), state['lambda_div'], state['force_loss'].item(), state['lambda_ff']]"
   ]
  },
  {
   "cell_type": "code",
   "execution_count": 20,
   "metadata": {},
   "outputs": [],
   "source": [
    "df_loss = pd.DataFrame.from_dict([dict(zip(key, value))])"
   ]
  },
  {
   "cell_type": "code",
   "execution_count": 21,
   "metadata": {},
   "outputs": [
    {
     "data": {
      "text/html": [
       "<div>\n",
       "<style scoped>\n",
       "    .dataframe tbody tr th:only-of-type {\n",
       "        vertical-align: middle;\n",
       "    }\n",
       "\n",
       "    .dataframe tbody tr th {\n",
       "        vertical-align: top;\n",
       "    }\n",
       "\n",
       "    .dataframe thead th {\n",
       "        text-align: right;\n",
       "    }\n",
       "</style>\n",
       "<table border=\"1\" class=\"dataframe\">\n",
       "  <thead>\n",
       "    <tr style=\"text-align: right;\">\n",
       "      <th></th>\n",
       "      <th>BC_loss</th>\n",
       "      <th>lambda_BC</th>\n",
       "      <th>Div_loss</th>\n",
       "      <th>lambda_div</th>\n",
       "      <th>FF_loss</th>\n",
       "      <th>lambda_ff</th>\n",
       "    </tr>\n",
       "  </thead>\n",
       "  <tbody>\n",
       "    <tr>\n",
       "      <th>0</th>\n",
       "      <td>0.040236</td>\n",
       "      <td>1000</td>\n",
       "      <td>2.112265e-07</td>\n",
       "      <td>0.1</td>\n",
       "      <td>0.000017</td>\n",
       "      <td>0.1</td>\n",
       "    </tr>\n",
       "  </tbody>\n",
       "</table>\n",
       "</div>"
      ],
      "text/plain": [
       "    BC_loss  lambda_BC      Div_loss  lambda_div   FF_loss  lambda_ff\n",
       "0  0.040236       1000  2.112265e-07         0.1  0.000017        0.1"
      ]
     },
     "execution_count": 21,
     "metadata": {},
     "output_type": "execute_result"
    }
   ],
   "source": [
    "df_loss"
   ]
  },
  {
   "cell_type": "code",
   "execution_count": 22,
   "metadata": {},
   "outputs": [
    {
     "data": {
      "text/html": [
       "<div>\n",
       "<style scoped>\n",
       "    .dataframe tbody tr th:only-of-type {\n",
       "        vertical-align: middle;\n",
       "    }\n",
       "\n",
       "    .dataframe tbody tr th {\n",
       "        vertical-align: top;\n",
       "    }\n",
       "\n",
       "    .dataframe thead th {\n",
       "        text-align: right;\n",
       "    }\n",
       "</style>\n",
       "<table border=\"1\" class=\"dataframe\">\n",
       "  <thead>\n",
       "    <tr style=\"text-align: right;\">\n",
       "      <th></th>\n",
       "      <th>iter</th>\n",
       "      <th>C_vec</th>\n",
       "      <th>C_cs</th>\n",
       "      <th>1-En</th>\n",
       "      <th>1-Em</th>\n",
       "      <th>eps</th>\n",
       "      <th>eps_p</th>\n",
       "      <th>sig_J</th>\n",
       "      <th>L1</th>\n",
       "      <th>L2</th>\n",
       "      <th>curlB</th>\n",
       "    </tr>\n",
       "  </thead>\n",
       "  <tbody>\n",
       "    <tr>\n",
       "      <th>0</th>\n",
       "      <td>0</td>\n",
       "      <td>0.071152</td>\n",
       "      <td>0.3354</td>\n",
       "      <td>-1.370883</td>\n",
       "      <td>-6.070672</td>\n",
       "      <td>0.718241</td>\n",
       "      <td>1.037789</td>\n",
       "      <td>0.558127</td>\n",
       "      <td>0.000165</td>\n",
       "      <td>0.000002</td>\n",
       "      <td>0.055361</td>\n",
       "    </tr>\n",
       "  </tbody>\n",
       "</table>\n",
       "</div>"
      ],
      "text/plain": [
       "   iter     C_vec    C_cs      1-En      1-Em       eps     eps_p     sig_J   \n",
       "0     0  0.071152  0.3354 -1.370883 -6.070672  0.718241  1.037789  0.558127  \\\n",
       "\n",
       "         L1        L2     curlB  \n",
       "0  0.000165  0.000002  0.055361  "
      ]
     },
     "execution_count": 22,
     "metadata": {},
     "output_type": "execute_result"
    }
   ],
   "source": [
    "df_new = metric_df(B=B, b=b, B_potential=b_potential, iteration=int(iters))\n",
    "df_new"
   ]
  },
  {
   "cell_type": "code",
   "execution_count": 23,
   "metadata": {},
   "outputs": [],
   "source": [
    "df_new =pd.concat([df_new, df_loss], axis=1)"
   ]
  },
  {
   "cell_type": "code",
   "execution_count": 24,
   "metadata": {},
   "outputs": [
    {
     "name": "stdout",
     "output_type": "stream",
     "text": [
      "metric:  results/simul3/run/fields_000000.nf2\n"
     ]
    }
   ],
   "source": [
    "\n",
    "\n",
    "df = pd.concat([df, df_new], ignore_index=True)\n",
    "print('metric: ', file_path)"
   ]
  },
  {
   "cell_type": "code",
   "execution_count": 25,
   "metadata": {},
   "outputs": [
    {
     "data": {
      "text/html": [
       "<div>\n",
       "<style scoped>\n",
       "    .dataframe tbody tr th:only-of-type {\n",
       "        vertical-align: middle;\n",
       "    }\n",
       "\n",
       "    .dataframe tbody tr th {\n",
       "        vertical-align: top;\n",
       "    }\n",
       "\n",
       "    .dataframe thead th {\n",
       "        text-align: right;\n",
       "    }\n",
       "</style>\n",
       "<table border=\"1\" class=\"dataframe\">\n",
       "  <thead>\n",
       "    <tr style=\"text-align: right;\">\n",
       "      <th></th>\n",
       "      <th>iter</th>\n",
       "      <th>C_vec</th>\n",
       "      <th>C_cs</th>\n",
       "      <th>1-En</th>\n",
       "      <th>1-Em</th>\n",
       "      <th>eps</th>\n",
       "      <th>eps_p</th>\n",
       "      <th>sig_J</th>\n",
       "      <th>L1</th>\n",
       "      <th>L2</th>\n",
       "      <th>curlB</th>\n",
       "      <th>BC_loss</th>\n",
       "      <th>lambda_BC</th>\n",
       "      <th>Div_loss</th>\n",
       "      <th>lambda_div</th>\n",
       "      <th>FF_loss</th>\n",
       "      <th>lambda_ff</th>\n",
       "    </tr>\n",
       "  </thead>\n",
       "  <tbody>\n",
       "    <tr>\n",
       "      <th>0</th>\n",
       "      <td>-2</td>\n",
       "      <td>1.000000</td>\n",
       "      <td>1.000000</td>\n",
       "      <td>1.000000</td>\n",
       "      <td>1.000000</td>\n",
       "      <td>1.000000</td>\n",
       "      <td>1.444904</td>\n",
       "      <td>0.013080</td>\n",
       "      <td>2.064561e-03</td>\n",
       "      <td>0.002024</td>\n",
       "      <td>1.000000e+00</td>\n",
       "      <td>NaN</td>\n",
       "      <td>NaN</td>\n",
       "      <td>NaN</td>\n",
       "      <td>NaN</td>\n",
       "      <td>NaN</td>\n",
       "      <td>NaN</td>\n",
       "    </tr>\n",
       "    <tr>\n",
       "      <th>1</th>\n",
       "      <td>-1</td>\n",
       "      <td>0.864653</td>\n",
       "      <td>0.869255</td>\n",
       "      <td>0.430030</td>\n",
       "      <td>0.362425</td>\n",
       "      <td>0.692088</td>\n",
       "      <td>1.000000</td>\n",
       "      <td>0.853069</td>\n",
       "      <td>7.271669e-13</td>\n",
       "      <td>0.084496</td>\n",
       "      <td>2.762271e-07</td>\n",
       "      <td>NaN</td>\n",
       "      <td>NaN</td>\n",
       "      <td>NaN</td>\n",
       "      <td>NaN</td>\n",
       "      <td>NaN</td>\n",
       "      <td>NaN</td>\n",
       "    </tr>\n",
       "    <tr>\n",
       "      <th>2</th>\n",
       "      <td>0</td>\n",
       "      <td>0.071152</td>\n",
       "      <td>0.335400</td>\n",
       "      <td>-1.370883</td>\n",
       "      <td>-6.070672</td>\n",
       "      <td>0.718241</td>\n",
       "      <td>1.037789</td>\n",
       "      <td>0.558127</td>\n",
       "      <td>1.652433e-04</td>\n",
       "      <td>0.000002</td>\n",
       "      <td>5.536096e-02</td>\n",
       "      <td>0.040236</td>\n",
       "      <td>1000.0</td>\n",
       "      <td>2.112265e-07</td>\n",
       "      <td>0.1</td>\n",
       "      <td>0.000017</td>\n",
       "      <td>0.1</td>\n",
       "    </tr>\n",
       "  </tbody>\n",
       "</table>\n",
       "</div>"
      ],
      "text/plain": [
       "   iter     C_vec      C_cs      1-En      1-Em       eps     eps_p     sig_J   \n",
       "0    -2  1.000000  1.000000  1.000000  1.000000  1.000000  1.444904  0.013080  \\\n",
       "1    -1  0.864653  0.869255  0.430030  0.362425  0.692088  1.000000  0.853069   \n",
       "2     0  0.071152  0.335400 -1.370883 -6.070672  0.718241  1.037789  0.558127   \n",
       "\n",
       "             L1        L2         curlB   BC_loss  lambda_BC      Div_loss   \n",
       "0  2.064561e-03  0.002024  1.000000e+00       NaN        NaN           NaN  \\\n",
       "1  7.271669e-13  0.084496  2.762271e-07       NaN        NaN           NaN   \n",
       "2  1.652433e-04  0.000002  5.536096e-02  0.040236     1000.0  2.112265e-07   \n",
       "\n",
       "   lambda_div   FF_loss  lambda_ff  \n",
       "0         NaN       NaN        NaN  \n",
       "1         NaN       NaN        NaN  \n",
       "2         0.1  0.000017        0.1  "
      ]
     },
     "execution_count": 25,
     "metadata": {},
     "output_type": "execute_result"
    }
   ],
   "source": [
    "df"
   ]
  },
  {
   "cell_type": "code",
   "execution_count": 26,
   "metadata": {},
   "outputs": [],
   "source": [
    "import os\n",
    "import torch\n",
    "import glob\n",
    "from torchsummary import summary as summary"
   ]
  },
  {
   "cell_type": "code",
   "execution_count": 27,
   "metadata": {},
   "outputs": [],
   "source": [
    "field_files = os.path.join(info['simul']['base_path'],'fields_*.nf2')\n",
    "field_files = sorted(glob.glob(field_files))"
   ]
  },
  {
   "cell_type": "code",
   "execution_count": 28,
   "metadata": {},
   "outputs": [],
   "source": [
    "file_file = field_files[0]"
   ]
  },
  {
   "cell_type": "code",
   "execution_count": 29,
   "metadata": {},
   "outputs": [],
   "source": [
    "state = torch.load(file_file)"
   ]
  },
  {
   "cell_type": "code",
   "execution_count": 30,
   "metadata": {},
   "outputs": [
    {
     "data": {
      "text/plain": [
       "BModel(\n",
       "  (d_in): Linear(in_features=3, out_features=256, bias=True)\n",
       "  (linear_layers): ModuleList(\n",
       "    (0-7): 8 x Linear(in_features=256, out_features=256, bias=True)\n",
       "  )\n",
       "  (d_out): Linear(in_features=256, out_features=3, bias=True)\n",
       "  (activation): Sine()\n",
       ")"
      ]
     },
     "execution_count": 30,
     "metadata": {},
     "output_type": "execute_result"
    }
   ],
   "source": [
    "state['model']"
   ]
  },
  {
   "cell_type": "code",
   "execution_count": 31,
   "metadata": {},
   "outputs": [
    {
     "name": "stdout",
     "output_type": "stream",
     "text": [
      "----------------------------------------------------------------\n",
      "        Layer (type)               Output Shape         Param #\n",
      "================================================================\n",
      "            Linear-1                  [-1, 256]           1,024\n",
      "              Sine-2                  [-1, 256]               0\n",
      "            Linear-3                  [-1, 256]          65,792\n",
      "              Sine-4                  [-1, 256]               0\n",
      "            Linear-5                  [-1, 256]          65,792\n",
      "              Sine-6                  [-1, 256]               0\n",
      "            Linear-7                  [-1, 256]          65,792\n",
      "              Sine-8                  [-1, 256]               0\n",
      "            Linear-9                  [-1, 256]          65,792\n",
      "             Sine-10                  [-1, 256]               0\n",
      "           Linear-11                  [-1, 256]          65,792\n",
      "             Sine-12                  [-1, 256]               0\n",
      "           Linear-13                  [-1, 256]          65,792\n",
      "             Sine-14                  [-1, 256]               0\n",
      "           Linear-15                  [-1, 256]          65,792\n",
      "             Sine-16                  [-1, 256]               0\n",
      "           Linear-17                  [-1, 256]          65,792\n",
      "             Sine-18                  [-1, 256]               0\n",
      "           Linear-19                    [-1, 3]             771\n",
      "================================================================\n",
      "Total params: 528,131\n",
      "Trainable params: 528,131\n",
      "Non-trainable params: 0\n",
      "----------------------------------------------------------------\n",
      "Input size (MB): 0.00\n",
      "Forward/backward pass size (MB): 0.04\n",
      "Params size (MB): 2.01\n",
      "Estimated Total Size (MB): 2.05\n",
      "----------------------------------------------------------------\n"
     ]
    }
   ],
   "source": [
    "summary(state['model'], (3,))"
   ]
  }
 ],
 "metadata": {
  "kernelspec": {
   "display_name": "base",
   "language": "python",
   "name": "python3"
  },
  "language_info": {
   "codemirror_mode": {
    "name": "ipython",
    "version": 3
   },
   "file_extension": ".py",
   "mimetype": "text/x-python",
   "name": "python",
   "nbconvert_exporter": "python",
   "pygments_lexer": "ipython3",
   "version": "3.10.10"
  },
  "orig_nbformat": 4
 },
 "nbformat": 4,
 "nbformat_minor": 2
}
