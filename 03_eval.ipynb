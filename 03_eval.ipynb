{
 "cells": [
  {
   "cell_type": "code",
   "execution_count": 1,
   "metadata": {},
   "outputs": [],
   "source": [
    "config_file = 'config_run3.json'"
   ]
  },
  {
   "attachments": {},
   "cell_type": "markdown",
   "metadata": {},
   "source": [
    "# Eval"
   ]
  },
  {
   "cell_type": "code",
   "execution_count": 2,
   "metadata": {},
   "outputs": [],
   "source": [
    "import os\n",
    "import json\n",
    "import numpy as np\n",
    "import pandas as pd \n",
    "\n",
    "import matplotlib.pyplot as plt\n",
    "plt.rcParams.update({\n",
    "    \"text.usetex\": True,\n",
    "    \"font.family\": \"Helvetica\"\n",
    "})\n",
    "plt.rc('text.latex', preamble=r'\\usepackage{amsmath}')\n",
    "\n",
    "with open(config_file) as config:\n",
    "    info = json.load(config)\n",
    "\n",
    "os.environ[\"CUDA_DEVICE_ORDER\"]=\"PCI_BUS_ID\"\n",
    "os.environ[\"CUDA_VISIBLE_DEVICES\"]= info['simul']['gpu_id']"
   ]
  },
  {
   "cell_type": "code",
   "execution_count": 3,
   "metadata": {},
   "outputs": [],
   "source": [
    "metric_path = info['output']['metric_path']\n",
    "df = pd.read_csv(os.path.join(metric_path, 'metric.csv'))\n",
    "\n",
    "iter = np.array(df['iter'])\n",
    "C_vec = np.array(df['C_vec'])\n",
    "C_cs = np.array(df['C_cs'])\n",
    "En_1 = np.array(df['1-En'])\n",
    "Em_1 = np.array(df['1-Em'])\n",
    "eps = np.array(df['eps'])\n",
    "eps_p = np.array(df['eps_p'])\n",
    "sig_J = np.array(df['sig_J'])\n",
    "L1 = np.array(df['L1'])\n",
    "L2 = np.array(df['L2'])\n",
    "curlB = np.array(df['curlB'])\n",
    "BC_loss = np.array(df['BC_loss'])\n",
    "lambda_BC = np.array(df['lambda_BC'])\n",
    "Div_loss = np.array(df['Div_loss'])\n",
    "lambda_div = np.array(df['lambda_div'])\n",
    "FF_loss = np.array(df['FF_loss'])\n",
    "lambda_ff = np.array(df['lambda_ff'])\n",
    "loss = lambda_BC*BC_loss + lambda_div*Div_loss + lambda_ff*FF_loss\n",
    "\n",
    "metrics = {r'$C_{\\text{vec}}$':C_vec,\n",
    "           r'$C_{\\text{CS}}$':C_cs,\n",
    "           r'$E^{\\prime}_{n}$':En_1,\n",
    "           r'$E^{\\prime}_{m}$':Em_1,\n",
    "           r'$\\epsilon$':eps,\n",
    "           r'$\\epsilon_p$':eps_p,\n",
    "           r'$CW_{\\text{sin}}$':sig_J,\n",
    "           r'$L_1$':L1,\n",
    "           r'$L_2$':L2,\n",
    "           r'$|J_B|/|J_b|$':curlB,\n",
    "           r'$\\mathcal{L}_b$':BC_loss,\n",
    "           r'$w_b$':lambda_BC,\n",
    "           r'$\\mathcal{L}_\\text{div}$':Div_loss,\n",
    "           r'$w_\\text{div}$':lambda_div,\n",
    "           r'$\\mathcal{L}_\\text{ff}$':FF_loss,\n",
    "           r'$w_\\text{ff}$':lambda_ff,\n",
    "           r'$w_b\\mathcal{L}_b$':lambda_BC*BC_loss,\n",
    "           r'$w_\\text{div}\\mathcal{L}_\\text{div}$':lambda_div*Div_loss,\n",
    "           r'$w_\\text{ff}\\mathcal{L}_\\text{ff}$':lambda_ff*FF_loss,\n",
    "           r'$\\mathcal{L}$':loss,}"
   ]
  },
  {
   "cell_type": "code",
   "execution_count": 15,
   "metadata": {},
   "outputs": [],
   "source": [
    "import codecs\n",
    "def plot_metric(metrics, img_path, which_log=None):\n",
    "    for label, metric in metrics.items():\n",
    "        fig, ax = plt.subplots(figsize=(8,6))\n",
    "        if not (np.isnan(metric[0]) and np.isnan(metric[1])):\n",
    "            ax.hlines(metric[0], xmin=iter[2], xmax=iter[-1], color='red', label='LL')\n",
    "            if not (label in [r'$CW_{\\text{sin}}$']):\n",
    "                ax.hlines(metric[1], xmin=iter[2], xmax=iter[-1], color='green', label='Potential')\n",
    "        ax.plot(iter[2:], metric[2:], color='blue', label='PINN')\n",
    "        ax.set_ylabel(label, fontsize=25)\n",
    "        ax.set_xlabel('Iteration', fontsize=25)\n",
    "        ax.tick_params(axis='both', which='major', labelsize=20)\n",
    "        # ax.tick_params(axis='both', which='minor', labelsize=8)\n",
    "        label = label.replace('$', '')\n",
    "        label = label.replace('\\\\', '')\n",
    "        label = label.replace('/', '')\n",
    "        label = label.replace('|', '')\n",
    "        label = codecs.decode(label, 'unicode_escape')\n",
    "        if which_log == 'xlog':\n",
    "            ax.set_xscale('log', base=10)\n",
    "            figpath = os.path.join(img_path, f'{label}_xlog.png')\n",
    "            ax.legend(loc='lower right', fontsize=15)\n",
    "        elif which_log == 'ylog':\n",
    "            ax.set_yscale('log', base=10)\n",
    "            figpath = os.path.join(img_path, f'{label}_ylog.png')\n",
    "            ax.legend(loc='upper right', fontsize=15)\n",
    "        else:\n",
    "            figpath = os.path.join(img_path, f'{label}.png')\n",
    "            ax.legend(loc='center right', fontsize=15)\n",
    "        plt.tight_layout()\n",
    "        fig.savefig(figpath, dpi=600)\n",
    "        plt.close()"
   ]
  },
  {
   "cell_type": "code",
   "execution_count": 5,
   "metadata": {},
   "outputs": [],
   "source": [
    "img_path = info['eval']['img_path']\n",
    "os.makedirs(img_path, exist_ok=False)"
   ]
  },
  {
   "cell_type": "code",
   "execution_count": 16,
   "metadata": {},
   "outputs": [],
   "source": [
    "plot_metric(metrics, img_path, which_log=None)\n",
    "plot_metric(metrics, img_path, which_log='xlog')\n",
    "plot_metric(metrics, img_path, which_log='ylog')"
   ]
  },
  {
   "cell_type": "code",
   "execution_count": null,
   "metadata": {},
   "outputs": [],
   "source": []
  }
 ],
 "metadata": {
  "kernelspec": {
   "display_name": "base",
   "language": "python",
   "name": "python3"
  },
  "language_info": {
   "codemirror_mode": {
    "name": "ipython",
    "version": 3
   },
   "file_extension": ".py",
   "mimetype": "text/x-python",
   "name": "python",
   "nbconvert_exporter": "python",
   "pygments_lexer": "ipython3",
   "version": "3.10.10"
  },
  "orig_nbformat": 4
 },
 "nbformat": 4,
 "nbformat_minor": 2
}
