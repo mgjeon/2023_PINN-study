{
 "cells": [
  {
   "cell_type": "code",
   "execution_count": 1,
   "metadata": {},
   "outputs": [],
   "source": [
    "import torch"
   ]
  },
  {
   "cell_type": "code",
   "execution_count": 8,
   "metadata": {},
   "outputs": [],
   "source": [
    "model_path = \"/home/tensor/workspace/pinn_study/results/simul3/run/fields_050000.nf2\""
   ]
  },
  {
   "cell_type": "code",
   "execution_count": 9,
   "metadata": {},
   "outputs": [],
   "source": [
    "state = torch.load(model_path)"
   ]
  },
  {
   "cell_type": "code",
   "execution_count": 10,
   "metadata": {},
   "outputs": [
    {
     "data": {
      "text/plain": [
       "{'model': BModel(\n",
       "   (d_in): Linear(in_features=3, out_features=256, bias=True)\n",
       "   (linear_layers): ModuleList(\n",
       "     (0-7): 8 x Linear(in_features=256, out_features=256, bias=True)\n",
       "   )\n",
       "   (d_out): Linear(in_features=256, out_features=3, bias=True)\n",
       "   (activation): Sine()\n",
       " ),\n",
       " 'cube_shape': [64, 64, 64],\n",
       " 'b_norm': 100,\n",
       " 'spatial_norm': 32,\n",
       " 'meta_info': None}"
      ]
     },
     "execution_count": 10,
     "metadata": {},
     "output_type": "execute_result"
    }
   ],
   "source": [
    "state"
   ]
  },
  {
   "cell_type": "code",
   "execution_count": 11,
   "metadata": {},
   "outputs": [],
   "source": [
    "model = state['model']"
   ]
  },
  {
   "cell_type": "code",
   "execution_count": 12,
   "metadata": {},
   "outputs": [
    {
     "name": "stdout",
     "output_type": "stream",
     "text": [
      "BModel(\n",
      "  (d_in): Linear(in_features=3, out_features=256, bias=True)\n",
      "  (linear_layers): ModuleList(\n",
      "    (0-7): 8 x Linear(in_features=256, out_features=256, bias=True)\n",
      "  )\n",
      "  (d_out): Linear(in_features=256, out_features=3, bias=True)\n",
      "  (activation): Sine()\n",
      ")\n"
     ]
    }
   ],
   "source": [
    "print(model)"
   ]
  },
  {
   "cell_type": "code",
   "execution_count": 41,
   "metadata": {},
   "outputs": [],
   "source": [
    "xs = (100, 3)\n",
    "x = torch.zeros(xs).to(device='cuda')"
   ]
  },
  {
   "cell_type": "code",
   "execution_count": 42,
   "metadata": {},
   "outputs": [
    {
     "name": "stdout",
     "output_type": "stream",
     "text": [
      "----------------------------------------------------------------\n",
      "        Layer (type)               Output Shape         Param #\n",
      "================================================================\n",
      "            Linear-1             [-1, 100, 256]           1,024\n",
      "              Sine-2             [-1, 100, 256]               0\n",
      "            Linear-3             [-1, 100, 256]          65,792\n",
      "              Sine-4             [-1, 100, 256]               0\n",
      "            Linear-5             [-1, 100, 256]          65,792\n",
      "              Sine-6             [-1, 100, 256]               0\n",
      "            Linear-7             [-1, 100, 256]          65,792\n",
      "              Sine-8             [-1, 100, 256]               0\n",
      "            Linear-9             [-1, 100, 256]          65,792\n",
      "             Sine-10             [-1, 100, 256]               0\n",
      "           Linear-11             [-1, 100, 256]          65,792\n",
      "             Sine-12             [-1, 100, 256]               0\n",
      "           Linear-13             [-1, 100, 256]          65,792\n",
      "             Sine-14             [-1, 100, 256]               0\n",
      "           Linear-15             [-1, 100, 256]          65,792\n",
      "             Sine-16             [-1, 100, 256]               0\n",
      "           Linear-17             [-1, 100, 256]          65,792\n",
      "             Sine-18             [-1, 100, 256]               0\n",
      "           Linear-19               [-1, 100, 3]             771\n",
      "================================================================\n",
      "Total params: 528,131\n",
      "Trainable params: 528,131\n",
      "Non-trainable params: 0\n",
      "----------------------------------------------------------------\n",
      "Input size (MB): 0.00\n",
      "Forward/backward pass size (MB): 3.52\n",
      "Params size (MB): 2.01\n",
      "Estimated Total Size (MB): 5.53\n",
      "----------------------------------------------------------------\n"
     ]
    }
   ],
   "source": [
    "import torchsummary\n",
    "\n",
    "torchsummary.summary(model, xs)"
   ]
  },
  {
   "cell_type": "code",
   "execution_count": 43,
   "metadata": {},
   "outputs": [
    {
     "name": "stdout",
     "output_type": "stream",
     "text": [
      "-----------------------------------------------------------------------\n",
      "      Layer (type)        Output Shape         Param #     Tr. Param #\n",
      "=======================================================================\n",
      "          Linear-1          [100, 256]           1,024           1,024\n",
      "            Sine-2          [100, 256]               0               0\n",
      "          Linear-3          [100, 256]          65,792          65,792\n",
      "          Linear-4          [100, 256]          65,792          65,792\n",
      "          Linear-5          [100, 256]          65,792          65,792\n",
      "          Linear-6          [100, 256]          65,792          65,792\n",
      "          Linear-7          [100, 256]          65,792          65,792\n",
      "          Linear-8          [100, 256]          65,792          65,792\n",
      "          Linear-9          [100, 256]          65,792          65,792\n",
      "         Linear-10          [100, 256]          65,792          65,792\n",
      "         Linear-11            [100, 3]             771             771\n",
      "=======================================================================\n",
      "Total params: 528,131\n",
      "Trainable params: 528,131\n",
      "Non-trainable params: 0\n",
      "-----------------------------------------------------------------------\n"
     ]
    }
   ],
   "source": [
    "import pytorch_model_summary\n",
    "\n",
    "print(pytorch_model_summary.summary(model, x))"
   ]
  },
  {
   "cell_type": "code",
   "execution_count": 44,
   "metadata": {},
   "outputs": [
    {
     "data": {
      "text/plain": [
       "==========================================================================================\n",
       "Layer (type:depth-idx)                   Output Shape              Param #\n",
       "==========================================================================================\n",
       "BModel                                   [100, 3]                  --\n",
       "├─Linear: 1-1                            [100, 256]                1,024\n",
       "├─Sine: 1-2                              [100, 256]                --\n",
       "├─ModuleList: 1-17                       --                        (recursive)\n",
       "│    └─Linear: 2-1                       [100, 256]                65,792\n",
       "├─Sine: 1-4                              [100, 256]                --\n",
       "├─ModuleList: 1-17                       --                        (recursive)\n",
       "│    └─Linear: 2-2                       [100, 256]                65,792\n",
       "├─Sine: 1-6                              [100, 256]                --\n",
       "├─ModuleList: 1-17                       --                        (recursive)\n",
       "│    └─Linear: 2-3                       [100, 256]                65,792\n",
       "├─Sine: 1-8                              [100, 256]                --\n",
       "├─ModuleList: 1-17                       --                        (recursive)\n",
       "│    └─Linear: 2-4                       [100, 256]                65,792\n",
       "├─Sine: 1-10                             [100, 256]                --\n",
       "├─ModuleList: 1-17                       --                        (recursive)\n",
       "│    └─Linear: 2-5                       [100, 256]                65,792\n",
       "├─Sine: 1-12                             [100, 256]                --\n",
       "├─ModuleList: 1-17                       --                        (recursive)\n",
       "│    └─Linear: 2-6                       [100, 256]                65,792\n",
       "├─Sine: 1-14                             [100, 256]                --\n",
       "├─ModuleList: 1-17                       --                        (recursive)\n",
       "│    └─Linear: 2-7                       [100, 256]                65,792\n",
       "├─Sine: 1-16                             [100, 256]                --\n",
       "├─ModuleList: 1-17                       --                        (recursive)\n",
       "│    └─Linear: 2-8                       [100, 256]                65,792\n",
       "├─Sine: 1-18                             [100, 256]                --\n",
       "├─Linear: 1-19                           [100, 3]                  771\n",
       "==========================================================================================\n",
       "Total params: 528,131\n",
       "Trainable params: 528,131\n",
       "Non-trainable params: 0\n",
       "Total mult-adds (M): 52.81\n",
       "==========================================================================================\n",
       "Input size (MB): 0.00\n",
       "Forward/backward pass size (MB): 1.85\n",
       "Params size (MB): 2.11\n",
       "Estimated Total Size (MB): 3.96\n",
       "=========================================================================================="
      ]
     },
     "execution_count": 44,
     "metadata": {},
     "output_type": "execute_result"
    }
   ],
   "source": [
    "import torchinfo \n",
    "\n",
    "torchinfo.summary(model, xs)"
   ]
  },
  {
   "cell_type": "code",
   "execution_count": 52,
   "metadata": {},
   "outputs": [
    {
     "data": {
      "text/plain": [
       "'model.png'"
      ]
     },
     "execution_count": 52,
     "metadata": {},
     "output_type": "execute_result"
    }
   ],
   "source": [
    "import torchviz\n",
    "\n",
    "torchviz.make_dot(model(x), show_attrs=True, show_saved=True).render('model', format='png')"
   ]
  },
  {
   "cell_type": "code",
   "execution_count": 54,
   "metadata": {},
   "outputs": [
    {
     "ename": "AttributeError",
     "evalue": "module 'torch.onnx' has no attribute '_optimize_trace'",
     "output_type": "error",
     "traceback": [
      "\u001b[0;31m---------------------------------------------------------------------------\u001b[0m",
      "\u001b[0;31mAttributeError\u001b[0m                            Traceback (most recent call last)",
      "Cell \u001b[0;32mIn[54], line 3\u001b[0m\n\u001b[1;32m      1\u001b[0m \u001b[39mimport\u001b[39;00m \u001b[39mhiddenlayer\u001b[39;00m\n\u001b[0;32m----> 3\u001b[0m graph \u001b[39m=\u001b[39m hiddenlayer\u001b[39m.\u001b[39;49mbuild_graph(model, x)\n",
      "File \u001b[0;32m~/mambaforge/lib/python3.10/site-packages/hiddenlayer/graph.py:143\u001b[0m, in \u001b[0;36mbuild_graph\u001b[0;34m(model, args, input_names, transforms, framework_transforms)\u001b[0m\n\u001b[1;32m    141\u001b[0m     \u001b[39mfrom\u001b[39;00m \u001b[39m.\u001b[39;00m\u001b[39mpytorch_builder\u001b[39;00m \u001b[39mimport\u001b[39;00m import_graph, FRAMEWORK_TRANSFORMS\n\u001b[1;32m    142\u001b[0m     \u001b[39massert\u001b[39;00m args \u001b[39mis\u001b[39;00m \u001b[39mnot\u001b[39;00m \u001b[39mNone\u001b[39;00m, \u001b[39m\"\u001b[39m\u001b[39mArgument args must be provided for Pytorch models.\u001b[39m\u001b[39m\"\u001b[39m\n\u001b[0;32m--> 143\u001b[0m     import_graph(g, model, args)\n\u001b[1;32m    144\u001b[0m \u001b[39melif\u001b[39;00m framework \u001b[39m==\u001b[39m \u001b[39m\"\u001b[39m\u001b[39mtensorflow\u001b[39m\u001b[39m\"\u001b[39m:\n\u001b[1;32m    145\u001b[0m     \u001b[39mfrom\u001b[39;00m \u001b[39m.\u001b[39;00m\u001b[39mtf_builder\u001b[39;00m \u001b[39mimport\u001b[39;00m import_graph, FRAMEWORK_TRANSFORMS\n",
      "File \u001b[0;32m~/mambaforge/lib/python3.10/site-packages/hiddenlayer/pytorch_builder.py:71\u001b[0m, in \u001b[0;36mimport_graph\u001b[0;34m(hl_graph, model, args, input_names, verbose)\u001b[0m\n\u001b[1;32m     66\u001b[0m \u001b[39mdef\u001b[39;00m \u001b[39mimport_graph\u001b[39m(hl_graph, model, args, input_names\u001b[39m=\u001b[39m\u001b[39mNone\u001b[39;00m, verbose\u001b[39m=\u001b[39m\u001b[39mFalse\u001b[39;00m):\n\u001b[1;32m     67\u001b[0m     \u001b[39m# TODO: add input names to graph\u001b[39;00m\n\u001b[1;32m     68\u001b[0m \n\u001b[1;32m     69\u001b[0m     \u001b[39m# Run the Pytorch graph to get a trace and generate a graph from it\u001b[39;00m\n\u001b[1;32m     70\u001b[0m     trace, out \u001b[39m=\u001b[39m torch\u001b[39m.\u001b[39mjit\u001b[39m.\u001b[39m_get_trace_graph(model, args)\n\u001b[0;32m---> 71\u001b[0m     torch_graph \u001b[39m=\u001b[39m torch\u001b[39m.\u001b[39;49monnx\u001b[39m.\u001b[39;49m_optimize_trace(trace, torch\u001b[39m.\u001b[39monnx\u001b[39m.\u001b[39mOperatorExportTypes\u001b[39m.\u001b[39mONNX)\n\u001b[1;32m     73\u001b[0m     \u001b[39m# Dump list of nodes (DEBUG only)\u001b[39;00m\n\u001b[1;32m     74\u001b[0m     \u001b[39mif\u001b[39;00m verbose:\n",
      "\u001b[0;31mAttributeError\u001b[0m: module 'torch.onnx' has no attribute '_optimize_trace'"
     ]
    }
   ],
   "source": [
    "import hiddenlayer\n",
    "\n",
    "graph = hiddenlayer.build_graph(model, x)"
   ]
  },
  {
   "cell_type": "code",
   "execution_count": null,
   "metadata": {},
   "outputs": [],
   "source": []
  }
 ],
 "metadata": {
  "kernelspec": {
   "display_name": "base",
   "language": "python",
   "name": "python3"
  },
  "language_info": {
   "codemirror_mode": {
    "name": "ipython",
    "version": 3
   },
   "file_extension": ".py",
   "mimetype": "text/x-python",
   "name": "python",
   "nbconvert_exporter": "python",
   "pygments_lexer": "ipython3",
   "version": "3.10.10"
  },
  "orig_nbformat": 4
 },
 "nbformat": 4,
 "nbformat_minor": 2
}
