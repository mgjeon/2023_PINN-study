{
 "cells": [
  {
   "cell_type": "code",
   "execution_count": 1,
   "metadata": {},
   "outputs": [],
   "source": [
    "import numpy as np\n",
    "import matplotlib.pyplot as plt"
   ]
  },
  {
   "cell_type": "code",
   "execution_count": 2,
   "metadata": {},
   "outputs": [],
   "source": [
    "import pyvista as pv \n",
    "mesh = pv.read('12673_20170906_083600.vtk')"
   ]
  },
  {
   "cell_type": "code",
   "execution_count": 3,
   "metadata": {},
   "outputs": [
    {
     "data": {
      "text/html": [
       "<table><tr><th>Header</th><th>Data Arrays</th></tr><tr><td>\n",
       "<table>\n",
       "<tr><th>StructuredGrid</th><th>Information</th></tr>\n",
       "<tr><td>N Cells</td><td>12161751</td></tr>\n",
       "<tr><td>N Points</td><td>12328960</td></tr>\n",
       "<tr><td>X Bounds</td><td>0.000e+00, 2.470e+02</td></tr>\n",
       "<tr><td>Y Bounds</td><td>0.000e+00, 1.606e+02</td></tr>\n",
       "<tr><td>Z Bounds</td><td>0.000e+00, 1.145e+02</td></tr>\n",
       "<tr><td>Dimensions</td><td>344, 224, 160</td></tr>\n",
       "<tr><td>N Arrays</td><td>1</td></tr>\n",
       "</table>\n",
       "\n",
       "</td><td>\n",
       "<table>\n",
       "<tr><th>Name</th><th>Field</th><th>Type</th><th>N Comp</th><th>Min</th><th>Max</th></tr>\n",
       "<tr><td>B</td><td>Points</td><td>float32</td><td>3</td><td>-3.967e+03</td><td>3.116e+03</td></tr>\n",
       "</table>\n",
       "\n",
       "</td></tr> </table>"
      ],
      "text/plain": [
       "StructuredGrid (0x127f25e40)\n",
       "  N Cells:      12161751\n",
       "  N Points:     12328960\n",
       "  X Bounds:     0.000e+00, 2.470e+02\n",
       "  Y Bounds:     0.000e+00, 1.606e+02\n",
       "  Z Bounds:     0.000e+00, 1.145e+02\n",
       "  Dimensions:   344, 224, 160\n",
       "  N Arrays:     1"
      ]
     },
     "execution_count": 3,
     "metadata": {},
     "output_type": "execute_result"
    }
   ],
   "source": [
    "mesh"
   ]
  },
  {
   "cell_type": "code",
   "execution_count": 4,
   "metadata": {},
   "outputs": [
    {
     "data": {
      "text/plain": [
       "pyvista.core.pointset.StructuredGrid"
      ]
     },
     "execution_count": 4,
     "metadata": {},
     "output_type": "execute_result"
    }
   ],
   "source": [
    "type(mesh)"
   ]
  },
  {
   "cell_type": "code",
   "execution_count": 5,
   "metadata": {},
   "outputs": [
    {
     "data": {
      "text/plain": [
       "pyvista DataSetAttributes\n",
       "Association     : POINT\n",
       "Active Scalars  : None\n",
       "Active Vectors  : B\n",
       "Active Texture  : None\n",
       "Active Normals  : None\n",
       "Contains arrays :\n",
       "    B                       float32    (12328960, 3)        VECTORS"
      ]
     },
     "execution_count": 5,
     "metadata": {},
     "output_type": "execute_result"
    }
   ],
   "source": [
    "mesh.point_data"
   ]
  },
  {
   "cell_type": "code",
   "execution_count": 6,
   "metadata": {},
   "outputs": [
    {
     "data": {
      "text/plain": [
       "(0.0, 246.96, 0.0, 160.56, 0.0, 114.48)"
      ]
     },
     "execution_count": 6,
     "metadata": {},
     "output_type": "execute_result"
    }
   ],
   "source": [
    "mesh.bounds"
   ]
  },
  {
   "cell_type": "code",
   "execution_count": 7,
   "metadata": {},
   "outputs": [
    {
     "data": {
      "text/plain": [
       "(344, 224, 160)"
      ]
     },
     "execution_count": 7,
     "metadata": {},
     "output_type": "execute_result"
    }
   ],
   "source": [
    "xindmax, yindmax, zindmax = mesh.dimensions\n",
    "mesh.dimensions"
   ]
  },
  {
   "cell_type": "code",
   "execution_count": 8,
   "metadata": {},
   "outputs": [
    {
     "data": {
      "text/plain": [
       "[123.48, 80.28, 57.24]"
      ]
     },
     "execution_count": 8,
     "metadata": {},
     "output_type": "execute_result"
    }
   ],
   "source": [
    "xcenter, ycenter, zcenter = mesh.center\n",
    "mesh.center"
   ]
  },
  {
   "cell_type": "code",
   "execution_count": 9,
   "metadata": {},
   "outputs": [
    {
     "data": {
      "text/plain": [
       "pyvista_ndarray([[  0.  ,   0.  ,   0.  ],\n",
       "                 [  0.72,   0.  ,   0.  ],\n",
       "                 [  1.44,   0.  ,   0.  ],\n",
       "                 ...,\n",
       "                 [245.52, 160.56, 114.48],\n",
       "                 [246.24, 160.56, 114.48],\n",
       "                 [246.96, 160.56, 114.48]])"
      ]
     },
     "execution_count": 9,
     "metadata": {},
     "output_type": "execute_result"
    }
   ],
   "source": [
    "mesh.points"
   ]
  },
  {
   "cell_type": "code",
   "execution_count": 10,
   "metadata": {},
   "outputs": [
    {
     "data": {
      "text/plain": [
       "pyvista_ndarray([[ -8.66039,  64.998  , -59.5057 ],\n",
       "                 [-12.4612 ,  63.478  , -55.2934 ],\n",
       "                 [-15.4362 ,  62.0699 , -51.2414 ],\n",
       "                 ...,\n",
       "                 [  1.73023,   3.53392,   1.37877],\n",
       "                 [  1.77657,   3.68637,   1.36052],\n",
       "                 [  1.81803,   3.84065,   1.34077]], dtype=float32)"
      ]
     },
     "execution_count": 10,
     "metadata": {},
     "output_type": "execute_result"
    }
   ],
   "source": [
    "mesh['B']"
   ]
  },
  {
   "cell_type": "code",
   "execution_count": 11,
   "metadata": {},
   "outputs": [
    {
     "data": {
      "text/html": [
       "<table><tr><th>Information</th><th>Blocks</th></tr><tr><td>\n",
       "<table>\n",
       "<tr><th>MultiBlock</th><th>Values</th></tr>\n",
       "<tr><td>N Blocks</td><td>3</td></tr>\n",
       "<tr><td>X Bounds</td><td>0.000, 246.960</td></tr>\n",
       "<tr><td>Y Bounds</td><td>0.000, 160.560</td></tr>\n",
       "<tr><td>Z Bounds</td><td>0.000, 114.480</td></tr>\n",
       "</table>\n",
       "\n",
       "</td><td>\n",
       "<table>\n",
       "<tr><th>Index</th><th>Name</th><th>Type</th></tr>\n",
       "<tr><th>0</th><th>YZ</th><th>PolyData</th></tr>\n",
       "<tr><th>1</th><th>XZ</th><th>PolyData</th></tr>\n",
       "<tr><th>2</th><th>XY</th><th>PolyData</th></tr>\n",
       "</table>\n",
       "\n",
       "</td></tr> </table>"
      ],
      "text/plain": [
       "MultiBlock (0x127f27a00)\n",
       "  N Blocks:\t3\n",
       "  X Bounds:\t0.000, 246.960\n",
       "  Y Bounds:\t0.000, 160.560\n",
       "  Z Bounds:\t0.000, 114.480"
      ]
     },
     "execution_count": 11,
     "metadata": {},
     "output_type": "execute_result"
    }
   ],
   "source": [
    "slices = mesh.slice_orthogonal(z=10)\n",
    "slices"
   ]
  },
  {
   "cell_type": "code",
   "execution_count": 12,
   "metadata": {},
   "outputs": [
    {
     "data": {
      "text/html": [
       "<table><tr><th>Header</th><th>Data Arrays</th></tr><tr><td>\n",
       "<table>\n",
       "<tr><th>StructuredGrid</th><th>Information</th></tr>\n",
       "<tr><td>N Cells</td><td>12161751</td></tr>\n",
       "<tr><td>N Points</td><td>12328960</td></tr>\n",
       "<tr><td>X Bounds</td><td>0.000e+00, 2.470e+02</td></tr>\n",
       "<tr><td>Y Bounds</td><td>0.000e+00, 1.606e+02</td></tr>\n",
       "<tr><td>Z Bounds</td><td>0.000e+00, 1.145e+02</td></tr>\n",
       "<tr><td>Dimensions</td><td>344, 224, 160</td></tr>\n",
       "<tr><td>N Arrays</td><td>1</td></tr>\n",
       "</table>\n",
       "\n",
       "</td><td>\n",
       "<table>\n",
       "<tr><th>Name</th><th>Field</th><th>Type</th><th>N Comp</th><th>Min</th><th>Max</th></tr>\n",
       "<tr><td>B</td><td>Points</td><td>float32</td><td>3</td><td>-3.967e+03</td><td>3.116e+03</td></tr>\n",
       "</table>\n",
       "\n",
       "</td></tr> </table>"
      ],
      "text/plain": [
       "StructuredGrid (0x127f25e40)\n",
       "  N Cells:      12161751\n",
       "  N Points:     12328960\n",
       "  X Bounds:     0.000e+00, 2.470e+02\n",
       "  Y Bounds:     0.000e+00, 1.606e+02\n",
       "  Z Bounds:     0.000e+00, 1.145e+02\n",
       "  Dimensions:   344, 224, 160\n",
       "  N Arrays:     1"
      ]
     },
     "execution_count": 12,
     "metadata": {},
     "output_type": "execute_result"
    }
   ],
   "source": [
    "mesh"
   ]
  },
  {
   "cell_type": "code",
   "execution_count": 13,
   "metadata": {},
   "outputs": [
    {
     "data": {
      "application/vnd.jupyter.widget-view+json": {
       "model_id": "f5c64f6a7e924c028693f400c27b614a",
       "version_major": 2,
       "version_minor": 0
      },
      "text/plain": [
       "Widget(value=\"<iframe src='http://localhost:50916/index.html?ui=P_0x127f7ab30_0&reconnect=auto' style='width: …"
      ]
     },
     "metadata": {},
     "output_type": "display_data"
    }
   ],
   "source": [
    "p = pv.Plotter()\n",
    "p.add_mesh(mesh.outline())\n",
    "p.camera_position = 'xz'\n",
    "p.camera.azimuth = 30\n",
    "p.camera.elevation = 30\n",
    "# p.show_grid()\n",
    "p.show_bounds()\n",
    "sargs = dict(\n",
    "    title='Bz [G]',\n",
    "    title_font_size=15,\n",
    "    height=0.25,\n",
    "    width=0.05,\n",
    "    vertical=True,\n",
    "    position_x = 0.05,\n",
    "    position_y = 0.05,\n",
    ")\n",
    "p.add_mesh(mesh.extract_subset((0, xindmax, 0, yindmax, 0, 0)), \n",
    "           cmap='gray', scalars='B', component=2, clim=(-3000, 3000), \n",
    "           scalar_bar_args=sargs, show_scalar_bar=True, lighting=False)\n",
    "\n",
    "p.add_mesh(slices, cmap='gray', scalars='B', clim=(0, 300))\n",
    "p.show()"
   ]
  },
  {
   "cell_type": "code",
   "execution_count": 14,
   "metadata": {},
   "outputs": [
    {
     "data": {
      "text/html": [
       "<table><tr><th>Header</th><th>Data Arrays</th></tr><tr><td>\n",
       "<table>\n",
       "<tr><th>StructuredGrid</th><th>Information</th></tr>\n",
       "<tr><td>N Cells</td><td>12161751</td></tr>\n",
       "<tr><td>N Points</td><td>12328960</td></tr>\n",
       "<tr><td>X Bounds</td><td>0.000e+00, 2.470e+02</td></tr>\n",
       "<tr><td>Y Bounds</td><td>0.000e+00, 1.606e+02</td></tr>\n",
       "<tr><td>Z Bounds</td><td>0.000e+00, 1.145e+02</td></tr>\n",
       "<tr><td>Dimensions</td><td>344, 224, 160</td></tr>\n",
       "<tr><td>N Arrays</td><td>1</td></tr>\n",
       "</table>\n",
       "\n",
       "</td><td>\n",
       "<table>\n",
       "<tr><th>Name</th><th>Field</th><th>Type</th><th>N Comp</th><th>Min</th><th>Max</th></tr>\n",
       "<tr><td>B</td><td>Points</td><td>float32</td><td>3</td><td>-3.967e+03</td><td>3.116e+03</td></tr>\n",
       "</table>\n",
       "\n",
       "</td></tr> </table>"
      ],
      "text/plain": [
       "StructuredGrid (0x127f25e40)\n",
       "  N Cells:      12161751\n",
       "  N Points:     12328960\n",
       "  X Bounds:     0.000e+00, 2.470e+02\n",
       "  Y Bounds:     0.000e+00, 1.606e+02\n",
       "  Z Bounds:     0.000e+00, 1.145e+02\n",
       "  Dimensions:   344, 224, 160\n",
       "  N Arrays:     1"
      ]
     },
     "execution_count": 14,
     "metadata": {},
     "output_type": "execute_result"
    }
   ],
   "source": [
    "mesh"
   ]
  },
  {
   "cell_type": "code",
   "execution_count": 15,
   "metadata": {},
   "outputs": [
    {
     "data": {
      "text/html": [
       "<table><tr><th>Header</th><th>Data Arrays</th></tr><tr><td>\n",
       "<table>\n",
       "<tr><th>StructuredGrid</th><th>Information</th></tr>\n",
       "<tr><td>N Cells</td><td>12161751</td></tr>\n",
       "<tr><td>N Points</td><td>12328960</td></tr>\n",
       "<tr><td>X Bounds</td><td>0.000e+00, 2.470e+02</td></tr>\n",
       "<tr><td>Y Bounds</td><td>0.000e+00, 1.606e+02</td></tr>\n",
       "<tr><td>Z Bounds</td><td>0.000e+00, 1.145e+02</td></tr>\n",
       "<tr><td>Dimensions</td><td>344, 224, 160</td></tr>\n",
       "<tr><td>N Arrays</td><td>2</td></tr>\n",
       "</table>\n",
       "\n",
       "</td><td>\n",
       "<table>\n",
       "<tr><th>Name</th><th>Field</th><th>Type</th><th>N Comp</th><th>Min</th><th>Max</th></tr>\n",
       "<tr><td>B</td><td>Points</td><td>float32</td><td>3</td><td>-3.967e+03</td><td>3.116e+03</td></tr>\n",
       "<tr><td>gradient</td><td>Points</td><td>float32</td><td>9</td><td>-1.876e+03</td><td>2.754e+03</td></tr>\n",
       "</table>\n",
       "\n",
       "</td></tr> </table>"
      ],
      "text/plain": [
       "StructuredGrid (0x12e3a9a80)\n",
       "  N Cells:      12161751\n",
       "  N Points:     12328960\n",
       "  X Bounds:     0.000e+00, 2.470e+02\n",
       "  Y Bounds:     0.000e+00, 1.606e+02\n",
       "  Z Bounds:     0.000e+00, 1.145e+02\n",
       "  Dimensions:   344, 224, 160\n",
       "  N Arrays:     2"
      ]
     },
     "execution_count": 15,
     "metadata": {},
     "output_type": "execute_result"
    }
   ],
   "source": [
    "mesh_g = mesh.compute_derivative(scalars='B')\n",
    "mesh_g"
   ]
  },
  {
   "cell_type": "code",
   "execution_count": 16,
   "metadata": {},
   "outputs": [
    {
     "data": {
      "text/plain": [
       "{'dBx/dx': pyvista_ndarray([-5.2789025 , -4.705424  , -3.4543746 , ...,  0.06681946,\n",
       "                   0.06097224,  0.05758338], dtype=float32),\n",
       " 'dBx/dy': pyvista_ndarray([-1.8289447 , -1.2670835 , -0.6294436 , ..., -0.03713899,\n",
       "                  -0.03602786, -0.03640271], dtype=float32),\n",
       " 'dBx/dz': pyvista_ndarray([4.7029443 , 5.4604306 , 5.8730564 , ..., 0.25108325,\n",
       "                  0.26430553, 0.2745973 ], dtype=float32),\n",
       " 'dBy/dx': pyvista_ndarray([-2.1111116 , -2.0334032 , -1.7797232 , ...,  0.20871526,\n",
       "                   0.21300697,  0.21427804], dtype=float32),\n",
       " 'dBy/dy': pyvista_ndarray([ 0.516669  ,  1.327912  ,  2.0049996 , ..., -0.12881921,\n",
       "                  -0.12636119, -0.12556943], dtype=float32),\n",
       " 'dBy/dz': pyvista_ndarray([-8.253612  , -7.5345836 , -6.861528  , ...,  0.02112521,\n",
       "                   0.02384716,  0.0239306 ], dtype=float32),\n",
       " 'dBz/dx': pyvista_ndarray([ 5.8504157 ,  5.7390957 ,  5.4179163 , ..., -0.02368051,\n",
       "                  -0.02638888, -0.02743055], dtype=float32),\n",
       " 'dBz/dy': pyvista_ndarray([-10.409588  ,  -9.6866665 ,  -9.003608  , ...,\n",
       "                    0.01634724,   0.01527783,   0.01383341], dtype=float32),\n",
       " 'dBz/dz': pyvista_ndarray([ 3.646803  ,  1.6608344 , -0.31388602, ..., -0.17809719,\n",
       "                  -0.18287499, -0.18652777], dtype=float32)}"
      ]
     },
     "execution_count": 16,
     "metadata": {},
     "output_type": "execute_result"
    }
   ],
   "source": [
    "def gradients_to_dict(arr):\n",
    "    keys = np.array(\n",
    "        [\"dBx/dx\", \"dBx/dy\", \"dBx/dz\", \"dBy/dx\", \"dBy/dy\", \"dBy/dz\", \"dBz/dx\", \"dBz/dy\", \"dBz/dz\"]\n",
    "    )\n",
    "    keys = keys.reshape((3,3))[:, : arr.shape[1]].ravel()\n",
    "    return dict(zip(keys, mesh_g['gradient'].T))\n",
    "\n",
    "gradients = gradients_to_dict(mesh_g['gradient'])\n",
    "gradients"
   ]
  },
  {
   "cell_type": "code",
   "execution_count": 17,
   "metadata": {},
   "outputs": [
    {
     "data": {
      "text/plain": [
       "array([[-2.1559763 , -1.1474714 , -0.28216696],\n",
       "       [-2.152083  , -0.27866507, -0.76631963],\n",
       "       [-2.1420798 ,  0.4551401 , -1.1502795 ],\n",
       "       ...,\n",
       "       [-0.00477797,  0.27476376,  0.24585426],\n",
       "       [-0.00856933,  0.29069442,  0.24903484],\n",
       "       [-0.01009719,  0.30202785,  0.25068074]], dtype=float32)"
      ]
     },
     "execution_count": 17,
     "metadata": {},
     "output_type": "execute_result"
    }
   ],
   "source": [
    "curlB_x = gradients['dBz/dy'] - gradients['dBy/dz']\n",
    "curlB_y = gradients['dBx/dz'] - gradients['dBz/dx']\n",
    "curlB_z = gradients['dBy/dx'] - gradients['dBx/dy']\n",
    "\n",
    "curlB = np.vstack([curlB_x, curlB_y, curlB_z]).T\n",
    "curlB"
   ]
  },
  {
   "cell_type": "code",
   "execution_count": 18,
   "metadata": {},
   "outputs": [
    {
     "data": {
      "text/html": [
       "<table><tr><th>Header</th><th>Data Arrays</th></tr><tr><td>\n",
       "<table>\n",
       "<tr><th>StructuredGrid</th><th>Information</th></tr>\n",
       "<tr><td>N Cells</td><td>12161751</td></tr>\n",
       "<tr><td>N Points</td><td>12328960</td></tr>\n",
       "<tr><td>X Bounds</td><td>0.000e+00, 2.470e+02</td></tr>\n",
       "<tr><td>Y Bounds</td><td>0.000e+00, 1.606e+02</td></tr>\n",
       "<tr><td>Z Bounds</td><td>0.000e+00, 1.145e+02</td></tr>\n",
       "<tr><td>Dimensions</td><td>344, 224, 160</td></tr>\n",
       "<tr><td>N Arrays</td><td>2</td></tr>\n",
       "</table>\n",
       "\n",
       "</td><td>\n",
       "<table>\n",
       "<tr><th>Name</th><th>Field</th><th>Type</th><th>N Comp</th><th>Min</th><th>Max</th></tr>\n",
       "<tr><td>B</td><td>Points</td><td>float32</td><td>3</td><td>-3.967e+03</td><td>3.116e+03</td></tr>\n",
       "<tr><td><b>curlB</b></td><td>Points</td><td>float32</td><td>3</td><td>-1.947e+03</td><td>3.166e+03</td></tr>\n",
       "</table>\n",
       "\n",
       "</td></tr> </table>"
      ],
      "text/plain": [
       "StructuredGrid (0x127f25e40)\n",
       "  N Cells:      12161751\n",
       "  N Points:     12328960\n",
       "  X Bounds:     0.000e+00, 2.470e+02\n",
       "  Y Bounds:     0.000e+00, 1.606e+02\n",
       "  Z Bounds:     0.000e+00, 1.145e+02\n",
       "  Dimensions:   344, 224, 160\n",
       "  N Arrays:     2"
      ]
     },
     "execution_count": 18,
     "metadata": {},
     "output_type": "execute_result"
    }
   ],
   "source": [
    "# mesh_g.point_data.update(gradients)\n",
    "mesh.point_data['curlB'] = curlB\n",
    "mesh"
   ]
  },
  {
   "cell_type": "code",
   "execution_count": 19,
   "metadata": {},
   "outputs": [
    {
     "data": {
      "text/plain": [
       "pyvista DataSetAttributes\n",
       "Association     : POINT\n",
       "Active Scalars  : curlB\n",
       "Active Vectors  : B\n",
       "Active Texture  : None\n",
       "Active Normals  : None\n",
       "Contains arrays :\n",
       "    B                       float32    (12328960, 3)        VECTORS\n",
       "    curlB                   float32    (12328960, 3)        SCALARS"
      ]
     },
     "execution_count": 19,
     "metadata": {},
     "output_type": "execute_result"
    }
   ],
   "source": [
    "mesh.point_data"
   ]
  },
  {
   "cell_type": "code",
   "execution_count": 20,
   "metadata": {},
   "outputs": [
    {
     "data": {
      "text/html": [
       "<table><tr><th>Header</th><th>Data Arrays</th></tr><tr><td>\n",
       "<table>\n",
       "<tr><th>PolyData</th><th>Information</th></tr>\n",
       "<tr><td>N Cells</td><td>200</td></tr>\n",
       "<tr><td>N Points</td><td>22496</td></tr>\n",
       "<tr><td>N Strips</td><td>0</td></tr>\n",
       "<tr><td>X Bounds</td><td>4.145e-03, 1.984e+02</td></tr>\n",
       "<tr><td>Y Bounds</td><td>2.072e+01, 1.604e+02</td></tr>\n",
       "<tr><td>Z Bounds</td><td>1.096e-02, 1.144e+02</td></tr>\n",
       "<tr><td>N Arrays</td><td>9</td></tr>\n",
       "</table>\n",
       "\n",
       "</td><td>\n",
       "<table>\n",
       "<tr><th>Name</th><th>Field</th><th>Type</th><th>N Comp</th><th>Min</th><th>Max</th></tr>\n",
       "<tr><td>B</td><td>Points</td><td>float32</td><td>3</td><td>-1.388e+03</td><td>2.253e+03</td></tr>\n",
       "<tr><td><b>curlB</b></td><td>Points</td><td>float32</td><td>3</td><td>-1.544e+02</td><td>1.295e+02</td></tr>\n",
       "<tr><td>IntegrationTime</td><td>Points</td><td>float64</td><td>1</td><td>-1.237e+00</td><td>1.391e+01</td></tr>\n",
       "<tr><td>Vorticity</td><td>Points</td><td>float64</td><td>3</td><td>-1.668e+02</td><td>1.733e+02</td></tr>\n",
       "<tr><td>Rotation</td><td>Points</td><td>float64</td><td>1</td><td>-2.431e+01</td><td>7.193e+00</td></tr>\n",
       "<tr><td>AngularVelocity</td><td>Points</td><td>float64</td><td>1</td><td>-2.641e+02</td><td>1.129e+02</td></tr>\n",
       "<tr><td>Normals</td><td>Points</td><td>float64</td><td>3</td><td>-9.999e-01</td><td>1.000e+00</td></tr>\n",
       "<tr><td>ReasonForTermination</td><td>Cells</td><td>int32</td><td>1</td><td>1.000e+00</td><td>1.000e+00</td></tr>\n",
       "<tr><td>SeedIds</td><td>Cells</td><td>int32</td><td>1</td><td>0.000e+00</td><td>9.900e+01</td></tr>\n",
       "</table>\n",
       "\n",
       "</td></tr> </table>"
      ],
      "text/plain": [
       "PolyData (0x12e3da860)\n",
       "  N Cells:    200\n",
       "  N Points:   22496\n",
       "  N Strips:   0\n",
       "  X Bounds:   4.145e-03, 1.984e+02\n",
       "  Y Bounds:   2.072e+01, 1.604e+02\n",
       "  Z Bounds:   1.096e-02, 1.144e+02\n",
       "  N Arrays:   9"
      ]
     },
     "execution_count": 20,
     "metadata": {},
     "output_type": "execute_result"
    }
   ],
   "source": [
    "streamlines, src = mesh.streamlines(\n",
    "    return_source=True,\n",
    "    # source_center=(xcenter, ycenter, 0),\n",
    "    # source_radius=10,\n",
    "    # n_points=10,\n",
    "    integration_direction='both',\n",
    "    max_time=1000,\n",
    ")\n",
    "streamlines"
   ]
  },
  {
   "cell_type": "code",
   "execution_count": 21,
   "metadata": {},
   "outputs": [
    {
     "data": {
      "application/vnd.jupyter.widget-view+json": {
       "model_id": "5554d3bb24014a92a8626d3271379887",
       "version_major": 2,
       "version_minor": 0
      },
      "text/plain": [
       "Widget(value=\"<iframe src='http://localhost:50916/index.html?ui=P_0x127f7b0a0_1&reconnect=auto' style='width: …"
      ]
     },
     "metadata": {},
     "output_type": "display_data"
    }
   ],
   "source": [
    "p = pv.Plotter()\n",
    "p.add_mesh(mesh.outline())\n",
    "p.camera_position = 'xz'\n",
    "p.camera.azimuth = 30\n",
    "p.camera.elevation = 30\n",
    "# p.camera_position = 'xy'\n",
    "# p.show_grid()\n",
    "p.show_bounds()\n",
    "sargs1 = dict(\n",
    "    title='Bz [G]',\n",
    "    title_font_size=15,\n",
    "    height=0.25,\n",
    "    width=0.05,\n",
    "    vertical=True,\n",
    "    position_x = 0.05,\n",
    "    position_y = 0.05,\n",
    ")\n",
    "sargs2 = dict(\n",
    "    title='J = curl(B)',\n",
    "    title_font_size=15,\n",
    "    height=0.25,\n",
    "    width=0.05,\n",
    "    vertical=True,\n",
    "    position_x = 0.9,\n",
    "    position_y = 0.05,\n",
    ")\n",
    "\n",
    "dargs2 = dict(\n",
    "    scalars='curlB', \n",
    "    clim=(0, 500),\n",
    "    scalar_bar_args=sargs2, \n",
    "    show_scalar_bar=True, \n",
    "    lighting=False\n",
    ")\n",
    "\n",
    "\n",
    "p.add_mesh(mesh.extract_subset((0, xindmax, 0, yindmax, 0, 0)), \n",
    "           cmap='gray', scalars='B', component=2, clim=(-3000, 3000), \n",
    "           scalar_bar_args=sargs1, show_scalar_bar=True, lighting=False)\n",
    "\n",
    "p.add_mesh(src, point_size=10)\n",
    "p.add_mesh(streamlines.tube(radius=0.2), \n",
    "           cmap='coolwarm', **dargs2)\n",
    "p.show()"
   ]
  },
  {
   "cell_type": "code",
   "execution_count": 22,
   "metadata": {},
   "outputs": [
    {
     "data": {
      "application/vnd.jupyter.widget-view+json": {
       "model_id": "6d648b217823442aa4213d7ae0a29620",
       "version_major": 2,
       "version_minor": 0
      },
      "text/plain": [
       "Widget(value=\"<iframe src='http://localhost:50916/index.html?ui=P_0x12e36e140_2&reconnect=auto' style='width: …"
      ]
     },
     "metadata": {},
     "output_type": "display_data"
    }
   ],
   "source": [
    "p = pv.Plotter()\n",
    "p.add_mesh(mesh.outline())\n",
    "p.camera_position = 'xz'\n",
    "p.camera.azimuth = 30\n",
    "p.camera.elevation = 30\n",
    "# p.camera_position = 'xy'\n",
    "# p.show_grid()\n",
    "p.show_bounds()\n",
    "sargs1 = dict(\n",
    "    title='J = curl(B)',\n",
    "    title_font_size=15,\n",
    "    height=0.25,\n",
    "    width=0.05,\n",
    "    vertical=True,\n",
    "    position_x = 0.05,\n",
    "    position_y = 0.05,\n",
    ")\n",
    "\n",
    "dargs1 = dict(\n",
    "    cmap='viridis',\n",
    "    scalars='curlB', \n",
    "    clim=(0, 1000),\n",
    "    scalar_bar_args=sargs1, \n",
    "    show_scalar_bar=True, \n",
    "    lighting=False\n",
    ")\n",
    "\n",
    "sargs2 = dict(\n",
    "    title='J',\n",
    "    title_font_size=15,\n",
    "    height=0.25,\n",
    "    width=0.05,\n",
    "    vertical=True,\n",
    "    position_x = 0.9,\n",
    "    position_y = 0.05,\n",
    ")\n",
    "\n",
    "dargs2 = dict(\n",
    "    cmap='coolwarm',\n",
    "    scalars='curlB', \n",
    "    clim=(0, 500),\n",
    "    scalar_bar_args=sargs2, \n",
    "    show_scalar_bar=True, \n",
    "    lighting=False\n",
    ")\n",
    "\n",
    "p.add_mesh(mesh.extract_subset((0, xindmax, 0, yindmax, 0, 0)), \n",
    "           **dargs1)\n",
    "\n",
    "# p.add_mesh(src, point_size=10)\n",
    "# p.add_mesh(streamlines.tube(radius=0.2), \n",
    "#            **dargs2)\n",
    "p.show()"
   ]
  },
  {
   "cell_type": "code",
   "execution_count": 23,
   "metadata": {},
   "outputs": [],
   "source": [
    "b = mesh_g['B']\n",
    "bx, by, bz = b[:,0], b[:,1], b[:,2]"
   ]
  },
  {
   "cell_type": "code",
   "execution_count": 24,
   "metadata": {},
   "outputs": [
    {
     "name": "stdout",
     "output_type": "stream",
     "text": [
      "(344, 224, 160)\n"
     ]
    },
    {
     "data": {
      "text/plain": [
       "Text(0, 0.5, 'y')"
      ]
     },
     "execution_count": 24,
     "metadata": {},
     "output_type": "execute_result"
    },
    {
     "data": {
      "image/png": "[encoded data removed]",
      "text/plain": [
       "<Figure size 640x480 with 1 Axes>"
      ]
     },
     "metadata": {},
     "output_type": "display_data"
    }
   ],
   "source": [
    "bz_re = bz.reshape((zindmax, yindmax, xindmax))\n",
    "bz_re = bz_re.transpose((2, 1, 0))\n",
    "print(np.shape(bz_re))\n",
    "plt.imshow(bz_re[..., 0].transpose(), origin='lower', cmap='gray')\n",
    "plt.title('Bz (z=0)')\n",
    "plt.xlabel('x')\n",
    "plt.ylabel('y')"
   ]
  },
  {
   "cell_type": "code",
   "execution_count": 25,
   "metadata": {},
   "outputs": [],
   "source": [
    "def curl(b_field):  # (x, y, z)\n",
    "    _, dFx_dy, dFx_dz = np.gradient(b_field[..., 0], axis=[0, 1, 2], edge_order=2)\n",
    "    dFy_dx, _, dFy_dz = np.gradient(b_field[..., 1], axis=[0, 1, 2], edge_order=2)\n",
    "    dFz_dx, dFz_dy, _ = np.gradient(b_field[..., 2], axis=[0, 1, 2], edge_order=2)\n",
    "\n",
    "    rot_x = dFz_dy - dFy_dz\n",
    "    rot_y = dFx_dz - dFz_dx\n",
    "    rot_z = dFy_dx - dFx_dy\n",
    "\n",
    "    return np.stack([rot_x, rot_y, rot_z], -1)"
   ]
  },
  {
   "cell_type": "code",
   "execution_count": 26,
   "metadata": {},
   "outputs": [],
   "source": [
    "def vector_norm(vector):\n",
    "    return np.sqrt((vector ** 2).sum(-1))"
   ]
  },
  {
   "cell_type": "code",
   "execution_count": 27,
   "metadata": {},
   "outputs": [
    {
     "name": "stdout",
     "output_type": "stream",
     "text": [
      "(344, 224, 160, 3)\n"
     ]
    }
   ],
   "source": [
    "bx_re = bx.reshape((zindmax, yindmax, xindmax))\n",
    "bx_re = bx_re.transpose((2, 1, 0))\n",
    "by_re = by.reshape((zindmax, yindmax, xindmax))\n",
    "by_re = by_re.transpose((2, 1, 0))\n",
    "\n",
    "b_re = np.stack([bx_re, by_re, bz_re], -1)\n",
    "np.array_equal(b_re[..., 0], bx_re)\n",
    "print(np.shape(b_re))"
   ]
  },
  {
   "cell_type": "code",
   "execution_count": 28,
   "metadata": {},
   "outputs": [
    {
     "name": "stdout",
     "output_type": "stream",
     "text": [
      "(344, 224, 160, 3)\n",
      "(344, 224, 160)\n"
     ]
    },
    {
     "data": {
      "text/plain": [
       "Text(0, 0.5, 'y')"
      ]
     },
     "execution_count": 28,
     "metadata": {},
     "output_type": "execute_result"
    },
    {
     "data": {
      "image/png": "[encoded data removed]",
      "text/plain": [
       "<Figure size 640x480 with 2 Axes>"
      ]
     },
     "metadata": {},
     "output_type": "display_data"
    }
   ],
   "source": [
    "j = curl(b_re)\n",
    "print(np.shape(j))\n",
    "j_norm = vector_norm(j)\n",
    "print(np.shape(j_norm))\n",
    "\n",
    "im = plt.imshow(j_norm[..., 0].transpose(), origin='lower', cmap='viridis', clim=(0, 1000))\n",
    "plt.colorbar(im)\n",
    "plt.title('|J| = |curl(B)| (z=0)')\n",
    "plt.xlabel('x')\n",
    "plt.ylabel('y')"
   ]
  },
  {
   "cell_type": "code",
   "execution_count": null,
   "metadata": {},
   "outputs": [],
   "source": []
  }
 ],
 "metadata": {
  "kernelspec": {
   "display_name": "test",
   "language": "python",
   "name": "python3"
  },
  "language_info": {
   "codemirror_mode": {
    "name": "ipython",
    "version": 3
   },
   "file_extension": ".py",
   "mimetype": "text/x-python",
   "name": "python",
   "nbconvert_exporter": "python",
   "pygments_lexer": "ipython3",
   "version": "3.10.10"
  },
  "orig_nbformat": 4
 },
 "nbformat": 4,
 "nbformat_minor": 2
}
