{
 "cells": [
  {
   "cell_type": "markdown",
   "id": "ecd91686",
   "metadata": {},
   "source": [
    "# Jupyter Notebook Plotting"
   ]
  },
  {
   "cell_type": "code",
   "execution_count": 1,
   "id": "b1f82750",
   "metadata": {},
   "outputs": [],
   "source": [
    "import pyvista as pv"
   ]
  },
  {
   "cell_type": "code",
   "execution_count": 2,
   "id": "b5d4b9b5",
   "metadata": {},
   "outputs": [],
   "source": [
    "sphere = pv.Sphere()"
   ]
  },
  {
   "cell_type": "code",
   "execution_count": 3,
   "id": "10ddb886",
   "metadata": {},
   "outputs": [
    {
     "data": {
      "text/html": [
       "<table><tr><th>Header</th><th>Data Arrays</th></tr><tr><td>\n",
       "<table>\n",
       "<tr><th>PolyData</th><th>Information</th></tr>\n",
       "<tr><td>N Cells</td><td>1680</td></tr>\n",
       "<tr><td>N Points</td><td>842</td></tr>\n",
       "<tr><td>N Strips</td><td>0</td></tr>\n",
       "<tr><td>X Bounds</td><td>-4.993e-01, 4.993e-01</td></tr>\n",
       "<tr><td>Y Bounds</td><td>-4.965e-01, 4.965e-01</td></tr>\n",
       "<tr><td>Z Bounds</td><td>-5.000e-01, 5.000e-01</td></tr>\n",
       "<tr><td>N Arrays</td><td>1</td></tr>\n",
       "</table>\n",
       "\n",
       "</td><td>\n",
       "<table>\n",
       "<tr><th>Name</th><th>Field</th><th>Type</th><th>N Comp</th><th>Min</th><th>Max</th></tr>\n",
       "<tr><td>Normals</td><td>Points</td><td>float32</td><td>3</td><td>-1.000e+00</td><td>1.000e+00</td></tr>\n",
       "</table>\n",
       "\n",
       "</td></tr> </table>"
      ],
      "text/plain": [
       "PolyData (0x13042a2c0)\n",
       "  N Cells:    1680\n",
       "  N Points:   842\n",
       "  N Strips:   0\n",
       "  X Bounds:   -4.993e-01, 4.993e-01\n",
       "  Y Bounds:   -4.965e-01, 4.965e-01\n",
       "  Z Bounds:   -5.000e-01, 5.000e-01\n",
       "  N Arrays:   1"
      ]
     },
     "execution_count": 3,
     "metadata": {},
     "output_type": "execute_result"
    }
   ],
   "source": [
    "sphere"
   ]
  },
  {
   "cell_type": "code",
   "execution_count": 4,
   "id": "1f0e494c",
   "metadata": {
    "scrolled": false
   },
   "outputs": [
    {
     "data": {
      "application/vnd.jupyter.widget-view+json": {
       "model_id": "a1dd29ba04d04cb28b7ff3cfbdf8daab",
       "version_major": 2,
       "version_minor": 0
      },
      "text/plain": [
       "Widget(value=\"<iframe src='http://localhost:51054/index.html?ui=P_0x13043b340_0&reconnect=auto' style='width: …"
      ]
     },
     "metadata": {},
     "output_type": "display_data"
    }
   ],
   "source": [
    "sphere.plot(jupyter_backend='trame')"
   ]
  },
  {
   "cell_type": "code",
   "execution_count": 5,
   "id": "4b1d743b",
   "metadata": {},
   "outputs": [
    {
     "data": {
      "application/vnd.jupyter.widget-view+json": {
       "model_id": "6f03461024704bd0b997cb831df24f56",
       "version_major": 2,
       "version_minor": 0
      },
      "text/plain": [
       "Widget(value=\"<iframe src='http://localhost:51054/index.html?ui=P_0x1319c4160_1&reconnect=auto' style='width: …"
      ]
     },
     "metadata": {},
     "output_type": "display_data"
    }
   ],
   "source": [
    "plotter = pv.Plotter(notebook=True)\n",
    "plotter.add_mesh(sphere)\n",
    "plotter.show(jupyter_backend='trame')"
   ]
  },
  {
   "cell_type": "code",
   "execution_count": 6,
   "id": "d2c834a1",
   "metadata": {},
   "outputs": [],
   "source": [
    "import pyvista as pv\n",
    "pv.set_jupyter_backend('trame')"
   ]
  },
  {
   "cell_type": "code",
   "execution_count": 7,
   "id": "10e4a322",
   "metadata": {},
   "outputs": [
    {
     "data": {
      "application/vnd.jupyter.widget-view+json": {
       "model_id": "07bc0c8206784858accc40f1ff91f2d6",
       "version_major": 2,
       "version_minor": 0
      },
      "text/plain": [
       "Widget(value=\"<iframe src='http://localhost:51054/index.html?ui=P_0x13198bfa0_2&reconnect=auto' style='width: …"
      ]
     },
     "metadata": {},
     "output_type": "display_data"
    }
   ],
   "source": [
    "import pyvista as pv\n",
    "pv.set_jupyter_backend('client')\n",
    "pv.Cone().plot()"
   ]
  },
  {
   "cell_type": "code",
   "execution_count": 8,
   "id": "cabe148d",
   "metadata": {
    "scrolled": false
   },
   "outputs": [
    {
     "data": {
      "application/vnd.jupyter.widget-view+json": {
       "model_id": "547829397aac41c38546d3907ce2875f",
       "version_major": 2,
       "version_minor": 0
      },
      "text/plain": [
       "Widget(value=\"<iframe src='http://localhost:51054/index.html?ui=P_0x13198bdf0_2&reconnect=auto' style='width: …"
      ]
     },
     "metadata": {},
     "output_type": "display_data"
    }
   ],
   "source": [
    "import pyvista as pv\n",
    "pv.set_jupyter_backend('trame')\n",
    "\n",
    "pl = pv.Plotter()\n",
    "pl.add_mesh(pv.Cone())\n",
    "pl.show(jupyter_backend='client')"
   ]
  },
  {
   "cell_type": "markdown",
   "id": "7806425b",
   "metadata": {},
   "source": [
    "# What is a Mesh?"
   ]
  },
  {
   "cell_type": "code",
   "execution_count": 9,
   "id": "f1a051a0",
   "metadata": {},
   "outputs": [],
   "source": [
    "import numpy as np\n",
    "import pyvista as pv"
   ]
  },
  {
   "cell_type": "code",
   "execution_count": 10,
   "id": "6268e19b",
   "metadata": {
    "scrolled": true
   },
   "outputs": [
    {
     "data": {
      "text/html": [
       "\n",
       "<table>\n",
       "<tr><th>PolyData</th><th>Information</th></tr>\n",
       "<tr><td>N Cells</td><td>100</td></tr>\n",
       "<tr><td>N Points</td><td>100</td></tr>\n",
       "<tr><td>N Strips</td><td>0</td></tr>\n",
       "<tr><td>X Bounds</td><td>1.459e-03, 9.976e-01</td></tr>\n",
       "<tr><td>Y Bounds</td><td>2.426e-04, 9.884e-01</td></tr>\n",
       "<tr><td>Z Bounds</td><td>1.366e-02, 9.844e-01</td></tr>\n",
       "<tr><td>N Arrays</td><td>0</td></tr>\n",
       "</table>\n",
       "\n"
      ],
      "text/plain": [
       "PolyData (0x141b840a0)\n",
       "  N Cells:    100\n",
       "  N Points:   100\n",
       "  N Strips:   0\n",
       "  X Bounds:   1.459e-03, 9.976e-01\n",
       "  Y Bounds:   2.426e-04, 9.884e-01\n",
       "  Z Bounds:   1.366e-02, 9.844e-01\n",
       "  N Arrays:   0"
      ]
     },
     "execution_count": 10,
     "metadata": {},
     "output_type": "execute_result"
    }
   ],
   "source": [
    "points = np.random.rand(100, 3)\n",
    "mesh = pv.PolyData(points)\n",
    "mesh"
   ]
  },
  {
   "cell_type": "code",
   "execution_count": 11,
   "id": "b8d4db05",
   "metadata": {},
   "outputs": [
    {
     "data": {
      "text/plain": [
       "pyvista_ndarray([[2.28285833e-01, 2.85262122e-01, 2.31649204e-01],\n",
       "                 [1.98378453e-01, 3.92445971e-01, 2.97278348e-01],\n",
       "                 [7.23893717e-01, 9.88351754e-01, 4.96905409e-01],\n",
       "                 [3.34491079e-01, 4.73873043e-01, 4.92481623e-01],\n",
       "                 [9.88612559e-01, 5.63826529e-02, 6.25704598e-01],\n",
       "                 [6.37773012e-01, 8.85138983e-01, 2.19809497e-01],\n",
       "                 [7.12968640e-01, 5.09416702e-01, 8.22595792e-01],\n",
       "                 [3.52782059e-01, 6.78782914e-01, 5.38942942e-01],\n",
       "                 [1.81594552e-01, 4.84572412e-01, 8.93180405e-01],\n",
       "                 [2.96944804e-02, 9.11284507e-01, 5.68968880e-01],\n",
       "                 [3.57197097e-01, 6.36830421e-01, 2.92301477e-01],\n",
       "                 [3.28388965e-01, 6.38852376e-01, 9.13913027e-01],\n",
       "                 [6.19277841e-01, 9.13452249e-01, 5.67200345e-02],\n",
       "                 [5.45894146e-01, 5.28520932e-01, 1.77809507e-01],\n",
       "                 [5.73393935e-01, 2.73698215e-02, 8.96185998e-01],\n",
       "                 [2.94666865e-01, 5.19427976e-01, 5.36561559e-01],\n",
       "                 [1.52346839e-01, 2.97024753e-01, 1.98606465e-01],\n",
       "                 [2.97696027e-01, 2.42643928e-04, 3.05011910e-01],\n",
       "                 [9.57358142e-01, 9.78760190e-01, 1.36575958e-02],\n",
       "                 [9.48984558e-01, 2.74829146e-01, 3.49753905e-01],\n",
       "                 [9.35438777e-02, 5.88558684e-01, 4.92794732e-01],\n",
       "                 [7.81448088e-01, 6.60973845e-01, 3.70467305e-01],\n",
       "                 [9.97574211e-01, 9.78951741e-01, 6.22794521e-01],\n",
       "                 [4.65963301e-01, 3.14660042e-01, 3.83387373e-02],\n",
       "                 [8.10080851e-01, 6.60657957e-01, 6.00879848e-01],\n",
       "                 [4.24804453e-01, 8.13382121e-01, 5.56163529e-01],\n",
       "                 [5.92108209e-01, 6.75350305e-02, 8.73190377e-01],\n",
       "                 [4.41992446e-01, 7.65448940e-01, 4.62877787e-01],\n",
       "                 [1.14175902e-01, 1.63638173e-01, 7.16975330e-01],\n",
       "                 [2.14303049e-01, 9.16232053e-01, 5.46437807e-02],\n",
       "                 [1.95477994e-01, 9.08185593e-01, 4.66017577e-01],\n",
       "                 [8.43468376e-01, 1.96728191e-01, 1.55433771e-01],\n",
       "                 [8.21077101e-02, 4.53946435e-01, 5.66574032e-01],\n",
       "                 [5.89736824e-01, 4.57607219e-01, 8.70051325e-01],\n",
       "                 [9.76632624e-01, 9.64022753e-01, 5.45126148e-02],\n",
       "                 [1.45898080e-03, 3.94081353e-01, 6.80086141e-01],\n",
       "                 [1.42262406e-01, 2.00234998e-01, 8.44364542e-01],\n",
       "                 [1.91260885e-01, 5.44094900e-01, 4.74968125e-01],\n",
       "                 [9.66624655e-01, 4.14227076e-01, 1.98609531e-01],\n",
       "                 [7.12353478e-01, 5.80652656e-01, 4.26379846e-01],\n",
       "                 [9.89504087e-01, 3.14252025e-01, 2.26993274e-01],\n",
       "                 [8.06806487e-01, 3.00197035e-01, 1.13102884e-01],\n",
       "                 [8.38275791e-01, 4.48851613e-01, 7.25445890e-01],\n",
       "                 [9.65699641e-01, 4.29698758e-01, 2.76039036e-01],\n",
       "                 [3.29941233e-01, 5.69656554e-01, 2.37446505e-02],\n",
       "                 [8.09350453e-01, 4.86478275e-01, 9.58807042e-01],\n",
       "                 [6.54829355e-01, 1.15773284e-01, 2.37378797e-01],\n",
       "                 [6.52462914e-01, 5.82019967e-01, 3.76365211e-01],\n",
       "                 [7.23867702e-01, 5.08766335e-01, 1.97377150e-01],\n",
       "                 [5.75746156e-01, 6.01859084e-01, 6.49571448e-01],\n",
       "                 [9.54257440e-01, 3.58677578e-01, 7.66050553e-01],\n",
       "                 [9.49778009e-01, 3.38759432e-01, 1.61786877e-01],\n",
       "                 [1.46117915e-01, 6.04772032e-01, 9.03294786e-01],\n",
       "                 [9.76778043e-01, 3.58160687e-01, 7.32679804e-01],\n",
       "                 [7.24314019e-01, 9.47902021e-01, 1.03071934e-01],\n",
       "                 [6.26019275e-02, 5.21930448e-01, 8.14783948e-02],\n",
       "                 [5.31158890e-01, 9.24859381e-01, 2.68219756e-01],\n",
       "                 [1.04702473e-01, 7.63254450e-01, 8.89773643e-02],\n",
       "                 [3.81624610e-01, 1.12297289e-01, 6.17841151e-01],\n",
       "                 [1.41087462e-01, 6.59426409e-01, 8.43526821e-01],\n",
       "                 [3.72758167e-01, 6.11930649e-01, 1.66312803e-01],\n",
       "                 [8.53264900e-01, 4.28238473e-01, 5.87350195e-02],\n",
       "                 [1.03752813e-01, 3.84807850e-01, 9.84444009e-01],\n",
       "                 [3.90409239e-01, 6.42138604e-01, 9.24043346e-01],\n",
       "                 [4.26414821e-03, 6.93480662e-01, 6.45853707e-01],\n",
       "                 [9.93242067e-01, 5.23906319e-01, 6.56383443e-01],\n",
       "                 [6.73032648e-01, 2.04452240e-01, 3.20448468e-01],\n",
       "                 [7.58498240e-01, 2.96374203e-02, 2.57746991e-01],\n",
       "                 [9.44231908e-01, 6.97187012e-01, 5.35904031e-01],\n",
       "                 [3.07854752e-01, 9.11565528e-01, 3.22986068e-01],\n",
       "                 [6.93833869e-01, 6.58293383e-01, 7.02613474e-01],\n",
       "                 [4.57292690e-01, 8.36408557e-01, 7.96051346e-01],\n",
       "                 [9.62683785e-01, 4.59757591e-01, 7.90917625e-01],\n",
       "                 [6.35324464e-01, 5.94975035e-01, 7.13262744e-01],\n",
       "                 [7.96351165e-01, 8.61978780e-01, 9.52468775e-01],\n",
       "                 [9.60859710e-01, 4.97939133e-01, 4.61642989e-01],\n",
       "                 [6.21461373e-01, 6.62183354e-01, 3.75736654e-01],\n",
       "                 [3.82519116e-02, 5.04793948e-01, 7.63144770e-02],\n",
       "                 [4.32930681e-01, 1.52904946e-01, 1.10854851e-01],\n",
       "                 [3.01310942e-01, 6.23850547e-01, 6.77931754e-01],\n",
       "                 [3.87200725e-01, 2.10151038e-01, 7.64090182e-01],\n",
       "                 [2.82461388e-01, 2.43583299e-01, 1.06596264e-01],\n",
       "                 [5.40256055e-01, 4.46833227e-01, 1.28163989e-01],\n",
       "                 [8.25596480e-01, 1.96797433e-01, 5.88189871e-01],\n",
       "                 [6.39558128e-01, 6.05232481e-02, 6.83826379e-01],\n",
       "                 [1.38786401e-01, 7.40634573e-01, 3.26734598e-01],\n",
       "                 [2.65684124e-01, 9.51190935e-01, 5.95309571e-01],\n",
       "                 [3.94273591e-02, 7.06999827e-01, 3.13979212e-01],\n",
       "                 [6.66223669e-01, 8.93751579e-01, 5.53743467e-01],\n",
       "                 [6.17047631e-01, 3.71346427e-01, 1.07399815e-01],\n",
       "                 [1.63515748e-01, 1.98360346e-01, 3.88156118e-01],\n",
       "                 [8.86705706e-03, 3.29392461e-01, 7.57213550e-01],\n",
       "                 [7.98169351e-01, 5.24924978e-01, 4.97549000e-01],\n",
       "                 [3.86257807e-01, 7.27435351e-01, 1.63174982e-01],\n",
       "                 [4.72486833e-01, 6.22183817e-01, 2.75921286e-02],\n",
       "                 [7.05460411e-01, 4.56025858e-01, 7.33040224e-01],\n",
       "                 [1.67181970e-01, 9.88452157e-02, 6.87155125e-01],\n",
       "                 [2.01477378e-01, 6.59270407e-01, 2.75860980e-02],\n",
       "                 [9.68068001e-01, 4.76006294e-01, 2.35117318e-02],\n",
       "                 [7.19007206e-01, 9.19031774e-02, 5.67149854e-01]])"
      ]
     },
     "execution_count": 11,
     "metadata": {},
     "output_type": "execute_result"
    }
   ],
   "source": [
    "mesh.points"
   ]
  },
  {
   "cell_type": "code",
   "execution_count": 12,
   "id": "8759bb18",
   "metadata": {},
   "outputs": [
    {
     "data": {
      "application/vnd.jupyter.widget-view+json": {
       "model_id": "bc1e503300eb4b6bafb9cef9e9d2d3d4",
       "version_major": 2,
       "version_minor": 0
      },
      "text/plain": [
       "Widget(value=\"<iframe src='http://localhost:51054/index.html?ui=P_0x1319e5000_2&reconnect=auto' style='width: …"
      ]
     },
     "metadata": {},
     "output_type": "display_data"
    }
   ],
   "source": [
    "mesh.plot(point_size=10, style='points')"
   ]
  },
  {
   "cell_type": "code",
   "execution_count": 13,
   "id": "e127fd02",
   "metadata": {},
   "outputs": [],
   "source": [
    "from pyvista import examples"
   ]
  },
  {
   "cell_type": "code",
   "execution_count": 14,
   "id": "5690c92a",
   "metadata": {},
   "outputs": [
    {
     "data": {
      "text/html": [
       "<table><tr><th>Header</th><th>Data Arrays</th></tr><tr><td>\n",
       "<table>\n",
       "<tr><th>UnstructuredGrid</th><th>Information</th></tr>\n",
       "<tr><td>N Cells</td><td>40</td></tr>\n",
       "<tr><td>N Points</td><td>99</td></tr>\n",
       "<tr><td>X Bounds</td><td>0.000e+00, 1.000e+00</td></tr>\n",
       "<tr><td>Y Bounds</td><td>0.000e+00, 1.000e+00</td></tr>\n",
       "<tr><td>Z Bounds</td><td>0.000e+00, 5.000e+00</td></tr>\n",
       "<tr><td>N Arrays</td><td>3</td></tr>\n",
       "</table>\n",
       "\n",
       "</td><td>\n",
       "<table>\n",
       "<tr><th>Name</th><th>Field</th><th>Type</th><th>N Comp</th><th>Min</th><th>Max</th></tr>\n",
       "<tr><td>sample_point_scalars</td><td>Points</td><td>int64</td><td>1</td><td>1.000e+00</td><td>3.020e+02</td></tr>\n",
       "<tr><td>VTKorigID</td><td>Points</td><td>int64</td><td>1</td><td>0.000e+00</td><td>9.800e+01</td></tr>\n",
       "<tr><td><b>sample_cell_scalars</b></td><td>Cells</td><td>int32</td><td>1</td><td>1.000e+00</td><td>4.000e+01</td></tr>\n",
       "</table>\n",
       "\n",
       "</td></tr> </table>"
      ],
      "text/plain": [
       "UnstructuredGrid (0x1479df7c0)\n",
       "  N Cells:    40\n",
       "  N Points:   99\n",
       "  X Bounds:   0.000e+00, 1.000e+00\n",
       "  Y Bounds:   0.000e+00, 1.000e+00\n",
       "  Z Bounds:   0.000e+00, 5.000e+00\n",
       "  N Arrays:   3"
      ]
     },
     "execution_count": 14,
     "metadata": {},
     "output_type": "execute_result"
    }
   ],
   "source": [
    "mesh = examples.load_hexbeam()\n",
    "mesh"
   ]
  },
  {
   "cell_type": "code",
   "execution_count": 15,
   "id": "aae09efa",
   "metadata": {},
   "outputs": [
    {
     "data": {
      "text/plain": [
       "pyvista_ndarray([[0. , 0. , 0. ],\n",
       "                 [1. , 0. , 0. ],\n",
       "                 [0.5, 0. , 0. ],\n",
       "                 [1. , 1. , 0. ],\n",
       "                 [1. , 0.5, 0. ],\n",
       "                 [0. , 1. , 0. ],\n",
       "                 [0.5, 1. , 0. ],\n",
       "                 [0. , 0.5, 0. ],\n",
       "                 [0.5, 0.5, 0. ],\n",
       "                 [0. , 0. , 5. ],\n",
       "                 [1. , 0. , 5. ],\n",
       "                 [0.5, 0. , 5. ],\n",
       "                 [1. , 1. , 5. ],\n",
       "                 [1. , 0.5, 5. ],\n",
       "                 [0. , 1. , 5. ],\n",
       "                 [0.5, 1. , 5. ],\n",
       "                 [0. , 0.5, 5. ],\n",
       "                 [0.5, 0.5, 5. ],\n",
       "                 [1. , 0. , 0.5],\n",
       "                 [1. , 0. , 1. ],\n",
       "                 [1. , 0. , 1.5],\n",
       "                 [1. , 0. , 2. ],\n",
       "                 [1. , 0. , 2.5],\n",
       "                 [1. , 0. , 3. ],\n",
       "                 [1. , 0. , 3.5],\n",
       "                 [1. , 0. , 4. ],\n",
       "                 [1. , 0. , 4.5],\n",
       "                 [0. , 0. , 0.5],\n",
       "                 [0. , 0. , 1. ],\n",
       "                 [0. , 0. , 1.5],\n",
       "                 [0. , 0. , 2. ],\n",
       "                 [0. , 0. , 2.5],\n",
       "                 [0. , 0. , 3. ],\n",
       "                 [0. , 0. , 3.5],\n",
       "                 [0. , 0. , 4. ],\n",
       "                 [0. , 0. , 4.5],\n",
       "                 [0.5, 0. , 0.5],\n",
       "                 [0.5, 0. , 1. ],\n",
       "                 [0.5, 0. , 1.5],\n",
       "                 [0.5, 0. , 2. ],\n",
       "                 [0.5, 0. , 2.5],\n",
       "                 [0.5, 0. , 3. ],\n",
       "                 [0.5, 0. , 3.5],\n",
       "                 [0.5, 0. , 4. ],\n",
       "                 [0.5, 0. , 4.5],\n",
       "                 [1. , 1. , 0.5],\n",
       "                 [1. , 1. , 1. ],\n",
       "                 [1. , 1. , 1.5],\n",
       "                 [1. , 1. , 2. ],\n",
       "                 [1. , 1. , 2.5],\n",
       "                 [1. , 1. , 3. ],\n",
       "                 [1. , 1. , 3.5],\n",
       "                 [1. , 1. , 4. ],\n",
       "                 [1. , 1. , 4.5],\n",
       "                 [1. , 0.5, 0.5],\n",
       "                 [1. , 0.5, 1. ],\n",
       "                 [1. , 0.5, 1.5],\n",
       "                 [1. , 0.5, 2. ],\n",
       "                 [1. , 0.5, 2.5],\n",
       "                 [1. , 0.5, 3. ],\n",
       "                 [1. , 0.5, 3.5],\n",
       "                 [1. , 0.5, 4. ],\n",
       "                 [1. , 0.5, 4.5],\n",
       "                 [0. , 1. , 0.5],\n",
       "                 [0. , 1. , 1. ],\n",
       "                 [0. , 1. , 1.5],\n",
       "                 [0. , 1. , 2. ],\n",
       "                 [0. , 1. , 2.5],\n",
       "                 [0. , 1. , 3. ],\n",
       "                 [0. , 1. , 3.5],\n",
       "                 [0. , 1. , 4. ],\n",
       "                 [0. , 1. , 4.5],\n",
       "                 [0.5, 1. , 0.5],\n",
       "                 [0.5, 1. , 1. ],\n",
       "                 [0.5, 1. , 1.5],\n",
       "                 [0.5, 1. , 2. ],\n",
       "                 [0.5, 1. , 2.5],\n",
       "                 [0.5, 1. , 3. ],\n",
       "                 [0.5, 1. , 3.5],\n",
       "                 [0.5, 1. , 4. ],\n",
       "                 [0.5, 1. , 4.5],\n",
       "                 [0. , 0.5, 0.5],\n",
       "                 [0. , 0.5, 1. ],\n",
       "                 [0. , 0.5, 1.5],\n",
       "                 [0. , 0.5, 2. ],\n",
       "                 [0. , 0.5, 2.5],\n",
       "                 [0. , 0.5, 3. ],\n",
       "                 [0. , 0.5, 3.5],\n",
       "                 [0. , 0.5, 4. ],\n",
       "                 [0. , 0.5, 4.5],\n",
       "                 [0.5, 0.5, 0.5],\n",
       "                 [0.5, 0.5, 1. ],\n",
       "                 [0.5, 0.5, 1.5],\n",
       "                 [0.5, 0.5, 2. ],\n",
       "                 [0.5, 0.5, 2.5],\n",
       "                 [0.5, 0.5, 3. ],\n",
       "                 [0.5, 0.5, 3.5],\n",
       "                 [0.5, 0.5, 4. ],\n",
       "                 [0.5, 0.5, 4.5]])"
      ]
     },
     "execution_count": 15,
     "metadata": {},
     "output_type": "execute_result"
    }
   ],
   "source": [
    "mesh.points"
   ]
  },
  {
   "cell_type": "code",
   "execution_count": 16,
   "id": "f69f2289",
   "metadata": {},
   "outputs": [
    {
     "data": {
      "application/vnd.jupyter.widget-view+json": {
       "model_id": "bfadd07e5632440e8eb8adeaa4b69c3c",
       "version_major": 2,
       "version_minor": 0
      },
      "text/plain": [
       "Widget(value=\"<iframe src='http://localhost:51054/index.html?ui=P_0x1479ef3a0_3&reconnect=auto' style='width: …"
      ]
     },
     "metadata": {},
     "output_type": "display_data"
    }
   ],
   "source": [
    "cpos = [(6.20, 3.00, 7.50),\n",
    "        (0.16, 0.13, 2.65),\n",
    "        (-0.28, 0.94, -0.21)]\n",
    "\n",
    "pl = pv.Plotter()\n",
    "pl.add_mesh(mesh, show_edges=True, color='white')\n",
    "pl.add_points(mesh.points, color='red', point_size=20)\n",
    "pl.camera_position = cpos\n",
    "pl.show()"
   ]
  },
  {
   "cell_type": "code",
   "execution_count": 17,
   "id": "41a4bb1f",
   "metadata": {},
   "outputs": [
    {
     "data": {
      "text/html": [
       "<table><tr><th>Header</th><th>Data Arrays</th></tr><tr><td>\n",
       "<table>\n",
       "<tr><th>PolyData</th><th>Information</th></tr>\n",
       "<tr><td>N Cells</td><td>1000</td></tr>\n",
       "<tr><td>N Points</td><td>872</td></tr>\n",
       "<tr><td>N Strips</td><td>0</td></tr>\n",
       "<tr><td>X Bounds</td><td>-1.316e-01, 1.802e-01</td></tr>\n",
       "<tr><td>Y Bounds</td><td>-1.205e-01, 1.877e-01</td></tr>\n",
       "<tr><td>Z Bounds</td><td>-1.430e-01, 9.851e-02</td></tr>\n",
       "<tr><td>N Arrays</td><td>1</td></tr>\n",
       "</table>\n",
       "\n",
       "</td><td>\n",
       "<table>\n",
       "<tr><th>Name</th><th>Field</th><th>Type</th><th>N Comp</th><th>Min</th><th>Max</th></tr>\n",
       "<tr><td>Normals</td><td>Points</td><td>float32</td><td>3</td><td>-9.998e-01</td><td>9.977e-01</td></tr>\n",
       "</table>\n",
       "\n",
       "</td></tr> </table>"
      ],
      "text/plain": [
       "PolyData (0x147a5c400)\n",
       "  N Cells:    1000\n",
       "  N Points:   872\n",
       "  N Strips:   0\n",
       "  X Bounds:   -1.316e-01, 1.802e-01\n",
       "  Y Bounds:   -1.205e-01, 1.877e-01\n",
       "  Z Bounds:   -1.430e-01, 9.851e-02\n",
       "  N Arrays:   1"
      ]
     },
     "execution_count": 17,
     "metadata": {},
     "output_type": "execute_result"
    }
   ],
   "source": [
    "mesh = examples.download_bunny_coarse()\n",
    "mesh"
   ]
  },
  {
   "cell_type": "code",
   "execution_count": 18,
   "id": "fec46cfa",
   "metadata": {},
   "outputs": [
    {
     "data": {
      "text/plain": [
       "(872, 3)"
      ]
     },
     "execution_count": 18,
     "metadata": {},
     "output_type": "execute_result"
    }
   ],
   "source": [
    "(mesh.points).shape"
   ]
  },
  {
   "cell_type": "code",
   "execution_count": 19,
   "id": "d5e36953",
   "metadata": {},
   "outputs": [
    {
     "data": {
      "application/vnd.jupyter.widget-view+json": {
       "model_id": "0c8818938282425a95e1f4ee064534a9",
       "version_major": 2,
       "version_minor": 0
      },
      "text/plain": [
       "Widget(value=\"<iframe src='http://localhost:51054/index.html?ui=P_0x147a56140_4&reconnect=auto' style='width: …"
      ]
     },
     "metadata": {},
     "output_type": "display_data"
    }
   ],
   "source": [
    "pl = pv.Plotter()\n",
    "pl.add_mesh(mesh, show_edges=True, color='white')\n",
    "pl.add_points(mesh.points, color='red', point_size=5)\n",
    "pl.camera_position = [(0.02, 0.30, 0.73),\n",
    "                      (0.02, 0.03, -0.022),\n",
    "                      (-0.03, 0.94, -0.34)]\n",
    "pl.show()"
   ]
  },
  {
   "cell_type": "code",
   "execution_count": 20,
   "id": "0d536934",
   "metadata": {},
   "outputs": [
    {
     "data": {
      "application/vnd.jupyter.widget-view+json": {
       "model_id": "31eed7f4d2c44c90a362986c978d372d",
       "version_major": 2,
       "version_minor": 0
      },
      "text/plain": [
       "Widget(value=\"<iframe src='http://localhost:51054/index.html?ui=P_0x147ab2530_5&reconnect=auto' style='width: …"
      ]
     },
     "metadata": {},
     "output_type": "display_data"
    }
   ],
   "source": [
    "mesh = examples.load_hexbeam()\n",
    "\n",
    "pl = pv.Plotter()\n",
    "pl.add_mesh(mesh, show_edges=True, color='white')\n",
    "pl.add_points(mesh.points, color='red', point_size=20)\n",
    "\n",
    "single_cell = mesh.extract_cells(mesh.n_cells-1)\n",
    "pl.add_mesh(single_cell, color='pink', edge_color='blue', line_width=5, show_edges=True)\n",
    "pl.camera_position = [(6.20, 3.00, 7.50),\n",
    "                      (0.16, 0.13, 2.65),\n",
    "                      (-0.28, 0.94, -0.21)]\n",
    "pl.show(jupyter_backend='client')"
   ]
  },
  {
   "cell_type": "code",
   "execution_count": 21,
   "id": "b956bdfa",
   "metadata": {},
   "outputs": [
    {
     "data": {
      "text/html": [
       "<table><tr><th>Header</th><th>Data Arrays</th></tr><tr><td>\n",
       "<table>\n",
       "<tr><th>UnstructuredGrid</th><th>Information</th></tr>\n",
       "<tr><td>N Cells</td><td>1</td></tr>\n",
       "<tr><td>N Points</td><td>8</td></tr>\n",
       "<tr><td>X Bounds</td><td>0.000e+00, 5.000e-01</td></tr>\n",
       "<tr><td>Y Bounds</td><td>0.000e+00, 5.000e-01</td></tr>\n",
       "<tr><td>Z Bounds</td><td>0.000e+00, 5.000e-01</td></tr>\n",
       "<tr><td>N Arrays</td><td>5</td></tr>\n",
       "</table>\n",
       "\n",
       "</td><td>\n",
       "<table>\n",
       "<tr><th>Name</th><th>Field</th><th>Type</th><th>N Comp</th><th>Min</th><th>Max</th></tr>\n",
       "<tr><td>sample_point_scalars</td><td>Points</td><td>int64</td><td>1</td><td>1.000e+00</td><td>2.860e+02</td></tr>\n",
       "<tr><td>VTKorigID</td><td>Points</td><td>int64</td><td>1</td><td>0.000e+00</td><td>9.000e+01</td></tr>\n",
       "<tr><td>vtkOriginalPointIds</td><td>Points</td><td>int64</td><td>1</td><td>0.000e+00</td><td>9.000e+01</td></tr>\n",
       "<tr><td><b>sample_cell_scalars</b></td><td>Cells</td><td>int32</td><td>1</td><td>1.000e+00</td><td>1.000e+00</td></tr>\n",
       "<tr><td>vtkOriginalCellIds</td><td>Cells</td><td>int64</td><td>1</td><td>0.000e+00</td><td>0.000e+00</td></tr>\n",
       "</table>\n",
       "\n",
       "</td></tr> </table>"
      ],
      "text/plain": [
       "UnstructuredGrid (0x147a5dd80)\n",
       "  N Cells:    1\n",
       "  N Points:   8\n",
       "  X Bounds:   0.000e+00, 5.000e-01\n",
       "  Y Bounds:   0.000e+00, 5.000e-01\n",
       "  Z Bounds:   0.000e+00, 5.000e-01\n",
       "  N Arrays:   5"
      ]
     },
     "execution_count": 21,
     "metadata": {},
     "output_type": "execute_result"
    }
   ],
   "source": [
    "single_cell = mesh.extract_cells(0)\n",
    "single_cell"
   ]
  },
  {
   "cell_type": "markdown",
   "id": "2b450596",
   "metadata": {},
   "source": [
    "# What are attributes?"
   ]
  },
  {
   "cell_type": "code",
   "execution_count": 22,
   "id": "157faf76",
   "metadata": {},
   "outputs": [
    {
     "data": {
      "text/html": [
       "<table><tr><th>Header</th><th>Data Arrays</th></tr><tr><td>\n",
       "<table>\n",
       "<tr><th>UnstructuredGrid</th><th>Information</th></tr>\n",
       "<tr><td>N Cells</td><td>40</td></tr>\n",
       "<tr><td>N Points</td><td>99</td></tr>\n",
       "<tr><td>X Bounds</td><td>0.000e+00, 1.000e+00</td></tr>\n",
       "<tr><td>Y Bounds</td><td>0.000e+00, 1.000e+00</td></tr>\n",
       "<tr><td>Z Bounds</td><td>0.000e+00, 5.000e+00</td></tr>\n",
       "<tr><td>N Arrays</td><td>3</td></tr>\n",
       "</table>\n",
       "\n",
       "</td><td>\n",
       "<table>\n",
       "<tr><th>Name</th><th>Field</th><th>Type</th><th>N Comp</th><th>Min</th><th>Max</th></tr>\n",
       "<tr><td>sample_point_scalars</td><td>Points</td><td>int64</td><td>1</td><td>1.000e+00</td><td>3.020e+02</td></tr>\n",
       "<tr><td>VTKorigID</td><td>Points</td><td>int64</td><td>1</td><td>0.000e+00</td><td>9.800e+01</td></tr>\n",
       "<tr><td><b>sample_cell_scalars</b></td><td>Cells</td><td>int32</td><td>1</td><td>1.000e+00</td><td>4.000e+01</td></tr>\n",
       "</table>\n",
       "\n",
       "</td></tr> </table>"
      ],
      "text/plain": [
       "UnstructuredGrid (0x147a5fee0)\n",
       "  N Cells:    40\n",
       "  N Points:   99\n",
       "  X Bounds:   0.000e+00, 1.000e+00\n",
       "  Y Bounds:   0.000e+00, 1.000e+00\n",
       "  Z Bounds:   0.000e+00, 5.000e+00\n",
       "  N Arrays:   3"
      ]
     },
     "execution_count": 22,
     "metadata": {},
     "output_type": "execute_result"
    }
   ],
   "source": [
    "mesh = examples.load_hexbeam()\n",
    "mesh"
   ]
  },
  {
   "cell_type": "code",
   "execution_count": 23,
   "id": "2a164c8e",
   "metadata": {},
   "outputs": [
    {
     "data": {
      "text/html": [
       "<table><tr><th>Header</th><th>Data Arrays</th></tr><tr><td>\n",
       "<table>\n",
       "<tr><th>UnstructuredGrid</th><th>Information</th></tr>\n",
       "<tr><td>N Cells</td><td>40</td></tr>\n",
       "<tr><td>N Points</td><td>99</td></tr>\n",
       "<tr><td>X Bounds</td><td>0.000e+00, 1.000e+00</td></tr>\n",
       "<tr><td>Y Bounds</td><td>0.000e+00, 1.000e+00</td></tr>\n",
       "<tr><td>Z Bounds</td><td>0.000e+00, 5.000e+00</td></tr>\n",
       "<tr><td>N Arrays</td><td>4</td></tr>\n",
       "</table>\n",
       "\n",
       "</td><td>\n",
       "<table>\n",
       "<tr><th>Name</th><th>Field</th><th>Type</th><th>N Comp</th><th>Min</th><th>Max</th></tr>\n",
       "<tr><td>sample_point_scalars</td><td>Points</td><td>int64</td><td>1</td><td>1.000e+00</td><td>3.020e+02</td></tr>\n",
       "<tr><td>VTKorigID</td><td>Points</td><td>int64</td><td>1</td><td>0.000e+00</td><td>9.800e+01</td></tr>\n",
       "<tr><td>my point values</td><td>Points</td><td>int32</td><td>1</td><td>0.000e+00</td><td>9.800e+01</td></tr>\n",
       "<tr><td><b>sample_cell_scalars</b></td><td>Cells</td><td>int32</td><td>1</td><td>1.000e+00</td><td>4.000e+01</td></tr>\n",
       "</table>\n",
       "\n",
       "</td></tr> </table>"
      ],
      "text/plain": [
       "UnstructuredGrid (0x147a5fee0)\n",
       "  N Cells:    40\n",
       "  N Points:   99\n",
       "  X Bounds:   0.000e+00, 1.000e+00\n",
       "  Y Bounds:   0.000e+00, 1.000e+00\n",
       "  Z Bounds:   0.000e+00, 5.000e+00\n",
       "  N Arrays:   4"
      ]
     },
     "execution_count": 23,
     "metadata": {},
     "output_type": "execute_result"
    }
   ],
   "source": [
    "mesh.point_data['my point values'] = np.arange(mesh.n_points, dtype=np.int32)\n",
    "mesh"
   ]
  },
  {
   "cell_type": "code",
   "execution_count": 24,
   "id": "d8cfc7c8",
   "metadata": {},
   "outputs": [],
   "source": [
    "cpos = [(6.20, 3.00, 7.50),\n",
    "        (0.16, 0.13, 2.65),\n",
    "        (-0.28, 0.94, -0.21)]"
   ]
  },
  {
   "cell_type": "code",
   "execution_count": 25,
   "id": "654fecad",
   "metadata": {},
   "outputs": [
    {
     "data": {
      "application/vnd.jupyter.widget-view+json": {
       "model_id": "df52afc9086241eb80524ddcffad1ece",
       "version_major": 2,
       "version_minor": 0
      },
      "text/plain": [
       "Widget(value=\"<iframe src='http://localhost:51054/index.html?ui=P_0x147b38400_5&reconnect=auto' style='width: …"
      ]
     },
     "metadata": {},
     "output_type": "display_data"
    }
   ],
   "source": [
    "mesh.plot(scalars='my point values', show_edges=True, cpos=cpos, jupyter_backend='client')"
   ]
  },
  {
   "cell_type": "code",
   "execution_count": 26,
   "id": "b98c3854",
   "metadata": {},
   "outputs": [
    {
     "data": {
      "application/vnd.jupyter.widget-view+json": {
       "model_id": "776ff8e1e0174b069bde330788df2d5a",
       "version_major": 2,
       "version_minor": 0
      },
      "text/plain": [
       "Widget(value=\"<iframe src='http://localhost:51054/index.html?ui=P_0x1687f3040_5&reconnect=auto' style='width: …"
      ]
     },
     "metadata": {},
     "output_type": "display_data"
    }
   ],
   "source": [
    "mesh.cell_data['my cell values'] = np.arange(mesh.n_cells)\n",
    "mesh.plot(scalars='my cell values', cpos=cpos, show_edges=True)"
   ]
  },
  {
   "cell_type": "code",
   "execution_count": 27,
   "id": "9a3ed3e8",
   "metadata": {},
   "outputs": [
    {
     "data": {
      "text/html": [
       "<table><tr><th>Header</th><th>Data Arrays</th></tr><tr><td>\n",
       "<table>\n",
       "<tr><th>UniformGrid</th><th>Information</th></tr>\n",
       "<tr><td>N Cells</td><td>729</td></tr>\n",
       "<tr><td>N Points</td><td>1000</td></tr>\n",
       "<tr><td>X Bounds</td><td>0.000e+00, 9.000e+00</td></tr>\n",
       "<tr><td>Y Bounds</td><td>0.000e+00, 9.000e+00</td></tr>\n",
       "<tr><td>Z Bounds</td><td>0.000e+00, 9.000e+00</td></tr>\n",
       "<tr><td>Dimensions</td><td>10, 10, 10</td></tr>\n",
       "<tr><td>Spacing</td><td>1.000e+00, 1.000e+00, 1.000e+00</td></tr>\n",
       "<tr><td>N Arrays</td><td>2</td></tr>\n",
       "</table>\n",
       "\n",
       "</td><td>\n",
       "<table>\n",
       "<tr><th>Name</th><th>Field</th><th>Type</th><th>N Comp</th><th>Min</th><th>Max</th></tr>\n",
       "<tr><td><b>Spatial Point Data</b></td><td>Points</td><td>float64</td><td>1</td><td>0.000e+00</td><td>7.290e+02</td></tr>\n",
       "<tr><td>Spatial Cell Data</td><td>Cells</td><td>float64</td><td>1</td><td>0.000e+00</td><td>5.120e+02</td></tr>\n",
       "</table>\n",
       "\n",
       "</td></tr> </table>"
      ],
      "text/plain": [
       "UniformGrid (0x16878b640)\n",
       "  N Cells:      729\n",
       "  N Points:     1000\n",
       "  X Bounds:     0.000e+00, 9.000e+00\n",
       "  Y Bounds:     0.000e+00, 9.000e+00\n",
       "  Z Bounds:     0.000e+00, 9.000e+00\n",
       "  Dimensions:   10, 10, 10\n",
       "  Spacing:      1.000e+00, 1.000e+00, 1.000e+00\n",
       "  N Arrays:     2"
      ]
     },
     "execution_count": 27,
     "metadata": {},
     "output_type": "execute_result"
    }
   ],
   "source": [
    "uni = examples.load_uniform()\n",
    "uni"
   ]
  },
  {
   "cell_type": "code",
   "execution_count": 28,
   "id": "6ddf49aa",
   "metadata": {},
   "outputs": [
    {
     "data": {
      "application/vnd.jupyter.widget-view+json": {
       "model_id": "2589858d07b045829542e470db191c7a",
       "version_major": 2,
       "version_minor": 0
      },
      "text/plain": [
       "Widget(value=\"<iframe src='http://localhost:51054/index.html?ui=P_0x16913f370_6&reconnect=auto' style='width: …"
      ]
     },
     "metadata": {},
     "output_type": "display_data"
    }
   ],
   "source": [
    "pl = pv.Plotter(shape=(1, 2), border=False)\n",
    "pl.add_mesh(uni, scalars='Spatial Point Data')\n",
    "pl.subplot(0, 1)\n",
    "pl.add_mesh(uni, scalars='Spatial Cell Data')\n",
    "pl.show()"
   ]
  },
  {
   "cell_type": "markdown",
   "id": "6702a8ad",
   "metadata": {},
   "source": [
    "# Assigning Scalars to a Mesh"
   ]
  },
  {
   "cell_type": "code",
   "execution_count": 29,
   "id": "7e8200c6",
   "metadata": {},
   "outputs": [
    {
     "data": {
      "text/html": [
       "<table><tr><th>Header</th><th>Data Arrays</th></tr><tr><td>\n",
       "<table>\n",
       "<tr><th>PolyData</th><th>Information</th></tr>\n",
       "<tr><td>N Cells</td><td>6</td></tr>\n",
       "<tr><td>N Points</td><td>8</td></tr>\n",
       "<tr><td>N Strips</td><td>0</td></tr>\n",
       "<tr><td>X Bounds</td><td>-5.000e-01, 5.000e-01</td></tr>\n",
       "<tr><td>Y Bounds</td><td>-5.000e-01, 5.000e-01</td></tr>\n",
       "<tr><td>Z Bounds</td><td>-5.000e-01, 5.000e-01</td></tr>\n",
       "<tr><td>N Arrays</td><td>3</td></tr>\n",
       "</table>\n",
       "\n",
       "</td><td>\n",
       "<table>\n",
       "<tr><th>Name</th><th>Field</th><th>Type</th><th>N Comp</th><th>Min</th><th>Max</th></tr>\n",
       "<tr><td>Normals</td><td>Points</td><td>float32</td><td>3</td><td>-1.000e+00</td><td>1.000e+00</td></tr>\n",
       "<tr><td>TCoords</td><td>Points</td><td>float32</td><td>2</td><td>-1.000e+00</td><td>1.000e+00</td></tr>\n",
       "<tr><td>FaceIndex</td><td>Cells</td><td>int64</td><td>1</td><td>0.000e+00</td><td>5.000e+00</td></tr>\n",
       "</table>\n",
       "\n",
       "</td></tr> </table>"
      ],
      "text/plain": [
       "PolyData (0x1691c1960)\n",
       "  N Cells:    6\n",
       "  N Points:   8\n",
       "  N Strips:   0\n",
       "  X Bounds:   -5.000e-01, 5.000e-01\n",
       "  Y Bounds:   -5.000e-01, 5.000e-01\n",
       "  Z Bounds:   -5.000e-01, 5.000e-01\n",
       "  N Arrays:   3"
      ]
     },
     "execution_count": 29,
     "metadata": {},
     "output_type": "execute_result"
    }
   ],
   "source": [
    "cube = pv.Cube()\n",
    "cube"
   ]
  },
  {
   "cell_type": "code",
   "execution_count": 30,
   "id": "7cc5af0d",
   "metadata": {},
   "outputs": [
    {
     "data": {
      "text/html": [
       "<table><tr><th>Header</th><th>Data Arrays</th></tr><tr><td>\n",
       "<table>\n",
       "<tr><th>PolyData</th><th>Information</th></tr>\n",
       "<tr><td>N Cells</td><td>6</td></tr>\n",
       "<tr><td>N Points</td><td>8</td></tr>\n",
       "<tr><td>N Strips</td><td>0</td></tr>\n",
       "<tr><td>X Bounds</td><td>-5.000e-01, 5.000e-01</td></tr>\n",
       "<tr><td>Y Bounds</td><td>-5.000e-01, 5.000e-01</td></tr>\n",
       "<tr><td>Z Bounds</td><td>-5.000e-01, 5.000e-01</td></tr>\n",
       "<tr><td>N Arrays</td><td>4</td></tr>\n",
       "</table>\n",
       "\n",
       "</td><td>\n",
       "<table>\n",
       "<tr><th>Name</th><th>Field</th><th>Type</th><th>N Comp</th><th>Min</th><th>Max</th></tr>\n",
       "<tr><td>Normals</td><td>Points</td><td>float32</td><td>3</td><td>-1.000e+00</td><td>1.000e+00</td></tr>\n",
       "<tr><td>TCoords</td><td>Points</td><td>float32</td><td>2</td><td>-1.000e+00</td><td>1.000e+00</td></tr>\n",
       "<tr><td>FaceIndex</td><td>Cells</td><td>int64</td><td>1</td><td>0.000e+00</td><td>5.000e+00</td></tr>\n",
       "<tr><td><b>mycelldata</b></td><td>Cells</td><td>int32</td><td>1</td><td>0.000e+00</td><td>5.000e+00</td></tr>\n",
       "</table>\n",
       "\n",
       "</td></tr> </table>"
      ],
      "text/plain": [
       "PolyData (0x1691c1960)\n",
       "  N Cells:    6\n",
       "  N Points:   8\n",
       "  N Strips:   0\n",
       "  X Bounds:   -5.000e-01, 5.000e-01\n",
       "  Y Bounds:   -5.000e-01, 5.000e-01\n",
       "  Z Bounds:   -5.000e-01, 5.000e-01\n",
       "  N Arrays:   4"
      ]
     },
     "execution_count": 30,
     "metadata": {},
     "output_type": "execute_result"
    }
   ],
   "source": [
    "cube.cell_data['mycelldata'] = np.arange(6, dtype=np.int32)\n",
    "cube"
   ]
  },
  {
   "cell_type": "code",
   "execution_count": 31,
   "id": "747ec767",
   "metadata": {},
   "outputs": [
    {
     "data": {
      "text/html": [
       "<table><tr><th>Header</th><th>Data Arrays</th></tr><tr><td>\n",
       "<table>\n",
       "<tr><th>PolyData</th><th>Information</th></tr>\n",
       "<tr><td>N Cells</td><td>6</td></tr>\n",
       "<tr><td>N Points</td><td>8</td></tr>\n",
       "<tr><td>N Strips</td><td>0</td></tr>\n",
       "<tr><td>X Bounds</td><td>-5.000e-01, 5.000e-01</td></tr>\n",
       "<tr><td>Y Bounds</td><td>-5.000e-01, 5.000e-01</td></tr>\n",
       "<tr><td>Z Bounds</td><td>-5.000e-01, 5.000e-01</td></tr>\n",
       "<tr><td>N Arrays</td><td>4</td></tr>\n",
       "</table>\n",
       "\n",
       "</td><td>\n",
       "<table>\n",
       "<tr><th>Name</th><th>Field</th><th>Type</th><th>N Comp</th><th>Min</th><th>Max</th></tr>\n",
       "<tr><td>Normals</td><td>Points</td><td>float32</td><td>3</td><td>-1.000e+00</td><td>1.000e+00</td></tr>\n",
       "<tr><td>TCoords</td><td>Points</td><td>float32</td><td>2</td><td>-1.000e+00</td><td>1.000e+00</td></tr>\n",
       "<tr><td><b>mypointdata</b></td><td>Points</td><td>int32</td><td>1</td><td>0.000e+00</td><td>7.000e+00</td></tr>\n",
       "<tr><td>FaceIndex</td><td>Cells</td><td>int64</td><td>1</td><td>0.000e+00</td><td>5.000e+00</td></tr>\n",
       "</table>\n",
       "\n",
       "</td></tr> </table>"
      ],
      "text/plain": [
       "PolyData (0x1691c2380)\n",
       "  N Cells:    6\n",
       "  N Points:   8\n",
       "  N Strips:   0\n",
       "  X Bounds:   -5.000e-01, 5.000e-01\n",
       "  Y Bounds:   -5.000e-01, 5.000e-01\n",
       "  Z Bounds:   -5.000e-01, 5.000e-01\n",
       "  N Arrays:   4"
      ]
     },
     "execution_count": 31,
     "metadata": {},
     "output_type": "execute_result"
    }
   ],
   "source": [
    "other_cube = pv.Cube()\n",
    "other_cube.point_data['mypointdata'] = np.arange(8, dtype=np.int32)\n",
    "other_cube"
   ]
  },
  {
   "cell_type": "code",
   "execution_count": 32,
   "id": "35bd2924",
   "metadata": {},
   "outputs": [
    {
     "data": {
      "application/vnd.jupyter.widget-view+json": {
       "model_id": "d235335113d04c7ebe0e4706b5d28929",
       "version_major": 2,
       "version_minor": 0
      },
      "text/plain": [
       "Widget(value=\"<iframe src='http://localhost:51054/index.html?ui=P_0x1692a4d90_7&reconnect=auto' style='width: …"
      ]
     },
     "metadata": {},
     "output_type": "display_data"
    }
   ],
   "source": [
    "pl = pv.Plotter(shape=(1,2), border_width=1)\n",
    "pl.add_mesh(cube, cmap='coolwarm')\n",
    "pl.subplot(0, 1)\n",
    "pl.add_mesh(other_cube, cmap='coolwarm')\n",
    "pl.show()"
   ]
  },
  {
   "cell_type": "markdown",
   "id": "228b9bdb",
   "metadata": {},
   "source": [
    "# Basic API Usage"
   ]
  },
  {
   "cell_type": "code",
   "execution_count": 33,
   "id": "1bce312b",
   "metadata": {},
   "outputs": [
    {
     "data": {
      "text/plain": [
       "<vtkmodules.vtkCommonDataModel.vtkPolyData(0x17b2fe530) at 0x1691c3040>"
      ]
     },
     "execution_count": 33,
     "metadata": {},
     "output_type": "execute_result"
    }
   ],
   "source": [
    "import vtk\n",
    "import pyvista as pv\n",
    "\n",
    "stuff = vtk.vtkPolyData()\n",
    "stuff"
   ]
  },
  {
   "cell_type": "code",
   "execution_count": 34,
   "id": "8c9b0f0a",
   "metadata": {},
   "outputs": [
    {
     "data": {
      "text/html": [
       "\n",
       "<table>\n",
       "<tr><th>PolyData</th><th>Information</th></tr>\n",
       "<tr><td>N Cells</td><td>0</td></tr>\n",
       "<tr><td>N Points</td><td>0</td></tr>\n",
       "<tr><td>N Strips</td><td>0</td></tr>\n",
       "<tr><td>X Bounds</td><td>1.000e+299, -1.000e+299</td></tr>\n",
       "<tr><td>Y Bounds</td><td>1.000e+299, -1.000e+299</td></tr>\n",
       "<tr><td>Z Bounds</td><td>1.000e+299, -1.000e+299</td></tr>\n",
       "<tr><td>N Arrays</td><td>0</td></tr>\n",
       "</table>\n",
       "\n"
      ],
      "text/plain": [
       "PolyData (0x169155000)\n",
       "  N Cells:    0\n",
       "  N Points:   0\n",
       "  N Strips:   0\n",
       "  X Bounds:   1.000e+299, -1.000e+299\n",
       "  Y Bounds:   1.000e+299, -1.000e+299\n",
       "  Z Bounds:   1.000e+299, -1.000e+299\n",
       "  N Arrays:   0"
      ]
     },
     "execution_count": 34,
     "metadata": {},
     "output_type": "execute_result"
    }
   ],
   "source": [
    "better = pv.wrap(stuff)\n",
    "better"
   ]
  },
  {
   "cell_type": "code",
   "execution_count": 35,
   "id": "58a93a3d",
   "metadata": {},
   "outputs": [],
   "source": [
    "import pyvista as pv\n",
    "from pyvista import examples\n",
    "import numpy as np"
   ]
  },
  {
   "cell_type": "code",
   "execution_count": 36,
   "id": "dafacb1f",
   "metadata": {},
   "outputs": [
    {
     "data": {
      "text/html": [
       "\n",
       "<table>\n",
       "<tr><th>PolyData</th><th>Information</th></tr>\n",
       "<tr><td>N Cells</td><td>2452</td></tr>\n",
       "<tr><td>N Points</td><td>1335</td></tr>\n",
       "<tr><td>N Strips</td><td>0</td></tr>\n",
       "<tr><td>X Bounds</td><td>1.391e+02, 1.655e+03</td></tr>\n",
       "<tr><td>Y Bounds</td><td>3.209e+01, 1.320e+03</td></tr>\n",
       "<tr><td>Z Bounds</td><td>-1.774e+01, 2.821e+02</td></tr>\n",
       "<tr><td>N Arrays</td><td>0</td></tr>\n",
       "</table>\n",
       "\n"
      ],
      "text/plain": [
       "PolyData (0x17e59c580)\n",
       "  N Cells:    2452\n",
       "  N Points:   1335\n",
       "  N Strips:   0\n",
       "  X Bounds:   1.391e+02, 1.655e+03\n",
       "  Y Bounds:   3.209e+01, 1.320e+03\n",
       "  Z Bounds:   -1.774e+01, 2.821e+02\n",
       "  N Arrays:   0"
      ]
     },
     "execution_count": 36,
     "metadata": {},
     "output_type": "execute_result"
    }
   ],
   "source": [
    "mesh = examples.load_airplane()\n",
    "mesh"
   ]
  },
  {
   "cell_type": "code",
   "execution_count": 37,
   "id": "9da9c4fb",
   "metadata": {},
   "outputs": [
    {
     "data": {
      "text/plain": [
       "2452"
      ]
     },
     "execution_count": 37,
     "metadata": {},
     "output_type": "execute_result"
    }
   ],
   "source": [
    "mesh.n_cells"
   ]
  },
  {
   "cell_type": "code",
   "execution_count": 38,
   "id": "c3ad7d4e",
   "metadata": {},
   "outputs": [
    {
     "data": {
      "text/plain": [
       "1335"
      ]
     },
     "execution_count": 38,
     "metadata": {},
     "output_type": "execute_result"
    }
   ],
   "source": [
    "mesh.n_points"
   ]
  },
  {
   "cell_type": "code",
   "execution_count": 39,
   "id": "227595b1",
   "metadata": {},
   "outputs": [
    {
     "data": {
      "text/plain": [
       "0"
      ]
     },
     "execution_count": 39,
     "metadata": {},
     "output_type": "execute_result"
    }
   ],
   "source": [
    "mesh.n_arrays"
   ]
  },
  {
   "cell_type": "code",
   "execution_count": 40,
   "id": "0a6d69dd",
   "metadata": {},
   "outputs": [
    {
     "data": {
      "text/plain": [
       "(139.06100463867188,\n",
       " 1654.9300537109375,\n",
       " 32.09429931640625,\n",
       " 1319.949951171875,\n",
       " -17.741199493408203,\n",
       " 282.1300048828125)"
      ]
     },
     "execution_count": 40,
     "metadata": {},
     "output_type": "execute_result"
    }
   ],
   "source": [
    "mesh.bounds"
   ]
  },
  {
   "cell_type": "code",
   "execution_count": 41,
   "id": "e0cbee42",
   "metadata": {},
   "outputs": [
    {
     "data": {
      "text/plain": [
       "[896.9955291748047, 676.0221252441406, 132.19440269470215]"
      ]
     },
     "execution_count": 41,
     "metadata": {},
     "output_type": "execute_result"
    }
   ],
   "source": [
    "mesh.center"
   ]
  },
  {
   "cell_type": "code",
   "execution_count": 42,
   "id": "fba300e8",
   "metadata": {},
   "outputs": [
    {
     "data": {
      "text/plain": [
       "True"
      ]
     },
     "execution_count": 42,
     "metadata": {},
     "output_type": "execute_result"
    }
   ],
   "source": [
    "the_pts = mesh.points\n",
    "isinstance(the_pts, np.ndarray)"
   ]
  },
  {
   "cell_type": "code",
   "execution_count": 43,
   "id": "cbdca523",
   "metadata": {},
   "outputs": [
    {
     "data": {
      "text/plain": [
       "pyvista_ndarray([[896.994 ,  48.7601,  82.2656],\n",
       "                 [906.593 ,  48.7601,  80.7452],\n",
       "                 [907.539 ,  55.4902,  83.6581],\n",
       "                 [896.994 ,  55.4902,  85.3283],\n",
       "                 [896.994 ,  42.8477,  77.825 ]], dtype=float32)"
      ]
     },
     "execution_count": 43,
     "metadata": {},
     "output_type": "execute_result"
    }
   ],
   "source": [
    "the_pts[0:5, :]"
   ]
  },
  {
   "cell_type": "code",
   "execution_count": 44,
   "id": "496e68d2",
   "metadata": {},
   "outputs": [],
   "source": [
    "mesh = examples.load_uniform()"
   ]
  },
  {
   "cell_type": "code",
   "execution_count": 45,
   "id": "61dadc99",
   "metadata": {},
   "outputs": [
    {
     "name": "stdout",
     "output_type": "stream",
     "text": [
      "<class 'pyvista.core.pyvista_ndarray.pyvista_ndarray'>\n"
     ]
    }
   ],
   "source": [
    "arr = mesh.point_data['Spatial Point Data']\n",
    "print(type(arr))"
   ]
  },
  {
   "cell_type": "code",
   "execution_count": null,
   "id": "0a00b46f",
   "metadata": {},
   "outputs": [],
   "source": []
  }
 ],
 "metadata": {
  "kernelspec": {
   "display_name": "Python 3 (ipykernel)",
   "language": "python",
   "name": "python3"
  },
  "language_info": {
   "codemirror_mode": {
    "name": "ipython",
    "version": 3
   },
   "file_extension": ".py",
   "mimetype": "text/x-python",
   "name": "python",
   "nbconvert_exporter": "python",
   "pygments_lexer": "ipython3",
   "version": "3.10.10"
  }
 },
 "nbformat": 4,
 "nbformat_minor": 5
}
