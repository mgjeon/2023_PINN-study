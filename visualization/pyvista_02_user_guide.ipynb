{
 "cells": [
  {
   "cell_type": "markdown",
   "id": "ecd91686",
   "metadata": {},
   "source": [
    "# Jupyter Notebook Plotting"
   ]
  },
  {
   "cell_type": "code",
   "execution_count": 1,
   "id": "b1f82750",
   "metadata": {},
   "outputs": [],
   "source": [
    "import pyvista as pv"
   ]
  },
  {
   "cell_type": "code",
   "execution_count": 2,
   "id": "b5d4b9b5",
   "metadata": {},
   "outputs": [],
   "source": [
    "sphere = pv.Sphere()"
   ]
  },
  {
   "cell_type": "code",
   "execution_count": 3,
   "id": "10ddb886",
   "metadata": {},
   "outputs": [
    {
     "data": {
      "text/html": [
       "<table><tr><th>Header</th><th>Data Arrays</th></tr><tr><td>\n",
       "<table>\n",
       "<tr><th>PolyData</th><th>Information</th></tr>\n",
       "<tr><td>N Cells</td><td>1680</td></tr>\n",
       "<tr><td>N Points</td><td>842</td></tr>\n",
       "<tr><td>N Strips</td><td>0</td></tr>\n",
       "<tr><td>X Bounds</td><td>-4.993e-01, 4.993e-01</td></tr>\n",
       "<tr><td>Y Bounds</td><td>-4.965e-01, 4.965e-01</td></tr>\n",
       "<tr><td>Z Bounds</td><td>-5.000e-01, 5.000e-01</td></tr>\n",
       "<tr><td>N Arrays</td><td>1</td></tr>\n",
       "</table>\n",
       "\n",
       "</td><td>\n",
       "<table>\n",
       "<tr><th>Name</th><th>Field</th><th>Type</th><th>N Comp</th><th>Min</th><th>Max</th></tr>\n",
       "<tr><td>Normals</td><td>Points</td><td>float32</td><td>3</td><td>-1.000e+00</td><td>1.000e+00</td></tr>\n",
       "</table>\n",
       "\n",
       "</td></tr> </table>"
      ],
      "text/plain": [
       "PolyData (0x14999a260)\n",
       "  N Cells:    1680\n",
       "  N Points:   842\n",
       "  N Strips:   0\n",
       "  X Bounds:   -4.993e-01, 4.993e-01\n",
       "  Y Bounds:   -4.965e-01, 4.965e-01\n",
       "  Z Bounds:   -5.000e-01, 5.000e-01\n",
       "  N Arrays:   1"
      ]
     },
     "execution_count": 3,
     "metadata": {},
     "output_type": "execute_result"
    }
   ],
   "source": [
    "sphere"
   ]
  },
  {
   "cell_type": "code",
   "execution_count": 4,
   "id": "1f0e494c",
   "metadata": {
    "scrolled": false
   },
   "outputs": [
    {
     "data": {
      "application/vnd.jupyter.widget-view+json": {
       "model_id": "a24f83a949aa4cac8ce1a69f1374a693",
       "version_major": 2,
       "version_minor": 0
      },
      "text/plain": [
       "Widget(value=\"<iframe src='http://localhost:64496/index.html?ui=P_0x1499ae2f0_0&reconnect=auto' style='width: …"
      ]
     },
     "metadata": {},
     "output_type": "display_data"
    }
   ],
   "source": [
    "sphere.plot(jupyter_backend='trame')"
   ]
  },
  {
   "cell_type": "code",
   "execution_count": 5,
   "id": "4b1d743b",
   "metadata": {},
   "outputs": [
    {
     "data": {
      "application/vnd.jupyter.widget-view+json": {
       "model_id": "4ecfad84b8c640938d0c90ad209b1b99",
       "version_major": 2,
       "version_minor": 0
      },
      "text/plain": [
       "Widget(value=\"<iframe src='http://localhost:64496/index.html?ui=P_0x14a7a2a10_1&reconnect=auto' style='width: …"
      ]
     },
     "metadata": {},
     "output_type": "display_data"
    }
   ],
   "source": [
    "plotter = pv.Plotter(notebook=True)\n",
    "plotter.add_mesh(sphere)\n",
    "plotter.show(jupyter_backend='trame')"
   ]
  },
  {
   "cell_type": "code",
   "execution_count": 6,
   "id": "d2c834a1",
   "metadata": {},
   "outputs": [],
   "source": [
    "import pyvista as pv\n",
    "pv.set_jupyter_backend('trame')"
   ]
  },
  {
   "cell_type": "code",
   "execution_count": 7,
   "id": "10e4a322",
   "metadata": {},
   "outputs": [
    {
     "data": {
      "application/vnd.jupyter.widget-view+json": {
       "model_id": "2a64dd4c71e14c74ad113f12fe68c09c",
       "version_major": 2,
       "version_minor": 0
      },
      "text/plain": [
       "Widget(value=\"<iframe src='http://localhost:64496/index.html?ui=P_0x14a7a1d20_2&reconnect=auto' style='width: …"
      ]
     },
     "metadata": {},
     "output_type": "display_data"
    }
   ],
   "source": [
    "import pyvista as pv\n",
    "pv.set_jupyter_backend('client')\n",
    "pv.Cone().plot()"
   ]
  },
  {
   "cell_type": "code",
   "execution_count": 8,
   "id": "cabe148d",
   "metadata": {
    "scrolled": false
   },
   "outputs": [
    {
     "data": {
      "application/vnd.jupyter.widget-view+json": {
       "model_id": "91ba130ce72647b8a542c6266234351e",
       "version_major": 2,
       "version_minor": 0
      },
      "text/plain": [
       "Widget(value=\"<iframe src='http://localhost:64496/index.html?ui=P_0x14a7bec50_2&reconnect=auto' style='width: …"
      ]
     },
     "metadata": {},
     "output_type": "display_data"
    }
   ],
   "source": [
    "import pyvista as pv\n",
    "pv.set_jupyter_backend('trame')\n",
    "\n",
    "pl = pv.Plotter()\n",
    "pl.add_mesh(pv.Cone())\n",
    "pl.show(jupyter_backend='client')"
   ]
  },
  {
   "cell_type": "markdown",
   "id": "7806425b",
   "metadata": {},
   "source": [
    "# What is a Mesh?"
   ]
  },
  {
   "cell_type": "code",
   "execution_count": 9,
   "id": "f1a051a0",
   "metadata": {},
   "outputs": [],
   "source": [
    "import numpy as np\n",
    "import pyvista as pv"
   ]
  },
  {
   "cell_type": "code",
   "execution_count": 10,
   "id": "6268e19b",
   "metadata": {
    "scrolled": true
   },
   "outputs": [
    {
     "data": {
      "text/html": [
       "\n",
       "<table>\n",
       "<tr><th>PolyData</th><th>Information</th></tr>\n",
       "<tr><td>N Cells</td><td>100</td></tr>\n",
       "<tr><td>N Points</td><td>100</td></tr>\n",
       "<tr><td>N Strips</td><td>0</td></tr>\n",
       "<tr><td>X Bounds</td><td>6.255e-03, 9.767e-01</td></tr>\n",
       "<tr><td>Y Bounds</td><td>1.224e-03, 9.717e-01</td></tr>\n",
       "<tr><td>Z Bounds</td><td>5.307e-03, 1.000e+00</td></tr>\n",
       "<tr><td>N Arrays</td><td>0</td></tr>\n",
       "</table>\n",
       "\n"
      ],
      "text/plain": [
       "PolyData (0x15be19cc0)\n",
       "  N Cells:    100\n",
       "  N Points:   100\n",
       "  N Strips:   0\n",
       "  X Bounds:   6.255e-03, 9.767e-01\n",
       "  Y Bounds:   1.224e-03, 9.717e-01\n",
       "  Z Bounds:   5.307e-03, 1.000e+00\n",
       "  N Arrays:   0"
      ]
     },
     "execution_count": 10,
     "metadata": {},
     "output_type": "execute_result"
    }
   ],
   "source": [
    "points = np.random.rand(100, 3)\n",
    "mesh = pv.PolyData(points)\n",
    "mesh"
   ]
  },
  {
   "cell_type": "code",
   "execution_count": 11,
   "id": "b8d4db05",
   "metadata": {},
   "outputs": [
    {
     "data": {
      "text/plain": [
       "pyvista_ndarray([[0.68427554, 0.24870631, 0.39462371],\n",
       "                 [0.72793599, 0.95348073, 0.07548044],\n",
       "                 [0.3419983 , 0.74797352, 0.6619841 ],\n",
       "                 [0.8264077 , 0.77754989, 0.40045829],\n",
       "                 [0.80987631, 0.27872277, 0.99995359],\n",
       "                 [0.06343708, 0.97149187, 0.23886603],\n",
       "                 [0.17338572, 0.75442819, 0.60485917],\n",
       "                 [0.97665727, 0.69835523, 0.69938053],\n",
       "                 [0.54688744, 0.23410483, 0.70091212],\n",
       "                 [0.97533792, 0.49493587, 0.82335404],\n",
       "                 [0.7746202 , 0.13072062, 0.61194626],\n",
       "                 [0.75213776, 0.38458322, 0.22997951],\n",
       "                 [0.42991931, 0.58828508, 0.65346056],\n",
       "                 [0.55761456, 0.74234162, 0.72169183],\n",
       "                 [0.71808597, 0.79110379, 0.07054124],\n",
       "                 [0.77061108, 0.1963933 , 0.82634915],\n",
       "                 [0.06295758, 0.94355222, 0.86599319],\n",
       "                 [0.64947758, 0.96856011, 0.30382742],\n",
       "                 [0.34997898, 0.42655991, 0.01421177],\n",
       "                 [0.46062745, 0.28020279, 0.2598564 ],\n",
       "                 [0.52657393, 0.0067629 , 0.26007244],\n",
       "                 [0.51522945, 0.03798371, 0.6428542 ],\n",
       "                 [0.369548  , 0.10421167, 0.9049418 ],\n",
       "                 [0.47971719, 0.23428444, 0.46645736],\n",
       "                 [0.44993682, 0.66410364, 0.18649025],\n",
       "                 [0.73065089, 0.79181045, 0.04124108],\n",
       "                 [0.59985792, 0.84342153, 0.11338627],\n",
       "                 [0.54760497, 0.09151222, 0.27846689],\n",
       "                 [0.58829219, 0.4293009 , 0.08933684],\n",
       "                 [0.8068601 , 0.93676308, 0.71601416],\n",
       "                 [0.80927141, 0.14074699, 0.2741454 ],\n",
       "                 [0.1409875 , 0.66736768, 0.00530746],\n",
       "                 [0.88176649, 0.79396068, 0.0506423 ],\n",
       "                 [0.56530165, 0.59962046, 0.24729225],\n",
       "                 [0.46546086, 0.86085501, 0.81476545],\n",
       "                 [0.51649525, 0.6315035 , 0.09068392],\n",
       "                 [0.28938726, 0.54260049, 0.04224245],\n",
       "                 [0.36231825, 0.39537238, 0.73534233],\n",
       "                 [0.54894958, 0.58130197, 0.52729139],\n",
       "                 [0.7706554 , 0.49072897, 0.56686224],\n",
       "                 [0.36107709, 0.19616796, 0.33927551],\n",
       "                 [0.10167936, 0.08443763, 0.63779421],\n",
       "                 [0.02154007, 0.17961515, 0.96209045],\n",
       "                 [0.35295635, 0.16356264, 0.63721372],\n",
       "                 [0.59626134, 0.49065077, 0.18275099],\n",
       "                 [0.57277894, 0.67511652, 0.11188294],\n",
       "                 [0.89551716, 0.58454907, 0.01691402],\n",
       "                 [0.30499693, 0.69450361, 0.46524805],\n",
       "                 [0.56424743, 0.15156925, 0.63969759],\n",
       "                 [0.86370499, 0.63083804, 0.40101931],\n",
       "                 [0.8760475 , 0.57372131, 0.34705935],\n",
       "                 [0.96618919, 0.0242862 , 0.28672962],\n",
       "                 [0.85850159, 0.18995847, 0.53421674],\n",
       "                 [0.30386803, 0.1263607 , 0.80485154],\n",
       "                 [0.0361804 , 0.41506243, 0.24589498],\n",
       "                 [0.36629057, 0.18094142, 0.02986935],\n",
       "                 [0.08459787, 0.00122425, 0.51814776],\n",
       "                 [0.01637373, 0.46480613, 0.05825047],\n",
       "                 [0.89276614, 0.68998499, 0.70496764],\n",
       "                 [0.53793463, 0.71826473, 0.49671059],\n",
       "                 [0.00625534, 0.8955829 , 0.49658836],\n",
       "                 [0.44680098, 0.63571071, 0.29007569],\n",
       "                 [0.63425186, 0.67411355, 0.91394335],\n",
       "                 [0.31926907, 0.44202838, 0.43855964],\n",
       "                 [0.30189718, 0.69927396, 0.46734644],\n",
       "                 [0.14273575, 0.55500339, 0.32906262],\n",
       "                 [0.44836852, 0.60919035, 0.82734606],\n",
       "                 [0.37428253, 0.86527812, 0.08515453],\n",
       "                 [0.23967501, 0.18302578, 0.95249216],\n",
       "                 [0.45351877, 0.65217503, 0.45526674],\n",
       "                 [0.43977787, 0.89573686, 0.9941742 ],\n",
       "                 [0.43532274, 0.35731046, 0.97838871],\n",
       "                 [0.1485078 , 0.50045065, 0.92966964],\n",
       "                 [0.70209601, 0.89255091, 0.57431346],\n",
       "                 [0.0763661 , 0.8765745 , 0.2408876 ],\n",
       "                 [0.92705864, 0.05093752, 0.33774714],\n",
       "                 [0.01731372, 0.14042315, 0.48633134],\n",
       "                 [0.36590452, 0.7597898 , 0.21836859],\n",
       "                 [0.06814238, 0.13013079, 0.35188646],\n",
       "                 [0.62443958, 0.70592651, 0.50911966],\n",
       "                 [0.96661557, 0.74601469, 0.34888667],\n",
       "                 [0.55924351, 0.68666589, 0.92344358],\n",
       "                 [0.61104494, 0.94031944, 0.62527629],\n",
       "                 [0.0403833 , 0.9171549 , 0.70122634],\n",
       "                 [0.09193665, 0.63927615, 0.54366629],\n",
       "                 [0.52884005, 0.74498588, 0.1761787 ],\n",
       "                 [0.8897904 , 0.43282403, 0.85985089],\n",
       "                 [0.71423508, 0.43928571, 0.76086578],\n",
       "                 [0.82802346, 0.86294469, 0.8098077 ],\n",
       "                 [0.67331577, 0.26869836, 0.08980541],\n",
       "                 [0.95697296, 0.89910847, 0.060789  ],\n",
       "                 [0.3321141 , 0.12017244, 0.61755475],\n",
       "                 [0.9081689 , 0.74107276, 0.64691016],\n",
       "                 [0.19284681, 0.9717116 , 0.12866445],\n",
       "                 [0.16432437, 0.69418367, 0.2828021 ],\n",
       "                 [0.69207324, 0.95401995, 0.94423086],\n",
       "                 [0.4335209 , 0.81790231, 0.89406173],\n",
       "                 [0.53631035, 0.053293  , 0.07881064],\n",
       "                 [0.22221038, 0.36014006, 0.1482386 ],\n",
       "                 [0.16237725, 0.89415235, 0.95864625]])"
      ]
     },
     "execution_count": 11,
     "metadata": {},
     "output_type": "execute_result"
    }
   ],
   "source": [
    "mesh.points"
   ]
  },
  {
   "cell_type": "code",
   "execution_count": 12,
   "id": "8759bb18",
   "metadata": {},
   "outputs": [
    {
     "data": {
      "application/vnd.jupyter.widget-view+json": {
       "model_id": "73b26800c2db4260a088c3cd04d1513e",
       "version_major": 2,
       "version_minor": 0
      },
      "text/plain": [
       "Widget(value=\"<iframe src='http://localhost:64496/index.html?ui=P_0x15be0bc70_2&reconnect=auto' style='width: …"
      ]
     },
     "metadata": {},
     "output_type": "display_data"
    }
   ],
   "source": [
    "mesh.plot(point_size=10, style='points')"
   ]
  },
  {
   "cell_type": "code",
   "execution_count": 13,
   "id": "e127fd02",
   "metadata": {},
   "outputs": [],
   "source": [
    "from pyvista import examples"
   ]
  },
  {
   "cell_type": "code",
   "execution_count": 14,
   "id": "5690c92a",
   "metadata": {},
   "outputs": [
    {
     "data": {
      "text/html": [
       "<table><tr><th>Header</th><th>Data Arrays</th></tr><tr><td>\n",
       "<table>\n",
       "<tr><th>UnstructuredGrid</th><th>Information</th></tr>\n",
       "<tr><td>N Cells</td><td>40</td></tr>\n",
       "<tr><td>N Points</td><td>99</td></tr>\n",
       "<tr><td>X Bounds</td><td>0.000e+00, 1.000e+00</td></tr>\n",
       "<tr><td>Y Bounds</td><td>0.000e+00, 1.000e+00</td></tr>\n",
       "<tr><td>Z Bounds</td><td>0.000e+00, 5.000e+00</td></tr>\n",
       "<tr><td>N Arrays</td><td>3</td></tr>\n",
       "</table>\n",
       "\n",
       "</td><td>\n",
       "<table>\n",
       "<tr><th>Name</th><th>Field</th><th>Type</th><th>N Comp</th><th>Min</th><th>Max</th></tr>\n",
       "<tr><td>sample_point_scalars</td><td>Points</td><td>int64</td><td>1</td><td>1.000e+00</td><td>3.020e+02</td></tr>\n",
       "<tr><td>VTKorigID</td><td>Points</td><td>int64</td><td>1</td><td>0.000e+00</td><td>9.800e+01</td></tr>\n",
       "<tr><td><b>sample_cell_scalars</b></td><td>Cells</td><td>int32</td><td>1</td><td>1.000e+00</td><td>4.000e+01</td></tr>\n",
       "</table>\n",
       "\n",
       "</td></tr> </table>"
      ],
      "text/plain": [
       "UnstructuredGrid (0x16add7ac0)\n",
       "  N Cells:    40\n",
       "  N Points:   99\n",
       "  X Bounds:   0.000e+00, 1.000e+00\n",
       "  Y Bounds:   0.000e+00, 1.000e+00\n",
       "  Z Bounds:   0.000e+00, 5.000e+00\n",
       "  N Arrays:   3"
      ]
     },
     "execution_count": 14,
     "metadata": {},
     "output_type": "execute_result"
    }
   ],
   "source": [
    "mesh = examples.load_hexbeam()\n",
    "mesh"
   ]
  },
  {
   "cell_type": "code",
   "execution_count": 15,
   "id": "aae09efa",
   "metadata": {},
   "outputs": [
    {
     "data": {
      "text/plain": [
       "pyvista_ndarray([[0. , 0. , 0. ],\n",
       "                 [1. , 0. , 0. ],\n",
       "                 [0.5, 0. , 0. ],\n",
       "                 [1. , 1. , 0. ],\n",
       "                 [1. , 0.5, 0. ],\n",
       "                 [0. , 1. , 0. ],\n",
       "                 [0.5, 1. , 0. ],\n",
       "                 [0. , 0.5, 0. ],\n",
       "                 [0.5, 0.5, 0. ],\n",
       "                 [0. , 0. , 5. ],\n",
       "                 [1. , 0. , 5. ],\n",
       "                 [0.5, 0. , 5. ],\n",
       "                 [1. , 1. , 5. ],\n",
       "                 [1. , 0.5, 5. ],\n",
       "                 [0. , 1. , 5. ],\n",
       "                 [0.5, 1. , 5. ],\n",
       "                 [0. , 0.5, 5. ],\n",
       "                 [0.5, 0.5, 5. ],\n",
       "                 [1. , 0. , 0.5],\n",
       "                 [1. , 0. , 1. ],\n",
       "                 [1. , 0. , 1.5],\n",
       "                 [1. , 0. , 2. ],\n",
       "                 [1. , 0. , 2.5],\n",
       "                 [1. , 0. , 3. ],\n",
       "                 [1. , 0. , 3.5],\n",
       "                 [1. , 0. , 4. ],\n",
       "                 [1. , 0. , 4.5],\n",
       "                 [0. , 0. , 0.5],\n",
       "                 [0. , 0. , 1. ],\n",
       "                 [0. , 0. , 1.5],\n",
       "                 [0. , 0. , 2. ],\n",
       "                 [0. , 0. , 2.5],\n",
       "                 [0. , 0. , 3. ],\n",
       "                 [0. , 0. , 3.5],\n",
       "                 [0. , 0. , 4. ],\n",
       "                 [0. , 0. , 4.5],\n",
       "                 [0.5, 0. , 0.5],\n",
       "                 [0.5, 0. , 1. ],\n",
       "                 [0.5, 0. , 1.5],\n",
       "                 [0.5, 0. , 2. ],\n",
       "                 [0.5, 0. , 2.5],\n",
       "                 [0.5, 0. , 3. ],\n",
       "                 [0.5, 0. , 3.5],\n",
       "                 [0.5, 0. , 4. ],\n",
       "                 [0.5, 0. , 4.5],\n",
       "                 [1. , 1. , 0.5],\n",
       "                 [1. , 1. , 1. ],\n",
       "                 [1. , 1. , 1.5],\n",
       "                 [1. , 1. , 2. ],\n",
       "                 [1. , 1. , 2.5],\n",
       "                 [1. , 1. , 3. ],\n",
       "                 [1. , 1. , 3.5],\n",
       "                 [1. , 1. , 4. ],\n",
       "                 [1. , 1. , 4.5],\n",
       "                 [1. , 0.5, 0.5],\n",
       "                 [1. , 0.5, 1. ],\n",
       "                 [1. , 0.5, 1.5],\n",
       "                 [1. , 0.5, 2. ],\n",
       "                 [1. , 0.5, 2.5],\n",
       "                 [1. , 0.5, 3. ],\n",
       "                 [1. , 0.5, 3.5],\n",
       "                 [1. , 0.5, 4. ],\n",
       "                 [1. , 0.5, 4.5],\n",
       "                 [0. , 1. , 0.5],\n",
       "                 [0. , 1. , 1. ],\n",
       "                 [0. , 1. , 1.5],\n",
       "                 [0. , 1. , 2. ],\n",
       "                 [0. , 1. , 2.5],\n",
       "                 [0. , 1. , 3. ],\n",
       "                 [0. , 1. , 3.5],\n",
       "                 [0. , 1. , 4. ],\n",
       "                 [0. , 1. , 4.5],\n",
       "                 [0.5, 1. , 0.5],\n",
       "                 [0.5, 1. , 1. ],\n",
       "                 [0.5, 1. , 1.5],\n",
       "                 [0.5, 1. , 2. ],\n",
       "                 [0.5, 1. , 2.5],\n",
       "                 [0.5, 1. , 3. ],\n",
       "                 [0.5, 1. , 3.5],\n",
       "                 [0.5, 1. , 4. ],\n",
       "                 [0.5, 1. , 4.5],\n",
       "                 [0. , 0.5, 0.5],\n",
       "                 [0. , 0.5, 1. ],\n",
       "                 [0. , 0.5, 1.5],\n",
       "                 [0. , 0.5, 2. ],\n",
       "                 [0. , 0.5, 2.5],\n",
       "                 [0. , 0.5, 3. ],\n",
       "                 [0. , 0.5, 3.5],\n",
       "                 [0. , 0.5, 4. ],\n",
       "                 [0. , 0.5, 4.5],\n",
       "                 [0.5, 0.5, 0.5],\n",
       "                 [0.5, 0.5, 1. ],\n",
       "                 [0.5, 0.5, 1.5],\n",
       "                 [0.5, 0.5, 2. ],\n",
       "                 [0.5, 0.5, 2.5],\n",
       "                 [0.5, 0.5, 3. ],\n",
       "                 [0.5, 0.5, 3.5],\n",
       "                 [0.5, 0.5, 4. ],\n",
       "                 [0.5, 0.5, 4.5]])"
      ]
     },
     "execution_count": 15,
     "metadata": {},
     "output_type": "execute_result"
    }
   ],
   "source": [
    "mesh.points"
   ]
  },
  {
   "cell_type": "code",
   "execution_count": 16,
   "id": "f69f2289",
   "metadata": {},
   "outputs": [
    {
     "data": {
      "application/vnd.jupyter.widget-view+json": {
       "model_id": "e4ace8ea7c274318a41193d75661bce0",
       "version_major": 2,
       "version_minor": 0
      },
      "text/plain": [
       "Widget(value=\"<iframe src='http://localhost:64496/index.html?ui=P_0x16ae0ded0_3&reconnect=auto' style='width: …"
      ]
     },
     "metadata": {},
     "output_type": "display_data"
    }
   ],
   "source": [
    "cpos = [(6.20, 3.00, 7.50),\n",
    "        (0.16, 0.13, 2.65),\n",
    "        (-0.28, 0.94, -0.21)]\n",
    "\n",
    "pl = pv.Plotter()\n",
    "pl.add_mesh(mesh, show_edges=True, color='white')\n",
    "pl.add_points(mesh.points, color='red', point_size=20)\n",
    "pl.camera_position = cpos\n",
    "pl.show()"
   ]
  },
  {
   "cell_type": "code",
   "execution_count": 17,
   "id": "41a4bb1f",
   "metadata": {},
   "outputs": [
    {
     "data": {
      "text/html": [
       "<table><tr><th>Header</th><th>Data Arrays</th></tr><tr><td>\n",
       "<table>\n",
       "<tr><th>PolyData</th><th>Information</th></tr>\n",
       "<tr><td>N Cells</td><td>1000</td></tr>\n",
       "<tr><td>N Points</td><td>872</td></tr>\n",
       "<tr><td>N Strips</td><td>0</td></tr>\n",
       "<tr><td>X Bounds</td><td>-1.316e-01, 1.802e-01</td></tr>\n",
       "<tr><td>Y Bounds</td><td>-1.205e-01, 1.877e-01</td></tr>\n",
       "<tr><td>Z Bounds</td><td>-1.430e-01, 9.851e-02</td></tr>\n",
       "<tr><td>N Arrays</td><td>1</td></tr>\n",
       "</table>\n",
       "\n",
       "</td><td>\n",
       "<table>\n",
       "<tr><th>Name</th><th>Field</th><th>Type</th><th>N Comp</th><th>Min</th><th>Max</th></tr>\n",
       "<tr><td>Normals</td><td>Points</td><td>float32</td><td>3</td><td>-9.998e-01</td><td>9.977e-01</td></tr>\n",
       "</table>\n",
       "\n",
       "</td></tr> </table>"
      ],
      "text/plain": [
       "PolyData (0x16ae41300)\n",
       "  N Cells:    1000\n",
       "  N Points:   872\n",
       "  N Strips:   0\n",
       "  X Bounds:   -1.316e-01, 1.802e-01\n",
       "  Y Bounds:   -1.205e-01, 1.877e-01\n",
       "  Z Bounds:   -1.430e-01, 9.851e-02\n",
       "  N Arrays:   1"
      ]
     },
     "execution_count": 17,
     "metadata": {},
     "output_type": "execute_result"
    }
   ],
   "source": [
    "mesh = examples.download_bunny_coarse()\n",
    "mesh"
   ]
  },
  {
   "cell_type": "code",
   "execution_count": 18,
   "id": "fec46cfa",
   "metadata": {},
   "outputs": [
    {
     "data": {
      "text/plain": [
       "(872, 3)"
      ]
     },
     "execution_count": 18,
     "metadata": {},
     "output_type": "execute_result"
    }
   ],
   "source": [
    "(mesh.points).shape"
   ]
  },
  {
   "cell_type": "code",
   "execution_count": 19,
   "id": "d5e36953",
   "metadata": {},
   "outputs": [
    {
     "data": {
      "application/vnd.jupyter.widget-view+json": {
       "model_id": "ba9de131dd19494c911c924bdb5641d3",
       "version_major": 2,
       "version_minor": 0
      },
      "text/plain": [
       "Widget(value=\"<iframe src='http://localhost:64496/index.html?ui=P_0x16ae9aa10_4&reconnect=auto' style='width: …"
      ]
     },
     "metadata": {},
     "output_type": "display_data"
    }
   ],
   "source": [
    "pl = pv.Plotter()\n",
    "pl.add_mesh(mesh, show_edges=True, color='white')\n",
    "pl.add_points(mesh.points, color='red', point_size=5)\n",
    "pl.camera_position = [(0.02, 0.30, 0.73),\n",
    "                      (0.02, 0.03, -0.022),\n",
    "                      (-0.03, 0.94, -0.34)]\n",
    "pl.show()"
   ]
  },
  {
   "cell_type": "code",
   "execution_count": 20,
   "id": "0d536934",
   "metadata": {},
   "outputs": [
    {
     "data": {
      "application/vnd.jupyter.widget-view+json": {
       "model_id": "2dc687bf39e44af2b96c4251609d9dca",
       "version_major": 2,
       "version_minor": 0
      },
      "text/plain": [
       "Widget(value=\"<iframe src='http://localhost:64496/index.html?ui=P_0x16ae0e410_5&reconnect=auto' style='width: …"
      ]
     },
     "metadata": {},
     "output_type": "display_data"
    }
   ],
   "source": [
    "mesh = examples.load_hexbeam()\n",
    "\n",
    "pl = pv.Plotter()\n",
    "pl.add_mesh(mesh, show_edges=True, color='white')\n",
    "pl.add_points(mesh.points, color='red', point_size=20)\n",
    "\n",
    "single_cell = mesh.extract_cells(mesh.n_cells-1)\n",
    "pl.add_mesh(single_cell, color='pink', edge_color='blue', line_width=5, show_edges=True)\n",
    "pl.camera_position = [(6.20, 3.00, 7.50),\n",
    "                      (0.16, 0.13, 2.65),\n",
    "                      (-0.28, 0.94, -0.21)]\n",
    "pl.show(jupyter_backend='client')"
   ]
  },
  {
   "cell_type": "code",
   "execution_count": 21,
   "id": "b956bdfa",
   "metadata": {},
   "outputs": [
    {
     "data": {
      "text/html": [
       "<table><tr><th>Header</th><th>Data Arrays</th></tr><tr><td>\n",
       "<table>\n",
       "<tr><th>UnstructuredGrid</th><th>Information</th></tr>\n",
       "<tr><td>N Cells</td><td>1</td></tr>\n",
       "<tr><td>N Points</td><td>8</td></tr>\n",
       "<tr><td>X Bounds</td><td>0.000e+00, 5.000e-01</td></tr>\n",
       "<tr><td>Y Bounds</td><td>0.000e+00, 5.000e-01</td></tr>\n",
       "<tr><td>Z Bounds</td><td>0.000e+00, 5.000e-01</td></tr>\n",
       "<tr><td>N Arrays</td><td>5</td></tr>\n",
       "</table>\n",
       "\n",
       "</td><td>\n",
       "<table>\n",
       "<tr><th>Name</th><th>Field</th><th>Type</th><th>N Comp</th><th>Min</th><th>Max</th></tr>\n",
       "<tr><td>sample_point_scalars</td><td>Points</td><td>int64</td><td>1</td><td>1.000e+00</td><td>2.860e+02</td></tr>\n",
       "<tr><td>VTKorigID</td><td>Points</td><td>int64</td><td>1</td><td>0.000e+00</td><td>9.000e+01</td></tr>\n",
       "<tr><td>vtkOriginalPointIds</td><td>Points</td><td>int64</td><td>1</td><td>0.000e+00</td><td>9.000e+01</td></tr>\n",
       "<tr><td><b>sample_cell_scalars</b></td><td>Cells</td><td>int32</td><td>1</td><td>1.000e+00</td><td>1.000e+00</td></tr>\n",
       "<tr><td>vtkOriginalCellIds</td><td>Cells</td><td>int64</td><td>1</td><td>0.000e+00</td><td>0.000e+00</td></tr>\n",
       "</table>\n",
       "\n",
       "</td></tr> </table>"
      ],
      "text/plain": [
       "UnstructuredGrid (0x16aed02e0)\n",
       "  N Cells:    1\n",
       "  N Points:   8\n",
       "  X Bounds:   0.000e+00, 5.000e-01\n",
       "  Y Bounds:   0.000e+00, 5.000e-01\n",
       "  Z Bounds:   0.000e+00, 5.000e-01\n",
       "  N Arrays:   5"
      ]
     },
     "execution_count": 21,
     "metadata": {},
     "output_type": "execute_result"
    }
   ],
   "source": [
    "single_cell = mesh.extract_cells(0)\n",
    "single_cell"
   ]
  },
  {
   "cell_type": "markdown",
   "id": "2b450596",
   "metadata": {},
   "source": [
    "# What are attributes?"
   ]
  },
  {
   "cell_type": "code",
   "execution_count": 22,
   "id": "157faf76",
   "metadata": {},
   "outputs": [
    {
     "data": {
      "text/html": [
       "<table><tr><th>Header</th><th>Data Arrays</th></tr><tr><td>\n",
       "<table>\n",
       "<tr><th>UnstructuredGrid</th><th>Information</th></tr>\n",
       "<tr><td>N Cells</td><td>40</td></tr>\n",
       "<tr><td>N Points</td><td>99</td></tr>\n",
       "<tr><td>X Bounds</td><td>0.000e+00, 1.000e+00</td></tr>\n",
       "<tr><td>Y Bounds</td><td>0.000e+00, 1.000e+00</td></tr>\n",
       "<tr><td>Z Bounds</td><td>0.000e+00, 5.000e+00</td></tr>\n",
       "<tr><td>N Arrays</td><td>3</td></tr>\n",
       "</table>\n",
       "\n",
       "</td><td>\n",
       "<table>\n",
       "<tr><th>Name</th><th>Field</th><th>Type</th><th>N Comp</th><th>Min</th><th>Max</th></tr>\n",
       "<tr><td>sample_point_scalars</td><td>Points</td><td>int64</td><td>1</td><td>1.000e+00</td><td>3.020e+02</td></tr>\n",
       "<tr><td>VTKorigID</td><td>Points</td><td>int64</td><td>1</td><td>0.000e+00</td><td>9.800e+01</td></tr>\n",
       "<tr><td><b>sample_cell_scalars</b></td><td>Cells</td><td>int32</td><td>1</td><td>1.000e+00</td><td>4.000e+01</td></tr>\n",
       "</table>\n",
       "\n",
       "</td></tr> </table>"
      ],
      "text/plain": [
       "UnstructuredGrid (0x16aed1180)\n",
       "  N Cells:    40\n",
       "  N Points:   99\n",
       "  X Bounds:   0.000e+00, 1.000e+00\n",
       "  Y Bounds:   0.000e+00, 1.000e+00\n",
       "  Z Bounds:   0.000e+00, 5.000e+00\n",
       "  N Arrays:   3"
      ]
     },
     "execution_count": 22,
     "metadata": {},
     "output_type": "execute_result"
    }
   ],
   "source": [
    "mesh = examples.load_hexbeam()\n",
    "mesh"
   ]
  },
  {
   "cell_type": "code",
   "execution_count": 23,
   "id": "2a164c8e",
   "metadata": {},
   "outputs": [
    {
     "data": {
      "text/html": [
       "<table><tr><th>Header</th><th>Data Arrays</th></tr><tr><td>\n",
       "<table>\n",
       "<tr><th>UnstructuredGrid</th><th>Information</th></tr>\n",
       "<tr><td>N Cells</td><td>40</td></tr>\n",
       "<tr><td>N Points</td><td>99</td></tr>\n",
       "<tr><td>X Bounds</td><td>0.000e+00, 1.000e+00</td></tr>\n",
       "<tr><td>Y Bounds</td><td>0.000e+00, 1.000e+00</td></tr>\n",
       "<tr><td>Z Bounds</td><td>0.000e+00, 5.000e+00</td></tr>\n",
       "<tr><td>N Arrays</td><td>4</td></tr>\n",
       "</table>\n",
       "\n",
       "</td><td>\n",
       "<table>\n",
       "<tr><th>Name</th><th>Field</th><th>Type</th><th>N Comp</th><th>Min</th><th>Max</th></tr>\n",
       "<tr><td>sample_point_scalars</td><td>Points</td><td>int64</td><td>1</td><td>1.000e+00</td><td>3.020e+02</td></tr>\n",
       "<tr><td>VTKorigID</td><td>Points</td><td>int64</td><td>1</td><td>0.000e+00</td><td>9.800e+01</td></tr>\n",
       "<tr><td>my point values</td><td>Points</td><td>int32</td><td>1</td><td>0.000e+00</td><td>9.800e+01</td></tr>\n",
       "<tr><td><b>sample_cell_scalars</b></td><td>Cells</td><td>int32</td><td>1</td><td>1.000e+00</td><td>4.000e+01</td></tr>\n",
       "</table>\n",
       "\n",
       "</td></tr> </table>"
      ],
      "text/plain": [
       "UnstructuredGrid (0x16aed1180)\n",
       "  N Cells:    40\n",
       "  N Points:   99\n",
       "  X Bounds:   0.000e+00, 1.000e+00\n",
       "  Y Bounds:   0.000e+00, 1.000e+00\n",
       "  Z Bounds:   0.000e+00, 5.000e+00\n",
       "  N Arrays:   4"
      ]
     },
     "execution_count": 23,
     "metadata": {},
     "output_type": "execute_result"
    }
   ],
   "source": [
    "mesh.point_data['my point values'] = np.arange(mesh.n_points, dtype=np.int32)\n",
    "mesh"
   ]
  },
  {
   "cell_type": "code",
   "execution_count": 24,
   "id": "d8cfc7c8",
   "metadata": {},
   "outputs": [],
   "source": [
    "cpos = [(6.20, 3.00, 7.50),\n",
    "        (0.16, 0.13, 2.65),\n",
    "        (-0.28, 0.94, -0.21)]"
   ]
  },
  {
   "cell_type": "code",
   "execution_count": 25,
   "id": "654fecad",
   "metadata": {},
   "outputs": [
    {
     "data": {
      "application/vnd.jupyter.widget-view+json": {
       "model_id": "8b4bc6f2359149c8a43e1cb3637445b7",
       "version_major": 2,
       "version_minor": 0
      },
      "text/plain": [
       "Widget(value=\"<iframe src='http://localhost:64496/index.html?ui=P_0x16af43130_5&reconnect=auto' style='width: …"
      ]
     },
     "metadata": {},
     "output_type": "display_data"
    }
   ],
   "source": [
    "mesh.plot(scalars='my point values', show_edges=True, cpos=cpos, jupyter_backend='client')"
   ]
  },
  {
   "cell_type": "code",
   "execution_count": 26,
   "id": "b98c3854",
   "metadata": {},
   "outputs": [
    {
     "data": {
      "application/vnd.jupyter.widget-view+json": {
       "model_id": "446f2531d60e4bf8baa235fc4bc622ef",
       "version_major": 2,
       "version_minor": 0
      },
      "text/plain": [
       "Widget(value=\"<iframe src='http://localhost:64496/index.html?ui=P_0x288859990_5&reconnect=auto' style='width: …"
      ]
     },
     "metadata": {},
     "output_type": "display_data"
    }
   ],
   "source": [
    "mesh.cell_data['my cell values'] = np.arange(mesh.n_cells)\n",
    "mesh.plot(scalars='my cell values', cpos=cpos, show_edges=True)"
   ]
  },
  {
   "cell_type": "code",
   "execution_count": 27,
   "id": "9a3ed3e8",
   "metadata": {},
   "outputs": [
    {
     "data": {
      "text/html": [
       "<table><tr><th>Header</th><th>Data Arrays</th></tr><tr><td>\n",
       "<table>\n",
       "<tr><th>UniformGrid</th><th>Information</th></tr>\n",
       "<tr><td>N Cells</td><td>729</td></tr>\n",
       "<tr><td>N Points</td><td>1000</td></tr>\n",
       "<tr><td>X Bounds</td><td>0.000e+00, 9.000e+00</td></tr>\n",
       "<tr><td>Y Bounds</td><td>0.000e+00, 9.000e+00</td></tr>\n",
       "<tr><td>Z Bounds</td><td>0.000e+00, 9.000e+00</td></tr>\n",
       "<tr><td>Dimensions</td><td>10, 10, 10</td></tr>\n",
       "<tr><td>Spacing</td><td>1.000e+00, 1.000e+00, 1.000e+00</td></tr>\n",
       "<tr><td>N Arrays</td><td>2</td></tr>\n",
       "</table>\n",
       "\n",
       "</td><td>\n",
       "<table>\n",
       "<tr><th>Name</th><th>Field</th><th>Type</th><th>N Comp</th><th>Min</th><th>Max</th></tr>\n",
       "<tr><td><b>Spatial Point Data</b></td><td>Points</td><td>float64</td><td>1</td><td>0.000e+00</td><td>7.290e+02</td></tr>\n",
       "<tr><td>Spatial Cell Data</td><td>Cells</td><td>float64</td><td>1</td><td>0.000e+00</td><td>5.120e+02</td></tr>\n",
       "</table>\n",
       "\n",
       "</td></tr> </table>"
      ],
      "text/plain": [
       "UniformGrid (0x288879720)\n",
       "  N Cells:      729\n",
       "  N Points:     1000\n",
       "  X Bounds:     0.000e+00, 9.000e+00\n",
       "  Y Bounds:     0.000e+00, 9.000e+00\n",
       "  Z Bounds:     0.000e+00, 9.000e+00\n",
       "  Dimensions:   10, 10, 10\n",
       "  Spacing:      1.000e+00, 1.000e+00, 1.000e+00\n",
       "  N Arrays:     2"
      ]
     },
     "execution_count": 27,
     "metadata": {},
     "output_type": "execute_result"
    }
   ],
   "source": [
    "uni = examples.load_uniform()\n",
    "uni"
   ]
  },
  {
   "cell_type": "code",
   "execution_count": 28,
   "id": "6ddf49aa",
   "metadata": {},
   "outputs": [
    {
     "data": {
      "application/vnd.jupyter.widget-view+json": {
       "model_id": "f9ecea87712b49dba170b964be9a7b81",
       "version_major": 2,
       "version_minor": 0
      },
      "text/plain": [
       "Widget(value=\"<iframe src='http://localhost:64496/index.html?ui=P_0x2888b9db0_6&reconnect=auto' style='width: …"
      ]
     },
     "metadata": {},
     "output_type": "display_data"
    }
   ],
   "source": [
    "pl = pv.Plotter(shape=(1, 2), border=False)\n",
    "pl.add_mesh(uni, scalars='Spatial Point Data')\n",
    "pl.subplot(0, 1)\n",
    "pl.add_mesh(uni, scalars='Spatial Cell Data')\n",
    "pl.show()"
   ]
  },
  {
   "cell_type": "markdown",
   "id": "6702a8ad",
   "metadata": {},
   "source": [
    "# Assigning Scalars to a Mesh"
   ]
  },
  {
   "cell_type": "code",
   "execution_count": 29,
   "id": "7e8200c6",
   "metadata": {},
   "outputs": [
    {
     "data": {
      "text/html": [
       "<table><tr><th>Header</th><th>Data Arrays</th></tr><tr><td>\n",
       "<table>\n",
       "<tr><th>PolyData</th><th>Information</th></tr>\n",
       "<tr><td>N Cells</td><td>6</td></tr>\n",
       "<tr><td>N Points</td><td>8</td></tr>\n",
       "<tr><td>N Strips</td><td>0</td></tr>\n",
       "<tr><td>X Bounds</td><td>-5.000e-01, 5.000e-01</td></tr>\n",
       "<tr><td>Y Bounds</td><td>-5.000e-01, 5.000e-01</td></tr>\n",
       "<tr><td>Z Bounds</td><td>-5.000e-01, 5.000e-01</td></tr>\n",
       "<tr><td>N Arrays</td><td>3</td></tr>\n",
       "</table>\n",
       "\n",
       "</td><td>\n",
       "<table>\n",
       "<tr><th>Name</th><th>Field</th><th>Type</th><th>N Comp</th><th>Min</th><th>Max</th></tr>\n",
       "<tr><td>Normals</td><td>Points</td><td>float32</td><td>3</td><td>-1.000e+00</td><td>1.000e+00</td></tr>\n",
       "<tr><td>TCoords</td><td>Points</td><td>float32</td><td>2</td><td>-1.000e+00</td><td>1.000e+00</td></tr>\n",
       "<tr><td>FaceIndex</td><td>Cells</td><td>int64</td><td>1</td><td>0.000e+00</td><td>5.000e+00</td></tr>\n",
       "</table>\n",
       "\n",
       "</td></tr> </table>"
      ],
      "text/plain": [
       "PolyData (0x28887a860)\n",
       "  N Cells:    6\n",
       "  N Points:   8\n",
       "  N Strips:   0\n",
       "  X Bounds:   -5.000e-01, 5.000e-01\n",
       "  Y Bounds:   -5.000e-01, 5.000e-01\n",
       "  Z Bounds:   -5.000e-01, 5.000e-01\n",
       "  N Arrays:   3"
      ]
     },
     "execution_count": 29,
     "metadata": {},
     "output_type": "execute_result"
    }
   ],
   "source": [
    "cube = pv.Cube()\n",
    "cube"
   ]
  },
  {
   "cell_type": "code",
   "execution_count": 30,
   "id": "7cc5af0d",
   "metadata": {},
   "outputs": [
    {
     "data": {
      "text/html": [
       "<table><tr><th>Header</th><th>Data Arrays</th></tr><tr><td>\n",
       "<table>\n",
       "<tr><th>PolyData</th><th>Information</th></tr>\n",
       "<tr><td>N Cells</td><td>6</td></tr>\n",
       "<tr><td>N Points</td><td>8</td></tr>\n",
       "<tr><td>N Strips</td><td>0</td></tr>\n",
       "<tr><td>X Bounds</td><td>-5.000e-01, 5.000e-01</td></tr>\n",
       "<tr><td>Y Bounds</td><td>-5.000e-01, 5.000e-01</td></tr>\n",
       "<tr><td>Z Bounds</td><td>-5.000e-01, 5.000e-01</td></tr>\n",
       "<tr><td>N Arrays</td><td>4</td></tr>\n",
       "</table>\n",
       "\n",
       "</td><td>\n",
       "<table>\n",
       "<tr><th>Name</th><th>Field</th><th>Type</th><th>N Comp</th><th>Min</th><th>Max</th></tr>\n",
       "<tr><td>Normals</td><td>Points</td><td>float32</td><td>3</td><td>-1.000e+00</td><td>1.000e+00</td></tr>\n",
       "<tr><td>TCoords</td><td>Points</td><td>float32</td><td>2</td><td>-1.000e+00</td><td>1.000e+00</td></tr>\n",
       "<tr><td>FaceIndex</td><td>Cells</td><td>int64</td><td>1</td><td>0.000e+00</td><td>5.000e+00</td></tr>\n",
       "<tr><td><b>mycelldata</b></td><td>Cells</td><td>int32</td><td>1</td><td>0.000e+00</td><td>5.000e+00</td></tr>\n",
       "</table>\n",
       "\n",
       "</td></tr> </table>"
      ],
      "text/plain": [
       "PolyData (0x28887a860)\n",
       "  N Cells:    6\n",
       "  N Points:   8\n",
       "  N Strips:   0\n",
       "  X Bounds:   -5.000e-01, 5.000e-01\n",
       "  Y Bounds:   -5.000e-01, 5.000e-01\n",
       "  Z Bounds:   -5.000e-01, 5.000e-01\n",
       "  N Arrays:   4"
      ]
     },
     "execution_count": 30,
     "metadata": {},
     "output_type": "execute_result"
    }
   ],
   "source": [
    "cube.cell_data['mycelldata'] = np.arange(6, dtype=np.int32)\n",
    "cube"
   ]
  },
  {
   "cell_type": "code",
   "execution_count": 31,
   "id": "747ec767",
   "metadata": {},
   "outputs": [
    {
     "data": {
      "text/html": [
       "<table><tr><th>Header</th><th>Data Arrays</th></tr><tr><td>\n",
       "<table>\n",
       "<tr><th>PolyData</th><th>Information</th></tr>\n",
       "<tr><td>N Cells</td><td>6</td></tr>\n",
       "<tr><td>N Points</td><td>8</td></tr>\n",
       "<tr><td>N Strips</td><td>0</td></tr>\n",
       "<tr><td>X Bounds</td><td>-5.000e-01, 5.000e-01</td></tr>\n",
       "<tr><td>Y Bounds</td><td>-5.000e-01, 5.000e-01</td></tr>\n",
       "<tr><td>Z Bounds</td><td>-5.000e-01, 5.000e-01</td></tr>\n",
       "<tr><td>N Arrays</td><td>4</td></tr>\n",
       "</table>\n",
       "\n",
       "</td><td>\n",
       "<table>\n",
       "<tr><th>Name</th><th>Field</th><th>Type</th><th>N Comp</th><th>Min</th><th>Max</th></tr>\n",
       "<tr><td>Normals</td><td>Points</td><td>float32</td><td>3</td><td>-1.000e+00</td><td>1.000e+00</td></tr>\n",
       "<tr><td>TCoords</td><td>Points</td><td>float32</td><td>2</td><td>-1.000e+00</td><td>1.000e+00</td></tr>\n",
       "<tr><td><b>mypointdata</b></td><td>Points</td><td>int32</td><td>1</td><td>0.000e+00</td><td>7.000e+00</td></tr>\n",
       "<tr><td>FaceIndex</td><td>Cells</td><td>int64</td><td>1</td><td>0.000e+00</td><td>5.000e+00</td></tr>\n",
       "</table>\n",
       "\n",
       "</td></tr> </table>"
      ],
      "text/plain": [
       "PolyData (0x28887bac0)\n",
       "  N Cells:    6\n",
       "  N Points:   8\n",
       "  N Strips:   0\n",
       "  X Bounds:   -5.000e-01, 5.000e-01\n",
       "  Y Bounds:   -5.000e-01, 5.000e-01\n",
       "  Z Bounds:   -5.000e-01, 5.000e-01\n",
       "  N Arrays:   4"
      ]
     },
     "execution_count": 31,
     "metadata": {},
     "output_type": "execute_result"
    }
   ],
   "source": [
    "other_cube = pv.Cube()\n",
    "other_cube.point_data['mypointdata'] = np.arange(8, dtype=np.int32)\n",
    "other_cube"
   ]
  },
  {
   "cell_type": "code",
   "execution_count": 32,
   "id": "35bd2924",
   "metadata": {},
   "outputs": [
    {
     "data": {
      "application/vnd.jupyter.widget-view+json": {
       "model_id": "51ded8ae4a02490b92cc17b68a6651ea",
       "version_major": 2,
       "version_minor": 0
      },
      "text/plain": [
       "Widget(value=\"<iframe src='http://localhost:64496/index.html?ui=P_0x2888e1480_7&reconnect=auto' style='width: …"
      ]
     },
     "metadata": {},
     "output_type": "display_data"
    }
   ],
   "source": [
    "pl = pv.Plotter(shape=(1,2), border_width=1)\n",
    "pl.add_mesh(cube, cmap='coolwarm')\n",
    "pl.subplot(0, 1)\n",
    "pl.add_mesh(other_cube, cmap='coolwarm')\n",
    "pl.show()"
   ]
  },
  {
   "cell_type": "markdown",
   "id": "228b9bdb",
   "metadata": {},
   "source": [
    "# Basic API Usage"
   ]
  },
  {
   "cell_type": "code",
   "execution_count": 33,
   "id": "1bce312b",
   "metadata": {},
   "outputs": [
    {
     "data": {
      "text/plain": [
       "<vtkmodules.vtkCommonDataModel.vtkPolyData(0x11f649b10) at 0x28887b9a0>"
      ]
     },
     "execution_count": 33,
     "metadata": {},
     "output_type": "execute_result"
    }
   ],
   "source": [
    "import vtk\n",
    "import pyvista as pv\n",
    "\n",
    "stuff = vtk.vtkPolyData()\n",
    "stuff"
   ]
  },
  {
   "cell_type": "code",
   "execution_count": 35,
   "id": "8c9b0f0a",
   "metadata": {},
   "outputs": [
    {
     "data": {
      "text/html": [
       "\n",
       "<table>\n",
       "<tr><th>PolyData</th><th>Information</th></tr>\n",
       "<tr><td>N Cells</td><td>0</td></tr>\n",
       "<tr><td>N Points</td><td>0</td></tr>\n",
       "<tr><td>N Strips</td><td>0</td></tr>\n",
       "<tr><td>X Bounds</td><td>1.000e+299, -1.000e+299</td></tr>\n",
       "<tr><td>Y Bounds</td><td>1.000e+299, -1.000e+299</td></tr>\n",
       "<tr><td>Z Bounds</td><td>1.000e+299, -1.000e+299</td></tr>\n",
       "<tr><td>N Arrays</td><td>0</td></tr>\n",
       "</table>\n",
       "\n"
      ],
      "text/plain": [
       "PolyData (0x288885900)\n",
       "  N Cells:    0\n",
       "  N Points:   0\n",
       "  N Strips:   0\n",
       "  X Bounds:   1.000e+299, -1.000e+299\n",
       "  Y Bounds:   1.000e+299, -1.000e+299\n",
       "  Z Bounds:   1.000e+299, -1.000e+299\n",
       "  N Arrays:   0"
      ]
     },
     "execution_count": 35,
     "metadata": {},
     "output_type": "execute_result"
    }
   ],
   "source": [
    "better = pv.wrap(stuff)\n",
    "better"
   ]
  },
  {
   "cell_type": "code",
   "execution_count": 1,
   "id": "58a93a3d",
   "metadata": {},
   "outputs": [],
   "source": [
    "import pyvista as pv\n",
    "from pyvista import examples\n",
    "import numpy as np"
   ]
  },
  {
   "cell_type": "code",
   "execution_count": 2,
   "id": "dafacb1f",
   "metadata": {},
   "outputs": [
    {
     "data": {
      "text/html": [
       "\n",
       "<table>\n",
       "<tr><th>PolyData</th><th>Information</th></tr>\n",
       "<tr><td>N Cells</td><td>2452</td></tr>\n",
       "<tr><td>N Points</td><td>1335</td></tr>\n",
       "<tr><td>N Strips</td><td>0</td></tr>\n",
       "<tr><td>X Bounds</td><td>1.391e+02, 1.655e+03</td></tr>\n",
       "<tr><td>Y Bounds</td><td>3.209e+01, 1.320e+03</td></tr>\n",
       "<tr><td>Z Bounds</td><td>-1.774e+01, 2.821e+02</td></tr>\n",
       "<tr><td>N Arrays</td><td>0</td></tr>\n",
       "</table>\n",
       "\n"
      ],
      "text/plain": [
       "PolyData (0x1620632e0)\n",
       "  N Cells:    2452\n",
       "  N Points:   1335\n",
       "  N Strips:   0\n",
       "  X Bounds:   1.391e+02, 1.655e+03\n",
       "  Y Bounds:   3.209e+01, 1.320e+03\n",
       "  Z Bounds:   -1.774e+01, 2.821e+02\n",
       "  N Arrays:   0"
      ]
     },
     "execution_count": 2,
     "metadata": {},
     "output_type": "execute_result"
    }
   ],
   "source": [
    "mesh = examples.load_airplane()\n",
    "mesh"
   ]
  },
  {
   "cell_type": "code",
   "execution_count": 4,
   "id": "9da9c4fb",
   "metadata": {},
   "outputs": [
    {
     "data": {
      "text/plain": [
       "2452"
      ]
     },
     "execution_count": 4,
     "metadata": {},
     "output_type": "execute_result"
    }
   ],
   "source": [
    "mesh.n_cells"
   ]
  },
  {
   "cell_type": "code",
   "execution_count": 5,
   "id": "c3ad7d4e",
   "metadata": {},
   "outputs": [
    {
     "data": {
      "text/plain": [
       "1335"
      ]
     },
     "execution_count": 5,
     "metadata": {},
     "output_type": "execute_result"
    }
   ],
   "source": [
    "mesh.n_points"
   ]
  },
  {
   "cell_type": "code",
   "execution_count": 6,
   "id": "227595b1",
   "metadata": {},
   "outputs": [
    {
     "data": {
      "text/plain": [
       "0"
      ]
     },
     "execution_count": 6,
     "metadata": {},
     "output_type": "execute_result"
    }
   ],
   "source": [
    "mesh.n_arrays"
   ]
  },
  {
   "cell_type": "code",
   "execution_count": 7,
   "id": "0a6d69dd",
   "metadata": {},
   "outputs": [
    {
     "data": {
      "text/plain": [
       "(139.06100463867188,\n",
       " 1654.9300537109375,\n",
       " 32.09429931640625,\n",
       " 1319.949951171875,\n",
       " -17.741199493408203,\n",
       " 282.1300048828125)"
      ]
     },
     "execution_count": 7,
     "metadata": {},
     "output_type": "execute_result"
    }
   ],
   "source": [
    "mesh.bounds"
   ]
  },
  {
   "cell_type": "code",
   "execution_count": 8,
   "id": "e0cbee42",
   "metadata": {},
   "outputs": [
    {
     "data": {
      "text/plain": [
       "[896.9955291748047, 676.0221252441406, 132.19440269470215]"
      ]
     },
     "execution_count": 8,
     "metadata": {},
     "output_type": "execute_result"
    }
   ],
   "source": [
    "mesh.center"
   ]
  },
  {
   "cell_type": "code",
   "execution_count": 9,
   "id": "fba300e8",
   "metadata": {},
   "outputs": [
    {
     "data": {
      "text/plain": [
       "True"
      ]
     },
     "execution_count": 9,
     "metadata": {},
     "output_type": "execute_result"
    }
   ],
   "source": [
    "the_pts = mesh.points\n",
    "isinstance(the_pts, np.ndarray)"
   ]
  },
  {
   "cell_type": "code",
   "execution_count": 11,
   "id": "cbdca523",
   "metadata": {},
   "outputs": [
    {
     "data": {
      "text/plain": [
       "pyvista_ndarray([[896.994 ,  48.7601,  82.2656],\n",
       "                 [906.593 ,  48.7601,  80.7452],\n",
       "                 [907.539 ,  55.4902,  83.6581],\n",
       "                 [896.994 ,  55.4902,  85.3283],\n",
       "                 [896.994 ,  42.8477,  77.825 ]], dtype=float32)"
      ]
     },
     "execution_count": 11,
     "metadata": {},
     "output_type": "execute_result"
    }
   ],
   "source": [
    "the_pts[0:5, :]"
   ]
  },
  {
   "cell_type": "code",
   "execution_count": 14,
   "id": "496e68d2",
   "metadata": {},
   "outputs": [],
   "source": [
    "mesh = examples.load_uniform()"
   ]
  },
  {
   "cell_type": "code",
   "execution_count": 17,
   "id": "61dadc99",
   "metadata": {},
   "outputs": [
    {
     "name": "stdout",
     "output_type": "stream",
     "text": [
      "<class 'pyvista.core.pyvista_ndarray.pyvista_ndarray'>\n"
     ]
    }
   ],
   "source": [
    "arr = mesh.point_data['Spatial Point Data']\n",
    "print(type(arr))"
   ]
  },
  {
   "cell_type": "code",
   "execution_count": null,
   "id": "0a00b46f",
   "metadata": {},
   "outputs": [],
   "source": []
  }
 ],
 "metadata": {
  "kernelspec": {
   "display_name": "Python 3 (ipykernel)",
   "language": "python",
   "name": "python3"
  },
  "language_info": {
   "codemirror_mode": {
    "name": "ipython",
    "version": 3
   },
   "file_extension": ".py",
   "mimetype": "text/x-python",
   "name": "python",
   "nbconvert_exporter": "python",
   "pygments_lexer": "ipython3",
   "version": "3.10.10"
  }
 },
 "nbformat": 4,
 "nbformat_minor": 5
}
