{
 "cells": [
  {
   "cell_type": "code",
   "execution_count": 2,
   "id": "9293b147-8756-426c-91b2-b72b20b172f5",
   "metadata": {},
   "outputs": [
    {
     "data": {
      "application/vnd.jupyter.widget-view+json": {
       "model_id": "5070292b151b4addb54429591567c84c",
       "version_major": 2,
       "version_minor": 0
      },
      "text/plain": [
       "Widget(value=\"<iframe src='http://localhost:62846/index.html?ui=P_0x107e19b10_1&reconnect=auto' style='width: …"
      ]
     },
     "metadata": {},
     "output_type": "display_data"
    }
   ],
   "source": [
    "from pyvista import examples\n",
    "mesh = examples.download_st_helens()\n",
    "warped = mesh.warp_by_scalar('Elevation')\n",
    "surf = warped.extract_surface().triangulate()\n",
    "surf = surf.decimate_pro(0.75)  # reduce the density of the mesh by 75%\n",
    "surf.plot(cmap='gist_earth')"
   ]
  },
  {
   "cell_type": "code",
   "execution_count": 3,
   "id": "5d39b15b",
   "metadata": {},
   "outputs": [
    {
     "data": {
      "application/vnd.jupyter.widget-view+json": {
       "model_id": "36021b61754c45dbadb2dacf5929f2da",
       "version_major": 2,
       "version_minor": 0
      },
      "text/plain": [
       "Widget(value=\"<iframe src='http://localhost:62846/index.html?ui=P_0x107de8910_2&reconnect=auto' style='width: …"
      ]
     },
     "metadata": {},
     "output_type": "display_data"
    }
   ],
   "source": [
    "from pyvista import examples\n",
    "mesh = examples.download_notch_stress()\n",
    "mesh.plot(scalars='Nodal Stress', component=0, cmap='turbo', cpos='xy')"
   ]
  },
  {
   "cell_type": "code",
   "execution_count": 4,
   "id": "491ca511",
   "metadata": {},
   "outputs": [
    {
     "data": {
      "application/vnd.jupyter.widget-view+json": {
       "model_id": "a7679c092d6945c6a4e23405b017f66d",
       "version_major": 2,
       "version_minor": 0
      },
      "text/plain": [
       "Widget(value=\"<iframe src='http://localhost:62846/index.html?ui=P_0x15d865690_3&reconnect=auto' style='width: …"
      ]
     },
     "metadata": {},
     "output_type": "display_data"
    }
   ],
   "source": [
    "import numpy as np\n",
    "import pyvista\n",
    "\n",
    "point_cloud = np.random.random((100, 3))\n",
    "pdata = pyvista.PolyData(point_cloud)\n",
    "pdata['orig_sphere'] = np.arange(100)\n",
    "\n",
    "# create many spheres from the point cloud\n",
    "sphere = pyvista.Sphere(radius=0.02, phi_resolution=10, theta_resolution=10)\n",
    "pc = pdata.glyph(scale=False, geom=sphere, orient=False)\n",
    "pc.plot(cmap='Reds')"
   ]
  },
  {
   "cell_type": "code",
   "execution_count": 5,
   "id": "19a9c58b",
   "metadata": {},
   "outputs": [
    {
     "data": {
      "application/vnd.jupyter.widget-view+json": {
       "model_id": "6364c6374a09454bba3487959944d1ac",
       "version_major": 2,
       "version_minor": 0
      },
      "text/plain": [
       "Widget(value=\"<iframe src='http://localhost:62846/index.html?ui=P_0x15d787b20_4&reconnect=auto' style='width: …"
      ]
     },
     "metadata": {},
     "output_type": "display_data"
    }
   ],
   "source": [
    "import numpy as np\n",
    "import pyvista\n",
    "\n",
    "# Make the xyz points\n",
    "theta = np.linspace(-10 * np.pi, 10 * np.pi, 100)\n",
    "z = np.linspace(-2, 2, 100)\n",
    "r = z**2 + 1\n",
    "x = r * np.sin(theta)\n",
    "y = r * np.cos(theta)\n",
    "points = np.column_stack((x, y, z))\n",
    "\n",
    "spline = pyvista.Spline(points, 500).tube(radius=0.1)\n",
    "spline.plot(scalars='arc_length', show_scalar_bar=True)"
   ]
  },
  {
   "cell_type": "code",
   "execution_count": 6,
   "id": "9bfb39ca",
   "metadata": {},
   "outputs": [
    {
     "data": {
      "application/vnd.jupyter.widget-view+json": {
       "model_id": "6fdc95fd295f4a4384d84b9e8f15876d",
       "version_major": 2,
       "version_minor": 0
      },
      "text/plain": [
       "Widget(value=\"<iframe src='http://localhost:62846/index.html?ui=P_0x15d866380_5&reconnect=auto' style='width: …"
      ]
     },
     "metadata": {},
     "output_type": "display_data"
    }
   ],
   "source": [
    "import pyvista\n",
    "import numpy as np\n",
    "\n",
    "def make_cube():\n",
    "    x = np.linspace(-0.5, 0.5, 25)\n",
    "    grid = pyvista.StructuredGrid(*np.meshgrid(x, x, x))\n",
    "    surf = grid.extract_surface().triangulate()\n",
    "    surf.flip_normals()\n",
    "    return surf\n",
    "\n",
    "# Create example PolyData meshes for boolean operations\n",
    "sphere = pyvista.Sphere(radius=0.65, center=(0, 0, 0))\n",
    "cube = make_cube()\n",
    "\n",
    "# Perform a boolean difference\n",
    "boolean = cube.boolean_difference(sphere)\n",
    "boolean.plot(color='darkgrey', smooth_shading=True, split_sharp_edges=True)"
   ]
  },
  {
   "cell_type": "code",
   "execution_count": 7,
   "id": "293d120b",
   "metadata": {},
   "outputs": [
    {
     "data": {
      "application/vnd.jupyter.widget-view+json": {
       "model_id": "40a7278805d942cd8336deb0c001541a",
       "version_major": 2,
       "version_minor": 0
      },
      "text/plain": [
       "Widget(value=\"<iframe src='http://localhost:62846/index.html?ui=P_0x15d7dc460_6&reconnect=auto' style='width: …"
      ]
     },
     "metadata": {},
     "output_type": "display_data"
    }
   ],
   "source": [
    "from pyvista import examples\n",
    "grid = examples.load_hydrogen_orbital(3, 2, -2)\n",
    "grid.plot(volume=True, opacity=[1, 0, 1], cmap='magma')"
   ]
  },
  {
   "cell_type": "code",
   "execution_count": null,
   "id": "350f6aac",
   "metadata": {},
   "outputs": [],
   "source": []
  }
 ],
 "metadata": {
  "kernelspec": {
   "display_name": "Python 3 (ipykernel)",
   "language": "python",
   "name": "python3"
  },
  "language_info": {
   "codemirror_mode": {
    "name": "ipython",
    "version": 3
   },
   "file_extension": ".py",
   "mimetype": "text/x-python",
   "name": "python",
   "nbconvert_exporter": "python",
   "pygments_lexer": "ipython3",
   "version": "3.10.10"
  }
 },
 "nbformat": 4,
 "nbformat_minor": 5
}
