{
 "cells": [
  {
   "cell_type": "code",
   "execution_count": 1,
   "metadata": {},
   "outputs": [],
   "source": [
    "import numpy as np\n",
    "\n",
    "import pyvista as pv\n",
    "from pyvista import examples"
   ]
  },
  {
   "cell_type": "code",
   "execution_count": 2,
   "metadata": {},
   "outputs": [
    {
     "data": {
      "text/html": [
       "<table><tr><th>Header</th><th>Data Arrays</th></tr><tr><td>\n",
       "<table>\n",
       "<tr><th>UniformGrid</th><th>Information</th></tr>\n",
       "<tr><td>N Cells</td><td>158400</td></tr>\n",
       "<tr><td>N Points</td><td>167580</td></tr>\n",
       "<tr><td>X Bounds</td><td>1.000e+02, 1.750e+02</td></tr>\n",
       "<tr><td>Y Bounds</td><td>8.000e+01, 1.280e+02</td></tr>\n",
       "<tr><td>Z Bounds</td><td>1.000e+00, 4.500e+01</td></tr>\n",
       "<tr><td>Dimensions</td><td>76, 49, 45</td></tr>\n",
       "<tr><td>Spacing</td><td>1.000e+00, 1.000e+00, 1.000e+00</td></tr>\n",
       "<tr><td>N Arrays</td><td>2</td></tr>\n",
       "</table>\n",
       "\n",
       "</td><td>\n",
       "<table>\n",
       "<tr><th>Name</th><th>Field</th><th>Type</th><th>N Comp</th><th>Min</th><th>Max</th></tr>\n",
       "<tr><td><b>scalars</b></td><td>Points</td><td>float32</td><td>1</td><td>0.000e+00</td><td>5.800e+02</td></tr>\n",
       "<tr><td>vectors</td><td>Points</td><td>float32</td><td>3</td><td>-2.263e+01</td><td>1.662e+01</td></tr>\n",
       "</table>\n",
       "\n",
       "</td></tr> </table>"
      ],
      "text/plain": [
       "UniformGrid (0x11702a3e0)\n",
       "  N Cells:      158400\n",
       "  N Points:     167580\n",
       "  X Bounds:     1.000e+02, 1.750e+02\n",
       "  Y Bounds:     8.000e+01, 1.280e+02\n",
       "  Z Bounds:     1.000e+00, 4.500e+01\n",
       "  Dimensions:   76, 49, 45\n",
       "  Spacing:      1.000e+00, 1.000e+00, 1.000e+00\n",
       "  N Arrays:     2"
      ]
     },
     "execution_count": 2,
     "metadata": {},
     "output_type": "execute_result"
    }
   ],
   "source": [
    "mesh = examples.download_carotid()\n",
    "mesh"
   ]
  },
  {
   "cell_type": "code",
   "execution_count": 3,
   "metadata": {},
   "outputs": [],
   "source": [
    "streamlines, src = mesh.streamlines(\n",
    "    return_source=True,\n",
    "    max_time=100.0,\n",
    "    initial_step_length=2.0,\n",
    "    terminal_speed=0.1,\n",
    "    n_points=25,\n",
    "    source_radius=2.0,\n",
    "    source_center=(133.1, 116.3, 5.0),\n",
    ")"
   ]
  },
  {
   "cell_type": "code",
   "execution_count": 4,
   "metadata": {},
   "outputs": [
    {
     "data": {
      "text/html": [
       "<table><tr><th>Header</th><th>Data Arrays</th></tr><tr><td>\n",
       "<table>\n",
       "<tr><th>PolyData</th><th>Information</th></tr>\n",
       "<tr><td>N Cells</td><td>213468</td></tr>\n",
       "<tr><td>N Points</td><td>109319</td></tr>\n",
       "<tr><td>N Strips</td><td>0</td></tr>\n",
       "<tr><td>X Bounds</td><td>1.000e+02, 1.750e+02</td></tr>\n",
       "<tr><td>Y Bounds</td><td>8.000e+01, 1.280e+02</td></tr>\n",
       "<tr><td>Z Bounds</td><td>1.000e+00, 4.500e+01</td></tr>\n",
       "<tr><td>N Arrays</td><td>2</td></tr>\n",
       "</table>\n",
       "\n",
       "</td><td>\n",
       "<table>\n",
       "<tr><th>Name</th><th>Field</th><th>Type</th><th>N Comp</th><th>Min</th><th>Max</th></tr>\n",
       "<tr><td>vectors</td><td>Points</td><td>float32</td><td>3</td><td>-1.956e+01</td><td>1.187e+01</td></tr>\n",
       "<tr><td><b>scalars</b></td><td>Points</td><td>float32</td><td>1</td><td>6.444e+01</td><td>5.800e+02</td></tr>\n",
       "</table>\n",
       "\n",
       "</td></tr> </table>"
      ],
      "text/plain": [
       "PolyData (0x173963700)\n",
       "  N Cells:    213468\n",
       "  N Points:   109319\n",
       "  N Strips:   0\n",
       "  X Bounds:   1.000e+02, 1.750e+02\n",
       "  Y Bounds:   8.000e+01, 1.280e+02\n",
       "  Z Bounds:   1.000e+00, 4.500e+01\n",
       "  N Arrays:   2"
      ]
     },
     "execution_count": 4,
     "metadata": {},
     "output_type": "execute_result"
    }
   ],
   "source": [
    "mesh.contour()"
   ]
  },
  {
   "cell_type": "code",
   "execution_count": 5,
   "metadata": {},
   "outputs": [
    {
     "data": {
      "application/vnd.jupyter.widget-view+json": {
       "model_id": "752ee803cd9e45ad94887ea4cb97f421",
       "version_major": 2,
       "version_minor": 0
      },
      "text/plain": [
       "Widget(value=\"<iframe src='http://localhost:49281/index.html?ui=P_0x1739ad4b0_0&reconnect=auto' style='width: …"
      ]
     },
     "metadata": {},
     "output_type": "display_data"
    }
   ],
   "source": [
    "p = pv.Plotter()\n",
    "p.add_mesh(mesh.outline(), color=\"k\")\n",
    "p.add_mesh(streamlines.tube(radius=0.15))\n",
    "p.add_mesh(src)\n",
    "p.add_mesh(mesh.contour([160]).extract_all_edges(), color=\"grey\", opacity=0.25)\n",
    "p.camera_position = [(182.0, 177.0, 50), (139, 105, 19), (-0.2, -0.2, 1)]\n",
    "p.show()"
   ]
  },
  {
   "cell_type": "code",
   "execution_count": 6,
   "metadata": {},
   "outputs": [
    {
     "data": {
      "text/html": [
       "<table><tr><th>Header</th><th>Data Arrays</th></tr><tr><td>\n",
       "<table>\n",
       "<tr><th>UnstructuredGrid</th><th>Information</th></tr>\n",
       "<tr><td>N Cells</td><td>39353</td></tr>\n",
       "<tr><td>N Points</td><td>48823</td></tr>\n",
       "<tr><td>X Bounds</td><td>5.300e+01, 1.210e+02</td></tr>\n",
       "<tr><td>Y Bounds</td><td>5.000e+01, 9.700e+01</td></tr>\n",
       "<tr><td>Z Bounds</td><td>6.400e+01, 1.820e+02</td></tr>\n",
       "<tr><td>N Arrays</td><td>5</td></tr>\n",
       "</table>\n",
       "\n",
       "</td><td>\n",
       "<table>\n",
       "<tr><th>Name</th><th>Field</th><th>Type</th><th>N Comp</th><th>Min</th><th>Max</th></tr>\n",
       "<tr><td>node_value</td><td>Points</td><td>int32</td><td>1</td><td>0.000e+00</td><td>3.000e+00</td></tr>\n",
       "<tr><td>simerr_type</td><td>Points</td><td>int32</td><td>1</td><td>0.000e+00</td><td>3.000e+00</td></tr>\n",
       "<tr><td>density</td><td>Points</td><td>float32</td><td>1</td><td>2.203e-01</td><td>5.232e-01</td></tr>\n",
       "<tr><td>velocity</td><td>Points</td><td>float32</td><td>3</td><td>-3.526e-01</td><td>8.941e-02</td></tr>\n",
       "<tr><td>shearstress</td><td>Points</td><td>float32</td><td>1</td><td>6.160e-05</td><td>1.442e-02</td></tr>\n",
       "</table>\n",
       "\n",
       "</td></tr> </table>"
      ],
      "text/plain": [
       "UnstructuredGrid (0x1765eb9a0)\n",
       "  N Cells:    39353\n",
       "  N Points:   48823\n",
       "  X Bounds:   5.300e+01, 1.210e+02\n",
       "  Y Bounds:   5.000e+01, 9.700e+01\n",
       "  Z Bounds:   6.400e+01, 1.820e+02\n",
       "  N Arrays:   5"
      ]
     },
     "execution_count": 6,
     "metadata": {},
     "output_type": "execute_result"
    }
   ],
   "source": [
    "mesh = examples.download_blood_vessels().cell_data_to_point_data()\n",
    "mesh"
   ]
  },
  {
   "cell_type": "code",
   "execution_count": 7,
   "metadata": {},
   "outputs": [
    {
     "data": {
      "text/plain": [
       "(<FieldAssociation.POINT: 0>,\n",
       " pyvista_ndarray([[ 0.00860178,  0.01019458, -0.03130133],\n",
       "                  [ 0.00860178,  0.01019458, -0.03130133],\n",
       "                  [ 0.00818573,  0.0133105 , -0.04163416],\n",
       "                  ...,\n",
       "                  [ 0.01218053,  0.01164921, -0.06320937],\n",
       "                  [ 0.011343  ,  0.0106807 , -0.05860964],\n",
       "                  [ 0.01070918,  0.00982335, -0.05464217]], dtype=float32))"
      ]
     },
     "execution_count": 7,
     "metadata": {},
     "output_type": "execute_result"
    }
   ],
   "source": [
    "mesh.set_active_scalars(\"velocity\")"
   ]
  },
  {
   "cell_type": "code",
   "execution_count": 8,
   "metadata": {},
   "outputs": [],
   "source": [
    "streamlines, src = mesh.streamlines(\n",
    "    return_source=True, source_radius=10, source_center=(92.46, 74.37, 135.5)\n",
    ")"
   ]
  },
  {
   "cell_type": "code",
   "execution_count": 9,
   "metadata": {},
   "outputs": [
    {
     "data": {
      "text/html": [
       "<table><tr><th>Header</th><th>Data Arrays</th></tr><tr><td>\n",
       "<table>\n",
       "<tr><th>PolyData</th><th>Information</th></tr>\n",
       "<tr><td>N Cells</td><td>161</td></tr>\n",
       "<tr><td>N Points</td><td>39314</td></tr>\n",
       "<tr><td>N Strips</td><td>0</td></tr>\n",
       "<tr><td>X Bounds</td><td>5.611e+01, 1.151e+02</td></tr>\n",
       "<tr><td>Y Bounds</td><td>5.867e+01, 9.334e+01</td></tr>\n",
       "<tr><td>Z Bounds</td><td>6.401e+01, 1.819e+02</td></tr>\n",
       "<tr><td>N Arrays</td><td>12</td></tr>\n",
       "</table>\n",
       "\n",
       "</td><td>\n",
       "<table>\n",
       "<tr><th>Name</th><th>Field</th><th>Type</th><th>N Comp</th><th>Min</th><th>Max</th></tr>\n",
       "<tr><td>node_value</td><td>Points</td><td>int32</td><td>1</td><td>0.000e+00</td><td>3.000e+00</td></tr>\n",
       "<tr><td>simerr_type</td><td>Points</td><td>int32</td><td>1</td><td>0.000e+00</td><td>3.000e+00</td></tr>\n",
       "<tr><td>density</td><td>Points</td><td>float32</td><td>1</td><td>2.218e-01</td><td>5.203e-01</td></tr>\n",
       "<tr><td><b>velocity</b></td><td>Points</td><td>float32</td><td>3</td><td>-3.399e-01</td><td>8.891e-02</td></tr>\n",
       "<tr><td>shearstress</td><td>Points</td><td>float32</td><td>1</td><td>3.559e-04</td><td>1.069e-02</td></tr>\n",
       "<tr><td>IntegrationTime</td><td>Points</td><td>float64</td><td>1</td><td>-6.249e+02</td><td>7.841e+02</td></tr>\n",
       "<tr><td>Vorticity</td><td>Points</td><td>float64</td><td>3</td><td>-6.687e-02</td><td>1.067e-01</td></tr>\n",
       "<tr><td>Rotation</td><td>Points</td><td>float64</td><td>1</td><td>-9.508e-01</td><td>1.076e+00</td></tr>\n",
       "<tr><td>AngularVelocity</td><td>Points</td><td>float64</td><td>1</td><td>-7.927e-03</td><td>1.163e-02</td></tr>\n",
       "<tr><td>Normals</td><td>Points</td><td>float64</td><td>3</td><td>-9.993e-01</td><td>1.000e+00</td></tr>\n",
       "<tr><td>ReasonForTermination</td><td>Cells</td><td>int32</td><td>1</td><td>1.000e+00</td><td>5.000e+00</td></tr>\n",
       "<tr><td>SeedIds</td><td>Cells</td><td>int32</td><td>1</td><td>0.000e+00</td><td>9.900e+01</td></tr>\n",
       "</table>\n",
       "\n",
       "</td></tr> </table>"
      ],
      "text/plain": [
       "PolyData (0x1765eb760)\n",
       "  N Cells:    161\n",
       "  N Points:   39314\n",
       "  N Strips:   0\n",
       "  X Bounds:   5.611e+01, 1.151e+02\n",
       "  Y Bounds:   5.867e+01, 9.334e+01\n",
       "  Z Bounds:   6.401e+01, 1.819e+02\n",
       "  N Arrays:   12"
      ]
     },
     "execution_count": 9,
     "metadata": {},
     "output_type": "execute_result"
    }
   ],
   "source": [
    "streamlines"
   ]
  },
  {
   "cell_type": "code",
   "execution_count": 10,
   "metadata": {},
   "outputs": [
    {
     "data": {
      "text/html": [
       "<table><tr><th>Header</th><th>Data Arrays</th></tr><tr><td>\n",
       "<table>\n",
       "<tr><th>PolyData</th><th>Information</th></tr>\n",
       "<tr><td>N Cells</td><td>3542</td></tr>\n",
       "<tr><td>N Points</td><td>792660</td></tr>\n",
       "<tr><td>N Strips</td><td>3542</td></tr>\n",
       "<tr><td>X Bounds</td><td>5.563e+01, 1.156e+02</td></tr>\n",
       "<tr><td>Y Bounds</td><td>5.818e+01, 9.384e+01</td></tr>\n",
       "<tr><td>Z Bounds</td><td>6.393e+01, 1.820e+02</td></tr>\n",
       "<tr><td>N Arrays</td><td>13</td></tr>\n",
       "</table>\n",
       "\n",
       "</td><td>\n",
       "<table>\n",
       "<tr><th>Name</th><th>Field</th><th>Type</th><th>N Comp</th><th>Min</th><th>Max</th></tr>\n",
       "<tr><td>node_value</td><td>Points</td><td>int32</td><td>1</td><td>0.000e+00</td><td>3.000e+00</td></tr>\n",
       "<tr><td>simerr_type</td><td>Points</td><td>int32</td><td>1</td><td>0.000e+00</td><td>3.000e+00</td></tr>\n",
       "<tr><td>density</td><td>Points</td><td>float32</td><td>1</td><td>2.218e-01</td><td>5.203e-01</td></tr>\n",
       "<tr><td><b>velocity</b></td><td>Points</td><td>float32</td><td>3</td><td>-3.399e-01</td><td>8.891e-02</td></tr>\n",
       "<tr><td>shearstress</td><td>Points</td><td>float32</td><td>1</td><td>3.559e-04</td><td>1.069e-02</td></tr>\n",
       "<tr><td>IntegrationTime</td><td>Points</td><td>float64</td><td>1</td><td>-6.249e+02</td><td>7.841e+02</td></tr>\n",
       "<tr><td>Vorticity</td><td>Points</td><td>float64</td><td>3</td><td>-6.687e-02</td><td>1.067e-01</td></tr>\n",
       "<tr><td>Rotation</td><td>Points</td><td>float64</td><td>1</td><td>-9.508e-01</td><td>1.076e+00</td></tr>\n",
       "<tr><td>AngularVelocity</td><td>Points</td><td>float64</td><td>1</td><td>-7.927e-03</td><td>1.163e-02</td></tr>\n",
       "<tr><td>Normals</td><td>Points</td><td>float64</td><td>3</td><td>-9.993e-01</td><td>9.999e-01</td></tr>\n",
       "<tr><td>TubeNormals</td><td>Points</td><td>float32</td><td>3</td><td>-1.000e+00</td><td>1.000e+00</td></tr>\n",
       "<tr><td>ReasonForTermination</td><td>Cells</td><td>int32</td><td>1</td><td>1.000e+00</td><td>5.000e+00</td></tr>\n",
       "<tr><td>SeedIds</td><td>Cells</td><td>int32</td><td>1</td><td>0.000e+00</td><td>9.900e+01</td></tr>\n",
       "</table>\n",
       "\n",
       "</td></tr> </table>"
      ],
      "text/plain": [
       "PolyData (0x1765ebdc0)\n",
       "  N Cells:    3542\n",
       "  N Points:   792660\n",
       "  N Strips:   3542\n",
       "  X Bounds:   5.563e+01, 1.156e+02\n",
       "  Y Bounds:   5.818e+01, 9.384e+01\n",
       "  Z Bounds:   6.393e+01, 1.820e+02\n",
       "  N Arrays:   13"
      ]
     },
     "execution_count": 10,
     "metadata": {},
     "output_type": "execute_result"
    }
   ],
   "source": [
    "streamlines.tube(radius=0.5)"
   ]
  },
  {
   "cell_type": "code",
   "execution_count": 11,
   "metadata": {},
   "outputs": [
    {
     "data": {
      "text/html": [
       "\n",
       "<table>\n",
       "<tr><th>PolyData</th><th>Information</th></tr>\n",
       "<tr><td>N Cells</td><td>1</td></tr>\n",
       "<tr><td>N Points</td><td>100</td></tr>\n",
       "<tr><td>N Strips</td><td>0</td></tr>\n",
       "<tr><td>X Bounds</td><td>8.389e+01, 1.013e+02</td></tr>\n",
       "<tr><td>Y Bounds</td><td>6.496e+01, 8.284e+01</td></tr>\n",
       "<tr><td>Z Bounds</td><td>1.268e+02, 1.442e+02</td></tr>\n",
       "<tr><td>N Arrays</td><td>0</td></tr>\n",
       "</table>\n",
       "\n"
      ],
      "text/plain": [
       "PolyData (0x1765eb4c0)\n",
       "  N Cells:    1\n",
       "  N Points:   100\n",
       "  N Strips:   0\n",
       "  X Bounds:   8.389e+01, 1.013e+02\n",
       "  Y Bounds:   6.496e+01, 8.284e+01\n",
       "  Z Bounds:   1.268e+02, 1.442e+02\n",
       "  N Arrays:   0"
      ]
     },
     "execution_count": 11,
     "metadata": {},
     "output_type": "execute_result"
    }
   ],
   "source": [
    "src"
   ]
  },
  {
   "cell_type": "code",
   "execution_count": 12,
   "metadata": {},
   "outputs": [
    {
     "data": {
      "text/html": [
       "\n",
       "<table>\n",
       "<tr><th>PolyData</th><th>Information</th></tr>\n",
       "<tr><td>N Cells</td><td>17980</td></tr>\n",
       "<tr><td>N Points</td><td>8991</td></tr>\n",
       "<tr><td>N Strips</td><td>0</td></tr>\n",
       "<tr><td>X Bounds</td><td>5.300e+01, 1.210e+02</td></tr>\n",
       "<tr><td>Y Bounds</td><td>5.000e+01, 9.700e+01</td></tr>\n",
       "<tr><td>Z Bounds</td><td>6.400e+01, 1.820e+02</td></tr>\n",
       "<tr><td>N Arrays</td><td>0</td></tr>\n",
       "</table>\n",
       "\n"
      ],
      "text/plain": [
       "PolyData (0x176496c20)\n",
       "  N Cells:    17980\n",
       "  N Points:   8991\n",
       "  N Strips:   0\n",
       "  X Bounds:   5.300e+01, 1.210e+02\n",
       "  Y Bounds:   5.000e+01, 9.700e+01\n",
       "  Z Bounds:   6.400e+01, 1.820e+02\n",
       "  N Arrays:   0"
      ]
     },
     "execution_count": 12,
     "metadata": {},
     "output_type": "execute_result"
    }
   ],
   "source": [
    "mesh.decimate_boundary()"
   ]
  },
  {
   "cell_type": "code",
   "execution_count": 13,
   "metadata": {},
   "outputs": [
    {
     "data": {
      "text/html": [
       "\n",
       "<table>\n",
       "<tr><th>PolyData</th><th>Information</th></tr>\n",
       "<tr><td>N Cells</td><td>26961</td></tr>\n",
       "<tr><td>N Points</td><td>8226</td></tr>\n",
       "<tr><td>N Strips</td><td>0</td></tr>\n",
       "<tr><td>X Bounds</td><td>5.300e+01, 1.210e+02</td></tr>\n",
       "<tr><td>Y Bounds</td><td>5.000e+01, 9.700e+01</td></tr>\n",
       "<tr><td>Z Bounds</td><td>6.400e+01, 1.820e+02</td></tr>\n",
       "<tr><td>N Arrays</td><td>0</td></tr>\n",
       "</table>\n",
       "\n"
      ],
      "text/plain": [
       "PolyData (0x173963520)\n",
       "  N Cells:    26961\n",
       "  N Points:   8226\n",
       "  N Strips:   0\n",
       "  X Bounds:   5.300e+01, 1.210e+02\n",
       "  Y Bounds:   5.000e+01, 9.700e+01\n",
       "  Z Bounds:   6.400e+01, 1.820e+02\n",
       "  N Arrays:   0"
      ]
     },
     "execution_count": 13,
     "metadata": {},
     "output_type": "execute_result"
    }
   ],
   "source": [
    "boundary = mesh.decimate_boundary().extract_all_edges()\n",
    "boundary"
   ]
  },
  {
   "cell_type": "code",
   "execution_count": 14,
   "metadata": {},
   "outputs": [
    {
     "data": {
      "application/vnd.jupyter.widget-view+json": {
       "model_id": "6eacb90fe4314a38ab11b07f4a1aa06f",
       "version_major": 2,
       "version_minor": 0
      },
      "text/plain": [
       "Widget(value=\"<iframe src='http://localhost:49281/index.html?ui=P_0x1764a7730_1&reconnect=auto' style='width: …"
      ]
     },
     "metadata": {},
     "output_type": "display_data"
    }
   ],
   "source": [
    "sargs = dict(vertical=True, title_font_size=16)\n",
    "p = pv.Plotter()\n",
    "p.add_mesh(streamlines.tube(radius=0.2), lighting=False, scalar_bar_args=sargs)\n",
    "p.add_mesh(src)\n",
    "p.add_mesh(boundary, color='grey', opacity=0.25)\n",
    "p.camera_position = [(10, 9.5, -43), (87.0, 73.5, 123.0), (-0.5, -0.7, 0.5)]\n",
    "p.show()"
   ]
  },
  {
   "cell_type": "code",
   "execution_count": 15,
   "metadata": {},
   "outputs": [
    {
     "data": {
      "text/html": [
       "<table><tr><th>Header</th><th>Data Arrays</th></tr><tr><td>\n",
       "<table>\n",
       "<tr><th>PolyData</th><th>Information</th></tr>\n",
       "<tr><td>N Cells</td><td>265</td></tr>\n",
       "<tr><td>N Points</td><td>304</td></tr>\n",
       "<tr><td>N Strips</td><td>0</td></tr>\n",
       "<tr><td>X Bounds</td><td>7.200e+01, 9.000e+01</td></tr>\n",
       "<tr><td>Y Bounds</td><td>5.000e+01, 7.000e+01</td></tr>\n",
       "<tr><td>Z Bounds</td><td>1.820e+02, 1.820e+02</td></tr>\n",
       "<tr><td>N Arrays</td><td>5</td></tr>\n",
       "</table>\n",
       "\n",
       "</td><td>\n",
       "<table>\n",
       "<tr><th>Name</th><th>Field</th><th>Type</th><th>N Comp</th><th>Min</th><th>Max</th></tr>\n",
       "<tr><td>node_value</td><td>Points</td><td>int32</td><td>1</td><td>0.000e+00</td><td>0.000e+00</td></tr>\n",
       "<tr><td>simerr_type</td><td>Points</td><td>int32</td><td>1</td><td>0.000e+00</td><td>3.000e+00</td></tr>\n",
       "<tr><td>density</td><td>Points</td><td>float32</td><td>1</td><td>4.303e-01</td><td>5.205e-01</td></tr>\n",
       "<tr><td><b>velocity</b></td><td>Points</td><td>float32</td><td>3</td><td>-3.526e-01</td><td>3.549e-02</td></tr>\n",
       "<tr><td>shearstress</td><td>Points</td><td>float32</td><td>1</td><td>6.160e-05</td><td>1.328e-02</td></tr>\n",
       "</table>\n",
       "\n",
       "</td></tr> </table>"
      ],
      "text/plain": [
       "PolyData (0x176598b80)\n",
       "  N Cells:    265\n",
       "  N Points:   304\n",
       "  N Strips:   0\n",
       "  X Bounds:   7.200e+01, 9.000e+01\n",
       "  Y Bounds:   5.000e+01, 7.000e+01\n",
       "  Z Bounds:   1.820e+02, 1.820e+02\n",
       "  N Arrays:   5"
      ]
     },
     "execution_count": 15,
     "metadata": {},
     "output_type": "execute_result"
    }
   ],
   "source": [
    "source_mesh = mesh.slice('z', origin=(0, 0, 182))\n",
    "source_mesh"
   ]
  },
  {
   "cell_type": "code",
   "execution_count": 16,
   "metadata": {},
   "outputs": [
    {
     "data": {
      "text/html": [
       "\n",
       "<table>\n",
       "<tr><th>PolyData</th><th>Information</th></tr>\n",
       "<tr><td>N Cells</td><td>317</td></tr>\n",
       "<tr><td>N Points</td><td>192</td></tr>\n",
       "<tr><td>N Strips</td><td>0</td></tr>\n",
       "<tr><td>X Bounds</td><td>7.200e+01, 9.000e+01</td></tr>\n",
       "<tr><td>Y Bounds</td><td>5.000e+01, 7.000e+01</td></tr>\n",
       "<tr><td>Z Bounds</td><td>1.820e+02, 1.820e+02</td></tr>\n",
       "<tr><td>N Arrays</td><td>0</td></tr>\n",
       "</table>\n",
       "\n"
      ],
      "text/plain": [
       "PolyData (0x176598be0)\n",
       "  N Cells:    317\n",
       "  N Points:   192\n",
       "  N Strips:   0\n",
       "  X Bounds:   7.200e+01, 9.000e+01\n",
       "  Y Bounds:   5.000e+01, 7.000e+01\n",
       "  Z Bounds:   1.820e+02, 1.820e+02\n",
       "  N Arrays:   0"
      ]
     },
     "execution_count": 16,
     "metadata": {},
     "output_type": "execute_result"
    }
   ],
   "source": [
    "seed_mesh = source_mesh.decimate_boundary(0.4)\n",
    "seed_mesh"
   ]
  },
  {
   "cell_type": "code",
   "execution_count": 17,
   "metadata": {},
   "outputs": [
    {
     "data": {
      "text/html": [
       "<table><tr><th>Header</th><th>Data Arrays</th></tr><tr><td>\n",
       "<table>\n",
       "<tr><th>PolyData</th><th>Information</th></tr>\n",
       "<tr><td>N Cells</td><td>136</td></tr>\n",
       "<tr><td>N Points</td><td>37936</td></tr>\n",
       "<tr><td>N Strips</td><td>0</td></tr>\n",
       "<tr><td>X Bounds</td><td>5.909e+01, 1.166e+02</td></tr>\n",
       "<tr><td>Y Bounds</td><td>5.000e+01, 9.271e+01</td></tr>\n",
       "<tr><td>Z Bounds</td><td>6.401e+01, 1.820e+02</td></tr>\n",
       "<tr><td>N Arrays</td><td>12</td></tr>\n",
       "</table>\n",
       "\n",
       "</td><td>\n",
       "<table>\n",
       "<tr><th>Name</th><th>Field</th><th>Type</th><th>N Comp</th><th>Min</th><th>Max</th></tr>\n",
       "<tr><td>node_value</td><td>Points</td><td>int32</td><td>1</td><td>0.000e+00</td><td>3.000e+00</td></tr>\n",
       "<tr><td>simerr_type</td><td>Points</td><td>int32</td><td>1</td><td>0.000e+00</td><td>3.000e+00</td></tr>\n",
       "<tr><td>density</td><td>Points</td><td>float32</td><td>1</td><td>2.218e-01</td><td>5.224e-01</td></tr>\n",
       "<tr><td><b>velocity</b></td><td>Points</td><td>float32</td><td>3</td><td>-3.457e-01</td><td>8.852e-02</td></tr>\n",
       "<tr><td>shearstress</td><td>Points</td><td>float32</td><td>1</td><td>6.160e-05</td><td>1.328e-02</td></tr>\n",
       "<tr><td>IntegrationTime</td><td>Points</td><td>float64</td><td>1</td><td>0.000e+00</td><td>8.900e+03</td></tr>\n",
       "<tr><td>Vorticity</td><td>Points</td><td>float64</td><td>3</td><td>-8.883e-02</td><td>8.638e-02</td></tr>\n",
       "<tr><td>Rotation</td><td>Points</td><td>float64</td><td>1</td><td>-6.157e-01</td><td>9.312e-01</td></tr>\n",
       "<tr><td>AngularVelocity</td><td>Points</td><td>float64</td><td>1</td><td>-9.453e-03</td><td>1.495e-02</td></tr>\n",
       "<tr><td>Normals</td><td>Points</td><td>float64</td><td>3</td><td>-9.494e-01</td><td>1.000e+00</td></tr>\n",
       "<tr><td>ReasonForTermination</td><td>Cells</td><td>int32</td><td>1</td><td>1.000e+00</td><td>5.000e+00</td></tr>\n",
       "<tr><td>SeedIds</td><td>Cells</td><td>int32</td><td>1</td><td>1.100e+01</td><td>1.820e+02</td></tr>\n",
       "</table>\n",
       "\n",
       "</td></tr> </table>"
      ],
      "text/plain": [
       "PolyData (0x176599b40)\n",
       "  N Cells:    136\n",
       "  N Points:   37936\n",
       "  N Strips:   0\n",
       "  X Bounds:   5.909e+01, 1.166e+02\n",
       "  Y Bounds:   5.000e+01, 9.271e+01\n",
       "  Z Bounds:   6.401e+01, 1.820e+02\n",
       "  N Arrays:   12"
      ]
     },
     "execution_count": 17,
     "metadata": {},
     "output_type": "execute_result"
    }
   ],
   "source": [
    "streamlines = mesh.streamlines_from_source(seed_mesh, integration_direction='forward')\n",
    "streamlines"
   ]
  },
  {
   "cell_type": "code",
   "execution_count": 18,
   "metadata": {},
   "outputs": [
    {
     "name": "stdout",
     "output_type": "stream",
     "text": [
      "['IntegrationTime', 'Vorticity', 'Rotation', 'AngularVelocity', 'Normals', 'ReasonForTermination', 'SeedIds']\n"
     ]
    }
   ],
   "source": [
    "print([array_name for array_name in streamlines.array_names if array_name not in mesh.array_names])"
   ]
  },
  {
   "cell_type": "code",
   "execution_count": 19,
   "metadata": {},
   "outputs": [
    {
     "data": {
      "application/vnd.jupyter.widget-view+json": {
       "model_id": "7ea6645c08434f268ad803e11ac09bb5",
       "version_major": 2,
       "version_minor": 0
      },
      "text/plain": [
       "Widget(value=\"<iframe src='http://localhost:49281/index.html?ui=P_0x17e8e2e60_2&reconnect=auto' style='width: …"
      ]
     },
     "metadata": {},
     "output_type": "display_data"
    }
   ],
   "source": [
    "sargs = dict(vertical=True, title_font_size=16)\n",
    "p = pv.Plotter()\n",
    "p.add_mesh(\n",
    "    streamlines.tube(radius=0.2),\n",
    "    scalars=\"IntegrationTime\",\n",
    "    clim=[0, 1000],\n",
    "    lighting=False,\n",
    "    scalar_bar_args=sargs,\n",
    ")\n",
    "p.add_mesh(boundary, color='grey', opacity=0.25)\n",
    "p.add_mesh(source_mesh, color='red')\n",
    "p.camera_position = [(10, 9.5, -43), (87.0, 73.5, 123.0), (-0.5, -0.7, 0.5)]\n",
    "p.show()"
   ]
  },
  {
   "cell_type": "code",
   "execution_count": 20,
   "metadata": {},
   "outputs": [
    {
     "data": {
      "text/html": [
       "<table><tr><th>Header</th><th>Data Arrays</th></tr><tr><td>\n",
       "<table>\n",
       "<tr><th>StructuredGrid</th><th>Information</th></tr>\n",
       "<tr><td>N Cells</td><td>9936</td></tr>\n",
       "<tr><td>N Points</td><td>11424</td></tr>\n",
       "<tr><td>X Bounds</td><td>1.000e-02, 7.000e+00</td></tr>\n",
       "<tr><td>Y Bounds</td><td>1.000e-02, 5.000e+00</td></tr>\n",
       "<tr><td>Z Bounds</td><td>1.000e-02, 2.500e+00</td></tr>\n",
       "<tr><td>Dimensions</td><td>28, 24, 17</td></tr>\n",
       "<tr><td>N Arrays</td><td>20</td></tr>\n",
       "</table>\n",
       "\n",
       "</td><td>\n",
       "<table>\n",
       "<tr><th>Name</th><th>Field</th><th>Type</th><th>N Comp</th><th>Min</th><th>Max</th></tr>\n",
       "<tr><td>velocity</td><td>Points</td><td>float32</td><td>3</td><td>-4.507e-01</td><td>3.154e-01</td></tr>\n",
       "<tr><td><b>p1</b></td><td>Points</td><td>float32</td><td>1</td><td>-3.404e-02</td><td>1.870e-01</td></tr>\n",
       "<tr><td>u1</td><td>Points</td><td>float32</td><td>1</td><td>-3.494e-01</td><td>2.652e-01</td></tr>\n",
       "<tr><td>v1</td><td>Points</td><td>float32</td><td>1</td><td>-3.141e-01</td><td>3.154e-01</td></tr>\n",
       "<tr><td>w1</td><td>Points</td><td>float32</td><td>1</td><td>-4.507e-01</td><td>2.865e-01</td></tr>\n",
       "<tr><td>ke</td><td>Points</td><td>float32</td><td>1</td><td>1.000e-10</td><td>3.133e-02</td></tr>\n",
       "<tr><td>ep</td><td>Points</td><td>float32</td><td>1</td><td>1.000e-10</td><td>1.709e-02</td></tr>\n",
       "<tr><td>h1</td><td>Points</td><td>float32</td><td>1</td><td>1.000e-20</td><td>2.682e+04</td></tr>\n",
       "<tr><td>c1</td><td>Points</td><td>float32</td><td>1</td><td>-2.333e-06</td><td>2.082e-01</td></tr>\n",
       "<tr><td>c11</td><td>Points</td><td>float32</td><td>1</td><td>2.462e-04</td><td>1.000e+00</td></tr>\n",
       "<tr><td>c12</td><td>Points</td><td>float32</td><td>1</td><td>1.000e+00</td><td>8.380e+06</td></tr>\n",
       "<tr><td>c13</td><td>Points</td><td>float32</td><td>1</td><td>0.000e+00</td><td>1.000e+00</td></tr>\n",
       "<tr><td>c14</td><td>Points</td><td>float32</td><td>1</td><td>1.257e-13</td><td>9.176e+03</td></tr>\n",
       "<tr><td>c15</td><td>Points</td><td>float32</td><td>1</td><td>0.000e+00</td><td>4.523e-01</td></tr>\n",
       "<tr><td>c16</td><td>Points</td><td>float32</td><td>1</td><td>3.958e-03</td><td>5.006e+02</td></tr>\n",
       "<tr><td>c17</td><td>Points</td><td>float32</td><td>1</td><td>0.000e+00</td><td>5.486e+01</td></tr>\n",
       "<tr><td>hpor</td><td>Points</td><td>int8</td><td>1</td><td>0.000e+00</td><td>1.000e+00</td></tr>\n",
       "<tr><td>npor</td><td>Points</td><td>int8</td><td>1</td><td>0.000e+00</td><td>1.000e+00</td></tr>\n",
       "<tr><td>epor</td><td>Points</td><td>int8</td><td>1</td><td>0.000e+00</td><td>1.000e+00</td></tr>\n",
       "<tr><td>vpor</td><td>Points</td><td>int8</td><td>1</td><td>0.000e+00</td><td>1.000e+00</td></tr>\n",
       "</table>\n",
       "\n",
       "</td></tr> </table>"
      ],
      "text/plain": [
       "StructuredGrid (0x17659ab00)\n",
       "  N Cells:      9936\n",
       "  N Points:     11424\n",
       "  X Bounds:     1.000e-02, 7.000e+00\n",
       "  Y Bounds:     1.000e-02, 5.000e+00\n",
       "  Z Bounds:     1.000e-02, 2.500e+00\n",
       "  Dimensions:   28, 24, 17\n",
       "  N Arrays:     20"
      ]
     },
     "execution_count": 20,
     "metadata": {},
     "output_type": "execute_result"
    }
   ],
   "source": [
    "mesh = examples.download_kitchen()\n",
    "mesh"
   ]
  },
  {
   "cell_type": "code",
   "execution_count": 21,
   "metadata": {},
   "outputs": [
    {
     "data": {
      "text/html": [
       "<table><tr><th>Information</th><th>Blocks</th></tr><tr><td>\n",
       "<table>\n",
       "<tr><th>MultiBlock</th><th>Values</th></tr>\n",
       "<tr><td>N Blocks</td><td>17</td></tr>\n",
       "<tr><td>X Bounds</td><td>0.010, 7.000</td></tr>\n",
       "<tr><td>Y Bounds</td><td>0.010, 5.000</td></tr>\n",
       "<tr><td>Z Bounds</td><td>0.010, 2.500</td></tr>\n",
       "</table>\n",
       "\n",
       "</td><td>\n",
       "<table>\n",
       "<tr><th>Index</th><th>Name</th><th>Type</th></tr>\n",
       "<tr><th>0</th><th>door</th><th>PolyData</th></tr>\n",
       "<tr><th>1</th><th>window1</th><th>PolyData</th></tr>\n",
       "<tr><th>2</th><th>window2</th><th>PolyData</th></tr>\n",
       "<tr><th>3</th><th>klower1</th><th>PolyData</th></tr>\n",
       "<tr><th>4</th><th>klower2</th><th>PolyData</th></tr>\n",
       "<tr><th>5</th><th>klower3</th><th>PolyData</th></tr>\n",
       "<tr><th>6</th><th>klower4</th><th>PolyData</th></tr>\n",
       "<tr><th>7</th><th>klower5</th><th>PolyData</th></tr>\n",
       "<tr><th>8</th><th>klower6</th><th>PolyData</th></tr>\n",
       "<tr><th>9</th><th>klower7</th><th>PolyData</th></tr>\n",
       "<tr><th>10</th><th>hood1</th><th>PolyData</th></tr>\n",
       "<tr><th>11</th><th>hood2</th><th>PolyData</th></tr>\n",
       "<tr><th>12</th><th>hood3</th><th>PolyData</th></tr>\n",
       "<tr><th>13</th><th>hood4</th><th>PolyData</th></tr>\n",
       "<tr><th>14</th><th>hood5</th><th>PolyData</th></tr>\n",
       "<tr><th>15</th><th>cookingPlate</th><th>PolyData</th></tr>\n",
       "<tr><th>16</th><th>furniture</th><th>PolyData</th></tr>\n",
       "</table>\n",
       "\n",
       "</td></tr> </table>"
      ],
      "text/plain": [
       "MultiBlock (0x1764968c0)\n",
       "  N Blocks:\t17\n",
       "  X Bounds:\t0.010, 7.000\n",
       "  Y Bounds:\t0.010, 5.000\n",
       "  Z Bounds:\t0.010, 2.500"
      ]
     },
     "execution_count": 21,
     "metadata": {},
     "output_type": "execute_result"
    }
   ],
   "source": [
    "kitchen = examples.download_kitchen(split=True)\n",
    "kitchen"
   ]
  },
  {
   "cell_type": "code",
   "execution_count": 22,
   "metadata": {},
   "outputs": [
    {
     "data": {
      "text/html": [
       "<table><tr><th>Header</th><th>Data Arrays</th></tr><tr><td>\n",
       "<table>\n",
       "<tr><th>PolyData</th><th>Information</th></tr>\n",
       "<tr><td>N Cells</td><td>52</td></tr>\n",
       "<tr><td>N Points</td><td>49639</td></tr>\n",
       "<tr><td>N Strips</td><td>0</td></tr>\n",
       "<tr><td>X Bounds</td><td>1.112e-02, 7.000e+00</td></tr>\n",
       "<tr><td>Y Bounds</td><td>1.359e-02, 5.000e+00</td></tr>\n",
       "<tr><td>Z Bounds</td><td>1.315e-02, 2.500e+00</td></tr>\n",
       "<tr><td>N Arrays</td><td>27</td></tr>\n",
       "</table>\n",
       "\n",
       "</td><td>\n",
       "<table>\n",
       "<tr><th>Name</th><th>Field</th><th>Type</th><th>N Comp</th><th>Min</th><th>Max</th></tr>\n",
       "<tr><td>velocity</td><td>Points</td><td>float32</td><td>3</td><td>-2.817e-01</td><td>2.747e-01</td></tr>\n",
       "<tr><td><b>p1</b></td><td>Points</td><td>float32</td><td>1</td><td>-3.111e-02</td><td>1.217e-01</td></tr>\n",
       "<tr><td>u1</td><td>Points</td><td>float32</td><td>1</td><td>-2.817e-01</td><td>1.965e-01</td></tr>\n",
       "<tr><td>v1</td><td>Points</td><td>float32</td><td>1</td><td>-2.518e-01</td><td>1.480e-01</td></tr>\n",
       "<tr><td>w1</td><td>Points</td><td>float32</td><td>1</td><td>-2.569e-01</td><td>2.747e-01</td></tr>\n",
       "<tr><td>ke</td><td>Points</td><td>float32</td><td>1</td><td>1.000e-10</td><td>2.946e-02</td></tr>\n",
       "<tr><td>ep</td><td>Points</td><td>float32</td><td>1</td><td>1.000e-10</td><td>8.786e-03</td></tr>\n",
       "<tr><td>h1</td><td>Points</td><td>float32</td><td>1</td><td>1.000e-20</td><td>2.611e+04</td></tr>\n",
       "<tr><td>c1</td><td>Points</td><td>float32</td><td>1</td><td>8.128e-17</td><td>1.949e-01</td></tr>\n",
       "<tr><td>c11</td><td>Points</td><td>float32</td><td>1</td><td>2.637e-02</td><td>1.000e+00</td></tr>\n",
       "<tr><td>c12</td><td>Points</td><td>float32</td><td>1</td><td>1.000e+00</td><td>1.547e+02</td></tr>\n",
       "<tr><td>c13</td><td>Points</td><td>float32</td><td>1</td><td>0.000e+00</td><td>1.000e+00</td></tr>\n",
       "<tr><td>c14</td><td>Points</td><td>float32</td><td>1</td><td>1.586e-13</td><td>8.635e+03</td></tr>\n",
       "<tr><td>c15</td><td>Points</td><td>float32</td><td>1</td><td>4.733e-18</td><td>2.872e-01</td></tr>\n",
       "<tr><td>c16</td><td>Points</td><td>float32</td><td>1</td><td>5.531e-03</td><td>4.708e+02</td></tr>\n",
       "<tr><td>c17</td><td>Points</td><td>float32</td><td>1</td><td>0.000e+00</td><td>3.121e+01</td></tr>\n",
       "<tr><td>hpor</td><td>Points</td><td>int8</td><td>1</td><td>0.000e+00</td><td>1.000e+00</td></tr>\n",
       "<tr><td>npor</td><td>Points</td><td>int8</td><td>1</td><td>0.000e+00</td><td>1.000e+00</td></tr>\n",
       "<tr><td>epor</td><td>Points</td><td>int8</td><td>1</td><td>0.000e+00</td><td>1.000e+00</td></tr>\n",
       "<tr><td>vpor</td><td>Points</td><td>int8</td><td>1</td><td>0.000e+00</td><td>1.000e+00</td></tr>\n",
       "<tr><td>IntegrationTime</td><td>Points</td><td>float64</td><td>1</td><td>-2.934e+11</td><td>2.356e+04</td></tr>\n",
       "<tr><td>Vorticity</td><td>Points</td><td>float64</td><td>3</td><td>-2.107e+01</td><td>1.062e+01</td></tr>\n",
       "<tr><td>Rotation</td><td>Points</td><td>float64</td><td>1</td><td>-6.516e+08</td><td>2.450e+02</td></tr>\n",
       "<tr><td>AngularVelocity</td><td>Points</td><td>float64</td><td>1</td><td>-1.517e+01</td><td>1.476e+01</td></tr>\n",
       "<tr><td>Normals</td><td>Points</td><td>float64</td><td>3</td><td>-1.000e+00</td><td>1.000e+00</td></tr>\n",
       "<tr><td>ReasonForTermination</td><td>Cells</td><td>int32</td><td>1</td><td>1.000e+00</td><td>6.000e+00</td></tr>\n",
       "<tr><td>SeedIds</td><td>Cells</td><td>int32</td><td>1</td><td>0.000e+00</td><td>3.800e+01</td></tr>\n",
       "</table>\n",
       "\n",
       "</td></tr> </table>"
      ],
      "text/plain": [
       "PolyData (0x17e01c040)\n",
       "  N Cells:    52\n",
       "  N Points:   49639\n",
       "  N Strips:   0\n",
       "  X Bounds:   1.112e-02, 7.000e+00\n",
       "  Y Bounds:   1.359e-02, 5.000e+00\n",
       "  Z Bounds:   1.315e-02, 2.500e+00\n",
       "  N Arrays:   27"
      ]
     },
     "execution_count": 22,
     "metadata": {},
     "output_type": "execute_result"
    }
   ],
   "source": [
    "streamlines = mesh.streamlines(n_points=40, source_center=(0.08, 3, 0.71))\n",
    "streamlines"
   ]
  },
  {
   "cell_type": "code",
   "execution_count": 23,
   "metadata": {},
   "outputs": [
    {
     "data": {
      "text/plain": [
       "pyvista_ndarray([[-1.4096483e-02, -1.5644940e-02,  1.6719716e-03],\n",
       "                 [-1.2170624e-02, -1.6273096e-02, -9.2395246e-03],\n",
       "                 [-1.0324764e-02, -1.6675537e-02, -2.0213963e-02],\n",
       "                 ...,\n",
       "                 [ 1.4875431e-03,  1.3280596e-03,  3.0307382e-04],\n",
       "                 [ 6.5231143e-04,  5.8222271e-04,  1.3563887e-04],\n",
       "                 [ 4.7330472e-18,  0.0000000e+00,  0.0000000e+00]],\n",
       "                dtype=float32)"
      ]
     },
     "execution_count": 23,
     "metadata": {},
     "output_type": "execute_result"
    }
   ],
   "source": [
    "streamlines['velocity']"
   ]
  },
  {
   "cell_type": "code",
   "execution_count": 24,
   "metadata": {},
   "outputs": [
    {
     "data": {
      "application/vnd.jupyter.widget-view+json": {
       "model_id": "56cbe804513943329a0a38e19c941e73",
       "version_major": 2,
       "version_minor": 0
      },
      "text/plain": [
       "Widget(value=\"<iframe src='http://localhost:49281/index.html?ui=P_0x176582650_3&reconnect=auto' style='width: …"
      ]
     },
     "metadata": {},
     "output_type": "display_data"
    }
   ],
   "source": [
    "kpos = [(-6.68, 11.9, 11.6), (3.5, 2.5, 1.26), (0.45, -0.4, 0.8)]\n",
    "\n",
    "p = pv.Plotter()\n",
    "p.add_mesh(mesh.outline(), color='k')\n",
    "p.add_mesh(kitchen, color=True)\n",
    "p.add_mesh(streamlines.tube(radius=0.01), scalars='velocity', lighting=False)\n",
    "p.camera_position = kpos\n",
    "p.show()"
   ]
  },
  {
   "cell_type": "code",
   "execution_count": 26,
   "metadata": {},
   "outputs": [
    {
     "data": {
      "text/html": [
       "\n",
       "<table>\n",
       "<tr><th>UniformGrid</th><th>Information</th></tr>\n",
       "<tr><td>N Cells</td><td>1064</td></tr>\n",
       "<tr><td>N Points</td><td>1500</td></tr>\n",
       "<tr><td>X Bounds</td><td>-9.500e-01, 9.500e-01</td></tr>\n",
       "<tr><td>Y Bounds</td><td>-7.000e-01, 7.000e-01</td></tr>\n",
       "<tr><td>Z Bounds</td><td>-2.000e-01, 2.000e-01</td></tr>\n",
       "<tr><td>Dimensions</td><td>20, 15, 5</td></tr>\n",
       "<tr><td>Spacing</td><td>1.000e-01, 1.000e-01, 1.000e-01</td></tr>\n",
       "<tr><td>N Arrays</td><td>0</td></tr>\n",
       "</table>\n",
       "\n"
      ],
      "text/plain": [
       "UniformGrid (0x17e01e620)\n",
       "  N Cells:      1064\n",
       "  N Points:     1500\n",
       "  X Bounds:     -9.500e-01, 9.500e-01\n",
       "  Y Bounds:     -7.000e-01, 7.000e-01\n",
       "  Z Bounds:     -2.000e-01, 2.000e-01\n",
       "  Dimensions:   20, 15, 5\n",
       "  Spacing:      1.000e-01, 1.000e-01, 1.000e-01\n",
       "  N Arrays:     0"
      ]
     },
     "execution_count": 26,
     "metadata": {},
     "output_type": "execute_result"
    }
   ],
   "source": [
    "nx = 20\n",
    "ny = 15\n",
    "nz = 5\n",
    "\n",
    "origin = (-(nx - 1) * 0.1 / 2, -(ny - 1) * 0.1 / 2, -(nz - 1) * 0.1 / 2)\n",
    "mesh = pv.UniformGrid(dimensions=(nx, ny, nz), spacing=(0.1, 0.1, 0.1), origin=origin)\n",
    "mesh"
   ]
  },
  {
   "cell_type": "code",
   "execution_count": 47,
   "metadata": {},
   "outputs": [
    {
     "data": {
      "text/html": [
       "<table><tr><th>Header</th><th>Data Arrays</th></tr><tr><td>\n",
       "<table>\n",
       "<tr><th>UnstructuredGrid</th><th>Information</th></tr>\n",
       "<tr><td>N Cells</td><td>1</td></tr>\n",
       "<tr><td>N Points</td><td>8</td></tr>\n",
       "<tr><td>X Bounds</td><td>-9.500e-01, -8.500e-01</td></tr>\n",
       "<tr><td>Y Bounds</td><td>-7.000e-01, -6.000e-01</td></tr>\n",
       "<tr><td>Z Bounds</td><td>-2.000e-01, -1.000e-01</td></tr>\n",
       "<tr><td>N Arrays</td><td>2</td></tr>\n",
       "</table>\n",
       "\n",
       "</td><td>\n",
       "<table>\n",
       "<tr><th>Name</th><th>Field</th><th>Type</th><th>N Comp</th><th>Min</th><th>Max</th></tr>\n",
       "<tr><td>vtkOriginalPointIds</td><td>Points</td><td>int64</td><td>1</td><td>0.000e+00</td><td>3.210e+02</td></tr>\n",
       "<tr><td>vtkOriginalCellIds</td><td>Cells</td><td>int64</td><td>1</td><td>0.000e+00</td><td>0.000e+00</td></tr>\n",
       "</table>\n",
       "\n",
       "</td></tr> </table>"
      ],
      "text/plain": [
       "UnstructuredGrid (0x2daf049a0)\n",
       "  N Cells:    1\n",
       "  N Points:   8\n",
       "  X Bounds:   -9.500e-01, -8.500e-01\n",
       "  Y Bounds:   -7.000e-01, -6.000e-01\n",
       "  Z Bounds:   -2.000e-01, -1.000e-01\n",
       "  N Arrays:   2"
      ]
     },
     "execution_count": 47,
     "metadata": {},
     "output_type": "execute_result"
    }
   ],
   "source": []
  },
  {
   "cell_type": "code",
   "execution_count": 53,
   "metadata": {},
   "outputs": [
    {
     "data": {
      "application/vnd.jupyter.widget-view+json": {
       "model_id": "f2f8065a5b024629b12ca54c5dcb092e",
       "version_major": 2,
       "version_minor": 0
      },
      "text/plain": [
       "Widget(value=\"<iframe src='http://localhost:49281/index.html?ui=P_0x2dfd3a200_11&reconnect=auto' style='width:…"
      ]
     },
     "metadata": {},
     "output_type": "display_data"
    }
   ],
   "source": [
    "p = pv.Plotter()\n",
    "p.add_mesh(mesh.outline())\n",
    "p.add_mesh(mesh.points)\n",
    "p.add_mesh(mesh.extract_cells(0))\n",
    "p.add_mesh(mesh.extract_all_edges())\n",
    "p.show()"
   ]
  },
  {
   "cell_type": "code",
   "execution_count": 30,
   "metadata": {},
   "outputs": [
    {
     "data": {
      "text/plain": [
       "array([[-0.95, -0.7 , -0.2 ],\n",
       "       [-0.85, -0.7 , -0.2 ],\n",
       "       [-0.75, -0.7 , -0.2 ],\n",
       "       ...,\n",
       "       [ 0.75,  0.7 ,  0.2 ],\n",
       "       [ 0.85,  0.7 ,  0.2 ],\n",
       "       [ 0.95,  0.7 ,  0.2 ]])"
      ]
     },
     "execution_count": 30,
     "metadata": {},
     "output_type": "execute_result"
    }
   ],
   "source": [
    "mesh.points"
   ]
  },
  {
   "cell_type": "code",
   "execution_count": 39,
   "metadata": {},
   "outputs": [],
   "source": [
    "x = mesh.points[:, 0]\n",
    "y = mesh.points[:, 1]\n",
    "z = mesh.points[:, 2]"
   ]
  },
  {
   "cell_type": "code",
   "execution_count": 42,
   "metadata": {},
   "outputs": [],
   "source": [
    "vectors = np.empty((mesh.n_points, 3))\n",
    "vectors[:, 0] = np.sin(np.pi * x) * np.cos(np.pi * y) * np.cos(np.pi * z)\n",
    "vectors[:, 1] = -np.cos(np.pi * x) * np.sin(np.pi * y) * np.cos(np.pi * z)\n",
    "vectors[:, 2] = np.sqrt(3.0 / 3.0) * np.cos(np.pi * x) * np.cos(np.pi * y) * np.sin(np.pi * z)"
   ]
  },
  {
   "cell_type": "code",
   "execution_count": 54,
   "metadata": {},
   "outputs": [],
   "source": [
    "mesh['vectors'] = vectors"
   ]
  },
  {
   "cell_type": "code",
   "execution_count": 55,
   "metadata": {},
   "outputs": [
    {
     "data": {
      "text/html": [
       "<table><tr><th>Header</th><th>Data Arrays</th></tr><tr><td>\n",
       "<table>\n",
       "<tr><th>UniformGrid</th><th>Information</th></tr>\n",
       "<tr><td>N Cells</td><td>1064</td></tr>\n",
       "<tr><td>N Points</td><td>1500</td></tr>\n",
       "<tr><td>X Bounds</td><td>-9.500e-01, 9.500e-01</td></tr>\n",
       "<tr><td>Y Bounds</td><td>-7.000e-01, 7.000e-01</td></tr>\n",
       "<tr><td>Z Bounds</td><td>-2.000e-01, 2.000e-01</td></tr>\n",
       "<tr><td>Dimensions</td><td>20, 15, 5</td></tr>\n",
       "<tr><td>Spacing</td><td>1.000e-01, 1.000e-01, 1.000e-01</td></tr>\n",
       "<tr><td>N Arrays</td><td>3</td></tr>\n",
       "</table>\n",
       "\n",
       "</td><td>\n",
       "<table>\n",
       "<tr><th>Name</th><th>Field</th><th>Type</th><th>N Comp</th><th>Min</th><th>Max</th></tr>\n",
       "<tr><td>vtkOriginalPointIds</td><td>Points</td><td>int64</td><td>1</td><td>0.000e+00</td><td>1.499e+03</td></tr>\n",
       "<tr><td><b>vectors</b></td><td>Points</td><td>float64</td><td>3</td><td>-9.877e-01</td><td>9.877e-01</td></tr>\n",
       "<tr><td>vtkOriginalCellIds</td><td>Cells</td><td>int64</td><td>1</td><td>0.000e+00</td><td>1.063e+03</td></tr>\n",
       "</table>\n",
       "\n",
       "</td></tr> </table>"
      ],
      "text/plain": [
       "UniformGrid (0x17e01e620)\n",
       "  N Cells:      1064\n",
       "  N Points:     1500\n",
       "  X Bounds:     -9.500e-01, 9.500e-01\n",
       "  Y Bounds:     -7.000e-01, 7.000e-01\n",
       "  Z Bounds:     -2.000e-01, 2.000e-01\n",
       "  Dimensions:   20, 15, 5\n",
       "  Spacing:      1.000e-01, 1.000e-01, 1.000e-01\n",
       "  N Arrays:     3"
      ]
     },
     "execution_count": 55,
     "metadata": {},
     "output_type": "execute_result"
    }
   ],
   "source": [
    "mesh"
   ]
  },
  {
   "cell_type": "code",
   "execution_count": 56,
   "metadata": {},
   "outputs": [],
   "source": [
    "stream, src = mesh.streamlines(\n",
    "    vectors='vectors', return_source=True, terminal_speed=0.0, n_points=200, source_radius=0.1\n",
    ")"
   ]
  },
  {
   "cell_type": "code",
   "execution_count": 57,
   "metadata": {},
   "outputs": [
    {
     "data": {
      "application/vnd.jupyter.widget-view+json": {
       "model_id": "bd61b0b3504e4fe6b2dd39b8576b0239",
       "version_major": 2,
       "version_minor": 0
      },
      "text/plain": [
       "Widget(value=\"<iframe src='http://localhost:49281/index.html?ui=P_0x2dfd3aad0_12&reconnect=auto' style='width:…"
      ]
     },
     "metadata": {},
     "output_type": "display_data"
    }
   ],
   "source": [
    "cpos = [(1.2, 1.2, 1.2), (-0.0, -0.0, -0.0), (0.0, 0.0, 1.0)]\n",
    "stream.tube(radius=0.0015).plot(cpos=cpos)"
   ]
  },
  {
   "cell_type": "code",
   "execution_count": null,
   "metadata": {},
   "outputs": [],
   "source": []
  }
 ],
 "metadata": {
  "kernelspec": {
   "display_name": "base",
   "language": "python",
   "name": "python3"
  },
  "language_info": {
   "codemirror_mode": {
    "name": "ipython",
    "version": 3
   },
   "file_extension": ".py",
   "mimetype": "text/x-python",
   "name": "python",
   "nbconvert_exporter": "python",
   "pygments_lexer": "ipython3",
   "version": "3.10.10"
  },
  "orig_nbformat": 4
 },
 "nbformat": 4,
 "nbformat_minor": 2
}
